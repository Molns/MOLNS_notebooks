{
 "metadata": {
  "name": "",
  "signature": "sha256:ed8f8d4bc22584512dac9fb563a3ba3c6984cb1fb2d84c1251e77426eb263e7d"
 },
 "nbformat": 3,
 "nbformat_minor": 0,
 "worksheets": [
  {
   "cells": [
    {
     "cell_type": "code",
     "collapsed": false,
     "input": [
      "import IPython.parallel\n",
      "from molnsutil import DistributedEnsemble\n",
      "rc = IPython.parallel.Client()\n",
      "import pyurdme\n",
      "print \"Number of engines: {0}\".format(len(rc.ids))"
     ],
     "language": "python",
     "metadata": {},
     "outputs": [
      {
       "output_type": "stream",
       "stream": "stderr",
       "text": [
        "DEBUG:Cloud:Log file (/home/ubuntu/.picloud/cloud.log) opened\n"
       ]
      },
      {
       "output_type": "stream",
       "stream": "stdout",
       "text": [
        "Number of engines: 6\n"
       ]
      }
     ],
     "prompt_number": 1
    },
    {
     "cell_type": "code",
     "collapsed": false,
     "input": [
      "import pyurdme\n",
      "class SimpleDiffusion(pyurdme.URDMEModel):\n",
      "    \"\"\" This simple Hello World model consists of a single\n",
      "        species diffusing on a unit square. The initial \n",
      "        condition is a delta function on the voxel closest \n",
      "        to the center of the grid, i.e. the probability \n",
      "        to find an A molecule in origo at time t=0 is one. \n",
      "    \"\"\"\n",
      "    \n",
      "    def __init__(self, N=1000, timespan=None):\n",
      "        \n",
      "        pyurdme.URDMEModel.__init__(self,name=\"simple_diffusion\")\n",
      "\n",
      "        A = pyurdme.Species(name=\"A\",diffusion_constant=0.01,dimension=2)\n",
      "\n",
      "        self.add_species([A])\n",
      "\n",
      "        # A unit square mesh\n",
      "        self.mesh = pyurdme.URDMEMesh.generate_unit_square_mesh(40,40)\n",
      "                \n",
      "        # Place the A molecules in the voxel nearest the center of the square\n",
      "        self.set_initial_condition_place_near({A:N},point=[0.5,0.5])\n",
      "        \n",
      "        # Set the time frame for the study to [0,1], with results reported each 1e-3 seconds. \n",
      "        if timespan is None:\n",
      "            self.timespan(numpy.linspace(0,1,1001))\n",
      "        else:\n",
      "            self.timespan(timespan)"
     ],
     "language": "python",
     "metadata": {},
     "outputs": [],
     "prompt_number": 10
    },
    {
     "cell_type": "heading",
     "level": 2,
     "metadata": {},
     "source": [
      "Benchmark performance by varying tspan"
     ]
    },
    {
     "cell_type": "heading",
     "level": 3,
     "metadata": {},
     "source": [
      "1. Vary End-time, Keep num-timepoints constant: data size is constant, computation time varies, Slope shows serialization overhead."
     ]
    },
    {
     "cell_type": "code",
     "collapsed": false,
     "input": [
      "end_times = [100,200,300,400,500]\n",
      "num_timepoints = 101\n",
      "bm1_wall_time = []\n",
      "for tf in end_times:\n",
      "    ts = numpy.linspace(0,tf,num_timepoints)\n",
      "    ensemble = DistributedEnsemble(model_class=SimpleDiffusion, parameters={'timespan':ts})\n",
      "    res  = ensemble.add_realizations(number_of_realizations=100, chunk_size=1)\n",
      "    bm1_wall_time.append(res[\"wall_time\"])\n",
      "print bm1_wall_time\n"
     ],
     "language": "python",
     "metadata": {},
     "outputs": [
      {
       "output_type": "stream",
       "stream": "stdout",
       "text": [
        "Generating 100 realizations of the model (chunk size=1)\n"
       ]
      },
      {
       "html": [
        "\n",
        "                          <div style=\"border: 1px solid black; width:500px\">\n",
        "                          <div id=\"515c03f0-87d8-4bee-a217-933d1c5ef7e8\" style=\"background-color:blue; width:0%\">&nbsp;</div>\n",
        "                          </div>\n",
        "                          "
       ],
       "metadata": {},
       "output_type": "display_data",
       "text": [
        "<IPython.core.display.HTML at 0x7f78c9fc7c90>"
       ]
      },
      {
       "javascript": [
        "$('div#515c03f0-87d8-4bee-a217-933d1c5ef7e8').width('1.000000%')"
       ],
       "metadata": {},
       "output_type": "display_data",
       "text": [
        "<IPython.core.display.Javascript at 0x7f78c8724890>"
       ]
      },
      {
       "javascript": [
        "$('div#515c03f0-87d8-4bee-a217-933d1c5ef7e8').width('2.000000%')"
       ],
       "metadata": {},
       "output_type": "display_data",
       "text": [
        "<IPython.core.display.Javascript at 0x7f78c8724790>"
       ]
      },
      {
       "javascript": [
        "$('div#515c03f0-87d8-4bee-a217-933d1c5ef7e8').width('3.000000%')"
       ],
       "metadata": {},
       "output_type": "display_data",
       "text": [
        "<IPython.core.display.Javascript at 0x7f78c8724b10>"
       ]
      },
      {
       "javascript": [
        "$('div#515c03f0-87d8-4bee-a217-933d1c5ef7e8').width('4.000000%')"
       ],
       "metadata": {},
       "output_type": "display_data",
       "text": [
        "<IPython.core.display.Javascript at 0x7f78c8724990>"
       ]
      },
      {
       "javascript": [
        "$('div#515c03f0-87d8-4bee-a217-933d1c5ef7e8').width('5.000000%')"
       ],
       "metadata": {},
       "output_type": "display_data",
       "text": [
        "<IPython.core.display.Javascript at 0x7f78c87240d0>"
       ]
      },
      {
       "javascript": [
        "$('div#515c03f0-87d8-4bee-a217-933d1c5ef7e8').width('6.000000%')"
       ],
       "metadata": {},
       "output_type": "display_data",
       "text": [
        "<IPython.core.display.Javascript at 0x7f78c8724ad0>"
       ]
      },
      {
       "javascript": [
        "$('div#515c03f0-87d8-4bee-a217-933d1c5ef7e8').width('7.000000%')"
       ],
       "metadata": {},
       "output_type": "display_data",
       "text": [
        "<IPython.core.display.Javascript at 0x7f78c8724a90>"
       ]
      },
      {
       "javascript": [
        "$('div#515c03f0-87d8-4bee-a217-933d1c5ef7e8').width('8.000000%')"
       ],
       "metadata": {},
       "output_type": "display_data",
       "text": [
        "<IPython.core.display.Javascript at 0x7f78c8724b90>"
       ]
      },
      {
       "javascript": [
        "$('div#515c03f0-87d8-4bee-a217-933d1c5ef7e8').width('9.000000%')"
       ],
       "metadata": {},
       "output_type": "display_data",
       "text": [
        "<IPython.core.display.Javascript at 0x7f78c8724750>"
       ]
      },
      {
       "javascript": [
        "$('div#515c03f0-87d8-4bee-a217-933d1c5ef7e8').width('10.000000%')"
       ],
       "metadata": {},
       "output_type": "display_data",
       "text": [
        "<IPython.core.display.Javascript at 0x7f78c8724950>"
       ]
      },
      {
       "javascript": [
        "$('div#515c03f0-87d8-4bee-a217-933d1c5ef7e8').width('11.000000%')"
       ],
       "metadata": {},
       "output_type": "display_data",
       "text": [
        "<IPython.core.display.Javascript at 0x7f78c87245d0>"
       ]
      },
      {
       "javascript": [
        "$('div#515c03f0-87d8-4bee-a217-933d1c5ef7e8').width('12.000000%')"
       ],
       "metadata": {},
       "output_type": "display_data",
       "text": [
        "<IPython.core.display.Javascript at 0x7f78c8724550>"
       ]
      },
      {
       "javascript": [
        "$('div#515c03f0-87d8-4bee-a217-933d1c5ef7e8').width('13.000000%')"
       ],
       "metadata": {},
       "output_type": "display_data",
       "text": [
        "<IPython.core.display.Javascript at 0x7f78c8724a10>"
       ]
      },
      {
       "javascript": [
        "$('div#515c03f0-87d8-4bee-a217-933d1c5ef7e8').width('14.000000%')"
       ],
       "metadata": {},
       "output_type": "display_data",
       "text": [
        "<IPython.core.display.Javascript at 0x7f78c8750710>"
       ]
      },
      {
       "javascript": [
        "$('div#515c03f0-87d8-4bee-a217-933d1c5ef7e8').width('15.000000%')"
       ],
       "metadata": {},
       "output_type": "display_data",
       "text": [
        "<IPython.core.display.Javascript at 0x7f78c8750410>"
       ]
      },
      {
       "javascript": [
        "$('div#515c03f0-87d8-4bee-a217-933d1c5ef7e8').width('16.000000%')"
       ],
       "metadata": {},
       "output_type": "display_data",
       "text": [
        "<IPython.core.display.Javascript at 0x7f78c8750250>"
       ]
      },
      {
       "javascript": [
        "$('div#515c03f0-87d8-4bee-a217-933d1c5ef7e8').width('17.000000%')"
       ],
       "metadata": {},
       "output_type": "display_data",
       "text": [
        "<IPython.core.display.Javascript at 0x7f78c9e27290>"
       ]
      },
      {
       "javascript": [
        "$('div#515c03f0-87d8-4bee-a217-933d1c5ef7e8').width('18.000000%')"
       ],
       "metadata": {},
       "output_type": "display_data",
       "text": [
        "<IPython.core.display.Javascript at 0x7f78c9e27190>"
       ]
      },
      {
       "javascript": [
        "$('div#515c03f0-87d8-4bee-a217-933d1c5ef7e8').width('19.000000%')"
       ],
       "metadata": {},
       "output_type": "display_data",
       "text": [
        "<IPython.core.display.Javascript at 0x7f78c9e27b50>"
       ]
      },
      {
       "javascript": [
        "$('div#515c03f0-87d8-4bee-a217-933d1c5ef7e8').width('20.000000%')"
       ],
       "metadata": {},
       "output_type": "display_data",
       "text": [
        "<IPython.core.display.Javascript at 0x7f78c9e274d0>"
       ]
      },
      {
       "javascript": [
        "$('div#515c03f0-87d8-4bee-a217-933d1c5ef7e8').width('21.000000%')"
       ],
       "metadata": {},
       "output_type": "display_data",
       "text": [
        "<IPython.core.display.Javascript at 0x7f78c74b4750>"
       ]
      },
      {
       "javascript": [
        "$('div#515c03f0-87d8-4bee-a217-933d1c5ef7e8').width('22.000000%')"
       ],
       "metadata": {},
       "output_type": "display_data",
       "text": [
        "<IPython.core.display.Javascript at 0x7f78c74b4890>"
       ]
      },
      {
       "javascript": [
        "$('div#515c03f0-87d8-4bee-a217-933d1c5ef7e8').width('23.000000%')"
       ],
       "metadata": {},
       "output_type": "display_data",
       "text": [
        "<IPython.core.display.Javascript at 0x7f78c74b4950>"
       ]
      },
      {
       "javascript": [
        "$('div#515c03f0-87d8-4bee-a217-933d1c5ef7e8').width('24.000000%')"
       ],
       "metadata": {},
       "output_type": "display_data",
       "text": [
        "<IPython.core.display.Javascript at 0x7f78c74b4ad0>"
       ]
      },
      {
       "javascript": [
        "$('div#515c03f0-87d8-4bee-a217-933d1c5ef7e8').width('25.000000%')"
       ],
       "metadata": {},
       "output_type": "display_data",
       "text": [
        "<IPython.core.display.Javascript at 0x7f78c74b4e90>"
       ]
      },
      {
       "javascript": [
        "$('div#515c03f0-87d8-4bee-a217-933d1c5ef7e8').width('26.000000%')"
       ],
       "metadata": {},
       "output_type": "display_data",
       "text": [
        "<IPython.core.display.Javascript at 0x7f78c74b4d90>"
       ]
      },
      {
       "javascript": [
        "$('div#515c03f0-87d8-4bee-a217-933d1c5ef7e8').width('27.000000%')"
       ],
       "metadata": {},
       "output_type": "display_data",
       "text": [
        "<IPython.core.display.Javascript at 0x7f78c74b4150>"
       ]
      },
      {
       "javascript": [
        "$('div#515c03f0-87d8-4bee-a217-933d1c5ef7e8').width('28.000000%')"
       ],
       "metadata": {},
       "output_type": "display_data",
       "text": [
        "<IPython.core.display.Javascript at 0x7f78c74b4350>"
       ]
      },
      {
       "javascript": [
        "$('div#515c03f0-87d8-4bee-a217-933d1c5ef7e8').width('29.000000%')"
       ],
       "metadata": {},
       "output_type": "display_data",
       "text": [
        "<IPython.core.display.Javascript at 0x7f78c74b4f90>"
       ]
      },
      {
       "javascript": [
        "$('div#515c03f0-87d8-4bee-a217-933d1c5ef7e8').width('30.000000%')"
       ],
       "metadata": {},
       "output_type": "display_data",
       "text": [
        "<IPython.core.display.Javascript at 0x7f78c74b4fd0>"
       ]
      },
      {
       "javascript": [
        "$('div#515c03f0-87d8-4bee-a217-933d1c5ef7e8').width('31.000000%')"
       ],
       "metadata": {},
       "output_type": "display_data",
       "text": [
        "<IPython.core.display.Javascript at 0x7f78c74b4a90>"
       ]
      },
      {
       "javascript": [
        "$('div#515c03f0-87d8-4bee-a217-933d1c5ef7e8').width('32.000000%')"
       ],
       "metadata": {},
       "output_type": "display_data",
       "text": [
        "<IPython.core.display.Javascript at 0x7f78c74b4b10>"
       ]
      },
      {
       "javascript": [
        "$('div#515c03f0-87d8-4bee-a217-933d1c5ef7e8').width('33.000000%')"
       ],
       "metadata": {},
       "output_type": "display_data",
       "text": [
        "<IPython.core.display.Javascript at 0x7f78c74b4b50>"
       ]
      },
      {
       "javascript": [
        "$('div#515c03f0-87d8-4bee-a217-933d1c5ef7e8').width('34.000000%')"
       ],
       "metadata": {},
       "output_type": "display_data",
       "text": [
        "<IPython.core.display.Javascript at 0x7f78c74b4990>"
       ]
      },
      {
       "javascript": [
        "$('div#515c03f0-87d8-4bee-a217-933d1c5ef7e8').width('35.000000%')"
       ],
       "metadata": {},
       "output_type": "display_data",
       "text": [
        "<IPython.core.display.Javascript at 0x7f78c74b4a10>"
       ]
      },
      {
       "javascript": [
        "$('div#515c03f0-87d8-4bee-a217-933d1c5ef7e8').width('36.000000%')"
       ],
       "metadata": {},
       "output_type": "display_data",
       "text": [
        "<IPython.core.display.Javascript at 0x7f78c74b4810>"
       ]
      },
      {
       "javascript": [
        "$('div#515c03f0-87d8-4bee-a217-933d1c5ef7e8').width('37.000000%')"
       ],
       "metadata": {},
       "output_type": "display_data",
       "text": [
        "<IPython.core.display.Javascript at 0x7f78c74b4850>"
       ]
      },
      {
       "javascript": [
        "$('div#515c03f0-87d8-4bee-a217-933d1c5ef7e8').width('38.000000%')"
       ],
       "metadata": {},
       "output_type": "display_data",
       "text": [
        "<IPython.core.display.Javascript at 0x7f78c74a6510>"
       ]
      },
      {
       "javascript": [
        "$('div#515c03f0-87d8-4bee-a217-933d1c5ef7e8').width('39.000000%')"
       ],
       "metadata": {},
       "output_type": "display_data",
       "text": [
        "<IPython.core.display.Javascript at 0x7f78c74b42d0>"
       ]
      },
      {
       "javascript": [
        "$('div#515c03f0-87d8-4bee-a217-933d1c5ef7e8').width('40.000000%')"
       ],
       "metadata": {},
       "output_type": "display_data",
       "text": [
        "<IPython.core.display.Javascript at 0x7f78c74b4390>"
       ]
      },
      {
       "javascript": [
        "$('div#515c03f0-87d8-4bee-a217-933d1c5ef7e8').width('41.000000%')"
       ],
       "metadata": {},
       "output_type": "display_data",
       "text": [
        "<IPython.core.display.Javascript at 0x7f78c74b4310>"
       ]
      },
      {
       "javascript": [
        "$('div#515c03f0-87d8-4bee-a217-933d1c5ef7e8').width('42.000000%')"
       ],
       "metadata": {},
       "output_type": "display_data",
       "text": [
        "<IPython.core.display.Javascript at 0x7f78c86e6050>"
       ]
      },
      {
       "javascript": [
        "$('div#515c03f0-87d8-4bee-a217-933d1c5ef7e8').width('43.000000%')"
       ],
       "metadata": {},
       "output_type": "display_data",
       "text": [
        "<IPython.core.display.Javascript at 0x7f78c8724c90>"
       ]
      },
      {
       "javascript": [
        "$('div#515c03f0-87d8-4bee-a217-933d1c5ef7e8').width('44.000000%')"
       ],
       "metadata": {},
       "output_type": "display_data",
       "text": [
        "<IPython.core.display.Javascript at 0x7f78c8772350>"
       ]
      },
      {
       "javascript": [
        "$('div#515c03f0-87d8-4bee-a217-933d1c5ef7e8').width('45.000000%')"
       ],
       "metadata": {},
       "output_type": "display_data",
       "text": [
        "<IPython.core.display.Javascript at 0x7f78c9df28d0>"
       ]
      },
      {
       "javascript": [
        "$('div#515c03f0-87d8-4bee-a217-933d1c5ef7e8').width('46.000000%')"
       ],
       "metadata": {},
       "output_type": "display_data",
       "text": [
        "<IPython.core.display.Javascript at 0x7f78c748c390>"
       ]
      },
      {
       "javascript": [
        "$('div#515c03f0-87d8-4bee-a217-933d1c5ef7e8').width('47.000000%')"
       ],
       "metadata": {},
       "output_type": "display_data",
       "text": [
        "<IPython.core.display.Javascript at 0x7f78c86e6050>"
       ]
      },
      {
       "javascript": [
        "$('div#515c03f0-87d8-4bee-a217-933d1c5ef7e8').width('48.000000%')"
       ],
       "metadata": {},
       "output_type": "display_data",
       "text": [
        "<IPython.core.display.Javascript at 0x7f78c8772090>"
       ]
      },
      {
       "javascript": [
        "$('div#515c03f0-87d8-4bee-a217-933d1c5ef7e8').width('49.000000%')"
       ],
       "metadata": {},
       "output_type": "display_data",
       "text": [
        "<IPython.core.display.Javascript at 0x7f78c74a6510>"
       ]
      },
      {
       "javascript": [
        "$('div#515c03f0-87d8-4bee-a217-933d1c5ef7e8').width('50.000000%')"
       ],
       "metadata": {},
       "output_type": "display_data",
       "text": [
        "<IPython.core.display.Javascript at 0x7f78c74b4310>"
       ]
      },
      {
       "javascript": [
        "$('div#515c03f0-87d8-4bee-a217-933d1c5ef7e8').width('51.000000%')"
       ],
       "metadata": {},
       "output_type": "display_data",
       "text": [
        "<IPython.core.display.Javascript at 0x7f78c74b4390>"
       ]
      },
      {
       "javascript": [
        "$('div#515c03f0-87d8-4bee-a217-933d1c5ef7e8').width('52.000000%')"
       ],
       "metadata": {},
       "output_type": "display_data",
       "text": [
        "<IPython.core.display.Javascript at 0x7f78c74b42d0>"
       ]
      },
      {
       "javascript": [
        "$('div#515c03f0-87d8-4bee-a217-933d1c5ef7e8').width('53.000000%')"
       ],
       "metadata": {},
       "output_type": "display_data",
       "text": [
        "<IPython.core.display.Javascript at 0x7f78c74b4850>"
       ]
      },
      {
       "javascript": [
        "$('div#515c03f0-87d8-4bee-a217-933d1c5ef7e8').width('54.000000%')"
       ],
       "metadata": {},
       "output_type": "display_data",
       "text": [
        "<IPython.core.display.Javascript at 0x7f78c74b4810>"
       ]
      },
      {
       "javascript": [
        "$('div#515c03f0-87d8-4bee-a217-933d1c5ef7e8').width('55.000000%')"
       ],
       "metadata": {},
       "output_type": "display_data",
       "text": [
        "<IPython.core.display.Javascript at 0x7f78c74b4a10>"
       ]
      },
      {
       "javascript": [
        "$('div#515c03f0-87d8-4bee-a217-933d1c5ef7e8').width('56.000000%')"
       ],
       "metadata": {},
       "output_type": "display_data",
       "text": [
        "<IPython.core.display.Javascript at 0x7f78c74b4990>"
       ]
      },
      {
       "javascript": [
        "$('div#515c03f0-87d8-4bee-a217-933d1c5ef7e8').width('57.000000%')"
       ],
       "metadata": {},
       "output_type": "display_data",
       "text": [
        "<IPython.core.display.Javascript at 0x7f78c74b4b50>"
       ]
      },
      {
       "javascript": [
        "$('div#515c03f0-87d8-4bee-a217-933d1c5ef7e8').width('58.000000%')"
       ],
       "metadata": {},
       "output_type": "display_data",
       "text": [
        "<IPython.core.display.Javascript at 0x7f78c74b4b10>"
       ]
      },
      {
       "javascript": [
        "$('div#515c03f0-87d8-4bee-a217-933d1c5ef7e8').width('59.000000%')"
       ],
       "metadata": {},
       "output_type": "display_data",
       "text": [
        "<IPython.core.display.Javascript at 0x7f78c74b4a90>"
       ]
      },
      {
       "javascript": [
        "$('div#515c03f0-87d8-4bee-a217-933d1c5ef7e8').width('60.000000%')"
       ],
       "metadata": {},
       "output_type": "display_data",
       "text": [
        "<IPython.core.display.Javascript at 0x7f78c74b4fd0>"
       ]
      },
      {
       "javascript": [
        "$('div#515c03f0-87d8-4bee-a217-933d1c5ef7e8').width('61.000000%')"
       ],
       "metadata": {},
       "output_type": "display_data",
       "text": [
        "<IPython.core.display.Javascript at 0x7f78c74b4f90>"
       ]
      },
      {
       "javascript": [
        "$('div#515c03f0-87d8-4bee-a217-933d1c5ef7e8').width('62.000000%')"
       ],
       "metadata": {},
       "output_type": "display_data",
       "text": [
        "<IPython.core.display.Javascript at 0x7f78c74b4350>"
       ]
      },
      {
       "javascript": [
        "$('div#515c03f0-87d8-4bee-a217-933d1c5ef7e8').width('63.000000%')"
       ],
       "metadata": {},
       "output_type": "display_data",
       "text": [
        "<IPython.core.display.Javascript at 0x7f78c74b4150>"
       ]
      },
      {
       "javascript": [
        "$('div#515c03f0-87d8-4bee-a217-933d1c5ef7e8').width('64.000000%')"
       ],
       "metadata": {},
       "output_type": "display_data",
       "text": [
        "<IPython.core.display.Javascript at 0x7f78c74b4d90>"
       ]
      },
      {
       "javascript": [
        "$('div#515c03f0-87d8-4bee-a217-933d1c5ef7e8').width('65.000000%')"
       ],
       "metadata": {},
       "output_type": "display_data",
       "text": [
        "<IPython.core.display.Javascript at 0x7f78c74b4e90>"
       ]
      },
      {
       "javascript": [
        "$('div#515c03f0-87d8-4bee-a217-933d1c5ef7e8').width('66.000000%')"
       ],
       "metadata": {},
       "output_type": "display_data",
       "text": [
        "<IPython.core.display.Javascript at 0x7f78c74b4ad0>"
       ]
      },
      {
       "javascript": [
        "$('div#515c03f0-87d8-4bee-a217-933d1c5ef7e8').width('67.000000%')"
       ],
       "metadata": {},
       "output_type": "display_data",
       "text": [
        "<IPython.core.display.Javascript at 0x7f78c74b4950>"
       ]
      },
      {
       "javascript": [
        "$('div#515c03f0-87d8-4bee-a217-933d1c5ef7e8').width('68.000000%')"
       ],
       "metadata": {},
       "output_type": "display_data",
       "text": [
        "<IPython.core.display.Javascript at 0x7f78c74b4890>"
       ]
      },
      {
       "javascript": [
        "$('div#515c03f0-87d8-4bee-a217-933d1c5ef7e8').width('69.000000%')"
       ],
       "metadata": {},
       "output_type": "display_data",
       "text": [
        "<IPython.core.display.Javascript at 0x7f78c74b4250>"
       ]
      },
      {
       "javascript": [
        "$('div#515c03f0-87d8-4bee-a217-933d1c5ef7e8').width('70.000000%')"
       ],
       "metadata": {},
       "output_type": "display_data",
       "text": [
        "<IPython.core.display.Javascript at 0x7f78c9df28d0>"
       ]
      },
      {
       "javascript": [
        "$('div#515c03f0-87d8-4bee-a217-933d1c5ef7e8').width('71.000000%')"
       ],
       "metadata": {},
       "output_type": "display_data",
       "text": [
        "<IPython.core.display.Javascript at 0x7f78c9e27b50>"
       ]
      },
      {
       "javascript": [
        "$('div#515c03f0-87d8-4bee-a217-933d1c5ef7e8').width('72.000000%')"
       ],
       "metadata": {},
       "output_type": "display_data",
       "text": [
        "<IPython.core.display.Javascript at 0x7f78c9e27190>"
       ]
      },
      {
       "javascript": [
        "$('div#515c03f0-87d8-4bee-a217-933d1c5ef7e8').width('73.000000%')"
       ],
       "metadata": {},
       "output_type": "display_data",
       "text": [
        "<IPython.core.display.Javascript at 0x7f78c9e274d0>"
       ]
      },
      {
       "javascript": [
        "$('div#515c03f0-87d8-4bee-a217-933d1c5ef7e8').width('74.000000%')"
       ],
       "metadata": {},
       "output_type": "display_data",
       "text": [
        "<IPython.core.display.Javascript at 0x7f78c74b4750>"
       ]
      },
      {
       "javascript": [
        "$('div#515c03f0-87d8-4bee-a217-933d1c5ef7e8').width('75.000000%')"
       ],
       "metadata": {},
       "output_type": "display_data",
       "text": [
        "<IPython.core.display.Javascript at 0x7f78c8750410>"
       ]
      },
      {
       "javascript": [
        "$('div#515c03f0-87d8-4bee-a217-933d1c5ef7e8').width('76.000000%')"
       ],
       "metadata": {},
       "output_type": "display_data",
       "text": [
        "<IPython.core.display.Javascript at 0x7f78c8750250>"
       ]
      },
      {
       "javascript": [
        "$('div#515c03f0-87d8-4bee-a217-933d1c5ef7e8').width('77.000000%')"
       ],
       "metadata": {},
       "output_type": "display_data",
       "text": [
        "<IPython.core.display.Javascript at 0x7f78c8772350>"
       ]
      },
      {
       "javascript": [
        "$('div#515c03f0-87d8-4bee-a217-933d1c5ef7e8').width('78.000000%')"
       ],
       "metadata": {},
       "output_type": "display_data",
       "text": [
        "<IPython.core.display.Javascript at 0x7f78c8724a10>"
       ]
      },
      {
       "javascript": [
        "$('div#515c03f0-87d8-4bee-a217-933d1c5ef7e8').width('79.000000%')"
       ],
       "metadata": {},
       "output_type": "display_data",
       "text": [
        "<IPython.core.display.Javascript at 0x7f78c8724550>"
       ]
      },
      {
       "javascript": [
        "$('div#515c03f0-87d8-4bee-a217-933d1c5ef7e8').width('80.000000%')"
       ],
       "metadata": {},
       "output_type": "display_data",
       "text": [
        "<IPython.core.display.Javascript at 0x7f78c87245d0>"
       ]
      },
      {
       "javascript": [
        "$('div#515c03f0-87d8-4bee-a217-933d1c5ef7e8').width('81.000000%')"
       ],
       "metadata": {},
       "output_type": "display_data",
       "text": [
        "<IPython.core.display.Javascript at 0x7f78c8724950>"
       ]
      },
      {
       "javascript": [
        "$('div#515c03f0-87d8-4bee-a217-933d1c5ef7e8').width('82.000000%')"
       ],
       "metadata": {},
       "output_type": "display_data",
       "text": [
        "<IPython.core.display.Javascript at 0x7f78c8724750>"
       ]
      },
      {
       "javascript": [
        "$('div#515c03f0-87d8-4bee-a217-933d1c5ef7e8').width('83.000000%')"
       ],
       "metadata": {},
       "output_type": "display_data",
       "text": [
        "<IPython.core.display.Javascript at 0x7f78c8724b90>"
       ]
      },
      {
       "javascript": [
        "$('div#515c03f0-87d8-4bee-a217-933d1c5ef7e8').width('84.000000%')"
       ],
       "metadata": {},
       "output_type": "display_data",
       "text": [
        "<IPython.core.display.Javascript at 0x7f78c8724a90>"
       ]
      },
      {
       "javascript": [
        "$('div#515c03f0-87d8-4bee-a217-933d1c5ef7e8').width('85.000000%')"
       ],
       "metadata": {},
       "output_type": "display_data",
       "text": [
        "<IPython.core.display.Javascript at 0x7f78c8724ad0>"
       ]
      },
      {
       "javascript": [
        "$('div#515c03f0-87d8-4bee-a217-933d1c5ef7e8').width('86.000000%')"
       ],
       "metadata": {},
       "output_type": "display_data",
       "text": [
        "<IPython.core.display.Javascript at 0x7f78c87240d0>"
       ]
      },
      {
       "javascript": [
        "$('div#515c03f0-87d8-4bee-a217-933d1c5ef7e8').width('87.000000%')"
       ],
       "metadata": {},
       "output_type": "display_data",
       "text": [
        "<IPython.core.display.Javascript at 0x7f78c8724990>"
       ]
      },
      {
       "javascript": [
        "$('div#515c03f0-87d8-4bee-a217-933d1c5ef7e8').width('88.000000%')"
       ],
       "metadata": {},
       "output_type": "display_data",
       "text": [
        "<IPython.core.display.Javascript at 0x7f78c8724b10>"
       ]
      },
      {
       "javascript": [
        "$('div#515c03f0-87d8-4bee-a217-933d1c5ef7e8').width('89.000000%')"
       ],
       "metadata": {},
       "output_type": "display_data",
       "text": [
        "<IPython.core.display.Javascript at 0x7f78c8724790>"
       ]
      },
      {
       "javascript": [
        "$('div#515c03f0-87d8-4bee-a217-933d1c5ef7e8').width('90.000000%')"
       ],
       "metadata": {},
       "output_type": "display_data",
       "text": [
        "<IPython.core.display.Javascript at 0x7f78c8724c90>"
       ]
      },
      {
       "javascript": [
        "$('div#515c03f0-87d8-4bee-a217-933d1c5ef7e8').width('91.000000%')"
       ],
       "metadata": {},
       "output_type": "display_data",
       "text": [
        "<IPython.core.display.Javascript at 0x7f78c8750710>"
       ]
      },
      {
       "javascript": [
        "$('div#515c03f0-87d8-4bee-a217-933d1c5ef7e8').width('92.000000%')"
       ],
       "metadata": {},
       "output_type": "display_data",
       "text": [
        "<IPython.core.display.Javascript at 0x7f78c748c050>"
       ]
      },
      {
       "javascript": [
        "$('div#515c03f0-87d8-4bee-a217-933d1c5ef7e8').width('93.000000%')"
       ],
       "metadata": {},
       "output_type": "display_data",
       "text": [
        "<IPython.core.display.Javascript at 0x7f78c748c490>"
       ]
      },
      {
       "javascript": [
        "$('div#515c03f0-87d8-4bee-a217-933d1c5ef7e8').width('94.000000%')"
       ],
       "metadata": {},
       "output_type": "display_data",
       "text": [
        "<IPython.core.display.Javascript at 0x7f78c748c610>"
       ]
      },
      {
       "javascript": [
        "$('div#515c03f0-87d8-4bee-a217-933d1c5ef7e8').width('95.000000%')"
       ],
       "metadata": {},
       "output_type": "display_data",
       "text": [
        "<IPython.core.display.Javascript at 0x7f78c748c450>"
       ]
      },
      {
       "javascript": [
        "$('div#515c03f0-87d8-4bee-a217-933d1c5ef7e8').width('96.000000%')"
       ],
       "metadata": {},
       "output_type": "display_data",
       "text": [
        "<IPython.core.display.Javascript at 0x7f78c9e27290>"
       ]
      },
      {
       "javascript": [
        "$('div#515c03f0-87d8-4bee-a217-933d1c5ef7e8').width('97.000000%')"
       ],
       "metadata": {},
       "output_type": "display_data",
       "text": [
        "<IPython.core.display.Javascript at 0x7f78c74f2f10>"
       ]
      },
      {
       "javascript": [
        "$('div#515c03f0-87d8-4bee-a217-933d1c5ef7e8').width('98.000000%')"
       ],
       "metadata": {},
       "output_type": "display_data",
       "text": [
        "<IPython.core.display.Javascript at 0x7f78c74f2cd0>"
       ]
      },
      {
       "javascript": [
        "$('div#515c03f0-87d8-4bee-a217-933d1c5ef7e8').width('99.000000%')"
       ],
       "metadata": {},
       "output_type": "display_data",
       "text": [
        "<IPython.core.display.Javascript at 0x7f78c74f2e90>"
       ]
      },
      {
       "javascript": [
        "$('div#515c03f0-87d8-4bee-a217-933d1c5ef7e8').width('100.000000%')"
       ],
       "metadata": {},
       "output_type": "display_data",
       "text": [
        "<IPython.core.display.Javascript at 0x7f78c74f2e50>"
       ]
      },
      {
       "output_type": "stream",
       "stream": "stdout",
       "text": [
        "Generating 100 realizations of the model (chunk size=1)\n"
       ]
      },
      {
       "html": [
        "\n",
        "                          <div style=\"border: 1px solid black; width:500px\">\n",
        "                          <div id=\"c1b7b623-cc20-4c5f-945c-3755bb9b6487\" style=\"background-color:blue; width:0%\">&nbsp;</div>\n",
        "                          </div>\n",
        "                          "
       ],
       "metadata": {},
       "output_type": "display_data",
       "text": [
        "<IPython.core.display.HTML at 0x7f78ca32cad0>"
       ]
      },
      {
       "javascript": [
        "$('div#c1b7b623-cc20-4c5f-945c-3755bb9b6487').width('1.000000%')"
       ],
       "metadata": {},
       "output_type": "display_data",
       "text": [
        "<IPython.core.display.Javascript at 0x7f78c8724750>"
       ]
      },
      {
       "javascript": [
        "$('div#c1b7b623-cc20-4c5f-945c-3755bb9b6487').width('2.000000%')"
       ],
       "metadata": {},
       "output_type": "display_data",
       "text": [
        "<IPython.core.display.Javascript at 0x7f78c8724b90>"
       ]
      },
      {
       "javascript": [
        "$('div#c1b7b623-cc20-4c5f-945c-3755bb9b6487').width('3.000000%')"
       ],
       "metadata": {},
       "output_type": "display_data",
       "text": [
        "<IPython.core.display.Javascript at 0x7f78c8724550>"
       ]
      },
      {
       "javascript": [
        "$('div#c1b7b623-cc20-4c5f-945c-3755bb9b6487').width('4.000000%')"
       ],
       "metadata": {},
       "output_type": "display_data",
       "text": [
        "<IPython.core.display.Javascript at 0x7f78c8724a90>"
       ]
      },
      {
       "javascript": [
        "$('div#c1b7b623-cc20-4c5f-945c-3755bb9b6487').width('5.000000%')"
       ],
       "metadata": {},
       "output_type": "display_data",
       "text": [
        "<IPython.core.display.Javascript at 0x7f78c8724a10>"
       ]
      },
      {
       "javascript": [
        "$('div#c1b7b623-cc20-4c5f-945c-3755bb9b6487').width('6.000000%')"
       ],
       "metadata": {},
       "output_type": "display_data",
       "text": [
        "<IPython.core.display.Javascript at 0x7f78c8750710>"
       ]
      },
      {
       "javascript": [
        "$('div#c1b7b623-cc20-4c5f-945c-3755bb9b6487').width('7.000000%')"
       ],
       "metadata": {},
       "output_type": "display_data",
       "text": [
        "<IPython.core.display.Javascript at 0x7f78c8750250>"
       ]
      },
      {
       "javascript": [
        "$('div#c1b7b623-cc20-4c5f-945c-3755bb9b6487').width('8.000000%')"
       ],
       "metadata": {},
       "output_type": "display_data",
       "text": [
        "<IPython.core.display.Javascript at 0x7f78c8750410>"
       ]
      },
      {
       "javascript": [
        "$('div#c1b7b623-cc20-4c5f-945c-3755bb9b6487').width('9.000000%')"
       ],
       "metadata": {},
       "output_type": "display_data",
       "text": [
        "<IPython.core.display.Javascript at 0x7f78c9df28d0>"
       ]
      },
      {
       "javascript": [
        "$('div#c1b7b623-cc20-4c5f-945c-3755bb9b6487').width('10.000000%')"
       ],
       "metadata": {},
       "output_type": "display_data",
       "text": [
        "<IPython.core.display.Javascript at 0x7f78c9e274d0>"
       ]
      },
      {
       "javascript": [
        "$('div#c1b7b623-cc20-4c5f-945c-3755bb9b6487').width('11.000000%')"
       ],
       "metadata": {},
       "output_type": "display_data",
       "text": [
        "<IPython.core.display.Javascript at 0x7f78c9e27b50>"
       ]
      },
      {
       "javascript": [
        "$('div#c1b7b623-cc20-4c5f-945c-3755bb9b6487').width('12.000000%')"
       ],
       "metadata": {},
       "output_type": "display_data",
       "text": [
        "<IPython.core.display.Javascript at 0x7f78c9e27190>"
       ]
      },
      {
       "javascript": [
        "$('div#c1b7b623-cc20-4c5f-945c-3755bb9b6487').width('13.000000%')"
       ],
       "metadata": {},
       "output_type": "display_data",
       "text": [
        "<IPython.core.display.Javascript at 0x7f78c87245d0>"
       ]
      },
      {
       "javascript": [
        "$('div#c1b7b623-cc20-4c5f-945c-3755bb9b6487').width('14.000000%')"
       ],
       "metadata": {},
       "output_type": "display_data",
       "text": [
        "<IPython.core.display.Javascript at 0x7f78c74b4890>"
       ]
      },
      {
       "javascript": [
        "$('div#c1b7b623-cc20-4c5f-945c-3755bb9b6487').width('15.000000%')"
       ],
       "metadata": {},
       "output_type": "display_data",
       "text": [
        "<IPython.core.display.Javascript at 0x7f78c74b4250>"
       ]
      },
      {
       "javascript": [
        "$('div#c1b7b623-cc20-4c5f-945c-3755bb9b6487').width('16.000000%')"
       ],
       "metadata": {},
       "output_type": "display_data",
       "text": [
        "<IPython.core.display.Javascript at 0x7f78c74b4950>"
       ]
      },
      {
       "javascript": [
        "$('div#c1b7b623-cc20-4c5f-945c-3755bb9b6487').width('17.000000%')"
       ],
       "metadata": {},
       "output_type": "display_data",
       "text": [
        "<IPython.core.display.Javascript at 0x7f78c74b4ad0>"
       ]
      },
      {
       "javascript": [
        "$('div#c1b7b623-cc20-4c5f-945c-3755bb9b6487').width('18.000000%')"
       ],
       "metadata": {},
       "output_type": "display_data",
       "text": [
        "<IPython.core.display.Javascript at 0x7f78c74b4e90>"
       ]
      },
      {
       "javascript": [
        "$('div#c1b7b623-cc20-4c5f-945c-3755bb9b6487').width('19.000000%')"
       ],
       "metadata": {},
       "output_type": "display_data",
       "text": [
        "<IPython.core.display.Javascript at 0x7f78c74b4d90>"
       ]
      },
      {
       "javascript": [
        "$('div#c1b7b623-cc20-4c5f-945c-3755bb9b6487').width('20.000000%')"
       ],
       "metadata": {},
       "output_type": "display_data",
       "text": [
        "<IPython.core.display.Javascript at 0x7f78c74b4150>"
       ]
      },
      {
       "javascript": [
        "$('div#c1b7b623-cc20-4c5f-945c-3755bb9b6487').width('21.000000%')"
       ],
       "metadata": {},
       "output_type": "display_data",
       "text": [
        "<IPython.core.display.Javascript at 0x7f78c74b4350>"
       ]
      },
      {
       "javascript": [
        "$('div#c1b7b623-cc20-4c5f-945c-3755bb9b6487').width('22.000000%')"
       ],
       "metadata": {},
       "output_type": "display_data",
       "text": [
        "<IPython.core.display.Javascript at 0x7f78c74b4f90>"
       ]
      },
      {
       "javascript": [
        "$('div#c1b7b623-cc20-4c5f-945c-3755bb9b6487').width('23.000000%')"
       ],
       "metadata": {},
       "output_type": "display_data",
       "text": [
        "<IPython.core.display.Javascript at 0x7f78c74b4fd0>"
       ]
      },
      {
       "javascript": [
        "$('div#c1b7b623-cc20-4c5f-945c-3755bb9b6487').width('24.000000%')"
       ],
       "metadata": {},
       "output_type": "display_data",
       "text": [
        "<IPython.core.display.Javascript at 0x7f78c74b4a90>"
       ]
      },
      {
       "javascript": [
        "$('div#c1b7b623-cc20-4c5f-945c-3755bb9b6487').width('25.000000%')"
       ],
       "metadata": {},
       "output_type": "display_data",
       "text": [
        "<IPython.core.display.Javascript at 0x7f78c74b4b10>"
       ]
      },
      {
       "javascript": [
        "$('div#c1b7b623-cc20-4c5f-945c-3755bb9b6487').width('26.000000%')"
       ],
       "metadata": {},
       "output_type": "display_data",
       "text": [
        "<IPython.core.display.Javascript at 0x7f78c74b4b50>"
       ]
      },
      {
       "javascript": [
        "$('div#c1b7b623-cc20-4c5f-945c-3755bb9b6487').width('27.000000%')"
       ],
       "metadata": {},
       "output_type": "display_data",
       "text": [
        "<IPython.core.display.Javascript at 0x7f78c74b4990>"
       ]
      },
      {
       "javascript": [
        "$('div#c1b7b623-cc20-4c5f-945c-3755bb9b6487').width('28.000000%')"
       ],
       "metadata": {},
       "output_type": "display_data",
       "text": [
        "<IPython.core.display.Javascript at 0x7f78c74b4a10>"
       ]
      },
      {
       "javascript": [
        "$('div#c1b7b623-cc20-4c5f-945c-3755bb9b6487').width('29.000000%')"
       ],
       "metadata": {},
       "output_type": "display_data",
       "text": [
        "<IPython.core.display.Javascript at 0x7f78c74b4810>"
       ]
      },
      {
       "javascript": [
        "$('div#c1b7b623-cc20-4c5f-945c-3755bb9b6487').width('30.000000%')"
       ],
       "metadata": {},
       "output_type": "display_data",
       "text": [
        "<IPython.core.display.Javascript at 0x7f78c74b4850>"
       ]
      },
      {
       "javascript": [
        "$('div#c1b7b623-cc20-4c5f-945c-3755bb9b6487').width('31.000000%')"
       ],
       "metadata": {},
       "output_type": "display_data",
       "text": [
        "<IPython.core.display.Javascript at 0x7f78c74b4810>"
       ]
      },
      {
       "javascript": [
        "$('div#c1b7b623-cc20-4c5f-945c-3755bb9b6487').width('32.000000%')"
       ],
       "metadata": {},
       "output_type": "display_data",
       "text": [
        "<IPython.core.display.Javascript at 0x7f78c74b42d0>"
       ]
      },
      {
       "javascript": [
        "$('div#c1b7b623-cc20-4c5f-945c-3755bb9b6487').width('33.000000%')"
       ],
       "metadata": {},
       "output_type": "display_data",
       "text": [
        "<IPython.core.display.Javascript at 0x7f78c74b4a10>"
       ]
      },
      {
       "javascript": [
        "$('div#c1b7b623-cc20-4c5f-945c-3755bb9b6487').width('34.000000%')"
       ],
       "metadata": {},
       "output_type": "display_data",
       "text": [
        "<IPython.core.display.Javascript at 0x7f78c74b4990>"
       ]
      },
      {
       "javascript": [
        "$('div#c1b7b623-cc20-4c5f-945c-3755bb9b6487').width('35.000000%')"
       ],
       "metadata": {},
       "output_type": "display_data",
       "text": [
        "<IPython.core.display.Javascript at 0x7f78c74b4b50>"
       ]
      },
      {
       "javascript": [
        "$('div#c1b7b623-cc20-4c5f-945c-3755bb9b6487').width('36.000000%')"
       ],
       "metadata": {},
       "output_type": "display_data",
       "text": [
        "<IPython.core.display.Javascript at 0x7f78c74b4b10>"
       ]
      },
      {
       "javascript": [
        "$('div#c1b7b623-cc20-4c5f-945c-3755bb9b6487').width('37.000000%')"
       ],
       "metadata": {},
       "output_type": "display_data",
       "text": [
        "<IPython.core.display.Javascript at 0x7f78c74b4390>"
       ]
      },
      {
       "javascript": [
        "$('div#c1b7b623-cc20-4c5f-945c-3755bb9b6487').width('38.000000%')"
       ],
       "metadata": {},
       "output_type": "display_data",
       "text": [
        "<IPython.core.display.Javascript at 0x7f78c74b4750>"
       ]
      },
      {
       "javascript": [
        "$('div#c1b7b623-cc20-4c5f-945c-3755bb9b6487').width('39.000000%')"
       ],
       "metadata": {},
       "output_type": "display_data",
       "text": [
        "<IPython.core.display.Javascript at 0x7f78c74b4a90>"
       ]
      },
      {
       "javascript": [
        "$('div#c1b7b623-cc20-4c5f-945c-3755bb9b6487').width('40.000000%')"
       ],
       "metadata": {},
       "output_type": "display_data",
       "text": [
        "<IPython.core.display.Javascript at 0x7f78c74b4fd0>"
       ]
      },
      {
       "javascript": [
        "$('div#c1b7b623-cc20-4c5f-945c-3755bb9b6487').width('41.000000%')"
       ],
       "metadata": {},
       "output_type": "display_data",
       "text": [
        "<IPython.core.display.Javascript at 0x7f78c74b4f90>"
       ]
      },
      {
       "javascript": [
        "$('div#c1b7b623-cc20-4c5f-945c-3755bb9b6487').width('42.000000%')"
       ],
       "metadata": {},
       "output_type": "display_data",
       "text": [
        "<IPython.core.display.Javascript at 0x7f78c74b4350>"
       ]
      },
      {
       "javascript": [
        "$('div#c1b7b623-cc20-4c5f-945c-3755bb9b6487').width('43.000000%')"
       ],
       "metadata": {},
       "output_type": "display_data",
       "text": [
        "<IPython.core.display.Javascript at 0x7f78c74b4150>"
       ]
      },
      {
       "javascript": [
        "$('div#c1b7b623-cc20-4c5f-945c-3755bb9b6487').width('44.000000%')"
       ],
       "metadata": {},
       "output_type": "display_data",
       "text": [
        "<IPython.core.display.Javascript at 0x7f78c74b4d90>"
       ]
      },
      {
       "javascript": [
        "$('div#c1b7b623-cc20-4c5f-945c-3755bb9b6487').width('45.000000%')"
       ],
       "metadata": {},
       "output_type": "display_data",
       "text": [
        "<IPython.core.display.Javascript at 0x7f78c74b4950>"
       ]
      },
      {
       "javascript": [
        "$('div#c1b7b623-cc20-4c5f-945c-3755bb9b6487').width('46.000000%')"
       ],
       "metadata": {},
       "output_type": "display_data",
       "text": [
        "<IPython.core.display.Javascript at 0x7f78c74b4250>"
       ]
      },
      {
       "javascript": [
        "$('div#c1b7b623-cc20-4c5f-945c-3755bb9b6487').width('47.000000%')"
       ],
       "metadata": {},
       "output_type": "display_data",
       "text": [
        "<IPython.core.display.Javascript at 0x7f78c74b4e90>"
       ]
      },
      {
       "javascript": [
        "$('div#c1b7b623-cc20-4c5f-945c-3755bb9b6487').width('48.000000%')"
       ],
       "metadata": {},
       "output_type": "display_data",
       "text": [
        "<IPython.core.display.Javascript at 0x7f78c74b4ad0>"
       ]
      },
      {
       "javascript": [
        "$('div#c1b7b623-cc20-4c5f-945c-3755bb9b6487').width('49.000000%')"
       ],
       "metadata": {},
       "output_type": "display_data",
       "text": [
        "<IPython.core.display.Javascript at 0x7f78c74b4310>"
       ]
      },
      {
       "javascript": [
        "$('div#c1b7b623-cc20-4c5f-945c-3755bb9b6487').width('50.000000%')"
       ],
       "metadata": {},
       "output_type": "display_data",
       "text": [
        "<IPython.core.display.Javascript at 0x7f78c9e27190>"
       ]
      },
      {
       "javascript": [
        "$('div#c1b7b623-cc20-4c5f-945c-3755bb9b6487').width('51.000000%')"
       ],
       "metadata": {},
       "output_type": "display_data",
       "text": [
        "<IPython.core.display.Javascript at 0x7f78c9e274d0>"
       ]
      },
      {
       "javascript": [
        "$('div#c1b7b623-cc20-4c5f-945c-3755bb9b6487').width('52.000000%')"
       ],
       "metadata": {},
       "output_type": "display_data",
       "text": [
        "<IPython.core.display.Javascript at 0x7f78c9e27b50>"
       ]
      },
      {
       "javascript": [
        "$('div#c1b7b623-cc20-4c5f-945c-3755bb9b6487').width('53.000000%')"
       ],
       "metadata": {},
       "output_type": "display_data",
       "text": [
        "<IPython.core.display.Javascript at 0x7f78c9df28d0>"
       ]
      },
      {
       "javascript": [
        "$('div#c1b7b623-cc20-4c5f-945c-3755bb9b6487').width('54.000000%')"
       ],
       "metadata": {},
       "output_type": "display_data",
       "text": [
        "<IPython.core.display.Javascript at 0x7f78c8750250>"
       ]
      },
      {
       "javascript": [
        "$('div#c1b7b623-cc20-4c5f-945c-3755bb9b6487').width('55.000000%')"
       ],
       "metadata": {},
       "output_type": "display_data",
       "text": [
        "<IPython.core.display.Javascript at 0x7f78c8750410>"
       ]
      },
      {
       "javascript": [
        "$('div#c1b7b623-cc20-4c5f-945c-3755bb9b6487').width('56.000000%')"
       ],
       "metadata": {},
       "output_type": "display_data",
       "text": [
        "<IPython.core.display.Javascript at 0x7f78c74b4890>"
       ]
      },
      {
       "javascript": [
        "$('div#c1b7b623-cc20-4c5f-945c-3755bb9b6487').width('57.000000%')"
       ],
       "metadata": {},
       "output_type": "display_data",
       "text": [
        "<IPython.core.display.Javascript at 0x7f78c87245d0>"
       ]
      },
      {
       "javascript": [
        "$('div#c1b7b623-cc20-4c5f-945c-3755bb9b6487').width('58.000000%')"
       ],
       "metadata": {},
       "output_type": "display_data",
       "text": [
        "<IPython.core.display.Javascript at 0x7f78c8724a10>"
       ]
      },
      {
       "javascript": [
        "$('div#c1b7b623-cc20-4c5f-945c-3755bb9b6487').width('59.000000%')"
       ],
       "metadata": {},
       "output_type": "display_data",
       "text": [
        "<IPython.core.display.Javascript at 0x7f78c8724a90>"
       ]
      },
      {
       "javascript": [
        "$('div#c1b7b623-cc20-4c5f-945c-3755bb9b6487').width('60.000000%')"
       ],
       "metadata": {},
       "output_type": "display_data",
       "text": [
        "<IPython.core.display.Javascript at 0x7f78c8724550>"
       ]
      },
      {
       "javascript": [
        "$('div#c1b7b623-cc20-4c5f-945c-3755bb9b6487').width('61.000000%')"
       ],
       "metadata": {},
       "output_type": "display_data",
       "text": [
        "<IPython.core.display.Javascript at 0x7f78c8724b90>"
       ]
      },
      {
       "javascript": [
        "$('div#c1b7b623-cc20-4c5f-945c-3755bb9b6487').width('62.000000%')"
       ],
       "metadata": {},
       "output_type": "display_data",
       "text": [
        "<IPython.core.display.Javascript at 0x7f78c8724950>"
       ]
      },
      {
       "javascript": [
        "$('div#c1b7b623-cc20-4c5f-945c-3755bb9b6487').width('63.000000%')"
       ],
       "metadata": {},
       "output_type": "display_data",
       "text": [
        "<IPython.core.display.Javascript at 0x7f78c9e27290>"
       ]
      },
      {
       "javascript": [
        "$('div#c1b7b623-cc20-4c5f-945c-3755bb9b6487').width('64.000000%')"
       ],
       "metadata": {},
       "output_type": "display_data",
       "text": [
        "<IPython.core.display.Javascript at 0x7f78c74a6690>"
       ]
      },
      {
       "javascript": [
        "$('div#c1b7b623-cc20-4c5f-945c-3755bb9b6487').width('65.000000%')"
       ],
       "metadata": {},
       "output_type": "display_data",
       "text": [
        "<IPython.core.display.Javascript at 0x7f78c74a60d0>"
       ]
      },
      {
       "javascript": [
        "$('div#c1b7b623-cc20-4c5f-945c-3755bb9b6487').width('66.000000%')"
       ],
       "metadata": {},
       "output_type": "display_data",
       "text": [
        "<IPython.core.display.Javascript at 0x7f78c74a6250>"
       ]
      },
      {
       "javascript": [
        "$('div#c1b7b623-cc20-4c5f-945c-3755bb9b6487').width('67.000000%')"
       ],
       "metadata": {},
       "output_type": "display_data",
       "text": [
        "<IPython.core.display.Javascript at 0x7f78c74a6150>"
       ]
      },
      {
       "javascript": [
        "$('div#c1b7b623-cc20-4c5f-945c-3755bb9b6487').width('68.000000%')"
       ],
       "metadata": {},
       "output_type": "display_data",
       "text": [
        "<IPython.core.display.Javascript at 0x7f78c74a6750>"
       ]
      },
      {
       "javascript": [
        "$('div#c1b7b623-cc20-4c5f-945c-3755bb9b6487').width('69.000000%')"
       ],
       "metadata": {},
       "output_type": "display_data",
       "text": [
        "<IPython.core.display.Javascript at 0x7f78c74a6990>"
       ]
      },
      {
       "javascript": [
        "$('div#c1b7b623-cc20-4c5f-945c-3755bb9b6487').width('70.000000%')"
       ],
       "metadata": {},
       "output_type": "display_data",
       "text": [
        "<IPython.core.display.Javascript at 0x7f78c8750710>"
       ]
      },
      {
       "javascript": [
        "$('div#c1b7b623-cc20-4c5f-945c-3755bb9b6487').width('71.000000%')"
       ],
       "metadata": {},
       "output_type": "display_data",
       "text": [
        "<IPython.core.display.Javascript at 0x7f78c8724750>"
       ]
      },
      {
       "javascript": [
        "$('div#c1b7b623-cc20-4c5f-945c-3755bb9b6487').width('72.000000%')"
       ],
       "metadata": {},
       "output_type": "display_data",
       "text": [
        "<IPython.core.display.Javascript at 0x7f78c8772090>"
       ]
      },
      {
       "javascript": [
        "$('div#c1b7b623-cc20-4c5f-945c-3755bb9b6487').width('73.000000%')"
       ],
       "metadata": {},
       "output_type": "display_data",
       "text": [
        "<IPython.core.display.Javascript at 0x7f78c86e6050>"
       ]
      },
      {
       "javascript": [
        "$('div#c1b7b623-cc20-4c5f-945c-3755bb9b6487').width('74.000000%')"
       ],
       "metadata": {},
       "output_type": "display_data",
       "text": [
        "<IPython.core.display.Javascript at 0x7f78c748c610>"
       ]
      },
      {
       "javascript": [
        "$('div#c1b7b623-cc20-4c5f-945c-3755bb9b6487').width('75.000000%')"
       ],
       "metadata": {},
       "output_type": "display_data",
       "text": [
        "<IPython.core.display.Javascript at 0x7f78c748c490>"
       ]
      },
      {
       "javascript": [
        "$('div#c1b7b623-cc20-4c5f-945c-3755bb9b6487').width('76.000000%')"
       ],
       "metadata": {},
       "output_type": "display_data",
       "text": [
        "<IPython.core.display.Javascript at 0x7f78c748c050>"
       ]
      },
      {
       "javascript": [
        "$('div#c1b7b623-cc20-4c5f-945c-3755bb9b6487').width('77.000000%')"
       ],
       "metadata": {},
       "output_type": "display_data",
       "text": [
        "<IPython.core.display.Javascript at 0x7f78c748c450>"
       ]
      },
      {
       "javascript": [
        "$('div#c1b7b623-cc20-4c5f-945c-3755bb9b6487').width('78.000000%')"
       ],
       "metadata": {},
       "output_type": "display_data",
       "text": [
        "<IPython.core.display.Javascript at 0x7f78c74a6510>"
       ]
      },
      {
       "javascript": [
        "$('div#c1b7b623-cc20-4c5f-945c-3755bb9b6487').width('79.000000%')"
       ],
       "metadata": {},
       "output_type": "display_data",
       "text": [
        "<IPython.core.display.Javascript at 0x7f78c7483c10>"
       ]
      },
      {
       "javascript": [
        "$('div#c1b7b623-cc20-4c5f-945c-3755bb9b6487').width('80.000000%')"
       ],
       "metadata": {},
       "output_type": "display_data",
       "text": [
        "<IPython.core.display.Javascript at 0x7f78c7483cd0>"
       ]
      },
      {
       "javascript": [
        "$('div#c1b7b623-cc20-4c5f-945c-3755bb9b6487').width('81.000000%')"
       ],
       "metadata": {},
       "output_type": "display_data",
       "text": [
        "<IPython.core.display.Javascript at 0x7f78c74834d0>"
       ]
      },
      {
       "javascript": [
        "$('div#c1b7b623-cc20-4c5f-945c-3755bb9b6487').width('82.000000%')"
       ],
       "metadata": {},
       "output_type": "display_data",
       "text": [
        "<IPython.core.display.Javascript at 0x7f78c7483b10>"
       ]
      },
      {
       "javascript": [
        "$('div#c1b7b623-cc20-4c5f-945c-3755bb9b6487').width('83.000000%')"
       ],
       "metadata": {},
       "output_type": "display_data",
       "text": [
        "<IPython.core.display.Javascript at 0x7f78c8772350>"
       ]
      },
      {
       "javascript": [
        "$('div#c1b7b623-cc20-4c5f-945c-3755bb9b6487').width('84.000000%')"
       ],
       "metadata": {},
       "output_type": "display_data",
       "text": [
        "<IPython.core.display.Javascript at 0x7f78c881c3d0>"
       ]
      },
      {
       "javascript": [
        "$('div#c1b7b623-cc20-4c5f-945c-3755bb9b6487').width('85.000000%')"
       ],
       "metadata": {},
       "output_type": "display_data",
       "text": [
        "<IPython.core.display.Javascript at 0x7f78c881cf50>"
       ]
      },
      {
       "javascript": [
        "$('div#c1b7b623-cc20-4c5f-945c-3755bb9b6487').width('86.000000%')"
       ],
       "metadata": {},
       "output_type": "display_data",
       "text": [
        "<IPython.core.display.Javascript at 0x7f78c881c890>"
       ]
      },
      {
       "javascript": [
        "$('div#c1b7b623-cc20-4c5f-945c-3755bb9b6487').width('87.000000%')"
       ],
       "metadata": {},
       "output_type": "display_data",
       "text": [
        "<IPython.core.display.Javascript at 0x7f78c7483b10>"
       ]
      },
      {
       "javascript": [
        "$('div#c1b7b623-cc20-4c5f-945c-3755bb9b6487').width('88.000000%')"
       ],
       "metadata": {},
       "output_type": "display_data",
       "text": [
        "<IPython.core.display.Javascript at 0x7f78c74834d0>"
       ]
      },
      {
       "javascript": [
        "$('div#c1b7b623-cc20-4c5f-945c-3755bb9b6487').width('89.000000%')"
       ],
       "metadata": {},
       "output_type": "display_data",
       "text": [
        "<IPython.core.display.Javascript at 0x7f78c7483cd0>"
       ]
      },
      {
       "javascript": [
        "$('div#c1b7b623-cc20-4c5f-945c-3755bb9b6487').width('90.000000%')"
       ],
       "metadata": {},
       "output_type": "display_data",
       "text": [
        "<IPython.core.display.Javascript at 0x7f78c7483090>"
       ]
      },
      {
       "javascript": [
        "$('div#c1b7b623-cc20-4c5f-945c-3755bb9b6487').width('91.000000%')"
       ],
       "metadata": {},
       "output_type": "display_data",
       "text": [
        "<IPython.core.display.Javascript at 0x7f78c95c6a50>"
       ]
      },
      {
       "javascript": [
        "$('div#c1b7b623-cc20-4c5f-945c-3755bb9b6487').width('92.000000%')"
       ],
       "metadata": {},
       "output_type": "display_data",
       "text": [
        "<IPython.core.display.Javascript at 0x7f78c748c450>"
       ]
      },
      {
       "javascript": [
        "$('div#c1b7b623-cc20-4c5f-945c-3755bb9b6487').width('93.000000%')"
       ],
       "metadata": {},
       "output_type": "display_data",
       "text": [
        "<IPython.core.display.Javascript at 0x7f78c7483c10>"
       ]
      },
      {
       "javascript": [
        "$('div#c1b7b623-cc20-4c5f-945c-3755bb9b6487').width('94.000000%')"
       ],
       "metadata": {},
       "output_type": "display_data",
       "text": [
        "<IPython.core.display.Javascript at 0x7f78c748c050>"
       ]
      },
      {
       "javascript": [
        "$('div#c1b7b623-cc20-4c5f-945c-3755bb9b6487').width('95.000000%')"
       ],
       "metadata": {},
       "output_type": "display_data",
       "text": [
        "<IPython.core.display.Javascript at 0x7f78c748c610>"
       ]
      },
      {
       "javascript": [
        "$('div#c1b7b623-cc20-4c5f-945c-3755bb9b6487').width('96.000000%')"
       ],
       "metadata": {},
       "output_type": "display_data",
       "text": [
        "<IPython.core.display.Javascript at 0x7f78c748c490>"
       ]
      },
      {
       "javascript": [
        "$('div#c1b7b623-cc20-4c5f-945c-3755bb9b6487').width('97.000000%')"
       ],
       "metadata": {},
       "output_type": "display_data",
       "text": [
        "<IPython.core.display.Javascript at 0x7f78c86e6050>"
       ]
      },
      {
       "javascript": [
        "$('div#c1b7b623-cc20-4c5f-945c-3755bb9b6487').width('98.000000%')"
       ],
       "metadata": {},
       "output_type": "display_data",
       "text": [
        "<IPython.core.display.Javascript at 0x7f78c8772350>"
       ]
      },
      {
       "javascript": [
        "$('div#c1b7b623-cc20-4c5f-945c-3755bb9b6487').width('99.000000%')"
       ],
       "metadata": {},
       "output_type": "display_data",
       "text": [
        "<IPython.core.display.Javascript at 0x7f78c748c390>"
       ]
      },
      {
       "javascript": [
        "$('div#c1b7b623-cc20-4c5f-945c-3755bb9b6487').width('100.000000%')"
       ],
       "metadata": {},
       "output_type": "display_data",
       "text": [
        "<IPython.core.display.Javascript at 0x7f78c74a6990>"
       ]
      },
      {
       "output_type": "stream",
       "stream": "stdout",
       "text": [
        "Generating 100 realizations of the model (chunk size=1)\n"
       ]
      },
      {
       "html": [
        "\n",
        "                          <div style=\"border: 1px solid black; width:500px\">\n",
        "                          <div id=\"179cccb1-f371-404e-ad56-baefa055f65b\" style=\"background-color:blue; width:0%\">&nbsp;</div>\n",
        "                          </div>\n",
        "                          "
       ],
       "metadata": {},
       "output_type": "display_data",
       "text": [
        "<IPython.core.display.HTML at 0x7f78c74f2cd0>"
       ]
      },
      {
       "javascript": [
        "$('div#179cccb1-f371-404e-ad56-baefa055f65b').width('1.000000%')"
       ],
       "metadata": {},
       "output_type": "display_data",
       "text": [
        "<IPython.core.display.Javascript at 0x7f78c8724b90>"
       ]
      },
      {
       "javascript": [
        "$('div#179cccb1-f371-404e-ad56-baefa055f65b').width('2.000000%')"
       ],
       "metadata": {},
       "output_type": "display_data",
       "text": [
        "<IPython.core.display.Javascript at 0x7f78c8724550>"
       ]
      },
      {
       "javascript": [
        "$('div#179cccb1-f371-404e-ad56-baefa055f65b').width('3.000000%')"
       ],
       "metadata": {},
       "output_type": "display_data",
       "text": [
        "<IPython.core.display.Javascript at 0x7f78c8724a90>"
       ]
      },
      {
       "javascript": [
        "$('div#179cccb1-f371-404e-ad56-baefa055f65b').width('4.000000%')"
       ],
       "metadata": {},
       "output_type": "display_data",
       "text": [
        "<IPython.core.display.Javascript at 0x7f78c8750410>"
       ]
      },
      {
       "javascript": [
        "$('div#179cccb1-f371-404e-ad56-baefa055f65b').width('5.000000%')"
       ],
       "metadata": {},
       "output_type": "display_data",
       "text": [
        "<IPython.core.display.Javascript at 0x7f78c8750250>"
       ]
      },
      {
       "javascript": [
        "$('div#179cccb1-f371-404e-ad56-baefa055f65b').width('6.000000%')"
       ],
       "metadata": {},
       "output_type": "display_data",
       "text": [
        "<IPython.core.display.Javascript at 0x7f78c8724750>"
       ]
      },
      {
       "javascript": [
        "$('div#179cccb1-f371-404e-ad56-baefa055f65b').width('7.000000%')"
       ],
       "metadata": {},
       "output_type": "display_data",
       "text": [
        "<IPython.core.display.Javascript at 0x7f78c8724a90>"
       ]
      },
      {
       "javascript": [
        "$('div#179cccb1-f371-404e-ad56-baefa055f65b').width('8.000000%')"
       ],
       "metadata": {},
       "output_type": "display_data",
       "text": [
        "<IPython.core.display.Javascript at 0x7f78c8750710>"
       ]
      },
      {
       "javascript": [
        "$('div#179cccb1-f371-404e-ad56-baefa055f65b').width('9.000000%')"
       ],
       "metadata": {},
       "output_type": "display_data",
       "text": [
        "<IPython.core.display.Javascript at 0x7f78c9df28d0>"
       ]
      },
      {
       "javascript": [
        "$('div#179cccb1-f371-404e-ad56-baefa055f65b').width('10.000000%')"
       ],
       "metadata": {},
       "output_type": "display_data",
       "text": [
        "<IPython.core.display.Javascript at 0x7f78c86e6050>"
       ]
      },
      {
       "javascript": [
        "$('div#179cccb1-f371-404e-ad56-baefa055f65b').width('11.000000%')"
       ],
       "metadata": {},
       "output_type": "display_data",
       "text": [
        "<IPython.core.display.Javascript at 0x7f78c8724a10>"
       ]
      },
      {
       "javascript": [
        "$('div#179cccb1-f371-404e-ad56-baefa055f65b').width('12.000000%')"
       ],
       "metadata": {},
       "output_type": "display_data",
       "text": [
        "<IPython.core.display.Javascript at 0x7f78c8724550>"
       ]
      },
      {
       "javascript": [
        "$('div#179cccb1-f371-404e-ad56-baefa055f65b').width('13.000000%')"
       ],
       "metadata": {},
       "output_type": "display_data",
       "text": [
        "<IPython.core.display.Javascript at 0x7f78c87245d0>"
       ]
      },
      {
       "javascript": [
        "$('div#179cccb1-f371-404e-ad56-baefa055f65b').width('14.000000%')"
       ],
       "metadata": {},
       "output_type": "display_data",
       "text": [
        "<IPython.core.display.Javascript at 0x7f78c74a6990>"
       ]
      },
      {
       "javascript": [
        "$('div#179cccb1-f371-404e-ad56-baefa055f65b').width('15.000000%')"
       ],
       "metadata": {},
       "output_type": "display_data",
       "text": [
        "<IPython.core.display.Javascript at 0x7f78c748c490>"
       ]
      },
      {
       "javascript": [
        "$('div#179cccb1-f371-404e-ad56-baefa055f65b').width('16.000000%')"
       ],
       "metadata": {},
       "output_type": "display_data",
       "text": [
        "<IPython.core.display.Javascript at 0x7f78c8724b90>"
       ]
      },
      {
       "javascript": [
        "$('div#179cccb1-f371-404e-ad56-baefa055f65b').width('17.000000%')"
       ],
       "metadata": {},
       "output_type": "display_data",
       "text": [
        "<IPython.core.display.Javascript at 0x7f78c748c610>"
       ]
      },
      {
       "javascript": [
        "$('div#179cccb1-f371-404e-ad56-baefa055f65b').width('18.000000%')"
       ],
       "metadata": {},
       "output_type": "display_data",
       "text": [
        "<IPython.core.display.Javascript at 0x7f78c748c450>"
       ]
      },
      {
       "javascript": [
        "$('div#179cccb1-f371-404e-ad56-baefa055f65b').width('19.000000%')"
       ],
       "metadata": {},
       "output_type": "display_data",
       "text": [
        "<IPython.core.display.Javascript at 0x7f78c748c050>"
       ]
      },
      {
       "javascript": [
        "$('div#179cccb1-f371-404e-ad56-baefa055f65b').width('20.000000%')"
       ],
       "metadata": {},
       "output_type": "display_data",
       "text": [
        "<IPython.core.display.Javascript at 0x7f78c95c6a50>"
       ]
      },
      {
       "javascript": [
        "$('div#179cccb1-f371-404e-ad56-baefa055f65b').width('21.000000%')"
       ],
       "metadata": {},
       "output_type": "display_data",
       "text": [
        "<IPython.core.display.Javascript at 0x7f78c7483090>"
       ]
      },
      {
       "javascript": [
        "$('div#179cccb1-f371-404e-ad56-baefa055f65b').width('22.000000%')"
       ],
       "metadata": {},
       "output_type": "display_data",
       "text": [
        "<IPython.core.display.Javascript at 0x7f78c7483cd0>"
       ]
      },
      {
       "javascript": [
        "$('div#179cccb1-f371-404e-ad56-baefa055f65b').width('23.000000%')"
       ],
       "metadata": {},
       "output_type": "display_data",
       "text": [
        "<IPython.core.display.Javascript at 0x7f78c74834d0>"
       ]
      },
      {
       "javascript": [
        "$('div#179cccb1-f371-404e-ad56-baefa055f65b').width('24.000000%')"
       ],
       "metadata": {},
       "output_type": "display_data",
       "text": [
        "<IPython.core.display.Javascript at 0x7f78c7483c10>"
       ]
      },
      {
       "javascript": [
        "$('div#179cccb1-f371-404e-ad56-baefa055f65b').width('25.000000%')"
       ],
       "metadata": {},
       "output_type": "display_data",
       "text": [
        "<IPython.core.display.Javascript at 0x7f78c8772350>"
       ]
      },
      {
       "javascript": [
        "$('div#179cccb1-f371-404e-ad56-baefa055f65b').width('26.000000%')"
       ],
       "metadata": {},
       "output_type": "display_data",
       "text": [
        "<IPython.core.display.Javascript at 0x7f78c881cf50>"
       ]
      },
      {
       "javascript": [
        "$('div#179cccb1-f371-404e-ad56-baefa055f65b').width('27.000000%')"
       ],
       "metadata": {},
       "output_type": "display_data",
       "text": [
        "<IPython.core.display.Javascript at 0x7f78c881c890>"
       ]
      },
      {
       "javascript": [
        "$('div#179cccb1-f371-404e-ad56-baefa055f65b').width('28.000000%')"
       ],
       "metadata": {},
       "output_type": "display_data",
       "text": [
        "<IPython.core.display.Javascript at 0x7f78c881c3d0>"
       ]
      },
      {
       "javascript": [
        "$('div#179cccb1-f371-404e-ad56-baefa055f65b').width('29.000000%')"
       ],
       "metadata": {},
       "output_type": "display_data",
       "text": [
        "<IPython.core.display.Javascript at 0x7f78c9e27b50>"
       ]
      },
      {
       "javascript": [
        "$('div#179cccb1-f371-404e-ad56-baefa055f65b').width('30.000000%')"
       ],
       "metadata": {},
       "output_type": "display_data",
       "text": [
        "<IPython.core.display.Javascript at 0x7f78c9e274d0>"
       ]
      },
      {
       "javascript": [
        "$('div#179cccb1-f371-404e-ad56-baefa055f65b').width('31.000000%')"
       ],
       "metadata": {},
       "output_type": "display_data",
       "text": [
        "<IPython.core.display.Javascript at 0x7f78c9e27290>"
       ]
      },
      {
       "javascript": [
        "$('div#179cccb1-f371-404e-ad56-baefa055f65b').width('32.000000%')"
       ],
       "metadata": {},
       "output_type": "display_data",
       "text": [
        "<IPython.core.display.Javascript at 0x7f78c748c390>"
       ]
      },
      {
       "javascript": [
        "$('div#179cccb1-f371-404e-ad56-baefa055f65b').width('33.000000%')"
       ],
       "metadata": {},
       "output_type": "display_data",
       "text": [
        "<IPython.core.display.Javascript at 0x7f78c74b4310>"
       ]
      },
      {
       "javascript": [
        "$('div#179cccb1-f371-404e-ad56-baefa055f65b').width('34.000000%')"
       ],
       "metadata": {},
       "output_type": "display_data",
       "text": [
        "<IPython.core.display.Javascript at 0x7f78c74b4ad0>"
       ]
      },
      {
       "javascript": [
        "$('div#179cccb1-f371-404e-ad56-baefa055f65b').width('35.000000%')"
       ],
       "metadata": {},
       "output_type": "display_data",
       "text": [
        "<IPython.core.display.Javascript at 0x7f78c74b4e90>"
       ]
      },
      {
       "javascript": [
        "$('div#179cccb1-f371-404e-ad56-baefa055f65b').width('36.000000%')"
       ],
       "metadata": {},
       "output_type": "display_data",
       "text": [
        "<IPython.core.display.Javascript at 0x7f78c74b4250>"
       ]
      },
      {
       "javascript": [
        "$('div#179cccb1-f371-404e-ad56-baefa055f65b').width('37.000000%')"
       ],
       "metadata": {},
       "output_type": "display_data",
       "text": [
        "<IPython.core.display.Javascript at 0x7f78c74b4950>"
       ]
      },
      {
       "javascript": [
        "$('div#179cccb1-f371-404e-ad56-baefa055f65b').width('38.000000%')"
       ],
       "metadata": {},
       "output_type": "display_data",
       "text": [
        "<IPython.core.display.Javascript at 0x7f78c74b4d90>"
       ]
      },
      {
       "javascript": [
        "$('div#179cccb1-f371-404e-ad56-baefa055f65b').width('39.000000%')"
       ],
       "metadata": {},
       "output_type": "display_data",
       "text": [
        "<IPython.core.display.Javascript at 0x7f78c74b4150>"
       ]
      },
      {
       "javascript": [
        "$('div#179cccb1-f371-404e-ad56-baefa055f65b').width('40.000000%')"
       ],
       "metadata": {},
       "output_type": "display_data",
       "text": [
        "<IPython.core.display.Javascript at 0x7f78c74b4350>"
       ]
      },
      {
       "javascript": [
        "$('div#179cccb1-f371-404e-ad56-baefa055f65b').width('41.000000%')"
       ],
       "metadata": {},
       "output_type": "display_data",
       "text": [
        "<IPython.core.display.Javascript at 0x7f78c74b4f90>"
       ]
      },
      {
       "javascript": [
        "$('div#179cccb1-f371-404e-ad56-baefa055f65b').width('42.000000%')"
       ],
       "metadata": {},
       "output_type": "display_data",
       "text": [
        "<IPython.core.display.Javascript at 0x7f78c74b4fd0>"
       ]
      },
      {
       "javascript": [
        "$('div#179cccb1-f371-404e-ad56-baefa055f65b').width('43.000000%')"
       ],
       "metadata": {},
       "output_type": "display_data",
       "text": [
        "<IPython.core.display.Javascript at 0x7f78c74b4a90>"
       ]
      },
      {
       "javascript": [
        "$('div#179cccb1-f371-404e-ad56-baefa055f65b').width('44.000000%')"
       ],
       "metadata": {},
       "output_type": "display_data",
       "text": [
        "<IPython.core.display.Javascript at 0x7f78c74b4750>"
       ]
      },
      {
       "javascript": [
        "$('div#179cccb1-f371-404e-ad56-baefa055f65b').width('45.000000%')"
       ],
       "metadata": {},
       "output_type": "display_data",
       "text": [
        "<IPython.core.display.Javascript at 0x7f78c74b4390>"
       ]
      },
      {
       "javascript": [
        "$('div#179cccb1-f371-404e-ad56-baefa055f65b').width('46.000000%')"
       ],
       "metadata": {},
       "output_type": "display_data",
       "text": [
        "<IPython.core.display.Javascript at 0x7f78c74b4b10>"
       ]
      },
      {
       "javascript": [
        "$('div#179cccb1-f371-404e-ad56-baefa055f65b').width('47.000000%')"
       ],
       "metadata": {},
       "output_type": "display_data",
       "text": [
        "<IPython.core.display.Javascript at 0x7f78c74b4b50>"
       ]
      },
      {
       "javascript": [
        "$('div#179cccb1-f371-404e-ad56-baefa055f65b').width('48.000000%')"
       ],
       "metadata": {},
       "output_type": "display_data",
       "text": [
        "<IPython.core.display.Javascript at 0x7f78c74b4990>"
       ]
      },
      {
       "javascript": [
        "$('div#179cccb1-f371-404e-ad56-baefa055f65b').width('49.000000%')"
       ],
       "metadata": {},
       "output_type": "display_data",
       "text": [
        "<IPython.core.display.Javascript at 0x7f78c74b4a10>"
       ]
      },
      {
       "javascript": [
        "$('div#179cccb1-f371-404e-ad56-baefa055f65b').width('50.000000%')"
       ],
       "metadata": {},
       "output_type": "display_data",
       "text": [
        "<IPython.core.display.Javascript at 0x7f78c74b42d0>"
       ]
      },
      {
       "javascript": [
        "$('div#179cccb1-f371-404e-ad56-baefa055f65b').width('51.000000%')"
       ],
       "metadata": {},
       "output_type": "display_data",
       "text": [
        "<IPython.core.display.Javascript at 0x7f78c74b4810>"
       ]
      },
      {
       "javascript": [
        "$('div#179cccb1-f371-404e-ad56-baefa055f65b').width('52.000000%')"
       ],
       "metadata": {},
       "output_type": "display_data",
       "text": [
        "<IPython.core.display.Javascript at 0x7f78c74b4890>"
       ]
      },
      {
       "javascript": [
        "$('div#179cccb1-f371-404e-ad56-baefa055f65b').width('53.000000%')"
       ],
       "metadata": {},
       "output_type": "display_data",
       "text": [
        "<IPython.core.display.Javascript at 0x7f78c7483b10>"
       ]
      },
      {
       "javascript": [
        "$('div#179cccb1-f371-404e-ad56-baefa055f65b').width('54.000000%')"
       ],
       "metadata": {},
       "output_type": "display_data",
       "text": [
        "<IPython.core.display.Javascript at 0x7f78c87671d0>"
       ]
      },
      {
       "javascript": [
        "$('div#179cccb1-f371-404e-ad56-baefa055f65b').width('55.000000%')"
       ],
       "metadata": {},
       "output_type": "display_data",
       "text": [
        "<IPython.core.display.Javascript at 0x7f78c8767290>"
       ]
      },
      {
       "javascript": [
        "$('div#179cccb1-f371-404e-ad56-baefa055f65b').width('56.000000%')"
       ],
       "metadata": {},
       "output_type": "display_data",
       "text": [
        "<IPython.core.display.Javascript at 0x7f78c8767890>"
       ]
      },
      {
       "javascript": [
        "$('div#179cccb1-f371-404e-ad56-baefa055f65b').width('57.000000%')"
       ],
       "metadata": {},
       "output_type": "display_data",
       "text": [
        "<IPython.core.display.Javascript at 0x7f78c8767850>"
       ]
      },
      {
       "javascript": [
        "$('div#179cccb1-f371-404e-ad56-baefa055f65b').width('58.000000%')"
       ],
       "metadata": {},
       "output_type": "display_data",
       "text": [
        "<IPython.core.display.Javascript at 0x7f78c8767450>"
       ]
      },
      {
       "javascript": [
        "$('div#179cccb1-f371-404e-ad56-baefa055f65b').width('59.000000%')"
       ],
       "metadata": {},
       "output_type": "display_data",
       "text": [
        "<IPython.core.display.Javascript at 0x7f78c74b4850>"
       ]
      },
      {
       "javascript": [
        "$('div#179cccb1-f371-404e-ad56-baefa055f65b').width('60.000000%')"
       ],
       "metadata": {},
       "output_type": "display_data",
       "text": [
        "<IPython.core.display.Javascript at 0x7f78c8767450>"
       ]
      },
      {
       "javascript": [
        "$('div#179cccb1-f371-404e-ad56-baefa055f65b').width('61.000000%')"
       ],
       "metadata": {},
       "output_type": "display_data",
       "text": [
        "<IPython.core.display.Javascript at 0x7f78c8767a10>"
       ]
      },
      {
       "javascript": [
        "$('div#179cccb1-f371-404e-ad56-baefa055f65b').width('62.000000%')"
       ],
       "metadata": {},
       "output_type": "display_data",
       "text": [
        "<IPython.core.display.Javascript at 0x7f78c8767290>"
       ]
      },
      {
       "javascript": [
        "$('div#179cccb1-f371-404e-ad56-baefa055f65b').width('63.000000%')"
       ],
       "metadata": {},
       "output_type": "display_data",
       "text": [
        "<IPython.core.display.Javascript at 0x7f78c8767850>"
       ]
      },
      {
       "javascript": [
        "$('div#179cccb1-f371-404e-ad56-baefa055f65b').width('64.000000%')"
       ],
       "metadata": {},
       "output_type": "display_data",
       "text": [
        "<IPython.core.display.Javascript at 0x7f78c74b4890>"
       ]
      },
      {
       "javascript": [
        "$('div#179cccb1-f371-404e-ad56-baefa055f65b').width('65.000000%')"
       ],
       "metadata": {},
       "output_type": "display_data",
       "text": [
        "<IPython.core.display.Javascript at 0x7f78c74b4810>"
       ]
      },
      {
       "javascript": [
        "$('div#179cccb1-f371-404e-ad56-baefa055f65b').width('66.000000%')"
       ],
       "metadata": {},
       "output_type": "display_data",
       "text": [
        "<IPython.core.display.Javascript at 0x7f78c74b42d0>"
       ]
      },
      {
       "javascript": [
        "$('div#179cccb1-f371-404e-ad56-baefa055f65b').width('67.000000%')"
       ],
       "metadata": {},
       "output_type": "display_data",
       "text": [
        "<IPython.core.display.Javascript at 0x7f78c74b4a10>"
       ]
      },
      {
       "javascript": [
        "$('div#179cccb1-f371-404e-ad56-baefa055f65b').width('68.000000%')"
       ],
       "metadata": {},
       "output_type": "display_data",
       "text": [
        "<IPython.core.display.Javascript at 0x7f78c74b4990>"
       ]
      },
      {
       "javascript": [
        "$('div#179cccb1-f371-404e-ad56-baefa055f65b').width('69.000000%')"
       ],
       "metadata": {},
       "output_type": "display_data",
       "text": [
        "<IPython.core.display.Javascript at 0x7f78c74b4b50>"
       ]
      },
      {
       "javascript": [
        "$('div#179cccb1-f371-404e-ad56-baefa055f65b').width('70.000000%')"
       ],
       "metadata": {},
       "output_type": "display_data",
       "text": [
        "<IPython.core.display.Javascript at 0x7f78c74b4b10>"
       ]
      },
      {
       "javascript": [
        "$('div#179cccb1-f371-404e-ad56-baefa055f65b').width('71.000000%')"
       ],
       "metadata": {},
       "output_type": "display_data",
       "text": [
        "<IPython.core.display.Javascript at 0x7f78c74b4390>"
       ]
      },
      {
       "javascript": [
        "$('div#179cccb1-f371-404e-ad56-baefa055f65b').width('72.000000%')"
       ],
       "metadata": {},
       "output_type": "display_data",
       "text": [
        "<IPython.core.display.Javascript at 0x7f78c74b4750>"
       ]
      },
      {
       "javascript": [
        "$('div#179cccb1-f371-404e-ad56-baefa055f65b').width('73.000000%')"
       ],
       "metadata": {},
       "output_type": "display_data",
       "text": [
        "<IPython.core.display.Javascript at 0x7f78c74b4a90>"
       ]
      },
      {
       "javascript": [
        "$('div#179cccb1-f371-404e-ad56-baefa055f65b').width('74.000000%')"
       ],
       "metadata": {},
       "output_type": "display_data",
       "text": [
        "<IPython.core.display.Javascript at 0x7f78c74b4fd0>"
       ]
      },
      {
       "javascript": [
        "$('div#179cccb1-f371-404e-ad56-baefa055f65b').width('75.000000%')"
       ],
       "metadata": {},
       "output_type": "display_data",
       "text": [
        "<IPython.core.display.Javascript at 0x7f78c74b4f90>"
       ]
      },
      {
       "javascript": [
        "$('div#179cccb1-f371-404e-ad56-baefa055f65b').width('76.000000%')"
       ],
       "metadata": {},
       "output_type": "display_data",
       "text": [
        "<IPython.core.display.Javascript at 0x7f78c74b4350>"
       ]
      },
      {
       "javascript": [
        "$('div#179cccb1-f371-404e-ad56-baefa055f65b').width('77.000000%')"
       ],
       "metadata": {},
       "output_type": "display_data",
       "text": [
        "<IPython.core.display.Javascript at 0x7f78c74b4150>"
       ]
      },
      {
       "javascript": [
        "$('div#179cccb1-f371-404e-ad56-baefa055f65b').width('78.000000%')"
       ],
       "metadata": {},
       "output_type": "display_data",
       "text": [
        "<IPython.core.display.Javascript at 0x7f78c74b4d90>"
       ]
      },
      {
       "javascript": [
        "$('div#179cccb1-f371-404e-ad56-baefa055f65b').width('79.000000%')"
       ],
       "metadata": {},
       "output_type": "display_data",
       "text": [
        "<IPython.core.display.Javascript at 0x7f78c74b4950>"
       ]
      },
      {
       "javascript": [
        "$('div#179cccb1-f371-404e-ad56-baefa055f65b').width('80.000000%')"
       ],
       "metadata": {},
       "output_type": "display_data",
       "text": [
        "<IPython.core.display.Javascript at 0x7f78c74b4250>"
       ]
      },
      {
       "javascript": [
        "$('div#179cccb1-f371-404e-ad56-baefa055f65b').width('81.000000%')"
       ],
       "metadata": {},
       "output_type": "display_data",
       "text": [
        "<IPython.core.display.Javascript at 0x7f78c74b4e90>"
       ]
      },
      {
       "javascript": [
        "$('div#179cccb1-f371-404e-ad56-baefa055f65b').width('82.000000%')"
       ],
       "metadata": {},
       "output_type": "display_data",
       "text": [
        "<IPython.core.display.Javascript at 0x7f78c74b4ad0>"
       ]
      },
      {
       "javascript": [
        "$('div#179cccb1-f371-404e-ad56-baefa055f65b').width('83.000000%')"
       ],
       "metadata": {},
       "output_type": "display_data",
       "text": [
        "<IPython.core.display.Javascript at 0x7f78c74b4850>"
       ]
      },
      {
       "javascript": [
        "$('div#179cccb1-f371-404e-ad56-baefa055f65b').width('84.000000%')"
       ],
       "metadata": {},
       "output_type": "display_data",
       "text": [
        "<IPython.core.display.Javascript at 0x7f78c8767890>"
       ]
      },
      {
       "javascript": [
        "$('div#179cccb1-f371-404e-ad56-baefa055f65b').width('85.000000%')"
       ],
       "metadata": {},
       "output_type": "display_data",
       "text": [
        "<IPython.core.display.Javascript at 0x7f78c9e27290>"
       ]
      },
      {
       "javascript": [
        "$('div#179cccb1-f371-404e-ad56-baefa055f65b').width('86.000000%')"
       ],
       "metadata": {},
       "output_type": "display_data",
       "text": [
        "<IPython.core.display.Javascript at 0x7f78c9e274d0>"
       ]
      },
      {
       "javascript": [
        "$('div#179cccb1-f371-404e-ad56-baefa055f65b').width('87.000000%')"
       ],
       "metadata": {},
       "output_type": "display_data",
       "text": [
        "<IPython.core.display.Javascript at 0x7f78c9e27190>"
       ]
      },
      {
       "javascript": [
        "$('div#179cccb1-f371-404e-ad56-baefa055f65b').width('88.000000%')"
       ],
       "metadata": {},
       "output_type": "display_data",
       "text": [
        "<IPython.core.display.Javascript at 0x7f78c74b4310>"
       ]
      },
      {
       "javascript": [
        "$('div#179cccb1-f371-404e-ad56-baefa055f65b').width('89.000000%')"
       ],
       "metadata": {},
       "output_type": "display_data",
       "text": [
        "<IPython.core.display.Javascript at 0x7f78c87671d0>"
       ]
      },
      {
       "javascript": [
        "$('div#179cccb1-f371-404e-ad56-baefa055f65b').width('90.000000%')"
       ],
       "metadata": {},
       "output_type": "display_data",
       "text": [
        "<IPython.core.display.Javascript at 0x7f78c881cf50>"
       ]
      },
      {
       "javascript": [
        "$('div#179cccb1-f371-404e-ad56-baefa055f65b').width('91.000000%')"
       ],
       "metadata": {},
       "output_type": "display_data",
       "text": [
        "<IPython.core.display.Javascript at 0x7f78c881c890>"
       ]
      },
      {
       "javascript": [
        "$('div#179cccb1-f371-404e-ad56-baefa055f65b').width('92.000000%')"
       ],
       "metadata": {},
       "output_type": "display_data",
       "text": [
        "<IPython.core.display.Javascript at 0x7f78c9e27b50>"
       ]
      },
      {
       "javascript": [
        "$('div#179cccb1-f371-404e-ad56-baefa055f65b').width('93.000000%')"
       ],
       "metadata": {},
       "output_type": "display_data",
       "text": [
        "<IPython.core.display.Javascript at 0x7f78c7483c10>"
       ]
      },
      {
       "javascript": [
        "$('div#179cccb1-f371-404e-ad56-baefa055f65b').width('94.000000%')"
       ],
       "metadata": {},
       "output_type": "display_data",
       "text": [
        "<IPython.core.display.Javascript at 0x7f78c881c3d0>"
       ]
      },
      {
       "javascript": [
        "$('div#179cccb1-f371-404e-ad56-baefa055f65b').width('95.000000%')"
       ],
       "metadata": {},
       "output_type": "display_data",
       "text": [
        "<IPython.core.display.Javascript at 0x7f78c74834d0>"
       ]
      },
      {
       "javascript": [
        "$('div#179cccb1-f371-404e-ad56-baefa055f65b').width('96.000000%')"
       ],
       "metadata": {},
       "output_type": "display_data",
       "text": [
        "<IPython.core.display.Javascript at 0x7f78c7483090>"
       ]
      },
      {
       "javascript": [
        "$('div#179cccb1-f371-404e-ad56-baefa055f65b').width('97.000000%')"
       ],
       "metadata": {},
       "output_type": "display_data",
       "text": [
        "<IPython.core.display.Javascript at 0x7f78c7483cd0>"
       ]
      },
      {
       "javascript": [
        "$('div#179cccb1-f371-404e-ad56-baefa055f65b').width('98.000000%')"
       ],
       "metadata": {},
       "output_type": "display_data",
       "text": [
        "<IPython.core.display.Javascript at 0x7f78c95c6a50>"
       ]
      },
      {
       "javascript": [
        "$('div#179cccb1-f371-404e-ad56-baefa055f65b').width('99.000000%')"
       ],
       "metadata": {},
       "output_type": "display_data",
       "text": [
        "<IPython.core.display.Javascript at 0x7f78c748c050>"
       ]
      },
      {
       "javascript": [
        "$('div#179cccb1-f371-404e-ad56-baefa055f65b').width('100.000000%')"
       ],
       "metadata": {},
       "output_type": "display_data",
       "text": [
        "<IPython.core.display.Javascript at 0x7f78c7483b10>"
       ]
      },
      {
       "output_type": "stream",
       "stream": "stdout",
       "text": [
        "Generating 100 realizations of the model (chunk size=1)\n"
       ]
      },
      {
       "html": [
        "\n",
        "                          <div style=\"border: 1px solid black; width:500px\">\n",
        "                          <div id=\"1bb71aa4-6fa9-4bf8-aed8-5c5177c77982\" style=\"background-color:blue; width:0%\">&nbsp;</div>\n",
        "                          </div>\n",
        "                          "
       ],
       "metadata": {},
       "output_type": "display_data",
       "text": [
        "<IPython.core.display.HTML at 0x7f78c74a60d0>"
       ]
      },
      {
       "javascript": [
        "$('div#1bb71aa4-6fa9-4bf8-aed8-5c5177c77982').width('1.000000%')"
       ],
       "metadata": {},
       "output_type": "display_data",
       "text": [
        "<IPython.core.display.Javascript at 0x7f78c8724ad0>"
       ]
      },
      {
       "javascript": [
        "$('div#1bb71aa4-6fa9-4bf8-aed8-5c5177c77982').width('2.000000%')"
       ],
       "metadata": {},
       "output_type": "display_data",
       "text": [
        "<IPython.core.display.Javascript at 0x7f78c8724a10>"
       ]
      },
      {
       "javascript": [
        "$('div#1bb71aa4-6fa9-4bf8-aed8-5c5177c77982').width('3.000000%')"
       ],
       "metadata": {},
       "output_type": "display_data",
       "text": [
        "<IPython.core.display.Javascript at 0x7f78c8724a90>"
       ]
      },
      {
       "javascript": [
        "$('div#1bb71aa4-6fa9-4bf8-aed8-5c5177c77982').width('4.000000%')"
       ],
       "metadata": {},
       "output_type": "display_data",
       "text": [
        "<IPython.core.display.Javascript at 0x7f78c8724750>"
       ]
      },
      {
       "javascript": [
        "$('div#1bb71aa4-6fa9-4bf8-aed8-5c5177c77982').width('5.000000%')"
       ],
       "metadata": {},
       "output_type": "display_data",
       "text": [
        "<IPython.core.display.Javascript at 0x7f78c95c6a50>"
       ]
      },
      {
       "javascript": [
        "$('div#1bb71aa4-6fa9-4bf8-aed8-5c5177c77982').width('6.000000%')"
       ],
       "metadata": {},
       "output_type": "display_data",
       "text": [
        "<IPython.core.display.Javascript at 0x7f78c7483b10>"
       ]
      },
      {
       "javascript": [
        "$('div#1bb71aa4-6fa9-4bf8-aed8-5c5177c77982').width('7.000000%')"
       ],
       "metadata": {},
       "output_type": "display_data",
       "text": [
        "<IPython.core.display.Javascript at 0x7f78c7483090>"
       ]
      },
      {
       "javascript": [
        "$('div#1bb71aa4-6fa9-4bf8-aed8-5c5177c77982').width('8.000000%')"
       ],
       "metadata": {},
       "output_type": "display_data",
       "text": [
        "<IPython.core.display.Javascript at 0x7f78c74834d0>"
       ]
      },
      {
       "javascript": [
        "$('div#1bb71aa4-6fa9-4bf8-aed8-5c5177c77982').width('9.000000%')"
       ],
       "metadata": {},
       "output_type": "display_data",
       "text": [
        "<IPython.core.display.Javascript at 0x7f78c7483cd0>"
       ]
      },
      {
       "javascript": [
        "$('div#1bb71aa4-6fa9-4bf8-aed8-5c5177c77982').width('10.000000%')"
       ],
       "metadata": {},
       "output_type": "display_data",
       "text": [
        "<IPython.core.display.Javascript at 0x7f78c7483c10>"
       ]
      },
      {
       "javascript": [
        "$('div#1bb71aa4-6fa9-4bf8-aed8-5c5177c77982').width('11.000000%')"
       ],
       "metadata": {},
       "output_type": "display_data",
       "text": [
        "<IPython.core.display.Javascript at 0x7f78c881c890>"
       ]
      },
      {
       "javascript": [
        "$('div#1bb71aa4-6fa9-4bf8-aed8-5c5177c77982').width('12.000000%')"
       ],
       "metadata": {},
       "output_type": "display_data",
       "text": [
        "<IPython.core.display.Javascript at 0x7f78c881c3d0>"
       ]
      },
      {
       "javascript": [
        "$('div#1bb71aa4-6fa9-4bf8-aed8-5c5177c77982').width('13.000000%')"
       ],
       "metadata": {},
       "output_type": "display_data",
       "text": [
        "<IPython.core.display.Javascript at 0x7f78c881cf50>"
       ]
      },
      {
       "javascript": [
        "$('div#1bb71aa4-6fa9-4bf8-aed8-5c5177c77982').width('14.000000%')"
       ],
       "metadata": {},
       "output_type": "display_data",
       "text": [
        "<IPython.core.display.Javascript at 0x7f78c9e27190>"
       ]
      },
      {
       "javascript": [
        "$('div#1bb71aa4-6fa9-4bf8-aed8-5c5177c77982').width('15.000000%')"
       ],
       "metadata": {},
       "output_type": "display_data",
       "text": [
        "<IPython.core.display.Javascript at 0x7f78c9e274d0>"
       ]
      },
      {
       "javascript": [
        "$('div#1bb71aa4-6fa9-4bf8-aed8-5c5177c77982').width('16.000000%')"
       ],
       "metadata": {},
       "output_type": "display_data",
       "text": [
        "<IPython.core.display.Javascript at 0x7f78c9e27b50>"
       ]
      },
      {
       "javascript": [
        "$('div#1bb71aa4-6fa9-4bf8-aed8-5c5177c77982').width('17.000000%')"
       ],
       "metadata": {},
       "output_type": "display_data",
       "text": [
        "<IPython.core.display.Javascript at 0x7f78c9e27290>"
       ]
      },
      {
       "javascript": [
        "$('div#1bb71aa4-6fa9-4bf8-aed8-5c5177c77982').width('18.000000%')"
       ],
       "metadata": {},
       "output_type": "display_data",
       "text": [
        "<IPython.core.display.Javascript at 0x7f78c74b4850>"
       ]
      },
      {
       "javascript": [
        "$('div#1bb71aa4-6fa9-4bf8-aed8-5c5177c77982').width('19.000000%')"
       ],
       "metadata": {},
       "output_type": "display_data",
       "text": [
        "<IPython.core.display.Javascript at 0x7f78c74b4ad0>"
       ]
      },
      {
       "javascript": [
        "$('div#1bb71aa4-6fa9-4bf8-aed8-5c5177c77982').width('20.000000%')"
       ],
       "metadata": {},
       "output_type": "display_data",
       "text": [
        "<IPython.core.display.Javascript at 0x7f78c74b4e90>"
       ]
      },
      {
       "javascript": [
        "$('div#1bb71aa4-6fa9-4bf8-aed8-5c5177c77982').width('21.000000%')"
       ],
       "metadata": {},
       "output_type": "display_data",
       "text": [
        "<IPython.core.display.Javascript at 0x7f78c74b4250>"
       ]
      },
      {
       "javascript": [
        "$('div#1bb71aa4-6fa9-4bf8-aed8-5c5177c77982').width('22.000000%')"
       ],
       "metadata": {},
       "output_type": "display_data",
       "text": [
        "<IPython.core.display.Javascript at 0x7f78c74b4950>"
       ]
      },
      {
       "javascript": [
        "$('div#1bb71aa4-6fa9-4bf8-aed8-5c5177c77982').width('23.000000%')"
       ],
       "metadata": {},
       "output_type": "display_data",
       "text": [
        "<IPython.core.display.Javascript at 0x7f78c74b4d90>"
       ]
      },
      {
       "javascript": [
        "$('div#1bb71aa4-6fa9-4bf8-aed8-5c5177c77982').width('24.000000%')"
       ],
       "metadata": {},
       "output_type": "display_data",
       "text": [
        "<IPython.core.display.Javascript at 0x7f78c74b4150>"
       ]
      },
      {
       "javascript": [
        "$('div#1bb71aa4-6fa9-4bf8-aed8-5c5177c77982').width('25.000000%')"
       ],
       "metadata": {},
       "output_type": "display_data",
       "text": [
        "<IPython.core.display.Javascript at 0x7f78c74b4350>"
       ]
      },
      {
       "javascript": [
        "$('div#1bb71aa4-6fa9-4bf8-aed8-5c5177c77982').width('26.000000%')"
       ],
       "metadata": {},
       "output_type": "display_data",
       "text": [
        "<IPython.core.display.Javascript at 0x7f78c74b4f90>"
       ]
      },
      {
       "javascript": [
        "$('div#1bb71aa4-6fa9-4bf8-aed8-5c5177c77982').width('27.000000%')"
       ],
       "metadata": {},
       "output_type": "display_data",
       "text": [
        "<IPython.core.display.Javascript at 0x7f78c74b4fd0>"
       ]
      },
      {
       "javascript": [
        "$('div#1bb71aa4-6fa9-4bf8-aed8-5c5177c77982').width('28.000000%')"
       ],
       "metadata": {},
       "output_type": "display_data",
       "text": [
        "<IPython.core.display.Javascript at 0x7f78c74b4a90>"
       ]
      },
      {
       "javascript": [
        "$('div#1bb71aa4-6fa9-4bf8-aed8-5c5177c77982').width('29.000000%')"
       ],
       "metadata": {},
       "output_type": "display_data",
       "text": [
        "<IPython.core.display.Javascript at 0x7f78c74b4750>"
       ]
      },
      {
       "javascript": [
        "$('div#1bb71aa4-6fa9-4bf8-aed8-5c5177c77982').width('30.000000%')"
       ],
       "metadata": {},
       "output_type": "display_data",
       "text": [
        "<IPython.core.display.Javascript at 0x7f78c74b4390>"
       ]
      },
      {
       "javascript": [
        "$('div#1bb71aa4-6fa9-4bf8-aed8-5c5177c77982').width('31.000000%')"
       ],
       "metadata": {},
       "output_type": "display_data",
       "text": [
        "<IPython.core.display.Javascript at 0x7f78c74b4b10>"
       ]
      },
      {
       "javascript": [
        "$('div#1bb71aa4-6fa9-4bf8-aed8-5c5177c77982').width('32.000000%')"
       ],
       "metadata": {},
       "output_type": "display_data",
       "text": [
        "<IPython.core.display.Javascript at 0x7f78c74b4b50>"
       ]
      },
      {
       "javascript": [
        "$('div#1bb71aa4-6fa9-4bf8-aed8-5c5177c77982').width('33.000000%')"
       ],
       "metadata": {},
       "output_type": "display_data",
       "text": [
        "<IPython.core.display.Javascript at 0x7f78c74b4990>"
       ]
      },
      {
       "javascript": [
        "$('div#1bb71aa4-6fa9-4bf8-aed8-5c5177c77982').width('34.000000%')"
       ],
       "metadata": {},
       "output_type": "display_data",
       "text": [
        "<IPython.core.display.Javascript at 0x7f78c74b4a10>"
       ]
      },
      {
       "javascript": [
        "$('div#1bb71aa4-6fa9-4bf8-aed8-5c5177c77982').width('35.000000%')"
       ],
       "metadata": {},
       "output_type": "display_data",
       "text": [
        "<IPython.core.display.Javascript at 0x7f78c74b42d0>"
       ]
      },
      {
       "javascript": [
        "$('div#1bb71aa4-6fa9-4bf8-aed8-5c5177c77982').width('36.000000%')"
       ],
       "metadata": {},
       "output_type": "display_data",
       "text": [
        "<IPython.core.display.Javascript at 0x7f78c74b4810>"
       ]
      },
      {
       "javascript": [
        "$('div#1bb71aa4-6fa9-4bf8-aed8-5c5177c77982').width('37.000000%')"
       ],
       "metadata": {},
       "output_type": "display_data",
       "text": [
        "<IPython.core.display.Javascript at 0x7f78c8767290>"
       ]
      },
      {
       "javascript": [
        "$('div#1bb71aa4-6fa9-4bf8-aed8-5c5177c77982').width('38.000000%')"
       ],
       "metadata": {},
       "output_type": "display_data",
       "text": [
        "<IPython.core.display.Javascript at 0x7f78c87671d0>"
       ]
      },
      {
       "javascript": [
        "$('div#1bb71aa4-6fa9-4bf8-aed8-5c5177c77982').width('39.000000%')"
       ],
       "metadata": {},
       "output_type": "display_data",
       "text": [
        "<IPython.core.display.Javascript at 0x7f78c8767850>"
       ]
      },
      {
       "javascript": [
        "$('div#1bb71aa4-6fa9-4bf8-aed8-5c5177c77982').width('40.000000%')"
       ],
       "metadata": {},
       "output_type": "display_data",
       "text": [
        "<IPython.core.display.Javascript at 0x7f78c8767890>"
       ]
      },
      {
       "javascript": [
        "$('div#1bb71aa4-6fa9-4bf8-aed8-5c5177c77982').width('41.000000%')"
       ],
       "metadata": {},
       "output_type": "display_data",
       "text": [
        "<IPython.core.display.Javascript at 0x7f78c74b4310>"
       ]
      },
      {
       "javascript": [
        "$('div#1bb71aa4-6fa9-4bf8-aed8-5c5177c77982').width('42.000000%')"
       ],
       "metadata": {},
       "output_type": "display_data",
       "text": [
        "<IPython.core.display.Javascript at 0x7f78c74b4890>"
       ]
      },
      {
       "javascript": [
        "$('div#1bb71aa4-6fa9-4bf8-aed8-5c5177c77982').width('43.000000%')"
       ],
       "metadata": {},
       "output_type": "display_data",
       "text": [
        "<IPython.core.display.Javascript at 0x7f78c74b42d0>"
       ]
      },
      {
       "javascript": [
        "$('div#1bb71aa4-6fa9-4bf8-aed8-5c5177c77982').width('44.000000%')"
       ],
       "metadata": {},
       "output_type": "display_data",
       "text": [
        "<IPython.core.display.Javascript at 0x7f78c74b4a10>"
       ]
      },
      {
       "javascript": [
        "$('div#1bb71aa4-6fa9-4bf8-aed8-5c5177c77982').width('45.000000%')"
       ],
       "metadata": {},
       "output_type": "display_data",
       "text": [
        "<IPython.core.display.Javascript at 0x7f78c74b4990>"
       ]
      },
      {
       "javascript": [
        "$('div#1bb71aa4-6fa9-4bf8-aed8-5c5177c77982').width('46.000000%')"
       ],
       "metadata": {},
       "output_type": "display_data",
       "text": [
        "<IPython.core.display.Javascript at 0x7f78c74b4b50>"
       ]
      },
      {
       "javascript": [
        "$('div#1bb71aa4-6fa9-4bf8-aed8-5c5177c77982').width('47.000000%')"
       ],
       "metadata": {},
       "output_type": "display_data",
       "text": [
        "<IPython.core.display.Javascript at 0x7f78c74b4b10>"
       ]
      },
      {
       "javascript": [
        "$('div#1bb71aa4-6fa9-4bf8-aed8-5c5177c77982').width('48.000000%')"
       ],
       "metadata": {},
       "output_type": "display_data",
       "text": [
        "<IPython.core.display.Javascript at 0x7f78c74b4390>"
       ]
      },
      {
       "javascript": [
        "$('div#1bb71aa4-6fa9-4bf8-aed8-5c5177c77982').width('49.000000%')"
       ],
       "metadata": {},
       "output_type": "display_data",
       "text": [
        "<IPython.core.display.Javascript at 0x7f78c74b4750>"
       ]
      },
      {
       "javascript": [
        "$('div#1bb71aa4-6fa9-4bf8-aed8-5c5177c77982').width('50.000000%')"
       ],
       "metadata": {},
       "output_type": "display_data",
       "text": [
        "<IPython.core.display.Javascript at 0x7f78c74b4a90>"
       ]
      },
      {
       "javascript": [
        "$('div#1bb71aa4-6fa9-4bf8-aed8-5c5177c77982').width('51.000000%')"
       ],
       "metadata": {},
       "output_type": "display_data",
       "text": [
        "<IPython.core.display.Javascript at 0x7f78c74b4fd0>"
       ]
      },
      {
       "javascript": [
        "$('div#1bb71aa4-6fa9-4bf8-aed8-5c5177c77982').width('52.000000%')"
       ],
       "metadata": {},
       "output_type": "display_data",
       "text": [
        "<IPython.core.display.Javascript at 0x7f78c74b4f90>"
       ]
      },
      {
       "javascript": [
        "$('div#1bb71aa4-6fa9-4bf8-aed8-5c5177c77982').width('53.000000%')"
       ],
       "metadata": {},
       "output_type": "display_data",
       "text": [
        "<IPython.core.display.Javascript at 0x7f78c74b4350>"
       ]
      },
      {
       "javascript": [
        "$('div#1bb71aa4-6fa9-4bf8-aed8-5c5177c77982').width('54.000000%')"
       ],
       "metadata": {},
       "output_type": "display_data",
       "text": [
        "<IPython.core.display.Javascript at 0x7f78c74b4150>"
       ]
      },
      {
       "javascript": [
        "$('div#1bb71aa4-6fa9-4bf8-aed8-5c5177c77982').width('55.000000%')"
       ],
       "metadata": {},
       "output_type": "display_data",
       "text": [
        "<IPython.core.display.Javascript at 0x7f78c74b4d90>"
       ]
      },
      {
       "javascript": [
        "$('div#1bb71aa4-6fa9-4bf8-aed8-5c5177c77982').width('56.000000%')"
       ],
       "metadata": {},
       "output_type": "display_data",
       "text": [
        "<IPython.core.display.Javascript at 0x7f78c74b4950>"
       ]
      },
      {
       "javascript": [
        "$('div#1bb71aa4-6fa9-4bf8-aed8-5c5177c77982').width('57.000000%')"
       ],
       "metadata": {},
       "output_type": "display_data",
       "text": [
        "<IPython.core.display.Javascript at 0x7f78c74b4250>"
       ]
      },
      {
       "javascript": [
        "$('div#1bb71aa4-6fa9-4bf8-aed8-5c5177c77982').width('58.000000%')"
       ],
       "metadata": {},
       "output_type": "display_data",
       "text": [
        "<IPython.core.display.Javascript at 0x7f78c74b4e90>"
       ]
      },
      {
       "javascript": [
        "$('div#1bb71aa4-6fa9-4bf8-aed8-5c5177c77982').width('59.000000%')"
       ],
       "metadata": {},
       "output_type": "display_data",
       "text": [
        "<IPython.core.display.Javascript at 0x7f78c74b4ad0>"
       ]
      },
      {
       "javascript": [
        "$('div#1bb71aa4-6fa9-4bf8-aed8-5c5177c77982').width('60.000000%')"
       ],
       "metadata": {},
       "output_type": "display_data",
       "text": [
        "<IPython.core.display.Javascript at 0x7f78c74b4810>"
       ]
      },
      {
       "javascript": [
        "$('div#1bb71aa4-6fa9-4bf8-aed8-5c5177c77982').width('61.000000%')"
       ],
       "metadata": {},
       "output_type": "display_data",
       "text": [
        "<IPython.core.display.Javascript at 0x7f78c8767a10>"
       ]
      },
      {
       "javascript": [
        "$('div#1bb71aa4-6fa9-4bf8-aed8-5c5177c77982').width('62.000000%')"
       ],
       "metadata": {},
       "output_type": "display_data",
       "text": [
        "<IPython.core.display.Javascript at 0x7f78c9e27b50>"
       ]
      },
      {
       "javascript": [
        "$('div#1bb71aa4-6fa9-4bf8-aed8-5c5177c77982').width('63.000000%')"
       ],
       "metadata": {},
       "output_type": "display_data",
       "text": [
        "<IPython.core.display.Javascript at 0x7f78c9e274d0>"
       ]
      },
      {
       "javascript": [
        "$('div#1bb71aa4-6fa9-4bf8-aed8-5c5177c77982').width('64.000000%')"
       ],
       "metadata": {},
       "output_type": "display_data",
       "text": [
        "<IPython.core.display.Javascript at 0x7f78c9e27290>"
       ]
      },
      {
       "javascript": [
        "$('div#1bb71aa4-6fa9-4bf8-aed8-5c5177c77982').width('65.000000%')"
       ],
       "metadata": {},
       "output_type": "display_data",
       "text": [
        "<IPython.core.display.Javascript at 0x7f78c9e27190>"
       ]
      },
      {
       "javascript": [
        "$('div#1bb71aa4-6fa9-4bf8-aed8-5c5177c77982').width('66.000000%')"
       ],
       "metadata": {},
       "output_type": "display_data",
       "text": [
        "<IPython.core.display.Javascript at 0x7f78c881c3d0>"
       ]
      },
      {
       "javascript": [
        "$('div#1bb71aa4-6fa9-4bf8-aed8-5c5177c77982').width('67.000000%')"
       ],
       "metadata": {},
       "output_type": "display_data",
       "text": [
        "<IPython.core.display.Javascript at 0x7f78c881cf50>"
       ]
      },
      {
       "javascript": [
        "$('div#1bb71aa4-6fa9-4bf8-aed8-5c5177c77982').width('68.000000%')"
       ],
       "metadata": {},
       "output_type": "display_data",
       "text": [
        "<IPython.core.display.Javascript at 0x7f78c8767450>"
       ]
      },
      {
       "javascript": [
        "$('div#1bb71aa4-6fa9-4bf8-aed8-5c5177c77982').width('69.000000%')"
       ],
       "metadata": {},
       "output_type": "display_data",
       "text": [
        "<IPython.core.display.Javascript at 0x7f78c7483cd0>"
       ]
      },
      {
       "javascript": [
        "$('div#1bb71aa4-6fa9-4bf8-aed8-5c5177c77982').width('70.000000%')"
       ],
       "metadata": {},
       "output_type": "display_data",
       "text": [
        "<IPython.core.display.Javascript at 0x7f78c881c890>"
       ]
      },
      {
       "javascript": [
        "$('div#1bb71aa4-6fa9-4bf8-aed8-5c5177c77982').width('71.000000%')"
       ],
       "metadata": {},
       "output_type": "display_data",
       "text": [
        "<IPython.core.display.Javascript at 0x7f78c74834d0>"
       ]
      },
      {
       "javascript": [
        "$('div#1bb71aa4-6fa9-4bf8-aed8-5c5177c77982').width('72.000000%')"
       ],
       "metadata": {},
       "output_type": "display_data",
       "text": [
        "<IPython.core.display.Javascript at 0x7f78c7483b10>"
       ]
      },
      {
       "javascript": [
        "$('div#1bb71aa4-6fa9-4bf8-aed8-5c5177c77982').width('73.000000%')"
       ],
       "metadata": {},
       "output_type": "display_data",
       "text": [
        "<IPython.core.display.Javascript at 0x7f78c7483090>"
       ]
      },
      {
       "javascript": [
        "$('div#1bb71aa4-6fa9-4bf8-aed8-5c5177c77982').width('74.000000%')"
       ],
       "metadata": {},
       "output_type": "display_data",
       "text": [
        "<IPython.core.display.Javascript at 0x7f78c95c6a50>"
       ]
      },
      {
       "javascript": [
        "$('div#1bb71aa4-6fa9-4bf8-aed8-5c5177c77982').width('75.000000%')"
       ],
       "metadata": {},
       "output_type": "display_data",
       "text": [
        "<IPython.core.display.Javascript at 0x7f78c8724b90>"
       ]
      },
      {
       "javascript": [
        "$('div#1bb71aa4-6fa9-4bf8-aed8-5c5177c77982').width('76.000000%')"
       ],
       "metadata": {},
       "output_type": "display_data",
       "text": [
        "<IPython.core.display.Javascript at 0x7f78c8724750>"
       ]
      },
      {
       "javascript": [
        "$('div#1bb71aa4-6fa9-4bf8-aed8-5c5177c77982').width('77.000000%')"
       ],
       "metadata": {},
       "output_type": "display_data",
       "text": [
        "<IPython.core.display.Javascript at 0x7f78c8724a90>"
       ]
      },
      {
       "javascript": [
        "$('div#1bb71aa4-6fa9-4bf8-aed8-5c5177c77982').width('78.000000%')"
       ],
       "metadata": {},
       "output_type": "display_data",
       "text": [
        "<IPython.core.display.Javascript at 0x7f78c8724a10>"
       ]
      },
      {
       "javascript": [
        "$('div#1bb71aa4-6fa9-4bf8-aed8-5c5177c77982').width('79.000000%')"
       ],
       "metadata": {},
       "output_type": "display_data",
       "text": [
        "<IPython.core.display.Javascript at 0x7f78c8724790>"
       ]
      },
      {
       "javascript": [
        "$('div#1bb71aa4-6fa9-4bf8-aed8-5c5177c77982').width('80.000000%')"
       ],
       "metadata": {},
       "output_type": "display_data",
       "text": [
        "<IPython.core.display.Javascript at 0x7f78c7483c10>"
       ]
      },
      {
       "javascript": [
        "$('div#1bb71aa4-6fa9-4bf8-aed8-5c5177c77982').width('81.000000%')"
       ],
       "metadata": {},
       "output_type": "display_data",
       "text": [
        "<IPython.core.display.Javascript at 0x7f78c8750250>"
       ]
      },
      {
       "javascript": [
        "$('div#1bb71aa4-6fa9-4bf8-aed8-5c5177c77982').width('82.000000%')"
       ],
       "metadata": {},
       "output_type": "display_data",
       "text": [
        "<IPython.core.display.Javascript at 0x7f78c8750710>"
       ]
      },
      {
       "javascript": [
        "$('div#1bb71aa4-6fa9-4bf8-aed8-5c5177c77982').width('83.000000%')"
       ],
       "metadata": {},
       "output_type": "display_data",
       "text": [
        "<IPython.core.display.Javascript at 0x7f78c74b4850>"
       ]
      },
      {
       "javascript": [
        "$('div#1bb71aa4-6fa9-4bf8-aed8-5c5177c77982').width('84.000000%')"
       ],
       "metadata": {},
       "output_type": "display_data",
       "text": [
        "<IPython.core.display.Javascript at 0x7f78c875ced0>"
       ]
      },
      {
       "javascript": [
        "$('div#1bb71aa4-6fa9-4bf8-aed8-5c5177c77982').width('85.000000%')"
       ],
       "metadata": {},
       "output_type": "display_data",
       "text": [
        "<IPython.core.display.Javascript at 0x7f78c875c250>"
       ]
      },
      {
       "javascript": [
        "$('div#1bb71aa4-6fa9-4bf8-aed8-5c5177c77982').width('86.000000%')"
       ],
       "metadata": {},
       "output_type": "display_data",
       "text": [
        "<IPython.core.display.Javascript at 0x7f78c875c650>"
       ]
      },
      {
       "javascript": [
        "$('div#1bb71aa4-6fa9-4bf8-aed8-5c5177c77982').width('87.000000%')"
       ],
       "metadata": {},
       "output_type": "display_data",
       "text": [
        "<IPython.core.display.Javascript at 0x7f78c875cc50>"
       ]
      },
      {
       "javascript": [
        "$('div#1bb71aa4-6fa9-4bf8-aed8-5c5177c77982').width('88.000000%')"
       ],
       "metadata": {},
       "output_type": "display_data",
       "text": [
        "<IPython.core.display.Javascript at 0x7f78c875c3d0>"
       ]
      },
      {
       "javascript": [
        "$('div#1bb71aa4-6fa9-4bf8-aed8-5c5177c77982').width('89.000000%')"
       ],
       "metadata": {},
       "output_type": "display_data",
       "text": [
        "<IPython.core.display.Javascript at 0x7f78c875c390>"
       ]
      },
      {
       "javascript": [
        "$('div#1bb71aa4-6fa9-4bf8-aed8-5c5177c77982').width('90.000000%')"
       ],
       "metadata": {},
       "output_type": "display_data",
       "text": [
        "<IPython.core.display.Javascript at 0x7f78c875c110>"
       ]
      },
      {
       "javascript": [
        "$('div#1bb71aa4-6fa9-4bf8-aed8-5c5177c77982').width('91.000000%')"
       ],
       "metadata": {},
       "output_type": "display_data",
       "text": [
        "<IPython.core.display.Javascript at 0x7f78c875c810>"
       ]
      },
      {
       "javascript": [
        "$('div#1bb71aa4-6fa9-4bf8-aed8-5c5177c77982').width('92.000000%')"
       ],
       "metadata": {},
       "output_type": "display_data",
       "text": [
        "<IPython.core.display.Javascript at 0x7f78c875c890>"
       ]
      },
      {
       "javascript": [
        "$('div#1bb71aa4-6fa9-4bf8-aed8-5c5177c77982').width('93.000000%')"
       ],
       "metadata": {},
       "output_type": "display_data",
       "text": [
        "<IPython.core.display.Javascript at 0x7f78c875c810>"
       ]
      },
      {
       "javascript": [
        "$('div#1bb71aa4-6fa9-4bf8-aed8-5c5177c77982').width('94.000000%')"
       ],
       "metadata": {},
       "output_type": "display_data",
       "text": [
        "<IPython.core.display.Javascript at 0x7f78c875c190>"
       ]
      },
      {
       "javascript": [
        "$('div#1bb71aa4-6fa9-4bf8-aed8-5c5177c77982').width('95.000000%')"
       ],
       "metadata": {},
       "output_type": "display_data",
       "text": [
        "<IPython.core.display.Javascript at 0x7f78c875c750>"
       ]
      },
      {
       "javascript": [
        "$('div#1bb71aa4-6fa9-4bf8-aed8-5c5177c77982').width('96.000000%')"
       ],
       "metadata": {},
       "output_type": "display_data",
       "text": [
        "<IPython.core.display.Javascript at 0x7f78c875cb50>"
       ]
      },
      {
       "javascript": [
        "$('div#1bb71aa4-6fa9-4bf8-aed8-5c5177c77982').width('97.000000%')"
       ],
       "metadata": {},
       "output_type": "display_data",
       "text": [
        "<IPython.core.display.Javascript at 0x7f78c875cf50>"
       ]
      },
      {
       "javascript": [
        "$('div#1bb71aa4-6fa9-4bf8-aed8-5c5177c77982').width('98.000000%')"
       ],
       "metadata": {},
       "output_type": "display_data",
       "text": [
        "<IPython.core.display.Javascript at 0x7f78c875c210>"
       ]
      },
      {
       "javascript": [
        "$('div#1bb71aa4-6fa9-4bf8-aed8-5c5177c77982').width('99.000000%')"
       ],
       "metadata": {},
       "output_type": "display_data",
       "text": [
        "<IPython.core.display.Javascript at 0x7f78c875c110>"
       ]
      },
      {
       "javascript": [
        "$('div#1bb71aa4-6fa9-4bf8-aed8-5c5177c77982').width('100.000000%')"
       ],
       "metadata": {},
       "output_type": "display_data",
       "text": [
        "<IPython.core.display.Javascript at 0x7f78c875c390>"
       ]
      },
      {
       "output_type": "stream",
       "stream": "stdout",
       "text": [
        "Generating 100 realizations of the model (chunk size=1)\n"
       ]
      },
      {
       "html": [
        "\n",
        "                          <div style=\"border: 1px solid black; width:500px\">\n",
        "                          <div id=\"87d3bd71-7b27-483d-a217-664844a4c662\" style=\"background-color:blue; width:0%\">&nbsp;</div>\n",
        "                          </div>\n",
        "                          "
       ],
       "metadata": {},
       "output_type": "display_data",
       "text": [
        "<IPython.core.display.HTML at 0x7f78c74a6290>"
       ]
      },
      {
       "javascript": [
        "$('div#87d3bd71-7b27-483d-a217-664844a4c662').width('1.000000%')"
       ],
       "metadata": {},
       "output_type": "display_data",
       "text": [
        "<IPython.core.display.Javascript at 0x7f78c8724550>"
       ]
      },
      {
       "javascript": [
        "$('div#87d3bd71-7b27-483d-a217-664844a4c662').width('2.000000%')"
       ],
       "metadata": {},
       "output_type": "display_data",
       "text": [
        "<IPython.core.display.Javascript at 0x7f78c8724a10>"
       ]
      },
      {
       "javascript": [
        "$('div#87d3bd71-7b27-483d-a217-664844a4c662').width('3.000000%')"
       ],
       "metadata": {},
       "output_type": "display_data",
       "text": [
        "<IPython.core.display.Javascript at 0x7f78c8724a90>"
       ]
      },
      {
       "javascript": [
        "$('div#87d3bd71-7b27-483d-a217-664844a4c662').width('4.000000%')"
       ],
       "metadata": {},
       "output_type": "display_data",
       "text": [
        "<IPython.core.display.Javascript at 0x7f78c8724950>"
       ]
      },
      {
       "javascript": [
        "$('div#87d3bd71-7b27-483d-a217-664844a4c662').width('5.000000%')"
       ],
       "metadata": {},
       "output_type": "display_data",
       "text": [
        "<IPython.core.display.Javascript at 0x7f78c95c6a50>"
       ]
      },
      {
       "javascript": [
        "$('div#87d3bd71-7b27-483d-a217-664844a4c662').width('6.000000%')"
       ],
       "metadata": {},
       "output_type": "display_data",
       "text": [
        "<IPython.core.display.Javascript at 0x7f78c7483c10>"
       ]
      },
      {
       "javascript": [
        "$('div#87d3bd71-7b27-483d-a217-664844a4c662').width('7.000000%')"
       ],
       "metadata": {},
       "output_type": "display_data",
       "text": [
        "<IPython.core.display.Javascript at 0x7f78c7483b10>"
       ]
      },
      {
       "javascript": [
        "$('div#87d3bd71-7b27-483d-a217-664844a4c662').width('8.000000%')"
       ],
       "metadata": {},
       "output_type": "display_data",
       "text": [
        "<IPython.core.display.Javascript at 0x7f78c74834d0>"
       ]
      },
      {
       "javascript": [
        "$('div#87d3bd71-7b27-483d-a217-664844a4c662').width('9.000000%')"
       ],
       "metadata": {},
       "output_type": "display_data",
       "text": [
        "<IPython.core.display.Javascript at 0x7f78c7483090>"
       ]
      },
      {
       "javascript": [
        "$('div#87d3bd71-7b27-483d-a217-664844a4c662').width('10.000000%')"
       ],
       "metadata": {},
       "output_type": "display_data",
       "text": [
        "<IPython.core.display.Javascript at 0x7f78c7483cd0>"
       ]
      },
      {
       "javascript": [
        "$('div#87d3bd71-7b27-483d-a217-664844a4c662').width('11.000000%')"
       ],
       "metadata": {},
       "output_type": "display_data",
       "text": [
        "<IPython.core.display.Javascript at 0x7f78c881cf50>"
       ]
      },
      {
       "javascript": [
        "$('div#87d3bd71-7b27-483d-a217-664844a4c662').width('12.000000%')"
       ],
       "metadata": {},
       "output_type": "display_data",
       "text": [
        "<IPython.core.display.Javascript at 0x7f78c881c890>"
       ]
      },
      {
       "javascript": [
        "$('div#87d3bd71-7b27-483d-a217-664844a4c662').width('13.000000%')"
       ],
       "metadata": {},
       "output_type": "display_data",
       "text": [
        "<IPython.core.display.Javascript at 0x7f78c8724b90>"
       ]
      },
      {
       "javascript": [
        "$('div#87d3bd71-7b27-483d-a217-664844a4c662').width('14.000000%')"
       ],
       "metadata": {},
       "output_type": "display_data",
       "text": [
        "<IPython.core.display.Javascript at 0x7f78c9e27290>"
       ]
      },
      {
       "javascript": [
        "$('div#87d3bd71-7b27-483d-a217-664844a4c662').width('15.000000%')"
       ],
       "metadata": {},
       "output_type": "display_data",
       "text": [
        "<IPython.core.display.Javascript at 0x7f78c9e274d0>"
       ]
      },
      {
       "javascript": [
        "$('div#87d3bd71-7b27-483d-a217-664844a4c662').width('16.000000%')"
       ],
       "metadata": {},
       "output_type": "display_data",
       "text": [
        "<IPython.core.display.Javascript at 0x7f78c9e27190>"
       ]
      },
      {
       "javascript": [
        "$('div#87d3bd71-7b27-483d-a217-664844a4c662').width('17.000000%')"
       ],
       "metadata": {},
       "output_type": "display_data",
       "text": [
        "<IPython.core.display.Javascript at 0x7f78c881c3d0>"
       ]
      },
      {
       "javascript": [
        "$('div#87d3bd71-7b27-483d-a217-664844a4c662').width('18.000000%')"
       ],
       "metadata": {},
       "output_type": "display_data",
       "text": [
        "<IPython.core.display.Javascript at 0x7f78c9e27190>"
       ]
      },
      {
       "javascript": [
        "$('div#87d3bd71-7b27-483d-a217-664844a4c662').width('19.000000%')"
       ],
       "metadata": {},
       "output_type": "display_data",
       "text": [
        "<IPython.core.display.Javascript at 0x7f78c9e27b50>"
       ]
      },
      {
       "javascript": [
        "$('div#87d3bd71-7b27-483d-a217-664844a4c662').width('20.000000%')"
       ],
       "metadata": {},
       "output_type": "display_data",
       "text": [
        "<IPython.core.display.Javascript at 0x7f78c881c3d0>"
       ]
      },
      {
       "javascript": [
        "$('div#87d3bd71-7b27-483d-a217-664844a4c662').width('21.000000%')"
       ],
       "metadata": {},
       "output_type": "display_data",
       "text": [
        "<IPython.core.display.Javascript at 0x7f78c881c890>"
       ]
      },
      {
       "javascript": [
        "$('div#87d3bd71-7b27-483d-a217-664844a4c662').width('22.000000%')"
       ],
       "metadata": {},
       "output_type": "display_data",
       "text": [
        "<IPython.core.display.Javascript at 0x7f78c9e274d0>"
       ]
      },
      {
       "javascript": [
        "$('div#87d3bd71-7b27-483d-a217-664844a4c662').width('23.000000%')"
       ],
       "metadata": {},
       "output_type": "display_data",
       "text": [
        "<IPython.core.display.Javascript at 0x7f78c7483090>"
       ]
      },
      {
       "javascript": [
        "$('div#87d3bd71-7b27-483d-a217-664844a4c662').width('24.000000%')"
       ],
       "metadata": {},
       "output_type": "display_data",
       "text": [
        "<IPython.core.display.Javascript at 0x7f78c95c6a50>"
       ]
      },
      {
       "javascript": [
        "$('div#87d3bd71-7b27-483d-a217-664844a4c662').width('25.000000%')"
       ],
       "metadata": {},
       "output_type": "display_data",
       "text": [
        "<IPython.core.display.Javascript at 0x7f78c74834d0>"
       ]
      },
      {
       "javascript": [
        "$('div#87d3bd71-7b27-483d-a217-664844a4c662').width('26.000000%')"
       ],
       "metadata": {},
       "output_type": "display_data",
       "text": [
        "<IPython.core.display.Javascript at 0x7f78c7483c10>"
       ]
      },
      {
       "javascript": [
        "$('div#87d3bd71-7b27-483d-a217-664844a4c662').width('27.000000%')"
       ],
       "metadata": {},
       "output_type": "display_data",
       "text": [
        "<IPython.core.display.Javascript at 0x7f78c7483b10>"
       ]
      },
      {
       "javascript": [
        "$('div#87d3bd71-7b27-483d-a217-664844a4c662').width('28.000000%')"
       ],
       "metadata": {},
       "output_type": "display_data",
       "text": [
        "<IPython.core.display.Javascript at 0x7f78c881cf50>"
       ]
      },
      {
       "javascript": [
        "$('div#87d3bd71-7b27-483d-a217-664844a4c662').width('29.000000%')"
       ],
       "metadata": {},
       "output_type": "display_data",
       "text": [
        "<IPython.core.display.Javascript at 0x7f78c8724b90>"
       ]
      },
      {
       "javascript": [
        "$('div#87d3bd71-7b27-483d-a217-664844a4c662').width('30.000000%')"
       ],
       "metadata": {},
       "output_type": "display_data",
       "text": [
        "<IPython.core.display.Javascript at 0x7f78c8724950>"
       ]
      },
      {
       "javascript": [
        "$('div#87d3bd71-7b27-483d-a217-664844a4c662').width('31.000000%')"
       ],
       "metadata": {},
       "output_type": "display_data",
       "text": [
        "<IPython.core.display.Javascript at 0x7f78c8724a90>"
       ]
      },
      {
       "javascript": [
        "$('div#87d3bd71-7b27-483d-a217-664844a4c662').width('32.000000%')"
       ],
       "metadata": {},
       "output_type": "display_data",
       "text": [
        "<IPython.core.display.Javascript at 0x7f78c8724a10>"
       ]
      },
      {
       "javascript": [
        "$('div#87d3bd71-7b27-483d-a217-664844a4c662').width('33.000000%')"
       ],
       "metadata": {},
       "output_type": "display_data",
       "text": [
        "<IPython.core.display.Javascript at 0x7f78c8724750>"
       ]
      },
      {
       "javascript": [
        "$('div#87d3bd71-7b27-483d-a217-664844a4c662').width('34.000000%')"
       ],
       "metadata": {},
       "output_type": "display_data",
       "text": [
        "<IPython.core.display.Javascript at 0x7f78c8724550>"
       ]
      },
      {
       "javascript": [
        "$('div#87d3bd71-7b27-483d-a217-664844a4c662').width('35.000000%')"
       ],
       "metadata": {},
       "output_type": "display_data",
       "text": [
        "<IPython.core.display.Javascript at 0x7f78c875c110>"
       ]
      },
      {
       "javascript": [
        "$('div#87d3bd71-7b27-483d-a217-664844a4c662').width('36.000000%')"
       ],
       "metadata": {},
       "output_type": "display_data",
       "text": [
        "<IPython.core.display.Javascript at 0x7f78c875c210>"
       ]
      },
      {
       "javascript": [
        "$('div#87d3bd71-7b27-483d-a217-664844a4c662').width('37.000000%')"
       ],
       "metadata": {},
       "output_type": "display_data",
       "text": [
        "<IPython.core.display.Javascript at 0x7f78c875cf50>"
       ]
      },
      {
       "javascript": [
        "$('div#87d3bd71-7b27-483d-a217-664844a4c662').width('38.000000%')"
       ],
       "metadata": {},
       "output_type": "display_data",
       "text": [
        "<IPython.core.display.Javascript at 0x7f78c875cb50>"
       ]
      },
      {
       "javascript": [
        "$('div#87d3bd71-7b27-483d-a217-664844a4c662').width('39.000000%')"
       ],
       "metadata": {},
       "output_type": "display_data",
       "text": [
        "<IPython.core.display.Javascript at 0x7f78c875c750>"
       ]
      },
      {
       "javascript": [
        "$('div#87d3bd71-7b27-483d-a217-664844a4c662').width('40.000000%')"
       ],
       "metadata": {},
       "output_type": "display_data",
       "text": [
        "<IPython.core.display.Javascript at 0x7f78c875c190>"
       ]
      },
      {
       "javascript": [
        "$('div#87d3bd71-7b27-483d-a217-664844a4c662').width('41.000000%')"
       ],
       "metadata": {},
       "output_type": "display_data",
       "text": [
        "<IPython.core.display.Javascript at 0x7f78c875c810>"
       ]
      },
      {
       "javascript": [
        "$('div#87d3bd71-7b27-483d-a217-664844a4c662').width('42.000000%')"
       ],
       "metadata": {},
       "output_type": "display_data",
       "text": [
        "<IPython.core.display.Javascript at 0x7f78c875c390>"
       ]
      },
      {
       "javascript": [
        "$('div#87d3bd71-7b27-483d-a217-664844a4c662').width('43.000000%')"
       ],
       "metadata": {},
       "output_type": "display_data",
       "text": [
        "<IPython.core.display.Javascript at 0x7f78c9e27290>"
       ]
      },
      {
       "javascript": [
        "$('div#87d3bd71-7b27-483d-a217-664844a4c662').width('44.000000%')"
       ],
       "metadata": {},
       "output_type": "display_data",
       "text": [
        "<IPython.core.display.Javascript at 0x7f78c74b4ad0>"
       ]
      },
      {
       "javascript": [
        "$('div#87d3bd71-7b27-483d-a217-664844a4c662').width('45.000000%')"
       ],
       "metadata": {},
       "output_type": "display_data",
       "text": [
        "<IPython.core.display.Javascript at 0x7f78c74b4850>"
       ]
      },
      {
       "javascript": [
        "$('div#87d3bd71-7b27-483d-a217-664844a4c662').width('46.000000%')"
       ],
       "metadata": {},
       "output_type": "display_data",
       "text": [
        "<IPython.core.display.Javascript at 0x7f78c74b4250>"
       ]
      },
      {
       "javascript": [
        "$('div#87d3bd71-7b27-483d-a217-664844a4c662').width('47.000000%')"
       ],
       "metadata": {},
       "output_type": "display_data",
       "text": [
        "<IPython.core.display.Javascript at 0x7f78c74b4e90>"
       ]
      },
      {
       "javascript": [
        "$('div#87d3bd71-7b27-483d-a217-664844a4c662').width('48.000000%')"
       ],
       "metadata": {},
       "output_type": "display_data",
       "text": [
        "<IPython.core.display.Javascript at 0x7f78c74b4950>"
       ]
      },
      {
       "javascript": [
        "$('div#87d3bd71-7b27-483d-a217-664844a4c662').width('49.000000%')"
       ],
       "metadata": {},
       "output_type": "display_data",
       "text": [
        "<IPython.core.display.Javascript at 0x7f78c74b4d90>"
       ]
      },
      {
       "javascript": [
        "$('div#87d3bd71-7b27-483d-a217-664844a4c662').width('50.000000%')"
       ],
       "metadata": {},
       "output_type": "display_data",
       "text": [
        "<IPython.core.display.Javascript at 0x7f78c74b4150>"
       ]
      },
      {
       "javascript": [
        "$('div#87d3bd71-7b27-483d-a217-664844a4c662').width('51.000000%')"
       ],
       "metadata": {},
       "output_type": "display_data",
       "text": [
        "<IPython.core.display.Javascript at 0x7f78c74b4350>"
       ]
      },
      {
       "javascript": [
        "$('div#87d3bd71-7b27-483d-a217-664844a4c662').width('52.000000%')"
       ],
       "metadata": {},
       "output_type": "display_data",
       "text": [
        "<IPython.core.display.Javascript at 0x7f78c74b4f90>"
       ]
      },
      {
       "javascript": [
        "$('div#87d3bd71-7b27-483d-a217-664844a4c662').width('53.000000%')"
       ],
       "metadata": {},
       "output_type": "display_data",
       "text": [
        "<IPython.core.display.Javascript at 0x7f78c74b4fd0>"
       ]
      },
      {
       "javascript": [
        "$('div#87d3bd71-7b27-483d-a217-664844a4c662').width('54.000000%')"
       ],
       "metadata": {},
       "output_type": "display_data",
       "text": [
        "<IPython.core.display.Javascript at 0x7f78c74b4a90>"
       ]
      },
      {
       "javascript": [
        "$('div#87d3bd71-7b27-483d-a217-664844a4c662').width('55.000000%')"
       ],
       "metadata": {},
       "output_type": "display_data",
       "text": [
        "<IPython.core.display.Javascript at 0x7f78c74b4750>"
       ]
      },
      {
       "javascript": [
        "$('div#87d3bd71-7b27-483d-a217-664844a4c662').width('56.000000%')"
       ],
       "metadata": {},
       "output_type": "display_data",
       "text": [
        "<IPython.core.display.Javascript at 0x7f78c74b4390>"
       ]
      },
      {
       "javascript": [
        "$('div#87d3bd71-7b27-483d-a217-664844a4c662').width('57.000000%')"
       ],
       "metadata": {},
       "output_type": "display_data",
       "text": [
        "<IPython.core.display.Javascript at 0x7f78c74b4b10>"
       ]
      },
      {
       "javascript": [
        "$('div#87d3bd71-7b27-483d-a217-664844a4c662').width('58.000000%')"
       ],
       "metadata": {},
       "output_type": "display_data",
       "text": [
        "<IPython.core.display.Javascript at 0x7f78c74b4b50>"
       ]
      },
      {
       "javascript": [
        "$('div#87d3bd71-7b27-483d-a217-664844a4c662').width('59.000000%')"
       ],
       "metadata": {},
       "output_type": "display_data",
       "text": [
        "<IPython.core.display.Javascript at 0x7f78c74b4990>"
       ]
      },
      {
       "javascript": [
        "$('div#87d3bd71-7b27-483d-a217-664844a4c662').width('60.000000%')"
       ],
       "metadata": {},
       "output_type": "display_data",
       "text": [
        "<IPython.core.display.Javascript at 0x7f78c74b4a10>"
       ]
      },
      {
       "javascript": [
        "$('div#87d3bd71-7b27-483d-a217-664844a4c662').width('61.000000%')"
       ],
       "metadata": {},
       "output_type": "display_data",
       "text": [
        "<IPython.core.display.Javascript at 0x7f78c74b42d0>"
       ]
      },
      {
       "javascript": [
        "$('div#87d3bd71-7b27-483d-a217-664844a4c662').width('62.000000%')"
       ],
       "metadata": {},
       "output_type": "display_data",
       "text": [
        "<IPython.core.display.Javascript at 0x7f78c74b4890>"
       ]
      },
      {
       "javascript": [
        "$('div#87d3bd71-7b27-483d-a217-664844a4c662').width('63.000000%')"
       ],
       "metadata": {},
       "output_type": "display_data",
       "text": [
        "<IPython.core.display.Javascript at 0x7f78c74b4810>"
       ]
      },
      {
       "javascript": [
        "$('div#87d3bd71-7b27-483d-a217-664844a4c662').width('64.000000%')"
       ],
       "metadata": {},
       "output_type": "display_data",
       "text": [
        "<IPython.core.display.Javascript at 0x7f78c7483cd0>"
       ]
      },
      {
       "javascript": [
        "$('div#87d3bd71-7b27-483d-a217-664844a4c662').width('65.000000%')"
       ],
       "metadata": {},
       "output_type": "display_data",
       "text": [
        "<IPython.core.display.Javascript at 0x7f78c8767a10>"
       ]
      },
      {
       "javascript": [
        "$('div#87d3bd71-7b27-483d-a217-664844a4c662').width('66.000000%')"
       ],
       "metadata": {},
       "output_type": "display_data",
       "text": [
        "<IPython.core.display.Javascript at 0x7f78c8767890>"
       ]
      },
      {
       "javascript": [
        "$('div#87d3bd71-7b27-483d-a217-664844a4c662').width('67.000000%')"
       ],
       "metadata": {},
       "output_type": "display_data",
       "text": [
        "<IPython.core.display.Javascript at 0x7f78c875c890>"
       ]
      },
      {
       "javascript": [
        "$('div#87d3bd71-7b27-483d-a217-664844a4c662').width('68.000000%')"
       ],
       "metadata": {},
       "output_type": "display_data",
       "text": [
        "<IPython.core.display.Javascript at 0x7f78c8767850>"
       ]
      },
      {
       "javascript": [
        "$('div#87d3bd71-7b27-483d-a217-664844a4c662').width('69.000000%')"
       ],
       "metadata": {},
       "output_type": "display_data",
       "text": [
        "<IPython.core.display.Javascript at 0x7f78c8767290>"
       ]
      },
      {
       "javascript": [
        "$('div#87d3bd71-7b27-483d-a217-664844a4c662').width('70.000000%')"
       ],
       "metadata": {},
       "output_type": "display_data",
       "text": [
        "<IPython.core.display.Javascript at 0x7f78c87671d0>"
       ]
      },
      {
       "javascript": [
        "$('div#87d3bd71-7b27-483d-a217-664844a4c662').width('71.000000%')"
       ],
       "metadata": {},
       "output_type": "display_data",
       "text": [
        "<IPython.core.display.Javascript at 0x7f78c8767450>"
       ]
      },
      {
       "javascript": [
        "$('div#87d3bd71-7b27-483d-a217-664844a4c662').width('72.000000%')"
       ],
       "metadata": {},
       "output_type": "display_data",
       "text": [
        "<IPython.core.display.Javascript at 0x7f78c74cb110>"
       ]
      },
      {
       "javascript": [
        "$('div#87d3bd71-7b27-483d-a217-664844a4c662').width('73.000000%')"
       ],
       "metadata": {},
       "output_type": "display_data",
       "text": [
        "<IPython.core.display.Javascript at 0x7f78c8767850>"
       ]
      },
      {
       "javascript": [
        "$('div#87d3bd71-7b27-483d-a217-664844a4c662').width('74.000000%')"
       ],
       "metadata": {},
       "output_type": "display_data",
       "text": [
        "<IPython.core.display.Javascript at 0x7f78c8767450>"
       ]
      },
      {
       "javascript": [
        "$('div#87d3bd71-7b27-483d-a217-664844a4c662').width('75.000000%')"
       ],
       "metadata": {},
       "output_type": "display_data",
       "text": [
        "<IPython.core.display.Javascript at 0x7f78c87671d0>"
       ]
      },
      {
       "javascript": [
        "$('div#87d3bd71-7b27-483d-a217-664844a4c662').width('76.000000%')"
       ],
       "metadata": {},
       "output_type": "display_data",
       "text": [
        "<IPython.core.display.Javascript at 0x7f78c8767290>"
       ]
      },
      {
       "javascript": [
        "$('div#87d3bd71-7b27-483d-a217-664844a4c662').width('77.000000%')"
       ],
       "metadata": {},
       "output_type": "display_data",
       "text": [
        "<IPython.core.display.Javascript at 0x7f78c9f253d0>"
       ]
      },
      {
       "javascript": [
        "$('div#87d3bd71-7b27-483d-a217-664844a4c662').width('78.000000%')"
       ],
       "metadata": {},
       "output_type": "display_data",
       "text": [
        "<IPython.core.display.Javascript at 0x7f78c74b4810>"
       ]
      },
      {
       "javascript": [
        "$('div#87d3bd71-7b27-483d-a217-664844a4c662').width('79.000000%')"
       ],
       "metadata": {},
       "output_type": "display_data",
       "text": [
        "<IPython.core.display.Javascript at 0x7f78c74b4890>"
       ]
      },
      {
       "javascript": [
        "$('div#87d3bd71-7b27-483d-a217-664844a4c662').width('80.000000%')"
       ],
       "metadata": {},
       "output_type": "display_data",
       "text": [
        "<IPython.core.display.Javascript at 0x7f78c74b42d0>"
       ]
      },
      {
       "javascript": [
        "$('div#87d3bd71-7b27-483d-a217-664844a4c662').width('81.000000%')"
       ],
       "metadata": {},
       "output_type": "display_data",
       "text": [
        "<IPython.core.display.Javascript at 0x7f78c74b4a10>"
       ]
      },
      {
       "javascript": [
        "$('div#87d3bd71-7b27-483d-a217-664844a4c662').width('82.000000%')"
       ],
       "metadata": {},
       "output_type": "display_data",
       "text": [
        "<IPython.core.display.Javascript at 0x7f78c74b4990>"
       ]
      },
      {
       "javascript": [
        "$('div#87d3bd71-7b27-483d-a217-664844a4c662').width('83.000000%')"
       ],
       "metadata": {},
       "output_type": "display_data",
       "text": [
        "<IPython.core.display.Javascript at 0x7f78c74b4b50>"
       ]
      },
      {
       "javascript": [
        "$('div#87d3bd71-7b27-483d-a217-664844a4c662').width('84.000000%')"
       ],
       "metadata": {},
       "output_type": "display_data",
       "text": [
        "<IPython.core.display.Javascript at 0x7f78c74b4b10>"
       ]
      },
      {
       "javascript": [
        "$('div#87d3bd71-7b27-483d-a217-664844a4c662').width('85.000000%')"
       ],
       "metadata": {},
       "output_type": "display_data",
       "text": [
        "<IPython.core.display.Javascript at 0x7f78c74b4390>"
       ]
      },
      {
       "javascript": [
        "$('div#87d3bd71-7b27-483d-a217-664844a4c662').width('86.000000%')"
       ],
       "metadata": {},
       "output_type": "display_data",
       "text": [
        "<IPython.core.display.Javascript at 0x7f78c74b4750>"
       ]
      },
      {
       "javascript": [
        "$('div#87d3bd71-7b27-483d-a217-664844a4c662').width('87.000000%')"
       ],
       "metadata": {},
       "output_type": "display_data",
       "text": [
        "<IPython.core.display.Javascript at 0x7f78c74b4a90>"
       ]
      },
      {
       "javascript": [
        "$('div#87d3bd71-7b27-483d-a217-664844a4c662').width('88.000000%')"
       ],
       "metadata": {},
       "output_type": "display_data",
       "text": [
        "<IPython.core.display.Javascript at 0x7f78c74b4fd0>"
       ]
      },
      {
       "javascript": [
        "$('div#87d3bd71-7b27-483d-a217-664844a4c662').width('89.000000%')"
       ],
       "metadata": {},
       "output_type": "display_data",
       "text": [
        "<IPython.core.display.Javascript at 0x7f78c74b4f90>"
       ]
      },
      {
       "javascript": [
        "$('div#87d3bd71-7b27-483d-a217-664844a4c662').width('90.000000%')"
       ],
       "metadata": {},
       "output_type": "display_data",
       "text": [
        "<IPython.core.display.Javascript at 0x7f78c74b4350>"
       ]
      },
      {
       "javascript": [
        "$('div#87d3bd71-7b27-483d-a217-664844a4c662').width('91.000000%')"
       ],
       "metadata": {},
       "output_type": "display_data",
       "text": [
        "<IPython.core.display.Javascript at 0x7f78c74b4150>"
       ]
      },
      {
       "javascript": [
        "$('div#87d3bd71-7b27-483d-a217-664844a4c662').width('92.000000%')"
       ],
       "metadata": {},
       "output_type": "display_data",
       "text": [
        "<IPython.core.display.Javascript at 0x7f78c74b4d90>"
       ]
      },
      {
       "javascript": [
        "$('div#87d3bd71-7b27-483d-a217-664844a4c662').width('93.000000%')"
       ],
       "metadata": {},
       "output_type": "display_data",
       "text": [
        "<IPython.core.display.Javascript at 0x7f78c74b4950>"
       ]
      },
      {
       "javascript": [
        "$('div#87d3bd71-7b27-483d-a217-664844a4c662').width('94.000000%')"
       ],
       "metadata": {},
       "output_type": "display_data",
       "text": [
        "<IPython.core.display.Javascript at 0x7f78c74b4e90>"
       ]
      },
      {
       "javascript": [
        "$('div#87d3bd71-7b27-483d-a217-664844a4c662').width('95.000000%')"
       ],
       "metadata": {},
       "output_type": "display_data",
       "text": [
        "<IPython.core.display.Javascript at 0x7f78c74b4250>"
       ]
      },
      {
       "javascript": [
        "$('div#87d3bd71-7b27-483d-a217-664844a4c662').width('96.000000%')"
       ],
       "metadata": {},
       "output_type": "display_data",
       "text": [
        "<IPython.core.display.Javascript at 0x7f78c74b4850>"
       ]
      },
      {
       "javascript": [
        "$('div#87d3bd71-7b27-483d-a217-664844a4c662').width('97.000000%')"
       ],
       "metadata": {},
       "output_type": "display_data",
       "text": [
        "<IPython.core.display.Javascript at 0x7f78c74b4310>"
       ]
      },
      {
       "javascript": [
        "$('div#87d3bd71-7b27-483d-a217-664844a4c662').width('98.000000%')"
       ],
       "metadata": {},
       "output_type": "display_data",
       "text": [
        "<IPython.core.display.Javascript at 0x7f78c8767890>"
       ]
      },
      {
       "javascript": [
        "$('div#87d3bd71-7b27-483d-a217-664844a4c662').width('99.000000%')"
       ],
       "metadata": {},
       "output_type": "display_data",
       "text": [
        "<IPython.core.display.Javascript at 0x7f78c875c390>"
       ]
      },
      {
       "javascript": [
        "$('div#87d3bd71-7b27-483d-a217-664844a4c662').width('100.000000%')"
       ],
       "metadata": {},
       "output_type": "display_data",
       "text": [
        "<IPython.core.display.Javascript at 0x7f78c875c810>"
       ]
      },
      {
       "output_type": "stream",
       "stream": "stdout",
       "text": [
        "[94.08983, 129.355123, 164.059823, 199.388099, 234.282562]\n"
       ]
      }
     ],
     "prompt_number": 22
    },
    {
     "cell_type": "code",
     "collapsed": false,
     "input": [
      "plt.clf()\n",
      "fit = numpy.polyfit(end_times, bm1_wall_time,1)\n",
      "print fit\n",
      "plt.plot(end_times, bm1_wall_time,'.-b')\n",
      "fitstr = \"Slope: %e\\nY-intercept: %e\" % (fit[0], fit[1])\n",
      "plt.text(end_times[0],0.9*max(bm1_wall_time), fitstr)\n",
      "plt.xlabel('Simulation Length')\n",
      "plt.ylabel('Computation Time')\n",
      "plt.title('Serialization Overhead Benchmark: \\nVary Computation, Constant Data')"
     ],
     "language": "python",
     "metadata": {},
     "outputs": [
      {
       "output_type": "stream",
       "stream": "stdout",
       "text": [
        "[  0.35041844  59.1095554 ]\n"
       ]
      },
      {
       "metadata": {},
       "output_type": "pyout",
       "prompt_number": 31,
       "text": [
        "<matplotlib.text.Text at 0x7f78c6cbfa10>"
       ]
      },
      {
       "metadata": {},
       "output_type": "display_data",
       "png": "[encoded data removed]",
       "text": [
        "<matplotlib.figure.Figure at 0x7f78c6ebad90>"
       ]
      }
     ],
     "prompt_number": 31
    },
    {
     "cell_type": "code",
     "collapsed": false,
     "input": [],
     "language": "python",
     "metadata": {},
     "outputs": [],
     "prompt_number": 31
    },
    {
     "cell_type": "code",
     "collapsed": false,
     "input": [],
     "language": "python",
     "metadata": {},
     "outputs": [],
     "prompt_number": 31
    },
    {
     "cell_type": "heading",
     "level": 3,
     "metadata": {},
     "source": [
      "2. Keep End-time constant, Vary num-timepoints: data size is constant, computation time varies, shows I/O overhead."
     ]
    },
    {
     "cell_type": "code",
     "collapsed": false,
     "input": [
      "def find_result_size(result):\n",
      "    import cloud\n",
      "    return len(cloud.serialization.cloudpickle.dumps(result))"
     ],
     "language": "python",
     "metadata": {},
     "outputs": [],
     "prompt_number": 46
    },
    {
     "cell_type": "code",
     "collapsed": false,
     "input": [
      "model = SimpleDiffusion(timespan=numpy.linspace(0,10,11))\n",
      "result = model.run()\n",
      "find_result_size(result)"
     ],
     "language": "python",
     "metadata": {},
     "outputs": [],
     "prompt_number": 43
    },
    {
     "cell_type": "code",
     "collapsed": false,
     "input": [
      "tf = 500\n",
      "vary_timepoints = [1, 2, 5, 10, 20, 50, 100, 200, 500]\n",
      "bm2_wall_time = []\n",
      "bm2_file_size = []\n",
      "for np in vary_timepoints:\n",
      "    ts = numpy.linspace(0,tf,np+1)\n",
      "    ensemble = DistributedEnsemble(model_class=SimpleDiffusion, parameters={'timespan':ts})\n",
      "    res  = ensemble.add_realizations(number_of_realizations=100, chunk_size=1)\n",
      "    sz = ensemble.mean(mapper=find_result_size)\n",
      "    bm2_file_size.append(sz)\n",
      "    bm2_wall_time.append(res[\"wall_time\"])\n",
      "print bm2_wall_time\n"
     ],
     "language": "python",
     "metadata": {},
     "outputs": [
      {
       "output_type": "stream",
       "stream": "stdout",
       "text": [
        "Generating 100 realizations of the model (chunk size=1)\n"
       ]
      },
      {
       "html": [
        "\n",
        "                          <div style=\"border: 1px solid black; width:500px\">\n",
        "                          <div id=\"d99f464a-8bf6-4332-b4c6-a00466d44cf5\" style=\"background-color:blue; width:0%\">&nbsp;</div>\n",
        "                          </div>\n",
        "                          "
       ],
       "metadata": {},
       "output_type": "display_data",
       "text": [
        "<IPython.core.display.HTML at 0x7f78c67da650>"
       ]
      },
      {
       "javascript": [
        "$('div#d99f464a-8bf6-4332-b4c6-a00466d44cf5').width('1.000000%')"
       ],
       "metadata": {},
       "output_type": "display_data",
       "text": [
        "<IPython.core.display.Javascript at 0x7f78c68af850>"
       ]
      },
      {
       "javascript": [
        "$('div#d99f464a-8bf6-4332-b4c6-a00466d44cf5').width('2.000000%')"
       ],
       "metadata": {},
       "output_type": "display_data",
       "text": [
        "<IPython.core.display.Javascript at 0x7f78c63b7550>"
       ]
      },
      {
       "javascript": [
        "$('div#d99f464a-8bf6-4332-b4c6-a00466d44cf5').width('3.000000%')"
       ],
       "metadata": {},
       "output_type": "display_data",
       "text": [
        "<IPython.core.display.Javascript at 0x7f78c63b7a90>"
       ]
      },
      {
       "javascript": [
        "$('div#d99f464a-8bf6-4332-b4c6-a00466d44cf5').width('4.000000%')"
       ],
       "metadata": {},
       "output_type": "display_data",
       "text": [
        "<IPython.core.display.Javascript at 0x7f78c63b7690>"
       ]
      },
      {
       "javascript": [
        "$('div#d99f464a-8bf6-4332-b4c6-a00466d44cf5').width('5.000000%')"
       ],
       "metadata": {},
       "output_type": "display_data",
       "text": [
        "<IPython.core.display.Javascript at 0x7f78c63b7210>"
       ]
      },
      {
       "javascript": [
        "$('div#d99f464a-8bf6-4332-b4c6-a00466d44cf5').width('6.000000%')"
       ],
       "metadata": {},
       "output_type": "display_data",
       "text": [
        "<IPython.core.display.Javascript at 0x7f78c63b73d0>"
       ]
      },
      {
       "javascript": [
        "$('div#d99f464a-8bf6-4332-b4c6-a00466d44cf5').width('7.000000%')"
       ],
       "metadata": {},
       "output_type": "display_data",
       "text": [
        "<IPython.core.display.Javascript at 0x7f78c63b7650>"
       ]
      },
      {
       "javascript": [
        "$('div#d99f464a-8bf6-4332-b4c6-a00466d44cf5').width('8.000000%')"
       ],
       "metadata": {},
       "output_type": "display_data",
       "text": [
        "<IPython.core.display.Javascript at 0x7f78c63b7b10>"
       ]
      },
      {
       "javascript": [
        "$('div#d99f464a-8bf6-4332-b4c6-a00466d44cf5').width('9.000000%')"
       ],
       "metadata": {},
       "output_type": "display_data",
       "text": [
        "<IPython.core.display.Javascript at 0x7f78c6456c50>"
       ]
      },
      {
       "javascript": [
        "$('div#d99f464a-8bf6-4332-b4c6-a00466d44cf5').width('10.000000%')"
       ],
       "metadata": {},
       "output_type": "display_data",
       "text": [
        "<IPython.core.display.Javascript at 0x7f78c64563d0>"
       ]
      },
      {
       "javascript": [
        "$('div#d99f464a-8bf6-4332-b4c6-a00466d44cf5').width('11.000000%')"
       ],
       "metadata": {},
       "output_type": "display_data",
       "text": [
        "<IPython.core.display.Javascript at 0x7f78c6456d10>"
       ]
      },
      {
       "javascript": [
        "$('div#d99f464a-8bf6-4332-b4c6-a00466d44cf5').width('12.000000%')"
       ],
       "metadata": {},
       "output_type": "display_data",
       "text": [
        "<IPython.core.display.Javascript at 0x7f78c633b290>"
       ]
      },
      {
       "javascript": [
        "$('div#d99f464a-8bf6-4332-b4c6-a00466d44cf5').width('13.000000%')"
       ],
       "metadata": {},
       "output_type": "display_data",
       "text": [
        "<IPython.core.display.Javascript at 0x7f78c633bfd0>"
       ]
      },
      {
       "javascript": [
        "$('div#d99f464a-8bf6-4332-b4c6-a00466d44cf5').width('14.000000%')"
       ],
       "metadata": {},
       "output_type": "display_data",
       "text": [
        "<IPython.core.display.Javascript at 0x7f78c633b610>"
       ]
      },
      {
       "javascript": [
        "$('div#d99f464a-8bf6-4332-b4c6-a00466d44cf5').width('15.000000%')"
       ],
       "metadata": {},
       "output_type": "display_data",
       "text": [
        "<IPython.core.display.Javascript at 0x7f78c6206650>"
       ]
      },
      {
       "javascript": [
        "$('div#d99f464a-8bf6-4332-b4c6-a00466d44cf5').width('16.000000%')"
       ],
       "metadata": {},
       "output_type": "display_data",
       "text": [
        "<IPython.core.display.Javascript at 0x7f78c6206450>"
       ]
      },
      {
       "javascript": [
        "$('div#d99f464a-8bf6-4332-b4c6-a00466d44cf5').width('17.000000%')"
       ],
       "metadata": {},
       "output_type": "display_data",
       "text": [
        "<IPython.core.display.Javascript at 0x7f78c6206b90>"
       ]
      },
      {
       "javascript": [
        "$('div#d99f464a-8bf6-4332-b4c6-a00466d44cf5').width('18.000000%')"
       ],
       "metadata": {},
       "output_type": "display_data",
       "text": [
        "<IPython.core.display.Javascript at 0x7f78c6206550>"
       ]
      },
      {
       "javascript": [
        "$('div#d99f464a-8bf6-4332-b4c6-a00466d44cf5').width('19.000000%')"
       ],
       "metadata": {},
       "output_type": "display_data",
       "text": [
        "<IPython.core.display.Javascript at 0x7f78c6206d90>"
       ]
      },
      {
       "javascript": [
        "$('div#d99f464a-8bf6-4332-b4c6-a00466d44cf5').width('20.000000%')"
       ],
       "metadata": {},
       "output_type": "display_data",
       "text": [
        "<IPython.core.display.Javascript at 0x7f78c6206e90>"
       ]
      },
      {
       "javascript": [
        "$('div#d99f464a-8bf6-4332-b4c6-a00466d44cf5').width('21.000000%')"
       ],
       "metadata": {},
       "output_type": "display_data",
       "text": [
        "<IPython.core.display.Javascript at 0x7f78c6206750>"
       ]
      },
      {
       "javascript": [
        "$('div#d99f464a-8bf6-4332-b4c6-a00466d44cf5').width('22.000000%')"
       ],
       "metadata": {},
       "output_type": "display_data",
       "text": [
        "<IPython.core.display.Javascript at 0x7f78c6206d50>"
       ]
      },
      {
       "javascript": [
        "$('div#d99f464a-8bf6-4332-b4c6-a00466d44cf5').width('23.000000%')"
       ],
       "metadata": {},
       "output_type": "display_data",
       "text": [
        "<IPython.core.display.Javascript at 0x7f78c6206d10>"
       ]
      },
      {
       "javascript": [
        "$('div#d99f464a-8bf6-4332-b4c6-a00466d44cf5').width('24.000000%')"
       ],
       "metadata": {},
       "output_type": "display_data",
       "text": [
        "<IPython.core.display.Javascript at 0x7f78c6206f90>"
       ]
      },
      {
       "javascript": [
        "$('div#d99f464a-8bf6-4332-b4c6-a00466d44cf5').width('25.000000%')"
       ],
       "metadata": {},
       "output_type": "display_data",
       "text": [
        "<IPython.core.display.Javascript at 0x7f78c6206950>"
       ]
      },
      {
       "javascript": [
        "$('div#d99f464a-8bf6-4332-b4c6-a00466d44cf5').width('26.000000%')"
       ],
       "metadata": {},
       "output_type": "display_data",
       "text": [
        "<IPython.core.display.Javascript at 0x7f78c63fa750>"
       ]
      },
      {
       "javascript": [
        "$('div#d99f464a-8bf6-4332-b4c6-a00466d44cf5').width('27.000000%')"
       ],
       "metadata": {},
       "output_type": "display_data",
       "text": [
        "<IPython.core.display.Javascript at 0x7f78c6211090>"
       ]
      },
      {
       "javascript": [
        "$('div#d99f464a-8bf6-4332-b4c6-a00466d44cf5').width('28.000000%')"
       ],
       "metadata": {},
       "output_type": "display_data",
       "text": [
        "<IPython.core.display.Javascript at 0x7f78c6206f10>"
       ]
      },
      {
       "javascript": [
        "$('div#d99f464a-8bf6-4332-b4c6-a00466d44cf5').width('29.000000%')"
       ],
       "metadata": {},
       "output_type": "display_data",
       "text": [
        "<IPython.core.display.Javascript at 0x7f78c624b510>"
       ]
      },
      {
       "javascript": [
        "$('div#d99f464a-8bf6-4332-b4c6-a00466d44cf5').width('30.000000%')"
       ],
       "metadata": {},
       "output_type": "display_data",
       "text": [
        "<IPython.core.display.Javascript at 0x7f78c624b790>"
       ]
      },
      {
       "javascript": [
        "$('div#d99f464a-8bf6-4332-b4c6-a00466d44cf5').width('31.000000%')"
       ],
       "metadata": {},
       "output_type": "display_data",
       "text": [
        "<IPython.core.display.Javascript at 0x7f78c624b2d0>"
       ]
      },
      {
       "javascript": [
        "$('div#d99f464a-8bf6-4332-b4c6-a00466d44cf5').width('32.000000%')"
       ],
       "metadata": {},
       "output_type": "display_data",
       "text": [
        "<IPython.core.display.Javascript at 0x7f78c624b410>"
       ]
      },
      {
       "javascript": [
        "$('div#d99f464a-8bf6-4332-b4c6-a00466d44cf5').width('33.000000%')"
       ],
       "metadata": {},
       "output_type": "display_data",
       "text": [
        "<IPython.core.display.Javascript at 0x7f78c624b990>"
       ]
      },
      {
       "javascript": [
        "$('div#d99f464a-8bf6-4332-b4c6-a00466d44cf5').width('34.000000%')"
       ],
       "metadata": {},
       "output_type": "display_data",
       "text": [
        "<IPython.core.display.Javascript at 0x7f78c624bcd0>"
       ]
      },
      {
       "javascript": [
        "$('div#d99f464a-8bf6-4332-b4c6-a00466d44cf5').width('35.000000%')"
       ],
       "metadata": {},
       "output_type": "display_data",
       "text": [
        "<IPython.core.display.Javascript at 0x7f78c624b850>"
       ]
      },
      {
       "javascript": [
        "$('div#d99f464a-8bf6-4332-b4c6-a00466d44cf5').width('36.000000%')"
       ],
       "metadata": {},
       "output_type": "display_data",
       "text": [
        "<IPython.core.display.Javascript at 0x7f78c624bed0>"
       ]
      },
      {
       "javascript": [
        "$('div#d99f464a-8bf6-4332-b4c6-a00466d44cf5').width('37.000000%')"
       ],
       "metadata": {},
       "output_type": "display_data",
       "text": [
        "<IPython.core.display.Javascript at 0x7f78c624bf10>"
       ]
      },
      {
       "javascript": [
        "$('div#d99f464a-8bf6-4332-b4c6-a00466d44cf5').width('38.000000%')"
       ],
       "metadata": {},
       "output_type": "display_data",
       "text": [
        "<IPython.core.display.Javascript at 0x7f78c624bf50>"
       ]
      },
      {
       "javascript": [
        "$('div#d99f464a-8bf6-4332-b4c6-a00466d44cf5').width('39.000000%')"
       ],
       "metadata": {},
       "output_type": "display_data",
       "text": [
        "<IPython.core.display.Javascript at 0x7f78c624be10>"
       ]
      },
      {
       "javascript": [
        "$('div#d99f464a-8bf6-4332-b4c6-a00466d44cf5').width('40.000000%')"
       ],
       "metadata": {},
       "output_type": "display_data",
       "text": [
        "<IPython.core.display.Javascript at 0x7f78c624be50>"
       ]
      },
      {
       "javascript": [
        "$('div#d99f464a-8bf6-4332-b4c6-a00466d44cf5').width('41.000000%')"
       ],
       "metadata": {},
       "output_type": "display_data",
       "text": [
        "<IPython.core.display.Javascript at 0x7f78c63faad0>"
       ]
      },
      {
       "javascript": [
        "$('div#d99f464a-8bf6-4332-b4c6-a00466d44cf5').width('42.000000%')"
       ],
       "metadata": {},
       "output_type": "display_data",
       "text": [
        "<IPython.core.display.Javascript at 0x7f78c6211050>"
       ]
      },
      {
       "javascript": [
        "$('div#d99f464a-8bf6-4332-b4c6-a00466d44cf5').width('43.000000%')"
       ],
       "metadata": {},
       "output_type": "display_data",
       "text": [
        "<IPython.core.display.Javascript at 0x7f78c6206950>"
       ]
      },
      {
       "javascript": [
        "$('div#d99f464a-8bf6-4332-b4c6-a00466d44cf5').width('44.000000%')"
       ],
       "metadata": {},
       "output_type": "display_data",
       "text": [
        "<IPython.core.display.Javascript at 0x7f78c6206f90>"
       ]
      },
      {
       "javascript": [
        "$('div#d99f464a-8bf6-4332-b4c6-a00466d44cf5').width('45.000000%')"
       ],
       "metadata": {},
       "output_type": "display_data",
       "text": [
        "<IPython.core.display.Javascript at 0x7f78c6206d10>"
       ]
      },
      {
       "javascript": [
        "$('div#d99f464a-8bf6-4332-b4c6-a00466d44cf5').width('46.000000%')"
       ],
       "metadata": {},
       "output_type": "display_data",
       "text": [
        "<IPython.core.display.Javascript at 0x7f78c6206d50>"
       ]
      },
      {
       "javascript": [
        "$('div#d99f464a-8bf6-4332-b4c6-a00466d44cf5').width('47.000000%')"
       ],
       "metadata": {},
       "output_type": "display_data",
       "text": [
        "<IPython.core.display.Javascript at 0x7f78c6206750>"
       ]
      },
      {
       "javascript": [
        "$('div#d99f464a-8bf6-4332-b4c6-a00466d44cf5').width('48.000000%')"
       ],
       "metadata": {},
       "output_type": "display_data",
       "text": [
        "<IPython.core.display.Javascript at 0x7f78c6206e90>"
       ]
      },
      {
       "javascript": [
        "$('div#d99f464a-8bf6-4332-b4c6-a00466d44cf5').width('49.000000%')"
       ],
       "metadata": {},
       "output_type": "display_data",
       "text": [
        "<IPython.core.display.Javascript at 0x7f78c6206d90>"
       ]
      },
      {
       "javascript": [
        "$('div#d99f464a-8bf6-4332-b4c6-a00466d44cf5').width('50.000000%')"
       ],
       "metadata": {},
       "output_type": "display_data",
       "text": [
        "<IPython.core.display.Javascript at 0x7f78c6206550>"
       ]
      },
      {
       "javascript": [
        "$('div#d99f464a-8bf6-4332-b4c6-a00466d44cf5').width('51.000000%')"
       ],
       "metadata": {},
       "output_type": "display_data",
       "text": [
        "<IPython.core.display.Javascript at 0x7f78c6206b90>"
       ]
      },
      {
       "javascript": [
        "$('div#d99f464a-8bf6-4332-b4c6-a00466d44cf5').width('52.000000%')"
       ],
       "metadata": {},
       "output_type": "display_data",
       "text": [
        "<IPython.core.display.Javascript at 0x7f78c6206450>"
       ]
      },
      {
       "javascript": [
        "$('div#d99f464a-8bf6-4332-b4c6-a00466d44cf5').width('53.000000%')"
       ],
       "metadata": {},
       "output_type": "display_data",
       "text": [
        "<IPython.core.display.Javascript at 0x7f78c6206f10>"
       ]
      },
      {
       "javascript": [
        "$('div#d99f464a-8bf6-4332-b4c6-a00466d44cf5').width('54.000000%')"
       ],
       "metadata": {},
       "output_type": "display_data",
       "text": [
        "<IPython.core.display.Javascript at 0x7f78c63fa750>"
       ]
      },
      {
       "javascript": [
        "$('div#d99f464a-8bf6-4332-b4c6-a00466d44cf5').width('55.000000%')"
       ],
       "metadata": {},
       "output_type": "display_data",
       "text": [
        "<IPython.core.display.Javascript at 0x7f78c633bfd0>"
       ]
      },
      {
       "javascript": [
        "$('div#d99f464a-8bf6-4332-b4c6-a00466d44cf5').width('56.000000%')"
       ],
       "metadata": {},
       "output_type": "display_data",
       "text": [
        "<IPython.core.display.Javascript at 0x7f78c633b610>"
       ]
      },
      {
       "javascript": [
        "$('div#d99f464a-8bf6-4332-b4c6-a00466d44cf5').width('57.000000%')"
       ],
       "metadata": {},
       "output_type": "display_data",
       "text": [
        "<IPython.core.display.Javascript at 0x7f78c6211090>"
       ]
      },
      {
       "javascript": [
        "$('div#d99f464a-8bf6-4332-b4c6-a00466d44cf5').width('58.000000%')"
       ],
       "metadata": {},
       "output_type": "display_data",
       "text": [
        "<IPython.core.display.Javascript at 0x7f78c64563d0>"
       ]
      },
      {
       "javascript": [
        "$('div#d99f464a-8bf6-4332-b4c6-a00466d44cf5').width('59.000000%')"
       ],
       "metadata": {},
       "output_type": "display_data",
       "text": [
        "<IPython.core.display.Javascript at 0x7f78c6456d10>"
       ]
      },
      {
       "javascript": [
        "$('div#d99f464a-8bf6-4332-b4c6-a00466d44cf5').width('60.000000%')"
       ],
       "metadata": {},
       "output_type": "display_data",
       "text": [
        "<IPython.core.display.Javascript at 0x7f78c6206650>"
       ]
      },
      {
       "javascript": [
        "$('div#d99f464a-8bf6-4332-b4c6-a00466d44cf5').width('61.000000%')"
       ],
       "metadata": {},
       "output_type": "display_data",
       "text": [
        "<IPython.core.display.Javascript at 0x7f78c63b7650>"
       ]
      },
      {
       "javascript": [
        "$('div#d99f464a-8bf6-4332-b4c6-a00466d44cf5').width('62.000000%')"
       ],
       "metadata": {},
       "output_type": "display_data",
       "text": [
        "<IPython.core.display.Javascript at 0x7f78c63b73d0>"
       ]
      },
      {
       "javascript": [
        "$('div#d99f464a-8bf6-4332-b4c6-a00466d44cf5').width('63.000000%')"
       ],
       "metadata": {},
       "output_type": "display_data",
       "text": [
        "<IPython.core.display.Javascript at 0x7f78c63b7210>"
       ]
      },
      {
       "javascript": [
        "$('div#d99f464a-8bf6-4332-b4c6-a00466d44cf5').width('64.000000%')"
       ],
       "metadata": {},
       "output_type": "display_data",
       "text": [
        "<IPython.core.display.Javascript at 0x7f78c6456c50>"
       ]
      },
      {
       "javascript": [
        "$('div#d99f464a-8bf6-4332-b4c6-a00466d44cf5').width('65.000000%')"
       ],
       "metadata": {},
       "output_type": "display_data",
       "text": [
        "<IPython.core.display.Javascript at 0x7f78c63b7690>"
       ]
      },
      {
       "javascript": [
        "$('div#d99f464a-8bf6-4332-b4c6-a00466d44cf5').width('66.000000%')"
       ],
       "metadata": {},
       "output_type": "display_data",
       "text": [
        "<IPython.core.display.Javascript at 0x7f78c63b7550>"
       ]
      },
      {
       "javascript": [
        "$('div#d99f464a-8bf6-4332-b4c6-a00466d44cf5').width('67.000000%')"
       ],
       "metadata": {},
       "output_type": "display_data",
       "text": [
        "<IPython.core.display.Javascript at 0x7f78c63b7a90>"
       ]
      },
      {
       "javascript": [
        "$('div#d99f464a-8bf6-4332-b4c6-a00466d44cf5').width('68.000000%')"
       ],
       "metadata": {},
       "output_type": "display_data",
       "text": [
        "<IPython.core.display.Javascript at 0x7f78c68af850>"
       ]
      },
      {
       "javascript": [
        "$('div#d99f464a-8bf6-4332-b4c6-a00466d44cf5').width('69.000000%')"
       ],
       "metadata": {},
       "output_type": "display_data",
       "text": [
        "<IPython.core.display.Javascript at 0x7f78c624bd50>"
       ]
      },
      {
       "javascript": [
        "$('div#d99f464a-8bf6-4332-b4c6-a00466d44cf5').width('70.000000%')"
       ],
       "metadata": {},
       "output_type": "display_data",
       "text": [
        "<IPython.core.display.Javascript at 0x7f78c624bd90>"
       ]
      },
      {
       "javascript": [
        "$('div#d99f464a-8bf6-4332-b4c6-a00466d44cf5').width('71.000000%')"
       ],
       "metadata": {},
       "output_type": "display_data",
       "text": [
        "<IPython.core.display.Javascript at 0x7f78c624b590>"
       ]
      },
      {
       "javascript": [
        "$('div#d99f464a-8bf6-4332-b4c6-a00466d44cf5').width('72.000000%')"
       ],
       "metadata": {},
       "output_type": "display_data",
       "text": [
        "<IPython.core.display.Javascript at 0x7f78c624b390>"
       ]
      },
      {
       "javascript": [
        "$('div#d99f464a-8bf6-4332-b4c6-a00466d44cf5').width('73.000000%')"
       ],
       "metadata": {},
       "output_type": "display_data",
       "text": [
        "<IPython.core.display.Javascript at 0x7f78c624b350>"
       ]
      },
      {
       "javascript": [
        "$('div#d99f464a-8bf6-4332-b4c6-a00466d44cf5').width('74.000000%')"
       ],
       "metadata": {},
       "output_type": "display_data",
       "text": [
        "<IPython.core.display.Javascript at 0x7f78c624b050>"
       ]
      },
      {
       "javascript": [
        "$('div#d99f464a-8bf6-4332-b4c6-a00466d44cf5').width('75.000000%')"
       ],
       "metadata": {},
       "output_type": "display_data",
       "text": [
        "<IPython.core.display.Javascript at 0x7f78c624be10>"
       ]
      },
      {
       "javascript": [
        "$('div#d99f464a-8bf6-4332-b4c6-a00466d44cf5').width('76.000000%')"
       ],
       "metadata": {},
       "output_type": "display_data",
       "text": [
        "<IPython.core.display.Javascript at 0x7f78c624bf50>"
       ]
      },
      {
       "javascript": [
        "$('div#d99f464a-8bf6-4332-b4c6-a00466d44cf5').width('77.000000%')"
       ],
       "metadata": {},
       "output_type": "display_data",
       "text": [
        "<IPython.core.display.Javascript at 0x7f78c624bf10>"
       ]
      },
      {
       "javascript": [
        "$('div#d99f464a-8bf6-4332-b4c6-a00466d44cf5').width('78.000000%')"
       ],
       "metadata": {},
       "output_type": "display_data",
       "text": [
        "<IPython.core.display.Javascript at 0x7f78c624bed0>"
       ]
      },
      {
       "javascript": [
        "$('div#d99f464a-8bf6-4332-b4c6-a00466d44cf5').width('79.000000%')"
       ],
       "metadata": {},
       "output_type": "display_data",
       "text": [
        "<IPython.core.display.Javascript at 0x7f78c624b850>"
       ]
      },
      {
       "javascript": [
        "$('div#d99f464a-8bf6-4332-b4c6-a00466d44cf5').width('80.000000%')"
       ],
       "metadata": {},
       "output_type": "display_data",
       "text": [
        "<IPython.core.display.Javascript at 0x7f78c624bcd0>"
       ]
      },
      {
       "javascript": [
        "$('div#d99f464a-8bf6-4332-b4c6-a00466d44cf5').width('81.000000%')"
       ],
       "metadata": {},
       "output_type": "display_data",
       "text": [
        "<IPython.core.display.Javascript at 0x7f78c624b990>"
       ]
      },
      {
       "javascript": [
        "$('div#d99f464a-8bf6-4332-b4c6-a00466d44cf5').width('82.000000%')"
       ],
       "metadata": {},
       "output_type": "display_data",
       "text": [
        "<IPython.core.display.Javascript at 0x7f78c624b410>"
       ]
      },
      {
       "javascript": [
        "$('div#d99f464a-8bf6-4332-b4c6-a00466d44cf5').width('83.000000%')"
       ],
       "metadata": {},
       "output_type": "display_data",
       "text": [
        "<IPython.core.display.Javascript at 0x7f78c624b2d0>"
       ]
      },
      {
       "javascript": [
        "$('div#d99f464a-8bf6-4332-b4c6-a00466d44cf5').width('84.000000%')"
       ],
       "metadata": {},
       "output_type": "display_data",
       "text": [
        "<IPython.core.display.Javascript at 0x7f78c624b790>"
       ]
      },
      {
       "javascript": [
        "$('div#d99f464a-8bf6-4332-b4c6-a00466d44cf5').width('85.000000%')"
       ],
       "metadata": {},
       "output_type": "display_data",
       "text": [
        "<IPython.core.display.Javascript at 0x7f78c624b510>"
       ]
      },
      {
       "javascript": [
        "$('div#d99f464a-8bf6-4332-b4c6-a00466d44cf5').width('86.000000%')"
       ],
       "metadata": {},
       "output_type": "display_data",
       "text": [
        "<IPython.core.display.Javascript at 0x7f78c624b810>"
       ]
      },
      {
       "javascript": [
        "$('div#d99f464a-8bf6-4332-b4c6-a00466d44cf5').width('87.000000%')"
       ],
       "metadata": {},
       "output_type": "display_data",
       "text": [
        "<IPython.core.display.Javascript at 0x7f78c624b950>"
       ]
      },
      {
       "javascript": [
        "$('div#d99f464a-8bf6-4332-b4c6-a00466d44cf5').width('88.000000%')"
       ],
       "metadata": {},
       "output_type": "display_data",
       "text": [
        "<IPython.core.display.Javascript at 0x7f78c624ba90>"
       ]
      },
      {
       "javascript": [
        "$('div#d99f464a-8bf6-4332-b4c6-a00466d44cf5').width('89.000000%')"
       ],
       "metadata": {},
       "output_type": "display_data",
       "text": [
        "<IPython.core.display.Javascript at 0x7f78c624b8d0>"
       ]
      },
      {
       "javascript": [
        "$('div#d99f464a-8bf6-4332-b4c6-a00466d44cf5').width('90.000000%')"
       ],
       "metadata": {},
       "output_type": "display_data",
       "text": [
        "<IPython.core.display.Javascript at 0x7f78c624b650>"
       ]
      },
      {
       "javascript": [
        "$('div#d99f464a-8bf6-4332-b4c6-a00466d44cf5').width('91.000000%')"
       ],
       "metadata": {},
       "output_type": "display_data",
       "text": [
        "<IPython.core.display.Javascript at 0x7f78c624b5d0>"
       ]
      },
      {
       "javascript": [
        "$('div#d99f464a-8bf6-4332-b4c6-a00466d44cf5').width('92.000000%')"
       ],
       "metadata": {},
       "output_type": "display_data",
       "text": [
        "<IPython.core.display.Javascript at 0x7f78c624b450>"
       ]
      },
      {
       "javascript": [
        "$('div#d99f464a-8bf6-4332-b4c6-a00466d44cf5').width('93.000000%')"
       ],
       "metadata": {},
       "output_type": "display_data",
       "text": [
        "<IPython.core.display.Javascript at 0x7f78c624b4d0>"
       ]
      },
      {
       "javascript": [
        "$('div#d99f464a-8bf6-4332-b4c6-a00466d44cf5').width('94.000000%')"
       ],
       "metadata": {},
       "output_type": "display_data",
       "text": [
        "<IPython.core.display.Javascript at 0x7f78c624be50>"
       ]
      },
      {
       "javascript": [
        "$('div#d99f464a-8bf6-4332-b4c6-a00466d44cf5').width('95.000000%')"
       ],
       "metadata": {},
       "output_type": "display_data",
       "text": [
        "<IPython.core.display.Javascript at 0x7f78c632a410>"
       ]
      },
      {
       "javascript": [
        "$('div#d99f464a-8bf6-4332-b4c6-a00466d44cf5').width('96.000000%')"
       ],
       "metadata": {},
       "output_type": "display_data",
       "text": [
        "<IPython.core.display.Javascript at 0x7f78c632a750>"
       ]
      },
      {
       "javascript": [
        "$('div#d99f464a-8bf6-4332-b4c6-a00466d44cf5').width('97.000000%')"
       ],
       "metadata": {},
       "output_type": "display_data",
       "text": [
        "<IPython.core.display.Javascript at 0x7f78c632a690>"
       ]
      },
      {
       "javascript": [
        "$('div#d99f464a-8bf6-4332-b4c6-a00466d44cf5').width('98.000000%')"
       ],
       "metadata": {},
       "output_type": "display_data",
       "text": [
        "<IPython.core.display.Javascript at 0x7f78c632a490>"
       ]
      },
      {
       "javascript": [
        "$('div#d99f464a-8bf6-4332-b4c6-a00466d44cf5').width('99.000000%')"
       ],
       "metadata": {},
       "output_type": "display_data",
       "text": [
        "<IPython.core.display.Javascript at 0x7f78c632aed0>"
       ]
      },
      {
       "javascript": [
        "$('div#d99f464a-8bf6-4332-b4c6-a00466d44cf5').width('100.000000%')"
       ],
       "metadata": {},
       "output_type": "display_data",
       "text": [
        "<IPython.core.display.Javascript at 0x7f78c624bb90>"
       ]
      },
      {
       "output_type": "stream",
       "stream": "stdout",
       "text": [
        "Running mapper & aggregator on the result objects (number of results=100, chunk size=17)\n"
       ]
      },
      {
       "html": [
        "\n",
        "                          <div style=\"border: 1px solid black; width:500px\">\n",
        "                          <div id=\"eb2cf896-9420-4173-9fed-1325ac65383d\" style=\"background-color:blue; width:0%\">&nbsp;</div>\n",
        "                          </div>\n",
        "                          "
       ],
       "metadata": {},
       "output_type": "display_data",
       "text": [
        "<IPython.core.display.HTML at 0x7f78c632af10>"
       ]
      },
      {
       "javascript": [
        "$('div#eb2cf896-9420-4173-9fed-1325ac65383d').width('16.666667%')"
       ],
       "metadata": {},
       "output_type": "display_data",
       "text": [
        "<IPython.core.display.Javascript at 0x7f78c624b5d0>"
       ]
      },
      {
       "javascript": [
        "$('div#eb2cf896-9420-4173-9fed-1325ac65383d').width('33.333333%')"
       ],
       "metadata": {},
       "output_type": "display_data",
       "text": [
        "<IPython.core.display.Javascript at 0x7f78c624b650>"
       ]
      },
      {
       "javascript": [
        "$('div#eb2cf896-9420-4173-9fed-1325ac65383d').width('50.000000%')"
       ],
       "metadata": {},
       "output_type": "display_data",
       "text": [
        "<IPython.core.display.Javascript at 0x7f78c624be50>"
       ]
      },
      {
       "javascript": [
        "$('div#eb2cf896-9420-4173-9fed-1325ac65383d').width('66.666667%')"
       ],
       "metadata": {},
       "output_type": "display_data",
       "text": [
        "<IPython.core.display.Javascript at 0x7f78c624b8d0>"
       ]
      },
      {
       "javascript": [
        "$('div#eb2cf896-9420-4173-9fed-1325ac65383d').width('83.333333%')"
       ],
       "metadata": {},
       "output_type": "display_data",
       "text": [
        "<IPython.core.display.Javascript at 0x7f78c624ba90>"
       ]
      },
      {
       "javascript": [
        "$('div#eb2cf896-9420-4173-9fed-1325ac65383d').width('100.000000%')"
       ],
       "metadata": {},
       "output_type": "display_data",
       "text": [
        "<IPython.core.display.Javascript at 0x7f78c624b950>"
       ]
      },
      {
       "output_type": "stream",
       "stream": "stdout",
       "text": [
        "Running reducer on mapped and aggregated results (size=6)\n",
        "Generating 100 realizations of the model (chunk size=1)\n"
       ]
      },
      {
       "html": [
        "\n",
        "                          <div style=\"border: 1px solid black; width:500px\">\n",
        "                          <div id=\"a2ea4f60-ba01-442a-a62b-8359d85b535e\" style=\"background-color:blue; width:0%\">&nbsp;</div>\n",
        "                          </div>\n",
        "                          "
       ],
       "metadata": {},
       "output_type": "display_data",
       "text": [
        "<IPython.core.display.HTML at 0x7f78c6420ad0>"
       ]
      },
      {
       "javascript": [
        "$('div#a2ea4f60-ba01-442a-a62b-8359d85b535e').width('1.000000%')"
       ],
       "metadata": {},
       "output_type": "display_data",
       "text": [
        "<IPython.core.display.Javascript at 0x7f78c624b850>"
       ]
      },
      {
       "javascript": [
        "$('div#a2ea4f60-ba01-442a-a62b-8359d85b535e').width('2.000000%')"
       ],
       "metadata": {},
       "output_type": "display_data",
       "text": [
        "<IPython.core.display.Javascript at 0x7f78c624be10>"
       ]
      },
      {
       "javascript": [
        "$('div#a2ea4f60-ba01-442a-a62b-8359d85b535e').width('3.000000%')"
       ],
       "metadata": {},
       "output_type": "display_data",
       "text": [
        "<IPython.core.display.Javascript at 0x7f78c624b350>"
       ]
      },
      {
       "javascript": [
        "$('div#a2ea4f60-ba01-442a-a62b-8359d85b535e').width('4.000000%')"
       ],
       "metadata": {},
       "output_type": "display_data",
       "text": [
        "<IPython.core.display.Javascript at 0x7f78c624b590>"
       ]
      },
      {
       "javascript": [
        "$('div#a2ea4f60-ba01-442a-a62b-8359d85b535e').width('5.000000%')"
       ],
       "metadata": {},
       "output_type": "display_data",
       "text": [
        "<IPython.core.display.Javascript at 0x7f78c624bd90>"
       ]
      },
      {
       "javascript": [
        "$('div#a2ea4f60-ba01-442a-a62b-8359d85b535e').width('6.000000%')"
       ],
       "metadata": {},
       "output_type": "display_data",
       "text": [
        "<IPython.core.display.Javascript at 0x7f78c624b390>"
       ]
      },
      {
       "javascript": [
        "$('div#a2ea4f60-ba01-442a-a62b-8359d85b535e').width('7.000000%')"
       ],
       "metadata": {},
       "output_type": "display_data",
       "text": [
        "<IPython.core.display.Javascript at 0x7f78c624b4d0>"
       ]
      },
      {
       "javascript": [
        "$('div#a2ea4f60-ba01-442a-a62b-8359d85b535e').width('8.000000%')"
       ],
       "metadata": {},
       "output_type": "display_data",
       "text": [
        "<IPython.core.display.Javascript at 0x7f78c63b7a90>"
       ]
      },
      {
       "javascript": [
        "$('div#a2ea4f60-ba01-442a-a62b-8359d85b535e').width('9.000000%')"
       ],
       "metadata": {},
       "output_type": "display_data",
       "text": [
        "<IPython.core.display.Javascript at 0x7f78c63b7690>"
       ]
      },
      {
       "javascript": [
        "$('div#a2ea4f60-ba01-442a-a62b-8359d85b535e').width('10.000000%')"
       ],
       "metadata": {},
       "output_type": "display_data",
       "text": [
        "<IPython.core.display.Javascript at 0x7f78c63b7a90>"
       ]
      },
      {
       "javascript": [
        "$('div#a2ea4f60-ba01-442a-a62b-8359d85b535e').width('11.000000%')"
       ],
       "metadata": {},
       "output_type": "display_data",
       "text": [
        "<IPython.core.display.Javascript at 0x7f78c63b7b10>"
       ]
      },
      {
       "javascript": [
        "$('div#a2ea4f60-ba01-442a-a62b-8359d85b535e').width('12.000000%')"
       ],
       "metadata": {},
       "output_type": "display_data",
       "text": [
        "<IPython.core.display.Javascript at 0x7f78c63b73d0>"
       ]
      },
      {
       "javascript": [
        "$('div#a2ea4f60-ba01-442a-a62b-8359d85b535e').width('13.000000%')"
       ],
       "metadata": {},
       "output_type": "display_data",
       "text": [
        "<IPython.core.display.Javascript at 0x7f78c63b7550>"
       ]
      },
      {
       "javascript": [
        "$('div#a2ea4f60-ba01-442a-a62b-8359d85b535e').width('14.000000%')"
       ],
       "metadata": {},
       "output_type": "display_data",
       "text": [
        "<IPython.core.display.Javascript at 0x7f78c624b050>"
       ]
      },
      {
       "javascript": [
        "$('div#a2ea4f60-ba01-442a-a62b-8359d85b535e').width('15.000000%')"
       ],
       "metadata": {},
       "output_type": "display_data",
       "text": [
        "<IPython.core.display.Javascript at 0x7f78c624b4d0>"
       ]
      },
      {
       "javascript": [
        "$('div#a2ea4f60-ba01-442a-a62b-8359d85b535e').width('16.000000%')"
       ],
       "metadata": {},
       "output_type": "display_data",
       "text": [
        "<IPython.core.display.Javascript at 0x7f78c624b390>"
       ]
      },
      {
       "javascript": [
        "$('div#a2ea4f60-ba01-442a-a62b-8359d85b535e').width('17.000000%')"
       ],
       "metadata": {},
       "output_type": "display_data",
       "text": [
        "<IPython.core.display.Javascript at 0x7f78c624bd90>"
       ]
      },
      {
       "javascript": [
        "$('div#a2ea4f60-ba01-442a-a62b-8359d85b535e').width('18.000000%')"
       ],
       "metadata": {},
       "output_type": "display_data",
       "text": [
        "<IPython.core.display.Javascript at 0x7f78c624b590>"
       ]
      },
      {
       "javascript": [
        "$('div#a2ea4f60-ba01-442a-a62b-8359d85b535e').width('19.000000%')"
       ],
       "metadata": {},
       "output_type": "display_data",
       "text": [
        "<IPython.core.display.Javascript at 0x7f78c624b350>"
       ]
      },
      {
       "javascript": [
        "$('div#a2ea4f60-ba01-442a-a62b-8359d85b535e').width('20.000000%')"
       ],
       "metadata": {},
       "output_type": "display_data",
       "text": [
        "<IPython.core.display.Javascript at 0x7f78c624be10>"
       ]
      },
      {
       "javascript": [
        "$('div#a2ea4f60-ba01-442a-a62b-8359d85b535e').width('21.000000%')"
       ],
       "metadata": {},
       "output_type": "display_data",
       "text": [
        "<IPython.core.display.Javascript at 0x7f78c624b850>"
       ]
      },
      {
       "javascript": [
        "$('div#a2ea4f60-ba01-442a-a62b-8359d85b535e').width('22.000000%')"
       ],
       "metadata": {},
       "output_type": "display_data",
       "text": [
        "<IPython.core.display.Javascript at 0x7f78c624b950>"
       ]
      },
      {
       "javascript": [
        "$('div#a2ea4f60-ba01-442a-a62b-8359d85b535e').width('23.000000%')"
       ],
       "metadata": {},
       "output_type": "display_data",
       "text": [
        "<IPython.core.display.Javascript at 0x7f78c624ba90>"
       ]
      },
      {
       "javascript": [
        "$('div#a2ea4f60-ba01-442a-a62b-8359d85b535e').width('24.000000%')"
       ],
       "metadata": {},
       "output_type": "display_data",
       "text": [
        "<IPython.core.display.Javascript at 0x7f78c624b8d0>"
       ]
      },
      {
       "javascript": [
        "$('div#a2ea4f60-ba01-442a-a62b-8359d85b535e').width('25.000000%')"
       ],
       "metadata": {},
       "output_type": "display_data",
       "text": [
        "<IPython.core.display.Javascript at 0x7f78c624be50>"
       ]
      },
      {
       "javascript": [
        "$('div#a2ea4f60-ba01-442a-a62b-8359d85b535e').width('26.000000%')"
       ],
       "metadata": {},
       "output_type": "display_data",
       "text": [
        "<IPython.core.display.Javascript at 0x7f78c624b650>"
       ]
      },
      {
       "javascript": [
        "$('div#a2ea4f60-ba01-442a-a62b-8359d85b535e').width('27.000000%')"
       ],
       "metadata": {},
       "output_type": "display_data",
       "text": [
        "<IPython.core.display.Javascript at 0x7f78c624b5d0>"
       ]
      },
      {
       "javascript": [
        "$('div#a2ea4f60-ba01-442a-a62b-8359d85b535e').width('28.000000%')"
       ],
       "metadata": {},
       "output_type": "display_data",
       "text": [
        "<IPython.core.display.Javascript at 0x7f78c624bd50>"
       ]
      },
      {
       "javascript": [
        "$('div#a2ea4f60-ba01-442a-a62b-8359d85b535e').width('29.000000%')"
       ],
       "metadata": {},
       "output_type": "display_data",
       "text": [
        "<IPython.core.display.Javascript at 0x7f78c63b7650>"
       ]
      },
      {
       "javascript": [
        "$('div#a2ea4f60-ba01-442a-a62b-8359d85b535e').width('30.000000%')"
       ],
       "metadata": {},
       "output_type": "display_data",
       "text": [
        "<IPython.core.display.Javascript at 0x7f78c632aed0>"
       ]
      },
      {
       "javascript": [
        "$('div#a2ea4f60-ba01-442a-a62b-8359d85b535e').width('31.000000%')"
       ],
       "metadata": {},
       "output_type": "display_data",
       "text": [
        "<IPython.core.display.Javascript at 0x7f78c632a490>"
       ]
      },
      {
       "javascript": [
        "$('div#a2ea4f60-ba01-442a-a62b-8359d85b535e').width('32.000000%')"
       ],
       "metadata": {},
       "output_type": "display_data",
       "text": [
        "<IPython.core.display.Javascript at 0x7f78c632a690>"
       ]
      },
      {
       "javascript": [
        "$('div#a2ea4f60-ba01-442a-a62b-8359d85b535e').width('33.000000%')"
       ],
       "metadata": {},
       "output_type": "display_data",
       "text": [
        "<IPython.core.display.Javascript at 0x7f78c632a750>"
       ]
      },
      {
       "javascript": [
        "$('div#a2ea4f60-ba01-442a-a62b-8359d85b535e').width('34.000000%')"
       ],
       "metadata": {},
       "output_type": "display_data",
       "text": [
        "<IPython.core.display.Javascript at 0x7f78c632af10>"
       ]
      },
      {
       "javascript": [
        "$('div#a2ea4f60-ba01-442a-a62b-8359d85b535e').width('35.000000%')"
       ],
       "metadata": {},
       "output_type": "display_data",
       "text": [
        "<IPython.core.display.Javascript at 0x7f78c624bb90>"
       ]
      },
      {
       "javascript": [
        "$('div#a2ea4f60-ba01-442a-a62b-8359d85b535e').width('36.000000%')"
       ],
       "metadata": {},
       "output_type": "display_data",
       "text": [
        "<IPython.core.display.Javascript at 0x7f78c6456d10>"
       ]
      },
      {
       "javascript": [
        "$('div#a2ea4f60-ba01-442a-a62b-8359d85b535e').width('37.000000%')"
       ],
       "metadata": {},
       "output_type": "display_data",
       "text": [
        "<IPython.core.display.Javascript at 0x7f78c6456c50>"
       ]
      },
      {
       "javascript": [
        "$('div#a2ea4f60-ba01-442a-a62b-8359d85b535e').width('38.000000%')"
       ],
       "metadata": {},
       "output_type": "display_data",
       "text": [
        "<IPython.core.display.Javascript at 0x7f78c63b7210>"
       ]
      },
      {
       "javascript": [
        "$('div#a2ea4f60-ba01-442a-a62b-8359d85b535e').width('39.000000%')"
       ],
       "metadata": {},
       "output_type": "display_data",
       "text": [
        "<IPython.core.display.Javascript at 0x7f78c633b610>"
       ]
      },
      {
       "javascript": [
        "$('div#a2ea4f60-ba01-442a-a62b-8359d85b535e').width('40.000000%')"
       ],
       "metadata": {},
       "output_type": "display_data",
       "text": [
        "<IPython.core.display.Javascript at 0x7f78c633b290>"
       ]
      },
      {
       "javascript": [
        "$('div#a2ea4f60-ba01-442a-a62b-8359d85b535e').width('41.000000%')"
       ],
       "metadata": {},
       "output_type": "display_data",
       "text": [
        "<IPython.core.display.Javascript at 0x7f78c632a410>"
       ]
      },
      {
       "javascript": [
        "$('div#a2ea4f60-ba01-442a-a62b-8359d85b535e').width('42.000000%')"
       ],
       "metadata": {},
       "output_type": "display_data",
       "text": [
        "<IPython.core.display.Javascript at 0x7f78c6206f10>"
       ]
      },
      {
       "javascript": [
        "$('div#a2ea4f60-ba01-442a-a62b-8359d85b535e').width('43.000000%')"
       ],
       "metadata": {},
       "output_type": "display_data",
       "text": [
        "<IPython.core.display.Javascript at 0x7f78c6206450>"
       ]
      },
      {
       "javascript": [
        "$('div#a2ea4f60-ba01-442a-a62b-8359d85b535e').width('44.000000%')"
       ],
       "metadata": {},
       "output_type": "display_data",
       "text": [
        "<IPython.core.display.Javascript at 0x7f78c6206b90>"
       ]
      },
      {
       "javascript": [
        "$('div#a2ea4f60-ba01-442a-a62b-8359d85b535e').width('45.000000%')"
       ],
       "metadata": {},
       "output_type": "display_data",
       "text": [
        "<IPython.core.display.Javascript at 0x7f78c6206550>"
       ]
      },
      {
       "javascript": [
        "$('div#a2ea4f60-ba01-442a-a62b-8359d85b535e').width('46.000000%')"
       ],
       "metadata": {},
       "output_type": "display_data",
       "text": [
        "<IPython.core.display.Javascript at 0x7f78c6206d90>"
       ]
      },
      {
       "javascript": [
        "$('div#a2ea4f60-ba01-442a-a62b-8359d85b535e').width('47.000000%')"
       ],
       "metadata": {},
       "output_type": "display_data",
       "text": [
        "<IPython.core.display.Javascript at 0x7f78c6206e90>"
       ]
      },
      {
       "javascript": [
        "$('div#a2ea4f60-ba01-442a-a62b-8359d85b535e').width('48.000000%')"
       ],
       "metadata": {},
       "output_type": "display_data",
       "text": [
        "<IPython.core.display.Javascript at 0x7f78c6206750>"
       ]
      },
      {
       "javascript": [
        "$('div#a2ea4f60-ba01-442a-a62b-8359d85b535e').width('49.000000%')"
       ],
       "metadata": {},
       "output_type": "display_data",
       "text": [
        "<IPython.core.display.Javascript at 0x7f78c6206d50>"
       ]
      },
      {
       "javascript": [
        "$('div#a2ea4f60-ba01-442a-a62b-8359d85b535e').width('50.000000%')"
       ],
       "metadata": {},
       "output_type": "display_data",
       "text": [
        "<IPython.core.display.Javascript at 0x7f78c6206d10>"
       ]
      },
      {
       "javascript": [
        "$('div#a2ea4f60-ba01-442a-a62b-8359d85b535e').width('51.000000%')"
       ],
       "metadata": {},
       "output_type": "display_data",
       "text": [
        "<IPython.core.display.Javascript at 0x7f78c6206f90>"
       ]
      },
      {
       "javascript": [
        "$('div#a2ea4f60-ba01-442a-a62b-8359d85b535e').width('52.000000%')"
       ],
       "metadata": {},
       "output_type": "display_data",
       "text": [
        "<IPython.core.display.Javascript at 0x7f78c6206650>"
       ]
      },
      {
       "javascript": [
        "$('div#a2ea4f60-ba01-442a-a62b-8359d85b535e').width('53.000000%')"
       ],
       "metadata": {},
       "output_type": "display_data",
       "text": [
        "<IPython.core.display.Javascript at 0x7f78c633bfd0>"
       ]
      },
      {
       "javascript": [
        "$('div#a2ea4f60-ba01-442a-a62b-8359d85b535e').width('54.000000%')"
       ],
       "metadata": {},
       "output_type": "display_data",
       "text": [
        "<IPython.core.display.Javascript at 0x7f78c6211090>"
       ]
      },
      {
       "javascript": [
        "$('div#a2ea4f60-ba01-442a-a62b-8359d85b535e').width('55.000000%')"
       ],
       "metadata": {},
       "output_type": "display_data",
       "text": [
        "<IPython.core.display.Javascript at 0x7f78c6206950>"
       ]
      },
      {
       "javascript": [
        "$('div#a2ea4f60-ba01-442a-a62b-8359d85b535e').width('56.000000%')"
       ],
       "metadata": {},
       "output_type": "display_data",
       "text": [
        "<IPython.core.display.Javascript at 0x7f78c63fad50>"
       ]
      },
      {
       "javascript": [
        "$('div#a2ea4f60-ba01-442a-a62b-8359d85b535e').width('57.000000%')"
       ],
       "metadata": {},
       "output_type": "display_data",
       "text": [
        "<IPython.core.display.Javascript at 0x7f78c63fab90>"
       ]
      },
      {
       "javascript": [
        "$('div#a2ea4f60-ba01-442a-a62b-8359d85b535e').width('58.000000%')"
       ],
       "metadata": {},
       "output_type": "display_data",
       "text": [
        "<IPython.core.display.Javascript at 0x7f78c63fac10>"
       ]
      },
      {
       "javascript": [
        "$('div#a2ea4f60-ba01-442a-a62b-8359d85b535e').width('59.000000%')"
       ],
       "metadata": {},
       "output_type": "display_data",
       "text": [
        "<IPython.core.display.Javascript at 0x7f78c63fa450>"
       ]
      },
      {
       "javascript": [
        "$('div#a2ea4f60-ba01-442a-a62b-8359d85b535e').width('60.000000%')"
       ],
       "metadata": {},
       "output_type": "display_data",
       "text": [
        "<IPython.core.display.Javascript at 0x7f78c63fa750>"
       ]
      },
      {
       "javascript": [
        "$('div#a2ea4f60-ba01-442a-a62b-8359d85b535e').width('61.000000%')"
       ],
       "metadata": {},
       "output_type": "display_data",
       "text": [
        "<IPython.core.display.Javascript at 0x7f78c63fa690>"
       ]
      },
      {
       "javascript": [
        "$('div#a2ea4f60-ba01-442a-a62b-8359d85b535e').width('62.000000%')"
       ],
       "metadata": {},
       "output_type": "display_data",
       "text": [
        "<IPython.core.display.Javascript at 0x7f78c64563d0>"
       ]
      },
      {
       "javascript": [
        "$('div#a2ea4f60-ba01-442a-a62b-8359d85b535e').width('63.000000%')"
       ],
       "metadata": {},
       "output_type": "display_data",
       "text": [
        "<IPython.core.display.Javascript at 0x7f78c62cd3d0>"
       ]
      },
      {
       "javascript": [
        "$('div#a2ea4f60-ba01-442a-a62b-8359d85b535e').width('64.000000%')"
       ],
       "metadata": {},
       "output_type": "display_data",
       "text": [
        "<IPython.core.display.Javascript at 0x7f78c62cd710>"
       ]
      },
      {
       "javascript": [
        "$('div#a2ea4f60-ba01-442a-a62b-8359d85b535e').width('65.000000%')"
       ],
       "metadata": {},
       "output_type": "display_data",
       "text": [
        "<IPython.core.display.Javascript at 0x7f78c62d7350>"
       ]
      },
      {
       "javascript": [
        "$('div#a2ea4f60-ba01-442a-a62b-8359d85b535e').width('66.000000%')"
       ],
       "metadata": {},
       "output_type": "display_data",
       "text": [
        "<IPython.core.display.Javascript at 0x7f78c62d73d0>"
       ]
      },
      {
       "javascript": [
        "$('div#a2ea4f60-ba01-442a-a62b-8359d85b535e').width('67.000000%')"
       ],
       "metadata": {},
       "output_type": "display_data",
       "text": [
        "<IPython.core.display.Javascript at 0x7f78c62cd3d0>"
       ]
      },
      {
       "javascript": [
        "$('div#a2ea4f60-ba01-442a-a62b-8359d85b535e').width('68.000000%')"
       ],
       "metadata": {},
       "output_type": "display_data",
       "text": [
        "<IPython.core.display.Javascript at 0x7f78c63fa690>"
       ]
      },
      {
       "javascript": [
        "$('div#a2ea4f60-ba01-442a-a62b-8359d85b535e').width('69.000000%')"
       ],
       "metadata": {},
       "output_type": "display_data",
       "text": [
        "<IPython.core.display.Javascript at 0x7f78c63fa750>"
       ]
      },
      {
       "javascript": [
        "$('div#a2ea4f60-ba01-442a-a62b-8359d85b535e').width('70.000000%')"
       ],
       "metadata": {},
       "output_type": "display_data",
       "text": [
        "<IPython.core.display.Javascript at 0x7f78c63fa450>"
       ]
      },
      {
       "javascript": [
        "$('div#a2ea4f60-ba01-442a-a62b-8359d85b535e').width('71.000000%')"
       ],
       "metadata": {},
       "output_type": "display_data",
       "text": [
        "<IPython.core.display.Javascript at 0x7f78c63fac10>"
       ]
      },
      {
       "javascript": [
        "$('div#a2ea4f60-ba01-442a-a62b-8359d85b535e').width('72.000000%')"
       ],
       "metadata": {},
       "output_type": "display_data",
       "text": [
        "<IPython.core.display.Javascript at 0x7f78c63fab90>"
       ]
      },
      {
       "javascript": [
        "$('div#a2ea4f60-ba01-442a-a62b-8359d85b535e').width('73.000000%')"
       ],
       "metadata": {},
       "output_type": "display_data",
       "text": [
        "<IPython.core.display.Javascript at 0x7f78c63faad0>"
       ]
      },
      {
       "javascript": [
        "$('div#a2ea4f60-ba01-442a-a62b-8359d85b535e').width('74.000000%')"
       ],
       "metadata": {},
       "output_type": "display_data",
       "text": [
        "<IPython.core.display.Javascript at 0x7f78c62cd2d0>"
       ]
      },
      {
       "javascript": [
        "$('div#a2ea4f60-ba01-442a-a62b-8359d85b535e').width('75.000000%')"
       ],
       "metadata": {},
       "output_type": "display_data",
       "text": [
        "<IPython.core.display.Javascript at 0x7f78c6211050>"
       ]
      },
      {
       "javascript": [
        "$('div#a2ea4f60-ba01-442a-a62b-8359d85b535e').width('76.000000%')"
       ],
       "metadata": {},
       "output_type": "display_data",
       "text": [
        "<IPython.core.display.Javascript at 0x7f78c6211090>"
       ]
      },
      {
       "javascript": [
        "$('div#a2ea4f60-ba01-442a-a62b-8359d85b535e').width('77.000000%')"
       ],
       "metadata": {},
       "output_type": "display_data",
       "text": [
        "<IPython.core.display.Javascript at 0x7f78c6206650>"
       ]
      },
      {
       "javascript": [
        "$('div#a2ea4f60-ba01-442a-a62b-8359d85b535e').width('78.000000%')"
       ],
       "metadata": {},
       "output_type": "display_data",
       "text": [
        "<IPython.core.display.Javascript at 0x7f78c6206f90>"
       ]
      },
      {
       "javascript": [
        "$('div#a2ea4f60-ba01-442a-a62b-8359d85b535e').width('79.000000%')"
       ],
       "metadata": {},
       "output_type": "display_data",
       "text": [
        "<IPython.core.display.Javascript at 0x7f78c6206d10>"
       ]
      },
      {
       "javascript": [
        "$('div#a2ea4f60-ba01-442a-a62b-8359d85b535e').width('80.000000%')"
       ],
       "metadata": {},
       "output_type": "display_data",
       "text": [
        "<IPython.core.display.Javascript at 0x7f78c6206d50>"
       ]
      },
      {
       "javascript": [
        "$('div#a2ea4f60-ba01-442a-a62b-8359d85b535e').width('81.000000%')"
       ],
       "metadata": {},
       "output_type": "display_data",
       "text": [
        "<IPython.core.display.Javascript at 0x7f78c6206750>"
       ]
      },
      {
       "javascript": [
        "$('div#a2ea4f60-ba01-442a-a62b-8359d85b535e').width('82.000000%')"
       ],
       "metadata": {},
       "output_type": "display_data",
       "text": [
        "<IPython.core.display.Javascript at 0x7f78c6206e90>"
       ]
      },
      {
       "javascript": [
        "$('div#a2ea4f60-ba01-442a-a62b-8359d85b535e').width('83.000000%')"
       ],
       "metadata": {},
       "output_type": "display_data",
       "text": [
        "<IPython.core.display.Javascript at 0x7f78c6206d90>"
       ]
      },
      {
       "javascript": [
        "$('div#a2ea4f60-ba01-442a-a62b-8359d85b535e').width('84.000000%')"
       ],
       "metadata": {},
       "output_type": "display_data",
       "text": [
        "<IPython.core.display.Javascript at 0x7f78c6206550>"
       ]
      },
      {
       "javascript": [
        "$('div#a2ea4f60-ba01-442a-a62b-8359d85b535e').width('85.000000%')"
       ],
       "metadata": {},
       "output_type": "display_data",
       "text": [
        "<IPython.core.display.Javascript at 0x7f78c6206b90>"
       ]
      },
      {
       "javascript": [
        "$('div#a2ea4f60-ba01-442a-a62b-8359d85b535e').width('86.000000%')"
       ],
       "metadata": {},
       "output_type": "display_data",
       "text": [
        "<IPython.core.display.Javascript at 0x7f78c6206450>"
       ]
      },
      {
       "javascript": [
        "$('div#a2ea4f60-ba01-442a-a62b-8359d85b535e').width('87.000000%')"
       ],
       "metadata": {},
       "output_type": "display_data",
       "text": [
        "<IPython.core.display.Javascript at 0x7f78c6206950>"
       ]
      },
      {
       "javascript": [
        "$('div#a2ea4f60-ba01-442a-a62b-8359d85b535e').width('88.000000%')"
       ],
       "metadata": {},
       "output_type": "display_data",
       "text": [
        "<IPython.core.display.Javascript at 0x7f78c6206f10>"
       ]
      },
      {
       "javascript": [
        "$('div#a2ea4f60-ba01-442a-a62b-8359d85b535e').width('89.000000%')"
       ],
       "metadata": {},
       "output_type": "display_data",
       "text": [
        "<IPython.core.display.Javascript at 0x7f78c633b290>"
       ]
      },
      {
       "javascript": [
        "$('div#a2ea4f60-ba01-442a-a62b-8359d85b535e').width('90.000000%')"
       ],
       "metadata": {},
       "output_type": "display_data",
       "text": [
        "<IPython.core.display.Javascript at 0x7f78c633bfd0>"
       ]
      },
      {
       "javascript": [
        "$('div#a2ea4f60-ba01-442a-a62b-8359d85b535e').width('91.000000%')"
       ],
       "metadata": {},
       "output_type": "display_data",
       "text": [
        "<IPython.core.display.Javascript at 0x7f78c62d7550>"
       ]
      },
      {
       "javascript": [
        "$('div#a2ea4f60-ba01-442a-a62b-8359d85b535e').width('92.000000%')"
       ],
       "metadata": {},
       "output_type": "display_data",
       "text": [
        "<IPython.core.display.Javascript at 0x7f78c6456c50>"
       ]
      },
      {
       "javascript": [
        "$('div#a2ea4f60-ba01-442a-a62b-8359d85b535e').width('93.000000%')"
       ],
       "metadata": {},
       "output_type": "display_data",
       "text": [
        "<IPython.core.display.Javascript at 0x7f78c64563d0>"
       ]
      },
      {
       "javascript": [
        "$('div#a2ea4f60-ba01-442a-a62b-8359d85b535e').width('94.000000%')"
       ],
       "metadata": {},
       "output_type": "display_data",
       "text": [
        "<IPython.core.display.Javascript at 0x7f78c63fad50>"
       ]
      },
      {
       "javascript": [
        "$('div#a2ea4f60-ba01-442a-a62b-8359d85b535e').width('95.000000%')"
       ],
       "metadata": {},
       "output_type": "display_data",
       "text": [
        "<IPython.core.display.Javascript at 0x7f78c632af10>"
       ]
      },
      {
       "javascript": [
        "$('div#a2ea4f60-ba01-442a-a62b-8359d85b535e').width('96.000000%')"
       ],
       "metadata": {},
       "output_type": "display_data",
       "text": [
        "<IPython.core.display.Javascript at 0x7f78c632a750>"
       ]
      },
      {
       "javascript": [
        "$('div#a2ea4f60-ba01-442a-a62b-8359d85b535e').width('97.000000%')"
       ],
       "metadata": {},
       "output_type": "display_data",
       "text": [
        "<IPython.core.display.Javascript at 0x7f78c632a690>"
       ]
      },
      {
       "javascript": [
        "$('div#a2ea4f60-ba01-442a-a62b-8359d85b535e').width('98.000000%')"
       ],
       "metadata": {},
       "output_type": "display_data",
       "text": [
        "<IPython.core.display.Javascript at 0x7f78c632a490>"
       ]
      },
      {
       "javascript": [
        "$('div#a2ea4f60-ba01-442a-a62b-8359d85b535e').width('99.000000%')"
       ],
       "metadata": {},
       "output_type": "display_data",
       "text": [
        "<IPython.core.display.Javascript at 0x7f78c632a410>"
       ]
      },
      {
       "javascript": [
        "$('div#a2ea4f60-ba01-442a-a62b-8359d85b535e').width('100.000000%')"
       ],
       "metadata": {},
       "output_type": "display_data",
       "text": [
        "<IPython.core.display.Javascript at 0x7f78c632aed0>"
       ]
      },
      {
       "output_type": "stream",
       "stream": "stdout",
       "text": [
        "Running mapper & aggregator on the result objects (number of results=100, chunk size=17)\n"
       ]
      },
      {
       "html": [
        "\n",
        "                          <div style=\"border: 1px solid black; width:500px\">\n",
        "                          <div id=\"a906d272-56d1-41aa-a18d-a4d43248b57a\" style=\"background-color:blue; width:0%\">&nbsp;</div>\n",
        "                          </div>\n",
        "                          "
       ],
       "metadata": {},
       "output_type": "display_data",
       "text": [
        "<IPython.core.display.HTML at 0x7f78c624bf50>"
       ]
      },
      {
       "javascript": [
        "$('div#a906d272-56d1-41aa-a18d-a4d43248b57a').width('16.666667%')"
       ],
       "metadata": {},
       "output_type": "display_data",
       "text": [
        "<IPython.core.display.Javascript at 0x7f78c624bd50>"
       ]
      },
      {
       "javascript": [
        "$('div#a906d272-56d1-41aa-a18d-a4d43248b57a').width('33.333333%')"
       ],
       "metadata": {},
       "output_type": "display_data",
       "text": [
        "<IPython.core.display.Javascript at 0x7f78c624b2d0>"
       ]
      },
      {
       "javascript": [
        "$('div#a906d272-56d1-41aa-a18d-a4d43248b57a').width('50.000000%')"
       ],
       "metadata": {},
       "output_type": "display_data",
       "text": [
        "<IPython.core.display.Javascript at 0x7f78c624b5d0>"
       ]
      },
      {
       "javascript": [
        "$('div#a906d272-56d1-41aa-a18d-a4d43248b57a').width('66.666667%')"
       ],
       "metadata": {},
       "output_type": "display_data",
       "text": [
        "<IPython.core.display.Javascript at 0x7f78c624b650>"
       ]
      },
      {
       "javascript": [
        "$('div#a906d272-56d1-41aa-a18d-a4d43248b57a').width('83.333333%')"
       ],
       "metadata": {},
       "output_type": "display_data",
       "text": [
        "<IPython.core.display.Javascript at 0x7f78c624be50>"
       ]
      },
      {
       "javascript": [
        "$('div#a906d272-56d1-41aa-a18d-a4d43248b57a').width('100.000000%')"
       ],
       "metadata": {},
       "output_type": "display_data",
       "text": [
        "<IPython.core.display.Javascript at 0x7f78c624b8d0>"
       ]
      },
      {
       "output_type": "stream",
       "stream": "stdout",
       "text": [
        "Running reducer on mapped and aggregated results (size=6)\n",
        "Generating 100 realizations of the model (chunk size=1)\n"
       ]
      },
      {
       "html": [
        "\n",
        "                          <div style=\"border: 1px solid black; width:500px\">\n",
        "                          <div id=\"3fe9fae5-2b97-448e-a5b7-a0bd17fb3557\" style=\"background-color:blue; width:0%\">&nbsp;</div>\n",
        "                          </div>\n",
        "                          "
       ],
       "metadata": {},
       "output_type": "display_data",
       "text": [
        "<IPython.core.display.HTML at 0x7f78c644ca50>"
       ]
      },
      {
       "javascript": [
        "$('div#3fe9fae5-2b97-448e-a5b7-a0bd17fb3557').width('1.000000%')"
       ],
       "metadata": {},
       "output_type": "display_data",
       "text": [
        "<IPython.core.display.Javascript at 0x7f78c624b8d0>"
       ]
      },
      {
       "javascript": [
        "$('div#3fe9fae5-2b97-448e-a5b7-a0bd17fb3557').width('2.000000%')"
       ],
       "metadata": {},
       "output_type": "display_data",
       "text": [
        "<IPython.core.display.Javascript at 0x7f78c624bd90>"
       ]
      },
      {
       "javascript": [
        "$('div#3fe9fae5-2b97-448e-a5b7-a0bd17fb3557').width('3.000000%')"
       ],
       "metadata": {},
       "output_type": "display_data",
       "text": [
        "<IPython.core.display.Javascript at 0x7f78c624bf50>"
       ]
      },
      {
       "javascript": [
        "$('div#3fe9fae5-2b97-448e-a5b7-a0bd17fb3557').width('4.000000%')"
       ],
       "metadata": {},
       "output_type": "display_data",
       "text": [
        "<IPython.core.display.Javascript at 0x7f78c624b5d0>"
       ]
      },
      {
       "javascript": [
        "$('div#3fe9fae5-2b97-448e-a5b7-a0bd17fb3557').width('5.000000%')"
       ],
       "metadata": {},
       "output_type": "display_data",
       "text": [
        "<IPython.core.display.Javascript at 0x7f78c624b2d0>"
       ]
      },
      {
       "javascript": [
        "$('div#3fe9fae5-2b97-448e-a5b7-a0bd17fb3557').width('6.000000%')"
       ],
       "metadata": {},
       "output_type": "display_data",
       "text": [
        "<IPython.core.display.Javascript at 0x7f78c624be50>"
       ]
      },
      {
       "javascript": [
        "$('div#3fe9fae5-2b97-448e-a5b7-a0bd17fb3557').width('7.000000%')"
       ],
       "metadata": {},
       "output_type": "display_data",
       "text": [
        "<IPython.core.display.Javascript at 0x7f78c624b050>"
       ]
      },
      {
       "javascript": [
        "$('div#3fe9fae5-2b97-448e-a5b7-a0bd17fb3557').width('8.000000%')"
       ],
       "metadata": {},
       "output_type": "display_data",
       "text": [
        "<IPython.core.display.Javascript at 0x7f78c632a410>"
       ]
      },
      {
       "javascript": [
        "$('div#3fe9fae5-2b97-448e-a5b7-a0bd17fb3557').width('9.000000%')"
       ],
       "metadata": {},
       "output_type": "display_data",
       "text": [
        "<IPython.core.display.Javascript at 0x7f78c632a490>"
       ]
      },
      {
       "javascript": [
        "$('div#3fe9fae5-2b97-448e-a5b7-a0bd17fb3557').width('10.000000%')"
       ],
       "metadata": {},
       "output_type": "display_data",
       "text": [
        "<IPython.core.display.Javascript at 0x7f78c632a690>"
       ]
      },
      {
       "javascript": [
        "$('div#3fe9fae5-2b97-448e-a5b7-a0bd17fb3557').width('11.000000%')"
       ],
       "metadata": {},
       "output_type": "display_data",
       "text": [
        "<IPython.core.display.Javascript at 0x7f78c632a750>"
       ]
      },
      {
       "javascript": [
        "$('div#3fe9fae5-2b97-448e-a5b7-a0bd17fb3557').width('12.000000%')"
       ],
       "metadata": {},
       "output_type": "display_data",
       "text": [
        "<IPython.core.display.Javascript at 0x7f78c632aed0>"
       ]
      },
      {
       "javascript": [
        "$('div#3fe9fae5-2b97-448e-a5b7-a0bd17fb3557').width('13.000000%')"
       ],
       "metadata": {},
       "output_type": "display_data",
       "text": [
        "<IPython.core.display.Javascript at 0x7f78c624bd50>"
       ]
      },
      {
       "javascript": [
        "$('div#3fe9fae5-2b97-448e-a5b7-a0bd17fb3557').width('14.000000%')"
       ],
       "metadata": {},
       "output_type": "display_data",
       "text": [
        "<IPython.core.display.Javascript at 0x7f78c64563d0>"
       ]
      },
      {
       "javascript": [
        "$('div#3fe9fae5-2b97-448e-a5b7-a0bd17fb3557').width('15.000000%')"
       ],
       "metadata": {},
       "output_type": "display_data",
       "text": [
        "<IPython.core.display.Javascript at 0x7f78c632af10>"
       ]
      },
      {
       "javascript": [
        "$('div#3fe9fae5-2b97-448e-a5b7-a0bd17fb3557').width('16.000000%')"
       ],
       "metadata": {},
       "output_type": "display_data",
       "text": [
        "<IPython.core.display.Javascript at 0x7f78c633bfd0>"
       ]
      },
      {
       "javascript": [
        "$('div#3fe9fae5-2b97-448e-a5b7-a0bd17fb3557').width('17.000000%')"
       ],
       "metadata": {},
       "output_type": "display_data",
       "text": [
        "<IPython.core.display.Javascript at 0x7f78c6456c50>"
       ]
      },
      {
       "javascript": [
        "$('div#3fe9fae5-2b97-448e-a5b7-a0bd17fb3557').width('18.000000%')"
       ],
       "metadata": {},
       "output_type": "display_data",
       "text": [
        "<IPython.core.display.Javascript at 0x7f78c6206950>"
       ]
      },
      {
       "javascript": [
        "$('div#3fe9fae5-2b97-448e-a5b7-a0bd17fb3557').width('19.000000%')"
       ],
       "metadata": {},
       "output_type": "display_data",
       "text": [
        "<IPython.core.display.Javascript at 0x7f78c6206b90>"
       ]
      },
      {
       "javascript": [
        "$('div#3fe9fae5-2b97-448e-a5b7-a0bd17fb3557').width('20.000000%')"
       ],
       "metadata": {},
       "output_type": "display_data",
       "text": [
        "<IPython.core.display.Javascript at 0x7f78c6206450>"
       ]
      },
      {
       "javascript": [
        "$('div#3fe9fae5-2b97-448e-a5b7-a0bd17fb3557').width('21.000000%')"
       ],
       "metadata": {},
       "output_type": "display_data",
       "text": [
        "<IPython.core.display.Javascript at 0x7f78c6206550>"
       ]
      },
      {
       "javascript": [
        "$('div#3fe9fae5-2b97-448e-a5b7-a0bd17fb3557').width('22.000000%')"
       ],
       "metadata": {},
       "output_type": "display_data",
       "text": [
        "<IPython.core.display.Javascript at 0x7f78c6206d90>"
       ]
      },
      {
       "javascript": [
        "$('div#3fe9fae5-2b97-448e-a5b7-a0bd17fb3557').width('23.000000%')"
       ],
       "metadata": {},
       "output_type": "display_data",
       "text": [
        "<IPython.core.display.Javascript at 0x7f78c6206e90>"
       ]
      },
      {
       "javascript": [
        "$('div#3fe9fae5-2b97-448e-a5b7-a0bd17fb3557').width('24.000000%')"
       ],
       "metadata": {},
       "output_type": "display_data",
       "text": [
        "<IPython.core.display.Javascript at 0x7f78c6206750>"
       ]
      },
      {
       "javascript": [
        "$('div#3fe9fae5-2b97-448e-a5b7-a0bd17fb3557').width('25.000000%')"
       ],
       "metadata": {},
       "output_type": "display_data",
       "text": [
        "<IPython.core.display.Javascript at 0x7f78c6206d50>"
       ]
      },
      {
       "javascript": [
        "$('div#3fe9fae5-2b97-448e-a5b7-a0bd17fb3557').width('26.000000%')"
       ],
       "metadata": {},
       "output_type": "display_data",
       "text": [
        "<IPython.core.display.Javascript at 0x7f78c6206d10>"
       ]
      },
      {
       "javascript": [
        "$('div#3fe9fae5-2b97-448e-a5b7-a0bd17fb3557').width('27.000000%')"
       ],
       "metadata": {},
       "output_type": "display_data",
       "text": [
        "<IPython.core.display.Javascript at 0x7f78c6206f90>"
       ]
      },
      {
       "javascript": [
        "$('div#3fe9fae5-2b97-448e-a5b7-a0bd17fb3557').width('28.000000%')"
       ],
       "metadata": {},
       "output_type": "display_data",
       "text": [
        "<IPython.core.display.Javascript at 0x7f78c6206f10>"
       ]
      },
      {
       "javascript": [
        "$('div#3fe9fae5-2b97-448e-a5b7-a0bd17fb3557').width('29.000000%')"
       ],
       "metadata": {},
       "output_type": "display_data",
       "text": [
        "<IPython.core.display.Javascript at 0x7f78c6206650>"
       ]
      },
      {
       "javascript": [
        "$('div#3fe9fae5-2b97-448e-a5b7-a0bd17fb3557').width('30.000000%')"
       ],
       "metadata": {},
       "output_type": "display_data",
       "text": [
        "<IPython.core.display.Javascript at 0x7f78c6211090>"
       ]
      },
      {
       "javascript": [
        "$('div#3fe9fae5-2b97-448e-a5b7-a0bd17fb3557').width('31.000000%')"
       ],
       "metadata": {},
       "output_type": "display_data",
       "text": [
        "<IPython.core.display.Javascript at 0x7f78c633b290>"
       ]
      },
      {
       "javascript": [
        "$('div#3fe9fae5-2b97-448e-a5b7-a0bd17fb3557').width('32.000000%')"
       ],
       "metadata": {},
       "output_type": "display_data",
       "text": [
        "<IPython.core.display.Javascript at 0x7f78c63faad0>"
       ]
      },
      {
       "javascript": [
        "$('div#3fe9fae5-2b97-448e-a5b7-a0bd17fb3557').width('33.000000%')"
       ],
       "metadata": {},
       "output_type": "display_data",
       "text": [
        "<IPython.core.display.Javascript at 0x7f78c63fab90>"
       ]
      },
      {
       "javascript": [
        "$('div#3fe9fae5-2b97-448e-a5b7-a0bd17fb3557').width('34.000000%')"
       ],
       "metadata": {},
       "output_type": "display_data",
       "text": [
        "<IPython.core.display.Javascript at 0x7f78c63fac10>"
       ]
      },
      {
       "javascript": [
        "$('div#3fe9fae5-2b97-448e-a5b7-a0bd17fb3557').width('35.000000%')"
       ],
       "metadata": {},
       "output_type": "display_data",
       "text": [
        "<IPython.core.display.Javascript at 0x7f78c63fa450>"
       ]
      },
      {
       "javascript": [
        "$('div#3fe9fae5-2b97-448e-a5b7-a0bd17fb3557').width('36.000000%')"
       ],
       "metadata": {},
       "output_type": "display_data",
       "text": [
        "<IPython.core.display.Javascript at 0x7f78c62d7550>"
       ]
      },
      {
       "javascript": [
        "$('div#3fe9fae5-2b97-448e-a5b7-a0bd17fb3557').width('37.000000%')"
       ],
       "metadata": {},
       "output_type": "display_data",
       "text": [
        "<IPython.core.display.Javascript at 0x7f78c63fa450>"
       ]
      },
      {
       "javascript": [
        "$('div#3fe9fae5-2b97-448e-a5b7-a0bd17fb3557').width('38.000000%')"
       ],
       "metadata": {},
       "output_type": "display_data",
       "text": [
        "<IPython.core.display.Javascript at 0x7f78c63fa750>"
       ]
      },
      {
       "javascript": [
        "$('div#3fe9fae5-2b97-448e-a5b7-a0bd17fb3557').width('39.000000%')"
       ],
       "metadata": {},
       "output_type": "display_data",
       "text": [
        "<IPython.core.display.Javascript at 0x7f78c63fa690>"
       ]
      },
      {
       "javascript": [
        "$('div#3fe9fae5-2b97-448e-a5b7-a0bd17fb3557').width('40.000000%')"
       ],
       "metadata": {},
       "output_type": "display_data",
       "text": [
        "<IPython.core.display.Javascript at 0x7f78c63fac10>"
       ]
      },
      {
       "javascript": [
        "$('div#3fe9fae5-2b97-448e-a5b7-a0bd17fb3557').width('41.000000%')"
       ],
       "metadata": {},
       "output_type": "display_data",
       "text": [
        "<IPython.core.display.Javascript at 0x7f78c63fab90>"
       ]
      },
      {
       "javascript": [
        "$('div#3fe9fae5-2b97-448e-a5b7-a0bd17fb3557').width('42.000000%')"
       ],
       "metadata": {},
       "output_type": "display_data",
       "text": [
        "<IPython.core.display.Javascript at 0x7f78c63fad50>"
       ]
      },
      {
       "javascript": [
        "$('div#3fe9fae5-2b97-448e-a5b7-a0bd17fb3557').width('43.000000%')"
       ],
       "metadata": {},
       "output_type": "display_data",
       "text": [
        "<IPython.core.display.Javascript at 0x7f78c62d73d0>"
       ]
      },
      {
       "javascript": [
        "$('div#3fe9fae5-2b97-448e-a5b7-a0bd17fb3557').width('44.000000%')"
       ],
       "metadata": {},
       "output_type": "display_data",
       "text": [
        "<IPython.core.display.Javascript at 0x7f78c6211050>"
       ]
      },
      {
       "javascript": [
        "$('div#3fe9fae5-2b97-448e-a5b7-a0bd17fb3557').width('45.000000%')"
       ],
       "metadata": {},
       "output_type": "display_data",
       "text": [
        "<IPython.core.display.Javascript at 0x7f78c63faad0>"
       ]
      },
      {
       "javascript": [
        "$('div#3fe9fae5-2b97-448e-a5b7-a0bd17fb3557').width('46.000000%')"
       ],
       "metadata": {},
       "output_type": "display_data",
       "text": [
        "<IPython.core.display.Javascript at 0x7f78c6206f10>"
       ]
      },
      {
       "javascript": [
        "$('div#3fe9fae5-2b97-448e-a5b7-a0bd17fb3557').width('47.000000%')"
       ],
       "metadata": {},
       "output_type": "display_data",
       "text": [
        "<IPython.core.display.Javascript at 0x7f78c6206f90>"
       ]
      },
      {
       "javascript": [
        "$('div#3fe9fae5-2b97-448e-a5b7-a0bd17fb3557').width('48.000000%')"
       ],
       "metadata": {},
       "output_type": "display_data",
       "text": [
        "<IPython.core.display.Javascript at 0x7f78c6206d10>"
       ]
      },
      {
       "javascript": [
        "$('div#3fe9fae5-2b97-448e-a5b7-a0bd17fb3557').width('49.000000%')"
       ],
       "metadata": {},
       "output_type": "display_data",
       "text": [
        "<IPython.core.display.Javascript at 0x7f78c6206d50>"
       ]
      },
      {
       "javascript": [
        "$('div#3fe9fae5-2b97-448e-a5b7-a0bd17fb3557').width('50.000000%')"
       ],
       "metadata": {},
       "output_type": "display_data",
       "text": [
        "<IPython.core.display.Javascript at 0x7f78c6206750>"
       ]
      },
      {
       "javascript": [
        "$('div#3fe9fae5-2b97-448e-a5b7-a0bd17fb3557').width('51.000000%')"
       ],
       "metadata": {},
       "output_type": "display_data",
       "text": [
        "<IPython.core.display.Javascript at 0x7f78c6206e90>"
       ]
      },
      {
       "javascript": [
        "$('div#3fe9fae5-2b97-448e-a5b7-a0bd17fb3557').width('52.000000%')"
       ],
       "metadata": {},
       "output_type": "display_data",
       "text": [
        "<IPython.core.display.Javascript at 0x7f78c6206d90>"
       ]
      },
      {
       "javascript": [
        "$('div#3fe9fae5-2b97-448e-a5b7-a0bd17fb3557').width('53.000000%')"
       ],
       "metadata": {},
       "output_type": "display_data",
       "text": [
        "<IPython.core.display.Javascript at 0x7f78c6206550>"
       ]
      },
      {
       "javascript": [
        "$('div#3fe9fae5-2b97-448e-a5b7-a0bd17fb3557').width('54.000000%')"
       ],
       "metadata": {},
       "output_type": "display_data",
       "text": [
        "<IPython.core.display.Javascript at 0x7f78c6206450>"
       ]
      },
      {
       "javascript": [
        "$('div#3fe9fae5-2b97-448e-a5b7-a0bd17fb3557').width('55.000000%')"
       ],
       "metadata": {},
       "output_type": "display_data",
       "text": [
        "<IPython.core.display.Javascript at 0x7f78c6206b90>"
       ]
      },
      {
       "javascript": [
        "$('div#3fe9fae5-2b97-448e-a5b7-a0bd17fb3557').width('56.000000%')"
       ],
       "metadata": {},
       "output_type": "display_data",
       "text": [
        "<IPython.core.display.Javascript at 0x7f78c6206650>"
       ]
      },
      {
       "javascript": [
        "$('div#3fe9fae5-2b97-448e-a5b7-a0bd17fb3557').width('57.000000%')"
       ],
       "metadata": {},
       "output_type": "display_data",
       "text": [
        "<IPython.core.display.Javascript at 0x7f78c6206950>"
       ]
      },
      {
       "javascript": [
        "$('div#3fe9fae5-2b97-448e-a5b7-a0bd17fb3557').width('58.000000%')"
       ],
       "metadata": {},
       "output_type": "display_data",
       "text": [
        "<IPython.core.display.Javascript at 0x7f78c633b290>"
       ]
      },
      {
       "javascript": [
        "$('div#3fe9fae5-2b97-448e-a5b7-a0bd17fb3557').width('59.000000%')"
       ],
       "metadata": {},
       "output_type": "display_data",
       "text": [
        "<IPython.core.display.Javascript at 0x7f78c633bfd0>"
       ]
      },
      {
       "javascript": [
        "$('div#3fe9fae5-2b97-448e-a5b7-a0bd17fb3557').width('60.000000%')"
       ],
       "metadata": {},
       "output_type": "display_data",
       "text": [
        "<IPython.core.display.Javascript at 0x7f78c6456c50>"
       ]
      },
      {
       "javascript": [
        "$('div#3fe9fae5-2b97-448e-a5b7-a0bd17fb3557').width('61.000000%')"
       ],
       "metadata": {},
       "output_type": "display_data",
       "text": [
        "<IPython.core.display.Javascript at 0x7f78c6211090>"
       ]
      },
      {
       "javascript": [
        "$('div#3fe9fae5-2b97-448e-a5b7-a0bd17fb3557').width('62.000000%')"
       ],
       "metadata": {},
       "output_type": "display_data",
       "text": [
        "<IPython.core.display.Javascript at 0x7f78c632aed0>"
       ]
      },
      {
       "javascript": [
        "$('div#3fe9fae5-2b97-448e-a5b7-a0bd17fb3557').width('63.000000%')"
       ],
       "metadata": {},
       "output_type": "display_data",
       "text": [
        "<IPython.core.display.Javascript at 0x7f78c632a750>"
       ]
      },
      {
       "javascript": [
        "$('div#3fe9fae5-2b97-448e-a5b7-a0bd17fb3557').width('64.000000%')"
       ],
       "metadata": {},
       "output_type": "display_data",
       "text": [
        "<IPython.core.display.Javascript at 0x7f78c632a690>"
       ]
      },
      {
       "javascript": [
        "$('div#3fe9fae5-2b97-448e-a5b7-a0bd17fb3557').width('65.000000%')"
       ],
       "metadata": {},
       "output_type": "display_data",
       "text": [
        "<IPython.core.display.Javascript at 0x7f78c632a490>"
       ]
      },
      {
       "javascript": [
        "$('div#3fe9fae5-2b97-448e-a5b7-a0bd17fb3557').width('66.000000%')"
       ],
       "metadata": {},
       "output_type": "display_data",
       "text": [
        "<IPython.core.display.Javascript at 0x7f78c632af10>"
       ]
      },
      {
       "javascript": [
        "$('div#3fe9fae5-2b97-448e-a5b7-a0bd17fb3557').width('67.000000%')"
       ],
       "metadata": {},
       "output_type": "display_data",
       "text": [
        "<IPython.core.display.Javascript at 0x7f78c64563d0>"
       ]
      },
      {
       "javascript": [
        "$('div#3fe9fae5-2b97-448e-a5b7-a0bd17fb3557').width('68.000000%')"
       ],
       "metadata": {},
       "output_type": "display_data",
       "text": [
        "<IPython.core.display.Javascript at 0x7f78c624bd50>"
       ]
      },
      {
       "javascript": [
        "$('div#3fe9fae5-2b97-448e-a5b7-a0bd17fb3557').width('69.000000%')"
       ],
       "metadata": {},
       "output_type": "display_data",
       "text": [
        "<IPython.core.display.Javascript at 0x7f78c624b050>"
       ]
      },
      {
       "javascript": [
        "$('div#3fe9fae5-2b97-448e-a5b7-a0bd17fb3557').width('70.000000%')"
       ],
       "metadata": {},
       "output_type": "display_data",
       "text": [
        "<IPython.core.display.Javascript at 0x7f78c624be50>"
       ]
      },
      {
       "javascript": [
        "$('div#3fe9fae5-2b97-448e-a5b7-a0bd17fb3557').width('71.000000%')"
       ],
       "metadata": {},
       "output_type": "display_data",
       "text": [
        "<IPython.core.display.Javascript at 0x7f78c624b2d0>"
       ]
      },
      {
       "javascript": [
        "$('div#3fe9fae5-2b97-448e-a5b7-a0bd17fb3557').width('72.000000%')"
       ],
       "metadata": {},
       "output_type": "display_data",
       "text": [
        "<IPython.core.display.Javascript at 0x7f78c624b5d0>"
       ]
      },
      {
       "javascript": [
        "$('div#3fe9fae5-2b97-448e-a5b7-a0bd17fb3557').width('73.000000%')"
       ],
       "metadata": {},
       "output_type": "display_data",
       "text": [
        "<IPython.core.display.Javascript at 0x7f78c624bf50>"
       ]
      },
      {
       "javascript": [
        "$('div#3fe9fae5-2b97-448e-a5b7-a0bd17fb3557').width('74.000000%')"
       ],
       "metadata": {},
       "output_type": "display_data",
       "text": [
        "<IPython.core.display.Javascript at 0x7f78c624bd90>"
       ]
      },
      {
       "javascript": [
        "$('div#3fe9fae5-2b97-448e-a5b7-a0bd17fb3557').width('75.000000%')"
       ],
       "metadata": {},
       "output_type": "display_data",
       "text": [
        "<IPython.core.display.Javascript at 0x7f78c624bcd0>"
       ]
      },
      {
       "javascript": [
        "$('div#3fe9fae5-2b97-448e-a5b7-a0bd17fb3557').width('76.000000%')"
       ],
       "metadata": {},
       "output_type": "display_data",
       "text": [
        "<IPython.core.display.Javascript at 0x7f78c62d7350>"
       ]
      },
      {
       "javascript": [
        "$('div#3fe9fae5-2b97-448e-a5b7-a0bd17fb3557').width('77.000000%')"
       ],
       "metadata": {},
       "output_type": "display_data",
       "text": [
        "<IPython.core.display.Javascript at 0x7f78c62cd3d0>"
       ]
      },
      {
       "javascript": [
        "$('div#3fe9fae5-2b97-448e-a5b7-a0bd17fb3557').width('78.000000%')"
       ],
       "metadata": {},
       "output_type": "display_data",
       "text": [
        "<IPython.core.display.Javascript at 0x7f78c62cd2d0>"
       ]
      },
      {
       "javascript": [
        "$('div#3fe9fae5-2b97-448e-a5b7-a0bd17fb3557').width('79.000000%')"
       ],
       "metadata": {},
       "output_type": "display_data",
       "text": [
        "<IPython.core.display.Javascript at 0x7f78c632a410>"
       ]
      },
      {
       "javascript": [
        "$('div#3fe9fae5-2b97-448e-a5b7-a0bd17fb3557').width('80.000000%')"
       ],
       "metadata": {},
       "output_type": "display_data",
       "text": [
        "<IPython.core.display.Javascript at 0x7f78c63b7550>"
       ]
      },
      {
       "javascript": [
        "$('div#3fe9fae5-2b97-448e-a5b7-a0bd17fb3557').width('81.000000%')"
       ],
       "metadata": {},
       "output_type": "display_data",
       "text": [
        "<IPython.core.display.Javascript at 0x7f78c63b7650>"
       ]
      },
      {
       "javascript": [
        "$('div#3fe9fae5-2b97-448e-a5b7-a0bd17fb3557').width('82.000000%')"
       ],
       "metadata": {},
       "output_type": "display_data",
       "text": [
        "<IPython.core.display.Javascript at 0x7f78c63b73d0>"
       ]
      },
      {
       "javascript": [
        "$('div#3fe9fae5-2b97-448e-a5b7-a0bd17fb3557').width('83.000000%')"
       ],
       "metadata": {},
       "output_type": "display_data",
       "text": [
        "<IPython.core.display.Javascript at 0x7f78c63b7b10>"
       ]
      },
      {
       "javascript": [
        "$('div#3fe9fae5-2b97-448e-a5b7-a0bd17fb3557').width('84.000000%')"
       ],
       "metadata": {},
       "output_type": "display_data",
       "text": [
        "<IPython.core.display.Javascript at 0x7f78c63b7a90>"
       ]
      },
      {
       "javascript": [
        "$('div#3fe9fae5-2b97-448e-a5b7-a0bd17fb3557').width('85.000000%')"
       ],
       "metadata": {},
       "output_type": "display_data",
       "text": [
        "<IPython.core.display.Javascript at 0x7f78c63b7210>"
       ]
      },
      {
       "javascript": [
        "$('div#3fe9fae5-2b97-448e-a5b7-a0bd17fb3557').width('86.000000%')"
       ],
       "metadata": {},
       "output_type": "display_data",
       "text": [
        "<IPython.core.display.Javascript at 0x7f78c63b7690>"
       ]
      },
      {
       "javascript": [
        "$('div#3fe9fae5-2b97-448e-a5b7-a0bd17fb3557').width('87.000000%')"
       ],
       "metadata": {},
       "output_type": "display_data",
       "text": [
        "<IPython.core.display.Javascript at 0x7f78c62def50>"
       ]
      },
      {
       "javascript": [
        "$('div#3fe9fae5-2b97-448e-a5b7-a0bd17fb3557').width('88.000000%')"
       ],
       "metadata": {},
       "output_type": "display_data",
       "text": [
        "<IPython.core.display.Javascript at 0x7f78c62def10>"
       ]
      },
      {
       "javascript": [
        "$('div#3fe9fae5-2b97-448e-a5b7-a0bd17fb3557').width('89.000000%')"
       ],
       "metadata": {},
       "output_type": "display_data",
       "text": [
        "<IPython.core.display.Javascript at 0x7f78c62dead0>"
       ]
      },
      {
       "javascript": [
        "$('div#3fe9fae5-2b97-448e-a5b7-a0bd17fb3557').width('90.000000%')"
       ],
       "metadata": {},
       "output_type": "display_data",
       "text": [
        "<IPython.core.display.Javascript at 0x7f78c62de490>"
       ]
      },
      {
       "javascript": [
        "$('div#3fe9fae5-2b97-448e-a5b7-a0bd17fb3557').width('91.000000%')"
       ],
       "metadata": {},
       "output_type": "display_data",
       "text": [
        "<IPython.core.display.Javascript at 0x7f78c62defd0>"
       ]
      },
      {
       "javascript": [
        "$('div#3fe9fae5-2b97-448e-a5b7-a0bd17fb3557').width('92.000000%')"
       ],
       "metadata": {},
       "output_type": "display_data",
       "text": [
        "<IPython.core.display.Javascript at 0x7f78c62de490>"
       ]
      },
      {
       "javascript": [
        "$('div#3fe9fae5-2b97-448e-a5b7-a0bd17fb3557').width('93.000000%')"
       ],
       "metadata": {},
       "output_type": "display_data",
       "text": [
        "<IPython.core.display.Javascript at 0x7f78c62de350>"
       ]
      },
      {
       "javascript": [
        "$('div#3fe9fae5-2b97-448e-a5b7-a0bd17fb3557').width('94.000000%')"
       ],
       "metadata": {},
       "output_type": "display_data",
       "text": [
        "<IPython.core.display.Javascript at 0x7f78c62dee50>"
       ]
      },
      {
       "javascript": [
        "$('div#3fe9fae5-2b97-448e-a5b7-a0bd17fb3557').width('95.000000%')"
       ],
       "metadata": {},
       "output_type": "display_data",
       "text": [
        "<IPython.core.display.Javascript at 0x7f78c62ded10>"
       ]
      },
      {
       "javascript": [
        "$('div#3fe9fae5-2b97-448e-a5b7-a0bd17fb3557').width('96.000000%')"
       ],
       "metadata": {},
       "output_type": "display_data",
       "text": [
        "<IPython.core.display.Javascript at 0x7f78c62dead0>"
       ]
      },
      {
       "javascript": [
        "$('div#3fe9fae5-2b97-448e-a5b7-a0bd17fb3557').width('97.000000%')"
       ],
       "metadata": {},
       "output_type": "display_data",
       "text": [
        "<IPython.core.display.Javascript at 0x7f78c62de710>"
       ]
      },
      {
       "javascript": [
        "$('div#3fe9fae5-2b97-448e-a5b7-a0bd17fb3557').width('98.000000%')"
       ],
       "metadata": {},
       "output_type": "display_data",
       "text": [
        "<IPython.core.display.Javascript at 0x7f78c62deb90>"
       ]
      },
      {
       "javascript": [
        "$('div#3fe9fae5-2b97-448e-a5b7-a0bd17fb3557').width('99.000000%')"
       ],
       "metadata": {},
       "output_type": "display_data",
       "text": [
        "<IPython.core.display.Javascript at 0x7f78c62def10>"
       ]
      },
      {
       "javascript": [
        "$('div#3fe9fae5-2b97-448e-a5b7-a0bd17fb3557').width('100.000000%')"
       ],
       "metadata": {},
       "output_type": "display_data",
       "text": [
        "<IPython.core.display.Javascript at 0x7f78c63b7210>"
       ]
      },
      {
       "output_type": "stream",
       "stream": "stdout",
       "text": [
        "Running mapper & aggregator on the result objects (number of results=100, chunk size=17)\n"
       ]
      },
      {
       "html": [
        "\n",
        "                          <div style=\"border: 1px solid black; width:500px\">\n",
        "                          <div id=\"02a33939-10b4-49f4-99a3-31d60b85495d\" style=\"background-color:blue; width:0%\">&nbsp;</div>\n",
        "                          </div>\n",
        "                          "
       ],
       "metadata": {},
       "output_type": "display_data",
       "text": [
        "<IPython.core.display.HTML at 0x7f78c63b7690>"
       ]
      },
      {
       "javascript": [
        "$('div#02a33939-10b4-49f4-99a3-31d60b85495d').width('16.666667%')"
       ],
       "metadata": {},
       "output_type": "display_data",
       "text": [
        "<IPython.core.display.Javascript at 0x7f78c63b7650>"
       ]
      },
      {
       "javascript": [
        "$('div#02a33939-10b4-49f4-99a3-31d60b85495d').width('33.333333%')"
       ],
       "metadata": {},
       "output_type": "display_data",
       "text": [
        "<IPython.core.display.Javascript at 0x7f78c644ca50>"
       ]
      },
      {
       "javascript": [
        "$('div#02a33939-10b4-49f4-99a3-31d60b85495d').width('50.000000%')"
       ],
       "metadata": {},
       "output_type": "display_data",
       "text": [
        "<IPython.core.display.Javascript at 0x7f78c62cd710>"
       ]
      },
      {
       "javascript": [
        "$('div#02a33939-10b4-49f4-99a3-31d60b85495d').width('66.666667%')"
       ],
       "metadata": {},
       "output_type": "display_data",
       "text": [
        "<IPython.core.display.Javascript at 0x7f78c62cd2d0>"
       ]
      },
      {
       "javascript": [
        "$('div#02a33939-10b4-49f4-99a3-31d60b85495d').width('83.333333%')"
       ],
       "metadata": {},
       "output_type": "display_data",
       "text": [
        "<IPython.core.display.Javascript at 0x7f78c62cd3d0>"
       ]
      },
      {
       "javascript": [
        "$('div#02a33939-10b4-49f4-99a3-31d60b85495d').width('100.000000%')"
       ],
       "metadata": {},
       "output_type": "display_data",
       "text": [
        "<IPython.core.display.Javascript at 0x7f78c624bf10>"
       ]
      },
      {
       "output_type": "stream",
       "stream": "stdout",
       "text": [
        "Running reducer on mapped and aggregated results (size=6)\n",
        "Generating 100 realizations of the model (chunk size=1)\n"
       ]
      },
      {
       "html": [
        "\n",
        "                          <div style=\"border: 1px solid black; width:500px\">\n",
        "                          <div id=\"d8a1d901-6237-4dc6-a897-4a9014634986\" style=\"background-color:blue; width:0%\">&nbsp;</div>\n",
        "                          </div>\n",
        "                          "
       ],
       "metadata": {},
       "output_type": "display_data",
       "text": [
        "<IPython.core.display.HTML at 0x7f78c624b390>"
       ]
      },
      {
       "javascript": [
        "$('div#d8a1d901-6237-4dc6-a897-4a9014634986').width('1.000000%')"
       ],
       "metadata": {},
       "output_type": "display_data",
       "text": [
        "<IPython.core.display.Javascript at 0x7f78c624bd50>"
       ]
      },
      {
       "javascript": [
        "$('div#d8a1d901-6237-4dc6-a897-4a9014634986').width('2.000000%')"
       ],
       "metadata": {},
       "output_type": "display_data",
       "text": [
        "<IPython.core.display.Javascript at 0x7f78c624b050>"
       ]
      },
      {
       "javascript": [
        "$('div#d8a1d901-6237-4dc6-a897-4a9014634986').width('3.000000%')"
       ],
       "metadata": {},
       "output_type": "display_data",
       "text": [
        "<IPython.core.display.Javascript at 0x7f78c632a490>"
       ]
      },
      {
       "javascript": [
        "$('div#d8a1d901-6237-4dc6-a897-4a9014634986').width('4.000000%')"
       ],
       "metadata": {},
       "output_type": "display_data",
       "text": [
        "<IPython.core.display.Javascript at 0x7f78c632af10>"
       ]
      },
      {
       "javascript": [
        "$('div#d8a1d901-6237-4dc6-a897-4a9014634986').width('5.000000%')"
       ],
       "metadata": {},
       "output_type": "display_data",
       "text": [
        "<IPython.core.display.Javascript at 0x7f78c632a690>"
       ]
      },
      {
       "javascript": [
        "$('div#d8a1d901-6237-4dc6-a897-4a9014634986').width('6.000000%')"
       ],
       "metadata": {},
       "output_type": "display_data",
       "text": [
        "<IPython.core.display.Javascript at 0x7f78c632aed0>"
       ]
      },
      {
       "javascript": [
        "$('div#d8a1d901-6237-4dc6-a897-4a9014634986').width('7.000000%')"
       ],
       "metadata": {},
       "output_type": "display_data",
       "text": [
        "<IPython.core.display.Javascript at 0x7f78c64563d0>"
       ]
      },
      {
       "javascript": [
        "$('div#d8a1d901-6237-4dc6-a897-4a9014634986').width('8.000000%')"
       ],
       "metadata": {},
       "output_type": "display_data",
       "text": [
        "<IPython.core.display.Javascript at 0x7f78c6456c50>"
       ]
      },
      {
       "javascript": [
        "$('div#d8a1d901-6237-4dc6-a897-4a9014634986').width('9.000000%')"
       ],
       "metadata": {},
       "output_type": "display_data",
       "text": [
        "<IPython.core.display.Javascript at 0x7f78c624b5d0>"
       ]
      },
      {
       "javascript": [
        "$('div#d8a1d901-6237-4dc6-a897-4a9014634986').width('10.000000%')"
       ],
       "metadata": {},
       "output_type": "display_data",
       "text": [
        "<IPython.core.display.Javascript at 0x7f78c624b050>"
       ]
      },
      {
       "javascript": [
        "$('div#d8a1d901-6237-4dc6-a897-4a9014634986').width('11.000000%')"
       ],
       "metadata": {},
       "output_type": "display_data",
       "text": [
        "<IPython.core.display.Javascript at 0x7f78c624bd50>"
       ]
      },
      {
       "javascript": [
        "$('div#d8a1d901-6237-4dc6-a897-4a9014634986').width('12.000000%')"
       ],
       "metadata": {},
       "output_type": "display_data",
       "text": [
        "<IPython.core.display.Javascript at 0x7f78c624be50>"
       ]
      },
      {
       "javascript": [
        "$('div#d8a1d901-6237-4dc6-a897-4a9014634986').width('13.000000%')"
       ],
       "metadata": {},
       "output_type": "display_data",
       "text": [
        "<IPython.core.display.Javascript at 0x7f78c624bf10>"
       ]
      },
      {
       "javascript": [
        "$('div#d8a1d901-6237-4dc6-a897-4a9014634986').width('14.000000%')"
       ],
       "metadata": {},
       "output_type": "display_data",
       "text": [
        "<IPython.core.display.Javascript at 0x7f78c644ca50>"
       ]
      },
      {
       "javascript": [
        "$('div#d8a1d901-6237-4dc6-a897-4a9014634986').width('15.000000%')"
       ],
       "metadata": {},
       "output_type": "display_data",
       "text": [
        "<IPython.core.display.Javascript at 0x7f78c62cd710>"
       ]
      },
      {
       "javascript": [
        "$('div#d8a1d901-6237-4dc6-a897-4a9014634986').width('16.000000%')"
       ],
       "metadata": {},
       "output_type": "display_data",
       "text": [
        "<IPython.core.display.Javascript at 0x7f78c62cd2d0>"
       ]
      },
      {
       "javascript": [
        "$('div#d8a1d901-6237-4dc6-a897-4a9014634986').width('17.000000%')"
       ],
       "metadata": {},
       "output_type": "display_data",
       "text": [
        "<IPython.core.display.Javascript at 0x7f78c62cd3d0>"
       ]
      },
      {
       "javascript": [
        "$('div#d8a1d901-6237-4dc6-a897-4a9014634986').width('18.000000%')"
       ],
       "metadata": {},
       "output_type": "display_data",
       "text": [
        "<IPython.core.display.Javascript at 0x7f78c63b7690>"
       ]
      },
      {
       "javascript": [
        "$('div#d8a1d901-6237-4dc6-a897-4a9014634986').width('19.000000%')"
       ],
       "metadata": {},
       "output_type": "display_data",
       "text": [
        "<IPython.core.display.Javascript at 0x7f78c63b7650>"
       ]
      },
      {
       "javascript": [
        "$('div#d8a1d901-6237-4dc6-a897-4a9014634986').width('20.000000%')"
       ],
       "metadata": {},
       "output_type": "display_data",
       "text": [
        "<IPython.core.display.Javascript at 0x7f78c63b7210>"
       ]
      },
      {
       "javascript": [
        "$('div#d8a1d901-6237-4dc6-a897-4a9014634986').width('21.000000%')"
       ],
       "metadata": {},
       "output_type": "display_data",
       "text": [
        "<IPython.core.display.Javascript at 0x7f78c62deb90>"
       ]
      },
      {
       "javascript": [
        "$('div#d8a1d901-6237-4dc6-a897-4a9014634986').width('22.000000%')"
       ],
       "metadata": {},
       "output_type": "display_data",
       "text": [
        "<IPython.core.display.Javascript at 0x7f78c62de710>"
       ]
      },
      {
       "javascript": [
        "$('div#d8a1d901-6237-4dc6-a897-4a9014634986').width('23.000000%')"
       ],
       "metadata": {},
       "output_type": "display_data",
       "text": [
        "<IPython.core.display.Javascript at 0x7f78c62dead0>"
       ]
      },
      {
       "javascript": [
        "$('div#d8a1d901-6237-4dc6-a897-4a9014634986').width('24.000000%')"
       ],
       "metadata": {},
       "output_type": "display_data",
       "text": [
        "<IPython.core.display.Javascript at 0x7f78c62ded10>"
       ]
      },
      {
       "javascript": [
        "$('div#d8a1d901-6237-4dc6-a897-4a9014634986').width('25.000000%')"
       ],
       "metadata": {},
       "output_type": "display_data",
       "text": [
        "<IPython.core.display.Javascript at 0x7f78c62dee50>"
       ]
      },
      {
       "javascript": [
        "$('div#d8a1d901-6237-4dc6-a897-4a9014634986').width('26.000000%')"
       ],
       "metadata": {},
       "output_type": "display_data",
       "text": [
        "<IPython.core.display.Javascript at 0x7f78c62de350>"
       ]
      },
      {
       "javascript": [
        "$('div#d8a1d901-6237-4dc6-a897-4a9014634986').width('27.000000%')"
       ],
       "metadata": {},
       "output_type": "display_data",
       "text": [
        "<IPython.core.display.Javascript at 0x7f78c62de490>"
       ]
      },
      {
       "javascript": [
        "$('div#d8a1d901-6237-4dc6-a897-4a9014634986').width('28.000000%')"
       ],
       "metadata": {},
       "output_type": "display_data",
       "text": [
        "<IPython.core.display.Javascript at 0x7f78c62def10>"
       ]
      },
      {
       "javascript": [
        "$('div#d8a1d901-6237-4dc6-a897-4a9014634986').width('29.000000%')"
       ],
       "metadata": {},
       "output_type": "display_data",
       "text": [
        "<IPython.core.display.Javascript at 0x7f78c632a410>"
       ]
      },
      {
       "javascript": [
        "$('div#d8a1d901-6237-4dc6-a897-4a9014634986').width('30.000000%')"
       ],
       "metadata": {},
       "output_type": "display_data",
       "text": [
        "<IPython.core.display.Javascript at 0x7f78c633bfd0>"
       ]
      },
      {
       "javascript": [
        "$('div#d8a1d901-6237-4dc6-a897-4a9014634986').width('31.000000%')"
       ],
       "metadata": {},
       "output_type": "display_data",
       "text": [
        "<IPython.core.display.Javascript at 0x7f78c62defd0>"
       ]
      },
      {
       "javascript": [
        "$('div#d8a1d901-6237-4dc6-a897-4a9014634986').width('32.000000%')"
       ],
       "metadata": {},
       "output_type": "display_data",
       "text": [
        "<IPython.core.display.Javascript at 0x7f78c6206650>"
       ]
      },
      {
       "javascript": [
        "$('div#d8a1d901-6237-4dc6-a897-4a9014634986').width('33.000000%')"
       ],
       "metadata": {},
       "output_type": "display_data",
       "text": [
        "<IPython.core.display.Javascript at 0x7f78c6206b90>"
       ]
      },
      {
       "javascript": [
        "$('div#d8a1d901-6237-4dc6-a897-4a9014634986').width('34.000000%')"
       ],
       "metadata": {},
       "output_type": "display_data",
       "text": [
        "<IPython.core.display.Javascript at 0x7f78c6206450>"
       ]
      },
      {
       "javascript": [
        "$('div#d8a1d901-6237-4dc6-a897-4a9014634986').width('35.000000%')"
       ],
       "metadata": {},
       "output_type": "display_data",
       "text": [
        "<IPython.core.display.Javascript at 0x7f78c6206550>"
       ]
      },
      {
       "javascript": [
        "$('div#d8a1d901-6237-4dc6-a897-4a9014634986').width('36.000000%')"
       ],
       "metadata": {},
       "output_type": "display_data",
       "text": [
        "<IPython.core.display.Javascript at 0x7f78c6206d90>"
       ]
      },
      {
       "javascript": [
        "$('div#d8a1d901-6237-4dc6-a897-4a9014634986').width('37.000000%')"
       ],
       "metadata": {},
       "output_type": "display_data",
       "text": [
        "<IPython.core.display.Javascript at 0x7f78c6206e90>"
       ]
      },
      {
       "javascript": [
        "$('div#d8a1d901-6237-4dc6-a897-4a9014634986').width('38.000000%')"
       ],
       "metadata": {},
       "output_type": "display_data",
       "text": [
        "<IPython.core.display.Javascript at 0x7f78c6206750>"
       ]
      },
      {
       "javascript": [
        "$('div#d8a1d901-6237-4dc6-a897-4a9014634986').width('39.000000%')"
       ],
       "metadata": {},
       "output_type": "display_data",
       "text": [
        "<IPython.core.display.Javascript at 0x7f78c6206d50>"
       ]
      },
      {
       "javascript": [
        "$('div#d8a1d901-6237-4dc6-a897-4a9014634986').width('40.000000%')"
       ],
       "metadata": {},
       "output_type": "display_data",
       "text": [
        "<IPython.core.display.Javascript at 0x7f78c6206d10>"
       ]
      },
      {
       "javascript": [
        "$('div#d8a1d901-6237-4dc6-a897-4a9014634986').width('41.000000%')"
       ],
       "metadata": {},
       "output_type": "display_data",
       "text": [
        "<IPython.core.display.Javascript at 0x7f78c6206f90>"
       ]
      },
      {
       "javascript": [
        "$('div#d8a1d901-6237-4dc6-a897-4a9014634986').width('42.000000%')"
       ],
       "metadata": {},
       "output_type": "display_data",
       "text": [
        "<IPython.core.display.Javascript at 0x7f78c6206950>"
       ]
      },
      {
       "javascript": [
        "$('div#d8a1d901-6237-4dc6-a897-4a9014634986').width('43.000000%')"
       ],
       "metadata": {},
       "output_type": "display_data",
       "text": [
        "<IPython.core.display.Javascript at 0x7f78c633b290>"
       ]
      },
      {
       "javascript": [
        "$('div#d8a1d901-6237-4dc6-a897-4a9014634986').width('44.000000%')"
       ],
       "metadata": {},
       "output_type": "display_data",
       "text": [
        "<IPython.core.display.Javascript at 0x7f78c6211090>"
       ]
      },
      {
       "javascript": [
        "$('div#d8a1d901-6237-4dc6-a897-4a9014634986').width('45.000000%')"
       ],
       "metadata": {},
       "output_type": "display_data",
       "text": [
        "<IPython.core.display.Javascript at 0x7f78c6211050>"
       ]
      },
      {
       "javascript": [
        "$('div#d8a1d901-6237-4dc6-a897-4a9014634986').width('46.000000%')"
       ],
       "metadata": {},
       "output_type": "display_data",
       "text": [
        "<IPython.core.display.Javascript at 0x7f78c63fad50>"
       ]
      },
      {
       "javascript": [
        "$('div#d8a1d901-6237-4dc6-a897-4a9014634986').width('47.000000%')"
       ],
       "metadata": {},
       "output_type": "display_data",
       "text": [
        "<IPython.core.display.Javascript at 0x7f78c63fab90>"
       ]
      },
      {
       "javascript": [
        "$('div#d8a1d901-6237-4dc6-a897-4a9014634986').width('48.000000%')"
       ],
       "metadata": {},
       "output_type": "display_data",
       "text": [
        "<IPython.core.display.Javascript at 0x7f78c63fac10>"
       ]
      },
      {
       "javascript": [
        "$('div#d8a1d901-6237-4dc6-a897-4a9014634986').width('49.000000%')"
       ],
       "metadata": {},
       "output_type": "display_data",
       "text": [
        "<IPython.core.display.Javascript at 0x7f78c63fa690>"
       ]
      },
      {
       "javascript": [
        "$('div#d8a1d901-6237-4dc6-a897-4a9014634986').width('50.000000%')"
       ],
       "metadata": {},
       "output_type": "display_data",
       "text": [
        "<IPython.core.display.Javascript at 0x7f78c63fa750>"
       ]
      },
      {
       "javascript": [
        "$('div#d8a1d901-6237-4dc6-a897-4a9014634986').width('51.000000%')"
       ],
       "metadata": {},
       "output_type": "display_data",
       "text": [
        "<IPython.core.display.Javascript at 0x7f78c63faad0>"
       ]
      },
      {
       "javascript": [
        "$('div#d8a1d901-6237-4dc6-a897-4a9014634986').width('52.000000%')"
       ],
       "metadata": {},
       "output_type": "display_data",
       "text": [
        "<IPython.core.display.Javascript at 0x7f78c63fa450>"
       ]
      },
      {
       "javascript": [
        "$('div#d8a1d901-6237-4dc6-a897-4a9014634986').width('53.000000%')"
       ],
       "metadata": {},
       "output_type": "display_data",
       "text": [
        "<IPython.core.display.Javascript at 0x7f78c62d73d0>"
       ]
      },
      {
       "javascript": [
        "$('div#d8a1d901-6237-4dc6-a897-4a9014634986').width('54.000000%')"
       ],
       "metadata": {},
       "output_type": "display_data",
       "text": [
        "<IPython.core.display.Javascript at 0x7f78c62d7350>"
       ]
      },
      {
       "javascript": [
        "$('div#d8a1d901-6237-4dc6-a897-4a9014634986').width('55.000000%')"
       ],
       "metadata": {},
       "output_type": "display_data",
       "text": [
        "<IPython.core.display.Javascript at 0x7f78c6206f10>"
       ]
      },
      {
       "javascript": [
        "$('div#d8a1d901-6237-4dc6-a897-4a9014634986').width('56.000000%')"
       ],
       "metadata": {},
       "output_type": "display_data",
       "text": [
        "<IPython.core.display.Javascript at 0x7f78c6398cd0>"
       ]
      },
      {
       "javascript": [
        "$('div#d8a1d901-6237-4dc6-a897-4a9014634986').width('57.000000%')"
       ],
       "metadata": {},
       "output_type": "display_data",
       "text": [
        "<IPython.core.display.Javascript at 0x7f78c6398a90>"
       ]
      },
      {
       "javascript": [
        "$('div#d8a1d901-6237-4dc6-a897-4a9014634986').width('58.000000%')"
       ],
       "metadata": {},
       "output_type": "display_data",
       "text": [
        "<IPython.core.display.Javascript at 0x7f78c63981d0>"
       ]
      },
      {
       "javascript": [
        "$('div#d8a1d901-6237-4dc6-a897-4a9014634986').width('59.000000%')"
       ],
       "metadata": {},
       "output_type": "display_data",
       "text": [
        "<IPython.core.display.Javascript at 0x7f78c6398a90>"
       ]
      },
      {
       "javascript": [
        "$('div#d8a1d901-6237-4dc6-a897-4a9014634986').width('60.000000%')"
       ],
       "metadata": {},
       "output_type": "display_data",
       "text": [
        "<IPython.core.display.Javascript at 0x7f78c62d7550>"
       ]
      },
      {
       "javascript": [
        "$('div#d8a1d901-6237-4dc6-a897-4a9014634986').width('61.000000%')"
       ],
       "metadata": {},
       "output_type": "display_data",
       "text": [
        "<IPython.core.display.Javascript at 0x7f78c62d73d0>"
       ]
      },
      {
       "javascript": [
        "$('div#d8a1d901-6237-4dc6-a897-4a9014634986').width('62.000000%')"
       ],
       "metadata": {},
       "output_type": "display_data",
       "text": [
        "<IPython.core.display.Javascript at 0x7f78c6398210>"
       ]
      },
      {
       "javascript": [
        "$('div#d8a1d901-6237-4dc6-a897-4a9014634986').width('63.000000%')"
       ],
       "metadata": {},
       "output_type": "display_data",
       "text": [
        "<IPython.core.display.Javascript at 0x7f78c63faad0>"
       ]
      },
      {
       "javascript": [
        "$('div#d8a1d901-6237-4dc6-a897-4a9014634986').width('64.000000%')"
       ],
       "metadata": {},
       "output_type": "display_data",
       "text": [
        "<IPython.core.display.Javascript at 0x7f78c63fa750>"
       ]
      },
      {
       "javascript": [
        "$('div#d8a1d901-6237-4dc6-a897-4a9014634986').width('65.000000%')"
       ],
       "metadata": {},
       "output_type": "display_data",
       "text": [
        "<IPython.core.display.Javascript at 0x7f78c63fa690>"
       ]
      },
      {
       "javascript": [
        "$('div#d8a1d901-6237-4dc6-a897-4a9014634986').width('66.000000%')"
       ],
       "metadata": {},
       "output_type": "display_data",
       "text": [
        "<IPython.core.display.Javascript at 0x7f78c63fac10>"
       ]
      },
      {
       "javascript": [
        "$('div#d8a1d901-6237-4dc6-a897-4a9014634986').width('67.000000%')"
       ],
       "metadata": {},
       "output_type": "display_data",
       "text": [
        "<IPython.core.display.Javascript at 0x7f78c63fab90>"
       ]
      },
      {
       "javascript": [
        "$('div#d8a1d901-6237-4dc6-a897-4a9014634986').width('68.000000%')"
       ],
       "metadata": {},
       "output_type": "display_data",
       "text": [
        "<IPython.core.display.Javascript at 0x7f78c63fa450>"
       ]
      },
      {
       "javascript": [
        "$('div#d8a1d901-6237-4dc6-a897-4a9014634986').width('69.000000%')"
       ],
       "metadata": {},
       "output_type": "display_data",
       "text": [
        "<IPython.core.display.Javascript at 0x7f78c6398cd0>"
       ]
      },
      {
       "javascript": [
        "$('div#d8a1d901-6237-4dc6-a897-4a9014634986').width('70.000000%')"
       ],
       "metadata": {},
       "output_type": "display_data",
       "text": [
        "<IPython.core.display.Javascript at 0x7f78c6211050>"
       ]
      },
      {
       "javascript": [
        "$('div#d8a1d901-6237-4dc6-a897-4a9014634986').width('71.000000%')"
       ],
       "metadata": {},
       "output_type": "display_data",
       "text": [
        "<IPython.core.display.Javascript at 0x7f78c6211090>"
       ]
      },
      {
       "javascript": [
        "$('div#d8a1d901-6237-4dc6-a897-4a9014634986').width('72.000000%')"
       ],
       "metadata": {},
       "output_type": "display_data",
       "text": [
        "<IPython.core.display.Javascript at 0x7f78c6206950>"
       ]
      },
      {
       "javascript": [
        "$('div#d8a1d901-6237-4dc6-a897-4a9014634986').width('73.000000%')"
       ],
       "metadata": {},
       "output_type": "display_data",
       "text": [
        "<IPython.core.display.Javascript at 0x7f78c6206f90>"
       ]
      },
      {
       "javascript": [
        "$('div#d8a1d901-6237-4dc6-a897-4a9014634986').width('74.000000%')"
       ],
       "metadata": {},
       "output_type": "display_data",
       "text": [
        "<IPython.core.display.Javascript at 0x7f78c6206d10>"
       ]
      },
      {
       "javascript": [
        "$('div#d8a1d901-6237-4dc6-a897-4a9014634986').width('75.000000%')"
       ],
       "metadata": {},
       "output_type": "display_data",
       "text": [
        "<IPython.core.display.Javascript at 0x7f78c6206d50>"
       ]
      },
      {
       "javascript": [
        "$('div#d8a1d901-6237-4dc6-a897-4a9014634986').width('76.000000%')"
       ],
       "metadata": {},
       "output_type": "display_data",
       "text": [
        "<IPython.core.display.Javascript at 0x7f78c6206750>"
       ]
      },
      {
       "javascript": [
        "$('div#d8a1d901-6237-4dc6-a897-4a9014634986').width('77.000000%')"
       ],
       "metadata": {},
       "output_type": "display_data",
       "text": [
        "<IPython.core.display.Javascript at 0x7f78c6206e90>"
       ]
      },
      {
       "javascript": [
        "$('div#d8a1d901-6237-4dc6-a897-4a9014634986').width('78.000000%')"
       ],
       "metadata": {},
       "output_type": "display_data",
       "text": [
        "<IPython.core.display.Javascript at 0x7f78c6206d90>"
       ]
      },
      {
       "javascript": [
        "$('div#d8a1d901-6237-4dc6-a897-4a9014634986').width('79.000000%')"
       ],
       "metadata": {},
       "output_type": "display_data",
       "text": [
        "<IPython.core.display.Javascript at 0x7f78c6206550>"
       ]
      },
      {
       "javascript": [
        "$('div#d8a1d901-6237-4dc6-a897-4a9014634986').width('80.000000%')"
       ],
       "metadata": {},
       "output_type": "display_data",
       "text": [
        "<IPython.core.display.Javascript at 0x7f78c6206450>"
       ]
      },
      {
       "javascript": [
        "$('div#d8a1d901-6237-4dc6-a897-4a9014634986').width('81.000000%')"
       ],
       "metadata": {},
       "output_type": "display_data",
       "text": [
        "<IPython.core.display.Javascript at 0x7f78c6206b90>"
       ]
      },
      {
       "javascript": [
        "$('div#d8a1d901-6237-4dc6-a897-4a9014634986').width('82.000000%')"
       ],
       "metadata": {},
       "output_type": "display_data",
       "text": [
        "<IPython.core.display.Javascript at 0x7f78c6206f10>"
       ]
      },
      {
       "javascript": [
        "$('div#d8a1d901-6237-4dc6-a897-4a9014634986').width('83.000000%')"
       ],
       "metadata": {},
       "output_type": "display_data",
       "text": [
        "<IPython.core.display.Javascript at 0x7f78c6206650>"
       ]
      },
      {
       "javascript": [
        "$('div#d8a1d901-6237-4dc6-a897-4a9014634986').width('84.000000%')"
       ],
       "metadata": {},
       "output_type": "display_data",
       "text": [
        "<IPython.core.display.Javascript at 0x7f78c633b290>"
       ]
      },
      {
       "javascript": [
        "$('div#d8a1d901-6237-4dc6-a897-4a9014634986').width('85.000000%')"
       ],
       "metadata": {},
       "output_type": "display_data",
       "text": [
        "<IPython.core.display.Javascript at 0x7f78c63fad50>"
       ]
      },
      {
       "javascript": [
        "$('div#d8a1d901-6237-4dc6-a897-4a9014634986').width('86.000000%')"
       ],
       "metadata": {},
       "output_type": "display_data",
       "text": [
        "<IPython.core.display.Javascript at 0x7f78c62def10>"
       ]
      },
      {
       "javascript": [
        "$('div#d8a1d901-6237-4dc6-a897-4a9014634986').width('87.000000%')"
       ],
       "metadata": {},
       "output_type": "display_data",
       "text": [
        "<IPython.core.display.Javascript at 0x7f78c62de490>"
       ]
      },
      {
       "javascript": [
        "$('div#d8a1d901-6237-4dc6-a897-4a9014634986').width('88.000000%')"
       ],
       "metadata": {},
       "output_type": "display_data",
       "text": [
        "<IPython.core.display.Javascript at 0x7f78c62de350>"
       ]
      },
      {
       "javascript": [
        "$('div#d8a1d901-6237-4dc6-a897-4a9014634986').width('89.000000%')"
       ],
       "metadata": {},
       "output_type": "display_data",
       "text": [
        "<IPython.core.display.Javascript at 0x7f78c62dee50>"
       ]
      },
      {
       "javascript": [
        "$('div#d8a1d901-6237-4dc6-a897-4a9014634986').width('90.000000%')"
       ],
       "metadata": {},
       "output_type": "display_data",
       "text": [
        "<IPython.core.display.Javascript at 0x7f78c62ded10>"
       ]
      },
      {
       "javascript": [
        "$('div#d8a1d901-6237-4dc6-a897-4a9014634986').width('91.000000%')"
       ],
       "metadata": {},
       "output_type": "display_data",
       "text": [
        "<IPython.core.display.Javascript at 0x7f78c62dead0>"
       ]
      },
      {
       "javascript": [
        "$('div#d8a1d901-6237-4dc6-a897-4a9014634986').width('92.000000%')"
       ],
       "metadata": {},
       "output_type": "display_data",
       "text": [
        "<IPython.core.display.Javascript at 0x7f78c62de710>"
       ]
      },
      {
       "javascript": [
        "$('div#d8a1d901-6237-4dc6-a897-4a9014634986').width('93.000000%')"
       ],
       "metadata": {},
       "output_type": "display_data",
       "text": [
        "<IPython.core.display.Javascript at 0x7f78c62defd0>"
       ]
      },
      {
       "javascript": [
        "$('div#d8a1d901-6237-4dc6-a897-4a9014634986').width('94.000000%')"
       ],
       "metadata": {},
       "output_type": "display_data",
       "text": [
        "<IPython.core.display.Javascript at 0x7f78c62d7350>"
       ]
      },
      {
       "javascript": [
        "$('div#d8a1d901-6237-4dc6-a897-4a9014634986').width('95.000000%')"
       ],
       "metadata": {},
       "output_type": "display_data",
       "text": [
        "<IPython.core.display.Javascript at 0x7f78c63b7650>"
       ]
      },
      {
       "javascript": [
        "$('div#d8a1d901-6237-4dc6-a897-4a9014634986').width('96.000000%')"
       ],
       "metadata": {},
       "output_type": "display_data",
       "text": [
        "<IPython.core.display.Javascript at 0x7f78c63b7210>"
       ]
      },
      {
       "javascript": [
        "$('div#d8a1d901-6237-4dc6-a897-4a9014634986').width('97.000000%')"
       ],
       "metadata": {},
       "output_type": "display_data",
       "text": [
        "<IPython.core.display.Javascript at 0x7f78c633bfd0>"
       ]
      },
      {
       "javascript": [
        "$('div#d8a1d901-6237-4dc6-a897-4a9014634986').width('98.000000%')"
       ],
       "metadata": {},
       "output_type": "display_data",
       "text": [
        "<IPython.core.display.Javascript at 0x7f78c62deb90>"
       ]
      },
      {
       "javascript": [
        "$('div#d8a1d901-6237-4dc6-a897-4a9014634986').width('99.000000%')"
       ],
       "metadata": {},
       "output_type": "display_data",
       "text": [
        "<IPython.core.display.Javascript at 0x7f78c62cd710>"
       ]
      },
      {
       "javascript": [
        "$('div#d8a1d901-6237-4dc6-a897-4a9014634986').width('100.000000%')"
       ],
       "metadata": {},
       "output_type": "display_data",
       "text": [
        "<IPython.core.display.Javascript at 0x7f78c62cd2d0>"
       ]
      },
      {
       "output_type": "stream",
       "stream": "stdout",
       "text": [
        "Running mapper & aggregator on the result objects (number of results=100, chunk size=17)\n"
       ]
      },
      {
       "html": [
        "\n",
        "                          <div style=\"border: 1px solid black; width:500px\">\n",
        "                          <div id=\"7d3fbab0-4e41-421d-aea0-c66bf4b0a6eb\" style=\"background-color:blue; width:0%\">&nbsp;</div>\n",
        "                          </div>\n",
        "                          "
       ],
       "metadata": {},
       "output_type": "display_data",
       "text": [
        "<IPython.core.display.HTML at 0x7f78c624b950>"
       ]
      },
      {
       "javascript": [
        "$('div#7d3fbab0-4e41-421d-aea0-c66bf4b0a6eb').width('16.666667%')"
       ],
       "metadata": {},
       "output_type": "display_data",
       "text": [
        "<IPython.core.display.Javascript at 0x7f78c624bf50>"
       ]
      },
      {
       "javascript": [
        "$('div#7d3fbab0-4e41-421d-aea0-c66bf4b0a6eb').width('33.333333%')"
       ],
       "metadata": {},
       "output_type": "display_data",
       "text": [
        "<IPython.core.display.Javascript at 0x7f78c624b390>"
       ]
      },
      {
       "javascript": [
        "$('div#7d3fbab0-4e41-421d-aea0-c66bf4b0a6eb').width('50.000000%')"
       ],
       "metadata": {},
       "output_type": "display_data",
       "text": [
        "<IPython.core.display.Javascript at 0x7f78c624be50>"
       ]
      },
      {
       "javascript": [
        "$('div#7d3fbab0-4e41-421d-aea0-c66bf4b0a6eb').width('66.666667%')"
       ],
       "metadata": {},
       "output_type": "display_data",
       "text": [
        "<IPython.core.display.Javascript at 0x7f78c624b050>"
       ]
      },
      {
       "javascript": [
        "$('div#7d3fbab0-4e41-421d-aea0-c66bf4b0a6eb').width('83.333333%')"
       ],
       "metadata": {},
       "output_type": "display_data",
       "text": [
        "<IPython.core.display.Javascript at 0x7f78c624bd90>"
       ]
      },
      {
       "javascript": [
        "$('div#7d3fbab0-4e41-421d-aea0-c66bf4b0a6eb').width('100.000000%')"
       ],
       "metadata": {},
       "output_type": "display_data",
       "text": [
        "<IPython.core.display.Javascript at 0x7f78c624b5d0>"
       ]
      },
      {
       "output_type": "stream",
       "stream": "stdout",
       "text": [
        "Running reducer on mapped and aggregated results (size=6)\n",
        "Generating 100 realizations of the model (chunk size=1)\n"
       ]
      },
      {
       "html": [
        "\n",
        "                          <div style=\"border: 1px solid black; width:500px\">\n",
        "                          <div id=\"05d313a0-b864-4742-b502-b9c750cb2b80\" style=\"background-color:blue; width:0%\">&nbsp;</div>\n",
        "                          </div>\n",
        "                          "
       ],
       "metadata": {},
       "output_type": "display_data",
       "text": [
        "<IPython.core.display.HTML at 0x7f78c632a690>"
       ]
      },
      {
       "javascript": [
        "$('div#05d313a0-b864-4742-b502-b9c750cb2b80').width('1.000000%')"
       ],
       "metadata": {},
       "output_type": "display_data",
       "text": [
        "<IPython.core.display.Javascript at 0x7f78c624bd90>"
       ]
      },
      {
       "javascript": [
        "$('div#05d313a0-b864-4742-b502-b9c750cb2b80').width('2.000000%')"
       ],
       "metadata": {},
       "output_type": "display_data",
       "text": [
        "<IPython.core.display.Javascript at 0x7f78c624b050>"
       ]
      },
      {
       "javascript": [
        "$('div#05d313a0-b864-4742-b502-b9c750cb2b80').width('3.000000%')"
       ],
       "metadata": {},
       "output_type": "display_data",
       "text": [
        "<IPython.core.display.Javascript at 0x7f78c624bf50>"
       ]
      },
      {
       "javascript": [
        "$('div#05d313a0-b864-4742-b502-b9c750cb2b80').width('4.000000%')"
       ],
       "metadata": {},
       "output_type": "display_data",
       "text": [
        "<IPython.core.display.Javascript at 0x7f78c624b390>"
       ]
      },
      {
       "javascript": [
        "$('div#05d313a0-b864-4742-b502-b9c750cb2b80').width('5.000000%')"
       ],
       "metadata": {},
       "output_type": "display_data",
       "text": [
        "<IPython.core.display.Javascript at 0x7f78c62cd2d0>"
       ]
      },
      {
       "javascript": [
        "$('div#05d313a0-b864-4742-b502-b9c750cb2b80').width('6.000000%')"
       ],
       "metadata": {},
       "output_type": "display_data",
       "text": [
        "<IPython.core.display.Javascript at 0x7f78c62cd710>"
       ]
      },
      {
       "javascript": [
        "$('div#05d313a0-b864-4742-b502-b9c750cb2b80').width('7.000000%')"
       ],
       "metadata": {},
       "output_type": "display_data",
       "text": [
        "<IPython.core.display.Javascript at 0x7f78c63b7210>"
       ]
      },
      {
       "javascript": [
        "$('div#05d313a0-b864-4742-b502-b9c750cb2b80').width('8.000000%')"
       ],
       "metadata": {},
       "output_type": "display_data",
       "text": [
        "<IPython.core.display.Javascript at 0x7f78c63b73d0>"
       ]
      },
      {
       "javascript": [
        "$('div#05d313a0-b864-4742-b502-b9c750cb2b80').width('9.000000%')"
       ],
       "metadata": {},
       "output_type": "display_data",
       "text": [
        "<IPython.core.display.Javascript at 0x7f78c63b7650>"
       ]
      },
      {
       "javascript": [
        "$('div#05d313a0-b864-4742-b502-b9c750cb2b80').width('10.000000%')"
       ],
       "metadata": {},
       "output_type": "display_data",
       "text": [
        "<IPython.core.display.Javascript at 0x7f78c62defd0>"
       ]
      },
      {
       "javascript": [
        "$('div#05d313a0-b864-4742-b502-b9c750cb2b80').width('11.000000%')"
       ],
       "metadata": {},
       "output_type": "display_data",
       "text": [
        "<IPython.core.display.Javascript at 0x7f78c62de710>"
       ]
      },
      {
       "javascript": [
        "$('div#05d313a0-b864-4742-b502-b9c750cb2b80').width('12.000000%')"
       ],
       "metadata": {},
       "output_type": "display_data",
       "text": [
        "<IPython.core.display.Javascript at 0x7f78c62dead0>"
       ]
      },
      {
       "javascript": [
        "$('div#05d313a0-b864-4742-b502-b9c750cb2b80').width('13.000000%')"
       ],
       "metadata": {},
       "output_type": "display_data",
       "text": [
        "<IPython.core.display.Javascript at 0x7f78c62dee50>"
       ]
      },
      {
       "javascript": [
        "$('div#05d313a0-b864-4742-b502-b9c750cb2b80').width('14.000000%')"
       ],
       "metadata": {},
       "output_type": "display_data",
       "text": [
        "<IPython.core.display.Javascript at 0x7f78c62ded10>"
       ]
      },
      {
       "javascript": [
        "$('div#05d313a0-b864-4742-b502-b9c750cb2b80').width('15.000000%')"
       ],
       "metadata": {},
       "output_type": "display_data",
       "text": [
        "<IPython.core.display.Javascript at 0x7f78c62de350>"
       ]
      },
      {
       "javascript": [
        "$('div#05d313a0-b864-4742-b502-b9c750cb2b80').width('16.000000%')"
       ],
       "metadata": {},
       "output_type": "display_data",
       "text": [
        "<IPython.core.display.Javascript at 0x7f78c62de490>"
       ]
      },
      {
       "javascript": [
        "$('div#05d313a0-b864-4742-b502-b9c750cb2b80').width('17.000000%')"
       ],
       "metadata": {},
       "output_type": "display_data",
       "text": [
        "<IPython.core.display.Javascript at 0x7f78c62deb90>"
       ]
      },
      {
       "javascript": [
        "$('div#05d313a0-b864-4742-b502-b9c750cb2b80').width('18.000000%')"
       ],
       "metadata": {},
       "output_type": "display_data",
       "text": [
        "<IPython.core.display.Javascript at 0x7f78c624bf10>"
       ]
      },
      {
       "javascript": [
        "$('div#05d313a0-b864-4742-b502-b9c750cb2b80').width('19.000000%')"
       ],
       "metadata": {},
       "output_type": "display_data",
       "text": [
        "<IPython.core.display.Javascript at 0x7f78c633bfd0>"
       ]
      },
      {
       "javascript": [
        "$('div#05d313a0-b864-4742-b502-b9c750cb2b80').width('20.000000%')"
       ],
       "metadata": {},
       "output_type": "display_data",
       "text": [
        "<IPython.core.display.Javascript at 0x7f78c633b290>"
       ]
      },
      {
       "javascript": [
        "$('div#05d313a0-b864-4742-b502-b9c750cb2b80').width('21.000000%')"
       ],
       "metadata": {},
       "output_type": "display_data",
       "text": [
        "<IPython.core.display.Javascript at 0x7f78c6206f10>"
       ]
      },
      {
       "javascript": [
        "$('div#05d313a0-b864-4742-b502-b9c750cb2b80').width('22.000000%')"
       ],
       "metadata": {},
       "output_type": "display_data",
       "text": [
        "<IPython.core.display.Javascript at 0x7f78c6206b90>"
       ]
      },
      {
       "javascript": [
        "$('div#05d313a0-b864-4742-b502-b9c750cb2b80').width('23.000000%')"
       ],
       "metadata": {},
       "output_type": "display_data",
       "text": [
        "<IPython.core.display.Javascript at 0x7f78c6206450>"
       ]
      },
      {
       "javascript": [
        "$('div#05d313a0-b864-4742-b502-b9c750cb2b80').width('24.000000%')"
       ],
       "metadata": {},
       "output_type": "display_data",
       "text": [
        "<IPython.core.display.Javascript at 0x7f78c6206550>"
       ]
      },
      {
       "javascript": [
        "$('div#05d313a0-b864-4742-b502-b9c750cb2b80').width('25.000000%')"
       ],
       "metadata": {},
       "output_type": "display_data",
       "text": [
        "<IPython.core.display.Javascript at 0x7f78c6206d90>"
       ]
      },
      {
       "javascript": [
        "$('div#05d313a0-b864-4742-b502-b9c750cb2b80').width('26.000000%')"
       ],
       "metadata": {},
       "output_type": "display_data",
       "text": [
        "<IPython.core.display.Javascript at 0x7f78c6206e90>"
       ]
      },
      {
       "javascript": [
        "$('div#05d313a0-b864-4742-b502-b9c750cb2b80').width('27.000000%')"
       ],
       "metadata": {},
       "output_type": "display_data",
       "text": [
        "<IPython.core.display.Javascript at 0x7f78c6206750>"
       ]
      },
      {
       "javascript": [
        "$('div#05d313a0-b864-4742-b502-b9c750cb2b80').width('28.000000%')"
       ],
       "metadata": {},
       "output_type": "display_data",
       "text": [
        "<IPython.core.display.Javascript at 0x7f78c6206d50>"
       ]
      },
      {
       "javascript": [
        "$('div#05d313a0-b864-4742-b502-b9c750cb2b80').width('29.000000%')"
       ],
       "metadata": {},
       "output_type": "display_data",
       "text": [
        "<IPython.core.display.Javascript at 0x7f78c6206d10>"
       ]
      },
      {
       "javascript": [
        "$('div#05d313a0-b864-4742-b502-b9c750cb2b80').width('30.000000%')"
       ],
       "metadata": {},
       "output_type": "display_data",
       "text": [
        "<IPython.core.display.Javascript at 0x7f78c6206d10>"
       ]
      },
      {
       "javascript": [
        "$('div#05d313a0-b864-4742-b502-b9c750cb2b80').width('31.000000%')"
       ],
       "metadata": {},
       "output_type": "display_data",
       "text": [
        "<IPython.core.display.Javascript at 0x7f78c6206f90>"
       ]
      },
      {
       "javascript": [
        "$('div#05d313a0-b864-4742-b502-b9c750cb2b80').width('32.000000%')"
       ],
       "metadata": {},
       "output_type": "display_data",
       "text": [
        "<IPython.core.display.Javascript at 0x7f78c6206950>"
       ]
      },
      {
       "javascript": [
        "$('div#05d313a0-b864-4742-b502-b9c750cb2b80').width('33.000000%')"
       ],
       "metadata": {},
       "output_type": "display_data",
       "text": [
        "<IPython.core.display.Javascript at 0x7f78c6206d50>"
       ]
      },
      {
       "javascript": [
        "$('div#05d313a0-b864-4742-b502-b9c750cb2b80').width('34.000000%')"
       ],
       "metadata": {},
       "output_type": "display_data",
       "text": [
        "<IPython.core.display.Javascript at 0x7f78c6206750>"
       ]
      },
      {
       "javascript": [
        "$('div#05d313a0-b864-4742-b502-b9c750cb2b80').width('35.000000%')"
       ],
       "metadata": {},
       "output_type": "display_data",
       "text": [
        "<IPython.core.display.Javascript at 0x7f78c6206e90>"
       ]
      },
      {
       "javascript": [
        "$('div#05d313a0-b864-4742-b502-b9c750cb2b80').width('36.000000%')"
       ],
       "metadata": {},
       "output_type": "display_data",
       "text": [
        "<IPython.core.display.Javascript at 0x7f78c6206d90>"
       ]
      },
      {
       "javascript": [
        "$('div#05d313a0-b864-4742-b502-b9c750cb2b80').width('37.000000%')"
       ],
       "metadata": {},
       "output_type": "display_data",
       "text": [
        "<IPython.core.display.Javascript at 0x7f78c6206550>"
       ]
      },
      {
       "javascript": [
        "$('div#05d313a0-b864-4742-b502-b9c750cb2b80').width('38.000000%')"
       ],
       "metadata": {},
       "output_type": "display_data",
       "text": [
        "<IPython.core.display.Javascript at 0x7f78c6206450>"
       ]
      },
      {
       "javascript": [
        "$('div#05d313a0-b864-4742-b502-b9c750cb2b80').width('39.000000%')"
       ],
       "metadata": {},
       "output_type": "display_data",
       "text": [
        "<IPython.core.display.Javascript at 0x7f78c6206b90>"
       ]
      },
      {
       "javascript": [
        "$('div#05d313a0-b864-4742-b502-b9c750cb2b80').width('40.000000%')"
       ],
       "metadata": {},
       "output_type": "display_data",
       "text": [
        "<IPython.core.display.Javascript at 0x7f78c6206650>"
       ]
      },
      {
       "javascript": [
        "$('div#05d313a0-b864-4742-b502-b9c750cb2b80').width('41.000000%')"
       ],
       "metadata": {},
       "output_type": "display_data",
       "text": [
        "<IPython.core.display.Javascript at 0x7f78c6206f10>"
       ]
      },
      {
       "javascript": [
        "$('div#05d313a0-b864-4742-b502-b9c750cb2b80').width('42.000000%')"
       ],
       "metadata": {},
       "output_type": "display_data",
       "text": [
        "<IPython.core.display.Javascript at 0x7f78c633b290>"
       ]
      },
      {
       "javascript": [
        "$('div#05d313a0-b864-4742-b502-b9c750cb2b80').width('43.000000%')"
       ],
       "metadata": {},
       "output_type": "display_data",
       "text": [
        "<IPython.core.display.Javascript at 0x7f78c6211050>"
       ]
      },
      {
       "javascript": [
        "$('div#05d313a0-b864-4742-b502-b9c750cb2b80').width('44.000000%')"
       ],
       "metadata": {},
       "output_type": "display_data",
       "text": [
        "<IPython.core.display.Javascript at 0x7f78c62deb90>"
       ]
      },
      {
       "javascript": [
        "$('div#05d313a0-b864-4742-b502-b9c750cb2b80').width('45.000000%')"
       ],
       "metadata": {},
       "output_type": "display_data",
       "text": [
        "<IPython.core.display.Javascript at 0x7f78c62de490>"
       ]
      },
      {
       "javascript": [
        "$('div#05d313a0-b864-4742-b502-b9c750cb2b80').width('46.000000%')"
       ],
       "metadata": {},
       "output_type": "display_data",
       "text": [
        "<IPython.core.display.Javascript at 0x7f78c62de350>"
       ]
      },
      {
       "javascript": [
        "$('div#05d313a0-b864-4742-b502-b9c750cb2b80').width('47.000000%')"
       ],
       "metadata": {},
       "output_type": "display_data",
       "text": [
        "<IPython.core.display.Javascript at 0x7f78c62ded10>"
       ]
      },
      {
       "javascript": [
        "$('div#05d313a0-b864-4742-b502-b9c750cb2b80').width('48.000000%')"
       ],
       "metadata": {},
       "output_type": "display_data",
       "text": [
        "<IPython.core.display.Javascript at 0x7f78c62dee50>"
       ]
      },
      {
       "javascript": [
        "$('div#05d313a0-b864-4742-b502-b9c750cb2b80').width('49.000000%')"
       ],
       "metadata": {},
       "output_type": "display_data",
       "text": [
        "<IPython.core.display.Javascript at 0x7f78c62dead0>"
       ]
      },
      {
       "javascript": [
        "$('div#05d313a0-b864-4742-b502-b9c750cb2b80').width('50.000000%')"
       ],
       "metadata": {},
       "output_type": "display_data",
       "text": [
        "<IPython.core.display.Javascript at 0x7f78c62de710>"
       ]
      },
      {
       "javascript": [
        "$('div#05d313a0-b864-4742-b502-b9c750cb2b80').width('51.000000%')"
       ],
       "metadata": {},
       "output_type": "display_data",
       "text": [
        "<IPython.core.display.Javascript at 0x7f78c62def10>"
       ]
      },
      {
       "javascript": [
        "$('div#05d313a0-b864-4742-b502-b9c750cb2b80').width('52.000000%')"
       ],
       "metadata": {},
       "output_type": "display_data",
       "text": [
        "<IPython.core.display.Javascript at 0x7f78c6211090>"
       ]
      },
      {
       "javascript": [
        "$('div#05d313a0-b864-4742-b502-b9c750cb2b80').width('53.000000%')"
       ],
       "metadata": {},
       "output_type": "display_data",
       "text": [
        "<IPython.core.display.Javascript at 0x7f78c63b73d0>"
       ]
      },
      {
       "javascript": [
        "$('div#05d313a0-b864-4742-b502-b9c750cb2b80').width('54.000000%')"
       ],
       "metadata": {},
       "output_type": "display_data",
       "text": [
        "<IPython.core.display.Javascript at 0x7f78c63b7650>"
       ]
      },
      {
       "javascript": [
        "$('div#05d313a0-b864-4742-b502-b9c750cb2b80').width('55.000000%')"
       ],
       "metadata": {},
       "output_type": "display_data",
       "text": [
        "<IPython.core.display.Javascript at 0x7f78c633bfd0>"
       ]
      },
      {
       "javascript": [
        "$('div#05d313a0-b864-4742-b502-b9c750cb2b80').width('56.000000%')"
       ],
       "metadata": {},
       "output_type": "display_data",
       "text": [
        "<IPython.core.display.Javascript at 0x7f78c62cd710>"
       ]
      },
      {
       "javascript": [
        "$('div#05d313a0-b864-4742-b502-b9c750cb2b80').width('57.000000%')"
       ],
       "metadata": {},
       "output_type": "display_data",
       "text": [
        "<IPython.core.display.Javascript at 0x7f78c62cd2d0>"
       ]
      },
      {
       "javascript": [
        "$('div#05d313a0-b864-4742-b502-b9c750cb2b80').width('58.000000%')"
       ],
       "metadata": {},
       "output_type": "display_data",
       "text": [
        "<IPython.core.display.Javascript at 0x7f78c624bf10>"
       ]
      },
      {
       "javascript": [
        "$('div#05d313a0-b864-4742-b502-b9c750cb2b80').width('59.000000%')"
       ],
       "metadata": {},
       "output_type": "display_data",
       "text": [
        "<IPython.core.display.Javascript at 0x7f78c624b390>"
       ]
      },
      {
       "javascript": [
        "$('div#05d313a0-b864-4742-b502-b9c750cb2b80').width('60.000000%')"
       ],
       "metadata": {},
       "output_type": "display_data",
       "text": [
        "<IPython.core.display.Javascript at 0x7f78c624bf50>"
       ]
      },
      {
       "javascript": [
        "$('div#05d313a0-b864-4742-b502-b9c750cb2b80').width('61.000000%')"
       ],
       "metadata": {},
       "output_type": "display_data",
       "text": [
        "<IPython.core.display.Javascript at 0x7f78c624b050>"
       ]
      },
      {
       "javascript": [
        "$('div#05d313a0-b864-4742-b502-b9c750cb2b80').width('62.000000%')"
       ],
       "metadata": {},
       "output_type": "display_data",
       "text": [
        "<IPython.core.display.Javascript at 0x7f78c624b950>"
       ]
      },
      {
       "javascript": [
        "$('div#05d313a0-b864-4742-b502-b9c750cb2b80').width('63.000000%')"
       ],
       "metadata": {},
       "output_type": "display_data",
       "text": [
        "<IPython.core.display.Javascript at 0x7f78c624bd90>"
       ]
      },
      {
       "javascript": [
        "$('div#05d313a0-b864-4742-b502-b9c750cb2b80').width('64.000000%')"
       ],
       "metadata": {},
       "output_type": "display_data",
       "text": [
        "<IPython.core.display.Javascript at 0x7f78c63fa450>"
       ]
      },
      {
       "javascript": [
        "$('div#05d313a0-b864-4742-b502-b9c750cb2b80').width('65.000000%')"
       ],
       "metadata": {},
       "output_type": "display_data",
       "text": [
        "<IPython.core.display.Javascript at 0x7f78c63fab90>"
       ]
      },
      {
       "javascript": [
        "$('div#05d313a0-b864-4742-b502-b9c750cb2b80').width('66.000000%')"
       ],
       "metadata": {},
       "output_type": "display_data",
       "text": [
        "<IPython.core.display.Javascript at 0x7f78c63fac10>"
       ]
      },
      {
       "javascript": [
        "$('div#05d313a0-b864-4742-b502-b9c750cb2b80').width('67.000000%')"
       ],
       "metadata": {},
       "output_type": "display_data",
       "text": [
        "<IPython.core.display.Javascript at 0x7f78c63fa690>"
       ]
      },
      {
       "javascript": [
        "$('div#05d313a0-b864-4742-b502-b9c750cb2b80').width('68.000000%')"
       ],
       "metadata": {},
       "output_type": "display_data",
       "text": [
        "<IPython.core.display.Javascript at 0x7f78c63fa750>"
       ]
      },
      {
       "javascript": [
        "$('div#05d313a0-b864-4742-b502-b9c750cb2b80').width('69.000000%')"
       ],
       "metadata": {},
       "output_type": "display_data",
       "text": [
        "<IPython.core.display.Javascript at 0x7f78c63fad50>"
       ]
      },
      {
       "javascript": [
        "$('div#05d313a0-b864-4742-b502-b9c750cb2b80').width('70.000000%')"
       ],
       "metadata": {},
       "output_type": "display_data",
       "text": [
        "<IPython.core.display.Javascript at 0x7f78c62defd0>"
       ]
      },
      {
       "javascript": [
        "$('div#05d313a0-b864-4742-b502-b9c750cb2b80').width('71.000000%')"
       ],
       "metadata": {},
       "output_type": "display_data",
       "text": [
        "<IPython.core.display.Javascript at 0x7f78c62d73d0>"
       ]
      },
      {
       "javascript": [
        "$('div#05d313a0-b864-4742-b502-b9c750cb2b80').width('72.000000%')"
       ],
       "metadata": {},
       "output_type": "display_data",
       "text": [
        "<IPython.core.display.Javascript at 0x7f78c62d7350>"
       ]
      },
      {
       "javascript": [
        "$('div#05d313a0-b864-4742-b502-b9c750cb2b80').width('73.000000%')"
       ],
       "metadata": {},
       "output_type": "display_data",
       "text": [
        "<IPython.core.display.Javascript at 0x7f78c63b7210>"
       ]
      },
      {
       "javascript": [
        "$('div#05d313a0-b864-4742-b502-b9c750cb2b80').width('74.000000%')"
       ],
       "metadata": {},
       "output_type": "display_data",
       "text": [
        "<IPython.core.display.Javascript at 0x7f78c6398210>"
       ]
      },
      {
       "javascript": [
        "$('div#05d313a0-b864-4742-b502-b9c750cb2b80').width('75.000000%')"
       ],
       "metadata": {},
       "output_type": "display_data",
       "text": [
        "<IPython.core.display.Javascript at 0x7f78c6398a90>"
       ]
      },
      {
       "javascript": [
        "$('div#05d313a0-b864-4742-b502-b9c750cb2b80').width('76.000000%')"
       ],
       "metadata": {},
       "output_type": "display_data",
       "text": [
        "<IPython.core.display.Javascript at 0x7f78c6398cd0>"
       ]
      },
      {
       "javascript": [
        "$('div#05d313a0-b864-4742-b502-b9c750cb2b80').width('77.000000%')"
       ],
       "metadata": {},
       "output_type": "display_data",
       "text": [
        "<IPython.core.display.Javascript at 0x7f78c63981d0>"
       ]
      },
      {
       "javascript": [
        "$('div#05d313a0-b864-4742-b502-b9c750cb2b80').width('78.000000%')"
       ],
       "metadata": {},
       "output_type": "display_data",
       "text": [
        "<IPython.core.display.Javascript at 0x7f78c621e090>"
       ]
      },
      {
       "javascript": [
        "$('div#05d313a0-b864-4742-b502-b9c750cb2b80').width('79.000000%')"
       ],
       "metadata": {},
       "output_type": "display_data",
       "text": [
        "<IPython.core.display.Javascript at 0x7f78c621e410>"
       ]
      },
      {
       "javascript": [
        "$('div#05d313a0-b864-4742-b502-b9c750cb2b80').width('80.000000%')"
       ],
       "metadata": {},
       "output_type": "display_data",
       "text": [
        "<IPython.core.display.Javascript at 0x7f78c621e490>"
       ]
      },
      {
       "javascript": [
        "$('div#05d313a0-b864-4742-b502-b9c750cb2b80').width('81.000000%')"
       ],
       "metadata": {},
       "output_type": "display_data",
       "text": [
        "<IPython.core.display.Javascript at 0x7f78c621e0d0>"
       ]
      },
      {
       "javascript": [
        "$('div#05d313a0-b864-4742-b502-b9c750cb2b80').width('82.000000%')"
       ],
       "metadata": {},
       "output_type": "display_data",
       "text": [
        "<IPython.core.display.Javascript at 0x7f78c621e510>"
       ]
      },
      {
       "javascript": [
        "$('div#05d313a0-b864-4742-b502-b9c750cb2b80').width('83.000000%')"
       ],
       "metadata": {},
       "output_type": "display_data",
       "text": [
        "<IPython.core.display.Javascript at 0x7f78c621e550>"
       ]
      },
      {
       "javascript": [
        "$('div#05d313a0-b864-4742-b502-b9c750cb2b80').width('84.000000%')"
       ],
       "metadata": {},
       "output_type": "display_data",
       "text": [
        "<IPython.core.display.Javascript at 0x7f78c621e590>"
       ]
      },
      {
       "javascript": [
        "$('div#05d313a0-b864-4742-b502-b9c750cb2b80').width('85.000000%')"
       ],
       "metadata": {},
       "output_type": "display_data",
       "text": [
        "<IPython.core.display.Javascript at 0x7f78c6398210>"
       ]
      },
      {
       "javascript": [
        "$('div#05d313a0-b864-4742-b502-b9c750cb2b80').width('86.000000%')"
       ],
       "metadata": {},
       "output_type": "display_data",
       "text": [
        "<IPython.core.display.Javascript at 0x7f78c63981d0>"
       ]
      },
      {
       "javascript": [
        "$('div#05d313a0-b864-4742-b502-b9c750cb2b80').width('87.000000%')"
       ],
       "metadata": {},
       "output_type": "display_data",
       "text": [
        "<IPython.core.display.Javascript at 0x7f78c62d7550>"
       ]
      },
      {
       "javascript": [
        "$('div#05d313a0-b864-4742-b502-b9c750cb2b80').width('88.000000%')"
       ],
       "metadata": {},
       "output_type": "display_data",
       "text": [
        "<IPython.core.display.Javascript at 0x7f78c62d7350>"
       ]
      },
      {
       "javascript": [
        "$('div#05d313a0-b864-4742-b502-b9c750cb2b80').width('89.000000%')"
       ],
       "metadata": {},
       "output_type": "display_data",
       "text": [
        "<IPython.core.display.Javascript at 0x7f78c62d73d0>"
       ]
      },
      {
       "javascript": [
        "$('div#05d313a0-b864-4742-b502-b9c750cb2b80').width('90.000000%')"
       ],
       "metadata": {},
       "output_type": "display_data",
       "text": [
        "<IPython.core.display.Javascript at 0x7f78c63fad50>"
       ]
      },
      {
       "javascript": [
        "$('div#05d313a0-b864-4742-b502-b9c750cb2b80').width('91.000000%')"
       ],
       "metadata": {},
       "output_type": "display_data",
       "text": [
        "<IPython.core.display.Javascript at 0x7f78c63fa750>"
       ]
      },
      {
       "javascript": [
        "$('div#05d313a0-b864-4742-b502-b9c750cb2b80').width('92.000000%')"
       ],
       "metadata": {},
       "output_type": "display_data",
       "text": [
        "<IPython.core.display.Javascript at 0x7f78c63fa690>"
       ]
      },
      {
       "javascript": [
        "$('div#05d313a0-b864-4742-b502-b9c750cb2b80').width('93.000000%')"
       ],
       "metadata": {},
       "output_type": "display_data",
       "text": [
        "<IPython.core.display.Javascript at 0x7f78c63fac10>"
       ]
      },
      {
       "javascript": [
        "$('div#05d313a0-b864-4742-b502-b9c750cb2b80').width('94.000000%')"
       ],
       "metadata": {},
       "output_type": "display_data",
       "text": [
        "<IPython.core.display.Javascript at 0x7f78c63fab90>"
       ]
      },
      {
       "javascript": [
        "$('div#05d313a0-b864-4742-b502-b9c750cb2b80').width('95.000000%')"
       ],
       "metadata": {},
       "output_type": "display_data",
       "text": [
        "<IPython.core.display.Javascript at 0x7f78c63faad0>"
       ]
      },
      {
       "javascript": [
        "$('div#05d313a0-b864-4742-b502-b9c750cb2b80').width('96.000000%')"
       ],
       "metadata": {},
       "output_type": "display_data",
       "text": [
        "<IPython.core.display.Javascript at 0x7f78c63fa450>"
       ]
      },
      {
       "javascript": [
        "$('div#05d313a0-b864-4742-b502-b9c750cb2b80').width('97.000000%')"
       ],
       "metadata": {},
       "output_type": "display_data",
       "text": [
        "<IPython.core.display.Javascript at 0x7f78c624b950>"
       ]
      },
      {
       "javascript": [
        "$('div#05d313a0-b864-4742-b502-b9c750cb2b80').width('98.000000%')"
       ],
       "metadata": {},
       "output_type": "display_data",
       "text": [
        "<IPython.core.display.Javascript at 0x7f78c624b050>"
       ]
      },
      {
       "javascript": [
        "$('div#05d313a0-b864-4742-b502-b9c750cb2b80').width('99.000000%')"
       ],
       "metadata": {},
       "output_type": "display_data",
       "text": [
        "<IPython.core.display.Javascript at 0x7f78c624bf50>"
       ]
      },
      {
       "javascript": [
        "$('div#05d313a0-b864-4742-b502-b9c750cb2b80').width('100.000000%')"
       ],
       "metadata": {},
       "output_type": "display_data",
       "text": [
        "<IPython.core.display.Javascript at 0x7f78c624b390>"
       ]
      },
      {
       "output_type": "stream",
       "stream": "stdout",
       "text": [
        "Running mapper & aggregator on the result objects (number of results=100, chunk size=17)\n"
       ]
      },
      {
       "html": [
        "\n",
        "                          <div style=\"border: 1px solid black; width:500px\">\n",
        "                          <div id=\"357283ad-9023-40ef-a322-3d1de177e652\" style=\"background-color:blue; width:0%\">&nbsp;</div>\n",
        "                          </div>\n",
        "                          "
       ],
       "metadata": {},
       "output_type": "display_data",
       "text": [
        "<IPython.core.display.HTML at 0x7f78c624be50>"
       ]
      },
      {
       "javascript": [
        "$('div#357283ad-9023-40ef-a322-3d1de177e652').width('16.666667%')"
       ],
       "metadata": {},
       "output_type": "display_data",
       "text": [
        "<IPython.core.display.Javascript at 0x7f78c624bf10>"
       ]
      },
      {
       "javascript": [
        "$('div#357283ad-9023-40ef-a322-3d1de177e652').width('33.333333%')"
       ],
       "metadata": {},
       "output_type": "display_data",
       "text": [
        "<IPython.core.display.Javascript at 0x7f78c62cd2d0>"
       ]
      },
      {
       "javascript": [
        "$('div#357283ad-9023-40ef-a322-3d1de177e652').width('50.000000%')"
       ],
       "metadata": {},
       "output_type": "display_data",
       "text": [
        "<IPython.core.display.Javascript at 0x7f78c62cd710>"
       ]
      },
      {
       "javascript": [
        "$('div#357283ad-9023-40ef-a322-3d1de177e652').width('66.666667%')"
       ],
       "metadata": {},
       "output_type": "display_data",
       "text": [
        "<IPython.core.display.Javascript at 0x7f78c632a690>"
       ]
      },
      {
       "javascript": [
        "$('div#357283ad-9023-40ef-a322-3d1de177e652').width('83.333333%')"
       ],
       "metadata": {},
       "output_type": "display_data",
       "text": [
        "<IPython.core.display.Javascript at 0x7f78c63b7210>"
       ]
      },
      {
       "javascript": [
        "$('div#357283ad-9023-40ef-a322-3d1de177e652').width('100.000000%')"
       ],
       "metadata": {},
       "output_type": "display_data",
       "text": [
        "<IPython.core.display.Javascript at 0x7f78c63b73d0>"
       ]
      },
      {
       "output_type": "stream",
       "stream": "stdout",
       "text": [
        "Running reducer on mapped and aggregated results (size=6)\n",
        "Generating 100 realizations of the model (chunk size=1)\n"
       ]
      },
      {
       "html": [
        "\n",
        "                          <div style=\"border: 1px solid black; width:500px\">\n",
        "                          <div id=\"b0507d72-6e31-40f5-9eb5-1ebdf8b9fa96\" style=\"background-color:blue; width:0%\">&nbsp;</div>\n",
        "                          </div>\n",
        "                          "
       ],
       "metadata": {},
       "output_type": "display_data",
       "text": [
        "<IPython.core.display.HTML at 0x7f78c62ded10>"
       ]
      },
      {
       "javascript": [
        "$('div#b0507d72-6e31-40f5-9eb5-1ebdf8b9fa96').width('1.000000%')"
       ],
       "metadata": {},
       "output_type": "display_data",
       "text": [
        "<IPython.core.display.Javascript at 0x7f78c633bfd0>"
       ]
      },
      {
       "javascript": [
        "$('div#b0507d72-6e31-40f5-9eb5-1ebdf8b9fa96').width('2.000000%')"
       ],
       "metadata": {},
       "output_type": "display_data",
       "text": [
        "<IPython.core.display.Javascript at 0x7f78c6211090>"
       ]
      },
      {
       "javascript": [
        "$('div#b0507d72-6e31-40f5-9eb5-1ebdf8b9fa96').width('3.000000%')"
       ],
       "metadata": {},
       "output_type": "display_data",
       "text": [
        "<IPython.core.display.Javascript at 0x7f78c63b7210>"
       ]
      },
      {
       "javascript": [
        "$('div#b0507d72-6e31-40f5-9eb5-1ebdf8b9fa96').width('4.000000%')"
       ],
       "metadata": {},
       "output_type": "display_data",
       "text": [
        "<IPython.core.display.Javascript at 0x7f78c6211050>"
       ]
      },
      {
       "javascript": [
        "$('div#b0507d72-6e31-40f5-9eb5-1ebdf8b9fa96').width('5.000000%')"
       ],
       "metadata": {},
       "output_type": "display_data",
       "text": [
        "<IPython.core.display.Javascript at 0x7f78c632a410>"
       ]
      },
      {
       "javascript": [
        "$('div#b0507d72-6e31-40f5-9eb5-1ebdf8b9fa96').width('6.000000%')"
       ],
       "metadata": {},
       "output_type": "display_data",
       "text": [
        "<IPython.core.display.Javascript at 0x7f78c632a690>"
       ]
      },
      {
       "javascript": [
        "$('div#b0507d72-6e31-40f5-9eb5-1ebdf8b9fa96').width('7.000000%')"
       ],
       "metadata": {},
       "output_type": "display_data",
       "text": [
        "<IPython.core.display.Javascript at 0x7f78c62cd710>"
       ]
      },
      {
       "javascript": [
        "$('div#b0507d72-6e31-40f5-9eb5-1ebdf8b9fa96').width('8.000000%')"
       ],
       "metadata": {},
       "output_type": "display_data",
       "text": [
        "<IPython.core.display.Javascript at 0x7f78c633b290>"
       ]
      },
      {
       "javascript": [
        "$('div#b0507d72-6e31-40f5-9eb5-1ebdf8b9fa96').width('9.000000%')"
       ],
       "metadata": {},
       "output_type": "display_data",
       "text": [
        "<IPython.core.display.Javascript at 0x7f78c624bf10>"
       ]
      },
      {
       "javascript": [
        "$('div#b0507d72-6e31-40f5-9eb5-1ebdf8b9fa96').width('10.000000%')"
       ],
       "metadata": {},
       "output_type": "display_data",
       "text": [
        "<IPython.core.display.Javascript at 0x7f78c624be50>"
       ]
      },
      {
       "javascript": [
        "$('div#b0507d72-6e31-40f5-9eb5-1ebdf8b9fa96').width('11.000000%')"
       ],
       "metadata": {},
       "output_type": "display_data",
       "text": [
        "<IPython.core.display.Javascript at 0x7f78c624b390>"
       ]
      },
      {
       "javascript": [
        "$('div#b0507d72-6e31-40f5-9eb5-1ebdf8b9fa96').width('12.000000%')"
       ],
       "metadata": {},
       "output_type": "display_data",
       "text": [
        "<IPython.core.display.Javascript at 0x7f78c624bf50>"
       ]
      },
      {
       "javascript": [
        "$('div#b0507d72-6e31-40f5-9eb5-1ebdf8b9fa96').width('13.000000%')"
       ],
       "metadata": {},
       "output_type": "display_data",
       "text": [
        "<IPython.core.display.Javascript at 0x7f78c624b050>"
       ]
      },
      {
       "javascript": [
        "$('div#b0507d72-6e31-40f5-9eb5-1ebdf8b9fa96').width('14.000000%')"
       ],
       "metadata": {},
       "output_type": "display_data",
       "text": [
        "<IPython.core.display.Javascript at 0x7f78c624b2d0>"
       ]
      },
      {
       "javascript": [
        "$('div#b0507d72-6e31-40f5-9eb5-1ebdf8b9fa96').width('15.000000%')"
       ],
       "metadata": {},
       "output_type": "display_data",
       "text": [
        "<IPython.core.display.Javascript at 0x7f78c63b73d0>"
       ]
      },
      {
       "javascript": [
        "$('div#b0507d72-6e31-40f5-9eb5-1ebdf8b9fa96').width('16.000000%')"
       ],
       "metadata": {},
       "output_type": "display_data",
       "text": [
        "<IPython.core.display.Javascript at 0x7f78c63faad0>"
       ]
      },
      {
       "javascript": [
        "$('div#b0507d72-6e31-40f5-9eb5-1ebdf8b9fa96').width('17.000000%')"
       ],
       "metadata": {},
       "output_type": "display_data",
       "text": [
        "<IPython.core.display.Javascript at 0x7f78c63fab90>"
       ]
      },
      {
       "javascript": [
        "$('div#b0507d72-6e31-40f5-9eb5-1ebdf8b9fa96').width('18.000000%')"
       ],
       "metadata": {},
       "output_type": "display_data",
       "text": [
        "<IPython.core.display.Javascript at 0x7f78c63fac10>"
       ]
      },
      {
       "javascript": [
        "$('div#b0507d72-6e31-40f5-9eb5-1ebdf8b9fa96').width('19.000000%')"
       ],
       "metadata": {},
       "output_type": "display_data",
       "text": [
        "<IPython.core.display.Javascript at 0x7f78c63fa690>"
       ]
      },
      {
       "javascript": [
        "$('div#b0507d72-6e31-40f5-9eb5-1ebdf8b9fa96').width('20.000000%')"
       ],
       "metadata": {},
       "output_type": "display_data",
       "text": [
        "<IPython.core.display.Javascript at 0x7f78c63fa750>"
       ]
      },
      {
       "javascript": [
        "$('div#b0507d72-6e31-40f5-9eb5-1ebdf8b9fa96').width('21.000000%')"
       ],
       "metadata": {},
       "output_type": "display_data",
       "text": [
        "<IPython.core.display.Javascript at 0x7f78c63fa450>"
       ]
      },
      {
       "javascript": [
        "$('div#b0507d72-6e31-40f5-9eb5-1ebdf8b9fa96').width('22.000000%')"
       ],
       "metadata": {},
       "output_type": "display_data",
       "text": [
        "<IPython.core.display.Javascript at 0x7f78c63fad50>"
       ]
      },
      {
       "javascript": [
        "$('div#b0507d72-6e31-40f5-9eb5-1ebdf8b9fa96').width('23.000000%')"
       ],
       "metadata": {},
       "output_type": "display_data",
       "text": [
        "<IPython.core.display.Javascript at 0x7f78c62d7350>"
       ]
      },
      {
       "javascript": [
        "$('div#b0507d72-6e31-40f5-9eb5-1ebdf8b9fa96').width('24.000000%')"
       ],
       "metadata": {},
       "output_type": "display_data",
       "text": [
        "<IPython.core.display.Javascript at 0x7f78c62d73d0>"
       ]
      },
      {
       "javascript": [
        "$('div#b0507d72-6e31-40f5-9eb5-1ebdf8b9fa96').width('25.000000%')"
       ],
       "metadata": {},
       "output_type": "display_data",
       "text": [
        "<IPython.core.display.Javascript at 0x7f78c624b950>"
       ]
      },
      {
       "javascript": [
        "$('div#b0507d72-6e31-40f5-9eb5-1ebdf8b9fa96').width('26.000000%')"
       ],
       "metadata": {},
       "output_type": "display_data",
       "text": [
        "<IPython.core.display.Javascript at 0x7f78c63981d0>"
       ]
      },
      {
       "javascript": [
        "$('div#b0507d72-6e31-40f5-9eb5-1ebdf8b9fa96').width('27.000000%')"
       ],
       "metadata": {},
       "output_type": "display_data",
       "text": [
        "<IPython.core.display.Javascript at 0x7f78c6398210>"
       ]
      },
      {
       "javascript": [
        "$('div#b0507d72-6e31-40f5-9eb5-1ebdf8b9fa96').width('28.000000%')"
       ],
       "metadata": {},
       "output_type": "display_data",
       "text": [
        "<IPython.core.display.Javascript at 0x7f78c6206650>"
       ]
      },
      {
       "javascript": [
        "$('div#b0507d72-6e31-40f5-9eb5-1ebdf8b9fa96').width('29.000000%')"
       ],
       "metadata": {},
       "output_type": "display_data",
       "text": [
        "<IPython.core.display.Javascript at 0x7f78c6206b90>"
       ]
      },
      {
       "javascript": [
        "$('div#b0507d72-6e31-40f5-9eb5-1ebdf8b9fa96').width('30.000000%')"
       ],
       "metadata": {},
       "output_type": "display_data",
       "text": [
        "<IPython.core.display.Javascript at 0x7f78c6206450>"
       ]
      },
      {
       "javascript": [
        "$('div#b0507d72-6e31-40f5-9eb5-1ebdf8b9fa96').width('31.000000%')"
       ],
       "metadata": {},
       "output_type": "display_data",
       "text": [
        "<IPython.core.display.Javascript at 0x7f78c6206550>"
       ]
      },
      {
       "javascript": [
        "$('div#b0507d72-6e31-40f5-9eb5-1ebdf8b9fa96').width('32.000000%')"
       ],
       "metadata": {},
       "output_type": "display_data",
       "text": [
        "<IPython.core.display.Javascript at 0x7f78c6206d90>"
       ]
      },
      {
       "javascript": [
        "$('div#b0507d72-6e31-40f5-9eb5-1ebdf8b9fa96').width('33.000000%')"
       ],
       "metadata": {},
       "output_type": "display_data",
       "text": [
        "<IPython.core.display.Javascript at 0x7f78c6206e90>"
       ]
      },
      {
       "javascript": [
        "$('div#b0507d72-6e31-40f5-9eb5-1ebdf8b9fa96').width('34.000000%')"
       ],
       "metadata": {},
       "output_type": "display_data",
       "text": [
        "<IPython.core.display.Javascript at 0x7f78c6206750>"
       ]
      },
      {
       "javascript": [
        "$('div#b0507d72-6e31-40f5-9eb5-1ebdf8b9fa96').width('35.000000%')"
       ],
       "metadata": {},
       "output_type": "display_data",
       "text": [
        "<IPython.core.display.Javascript at 0x7f78c6206d50>"
       ]
      },
      {
       "javascript": [
        "$('div#b0507d72-6e31-40f5-9eb5-1ebdf8b9fa96').width('36.000000%')"
       ],
       "metadata": {},
       "output_type": "display_data",
       "text": [
        "<IPython.core.display.Javascript at 0x7f78c6206950>"
       ]
      },
      {
       "javascript": [
        "$('div#b0507d72-6e31-40f5-9eb5-1ebdf8b9fa96').width('37.000000%')"
       ],
       "metadata": {},
       "output_type": "display_data",
       "text": [
        "<IPython.core.display.Javascript at 0x7f78c6206f90>"
       ]
      },
      {
       "javascript": [
        "$('div#b0507d72-6e31-40f5-9eb5-1ebdf8b9fa96').width('38.000000%')"
       ],
       "metadata": {},
       "output_type": "display_data",
       "text": [
        "<IPython.core.display.Javascript at 0x7f78c6206f10>"
       ]
      },
      {
       "javascript": [
        "$('div#b0507d72-6e31-40f5-9eb5-1ebdf8b9fa96').width('39.000000%')"
       ],
       "metadata": {},
       "output_type": "display_data",
       "text": [
        "<IPython.core.display.Javascript at 0x7f78c6206d10>"
       ]
      },
      {
       "javascript": [
        "$('div#b0507d72-6e31-40f5-9eb5-1ebdf8b9fa96').width('40.000000%')"
       ],
       "metadata": {},
       "output_type": "display_data",
       "text": [
        "<IPython.core.display.Javascript at 0x7f78c621e5d0>"
       ]
      },
      {
       "javascript": [
        "$('div#b0507d72-6e31-40f5-9eb5-1ebdf8b9fa96').width('41.000000%')"
       ],
       "metadata": {},
       "output_type": "display_data",
       "text": [
        "<IPython.core.display.Javascript at 0x7f78c621e610>"
       ]
      },
      {
       "javascript": [
        "$('div#b0507d72-6e31-40f5-9eb5-1ebdf8b9fa96').width('42.000000%')"
       ],
       "metadata": {},
       "output_type": "display_data",
       "text": [
        "<IPython.core.display.Javascript at 0x7f78c621e4d0>"
       ]
      },
      {
       "javascript": [
        "$('div#b0507d72-6e31-40f5-9eb5-1ebdf8b9fa96').width('43.000000%')"
       ],
       "metadata": {},
       "output_type": "display_data",
       "text": [
        "<IPython.core.display.Javascript at 0x7f78c621e690>"
       ]
      },
      {
       "javascript": [
        "$('div#b0507d72-6e31-40f5-9eb5-1ebdf8b9fa96').width('44.000000%')"
       ],
       "metadata": {},
       "output_type": "display_data",
       "text": [
        "<IPython.core.display.Javascript at 0x7f78c621e650>"
       ]
      },
      {
       "javascript": [
        "$('div#b0507d72-6e31-40f5-9eb5-1ebdf8b9fa96').width('45.000000%')"
       ],
       "metadata": {},
       "output_type": "display_data",
       "text": [
        "<IPython.core.display.Javascript at 0x7f78c621e6d0>"
       ]
      },
      {
       "javascript": [
        "$('div#b0507d72-6e31-40f5-9eb5-1ebdf8b9fa96').width('46.000000%')"
       ],
       "metadata": {},
       "output_type": "display_data",
       "text": [
        "<IPython.core.display.Javascript at 0x7f78c621e550>"
       ]
      },
      {
       "javascript": [
        "$('div#b0507d72-6e31-40f5-9eb5-1ebdf8b9fa96').width('47.000000%')"
       ],
       "metadata": {},
       "output_type": "display_data",
       "text": [
        "<IPython.core.display.Javascript at 0x7f78c621e510>"
       ]
      },
      {
       "javascript": [
        "$('div#b0507d72-6e31-40f5-9eb5-1ebdf8b9fa96').width('48.000000%')"
       ],
       "metadata": {},
       "output_type": "display_data",
       "text": [
        "<IPython.core.display.Javascript at 0x7f78c621e0d0>"
       ]
      },
      {
       "javascript": [
        "$('div#b0507d72-6e31-40f5-9eb5-1ebdf8b9fa96').width('49.000000%')"
       ],
       "metadata": {},
       "output_type": "display_data",
       "text": [
        "<IPython.core.display.Javascript at 0x7f78c621e490>"
       ]
      },
      {
       "javascript": [
        "$('div#b0507d72-6e31-40f5-9eb5-1ebdf8b9fa96').width('50.000000%')"
       ],
       "metadata": {},
       "output_type": "display_data",
       "text": [
        "<IPython.core.display.Javascript at 0x7f78c6206950>"
       ]
      },
      {
       "javascript": [
        "$('div#b0507d72-6e31-40f5-9eb5-1ebdf8b9fa96').width('51.000000%')"
       ],
       "metadata": {},
       "output_type": "display_data",
       "text": [
        "<IPython.core.display.Javascript at 0x7f78c6206d10>"
       ]
      },
      {
       "javascript": [
        "$('div#b0507d72-6e31-40f5-9eb5-1ebdf8b9fa96').width('52.000000%')"
       ],
       "metadata": {},
       "output_type": "display_data",
       "text": [
        "<IPython.core.display.Javascript at 0x7f78c6206f10>"
       ]
      },
      {
       "javascript": [
        "$('div#b0507d72-6e31-40f5-9eb5-1ebdf8b9fa96').width('53.000000%')"
       ],
       "metadata": {},
       "output_type": "display_data",
       "text": [
        "<IPython.core.display.Javascript at 0x7f78c6206e90>"
       ]
      },
      {
       "javascript": [
        "$('div#b0507d72-6e31-40f5-9eb5-1ebdf8b9fa96').width('54.000000%')"
       ],
       "metadata": {},
       "output_type": "display_data",
       "text": [
        "<IPython.core.display.Javascript at 0x7f78c6206d90>"
       ]
      },
      {
       "javascript": [
        "$('div#b0507d72-6e31-40f5-9eb5-1ebdf8b9fa96').width('55.000000%')"
       ],
       "metadata": {},
       "output_type": "display_data",
       "text": [
        "<IPython.core.display.Javascript at 0x7f78c6206f90>"
       ]
      },
      {
       "javascript": [
        "$('div#b0507d72-6e31-40f5-9eb5-1ebdf8b9fa96').width('56.000000%')"
       ],
       "metadata": {},
       "output_type": "display_data",
       "text": [
        "<IPython.core.display.Javascript at 0x7f78c6206d50>"
       ]
      },
      {
       "javascript": [
        "$('div#b0507d72-6e31-40f5-9eb5-1ebdf8b9fa96').width('57.000000%')"
       ],
       "metadata": {},
       "output_type": "display_data",
       "text": [
        "<IPython.core.display.Javascript at 0x7f78c6206b90>"
       ]
      },
      {
       "javascript": [
        "$('div#b0507d72-6e31-40f5-9eb5-1ebdf8b9fa96').width('58.000000%')"
       ],
       "metadata": {},
       "output_type": "display_data",
       "text": [
        "<IPython.core.display.Javascript at 0x7f78c6206750>"
       ]
      },
      {
       "javascript": [
        "$('div#b0507d72-6e31-40f5-9eb5-1ebdf8b9fa96').width('59.000000%')"
       ],
       "metadata": {},
       "output_type": "display_data",
       "text": [
        "<IPython.core.display.Javascript at 0x7f78c6206650>"
       ]
      },
      {
       "javascript": [
        "$('div#b0507d72-6e31-40f5-9eb5-1ebdf8b9fa96').width('60.000000%')"
       ],
       "metadata": {},
       "output_type": "display_data",
       "text": [
        "<IPython.core.display.Javascript at 0x7f78c6398210>"
       ]
      },
      {
       "javascript": [
        "$('div#b0507d72-6e31-40f5-9eb5-1ebdf8b9fa96').width('61.000000%')"
       ],
       "metadata": {},
       "output_type": "display_data",
       "text": [
        "<IPython.core.display.Javascript at 0x7f78c6206550>"
       ]
      },
      {
       "javascript": [
        "$('div#b0507d72-6e31-40f5-9eb5-1ebdf8b9fa96').width('62.000000%')"
       ],
       "metadata": {},
       "output_type": "display_data",
       "text": [
        "<IPython.core.display.Javascript at 0x7f78c62d73d0>"
       ]
      },
      {
       "javascript": [
        "$('div#b0507d72-6e31-40f5-9eb5-1ebdf8b9fa96').width('63.000000%')"
       ],
       "metadata": {},
       "output_type": "display_data",
       "text": [
        "<IPython.core.display.Javascript at 0x7f78c62d7550>"
       ]
      },
      {
       "javascript": [
        "$('div#b0507d72-6e31-40f5-9eb5-1ebdf8b9fa96').width('64.000000%')"
       ],
       "metadata": {},
       "output_type": "display_data",
       "text": [
        "<IPython.core.display.Javascript at 0x7f78c6206450>"
       ]
      },
      {
       "javascript": [
        "$('div#b0507d72-6e31-40f5-9eb5-1ebdf8b9fa96').width('65.000000%')"
       ],
       "metadata": {},
       "output_type": "display_data",
       "text": [
        "<IPython.core.display.Javascript at 0x7f78c63fa450>"
       ]
      },
      {
       "javascript": [
        "$('div#b0507d72-6e31-40f5-9eb5-1ebdf8b9fa96').width('66.000000%')"
       ],
       "metadata": {},
       "output_type": "display_data",
       "text": [
        "<IPython.core.display.Javascript at 0x7f78c63fa750>"
       ]
      },
      {
       "javascript": [
        "$('div#b0507d72-6e31-40f5-9eb5-1ebdf8b9fa96').width('67.000000%')"
       ],
       "metadata": {},
       "output_type": "display_data",
       "text": [
        "<IPython.core.display.Javascript at 0x7f78c63fa690>"
       ]
      },
      {
       "javascript": [
        "$('div#b0507d72-6e31-40f5-9eb5-1ebdf8b9fa96').width('68.000000%')"
       ],
       "metadata": {},
       "output_type": "display_data",
       "text": [
        "<IPython.core.display.Javascript at 0x7f78c63fac10>"
       ]
      },
      {
       "javascript": [
        "$('div#b0507d72-6e31-40f5-9eb5-1ebdf8b9fa96').width('69.000000%')"
       ],
       "metadata": {},
       "output_type": "display_data",
       "text": [
        "<IPython.core.display.Javascript at 0x7f78c63fab90>"
       ]
      },
      {
       "javascript": [
        "$('div#b0507d72-6e31-40f5-9eb5-1ebdf8b9fa96').width('70.000000%')"
       ],
       "metadata": {},
       "output_type": "display_data",
       "text": [
        "<IPython.core.display.Javascript at 0x7f78c63fad50>"
       ]
      },
      {
       "javascript": [
        "$('div#b0507d72-6e31-40f5-9eb5-1ebdf8b9fa96').width('71.000000%')"
       ],
       "metadata": {},
       "output_type": "display_data",
       "text": [
        "<IPython.core.display.Javascript at 0x7f78c63981d0>"
       ]
      },
      {
       "javascript": [
        "$('div#b0507d72-6e31-40f5-9eb5-1ebdf8b9fa96').width('72.000000%')"
       ],
       "metadata": {},
       "output_type": "display_data",
       "text": [
        "<IPython.core.display.Javascript at 0x7f78c624b2d0>"
       ]
      },
      {
       "javascript": [
        "$('div#b0507d72-6e31-40f5-9eb5-1ebdf8b9fa96').width('73.000000%')"
       ],
       "metadata": {},
       "output_type": "display_data",
       "text": [
        "<IPython.core.display.Javascript at 0x7f78c624b050>"
       ]
      },
      {
       "javascript": [
        "$('div#b0507d72-6e31-40f5-9eb5-1ebdf8b9fa96').width('74.000000%')"
       ],
       "metadata": {},
       "output_type": "display_data",
       "text": [
        "<IPython.core.display.Javascript at 0x7f78c624bf50>"
       ]
      },
      {
       "javascript": [
        "$('div#b0507d72-6e31-40f5-9eb5-1ebdf8b9fa96').width('75.000000%')"
       ],
       "metadata": {},
       "output_type": "display_data",
       "text": [
        "<IPython.core.display.Javascript at 0x7f78c624b390>"
       ]
      },
      {
       "javascript": [
        "$('div#b0507d72-6e31-40f5-9eb5-1ebdf8b9fa96').width('76.000000%')"
       ],
       "metadata": {},
       "output_type": "display_data",
       "text": [
        "<IPython.core.display.Javascript at 0x7f78c624be50>"
       ]
      },
      {
       "javascript": [
        "$('div#b0507d72-6e31-40f5-9eb5-1ebdf8b9fa96').width('77.000000%')"
       ],
       "metadata": {},
       "output_type": "display_data",
       "text": [
        "<IPython.core.display.Javascript at 0x7f78c624b950>"
       ]
      },
      {
       "javascript": [
        "$('div#b0507d72-6e31-40f5-9eb5-1ebdf8b9fa96').width('78.000000%')"
       ],
       "metadata": {},
       "output_type": "display_data",
       "text": [
        "<IPython.core.display.Javascript at 0x7f78c62d7350>"
       ]
      },
      {
       "javascript": [
        "$('div#b0507d72-6e31-40f5-9eb5-1ebdf8b9fa96').width('79.000000%')"
       ],
       "metadata": {},
       "output_type": "display_data",
       "text": [
        "<IPython.core.display.Javascript at 0x7f78c62cd2d0>"
       ]
      },
      {
       "javascript": [
        "$('div#b0507d72-6e31-40f5-9eb5-1ebdf8b9fa96').width('80.000000%')"
       ],
       "metadata": {},
       "output_type": "display_data",
       "text": [
        "<IPython.core.display.Javascript at 0x7f78c624bf10>"
       ]
      },
      {
       "javascript": [
        "$('div#b0507d72-6e31-40f5-9eb5-1ebdf8b9fa96').width('81.000000%')"
       ],
       "metadata": {},
       "output_type": "display_data",
       "text": [
        "<IPython.core.display.Javascript at 0x7f78c632a690>"
       ]
      },
      {
       "javascript": [
        "$('div#b0507d72-6e31-40f5-9eb5-1ebdf8b9fa96').width('82.000000%')"
       ],
       "metadata": {},
       "output_type": "display_data",
       "text": [
        "<IPython.core.display.Javascript at 0x7f78c62cd710>"
       ]
      },
      {
       "javascript": [
        "$('div#b0507d72-6e31-40f5-9eb5-1ebdf8b9fa96').width('83.000000%')"
       ],
       "metadata": {},
       "output_type": "display_data",
       "text": [
        "<IPython.core.display.Javascript at 0x7f78c63b73d0>"
       ]
      },
      {
       "javascript": [
        "$('div#b0507d72-6e31-40f5-9eb5-1ebdf8b9fa96').width('84.000000%')"
       ],
       "metadata": {},
       "output_type": "display_data",
       "text": [
        "<IPython.core.display.Javascript at 0x7f78c632a410>"
       ]
      },
      {
       "javascript": [
        "$('div#b0507d72-6e31-40f5-9eb5-1ebdf8b9fa96').width('85.000000%')"
       ],
       "metadata": {},
       "output_type": "display_data",
       "text": [
        "<IPython.core.display.Javascript at 0x7f78c6211050>"
       ]
      },
      {
       "javascript": [
        "$('div#b0507d72-6e31-40f5-9eb5-1ebdf8b9fa96').width('86.000000%')"
       ],
       "metadata": {},
       "output_type": "display_data",
       "text": [
        "<IPython.core.display.Javascript at 0x7f78c63b7210>"
       ]
      },
      {
       "javascript": [
        "$('div#b0507d72-6e31-40f5-9eb5-1ebdf8b9fa96').width('87.000000%')"
       ],
       "metadata": {},
       "output_type": "display_data",
       "text": [
        "<IPython.core.display.Javascript at 0x7f78c633b290>"
       ]
      },
      {
       "javascript": [
        "$('div#b0507d72-6e31-40f5-9eb5-1ebdf8b9fa96').width('88.000000%')"
       ],
       "metadata": {},
       "output_type": "display_data",
       "text": [
        "<IPython.core.display.Javascript at 0x7f78c6211090>"
       ]
      },
      {
       "javascript": [
        "$('div#b0507d72-6e31-40f5-9eb5-1ebdf8b9fa96').width('89.000000%')"
       ],
       "metadata": {},
       "output_type": "display_data",
       "text": [
        "<IPython.core.display.Javascript at 0x7f78c621e410>"
       ]
      },
      {
       "javascript": [
        "$('div#b0507d72-6e31-40f5-9eb5-1ebdf8b9fa96').width('90.000000%')"
       ],
       "metadata": {},
       "output_type": "display_data",
       "text": [
        "<IPython.core.display.Javascript at 0x7f78c621e090>"
       ]
      },
      {
       "javascript": [
        "$('div#b0507d72-6e31-40f5-9eb5-1ebdf8b9fa96').width('91.000000%')"
       ],
       "metadata": {},
       "output_type": "display_data",
       "text": [
        "<IPython.core.display.Javascript at 0x7f78c621e590>"
       ]
      },
      {
       "javascript": [
        "$('div#b0507d72-6e31-40f5-9eb5-1ebdf8b9fa96').width('92.000000%')"
       ],
       "metadata": {},
       "output_type": "display_data",
       "text": [
        "<IPython.core.display.Javascript at 0x7f78c621e750>"
       ]
      },
      {
       "javascript": [
        "$('div#b0507d72-6e31-40f5-9eb5-1ebdf8b9fa96').width('93.000000%')"
       ],
       "metadata": {},
       "output_type": "display_data",
       "text": [
        "<IPython.core.display.Javascript at 0x7f78c621e710>"
       ]
      },
      {
       "javascript": [
        "$('div#b0507d72-6e31-40f5-9eb5-1ebdf8b9fa96').width('94.000000%')"
       ],
       "metadata": {},
       "output_type": "display_data",
       "text": [
        "<IPython.core.display.Javascript at 0x7f78c621e790>"
       ]
      },
      {
       "javascript": [
        "$('div#b0507d72-6e31-40f5-9eb5-1ebdf8b9fa96').width('95.000000%')"
       ],
       "metadata": {},
       "output_type": "display_data",
       "text": [
        "<IPython.core.display.Javascript at 0x7f78c621e7d0>"
       ]
      },
      {
       "javascript": [
        "$('div#b0507d72-6e31-40f5-9eb5-1ebdf8b9fa96').width('96.000000%')"
       ],
       "metadata": {},
       "output_type": "display_data",
       "text": [
        "<IPython.core.display.Javascript at 0x7f78c621e810>"
       ]
      },
      {
       "javascript": [
        "$('div#b0507d72-6e31-40f5-9eb5-1ebdf8b9fa96').width('97.000000%')"
       ],
       "metadata": {},
       "output_type": "display_data",
       "text": [
        "<IPython.core.display.Javascript at 0x7f78c621e0d0>"
       ]
      },
      {
       "javascript": [
        "$('div#b0507d72-6e31-40f5-9eb5-1ebdf8b9fa96').width('98.000000%')"
       ],
       "metadata": {},
       "output_type": "display_data",
       "text": [
        "<IPython.core.display.Javascript at 0x7f78c621e510>"
       ]
      },
      {
       "javascript": [
        "$('div#b0507d72-6e31-40f5-9eb5-1ebdf8b9fa96').width('99.000000%')"
       ],
       "metadata": {},
       "output_type": "display_data",
       "text": [
        "<IPython.core.display.Javascript at 0x7f78c621e550>"
       ]
      },
      {
       "javascript": [
        "$('div#b0507d72-6e31-40f5-9eb5-1ebdf8b9fa96').width('100.000000%')"
       ],
       "metadata": {},
       "output_type": "display_data",
       "text": [
        "<IPython.core.display.Javascript at 0x7f78c621e6d0>"
       ]
      },
      {
       "output_type": "stream",
       "stream": "stdout",
       "text": [
        "Running mapper & aggregator on the result objects (number of results=100, chunk size=17)\n"
       ]
      },
      {
       "html": [
        "\n",
        "                          <div style=\"border: 1px solid black; width:500px\">\n",
        "                          <div id=\"46e33d30-39f1-4b04-9518-e558ad677dd3\" style=\"background-color:blue; width:0%\">&nbsp;</div>\n",
        "                          </div>\n",
        "                          "
       ],
       "metadata": {},
       "output_type": "display_data",
       "text": [
        "<IPython.core.display.HTML at 0x7f78c62de350>"
       ]
      },
      {
       "javascript": [
        "$('div#46e33d30-39f1-4b04-9518-e558ad677dd3').width('16.666667%')"
       ],
       "metadata": {},
       "output_type": "display_data",
       "text": [
        "<IPython.core.display.Javascript at 0x7f78c6211090>"
       ]
      },
      {
       "javascript": [
        "$('div#46e33d30-39f1-4b04-9518-e558ad677dd3').width('33.333333%')"
       ],
       "metadata": {},
       "output_type": "display_data",
       "text": [
        "<IPython.core.display.Javascript at 0x7f78c63b7210>"
       ]
      },
      {
       "javascript": [
        "$('div#46e33d30-39f1-4b04-9518-e558ad677dd3').width('50.000000%')"
       ],
       "metadata": {},
       "output_type": "display_data",
       "text": [
        "<IPython.core.display.Javascript at 0x7f78c63b73d0>"
       ]
      },
      {
       "javascript": [
        "$('div#46e33d30-39f1-4b04-9518-e558ad677dd3').width('66.666667%')"
       ],
       "metadata": {},
       "output_type": "display_data",
       "text": [
        "<IPython.core.display.Javascript at 0x7f78c62de710>"
       ]
      },
      {
       "javascript": [
        "$('div#46e33d30-39f1-4b04-9518-e558ad677dd3').width('83.333333%')"
       ],
       "metadata": {},
       "output_type": "display_data",
       "text": [
        "<IPython.core.display.Javascript at 0x7f78c632a410>"
       ]
      },
      {
       "javascript": [
        "$('div#46e33d30-39f1-4b04-9518-e558ad677dd3').width('100.000000%')"
       ],
       "metadata": {},
       "output_type": "display_data",
       "text": [
        "<IPython.core.display.Javascript at 0x7f78c632a690>"
       ]
      },
      {
       "output_type": "stream",
       "stream": "stdout",
       "text": [
        "Running reducer on mapped and aggregated results (size=6)\n",
        "Generating 100 realizations of the model (chunk size=1)\n"
       ]
      },
      {
       "html": [
        "\n",
        "                          <div style=\"border: 1px solid black; width:500px\">\n",
        "                          <div id=\"67ae935e-f5d6-4f83-b7f7-3925f8578cbc\" style=\"background-color:blue; width:0%\">&nbsp;</div>\n",
        "                          </div>\n",
        "                          "
       ],
       "metadata": {},
       "output_type": "display_data",
       "text": [
        "<IPython.core.display.HTML at 0x7f78c632a490>"
       ]
      },
      {
       "javascript": [
        "$('div#67ae935e-f5d6-4f83-b7f7-3925f8578cbc').width('1.000000%')"
       ],
       "metadata": {},
       "output_type": "display_data",
       "text": [
        "<IPython.core.display.Javascript at 0x7f78c63fa690>"
       ]
      },
      {
       "javascript": [
        "$('div#67ae935e-f5d6-4f83-b7f7-3925f8578cbc').width('2.000000%')"
       ],
       "metadata": {},
       "output_type": "display_data",
       "text": [
        "<IPython.core.display.Javascript at 0x7f78c63fad50>"
       ]
      },
      {
       "javascript": [
        "$('div#67ae935e-f5d6-4f83-b7f7-3925f8578cbc').width('3.000000%')"
       ],
       "metadata": {},
       "output_type": "display_data",
       "text": [
        "<IPython.core.display.Javascript at 0x7f78c63fac10>"
       ]
      },
      {
       "javascript": [
        "$('div#67ae935e-f5d6-4f83-b7f7-3925f8578cbc').width('4.000000%')"
       ],
       "metadata": {},
       "output_type": "display_data",
       "text": [
        "<IPython.core.display.Javascript at 0x7f78c63fa750>"
       ]
      },
      {
       "javascript": [
        "$('div#67ae935e-f5d6-4f83-b7f7-3925f8578cbc').width('5.000000%')"
       ],
       "metadata": {},
       "output_type": "display_data",
       "text": [
        "<IPython.core.display.Javascript at 0x7f78c63fab90>"
       ]
      },
      {
       "javascript": [
        "$('div#67ae935e-f5d6-4f83-b7f7-3925f8578cbc').width('6.000000%')"
       ],
       "metadata": {},
       "output_type": "display_data",
       "text": [
        "<IPython.core.display.Javascript at 0x7f78c63fa450>"
       ]
      },
      {
       "javascript": [
        "$('div#67ae935e-f5d6-4f83-b7f7-3925f8578cbc').width('7.000000%')"
       ],
       "metadata": {},
       "output_type": "display_data",
       "text": [
        "<IPython.core.display.Javascript at 0x7f78c62d7550>"
       ]
      },
      {
       "javascript": [
        "$('div#67ae935e-f5d6-4f83-b7f7-3925f8578cbc').width('8.000000%')"
       ],
       "metadata": {},
       "output_type": "display_data",
       "text": [
        "<IPython.core.display.Javascript at 0x7f78c62d7350>"
       ]
      },
      {
       "javascript": [
        "$('div#67ae935e-f5d6-4f83-b7f7-3925f8578cbc').width('9.000000%')"
       ],
       "metadata": {},
       "output_type": "display_data",
       "text": [
        "<IPython.core.display.Javascript at 0x7f78c63faad0>"
       ]
      },
      {
       "javascript": [
        "$('div#67ae935e-f5d6-4f83-b7f7-3925f8578cbc').width('10.000000%')"
       ],
       "metadata": {},
       "output_type": "display_data",
       "text": [
        "<IPython.core.display.Javascript at 0x7f78c63981d0>"
       ]
      },
      {
       "javascript": [
        "$('div#67ae935e-f5d6-4f83-b7f7-3925f8578cbc').width('11.000000%')"
       ],
       "metadata": {},
       "output_type": "display_data",
       "text": [
        "<IPython.core.display.Javascript at 0x7f78c62d73d0>"
       ]
      },
      {
       "javascript": [
        "$('div#67ae935e-f5d6-4f83-b7f7-3925f8578cbc').width('12.000000%')"
       ],
       "metadata": {},
       "output_type": "display_data",
       "text": [
        "<IPython.core.display.Javascript at 0x7f78c6206550>"
       ]
      },
      {
       "javascript": [
        "$('div#67ae935e-f5d6-4f83-b7f7-3925f8578cbc').width('13.000000%')"
       ],
       "metadata": {},
       "output_type": "display_data",
       "text": [
        "<IPython.core.display.Javascript at 0x7f78c6206650>"
       ]
      },
      {
       "javascript": [
        "$('div#67ae935e-f5d6-4f83-b7f7-3925f8578cbc').width('14.000000%')"
       ],
       "metadata": {},
       "output_type": "display_data",
       "text": [
        "<IPython.core.display.Javascript at 0x7f78c6206750>"
       ]
      },
      {
       "javascript": [
        "$('div#67ae935e-f5d6-4f83-b7f7-3925f8578cbc').width('15.000000%')"
       ],
       "metadata": {},
       "output_type": "display_data",
       "text": [
        "<IPython.core.display.Javascript at 0x7f78c6206b90>"
       ]
      },
      {
       "javascript": [
        "$('div#67ae935e-f5d6-4f83-b7f7-3925f8578cbc').width('16.000000%')"
       ],
       "metadata": {},
       "output_type": "display_data",
       "text": [
        "<IPython.core.display.Javascript at 0x7f78c6206d50>"
       ]
      },
      {
       "javascript": [
        "$('div#67ae935e-f5d6-4f83-b7f7-3925f8578cbc').width('17.000000%')"
       ],
       "metadata": {},
       "output_type": "display_data",
       "text": [
        "<IPython.core.display.Javascript at 0x7f78c6206f90>"
       ]
      },
      {
       "javascript": [
        "$('div#67ae935e-f5d6-4f83-b7f7-3925f8578cbc').width('18.000000%')"
       ],
       "metadata": {},
       "output_type": "display_data",
       "text": [
        "<IPython.core.display.Javascript at 0x7f78c6206d90>"
       ]
      },
      {
       "javascript": [
        "$('div#67ae935e-f5d6-4f83-b7f7-3925f8578cbc').width('19.000000%')"
       ],
       "metadata": {},
       "output_type": "display_data",
       "text": [
        "<IPython.core.display.Javascript at 0x7f78c6206e90>"
       ]
      },
      {
       "javascript": [
        "$('div#67ae935e-f5d6-4f83-b7f7-3925f8578cbc').width('20.000000%')"
       ],
       "metadata": {},
       "output_type": "display_data",
       "text": [
        "<IPython.core.display.Javascript at 0x7f78c6206f10>"
       ]
      },
      {
       "javascript": [
        "$('div#67ae935e-f5d6-4f83-b7f7-3925f8578cbc').width('21.000000%')"
       ],
       "metadata": {},
       "output_type": "display_data",
       "text": [
        "<IPython.core.display.Javascript at 0x7f78c6206d10>"
       ]
      },
      {
       "javascript": [
        "$('div#67ae935e-f5d6-4f83-b7f7-3925f8578cbc').width('22.000000%')"
       ],
       "metadata": {},
       "output_type": "display_data",
       "text": [
        "<IPython.core.display.Javascript at 0x7f78c6206450>"
       ]
      },
      {
       "javascript": [
        "$('div#67ae935e-f5d6-4f83-b7f7-3925f8578cbc').width('23.000000%')"
       ],
       "metadata": {},
       "output_type": "display_data",
       "text": [
        "<IPython.core.display.Javascript at 0x7f78c6206f10>"
       ]
      },
      {
       "javascript": [
        "$('div#67ae935e-f5d6-4f83-b7f7-3925f8578cbc').width('24.000000%')"
       ],
       "metadata": {},
       "output_type": "display_data",
       "text": [
        "<IPython.core.display.Javascript at 0x7f78c6206e90>"
       ]
      },
      {
       "javascript": [
        "$('div#67ae935e-f5d6-4f83-b7f7-3925f8578cbc').width('25.000000%')"
       ],
       "metadata": {},
       "output_type": "display_data",
       "text": [
        "<IPython.core.display.Javascript at 0x7f78c6206d90>"
       ]
      },
      {
       "javascript": [
        "$('div#67ae935e-f5d6-4f83-b7f7-3925f8578cbc').width('26.000000%')"
       ],
       "metadata": {},
       "output_type": "display_data",
       "text": [
        "<IPython.core.display.Javascript at 0x7f78c6206d50>"
       ]
      },
      {
       "javascript": [
        "$('div#67ae935e-f5d6-4f83-b7f7-3925f8578cbc').width('27.000000%')"
       ],
       "metadata": {},
       "output_type": "display_data",
       "text": [
        "<IPython.core.display.Javascript at 0x7f78c6206b90>"
       ]
      },
      {
       "javascript": [
        "$('div#67ae935e-f5d6-4f83-b7f7-3925f8578cbc').width('28.000000%')"
       ],
       "metadata": {},
       "output_type": "display_data",
       "text": [
        "<IPython.core.display.Javascript at 0x7f78c6206750>"
       ]
      },
      {
       "javascript": [
        "$('div#67ae935e-f5d6-4f83-b7f7-3925f8578cbc').width('29.000000%')"
       ],
       "metadata": {},
       "output_type": "display_data",
       "text": [
        "<IPython.core.display.Javascript at 0x7f78c6206650>"
       ]
      },
      {
       "javascript": [
        "$('div#67ae935e-f5d6-4f83-b7f7-3925f8578cbc').width('30.000000%')"
       ],
       "metadata": {},
       "output_type": "display_data",
       "text": [
        "<IPython.core.display.Javascript at 0x7f78c6206950>"
       ]
      },
      {
       "javascript": [
        "$('div#67ae935e-f5d6-4f83-b7f7-3925f8578cbc').width('31.000000%')"
       ],
       "metadata": {},
       "output_type": "display_data",
       "text": [
        "<IPython.core.display.Javascript at 0x7f78c6206f90>"
       ]
      },
      {
       "javascript": [
        "$('div#67ae935e-f5d6-4f83-b7f7-3925f8578cbc').width('32.000000%')"
       ],
       "metadata": {},
       "output_type": "display_data",
       "text": [
        "<IPython.core.display.Javascript at 0x7f78c6398210>"
       ]
      },
      {
       "javascript": [
        "$('div#67ae935e-f5d6-4f83-b7f7-3925f8578cbc').width('33.000000%')"
       ],
       "metadata": {},
       "output_type": "display_data",
       "text": [
        "<IPython.core.display.Javascript at 0x7f78c63981d0>"
       ]
      },
      {
       "javascript": [
        "$('div#67ae935e-f5d6-4f83-b7f7-3925f8578cbc').width('34.000000%')"
       ],
       "metadata": {},
       "output_type": "display_data",
       "text": [
        "<IPython.core.display.Javascript at 0x7f78c62d7350>"
       ]
      },
      {
       "javascript": [
        "$('div#67ae935e-f5d6-4f83-b7f7-3925f8578cbc').width('35.000000%')"
       ],
       "metadata": {},
       "output_type": "display_data",
       "text": [
        "<IPython.core.display.Javascript at 0x7f78c62d73d0>"
       ]
      },
      {
       "javascript": [
        "$('div#67ae935e-f5d6-4f83-b7f7-3925f8578cbc').width('36.000000%')"
       ],
       "metadata": {},
       "output_type": "display_data",
       "text": [
        "<IPython.core.display.Javascript at 0x7f78c624bf50>"
       ]
      },
      {
       "javascript": [
        "$('div#67ae935e-f5d6-4f83-b7f7-3925f8578cbc').width('37.000000%')"
       ],
       "metadata": {},
       "output_type": "display_data",
       "text": [
        "<IPython.core.display.Javascript at 0x7f78c63fa450>"
       ]
      },
      {
       "javascript": [
        "$('div#67ae935e-f5d6-4f83-b7f7-3925f8578cbc').width('38.000000%')"
       ],
       "metadata": {},
       "output_type": "display_data",
       "text": [
        "<IPython.core.display.Javascript at 0x7f78c63fab90>"
       ]
      },
      {
       "javascript": [
        "$('div#67ae935e-f5d6-4f83-b7f7-3925f8578cbc').width('39.000000%')"
       ],
       "metadata": {},
       "output_type": "display_data",
       "text": [
        "<IPython.core.display.Javascript at 0x7f78c63fa750>"
       ]
      },
      {
       "javascript": [
        "$('div#67ae935e-f5d6-4f83-b7f7-3925f8578cbc').width('40.000000%')"
       ],
       "metadata": {},
       "output_type": "display_data",
       "text": [
        "<IPython.core.display.Javascript at 0x7f78c63fac10>"
       ]
      },
      {
       "javascript": [
        "$('div#67ae935e-f5d6-4f83-b7f7-3925f8578cbc').width('41.000000%')"
       ],
       "metadata": {},
       "output_type": "display_data",
       "text": [
        "<IPython.core.display.Javascript at 0x7f78c63fad50>"
       ]
      },
      {
       "javascript": [
        "$('div#67ae935e-f5d6-4f83-b7f7-3925f8578cbc').width('42.000000%')"
       ],
       "metadata": {},
       "output_type": "display_data",
       "text": [
        "<IPython.core.display.Javascript at 0x7f78c63faad0>"
       ]
      },
      {
       "javascript": [
        "$('div#67ae935e-f5d6-4f83-b7f7-3925f8578cbc').width('43.000000%')"
       ],
       "metadata": {},
       "output_type": "display_data",
       "text": [
        "<IPython.core.display.Javascript at 0x7f78c6206550>"
       ]
      },
      {
       "javascript": [
        "$('div#67ae935e-f5d6-4f83-b7f7-3925f8578cbc').width('44.000000%')"
       ],
       "metadata": {},
       "output_type": "display_data",
       "text": [
        "<IPython.core.display.Javascript at 0x7f78c632a690>"
       ]
      },
      {
       "javascript": [
        "$('div#67ae935e-f5d6-4f83-b7f7-3925f8578cbc').width('45.000000%')"
       ],
       "metadata": {},
       "output_type": "display_data",
       "text": [
        "<IPython.core.display.Javascript at 0x7f78c63fa690>"
       ]
      },
      {
       "javascript": [
        "$('div#67ae935e-f5d6-4f83-b7f7-3925f8578cbc').width('46.000000%')"
       ],
       "metadata": {},
       "output_type": "display_data",
       "text": [
        "<IPython.core.display.Javascript at 0x7f78c6211090>"
       ]
      },
      {
       "javascript": [
        "$('div#67ae935e-f5d6-4f83-b7f7-3925f8578cbc').width('47.000000%')"
       ],
       "metadata": {},
       "output_type": "display_data",
       "text": [
        "<IPython.core.display.Javascript at 0x7f78c63b7210>"
       ]
      },
      {
       "javascript": [
        "$('div#67ae935e-f5d6-4f83-b7f7-3925f8578cbc').width('48.000000%')"
       ],
       "metadata": {},
       "output_type": "display_data",
       "text": [
        "<IPython.core.display.Javascript at 0x7f78c63b73d0>"
       ]
      },
      {
       "javascript": [
        "$('div#67ae935e-f5d6-4f83-b7f7-3925f8578cbc').width('49.000000%')"
       ],
       "metadata": {},
       "output_type": "display_data",
       "text": [
        "<IPython.core.display.Javascript at 0x7f78c62de710>"
       ]
      },
      {
       "javascript": [
        "$('div#67ae935e-f5d6-4f83-b7f7-3925f8578cbc').width('50.000000%')"
       ],
       "metadata": {},
       "output_type": "display_data",
       "text": [
        "<IPython.core.display.Javascript at 0x7f78c62d7550>"
       ]
      },
      {
       "javascript": [
        "$('div#67ae935e-f5d6-4f83-b7f7-3925f8578cbc').width('51.000000%')"
       ],
       "metadata": {},
       "output_type": "display_data",
       "text": [
        "<IPython.core.display.Javascript at 0x7f78c621e650>"
       ]
      },
      {
       "javascript": [
        "$('div#67ae935e-f5d6-4f83-b7f7-3925f8578cbc').width('52.000000%')"
       ],
       "metadata": {},
       "output_type": "display_data",
       "text": [
        "<IPython.core.display.Javascript at 0x7f78c621e6d0>"
       ]
      },
      {
       "javascript": [
        "$('div#67ae935e-f5d6-4f83-b7f7-3925f8578cbc').width('53.000000%')"
       ],
       "metadata": {},
       "output_type": "display_data",
       "text": [
        "<IPython.core.display.Javascript at 0x7f78c621e550>"
       ]
      },
      {
       "javascript": [
        "$('div#67ae935e-f5d6-4f83-b7f7-3925f8578cbc').width('54.000000%')"
       ],
       "metadata": {},
       "output_type": "display_data",
       "text": [
        "<IPython.core.display.Javascript at 0x7f78c621e510>"
       ]
      },
      {
       "javascript": [
        "$('div#67ae935e-f5d6-4f83-b7f7-3925f8578cbc').width('55.000000%')"
       ],
       "metadata": {},
       "output_type": "display_data",
       "text": [
        "<IPython.core.display.Javascript at 0x7f78c621e0d0>"
       ]
      },
      {
       "javascript": [
        "$('div#67ae935e-f5d6-4f83-b7f7-3925f8578cbc').width('56.000000%')"
       ],
       "metadata": {},
       "output_type": "display_data",
       "text": [
        "<IPython.core.display.Javascript at 0x7f78c621e810>"
       ]
      },
      {
       "javascript": [
        "$('div#67ae935e-f5d6-4f83-b7f7-3925f8578cbc').width('57.000000%')"
       ],
       "metadata": {},
       "output_type": "display_data",
       "text": [
        "<IPython.core.display.Javascript at 0x7f78c621e7d0>"
       ]
      },
      {
       "javascript": [
        "$('div#67ae935e-f5d6-4f83-b7f7-3925f8578cbc').width('58.000000%')"
       ],
       "metadata": {},
       "output_type": "display_data",
       "text": [
        "<IPython.core.display.Javascript at 0x7f78c621e790>"
       ]
      },
      {
       "javascript": [
        "$('div#67ae935e-f5d6-4f83-b7f7-3925f8578cbc').width('59.000000%')"
       ],
       "metadata": {},
       "output_type": "display_data",
       "text": [
        "<IPython.core.display.Javascript at 0x7f78c621e710>"
       ]
      },
      {
       "javascript": [
        "$('div#67ae935e-f5d6-4f83-b7f7-3925f8578cbc').width('60.000000%')"
       ],
       "metadata": {},
       "output_type": "display_data",
       "text": [
        "<IPython.core.display.Javascript at 0x7f78c621e750>"
       ]
      },
      {
       "javascript": [
        "$('div#67ae935e-f5d6-4f83-b7f7-3925f8578cbc').width('61.000000%')"
       ],
       "metadata": {},
       "output_type": "display_data",
       "text": [
        "<IPython.core.display.Javascript at 0x7f78c621e590>"
       ]
      },
      {
       "javascript": [
        "$('div#67ae935e-f5d6-4f83-b7f7-3925f8578cbc').width('62.000000%')"
       ],
       "metadata": {},
       "output_type": "display_data",
       "text": [
        "<IPython.core.display.Javascript at 0x7f78c621e090>"
       ]
      },
      {
       "javascript": [
        "$('div#67ae935e-f5d6-4f83-b7f7-3925f8578cbc').width('63.000000%')"
       ],
       "metadata": {},
       "output_type": "display_data",
       "text": [
        "<IPython.core.display.Javascript at 0x7f78c621e410>"
       ]
      },
      {
       "javascript": [
        "$('div#67ae935e-f5d6-4f83-b7f7-3925f8578cbc').width('64.000000%')"
       ],
       "metadata": {},
       "output_type": "display_data",
       "text": [
        "<IPython.core.display.Javascript at 0x7f78c621e4d0>"
       ]
      },
      {
       "javascript": [
        "$('div#67ae935e-f5d6-4f83-b7f7-3925f8578cbc').width('65.000000%')"
       ],
       "metadata": {},
       "output_type": "display_data",
       "text": [
        "<IPython.core.display.Javascript at 0x7f78c621e490>"
       ]
      },
      {
       "javascript": [
        "$('div#67ae935e-f5d6-4f83-b7f7-3925f8578cbc').width('66.000000%')"
       ],
       "metadata": {},
       "output_type": "display_data",
       "text": [
        "<IPython.core.display.Javascript at 0x7f78c621e610>"
       ]
      },
      {
       "javascript": [
        "$('div#67ae935e-f5d6-4f83-b7f7-3925f8578cbc').width('67.000000%')"
       ],
       "metadata": {},
       "output_type": "display_data",
       "text": [
        "<IPython.core.display.Javascript at 0x7f78c621e5d0>"
       ]
      },
      {
       "javascript": [
        "$('div#67ae935e-f5d6-4f83-b7f7-3925f8578cbc').width('68.000000%')"
       ],
       "metadata": {},
       "output_type": "display_data",
       "text": [
        "<IPython.core.display.Javascript at 0x7f78c621e850>"
       ]
      },
      {
       "javascript": [
        "$('div#67ae935e-f5d6-4f83-b7f7-3925f8578cbc').width('69.000000%')"
       ],
       "metadata": {},
       "output_type": "display_data",
       "text": [
        "<IPython.core.display.Javascript at 0x7f78c621e890>"
       ]
      },
      {
       "javascript": [
        "$('div#67ae935e-f5d6-4f83-b7f7-3925f8578cbc').width('70.000000%')"
       ],
       "metadata": {},
       "output_type": "display_data",
       "text": [
        "<IPython.core.display.Javascript at 0x7f78c621e910>"
       ]
      },
      {
       "javascript": [
        "$('div#67ae935e-f5d6-4f83-b7f7-3925f8578cbc').width('71.000000%')"
       ],
       "metadata": {},
       "output_type": "display_data",
       "text": [
        "<IPython.core.display.Javascript at 0x7f78c621e8d0>"
       ]
      },
      {
       "javascript": [
        "$('div#67ae935e-f5d6-4f83-b7f7-3925f8578cbc').width('72.000000%')"
       ],
       "metadata": {},
       "output_type": "display_data",
       "text": [
        "<IPython.core.display.Javascript at 0x7f78c621e950>"
       ]
      },
      {
       "javascript": [
        "$('div#67ae935e-f5d6-4f83-b7f7-3925f8578cbc').width('73.000000%')"
       ],
       "metadata": {},
       "output_type": "display_data",
       "text": [
        "<IPython.core.display.Javascript at 0x7f78c621e990>"
       ]
      },
      {
       "javascript": [
        "$('div#67ae935e-f5d6-4f83-b7f7-3925f8578cbc').width('74.000000%')"
       ],
       "metadata": {},
       "output_type": "display_data",
       "text": [
        "<IPython.core.display.Javascript at 0x7f78c621e9d0>"
       ]
      },
      {
       "javascript": [
        "$('div#67ae935e-f5d6-4f83-b7f7-3925f8578cbc').width('75.000000%')"
       ],
       "metadata": {},
       "output_type": "display_data",
       "text": [
        "<IPython.core.display.Javascript at 0x7f78c621ea10>"
       ]
      },
      {
       "javascript": [
        "$('div#67ae935e-f5d6-4f83-b7f7-3925f8578cbc').width('76.000000%')"
       ],
       "metadata": {},
       "output_type": "display_data",
       "text": [
        "<IPython.core.display.Javascript at 0x7f78c62de350>"
       ]
      },
      {
       "javascript": [
        "$('div#67ae935e-f5d6-4f83-b7f7-3925f8578cbc').width('77.000000%')"
       ],
       "metadata": {},
       "output_type": "display_data",
       "text": [
        "<IPython.core.display.Javascript at 0x7f78c63b73d0>"
       ]
      },
      {
       "javascript": [
        "$('div#67ae935e-f5d6-4f83-b7f7-3925f8578cbc').width('78.000000%')"
       ],
       "metadata": {},
       "output_type": "display_data",
       "text": [
        "<IPython.core.display.Javascript at 0x7f78c63b7210>"
       ]
      },
      {
       "javascript": [
        "$('div#67ae935e-f5d6-4f83-b7f7-3925f8578cbc').width('79.000000%')"
       ],
       "metadata": {},
       "output_type": "display_data",
       "text": [
        "<IPython.core.display.Javascript at 0x7f78c632a410>"
       ]
      },
      {
       "javascript": [
        "$('div#67ae935e-f5d6-4f83-b7f7-3925f8578cbc').width('80.000000%')"
       ],
       "metadata": {},
       "output_type": "display_data",
       "text": [
        "<IPython.core.display.Javascript at 0x7f78c632a690>"
       ]
      },
      {
       "javascript": [
        "$('div#67ae935e-f5d6-4f83-b7f7-3925f8578cbc').width('81.000000%')"
       ],
       "metadata": {},
       "output_type": "display_data",
       "text": [
        "<IPython.core.display.Javascript at 0x7f78c63faad0>"
       ]
      },
      {
       "javascript": [
        "$('div#67ae935e-f5d6-4f83-b7f7-3925f8578cbc').width('82.000000%')"
       ],
       "metadata": {},
       "output_type": "display_data",
       "text": [
        "<IPython.core.display.Javascript at 0x7f78c63fad50>"
       ]
      },
      {
       "javascript": [
        "$('div#67ae935e-f5d6-4f83-b7f7-3925f8578cbc').width('83.000000%')"
       ],
       "metadata": {},
       "output_type": "display_data",
       "text": [
        "<IPython.core.display.Javascript at 0x7f78c63fac10>"
       ]
      },
      {
       "javascript": [
        "$('div#67ae935e-f5d6-4f83-b7f7-3925f8578cbc').width('84.000000%')"
       ],
       "metadata": {},
       "output_type": "display_data",
       "text": [
        "<IPython.core.display.Javascript at 0x7f78c6211090>"
       ]
      },
      {
       "javascript": [
        "$('div#67ae935e-f5d6-4f83-b7f7-3925f8578cbc').width('85.000000%')"
       ],
       "metadata": {},
       "output_type": "display_data",
       "text": [
        "<IPython.core.display.Javascript at 0x7f78c63fa750>"
       ]
      },
      {
       "javascript": [
        "$('div#67ae935e-f5d6-4f83-b7f7-3925f8578cbc').width('86.000000%')"
       ],
       "metadata": {},
       "output_type": "display_data",
       "text": [
        "<IPython.core.display.Javascript at 0x7f78c63fa450>"
       ]
      },
      {
       "javascript": [
        "$('div#67ae935e-f5d6-4f83-b7f7-3925f8578cbc').width('87.000000%')"
       ],
       "metadata": {},
       "output_type": "display_data",
       "text": [
        "<IPython.core.display.Javascript at 0x7f78c63fab90>"
       ]
      },
      {
       "javascript": [
        "$('div#67ae935e-f5d6-4f83-b7f7-3925f8578cbc').width('88.000000%')"
       ],
       "metadata": {},
       "output_type": "display_data",
       "text": [
        "<IPython.core.display.Javascript at 0x7f78c624bf50>"
       ]
      },
      {
       "javascript": [
        "$('div#67ae935e-f5d6-4f83-b7f7-3925f8578cbc').width('89.000000%')"
       ],
       "metadata": {},
       "output_type": "display_data",
       "text": [
        "<IPython.core.display.Javascript at 0x7f78c62d73d0>"
       ]
      },
      {
       "javascript": [
        "$('div#67ae935e-f5d6-4f83-b7f7-3925f8578cbc').width('90.000000%')"
       ],
       "metadata": {},
       "output_type": "display_data",
       "text": [
        "<IPython.core.display.Javascript at 0x7f78c62d7550>"
       ]
      },
      {
       "javascript": [
        "$('div#67ae935e-f5d6-4f83-b7f7-3925f8578cbc').width('91.000000%')"
       ],
       "metadata": {},
       "output_type": "display_data",
       "text": [
        "<IPython.core.display.Javascript at 0x7f78c62de710>"
       ]
      },
      {
       "javascript": [
        "$('div#67ae935e-f5d6-4f83-b7f7-3925f8578cbc').width('92.000000%')"
       ],
       "metadata": {},
       "output_type": "display_data",
       "text": [
        "<IPython.core.display.Javascript at 0x7f78c63981d0>"
       ]
      },
      {
       "javascript": [
        "$('div#67ae935e-f5d6-4f83-b7f7-3925f8578cbc').width('93.000000%')"
       ],
       "metadata": {},
       "output_type": "display_data",
       "text": [
        "<IPython.core.display.Javascript at 0x7f78c6398210>"
       ]
      },
      {
       "javascript": [
        "$('div#67ae935e-f5d6-4f83-b7f7-3925f8578cbc').width('94.000000%')"
       ],
       "metadata": {},
       "output_type": "display_data",
       "text": [
        "<IPython.core.display.Javascript at 0x7f78c6206f90>"
       ]
      },
      {
       "javascript": [
        "$('div#67ae935e-f5d6-4f83-b7f7-3925f8578cbc').width('95.000000%')"
       ],
       "metadata": {},
       "output_type": "display_data",
       "text": [
        "<IPython.core.display.Javascript at 0x7f78c6206950>"
       ]
      },
      {
       "javascript": [
        "$('div#67ae935e-f5d6-4f83-b7f7-3925f8578cbc').width('96.000000%')"
       ],
       "metadata": {},
       "output_type": "display_data",
       "text": [
        "<IPython.core.display.Javascript at 0x7f78c6206650>"
       ]
      },
      {
       "javascript": [
        "$('div#67ae935e-f5d6-4f83-b7f7-3925f8578cbc').width('97.000000%')"
       ],
       "metadata": {},
       "output_type": "display_data",
       "text": [
        "<IPython.core.display.Javascript at 0x7f78c6206750>"
       ]
      },
      {
       "javascript": [
        "$('div#67ae935e-f5d6-4f83-b7f7-3925f8578cbc').width('98.000000%')"
       ],
       "metadata": {},
       "output_type": "display_data",
       "text": [
        "<IPython.core.display.Javascript at 0x7f78c6206b90>"
       ]
      },
      {
       "javascript": [
        "$('div#67ae935e-f5d6-4f83-b7f7-3925f8578cbc').width('99.000000%')"
       ],
       "metadata": {},
       "output_type": "display_data",
       "text": [
        "<IPython.core.display.Javascript at 0x7f78c6206d50>"
       ]
      },
      {
       "javascript": [
        "$('div#67ae935e-f5d6-4f83-b7f7-3925f8578cbc').width('100.000000%')"
       ],
       "metadata": {},
       "output_type": "display_data",
       "text": [
        "<IPython.core.display.Javascript at 0x7f78c6206d90>"
       ]
      },
      {
       "output_type": "stream",
       "stream": "stdout",
       "text": [
        "Running mapper & aggregator on the result objects (number of results=100, chunk size=17)\n"
       ]
      },
      {
       "html": [
        "\n",
        "                          <div style=\"border: 1px solid black; width:500px\">\n",
        "                          <div id=\"d35641ce-a7da-412c-9f01-f4915100c21d\" style=\"background-color:blue; width:0%\">&nbsp;</div>\n",
        "                          </div>\n",
        "                          "
       ],
       "metadata": {},
       "output_type": "display_data",
       "text": [
        "<IPython.core.display.HTML at 0x7f78c63fa690>"
       ]
      },
      {
       "javascript": [
        "$('div#d35641ce-a7da-412c-9f01-f4915100c21d').width('16.666667%')"
       ],
       "metadata": {},
       "output_type": "display_data",
       "text": [
        "<IPython.core.display.Javascript at 0x7f78c6206e90>"
       ]
      },
      {
       "javascript": [
        "$('div#d35641ce-a7da-412c-9f01-f4915100c21d').width('33.333333%')"
       ],
       "metadata": {},
       "output_type": "display_data",
       "text": [
        "<IPython.core.display.Javascript at 0x7f78c6206450>"
       ]
      },
      {
       "javascript": [
        "$('div#d35641ce-a7da-412c-9f01-f4915100c21d').width('50.000000%')"
       ],
       "metadata": {},
       "output_type": "display_data",
       "text": [
        "<IPython.core.display.Javascript at 0x7f78c6206f10>"
       ]
      },
      {
       "javascript": [
        "$('div#d35641ce-a7da-412c-9f01-f4915100c21d').width('66.666667%')"
       ],
       "metadata": {},
       "output_type": "display_data",
       "text": [
        "<IPython.core.display.Javascript at 0x7f78c6206550>"
       ]
      },
      {
       "javascript": [
        "$('div#d35641ce-a7da-412c-9f01-f4915100c21d').width('83.333333%')"
       ],
       "metadata": {},
       "output_type": "display_data",
       "text": [
        "<IPython.core.display.Javascript at 0x7f78c6206d10>"
       ]
      },
      {
       "javascript": [
        "$('div#d35641ce-a7da-412c-9f01-f4915100c21d').width('100.000000%')"
       ],
       "metadata": {},
       "output_type": "display_data",
       "text": [
        "<IPython.core.display.Javascript at 0x7f78c621ea10>"
       ]
      },
      {
       "output_type": "stream",
       "stream": "stdout",
       "text": [
        "Running reducer on mapped and aggregated results (size=6)\n",
        "Generating 100 realizations of the model (chunk size=1)\n"
       ]
      },
      {
       "html": [
        "\n",
        "                          <div style=\"border: 1px solid black; width:500px\">\n",
        "                          <div id=\"f7713e6a-52a1-40f9-b1f5-1dc7825c7d6d\" style=\"background-color:blue; width:0%\">&nbsp;</div>\n",
        "                          </div>\n",
        "                          "
       ],
       "metadata": {},
       "output_type": "display_data",
       "text": [
        "<IPython.core.display.HTML at 0x7f78c6206f10>"
       ]
      },
      {
       "javascript": [
        "$('div#f7713e6a-52a1-40f9-b1f5-1dc7825c7d6d').width('1.000000%')"
       ],
       "metadata": {},
       "output_type": "display_data",
       "text": [
        "<IPython.core.display.Javascript at 0x7f78c6206b90>"
       ]
      },
      {
       "javascript": [
        "$('div#f7713e6a-52a1-40f9-b1f5-1dc7825c7d6d').width('2.000000%')"
       ],
       "metadata": {},
       "output_type": "display_data",
       "text": [
        "<IPython.core.display.Javascript at 0x7f78c6206d50>"
       ]
      },
      {
       "javascript": [
        "$('div#f7713e6a-52a1-40f9-b1f5-1dc7825c7d6d').width('3.000000%')"
       ],
       "metadata": {},
       "output_type": "display_data",
       "text": [
        "<IPython.core.display.Javascript at 0x7f78c6206750>"
       ]
      },
      {
       "javascript": [
        "$('div#f7713e6a-52a1-40f9-b1f5-1dc7825c7d6d').width('4.000000%')"
       ],
       "metadata": {},
       "output_type": "display_data",
       "text": [
        "<IPython.core.display.Javascript at 0x7f78c6206950>"
       ]
      },
      {
       "javascript": [
        "$('div#f7713e6a-52a1-40f9-b1f5-1dc7825c7d6d').width('5.000000%')"
       ],
       "metadata": {},
       "output_type": "display_data",
       "text": [
        "<IPython.core.display.Javascript at 0x7f78c6206d90>"
       ]
      },
      {
       "javascript": [
        "$('div#f7713e6a-52a1-40f9-b1f5-1dc7825c7d6d').width('6.000000%')"
       ],
       "metadata": {},
       "output_type": "display_data",
       "text": [
        "<IPython.core.display.Javascript at 0x7f78c6206f90>"
       ]
      },
      {
       "javascript": [
        "$('div#f7713e6a-52a1-40f9-b1f5-1dc7825c7d6d').width('7.000000%')"
       ],
       "metadata": {},
       "output_type": "display_data",
       "text": [
        "<IPython.core.display.Javascript at 0x7f78c6398210>"
       ]
      },
      {
       "javascript": [
        "$('div#f7713e6a-52a1-40f9-b1f5-1dc7825c7d6d').width('8.000000%')"
       ],
       "metadata": {},
       "output_type": "display_data",
       "text": [
        "<IPython.core.display.Javascript at 0x7f78c63981d0>"
       ]
      },
      {
       "javascript": [
        "$('div#f7713e6a-52a1-40f9-b1f5-1dc7825c7d6d').width('9.000000%')"
       ],
       "metadata": {},
       "output_type": "display_data",
       "text": [
        "<IPython.core.display.Javascript at 0x7f78c6206e90>"
       ]
      },
      {
       "javascript": [
        "$('div#f7713e6a-52a1-40f9-b1f5-1dc7825c7d6d').width('10.000000%')"
       ],
       "metadata": {},
       "output_type": "display_data",
       "text": [
        "<IPython.core.display.Javascript at 0x7f78c6206650>"
       ]
      },
      {
       "javascript": [
        "$('div#f7713e6a-52a1-40f9-b1f5-1dc7825c7d6d').width('11.000000%')"
       ],
       "metadata": {},
       "output_type": "display_data",
       "text": [
        "<IPython.core.display.Javascript at 0x7f78c62d7350>"
       ]
      },
      {
       "javascript": [
        "$('div#f7713e6a-52a1-40f9-b1f5-1dc7825c7d6d').width('12.000000%')"
       ],
       "metadata": {},
       "output_type": "display_data",
       "text": [
        "<IPython.core.display.Javascript at 0x7f78c62d73d0>"
       ]
      },
      {
       "javascript": [
        "$('div#f7713e6a-52a1-40f9-b1f5-1dc7825c7d6d').width('13.000000%')"
       ],
       "metadata": {},
       "output_type": "display_data",
       "text": [
        "<IPython.core.display.Javascript at 0x7f78c62d7550>"
       ]
      },
      {
       "javascript": [
        "$('div#f7713e6a-52a1-40f9-b1f5-1dc7825c7d6d').width('14.000000%')"
       ],
       "metadata": {},
       "output_type": "display_data",
       "text": [
        "<IPython.core.display.Javascript at 0x7f78c63fab90>"
       ]
      },
      {
       "javascript": [
        "$('div#f7713e6a-52a1-40f9-b1f5-1dc7825c7d6d').width('15.000000%')"
       ],
       "metadata": {},
       "output_type": "display_data",
       "text": [
        "<IPython.core.display.Javascript at 0x7f78c63fa450>"
       ]
      },
      {
       "javascript": [
        "$('div#f7713e6a-52a1-40f9-b1f5-1dc7825c7d6d').width('16.000000%')"
       ],
       "metadata": {},
       "output_type": "display_data",
       "text": [
        "<IPython.core.display.Javascript at 0x7f78c63fa750>"
       ]
      },
      {
       "javascript": [
        "$('div#f7713e6a-52a1-40f9-b1f5-1dc7825c7d6d').width('17.000000%')"
       ],
       "metadata": {},
       "output_type": "display_data",
       "text": [
        "<IPython.core.display.Javascript at 0x7f78c63fac10>"
       ]
      },
      {
       "javascript": [
        "$('div#f7713e6a-52a1-40f9-b1f5-1dc7825c7d6d').width('18.000000%')"
       ],
       "metadata": {},
       "output_type": "display_data",
       "text": [
        "<IPython.core.display.Javascript at 0x7f78c63fad50>"
       ]
      },
      {
       "javascript": [
        "$('div#f7713e6a-52a1-40f9-b1f5-1dc7825c7d6d').width('19.000000%')"
       ],
       "metadata": {},
       "output_type": "display_data",
       "text": [
        "<IPython.core.display.Javascript at 0x7f78c63fa690>"
       ]
      },
      {
       "javascript": [
        "$('div#f7713e6a-52a1-40f9-b1f5-1dc7825c7d6d').width('20.000000%')"
       ],
       "metadata": {},
       "output_type": "display_data",
       "text": [
        "<IPython.core.display.Javascript at 0x7f78c6211090>"
       ]
      },
      {
       "javascript": [
        "$('div#f7713e6a-52a1-40f9-b1f5-1dc7825c7d6d').width('21.000000%')"
       ],
       "metadata": {},
       "output_type": "display_data",
       "text": [
        "<IPython.core.display.Javascript at 0x7f78c632a690>"
       ]
      },
      {
       "javascript": [
        "$('div#f7713e6a-52a1-40f9-b1f5-1dc7825c7d6d').width('22.000000%')"
       ],
       "metadata": {},
       "output_type": "display_data",
       "text": [
        "<IPython.core.display.Javascript at 0x7f78c63faad0>"
       ]
      },
      {
       "javascript": [
        "$('div#f7713e6a-52a1-40f9-b1f5-1dc7825c7d6d').width('23.000000%')"
       ],
       "metadata": {},
       "output_type": "display_data",
       "text": [
        "<IPython.core.display.Javascript at 0x7f78c63b7210>"
       ]
      },
      {
       "javascript": [
        "$('div#f7713e6a-52a1-40f9-b1f5-1dc7825c7d6d').width('24.000000%')"
       ],
       "metadata": {},
       "output_type": "display_data",
       "text": [
        "<IPython.core.display.Javascript at 0x7f78c632a410>"
       ]
      },
      {
       "javascript": [
        "$('div#f7713e6a-52a1-40f9-b1f5-1dc7825c7d6d').width('25.000000%')"
       ],
       "metadata": {},
       "output_type": "display_data",
       "text": [
        "<IPython.core.display.Javascript at 0x7f78c62de710>"
       ]
      },
      {
       "javascript": [
        "$('div#f7713e6a-52a1-40f9-b1f5-1dc7825c7d6d').width('26.000000%')"
       ],
       "metadata": {},
       "output_type": "display_data",
       "text": [
        "<IPython.core.display.Javascript at 0x7f78c62deb90>"
       ]
      },
      {
       "javascript": [
        "$('div#f7713e6a-52a1-40f9-b1f5-1dc7825c7d6d').width('27.000000%')"
       ],
       "metadata": {},
       "output_type": "display_data",
       "text": [
        "<IPython.core.display.Javascript at 0x7f78c62de350>"
       ]
      },
      {
       "javascript": [
        "$('div#f7713e6a-52a1-40f9-b1f5-1dc7825c7d6d').width('28.000000%')"
       ],
       "metadata": {},
       "output_type": "display_data",
       "text": [
        "<IPython.core.display.Javascript at 0x7f78c621eb50>"
       ]
      },
      {
       "javascript": [
        "$('div#f7713e6a-52a1-40f9-b1f5-1dc7825c7d6d').width('29.000000%')"
       ],
       "metadata": {},
       "output_type": "display_data",
       "text": [
        "<IPython.core.display.Javascript at 0x7f78c621e8d0>"
       ]
      },
      {
       "javascript": [
        "$('div#f7713e6a-52a1-40f9-b1f5-1dc7825c7d6d').width('30.000000%')"
       ],
       "metadata": {},
       "output_type": "display_data",
       "text": [
        "<IPython.core.display.Javascript at 0x7f78c621e910>"
       ]
      },
      {
       "javascript": [
        "$('div#f7713e6a-52a1-40f9-b1f5-1dc7825c7d6d').width('31.000000%')"
       ],
       "metadata": {},
       "output_type": "display_data",
       "text": [
        "<IPython.core.display.Javascript at 0x7f78c621e9d0>"
       ]
      },
      {
       "javascript": [
        "$('div#f7713e6a-52a1-40f9-b1f5-1dc7825c7d6d').width('32.000000%')"
       ],
       "metadata": {},
       "output_type": "display_data",
       "text": [
        "<IPython.core.display.Javascript at 0x7f78c621e5d0>"
       ]
      },
      {
       "javascript": [
        "$('div#f7713e6a-52a1-40f9-b1f5-1dc7825c7d6d').width('33.000000%')"
       ],
       "metadata": {},
       "output_type": "display_data",
       "text": [
        "<IPython.core.display.Javascript at 0x7f78c621e890>"
       ]
      },
      {
       "javascript": [
        "$('div#f7713e6a-52a1-40f9-b1f5-1dc7825c7d6d').width('34.000000%')"
       ],
       "metadata": {},
       "output_type": "display_data",
       "text": [
        "<IPython.core.display.Javascript at 0x7f78c621e850>"
       ]
      },
      {
       "javascript": [
        "$('div#f7713e6a-52a1-40f9-b1f5-1dc7825c7d6d').width('35.000000%')"
       ],
       "metadata": {},
       "output_type": "display_data",
       "text": [
        "<IPython.core.display.Javascript at 0x7f78c621e610>"
       ]
      },
      {
       "javascript": [
        "$('div#f7713e6a-52a1-40f9-b1f5-1dc7825c7d6d').width('36.000000%')"
       ],
       "metadata": {},
       "output_type": "display_data",
       "text": [
        "<IPython.core.display.Javascript at 0x7f78c621ea10>"
       ]
      },
      {
       "javascript": [
        "$('div#f7713e6a-52a1-40f9-b1f5-1dc7825c7d6d').width('37.000000%')"
       ],
       "metadata": {},
       "output_type": "display_data",
       "text": [
        "<IPython.core.display.Javascript at 0x7f78c621e490>"
       ]
      },
      {
       "javascript": [
        "$('div#f7713e6a-52a1-40f9-b1f5-1dc7825c7d6d').width('38.000000%')"
       ],
       "metadata": {},
       "output_type": "display_data",
       "text": [
        "<IPython.core.display.Javascript at 0x7f78c621e4d0>"
       ]
      },
      {
       "javascript": [
        "$('div#f7713e6a-52a1-40f9-b1f5-1dc7825c7d6d').width('39.000000%')"
       ],
       "metadata": {},
       "output_type": "display_data",
       "text": [
        "<IPython.core.display.Javascript at 0x7f78c621e410>"
       ]
      },
      {
       "javascript": [
        "$('div#f7713e6a-52a1-40f9-b1f5-1dc7825c7d6d').width('40.000000%')"
       ],
       "metadata": {},
       "output_type": "display_data",
       "text": [
        "<IPython.core.display.Javascript at 0x7f78c621e090>"
       ]
      },
      {
       "javascript": [
        "$('div#f7713e6a-52a1-40f9-b1f5-1dc7825c7d6d').width('41.000000%')"
       ],
       "metadata": {},
       "output_type": "display_data",
       "text": [
        "<IPython.core.display.Javascript at 0x7f78c63b7210>"
       ]
      },
      {
       "javascript": [
        "$('div#f7713e6a-52a1-40f9-b1f5-1dc7825c7d6d').width('42.000000%')"
       ],
       "metadata": {},
       "output_type": "display_data",
       "text": [
        "<IPython.core.display.Javascript at 0x7f78c62de350>"
       ]
      },
      {
       "javascript": [
        "$('div#f7713e6a-52a1-40f9-b1f5-1dc7825c7d6d').width('43.000000%')"
       ],
       "metadata": {},
       "output_type": "display_data",
       "text": [
        "<IPython.core.display.Javascript at 0x7f78c62de710>"
       ]
      },
      {
       "javascript": [
        "$('div#f7713e6a-52a1-40f9-b1f5-1dc7825c7d6d').width('44.000000%')"
       ],
       "metadata": {},
       "output_type": "display_data",
       "text": [
        "<IPython.core.display.Javascript at 0x7f78c63b73d0>"
       ]
      },
      {
       "javascript": [
        "$('div#f7713e6a-52a1-40f9-b1f5-1dc7825c7d6d').width('45.000000%')"
       ],
       "metadata": {},
       "output_type": "display_data",
       "text": [
        "<IPython.core.display.Javascript at 0x7f78c6211090>"
       ]
      },
      {
       "javascript": [
        "$('div#f7713e6a-52a1-40f9-b1f5-1dc7825c7d6d').width('46.000000%')"
       ],
       "metadata": {},
       "output_type": "display_data",
       "text": [
        "<IPython.core.display.Javascript at 0x7f78c632a690>"
       ]
      },
      {
       "javascript": [
        "$('div#f7713e6a-52a1-40f9-b1f5-1dc7825c7d6d').width('47.000000%')"
       ],
       "metadata": {},
       "output_type": "display_data",
       "text": [
        "<IPython.core.display.Javascript at 0x7f78c624bf50>"
       ]
      },
      {
       "javascript": [
        "$('div#f7713e6a-52a1-40f9-b1f5-1dc7825c7d6d').width('48.000000%')"
       ],
       "metadata": {},
       "output_type": "display_data",
       "text": [
        "<IPython.core.display.Javascript at 0x7f78c63fa690>"
       ]
      },
      {
       "javascript": [
        "$('div#f7713e6a-52a1-40f9-b1f5-1dc7825c7d6d').width('49.000000%')"
       ],
       "metadata": {},
       "output_type": "display_data",
       "text": [
        "<IPython.core.display.Javascript at 0x7f78c63fad50>"
       ]
      },
      {
       "javascript": [
        "$('div#f7713e6a-52a1-40f9-b1f5-1dc7825c7d6d').width('50.000000%')"
       ],
       "metadata": {},
       "output_type": "display_data",
       "text": [
        "<IPython.core.display.Javascript at 0x7f78c63fac10>"
       ]
      },
      {
       "javascript": [
        "$('div#f7713e6a-52a1-40f9-b1f5-1dc7825c7d6d').width('51.000000%')"
       ],
       "metadata": {},
       "output_type": "display_data",
       "text": [
        "<IPython.core.display.Javascript at 0x7f78c63fa750>"
       ]
      },
      {
       "javascript": [
        "$('div#f7713e6a-52a1-40f9-b1f5-1dc7825c7d6d').width('52.000000%')"
       ],
       "metadata": {},
       "output_type": "display_data",
       "text": [
        "<IPython.core.display.Javascript at 0x7f78c63fa450>"
       ]
      },
      {
       "javascript": [
        "$('div#f7713e6a-52a1-40f9-b1f5-1dc7825c7d6d').width('53.000000%')"
       ],
       "metadata": {},
       "output_type": "display_data",
       "text": [
        "<IPython.core.display.Javascript at 0x7f78c63faad0>"
       ]
      },
      {
       "javascript": [
        "$('div#f7713e6a-52a1-40f9-b1f5-1dc7825c7d6d').width('54.000000%')"
       ],
       "metadata": {},
       "output_type": "display_data",
       "text": [
        "<IPython.core.display.Javascript at 0x7f78c62deb90>"
       ]
      },
      {
       "javascript": [
        "$('div#f7713e6a-52a1-40f9-b1f5-1dc7825c7d6d').width('55.000000%')"
       ],
       "metadata": {},
       "output_type": "display_data",
       "text": [
        "<IPython.core.display.Javascript at 0x7f78c62d73d0>"
       ]
      },
      {
       "javascript": [
        "$('div#f7713e6a-52a1-40f9-b1f5-1dc7825c7d6d').width('56.000000%')"
       ],
       "metadata": {},
       "output_type": "display_data",
       "text": [
        "<IPython.core.display.Javascript at 0x7f78c62d7550>"
       ]
      },
      {
       "javascript": [
        "$('div#f7713e6a-52a1-40f9-b1f5-1dc7825c7d6d').width('57.000000%')"
       ],
       "metadata": {},
       "output_type": "display_data",
       "text": [
        "<IPython.core.display.Javascript at 0x7f78c62d7350>"
       ]
      },
      {
       "javascript": [
        "$('div#f7713e6a-52a1-40f9-b1f5-1dc7825c7d6d').width('58.000000%')"
       ],
       "metadata": {},
       "output_type": "display_data",
       "text": [
        "<IPython.core.display.Javascript at 0x7f78c63981d0>"
       ]
      },
      {
       "javascript": [
        "$('div#f7713e6a-52a1-40f9-b1f5-1dc7825c7d6d').width('59.000000%')"
       ],
       "metadata": {},
       "output_type": "display_data",
       "text": [
        "<IPython.core.display.Javascript at 0x7f78c6398210>"
       ]
      },
      {
       "javascript": [
        "$('div#f7713e6a-52a1-40f9-b1f5-1dc7825c7d6d').width('60.000000%')"
       ],
       "metadata": {},
       "output_type": "display_data",
       "text": [
        "<IPython.core.display.Javascript at 0x7f78c6206e90>"
       ]
      },
      {
       "javascript": [
        "$('div#f7713e6a-52a1-40f9-b1f5-1dc7825c7d6d').width('61.000000%')"
       ],
       "metadata": {},
       "output_type": "display_data",
       "text": [
        "<IPython.core.display.Javascript at 0x7f78c6206f90>"
       ]
      },
      {
       "javascript": [
        "$('div#f7713e6a-52a1-40f9-b1f5-1dc7825c7d6d').width('62.000000%')"
       ],
       "metadata": {},
       "output_type": "display_data",
       "text": [
        "<IPython.core.display.Javascript at 0x7f78c6206d90>"
       ]
      },
      {
       "javascript": [
        "$('div#f7713e6a-52a1-40f9-b1f5-1dc7825c7d6d').width('63.000000%')"
       ],
       "metadata": {},
       "output_type": "display_data",
       "text": [
        "<IPython.core.display.Javascript at 0x7f78c6206950>"
       ]
      },
      {
       "javascript": [
        "$('div#f7713e6a-52a1-40f9-b1f5-1dc7825c7d6d').width('64.000000%')"
       ],
       "metadata": {},
       "output_type": "display_data",
       "text": [
        "<IPython.core.display.Javascript at 0x7f78c6206750>"
       ]
      },
      {
       "javascript": [
        "$('div#f7713e6a-52a1-40f9-b1f5-1dc7825c7d6d').width('65.000000%')"
       ],
       "metadata": {},
       "output_type": "display_data",
       "text": [
        "<IPython.core.display.Javascript at 0x7f78c6206d50>"
       ]
      },
      {
       "javascript": [
        "$('div#f7713e6a-52a1-40f9-b1f5-1dc7825c7d6d').width('66.000000%')"
       ],
       "metadata": {},
       "output_type": "display_data",
       "text": [
        "<IPython.core.display.Javascript at 0x7f78c6206650>"
       ]
      },
      {
       "javascript": [
        "$('div#f7713e6a-52a1-40f9-b1f5-1dc7825c7d6d').width('67.000000%')"
       ],
       "metadata": {},
       "output_type": "display_data",
       "text": [
        "<IPython.core.display.Javascript at 0x7f78c632a410>"
       ]
      },
      {
       "javascript": [
        "$('div#f7713e6a-52a1-40f9-b1f5-1dc7825c7d6d').width('68.000000%')"
       ],
       "metadata": {},
       "output_type": "display_data",
       "text": [
        "<IPython.core.display.Javascript at 0x7f78c621e750>"
       ]
      },
      {
       "javascript": [
        "$('div#f7713e6a-52a1-40f9-b1f5-1dc7825c7d6d').width('69.000000%')"
       ],
       "metadata": {},
       "output_type": "display_data",
       "text": [
        "<IPython.core.display.Javascript at 0x7f78c621e990>"
       ]
      },
      {
       "javascript": [
        "$('div#f7713e6a-52a1-40f9-b1f5-1dc7825c7d6d').width('70.000000%')"
       ],
       "metadata": {},
       "output_type": "display_data",
       "text": [
        "<IPython.core.display.Javascript at 0x7f78c621e410>"
       ]
      },
      {
       "javascript": [
        "$('div#f7713e6a-52a1-40f9-b1f5-1dc7825c7d6d').width('71.000000%')"
       ],
       "metadata": {},
       "output_type": "display_data",
       "text": [
        "<IPython.core.display.Javascript at 0x7f78c621e4d0>"
       ]
      },
      {
       "javascript": [
        "$('div#f7713e6a-52a1-40f9-b1f5-1dc7825c7d6d').width('72.000000%')"
       ],
       "metadata": {},
       "output_type": "display_data",
       "text": [
        "<IPython.core.display.Javascript at 0x7f78c621e490>"
       ]
      },
      {
       "javascript": [
        "$('div#f7713e6a-52a1-40f9-b1f5-1dc7825c7d6d').width('73.000000%')"
       ],
       "metadata": {},
       "output_type": "display_data",
       "text": [
        "<IPython.core.display.Javascript at 0x7f78c621ea10>"
       ]
      },
      {
       "javascript": [
        "$('div#f7713e6a-52a1-40f9-b1f5-1dc7825c7d6d').width('74.000000%')"
       ],
       "metadata": {},
       "output_type": "display_data",
       "text": [
        "<IPython.core.display.Javascript at 0x7f78c621e610>"
       ]
      },
      {
       "javascript": [
        "$('div#f7713e6a-52a1-40f9-b1f5-1dc7825c7d6d').width('75.000000%')"
       ],
       "metadata": {},
       "output_type": "display_data",
       "text": [
        "<IPython.core.display.Javascript at 0x7f78c621e850>"
       ]
      },
      {
       "javascript": [
        "$('div#f7713e6a-52a1-40f9-b1f5-1dc7825c7d6d').width('76.000000%')"
       ],
       "metadata": {},
       "output_type": "display_data",
       "text": [
        "<IPython.core.display.Javascript at 0x7f78c621e890>"
       ]
      },
      {
       "javascript": [
        "$('div#f7713e6a-52a1-40f9-b1f5-1dc7825c7d6d').width('77.000000%')"
       ],
       "metadata": {},
       "output_type": "display_data",
       "text": [
        "<IPython.core.display.Javascript at 0x7f78c621e5d0>"
       ]
      },
      {
       "javascript": [
        "$('div#f7713e6a-52a1-40f9-b1f5-1dc7825c7d6d').width('78.000000%')"
       ],
       "metadata": {},
       "output_type": "display_data",
       "text": [
        "<IPython.core.display.Javascript at 0x7f78c621e9d0>"
       ]
      },
      {
       "javascript": [
        "$('div#f7713e6a-52a1-40f9-b1f5-1dc7825c7d6d').width('79.000000%')"
       ],
       "metadata": {},
       "output_type": "display_data",
       "text": [
        "<IPython.core.display.Javascript at 0x7f78c621e910>"
       ]
      },
      {
       "javascript": [
        "$('div#f7713e6a-52a1-40f9-b1f5-1dc7825c7d6d').width('80.000000%')"
       ],
       "metadata": {},
       "output_type": "display_data",
       "text": [
        "<IPython.core.display.Javascript at 0x7f78c621e8d0>"
       ]
      },
      {
       "javascript": [
        "$('div#f7713e6a-52a1-40f9-b1f5-1dc7825c7d6d').width('81.000000%')"
       ],
       "metadata": {},
       "output_type": "display_data",
       "text": [
        "<IPython.core.display.Javascript at 0x7f78c621eb50>"
       ]
      },
      {
       "javascript": [
        "$('div#f7713e6a-52a1-40f9-b1f5-1dc7825c7d6d').width('82.000000%')"
       ],
       "metadata": {},
       "output_type": "display_data",
       "text": [
        "<IPython.core.display.Javascript at 0x7f78c621e710>"
       ]
      },
      {
       "javascript": [
        "$('div#f7713e6a-52a1-40f9-b1f5-1dc7825c7d6d').width('83.000000%')"
       ],
       "metadata": {},
       "output_type": "display_data",
       "text": [
        "<IPython.core.display.Javascript at 0x7f78c621e790>"
       ]
      },
      {
       "javascript": [
        "$('div#f7713e6a-52a1-40f9-b1f5-1dc7825c7d6d').width('84.000000%')"
       ],
       "metadata": {},
       "output_type": "display_data",
       "text": [
        "<IPython.core.display.Javascript at 0x7f78c621e7d0>"
       ]
      },
      {
       "javascript": [
        "$('div#f7713e6a-52a1-40f9-b1f5-1dc7825c7d6d').width('85.000000%')"
       ],
       "metadata": {},
       "output_type": "display_data",
       "text": [
        "<IPython.core.display.Javascript at 0x7f78c621e810>"
       ]
      },
      {
       "javascript": [
        "$('div#f7713e6a-52a1-40f9-b1f5-1dc7825c7d6d').width('86.000000%')"
       ],
       "metadata": {},
       "output_type": "display_data",
       "text": [
        "<IPython.core.display.Javascript at 0x7f78c621e0d0>"
       ]
      },
      {
       "javascript": [
        "$('div#f7713e6a-52a1-40f9-b1f5-1dc7825c7d6d').width('87.000000%')"
       ],
       "metadata": {},
       "output_type": "display_data",
       "text": [
        "<IPython.core.display.Javascript at 0x7f78c621e510>"
       ]
      },
      {
       "javascript": [
        "$('div#f7713e6a-52a1-40f9-b1f5-1dc7825c7d6d').width('88.000000%')"
       ],
       "metadata": {},
       "output_type": "display_data",
       "text": [
        "<IPython.core.display.Javascript at 0x7f78c621e550>"
       ]
      },
      {
       "javascript": [
        "$('div#f7713e6a-52a1-40f9-b1f5-1dc7825c7d6d').width('89.000000%')"
       ],
       "metadata": {},
       "output_type": "display_data",
       "text": [
        "<IPython.core.display.Javascript at 0x7f78c621e6d0>"
       ]
      },
      {
       "javascript": [
        "$('div#f7713e6a-52a1-40f9-b1f5-1dc7825c7d6d').width('90.000000%')"
       ],
       "metadata": {},
       "output_type": "display_data",
       "text": [
        "<IPython.core.display.Javascript at 0x7f78c621e650>"
       ]
      },
      {
       "javascript": [
        "$('div#f7713e6a-52a1-40f9-b1f5-1dc7825c7d6d').width('91.000000%')"
       ],
       "metadata": {},
       "output_type": "display_data",
       "text": [
        "<IPython.core.display.Javascript at 0x7f78c621eb90>"
       ]
      },
      {
       "javascript": [
        "$('div#f7713e6a-52a1-40f9-b1f5-1dc7825c7d6d').width('92.000000%')"
       ],
       "metadata": {},
       "output_type": "display_data",
       "text": [
        "<IPython.core.display.Javascript at 0x7f78c621ebd0>"
       ]
      },
      {
       "javascript": [
        "$('div#f7713e6a-52a1-40f9-b1f5-1dc7825c7d6d').width('93.000000%')"
       ],
       "metadata": {},
       "output_type": "display_data",
       "text": [
        "<IPython.core.display.Javascript at 0x7f78c621ec10>"
       ]
      },
      {
       "javascript": [
        "$('div#f7713e6a-52a1-40f9-b1f5-1dc7825c7d6d').width('94.000000%')"
       ],
       "metadata": {},
       "output_type": "display_data",
       "text": [
        "<IPython.core.display.Javascript at 0x7f78c621ec50>"
       ]
      },
      {
       "javascript": [
        "$('div#f7713e6a-52a1-40f9-b1f5-1dc7825c7d6d').width('95.000000%')"
       ],
       "metadata": {},
       "output_type": "display_data",
       "text": [
        "<IPython.core.display.Javascript at 0x7f78c621ec90>"
       ]
      },
      {
       "javascript": [
        "$('div#f7713e6a-52a1-40f9-b1f5-1dc7825c7d6d').width('96.000000%')"
       ],
       "metadata": {},
       "output_type": "display_data",
       "text": [
        "<IPython.core.display.Javascript at 0x7f78c6206950>"
       ]
      },
      {
       "javascript": [
        "$('div#f7713e6a-52a1-40f9-b1f5-1dc7825c7d6d').width('97.000000%')"
       ],
       "metadata": {},
       "output_type": "display_data",
       "text": [
        "<IPython.core.display.Javascript at 0x7f78c6206b90>"
       ]
      },
      {
       "javascript": [
        "$('div#f7713e6a-52a1-40f9-b1f5-1dc7825c7d6d').width('98.000000%')"
       ],
       "metadata": {},
       "output_type": "display_data",
       "text": [
        "<IPython.core.display.Javascript at 0x7f78c6206650>"
       ]
      },
      {
       "javascript": [
        "$('div#f7713e6a-52a1-40f9-b1f5-1dc7825c7d6d').width('99.000000%')"
       ],
       "metadata": {},
       "output_type": "display_data",
       "text": [
        "<IPython.core.display.Javascript at 0x7f78c6206f90>"
       ]
      },
      {
       "javascript": [
        "$('div#f7713e6a-52a1-40f9-b1f5-1dc7825c7d6d').width('100.000000%')"
       ],
       "metadata": {},
       "output_type": "display_data",
       "text": [
        "<IPython.core.display.Javascript at 0x7f78c6206d90>"
       ]
      },
      {
       "output_type": "stream",
       "stream": "stdout",
       "text": [
        "Running mapper & aggregator on the result objects (number of results=100, chunk size=17)\n"
       ]
      },
      {
       "html": [
        "\n",
        "                          <div style=\"border: 1px solid black; width:500px\">\n",
        "                          <div id=\"580c6ea1-94ca-4ca2-ab08-219a08bb440a\" style=\"background-color:blue; width:0%\">&nbsp;</div>\n",
        "                          </div>\n",
        "                          "
       ],
       "metadata": {},
       "output_type": "display_data",
       "text": [
        "<IPython.core.display.HTML at 0x7f78c6206e90>"
       ]
      },
      {
       "javascript": [
        "$('div#580c6ea1-94ca-4ca2-ab08-219a08bb440a').width('16.666667%')"
       ],
       "metadata": {},
       "output_type": "display_data",
       "text": [
        "<IPython.core.display.Javascript at 0x7f78c6206750>"
       ]
      },
      {
       "javascript": [
        "$('div#580c6ea1-94ca-4ca2-ab08-219a08bb440a').width('33.333333%')"
       ],
       "metadata": {},
       "output_type": "display_data",
       "text": [
        "<IPython.core.display.Javascript at 0x7f78c63981d0>"
       ]
      },
      {
       "javascript": [
        "$('div#580c6ea1-94ca-4ca2-ab08-219a08bb440a').width('50.000000%')"
       ],
       "metadata": {},
       "output_type": "display_data",
       "text": [
        "<IPython.core.display.Javascript at 0x7f78c62d7350>"
       ]
      },
      {
       "javascript": [
        "$('div#580c6ea1-94ca-4ca2-ab08-219a08bb440a').width('66.666667%')"
       ],
       "metadata": {},
       "output_type": "display_data",
       "text": [
        "<IPython.core.display.Javascript at 0x7f78c62d7550>"
       ]
      },
      {
       "javascript": [
        "$('div#580c6ea1-94ca-4ca2-ab08-219a08bb440a').width('83.333333%')"
       ],
       "metadata": {},
       "output_type": "display_data",
       "text": [
        "<IPython.core.display.Javascript at 0x7f78c62d73d0>"
       ]
      },
      {
       "javascript": [
        "$('div#580c6ea1-94ca-4ca2-ab08-219a08bb440a').width('100.000000%')"
       ],
       "metadata": {},
       "output_type": "display_data",
       "text": [
        "<IPython.core.display.Javascript at 0x7f78c63fab90>"
       ]
      },
      {
       "output_type": "stream",
       "stream": "stdout",
       "text": [
        "Running reducer on mapped and aggregated results (size=6)\n",
        "Generating 100 realizations of the model (chunk size=1)\n"
       ]
      },
      {
       "html": [
        "\n",
        "                          <div style=\"border: 1px solid black; width:500px\">\n",
        "                          <div id=\"93a738aa-b393-472d-8d2e-af98278ed115\" style=\"background-color:blue; width:0%\">&nbsp;</div>\n",
        "                          </div>\n",
        "                          "
       ],
       "metadata": {},
       "output_type": "display_data",
       "text": [
        "<IPython.core.display.HTML at 0x7f78c624b5d0>"
       ]
      },
      {
       "javascript": [
        "$('div#93a738aa-b393-472d-8d2e-af98278ed115').width('1.000000%')"
       ],
       "metadata": {},
       "output_type": "display_data",
       "text": [
        "<IPython.core.display.Javascript at 0x7f78c63b7210>"
       ]
      },
      {
       "javascript": [
        "$('div#93a738aa-b393-472d-8d2e-af98278ed115').width('2.000000%')"
       ],
       "metadata": {},
       "output_type": "display_data",
       "text": [
        "<IPython.core.display.Javascript at 0x7f78c632a410>"
       ]
      },
      {
       "javascript": [
        "$('div#93a738aa-b393-472d-8d2e-af98278ed115').width('3.000000%')"
       ],
       "metadata": {},
       "output_type": "display_data",
       "text": [
        "<IPython.core.display.Javascript at 0x7f78c621ec90>"
       ]
      },
      {
       "javascript": [
        "$('div#93a738aa-b393-472d-8d2e-af98278ed115').width('4.000000%')"
       ],
       "metadata": {},
       "output_type": "display_data",
       "text": [
        "<IPython.core.display.Javascript at 0x7f78c621e950>"
       ]
      },
      {
       "javascript": [
        "$('div#93a738aa-b393-472d-8d2e-af98278ed115').width('5.000000%')"
       ],
       "metadata": {},
       "output_type": "display_data",
       "text": [
        "<IPython.core.display.Javascript at 0x7f78c621ea50>"
       ]
      },
      {
       "javascript": [
        "$('div#93a738aa-b393-472d-8d2e-af98278ed115').width('6.000000%')"
       ],
       "metadata": {},
       "output_type": "display_data",
       "text": [
        "<IPython.core.display.Javascript at 0x7f78c621eb10>"
       ]
      },
      {
       "javascript": [
        "$('div#93a738aa-b393-472d-8d2e-af98278ed115').width('7.000000%')"
       ],
       "metadata": {},
       "output_type": "display_data",
       "text": [
        "<IPython.core.display.Javascript at 0x7f78c621ecd0>"
       ]
      },
      {
       "javascript": [
        "$('div#93a738aa-b393-472d-8d2e-af98278ed115').width('8.000000%')"
       ],
       "metadata": {},
       "output_type": "display_data",
       "text": [
        "<IPython.core.display.Javascript at 0x7f78c621ed10>"
       ]
      },
      {
       "javascript": [
        "$('div#93a738aa-b393-472d-8d2e-af98278ed115').width('9.000000%')"
       ],
       "metadata": {},
       "output_type": "display_data",
       "text": [
        "<IPython.core.display.Javascript at 0x7f78c621e590>"
       ]
      },
      {
       "javascript": [
        "$('div#93a738aa-b393-472d-8d2e-af98278ed115').width('10.000000%')"
       ],
       "metadata": {},
       "output_type": "display_data",
       "text": [
        "<IPython.core.display.Javascript at 0x7f78c621ed90>"
       ]
      },
      {
       "javascript": [
        "$('div#93a738aa-b393-472d-8d2e-af98278ed115').width('11.000000%')"
       ],
       "metadata": {},
       "output_type": "display_data",
       "text": [
        "<IPython.core.display.Javascript at 0x7f78c63b73d0>"
       ]
      },
      {
       "javascript": [
        "$('div#93a738aa-b393-472d-8d2e-af98278ed115').width('12.000000%')"
       ],
       "metadata": {},
       "output_type": "display_data",
       "text": [
        "<IPython.core.display.Javascript at 0x7f78c632a410>"
       ]
      },
      {
       "javascript": [
        "$('div#93a738aa-b393-472d-8d2e-af98278ed115').width('13.000000%')"
       ],
       "metadata": {},
       "output_type": "display_data",
       "text": [
        "<IPython.core.display.Javascript at 0x7f78c632a690>"
       ]
      },
      {
       "javascript": [
        "$('div#93a738aa-b393-472d-8d2e-af98278ed115').width('14.000000%')"
       ],
       "metadata": {},
       "output_type": "display_data",
       "text": [
        "<IPython.core.display.Javascript at 0x7f78c63b7210>"
       ]
      },
      {
       "javascript": [
        "$('div#93a738aa-b393-472d-8d2e-af98278ed115').width('15.000000%')"
       ],
       "metadata": {},
       "output_type": "display_data",
       "text": [
        "<IPython.core.display.Javascript at 0x7f78c62d7350>"
       ]
      },
      {
       "javascript": [
        "$('div#93a738aa-b393-472d-8d2e-af98278ed115').width('16.000000%')"
       ],
       "metadata": {},
       "output_type": "display_data",
       "text": [
        "<IPython.core.display.Javascript at 0x7f78c62d7550>"
       ]
      },
      {
       "javascript": [
        "$('div#93a738aa-b393-472d-8d2e-af98278ed115').width('17.000000%')"
       ],
       "metadata": {},
       "output_type": "display_data",
       "text": [
        "<IPython.core.display.Javascript at 0x7f78c62d73d0>"
       ]
      },
      {
       "javascript": [
        "$('div#93a738aa-b393-472d-8d2e-af98278ed115').width('18.000000%')"
       ],
       "metadata": {},
       "output_type": "display_data",
       "text": [
        "<IPython.core.display.Javascript at 0x7f78c6206e90>"
       ]
      },
      {
       "javascript": [
        "$('div#93a738aa-b393-472d-8d2e-af98278ed115').width('19.000000%')"
       ],
       "metadata": {},
       "output_type": "display_data",
       "text": [
        "<IPython.core.display.Javascript at 0x7f78c6206d90>"
       ]
      },
      {
       "javascript": [
        "$('div#93a738aa-b393-472d-8d2e-af98278ed115').width('20.000000%')"
       ],
       "metadata": {},
       "output_type": "display_data",
       "text": [
        "<IPython.core.display.Javascript at 0x7f78c6206f90>"
       ]
      },
      {
       "javascript": [
        "$('div#93a738aa-b393-472d-8d2e-af98278ed115').width('21.000000%')"
       ],
       "metadata": {},
       "output_type": "display_data",
       "text": [
        "<IPython.core.display.Javascript at 0x7f78c6206650>"
       ]
      },
      {
       "javascript": [
        "$('div#93a738aa-b393-472d-8d2e-af98278ed115').width('22.000000%')"
       ],
       "metadata": {},
       "output_type": "display_data",
       "text": [
        "<IPython.core.display.Javascript at 0x7f78c6206b90>"
       ]
      },
      {
       "javascript": [
        "$('div#93a738aa-b393-472d-8d2e-af98278ed115').width('23.000000%')"
       ],
       "metadata": {},
       "output_type": "display_data",
       "text": [
        "<IPython.core.display.Javascript at 0x7f78c6206750>"
       ]
      },
      {
       "javascript": [
        "$('div#93a738aa-b393-472d-8d2e-af98278ed115').width('24.000000%')"
       ],
       "metadata": {},
       "output_type": "display_data",
       "text": [
        "<IPython.core.display.Javascript at 0x7f78c63981d0>"
       ]
      },
      {
       "javascript": [
        "$('div#93a738aa-b393-472d-8d2e-af98278ed115').width('25.000000%')"
       ],
       "metadata": {},
       "output_type": "display_data",
       "text": [
        "<IPython.core.display.Javascript at 0x7f78c621ed50>"
       ]
      },
      {
       "javascript": [
        "$('div#93a738aa-b393-472d-8d2e-af98278ed115').width('26.000000%')"
       ],
       "metadata": {},
       "output_type": "display_data",
       "text": [
        "<IPython.core.display.Javascript at 0x7f78c621edd0>"
       ]
      },
      {
       "javascript": [
        "$('div#93a738aa-b393-472d-8d2e-af98278ed115').width('27.000000%')"
       ],
       "metadata": {},
       "output_type": "display_data",
       "text": [
        "<IPython.core.display.Javascript at 0x7f78c621ead0>"
       ]
      },
      {
       "javascript": [
        "$('div#93a738aa-b393-472d-8d2e-af98278ed115').width('28.000000%')"
       ],
       "metadata": {},
       "output_type": "display_data",
       "text": [
        "<IPython.core.display.Javascript at 0x7f78c621ee50>"
       ]
      },
      {
       "javascript": [
        "$('div#93a738aa-b393-472d-8d2e-af98278ed115').width('29.000000%')"
       ],
       "metadata": {},
       "output_type": "display_data",
       "text": [
        "<IPython.core.display.Javascript at 0x7f78c621ee10>"
       ]
      },
      {
       "javascript": [
        "$('div#93a738aa-b393-472d-8d2e-af98278ed115').width('30.000000%')"
       ],
       "metadata": {},
       "output_type": "display_data",
       "text": [
        "<IPython.core.display.Javascript at 0x7f78c621ec50>"
       ]
      },
      {
       "javascript": [
        "$('div#93a738aa-b393-472d-8d2e-af98278ed115').width('31.000000%')"
       ],
       "metadata": {},
       "output_type": "display_data",
       "text": [
        "<IPython.core.display.Javascript at 0x7f78c621ec10>"
       ]
      },
      {
       "javascript": [
        "$('div#93a738aa-b393-472d-8d2e-af98278ed115').width('32.000000%')"
       ],
       "metadata": {},
       "output_type": "display_data",
       "text": [
        "<IPython.core.display.Javascript at 0x7f78c621ebd0>"
       ]
      },
      {
       "javascript": [
        "$('div#93a738aa-b393-472d-8d2e-af98278ed115').width('33.000000%')"
       ],
       "metadata": {},
       "output_type": "display_data",
       "text": [
        "<IPython.core.display.Javascript at 0x7f78c621e590>"
       ]
      },
      {
       "javascript": [
        "$('div#93a738aa-b393-472d-8d2e-af98278ed115').width('34.000000%')"
       ],
       "metadata": {},
       "output_type": "display_data",
       "text": [
        "<IPython.core.display.Javascript at 0x7f78c621ed10>"
       ]
      },
      {
       "javascript": [
        "$('div#93a738aa-b393-472d-8d2e-af98278ed115').width('35.000000%')"
       ],
       "metadata": {},
       "output_type": "display_data",
       "text": [
        "<IPython.core.display.Javascript at 0x7f78c621ecd0>"
       ]
      },
      {
       "javascript": [
        "$('div#93a738aa-b393-472d-8d2e-af98278ed115').width('36.000000%')"
       ],
       "metadata": {},
       "output_type": "display_data",
       "text": [
        "<IPython.core.display.Javascript at 0x7f78c621eb10>"
       ]
      },
      {
       "javascript": [
        "$('div#93a738aa-b393-472d-8d2e-af98278ed115').width('37.000000%')"
       ],
       "metadata": {},
       "output_type": "display_data",
       "text": [
        "<IPython.core.display.Javascript at 0x7f78c621ea50>"
       ]
      },
      {
       "javascript": [
        "$('div#93a738aa-b393-472d-8d2e-af98278ed115').width('38.000000%')"
       ],
       "metadata": {},
       "output_type": "display_data",
       "text": [
        "<IPython.core.display.Javascript at 0x7f78c621e950>"
       ]
      },
      {
       "javascript": [
        "$('div#93a738aa-b393-472d-8d2e-af98278ed115').width('39.000000%')"
       ],
       "metadata": {},
       "output_type": "display_data",
       "text": [
        "<IPython.core.display.Javascript at 0x7f78c621ec90>"
       ]
      },
      {
       "javascript": [
        "$('div#93a738aa-b393-472d-8d2e-af98278ed115').width('40.000000%')"
       ],
       "metadata": {},
       "output_type": "display_data",
       "text": [
        "<IPython.core.display.Javascript at 0x7f78c621eb90>"
       ]
      },
      {
       "javascript": [
        "$('div#93a738aa-b393-472d-8d2e-af98278ed115').width('41.000000%')"
       ],
       "metadata": {},
       "output_type": "display_data",
       "text": [
        "<IPython.core.display.Javascript at 0x7f78c621e650>"
       ]
      },
      {
       "javascript": [
        "$('div#93a738aa-b393-472d-8d2e-af98278ed115').width('42.000000%')"
       ],
       "metadata": {},
       "output_type": "display_data",
       "text": [
        "<IPython.core.display.Javascript at 0x7f78c621e6d0>"
       ]
      },
      {
       "javascript": [
        "$('div#93a738aa-b393-472d-8d2e-af98278ed115').width('43.000000%')"
       ],
       "metadata": {},
       "output_type": "display_data",
       "text": [
        "<IPython.core.display.Javascript at 0x7f78c621e550>"
       ]
      },
      {
       "javascript": [
        "$('div#93a738aa-b393-472d-8d2e-af98278ed115').width('44.000000%')"
       ],
       "metadata": {},
       "output_type": "display_data",
       "text": [
        "<IPython.core.display.Javascript at 0x7f78c621e510>"
       ]
      },
      {
       "javascript": [
        "$('div#93a738aa-b393-472d-8d2e-af98278ed115').width('45.000000%')"
       ],
       "metadata": {},
       "output_type": "display_data",
       "text": [
        "<IPython.core.display.Javascript at 0x7f78c621e0d0>"
       ]
      },
      {
       "javascript": [
        "$('div#93a738aa-b393-472d-8d2e-af98278ed115').width('46.000000%')"
       ],
       "metadata": {},
       "output_type": "display_data",
       "text": [
        "<IPython.core.display.Javascript at 0x7f78c621e810>"
       ]
      },
      {
       "javascript": [
        "$('div#93a738aa-b393-472d-8d2e-af98278ed115').width('47.000000%')"
       ],
       "metadata": {},
       "output_type": "display_data",
       "text": [
        "<IPython.core.display.Javascript at 0x7f78c621e7d0>"
       ]
      },
      {
       "javascript": [
        "$('div#93a738aa-b393-472d-8d2e-af98278ed115').width('48.000000%')"
       ],
       "metadata": {},
       "output_type": "display_data",
       "text": [
        "<IPython.core.display.Javascript at 0x7f78c621e790>"
       ]
      },
      {
       "javascript": [
        "$('div#93a738aa-b393-472d-8d2e-af98278ed115').width('49.000000%')"
       ],
       "metadata": {},
       "output_type": "display_data",
       "text": [
        "<IPython.core.display.Javascript at 0x7f78c621e710>"
       ]
      },
      {
       "javascript": [
        "$('div#93a738aa-b393-472d-8d2e-af98278ed115').width('50.000000%')"
       ],
       "metadata": {},
       "output_type": "display_data",
       "text": [
        "<IPython.core.display.Javascript at 0x7f78c621eb50>"
       ]
      },
      {
       "javascript": [
        "$('div#93a738aa-b393-472d-8d2e-af98278ed115').width('51.000000%')"
       ],
       "metadata": {},
       "output_type": "display_data",
       "text": [
        "<IPython.core.display.Javascript at 0x7f78c621e8d0>"
       ]
      },
      {
       "javascript": [
        "$('div#93a738aa-b393-472d-8d2e-af98278ed115').width('52.000000%')"
       ],
       "metadata": {},
       "output_type": "display_data",
       "text": [
        "<IPython.core.display.Javascript at 0x7f78c621e910>"
       ]
      },
      {
       "javascript": [
        "$('div#93a738aa-b393-472d-8d2e-af98278ed115').width('53.000000%')"
       ],
       "metadata": {},
       "output_type": "display_data",
       "text": [
        "<IPython.core.display.Javascript at 0x7f78c621e9d0>"
       ]
      },
      {
       "javascript": [
        "$('div#93a738aa-b393-472d-8d2e-af98278ed115').width('54.000000%')"
       ],
       "metadata": {},
       "output_type": "display_data",
       "text": [
        "<IPython.core.display.Javascript at 0x7f78c621e5d0>"
       ]
      },
      {
       "javascript": [
        "$('div#93a738aa-b393-472d-8d2e-af98278ed115').width('55.000000%')"
       ],
       "metadata": {},
       "output_type": "display_data",
       "text": [
        "<IPython.core.display.Javascript at 0x7f78c621e890>"
       ]
      },
      {
       "javascript": [
        "$('div#93a738aa-b393-472d-8d2e-af98278ed115').width('56.000000%')"
       ],
       "metadata": {},
       "output_type": "display_data",
       "text": [
        "<IPython.core.display.Javascript at 0x7f78c621e850>"
       ]
      },
      {
       "javascript": [
        "$('div#93a738aa-b393-472d-8d2e-af98278ed115').width('57.000000%')"
       ],
       "metadata": {},
       "output_type": "display_data",
       "text": [
        "<IPython.core.display.Javascript at 0x7f78c621e610>"
       ]
      },
      {
       "javascript": [
        "$('div#93a738aa-b393-472d-8d2e-af98278ed115').width('58.000000%')"
       ],
       "metadata": {},
       "output_type": "display_data",
       "text": [
        "<IPython.core.display.Javascript at 0x7f78c621ea10>"
       ]
      },
      {
       "javascript": [
        "$('div#93a738aa-b393-472d-8d2e-af98278ed115').width('59.000000%')"
       ],
       "metadata": {},
       "output_type": "display_data",
       "text": [
        "<IPython.core.display.Javascript at 0x7f78c621e490>"
       ]
      },
      {
       "javascript": [
        "$('div#93a738aa-b393-472d-8d2e-af98278ed115').width('60.000000%')"
       ],
       "metadata": {},
       "output_type": "display_data",
       "text": [
        "<IPython.core.display.Javascript at 0x7f78c621e4d0>"
       ]
      },
      {
       "javascript": [
        "$('div#93a738aa-b393-472d-8d2e-af98278ed115').width('61.000000%')"
       ],
       "metadata": {},
       "output_type": "display_data",
       "text": [
        "<IPython.core.display.Javascript at 0x7f78c621e410>"
       ]
      },
      {
       "javascript": [
        "$('div#93a738aa-b393-472d-8d2e-af98278ed115').width('62.000000%')"
       ],
       "metadata": {},
       "output_type": "display_data",
       "text": [
        "<IPython.core.display.Javascript at 0x7f78c621e990>"
       ]
      },
      {
       "javascript": [
        "$('div#93a738aa-b393-472d-8d2e-af98278ed115').width('63.000000%')"
       ],
       "metadata": {},
       "output_type": "display_data",
       "text": [
        "<IPython.core.display.Javascript at 0x7f78c621e750>"
       ]
      },
      {
       "javascript": [
        "$('div#93a738aa-b393-472d-8d2e-af98278ed115').width('64.000000%')"
       ],
       "metadata": {},
       "output_type": "display_data",
       "text": [
        "<IPython.core.display.Javascript at 0x7f78c621ee90>"
       ]
      },
      {
       "javascript": [
        "$('div#93a738aa-b393-472d-8d2e-af98278ed115').width('65.000000%')"
       ],
       "metadata": {},
       "output_type": "display_data",
       "text": [
        "<IPython.core.display.Javascript at 0x7f78c621eed0>"
       ]
      },
      {
       "javascript": [
        "$('div#93a738aa-b393-472d-8d2e-af98278ed115').width('66.000000%')"
       ],
       "metadata": {},
       "output_type": "display_data",
       "text": [
        "<IPython.core.display.Javascript at 0x7f78c621eed0>"
       ]
      },
      {
       "javascript": [
        "$('div#93a738aa-b393-472d-8d2e-af98278ed115').width('67.000000%')"
       ],
       "metadata": {},
       "output_type": "display_data",
       "text": [
        "<IPython.core.display.Javascript at 0x7f78c621ef50>"
       ]
      },
      {
       "javascript": [
        "$('div#93a738aa-b393-472d-8d2e-af98278ed115').width('68.000000%')"
       ],
       "metadata": {},
       "output_type": "display_data",
       "text": [
        "<IPython.core.display.Javascript at 0x7f78c621ef10>"
       ]
      },
      {
       "javascript": [
        "$('div#93a738aa-b393-472d-8d2e-af98278ed115').width('69.000000%')"
       ],
       "metadata": {},
       "output_type": "display_data",
       "text": [
        "<IPython.core.display.Javascript at 0x7f78c621ee90>"
       ]
      },
      {
       "javascript": [
        "$('div#93a738aa-b393-472d-8d2e-af98278ed115').width('70.000000%')"
       ],
       "metadata": {},
       "output_type": "display_data",
       "text": [
        "<IPython.core.display.Javascript at 0x7f78c621efd0>"
       ]
      },
      {
       "javascript": [
        "$('div#93a738aa-b393-472d-8d2e-af98278ed115').width('71.000000%')"
       ],
       "metadata": {},
       "output_type": "display_data",
       "text": [
        "<IPython.core.display.Javascript at 0x7f78c621e750>"
       ]
      },
      {
       "javascript": [
        "$('div#93a738aa-b393-472d-8d2e-af98278ed115').width('72.000000%')"
       ],
       "metadata": {},
       "output_type": "display_data",
       "text": [
        "<IPython.core.display.Javascript at 0x7f78c621ef90>"
       ]
      },
      {
       "javascript": [
        "$('div#93a738aa-b393-472d-8d2e-af98278ed115').width('73.000000%')"
       ],
       "metadata": {},
       "output_type": "display_data",
       "text": [
        "<IPython.core.display.Javascript at 0x7f78c621e410>"
       ]
      },
      {
       "javascript": [
        "$('div#93a738aa-b393-472d-8d2e-af98278ed115').width('74.000000%')"
       ],
       "metadata": {},
       "output_type": "display_data",
       "text": [
        "<IPython.core.display.Javascript at 0x7f78c621e990>"
       ]
      },
      {
       "javascript": [
        "$('div#93a738aa-b393-472d-8d2e-af98278ed115').width('75.000000%')"
       ],
       "metadata": {},
       "output_type": "display_data",
       "text": [
        "<IPython.core.display.Javascript at 0x7f78c621e490>"
       ]
      },
      {
       "javascript": [
        "$('div#93a738aa-b393-472d-8d2e-af98278ed115').width('76.000000%')"
       ],
       "metadata": {},
       "output_type": "display_data",
       "text": [
        "<IPython.core.display.Javascript at 0x7f78c621e4d0>"
       ]
      },
      {
       "javascript": [
        "$('div#93a738aa-b393-472d-8d2e-af98278ed115').width('77.000000%')"
       ],
       "metadata": {},
       "output_type": "display_data",
       "text": [
        "<IPython.core.display.Javascript at 0x7f78c621e610>"
       ]
      },
      {
       "javascript": [
        "$('div#93a738aa-b393-472d-8d2e-af98278ed115').width('78.000000%')"
       ],
       "metadata": {},
       "output_type": "display_data",
       "text": [
        "<IPython.core.display.Javascript at 0x7f78c621ea10>"
       ]
      },
      {
       "javascript": [
        "$('div#93a738aa-b393-472d-8d2e-af98278ed115').width('79.000000%')"
       ],
       "metadata": {},
       "output_type": "display_data",
       "text": [
        "<IPython.core.display.Javascript at 0x7f78c621e890>"
       ]
      },
      {
       "javascript": [
        "$('div#93a738aa-b393-472d-8d2e-af98278ed115').width('80.000000%')"
       ],
       "metadata": {},
       "output_type": "display_data",
       "text": [
        "<IPython.core.display.Javascript at 0x7f78c621e850>"
       ]
      },
      {
       "javascript": [
        "$('div#93a738aa-b393-472d-8d2e-af98278ed115').width('81.000000%')"
       ],
       "metadata": {},
       "output_type": "display_data",
       "text": [
        "<IPython.core.display.Javascript at 0x7f78c621e9d0>"
       ]
      },
      {
       "javascript": [
        "$('div#93a738aa-b393-472d-8d2e-af98278ed115').width('82.000000%')"
       ],
       "metadata": {},
       "output_type": "display_data",
       "text": [
        "<IPython.core.display.Javascript at 0x7f78c621e5d0>"
       ]
      },
      {
       "javascript": [
        "$('div#93a738aa-b393-472d-8d2e-af98278ed115').width('83.000000%')"
       ],
       "metadata": {},
       "output_type": "display_data",
       "text": [
        "<IPython.core.display.Javascript at 0x7f78c621e8d0>"
       ]
      },
      {
       "javascript": [
        "$('div#93a738aa-b393-472d-8d2e-af98278ed115').width('84.000000%')"
       ],
       "metadata": {},
       "output_type": "display_data",
       "text": [
        "<IPython.core.display.Javascript at 0x7f78c621eb50>"
       ]
      },
      {
       "javascript": [
        "$('div#93a738aa-b393-472d-8d2e-af98278ed115').width('85.000000%')"
       ],
       "metadata": {},
       "output_type": "display_data",
       "text": [
        "<IPython.core.display.Javascript at 0x7f78c621e710>"
       ]
      },
      {
       "javascript": [
        "$('div#93a738aa-b393-472d-8d2e-af98278ed115').width('86.000000%')"
       ],
       "metadata": {},
       "output_type": "display_data",
       "text": [
        "<IPython.core.display.Javascript at 0x7f78c621e790>"
       ]
      },
      {
       "javascript": [
        "$('div#93a738aa-b393-472d-8d2e-af98278ed115').width('87.000000%')"
       ],
       "metadata": {},
       "output_type": "display_data",
       "text": [
        "<IPython.core.display.Javascript at 0x7f78c621e7d0>"
       ]
      },
      {
       "javascript": [
        "$('div#93a738aa-b393-472d-8d2e-af98278ed115').width('88.000000%')"
       ],
       "metadata": {},
       "output_type": "display_data",
       "text": [
        "<IPython.core.display.Javascript at 0x7f78c621e910>"
       ]
      },
      {
       "javascript": [
        "$('div#93a738aa-b393-472d-8d2e-af98278ed115').width('89.000000%')"
       ],
       "metadata": {},
       "output_type": "display_data",
       "text": [
        "<IPython.core.display.Javascript at 0x7f78c621e0d0>"
       ]
      },
      {
       "javascript": [
        "$('div#93a738aa-b393-472d-8d2e-af98278ed115').width('90.000000%')"
       ],
       "metadata": {},
       "output_type": "display_data",
       "text": [
        "<IPython.core.display.Javascript at 0x7f78c621e510>"
       ]
      },
      {
       "javascript": [
        "$('div#93a738aa-b393-472d-8d2e-af98278ed115').width('91.000000%')"
       ],
       "metadata": {},
       "output_type": "display_data",
       "text": [
        "<IPython.core.display.Javascript at 0x7f78c621e550>"
       ]
      },
      {
       "javascript": [
        "$('div#93a738aa-b393-472d-8d2e-af98278ed115').width('92.000000%')"
       ],
       "metadata": {},
       "output_type": "display_data",
       "text": [
        "<IPython.core.display.Javascript at 0x7f78c621e810>"
       ]
      },
      {
       "javascript": [
        "$('div#93a738aa-b393-472d-8d2e-af98278ed115').width('93.000000%')"
       ],
       "metadata": {},
       "output_type": "display_data",
       "text": [
        "<IPython.core.display.Javascript at 0x7f78c621e650>"
       ]
      },
      {
       "javascript": [
        "$('div#93a738aa-b393-472d-8d2e-af98278ed115').width('94.000000%')"
       ],
       "metadata": {},
       "output_type": "display_data",
       "text": [
        "<IPython.core.display.Javascript at 0x7f78c621eb90>"
       ]
      },
      {
       "javascript": [
        "$('div#93a738aa-b393-472d-8d2e-af98278ed115').width('95.000000%')"
       ],
       "metadata": {},
       "output_type": "display_data",
       "text": [
        "<IPython.core.display.Javascript at 0x7f78c621ec90>"
       ]
      },
      {
       "javascript": [
        "$('div#93a738aa-b393-472d-8d2e-af98278ed115').width('96.000000%')"
       ],
       "metadata": {},
       "output_type": "display_data",
       "text": [
        "<IPython.core.display.Javascript at 0x7f78c621e6d0>"
       ]
      },
      {
       "javascript": [
        "$('div#93a738aa-b393-472d-8d2e-af98278ed115').width('97.000000%')"
       ],
       "metadata": {},
       "output_type": "display_data",
       "text": [
        "<IPython.core.display.Javascript at 0x7f78c621ea50>"
       ]
      },
      {
       "javascript": [
        "$('div#93a738aa-b393-472d-8d2e-af98278ed115').width('98.000000%')"
       ],
       "metadata": {},
       "output_type": "display_data",
       "text": [
        "<IPython.core.display.Javascript at 0x7f78c621e950>"
       ]
      },
      {
       "javascript": [
        "$('div#93a738aa-b393-472d-8d2e-af98278ed115').width('99.000000%')"
       ],
       "metadata": {},
       "output_type": "display_data",
       "text": [
        "<IPython.core.display.Javascript at 0x7f78c621ecd0>"
       ]
      },
      {
       "javascript": [
        "$('div#93a738aa-b393-472d-8d2e-af98278ed115').width('100.000000%')"
       ],
       "metadata": {},
       "output_type": "display_data",
       "text": [
        "<IPython.core.display.Javascript at 0x7f78c621eb10>"
       ]
      },
      {
       "output_type": "stream",
       "stream": "stdout",
       "text": [
        "Running mapper & aggregator on the result objects (number of results=100, chunk size=17)\n"
       ]
      },
      {
       "html": [
        "\n",
        "                          <div style=\"border: 1px solid black; width:500px\">\n",
        "                          <div id=\"d55de827-4881-4d8f-a80c-e10be2b9d522\" style=\"background-color:blue; width:0%\">&nbsp;</div>\n",
        "                          </div>\n",
        "                          "
       ],
       "metadata": {},
       "output_type": "display_data",
       "text": [
        "<IPython.core.display.HTML at 0x7f78c62de350>"
       ]
      },
      {
       "javascript": [
        "$('div#d55de827-4881-4d8f-a80c-e10be2b9d522').width('16.666667%')"
       ],
       "metadata": {},
       "output_type": "display_data",
       "text": [
        "<IPython.core.display.Javascript at 0x7f78c621e590>"
       ]
      },
      {
       "javascript": [
        "$('div#d55de827-4881-4d8f-a80c-e10be2b9d522').width('33.333333%')"
       ],
       "metadata": {},
       "output_type": "display_data",
       "text": [
        "<IPython.core.display.Javascript at 0x7f78c621ec10>"
       ]
      },
      {
       "javascript": [
        "$('div#d55de827-4881-4d8f-a80c-e10be2b9d522').width('50.000000%')"
       ],
       "metadata": {},
       "output_type": "display_data",
       "text": [
        "<IPython.core.display.Javascript at 0x7f78c621ed10>"
       ]
      },
      {
       "javascript": [
        "$('div#d55de827-4881-4d8f-a80c-e10be2b9d522').width('66.666667%')"
       ],
       "metadata": {},
       "output_type": "display_data",
       "text": [
        "<IPython.core.display.Javascript at 0x7f78c621ed90>"
       ]
      },
      {
       "javascript": [
        "$('div#d55de827-4881-4d8f-a80c-e10be2b9d522').width('83.333333%')"
       ],
       "metadata": {},
       "output_type": "display_data",
       "text": [
        "<IPython.core.display.Javascript at 0x7f78c621ec50>"
       ]
      },
      {
       "javascript": [
        "$('div#d55de827-4881-4d8f-a80c-e10be2b9d522').width('100.000000%')"
       ],
       "metadata": {},
       "output_type": "display_data",
       "text": [
        "<IPython.core.display.Javascript at 0x7f78c621ee10>"
       ]
      },
      {
       "output_type": "stream",
       "stream": "stdout",
       "text": [
        "Running reducer on mapped and aggregated results (size=6)\n",
        "[237.011708, 236.899068, 237.664288, 237.6793, 237.817899, 239.255039, 240.365978, 240.605521, 241.400198]\n"
       ]
      }
     ],
     "prompt_number": 48
    },
    {
     "cell_type": "code",
     "collapsed": false,
     "input": [
      "plt.clf()\n",
      "#fit = numpy.polyfit(vary_timepoints, bm2_wall_time,1)\n",
      "#print fit\n",
      "plt.plot(numpy.array(bm2_file_size)/1024 , bm2_wall_time,'.-b')\n",
      "#fitstr = \"Slope: %e\\nY-intercept: %e\" % (fit[0], fit[1])\n",
      "#plt.text(vary_timepoints[0],0.9*max(bm2_wall_time), fitstr)\n",
      "plt.xlabel('PyURDME result size (KB)')\n",
      "plt.ylabel('Computation Time')\n",
      "plt.title('I/O Overhead Benchmark: \\nConstant Computation, Vary Data')"
     ],
     "language": "python",
     "metadata": {},
     "outputs": [
      {
       "metadata": {},
       "output_type": "pyout",
       "prompt_number": 55,
       "text": [
        "<matplotlib.text.Text at 0x7f78c5569dd0>"
       ]
      },
      {
       "metadata": {},
       "output_type": "display_data",
       "png": "[encoded data removed]",
       "text": [
        "<matplotlib.figure.Figure at 0x7f78c56382d0>"
       ]
      }
     ],
     "prompt_number": 55
    },
    {
     "cell_type": "code",
     "collapsed": false,
     "input": [],
     "language": "python",
     "metadata": {},
     "outputs": []
    },
    {
     "cell_type": "code",
     "collapsed": false,
     "input": [
      "plt.clf()\n",
      "#fit = numpy.polyfit(vary_timepoints, bm2_wall_time,1)\n",
      "#print fit\n",
      "plt.plot(vary_timepoints, bm2_wall_time,'.-b')\n",
      "#fitstr = \"Slope: %e\\nY-intercept: %e\" % (fit[0], fit[1])\n",
      "#plt.text(vary_timepoints[0],0.9*max(bm2_wall_time), fitstr)\n",
      "plt.xlabel('Number of timepoints (output size)')\n",
      "plt.ylabel('Computation Time')\n",
      "plt.title('I/O Overhead Benchmark: \\nConstant Computation, Vary Data')"
     ],
     "language": "python",
     "metadata": {},
     "outputs": [
      {
       "metadata": {},
       "output_type": "pyout",
       "prompt_number": 50,
       "text": [
        "<matplotlib.text.Text at 0x7f78c5643510>"
       ]
      },
      {
       "metadata": {},
       "output_type": "display_data",
       "png": "[encoded data removed]",
       "text": [
        "<matplotlib.figure.Figure at 0x7f78c6262990>"
       ]
      }
     ],
     "prompt_number": 50
    },
    {
     "cell_type": "code",
     "collapsed": false,
     "input": [],
     "language": "python",
     "metadata": {},
     "outputs": []
    },
    {
     "cell_type": "code",
     "collapsed": false,
     "input": [],
     "language": "python",
     "metadata": {},
     "outputs": []
    },
    {
     "cell_type": "heading",
     "level": 3,
     "metadata": {},
     "source": [
      "3. Constant computation and data, vary \"Chunk Size\": shows scheduling overhead."
     ]
    },
    {
     "cell_type": "code",
     "collapsed": false,
     "input": [
      "tf3 = 100\n",
      "num_timepoints3 = 20\n",
      "bm3_wall_time = []\n",
      "vary_chunksize = [1, 5, 10, 20, 50, 100]\n",
      "for c in vary_chunksize:\n",
      "    ts = numpy.linspace(0,tf3,num_timepoints3+1)\n",
      "    ensemble = DistributedEnsemble(model_class=SimpleDiffusion, parameters={'timespan':ts})\n",
      "    res  = ensemble.add_realizations(number_of_realizations=600, chunk_size=c)\n",
      "    bm3_wall_time.append(res[\"wall_time\"])\n",
      "print bm3_wall_time\n"
     ],
     "language": "python",
     "metadata": {},
     "outputs": [
      {
       "output_type": "stream",
       "stream": "stdout",
       "text": [
        "Generating 600 realizations of the model (chunk size=1)\n"
       ]
      },
      {
       "html": [
        "\n",
        "                          <div style=\"border: 1px solid black; width:500px\">\n",
        "                          <div id=\"2da45b90-d9d5-4852-99e6-327787dd6bbb\" style=\"background-color:blue; width:0%\">&nbsp;</div>\n",
        "                          </div>\n",
        "                          "
       ],
       "metadata": {},
       "output_type": "display_data",
       "text": [
        "<IPython.core.display.HTML at 0x7f78c6752090>"
       ]
      },
      {
       "javascript": [
        "$('div#2da45b90-d9d5-4852-99e6-327787dd6bbb').width('0.166667%')"
       ],
       "metadata": {},
       "output_type": "display_data",
       "text": [
        "<IPython.core.display.Javascript at 0x7f78c67ee710>"
       ]
      },
      {
       "javascript": [
        "$('div#2da45b90-d9d5-4852-99e6-327787dd6bbb').width('0.333333%')"
       ],
       "metadata": {},
       "output_type": "display_data",
       "text": [
        "<IPython.core.display.Javascript at 0x7f78c67ee810>"
       ]
      },
      {
       "javascript": [
        "$('div#2da45b90-d9d5-4852-99e6-327787dd6bbb').width('0.500000%')"
       ],
       "metadata": {},
       "output_type": "display_data",
       "text": [
        "<IPython.core.display.Javascript at 0x7f78c67ee0d0>"
       ]
      },
      {
       "javascript": [
        "$('div#2da45b90-d9d5-4852-99e6-327787dd6bbb').width('0.666667%')"
       ],
       "metadata": {},
       "output_type": "display_data",
       "text": [
        "<IPython.core.display.Javascript at 0x7f78c67ee990>"
       ]
      },
      {
       "javascript": [
        "$('div#2da45b90-d9d5-4852-99e6-327787dd6bbb').width('0.833333%')"
       ],
       "metadata": {},
       "output_type": "display_data",
       "text": [
        "<IPython.core.display.Javascript at 0x7f78c67ee310>"
       ]
      },
      {
       "javascript": [
        "$('div#2da45b90-d9d5-4852-99e6-327787dd6bbb').width('1.000000%')"
       ],
       "metadata": {},
       "output_type": "display_data",
       "text": [
        "<IPython.core.display.Javascript at 0x7f78c67eed90>"
       ]
      },
      {
       "javascript": [
        "$('div#2da45b90-d9d5-4852-99e6-327787dd6bbb').width('1.166667%')"
       ],
       "metadata": {},
       "output_type": "display_data",
       "text": [
        "<IPython.core.display.Javascript at 0x7f78c67ee8d0>"
       ]
      },
      {
       "javascript": [
        "$('div#2da45b90-d9d5-4852-99e6-327787dd6bbb').width('1.333333%')"
       ],
       "metadata": {},
       "output_type": "display_data",
       "text": [
        "<IPython.core.display.Javascript at 0x7f78c67ee950>"
       ]
      },
      {
       "javascript": [
        "$('div#2da45b90-d9d5-4852-99e6-327787dd6bbb').width('1.500000%')"
       ],
       "metadata": {},
       "output_type": "display_data",
       "text": [
        "<IPython.core.display.Javascript at 0x7f78c67ee3d0>"
       ]
      },
      {
       "javascript": [
        "$('div#2da45b90-d9d5-4852-99e6-327787dd6bbb').width('1.666667%')"
       ],
       "metadata": {},
       "output_type": "display_data",
       "text": [
        "<IPython.core.display.Javascript at 0x7f78c67ee450>"
       ]
      },
      {
       "javascript": [
        "$('div#2da45b90-d9d5-4852-99e6-327787dd6bbb').width('1.833333%')"
       ],
       "metadata": {},
       "output_type": "display_data",
       "text": [
        "<IPython.core.display.Javascript at 0x7f78c67ee490>"
       ]
      },
      {
       "javascript": [
        "$('div#2da45b90-d9d5-4852-99e6-327787dd6bbb').width('2.000000%')"
       ],
       "metadata": {},
       "output_type": "display_data",
       "text": [
        "<IPython.core.display.Javascript at 0x7f78c67ee2d0>"
       ]
      },
      {
       "javascript": [
        "$('div#2da45b90-d9d5-4852-99e6-327787dd6bbb').width('2.166667%')"
       ],
       "metadata": {},
       "output_type": "display_data",
       "text": [
        "<IPython.core.display.Javascript at 0x7f78c67ee350>"
       ]
      },
      {
       "javascript": [
        "$('div#2da45b90-d9d5-4852-99e6-327787dd6bbb').width('2.333333%')"
       ],
       "metadata": {},
       "output_type": "display_data",
       "text": [
        "<IPython.core.display.Javascript at 0x7f78c67ee1d0>"
       ]
      },
      {
       "javascript": [
        "$('div#2da45b90-d9d5-4852-99e6-327787dd6bbb').width('2.500000%')"
       ],
       "metadata": {},
       "output_type": "display_data",
       "text": [
        "<IPython.core.display.Javascript at 0x7f78c67ee890>"
       ]
      },
      {
       "javascript": [
        "$('div#2da45b90-d9d5-4852-99e6-327787dd6bbb').width('2.666667%')"
       ],
       "metadata": {},
       "output_type": "display_data",
       "text": [
        "<IPython.core.display.Javascript at 0x7f78c67528d0>"
       ]
      },
      {
       "javascript": [
        "$('div#2da45b90-d9d5-4852-99e6-327787dd6bbb').width('2.833333%')"
       ],
       "metadata": {},
       "output_type": "display_data",
       "text": [
        "<IPython.core.display.Javascript at 0x7f78c67e3950>"
       ]
      },
      {
       "javascript": [
        "$('div#2da45b90-d9d5-4852-99e6-327787dd6bbb').width('3.000000%')"
       ],
       "metadata": {},
       "output_type": "display_data",
       "text": [
        "<IPython.core.display.Javascript at 0x7f78c67e3a90>"
       ]
      },
      {
       "javascript": [
        "$('div#2da45b90-d9d5-4852-99e6-327787dd6bbb').width('3.166667%')"
       ],
       "metadata": {},
       "output_type": "display_data",
       "text": [
        "<IPython.core.display.Javascript at 0x7f78c67e3b50>"
       ]
      },
      {
       "javascript": [
        "$('div#2da45b90-d9d5-4852-99e6-327787dd6bbb').width('3.333333%')"
       ],
       "metadata": {},
       "output_type": "display_data",
       "text": [
        "<IPython.core.display.Javascript at 0x7f78c67e3cd0>"
       ]
      },
      {
       "javascript": [
        "$('div#2da45b90-d9d5-4852-99e6-327787dd6bbb').width('3.500000%')"
       ],
       "metadata": {},
       "output_type": "display_data",
       "text": [
        "<IPython.core.display.Javascript at 0x7f78c67e3f90>"
       ]
      },
      {
       "javascript": [
        "$('div#2da45b90-d9d5-4852-99e6-327787dd6bbb').width('3.666667%')"
       ],
       "metadata": {},
       "output_type": "display_data",
       "text": [
        "<IPython.core.display.Javascript at 0x7f78c67e3350>"
       ]
      },
      {
       "javascript": [
        "$('div#2da45b90-d9d5-4852-99e6-327787dd6bbb').width('3.833333%')"
       ],
       "metadata": {},
       "output_type": "display_data",
       "text": [
        "<IPython.core.display.Javascript at 0x7f78c67e3550>"
       ]
      },
      {
       "javascript": [
        "$('div#2da45b90-d9d5-4852-99e6-327787dd6bbb').width('4.000000%')"
       ],
       "metadata": {},
       "output_type": "display_data",
       "text": [
        "<IPython.core.display.Javascript at 0x7f78c67e3890>"
       ]
      },
      {
       "javascript": [
        "$('div#2da45b90-d9d5-4852-99e6-327787dd6bbb').width('4.166667%')"
       ],
       "metadata": {},
       "output_type": "display_data",
       "text": [
        "<IPython.core.display.Javascript at 0x7f78c67e3810>"
       ]
      },
      {
       "javascript": [
        "$('div#2da45b90-d9d5-4852-99e6-327787dd6bbb').width('4.333333%')"
       ],
       "metadata": {},
       "output_type": "display_data",
       "text": [
        "<IPython.core.display.Javascript at 0x7f78c67e3c90>"
       ]
      },
      {
       "javascript": [
        "$('div#2da45b90-d9d5-4852-99e6-327787dd6bbb').width('4.500000%')"
       ],
       "metadata": {},
       "output_type": "display_data",
       "text": [
        "<IPython.core.display.Javascript at 0x7f78c67e3d10>"
       ]
      },
      {
       "javascript": [
        "$('div#2da45b90-d9d5-4852-99e6-327787dd6bbb').width('4.666667%')"
       ],
       "metadata": {},
       "output_type": "display_data",
       "text": [
        "<IPython.core.display.Javascript at 0x7f78c67e3d50>"
       ]
      },
      {
       "javascript": [
        "$('div#2da45b90-d9d5-4852-99e6-327787dd6bbb').width('4.833333%')"
       ],
       "metadata": {},
       "output_type": "display_data",
       "text": [
        "<IPython.core.display.Javascript at 0x7f78c67e3b90>"
       ]
      },
      {
       "javascript": [
        "$('div#2da45b90-d9d5-4852-99e6-327787dd6bbb').width('5.000000%')"
       ],
       "metadata": {},
       "output_type": "display_data",
       "text": [
        "<IPython.core.display.Javascript at 0x7f78c67e3c10>"
       ]
      },
      {
       "javascript": [
        "$('div#2da45b90-d9d5-4852-99e6-327787dd6bbb').width('5.166667%')"
       ],
       "metadata": {},
       "output_type": "display_data",
       "text": [
        "<IPython.core.display.Javascript at 0x7f78c67e3a10>"
       ]
      },
      {
       "javascript": [
        "$('div#2da45b90-d9d5-4852-99e6-327787dd6bbb').width('5.333333%')"
       ],
       "metadata": {},
       "output_type": "display_data",
       "text": [
        "<IPython.core.display.Javascript at 0x7f78c67e3a50>"
       ]
      },
      {
       "javascript": [
        "$('div#2da45b90-d9d5-4852-99e6-327787dd6bbb').width('5.500000%')"
       ],
       "metadata": {},
       "output_type": "display_data",
       "text": [
        "<IPython.core.display.Javascript at 0x7f78c67e34d0>"
       ]
      },
      {
       "javascript": [
        "$('div#2da45b90-d9d5-4852-99e6-327787dd6bbb').width('5.666667%')"
       ],
       "metadata": {},
       "output_type": "display_data",
       "text": [
        "<IPython.core.display.Javascript at 0x7f78c67e3510>"
       ]
      },
      {
       "javascript": [
        "$('div#2da45b90-d9d5-4852-99e6-327787dd6bbb').width('5.833333%')"
       ],
       "metadata": {},
       "output_type": "display_data",
       "text": [
        "<IPython.core.display.Javascript at 0x7f78c67e3590>"
       ]
      },
      {
       "javascript": [
        "$('div#2da45b90-d9d5-4852-99e6-327787dd6bbb').width('6.000000%')"
       ],
       "metadata": {},
       "output_type": "display_data",
       "text": [
        "<IPython.core.display.Javascript at 0x7f78c67e3050>"
       ]
      },
      {
       "javascript": [
        "$('div#2da45b90-d9d5-4852-99e6-327787dd6bbb').width('6.166667%')"
       ],
       "metadata": {},
       "output_type": "display_data",
       "text": [
        "<IPython.core.display.Javascript at 0x7f78c67e30d0>"
       ]
      },
      {
       "javascript": [
        "$('div#2da45b90-d9d5-4852-99e6-327787dd6bbb').width('6.333333%')"
       ],
       "metadata": {},
       "output_type": "display_data",
       "text": [
        "<IPython.core.display.Javascript at 0x7f78c67e3050>"
       ]
      },
      {
       "javascript": [
        "$('div#2da45b90-d9d5-4852-99e6-327787dd6bbb').width('6.500000%')"
       ],
       "metadata": {},
       "output_type": "display_data",
       "text": [
        "<IPython.core.display.Javascript at 0x7f78c67e3450>"
       ]
      },
      {
       "javascript": [
        "$('div#2da45b90-d9d5-4852-99e6-327787dd6bbb').width('6.666667%')"
       ],
       "metadata": {},
       "output_type": "display_data",
       "text": [
        "<IPython.core.display.Javascript at 0x7f78c67e34d0>"
       ]
      },
      {
       "javascript": [
        "$('div#2da45b90-d9d5-4852-99e6-327787dd6bbb').width('6.833333%')"
       ],
       "metadata": {},
       "output_type": "display_data",
       "text": [
        "<IPython.core.display.Javascript at 0x7f78c67e3a50>"
       ]
      },
      {
       "javascript": [
        "$('div#2da45b90-d9d5-4852-99e6-327787dd6bbb').width('7.000000%')"
       ],
       "metadata": {},
       "output_type": "display_data",
       "text": [
        "<IPython.core.display.Javascript at 0x7f78c67e3510>"
       ]
      },
      {
       "javascript": [
        "$('div#2da45b90-d9d5-4852-99e6-327787dd6bbb').width('7.166667%')"
       ],
       "metadata": {},
       "output_type": "display_data",
       "text": [
        "<IPython.core.display.Javascript at 0x7f78c67e3110>"
       ]
      },
      {
       "javascript": [
        "$('div#2da45b90-d9d5-4852-99e6-327787dd6bbb').width('7.333333%')"
       ],
       "metadata": {},
       "output_type": "display_data",
       "text": [
        "<IPython.core.display.Javascript at 0x7f78c67e3a10>"
       ]
      },
      {
       "javascript": [
        "$('div#2da45b90-d9d5-4852-99e6-327787dd6bbb').width('7.500000%')"
       ],
       "metadata": {},
       "output_type": "display_data",
       "text": [
        "<IPython.core.display.Javascript at 0x7f78c67e3c10>"
       ]
      },
      {
       "javascript": [
        "$('div#2da45b90-d9d5-4852-99e6-327787dd6bbb').width('7.666667%')"
       ],
       "metadata": {},
       "output_type": "display_data",
       "text": [
        "<IPython.core.display.Javascript at 0x7f78c67e3d10>"
       ]
      },
      {
       "javascript": [
        "$('div#2da45b90-d9d5-4852-99e6-327787dd6bbb').width('7.833333%')"
       ],
       "metadata": {},
       "output_type": "display_data",
       "text": [
        "<IPython.core.display.Javascript at 0x7f78c67e3c90>"
       ]
      },
      {
       "javascript": [
        "$('div#2da45b90-d9d5-4852-99e6-327787dd6bbb').width('8.000000%')"
       ],
       "metadata": {},
       "output_type": "display_data",
       "text": [
        "<IPython.core.display.Javascript at 0x7f78c67e3b90>"
       ]
      },
      {
       "javascript": [
        "$('div#2da45b90-d9d5-4852-99e6-327787dd6bbb').width('8.166667%')"
       ],
       "metadata": {},
       "output_type": "display_data",
       "text": [
        "<IPython.core.display.Javascript at 0x7f78c67e3d50>"
       ]
      },
      {
       "javascript": [
        "$('div#2da45b90-d9d5-4852-99e6-327787dd6bbb').width('8.333333%')"
       ],
       "metadata": {},
       "output_type": "display_data",
       "text": [
        "<IPython.core.display.Javascript at 0x7f78c67e3810>"
       ]
      },
      {
       "javascript": [
        "$('div#2da45b90-d9d5-4852-99e6-327787dd6bbb').width('8.500000%')"
       ],
       "metadata": {},
       "output_type": "display_data",
       "text": [
        "<IPython.core.display.Javascript at 0x7f78c67e3890>"
       ]
      },
      {
       "javascript": [
        "$('div#2da45b90-d9d5-4852-99e6-327787dd6bbb').width('8.666667%')"
       ],
       "metadata": {},
       "output_type": "display_data",
       "text": [
        "<IPython.core.display.Javascript at 0x7f78c67e3550>"
       ]
      },
      {
       "javascript": [
        "$('div#2da45b90-d9d5-4852-99e6-327787dd6bbb').width('8.833333%')"
       ],
       "metadata": {},
       "output_type": "display_data",
       "text": [
        "<IPython.core.display.Javascript at 0x7f78c67e3cd0>"
       ]
      },
      {
       "javascript": [
        "$('div#2da45b90-d9d5-4852-99e6-327787dd6bbb').width('9.000000%')"
       ],
       "metadata": {},
       "output_type": "display_data",
       "text": [
        "<IPython.core.display.Javascript at 0x7f78c67e3b50>"
       ]
      },
      {
       "javascript": [
        "$('div#2da45b90-d9d5-4852-99e6-327787dd6bbb').width('9.166667%')"
       ],
       "metadata": {},
       "output_type": "display_data",
       "text": [
        "<IPython.core.display.Javascript at 0x7f78c67e3a90>"
       ]
      },
      {
       "javascript": [
        "$('div#2da45b90-d9d5-4852-99e6-327787dd6bbb').width('9.333333%')"
       ],
       "metadata": {},
       "output_type": "display_data",
       "text": [
        "<IPython.core.display.Javascript at 0x7f78c67e3590>"
       ]
      },
      {
       "javascript": [
        "$('div#2da45b90-d9d5-4852-99e6-327787dd6bbb').width('9.500000%')"
       ],
       "metadata": {},
       "output_type": "display_data",
       "text": [
        "<IPython.core.display.Javascript at 0x7f78c67e3350>"
       ]
      },
      {
       "javascript": [
        "$('div#2da45b90-d9d5-4852-99e6-327787dd6bbb').width('9.666667%')"
       ],
       "metadata": {},
       "output_type": "display_data",
       "text": [
        "<IPython.core.display.Javascript at 0x7f78c6752850>"
       ]
      },
      {
       "javascript": [
        "$('div#2da45b90-d9d5-4852-99e6-327787dd6bbb').width('9.833333%')"
       ],
       "metadata": {},
       "output_type": "display_data",
       "text": [
        "<IPython.core.display.Javascript at 0x7f78c67528d0>"
       ]
      },
      {
       "javascript": [
        "$('div#2da45b90-d9d5-4852-99e6-327787dd6bbb').width('10.000000%')"
       ],
       "metadata": {},
       "output_type": "display_data",
       "text": [
        "<IPython.core.display.Javascript at 0x7f78c67ee890>"
       ]
      },
      {
       "javascript": [
        "$('div#2da45b90-d9d5-4852-99e6-327787dd6bbb').width('10.166667%')"
       ],
       "metadata": {},
       "output_type": "display_data",
       "text": [
        "<IPython.core.display.Javascript at 0x7f78c67ee1d0>"
       ]
      },
      {
       "javascript": [
        "$('div#2da45b90-d9d5-4852-99e6-327787dd6bbb').width('10.333333%')"
       ],
       "metadata": {},
       "output_type": "display_data",
       "text": [
        "<IPython.core.display.Javascript at 0x7f78c67ee350>"
       ]
      },
      {
       "javascript": [
        "$('div#2da45b90-d9d5-4852-99e6-327787dd6bbb').width('10.500000%')"
       ],
       "metadata": {},
       "output_type": "display_data",
       "text": [
        "<IPython.core.display.Javascript at 0x7f78c67ee2d0>"
       ]
      },
      {
       "javascript": [
        "$('div#2da45b90-d9d5-4852-99e6-327787dd6bbb').width('10.666667%')"
       ],
       "metadata": {},
       "output_type": "display_data",
       "text": [
        "<IPython.core.display.Javascript at 0x7f78c67ee490>"
       ]
      },
      {
       "javascript": [
        "$('div#2da45b90-d9d5-4852-99e6-327787dd6bbb').width('10.833333%')"
       ],
       "metadata": {},
       "output_type": "display_data",
       "text": [
        "<IPython.core.display.Javascript at 0x7f78c67ee450>"
       ]
      },
      {
       "javascript": [
        "$('div#2da45b90-d9d5-4852-99e6-327787dd6bbb').width('11.000000%')"
       ],
       "metadata": {},
       "output_type": "display_data",
       "text": [
        "<IPython.core.display.Javascript at 0x7f78c67ee3d0>"
       ]
      },
      {
       "javascript": [
        "$('div#2da45b90-d9d5-4852-99e6-327787dd6bbb').width('11.166667%')"
       ],
       "metadata": {},
       "output_type": "display_data",
       "text": [
        "<IPython.core.display.Javascript at 0x7f78c67ee950>"
       ]
      },
      {
       "javascript": [
        "$('div#2da45b90-d9d5-4852-99e6-327787dd6bbb').width('11.333333%')"
       ],
       "metadata": {},
       "output_type": "display_data",
       "text": [
        "<IPython.core.display.Javascript at 0x7f78c67ee8d0>"
       ]
      },
      {
       "javascript": [
        "$('div#2da45b90-d9d5-4852-99e6-327787dd6bbb').width('11.500000%')"
       ],
       "metadata": {},
       "output_type": "display_data",
       "text": [
        "<IPython.core.display.Javascript at 0x7f78c67eed90>"
       ]
      },
      {
       "javascript": [
        "$('div#2da45b90-d9d5-4852-99e6-327787dd6bbb').width('11.666667%')"
       ],
       "metadata": {},
       "output_type": "display_data",
       "text": [
        "<IPython.core.display.Javascript at 0x7f78c67ee310>"
       ]
      },
      {
       "javascript": [
        "$('div#2da45b90-d9d5-4852-99e6-327787dd6bbb').width('11.833333%')"
       ],
       "metadata": {},
       "output_type": "display_data",
       "text": [
        "<IPython.core.display.Javascript at 0x7f78c67ee990>"
       ]
      },
      {
       "javascript": [
        "$('div#2da45b90-d9d5-4852-99e6-327787dd6bbb').width('12.000000%')"
       ],
       "metadata": {},
       "output_type": "display_data",
       "text": [
        "<IPython.core.display.Javascript at 0x7f78c67ee0d0>"
       ]
      },
      {
       "javascript": [
        "$('div#2da45b90-d9d5-4852-99e6-327787dd6bbb').width('12.166667%')"
       ],
       "metadata": {},
       "output_type": "display_data",
       "text": [
        "<IPython.core.display.Javascript at 0x7f78c67ee810>"
       ]
      },
      {
       "javascript": [
        "$('div#2da45b90-d9d5-4852-99e6-327787dd6bbb').width('12.333333%')"
       ],
       "metadata": {},
       "output_type": "display_data",
       "text": [
        "<IPython.core.display.Javascript at 0x7f78c67ee210>"
       ]
      },
      {
       "javascript": [
        "$('div#2da45b90-d9d5-4852-99e6-327787dd6bbb').width('12.500000%')"
       ],
       "metadata": {},
       "output_type": "display_data",
       "text": [
        "<IPython.core.display.Javascript at 0x7f78c67ee710>"
       ]
      },
      {
       "javascript": [
        "$('div#2da45b90-d9d5-4852-99e6-327787dd6bbb').width('12.666667%')"
       ],
       "metadata": {},
       "output_type": "display_data",
       "text": [
        "<IPython.core.display.Javascript at 0x7f78c67da910>"
       ]
      },
      {
       "javascript": [
        "$('div#2da45b90-d9d5-4852-99e6-327787dd6bbb').width('12.833333%')"
       ],
       "metadata": {},
       "output_type": "display_data",
       "text": [
        "<IPython.core.display.Javascript at 0x7f78c67daed0>"
       ]
      },
      {
       "javascript": [
        "$('div#2da45b90-d9d5-4852-99e6-327787dd6bbb').width('13.000000%')"
       ],
       "metadata": {},
       "output_type": "display_data",
       "text": [
        "<IPython.core.display.Javascript at 0x7f78c67dae90>"
       ]
      },
      {
       "javascript": [
        "$('div#2da45b90-d9d5-4852-99e6-327787dd6bbb').width('13.166667%')"
       ],
       "metadata": {},
       "output_type": "display_data",
       "text": [
        "<IPython.core.display.Javascript at 0x7f78c67dacd0>"
       ]
      },
      {
       "javascript": [
        "$('div#2da45b90-d9d5-4852-99e6-327787dd6bbb').width('13.333333%')"
       ],
       "metadata": {},
       "output_type": "display_data",
       "text": [
        "<IPython.core.display.Javascript at 0x7f78c67da450>"
       ]
      },
      {
       "javascript": [
        "$('div#2da45b90-d9d5-4852-99e6-327787dd6bbb').width('13.500000%')"
       ],
       "metadata": {},
       "output_type": "display_data",
       "text": [
        "<IPython.core.display.Javascript at 0x7f78c67da690>"
       ]
      },
      {
       "javascript": [
        "$('div#2da45b90-d9d5-4852-99e6-327787dd6bbb').width('13.666667%')"
       ],
       "metadata": {},
       "output_type": "display_data",
       "text": [
        "<IPython.core.display.Javascript at 0x7f78c67da2d0>"
       ]
      },
      {
       "javascript": [
        "$('div#2da45b90-d9d5-4852-99e6-327787dd6bbb').width('13.833333%')"
       ],
       "metadata": {},
       "output_type": "display_data",
       "text": [
        "<IPython.core.display.Javascript at 0x7f78c67da110>"
       ]
      },
      {
       "javascript": [
        "$('div#2da45b90-d9d5-4852-99e6-327787dd6bbb').width('14.000000%')"
       ],
       "metadata": {},
       "output_type": "display_data",
       "text": [
        "<IPython.core.display.Javascript at 0x7f78c67da550>"
       ]
      },
      {
       "javascript": [
        "$('div#2da45b90-d9d5-4852-99e6-327787dd6bbb').width('14.166667%')"
       ],
       "metadata": {},
       "output_type": "display_data",
       "text": [
        "<IPython.core.display.Javascript at 0x7f78c67da390>"
       ]
      },
      {
       "javascript": [
        "$('div#2da45b90-d9d5-4852-99e6-327787dd6bbb').width('14.333333%')"
       ],
       "metadata": {},
       "output_type": "display_data",
       "text": [
        "<IPython.core.display.Javascript at 0x7f78c67dae10>"
       ]
      },
      {
       "javascript": [
        "$('div#2da45b90-d9d5-4852-99e6-327787dd6bbb').width('14.500000%')"
       ],
       "metadata": {},
       "output_type": "display_data",
       "text": [
        "<IPython.core.display.Javascript at 0x7f78c67da750>"
       ]
      },
      {
       "javascript": [
        "$('div#2da45b90-d9d5-4852-99e6-327787dd6bbb').width('14.666667%')"
       ],
       "metadata": {},
       "output_type": "display_data",
       "text": [
        "<IPython.core.display.Javascript at 0x7f78c67da790>"
       ]
      },
      {
       "javascript": [
        "$('div#2da45b90-d9d5-4852-99e6-327787dd6bbb').width('14.833333%')"
       ],
       "metadata": {},
       "output_type": "display_data",
       "text": [
        "<IPython.core.display.Javascript at 0x7f78c67da990>"
       ]
      },
      {
       "javascript": [
        "$('div#2da45b90-d9d5-4852-99e6-327787dd6bbb').width('15.000000%')"
       ],
       "metadata": {},
       "output_type": "display_data",
       "text": [
        "<IPython.core.display.Javascript at 0x7f78c67daa10>"
       ]
      },
      {
       "javascript": [
        "$('div#2da45b90-d9d5-4852-99e6-327787dd6bbb').width('15.166667%')"
       ],
       "metadata": {},
       "output_type": "display_data",
       "text": [
        "<IPython.core.display.Javascript at 0x7f78c67ee0d0>"
       ]
      },
      {
       "javascript": [
        "$('div#2da45b90-d9d5-4852-99e6-327787dd6bbb').width('15.333333%')"
       ],
       "metadata": {},
       "output_type": "display_data",
       "text": [
        "<IPython.core.display.Javascript at 0x7f78c67ee710>"
       ]
      },
      {
       "javascript": [
        "$('div#2da45b90-d9d5-4852-99e6-327787dd6bbb').width('15.500000%')"
       ],
       "metadata": {},
       "output_type": "display_data",
       "text": [
        "<IPython.core.display.Javascript at 0x7f78c67ee210>"
       ]
      },
      {
       "javascript": [
        "$('div#2da45b90-d9d5-4852-99e6-327787dd6bbb').width('15.666667%')"
       ],
       "metadata": {},
       "output_type": "display_data",
       "text": [
        "<IPython.core.display.Javascript at 0x7f78c67eed90>"
       ]
      },
      {
       "javascript": [
        "$('div#2da45b90-d9d5-4852-99e6-327787dd6bbb').width('15.833333%')"
       ],
       "metadata": {},
       "output_type": "display_data",
       "text": [
        "<IPython.core.display.Javascript at 0x7f78c67ee8d0>"
       ]
      },
      {
       "javascript": [
        "$('div#2da45b90-d9d5-4852-99e6-327787dd6bbb').width('16.000000%')"
       ],
       "metadata": {},
       "output_type": "display_data",
       "text": [
        "<IPython.core.display.Javascript at 0x7f78c67ee810>"
       ]
      },
      {
       "javascript": [
        "$('div#2da45b90-d9d5-4852-99e6-327787dd6bbb').width('16.166667%')"
       ],
       "metadata": {},
       "output_type": "display_data",
       "text": [
        "<IPython.core.display.Javascript at 0x7f78c67ee990>"
       ]
      },
      {
       "javascript": [
        "$('div#2da45b90-d9d5-4852-99e6-327787dd6bbb').width('16.333333%')"
       ],
       "metadata": {},
       "output_type": "display_data",
       "text": [
        "<IPython.core.display.Javascript at 0x7f78c67ee950>"
       ]
      },
      {
       "javascript": [
        "$('div#2da45b90-d9d5-4852-99e6-327787dd6bbb').width('16.500000%')"
       ],
       "metadata": {},
       "output_type": "display_data",
       "text": [
        "<IPython.core.display.Javascript at 0x7f78c67ee3d0>"
       ]
      },
      {
       "javascript": [
        "$('div#2da45b90-d9d5-4852-99e6-327787dd6bbb').width('16.666667%')"
       ],
       "metadata": {},
       "output_type": "display_data",
       "text": [
        "<IPython.core.display.Javascript at 0x7f78c67ee450>"
       ]
      },
      {
       "javascript": [
        "$('div#2da45b90-d9d5-4852-99e6-327787dd6bbb').width('16.833333%')"
       ],
       "metadata": {},
       "output_type": "display_data",
       "text": [
        "<IPython.core.display.Javascript at 0x7f78c67ee350>"
       ]
      },
      {
       "javascript": [
        "$('div#2da45b90-d9d5-4852-99e6-327787dd6bbb').width('17.000000%')"
       ],
       "metadata": {},
       "output_type": "display_data",
       "text": [
        "<IPython.core.display.Javascript at 0x7f78c67ee1d0>"
       ]
      },
      {
       "javascript": [
        "$('div#2da45b90-d9d5-4852-99e6-327787dd6bbb').width('17.166667%')"
       ],
       "metadata": {},
       "output_type": "display_data",
       "text": [
        "<IPython.core.display.Javascript at 0x7f78c67ee490>"
       ]
      },
      {
       "javascript": [
        "$('div#2da45b90-d9d5-4852-99e6-327787dd6bbb').width('17.333333%')"
       ],
       "metadata": {},
       "output_type": "display_data",
       "text": [
        "<IPython.core.display.Javascript at 0x7f78c67ee2d0>"
       ]
      },
      {
       "javascript": [
        "$('div#2da45b90-d9d5-4852-99e6-327787dd6bbb').width('17.500000%')"
       ],
       "metadata": {},
       "output_type": "display_data",
       "text": [
        "<IPython.core.display.Javascript at 0x7f78c67528d0>"
       ]
      },
      {
       "javascript": [
        "$('div#2da45b90-d9d5-4852-99e6-327787dd6bbb').width('17.666667%')"
       ],
       "metadata": {},
       "output_type": "display_data",
       "text": [
        "<IPython.core.display.Javascript at 0x7f78c67ee890>"
       ]
      },
      {
       "javascript": [
        "$('div#2da45b90-d9d5-4852-99e6-327787dd6bbb').width('17.833333%')"
       ],
       "metadata": {},
       "output_type": "display_data",
       "text": [
        "<IPython.core.display.Javascript at 0x7f78c67e3f90>"
       ]
      },
      {
       "javascript": [
        "$('div#2da45b90-d9d5-4852-99e6-327787dd6bbb').width('18.000000%')"
       ],
       "metadata": {},
       "output_type": "display_data",
       "text": [
        "<IPython.core.display.Javascript at 0x7f78c67e3350>"
       ]
      },
      {
       "javascript": [
        "$('div#2da45b90-d9d5-4852-99e6-327787dd6bbb').width('18.166667%')"
       ],
       "metadata": {},
       "output_type": "display_data",
       "text": [
        "<IPython.core.display.Javascript at 0x7f78c67e3590>"
       ]
      },
      {
       "javascript": [
        "$('div#2da45b90-d9d5-4852-99e6-327787dd6bbb').width('18.333333%')"
       ],
       "metadata": {},
       "output_type": "display_data",
       "text": [
        "<IPython.core.display.Javascript at 0x7f78c67e3a90>"
       ]
      },
      {
       "javascript": [
        "$('div#2da45b90-d9d5-4852-99e6-327787dd6bbb').width('18.500000%')"
       ],
       "metadata": {},
       "output_type": "display_data",
       "text": [
        "<IPython.core.display.Javascript at 0x7f78c67e3b50>"
       ]
      },
      {
       "javascript": [
        "$('div#2da45b90-d9d5-4852-99e6-327787dd6bbb').width('18.666667%')"
       ],
       "metadata": {},
       "output_type": "display_data",
       "text": [
        "<IPython.core.display.Javascript at 0x7f78c67e3cd0>"
       ]
      },
      {
       "javascript": [
        "$('div#2da45b90-d9d5-4852-99e6-327787dd6bbb').width('18.833333%')"
       ],
       "metadata": {},
       "output_type": "display_data",
       "text": [
        "<IPython.core.display.Javascript at 0x7f78c67e3550>"
       ]
      },
      {
       "javascript": [
        "$('div#2da45b90-d9d5-4852-99e6-327787dd6bbb').width('19.000000%')"
       ],
       "metadata": {},
       "output_type": "display_data",
       "text": [
        "<IPython.core.display.Javascript at 0x7f78c67e3890>"
       ]
      },
      {
       "javascript": [
        "$('div#2da45b90-d9d5-4852-99e6-327787dd6bbb').width('19.166667%')"
       ],
       "metadata": {},
       "output_type": "display_data",
       "text": [
        "<IPython.core.display.Javascript at 0x7f78c67e3810>"
       ]
      },
      {
       "javascript": [
        "$('div#2da45b90-d9d5-4852-99e6-327787dd6bbb').width('19.333333%')"
       ],
       "metadata": {},
       "output_type": "display_data",
       "text": [
        "<IPython.core.display.Javascript at 0x7f78c67e3d50>"
       ]
      },
      {
       "javascript": [
        "$('div#2da45b90-d9d5-4852-99e6-327787dd6bbb').width('19.500000%')"
       ],
       "metadata": {},
       "output_type": "display_data",
       "text": [
        "<IPython.core.display.Javascript at 0x7f78c67e3b90>"
       ]
      },
      {
       "javascript": [
        "$('div#2da45b90-d9d5-4852-99e6-327787dd6bbb').width('19.666667%')"
       ],
       "metadata": {},
       "output_type": "display_data",
       "text": [
        "<IPython.core.display.Javascript at 0x7f78c67e3c90>"
       ]
      },
      {
       "javascript": [
        "$('div#2da45b90-d9d5-4852-99e6-327787dd6bbb').width('19.833333%')"
       ],
       "metadata": {},
       "output_type": "display_data",
       "text": [
        "<IPython.core.display.Javascript at 0x7f78c67e3d10>"
       ]
      },
      {
       "javascript": [
        "$('div#2da45b90-d9d5-4852-99e6-327787dd6bbb').width('20.000000%')"
       ],
       "metadata": {},
       "output_type": "display_data",
       "text": [
        "<IPython.core.display.Javascript at 0x7f78c67e3c10>"
       ]
      },
      {
       "javascript": [
        "$('div#2da45b90-d9d5-4852-99e6-327787dd6bbb').width('20.166667%')"
       ],
       "metadata": {},
       "output_type": "display_data",
       "text": [
        "<IPython.core.display.Javascript at 0x7f78c67e3a10>"
       ]
      },
      {
       "javascript": [
        "$('div#2da45b90-d9d5-4852-99e6-327787dd6bbb').width('20.333333%')"
       ],
       "metadata": {},
       "output_type": "display_data",
       "text": [
        "<IPython.core.display.Javascript at 0x7f78c67e3110>"
       ]
      },
      {
       "javascript": [
        "$('div#2da45b90-d9d5-4852-99e6-327787dd6bbb').width('20.500000%')"
       ],
       "metadata": {},
       "output_type": "display_data",
       "text": [
        "<IPython.core.display.Javascript at 0x7f78c67e3510>"
       ]
      },
      {
       "javascript": [
        "$('div#2da45b90-d9d5-4852-99e6-327787dd6bbb').width('20.666667%')"
       ],
       "metadata": {},
       "output_type": "display_data",
       "text": [
        "<IPython.core.display.Javascript at 0x7f78c67e3a50>"
       ]
      },
      {
       "javascript": [
        "$('div#2da45b90-d9d5-4852-99e6-327787dd6bbb').width('20.833333%')"
       ],
       "metadata": {},
       "output_type": "display_data",
       "text": [
        "<IPython.core.display.Javascript at 0x7f78c67e34d0>"
       ]
      },
      {
       "javascript": [
        "$('div#2da45b90-d9d5-4852-99e6-327787dd6bbb').width('21.000000%')"
       ],
       "metadata": {},
       "output_type": "display_data",
       "text": [
        "<IPython.core.display.Javascript at 0x7f78c67e3450>"
       ]
      },
      {
       "javascript": [
        "$('div#2da45b90-d9d5-4852-99e6-327787dd6bbb').width('21.166667%')"
       ],
       "metadata": {},
       "output_type": "display_data",
       "text": [
        "<IPython.core.display.Javascript at 0x7f78c67e3050>"
       ]
      },
      {
       "javascript": [
        "$('div#2da45b90-d9d5-4852-99e6-327787dd6bbb').width('21.333333%')"
       ],
       "metadata": {},
       "output_type": "display_data",
       "text": [
        "<IPython.core.display.Javascript at 0x7f78c67e3950>"
       ]
      },
      {
       "javascript": [
        "$('div#2da45b90-d9d5-4852-99e6-327787dd6bbb').width('21.500000%')"
       ],
       "metadata": {},
       "output_type": "display_data",
       "text": [
        "<IPython.core.display.Javascript at 0x7f78c67ee310>"
       ]
      },
      {
       "javascript": [
        "$('div#2da45b90-d9d5-4852-99e6-327787dd6bbb').width('21.666667%')"
       ],
       "metadata": {},
       "output_type": "display_data",
       "text": [
        "<IPython.core.display.Javascript at 0x7f78c67da9d0>"
       ]
      },
      {
       "javascript": [
        "$('div#2da45b90-d9d5-4852-99e6-327787dd6bbb').width('21.833333%')"
       ],
       "metadata": {},
       "output_type": "display_data",
       "text": [
        "<IPython.core.display.Javascript at 0x7f78c67dae50>"
       ]
      },
      {
       "javascript": [
        "$('div#2da45b90-d9d5-4852-99e6-327787dd6bbb').width('22.000000%')"
       ],
       "metadata": {},
       "output_type": "display_data",
       "text": [
        "<IPython.core.display.Javascript at 0x7f78c67da950>"
       ]
      },
      {
       "javascript": [
        "$('div#2da45b90-d9d5-4852-99e6-327787dd6bbb').width('22.166667%')"
       ],
       "metadata": {},
       "output_type": "display_data",
       "text": [
        "<IPython.core.display.Javascript at 0x7f78c67daf10>"
       ]
      },
      {
       "javascript": [
        "$('div#2da45b90-d9d5-4852-99e6-327787dd6bbb').width('22.333333%')"
       ],
       "metadata": {},
       "output_type": "display_data",
       "text": [
        "<IPython.core.display.Javascript at 0x7f78c67da050>"
       ]
      },
      {
       "javascript": [
        "$('div#2da45b90-d9d5-4852-99e6-327787dd6bbb').width('22.500000%')"
       ],
       "metadata": {},
       "output_type": "display_data",
       "text": [
        "<IPython.core.display.Javascript at 0x7f78c67daf90>"
       ]
      },
      {
       "javascript": [
        "$('div#2da45b90-d9d5-4852-99e6-327787dd6bbb').width('22.666667%')"
       ],
       "metadata": {},
       "output_type": "display_data",
       "text": [
        "<IPython.core.display.Javascript at 0x7f78c67da990>"
       ]
      },
      {
       "javascript": [
        "$('div#2da45b90-d9d5-4852-99e6-327787dd6bbb').width('22.833333%')"
       ],
       "metadata": {},
       "output_type": "display_data",
       "text": [
        "<IPython.core.display.Javascript at 0x7f78c67da790>"
       ]
      },
      {
       "javascript": [
        "$('div#2da45b90-d9d5-4852-99e6-327787dd6bbb').width('23.000000%')"
       ],
       "metadata": {},
       "output_type": "display_data",
       "text": [
        "<IPython.core.display.Javascript at 0x7f78c67da750>"
       ]
      },
      {
       "javascript": [
        "$('div#2da45b90-d9d5-4852-99e6-327787dd6bbb').width('23.166667%')"
       ],
       "metadata": {},
       "output_type": "display_data",
       "text": [
        "<IPython.core.display.Javascript at 0x7f78c67dae10>"
       ]
      },
      {
       "javascript": [
        "$('div#2da45b90-d9d5-4852-99e6-327787dd6bbb').width('23.333333%')"
       ],
       "metadata": {},
       "output_type": "display_data",
       "text": [
        "<IPython.core.display.Javascript at 0x7f78c67da390>"
       ]
      },
      {
       "javascript": [
        "$('div#2da45b90-d9d5-4852-99e6-327787dd6bbb').width('23.500000%')"
       ],
       "metadata": {},
       "output_type": "display_data",
       "text": [
        "<IPython.core.display.Javascript at 0x7f78c67da550>"
       ]
      },
      {
       "javascript": [
        "$('div#2da45b90-d9d5-4852-99e6-327787dd6bbb').width('23.666667%')"
       ],
       "metadata": {},
       "output_type": "display_data",
       "text": [
        "<IPython.core.display.Javascript at 0x7f78c67da110>"
       ]
      },
      {
       "javascript": [
        "$('div#2da45b90-d9d5-4852-99e6-327787dd6bbb').width('23.833333%')"
       ],
       "metadata": {},
       "output_type": "display_data",
       "text": [
        "<IPython.core.display.Javascript at 0x7f78c67da2d0>"
       ]
      },
      {
       "javascript": [
        "$('div#2da45b90-d9d5-4852-99e6-327787dd6bbb').width('24.000000%')"
       ],
       "metadata": {},
       "output_type": "display_data",
       "text": [
        "<IPython.core.display.Javascript at 0x7f78c67da690>"
       ]
      },
      {
       "javascript": [
        "$('div#2da45b90-d9d5-4852-99e6-327787dd6bbb').width('24.166667%')"
       ],
       "metadata": {},
       "output_type": "display_data",
       "text": [
        "<IPython.core.display.Javascript at 0x7f78c67da450>"
       ]
      },
      {
       "javascript": [
        "$('div#2da45b90-d9d5-4852-99e6-327787dd6bbb').width('24.333333%')"
       ],
       "metadata": {},
       "output_type": "display_data",
       "text": [
        "<IPython.core.display.Javascript at 0x7f78c67e3950>"
       ]
      },
      {
       "javascript": [
        "$('div#2da45b90-d9d5-4852-99e6-327787dd6bbb').width('24.500000%')"
       ],
       "metadata": {},
       "output_type": "display_data",
       "text": [
        "<IPython.core.display.Javascript at 0x7f78c67e30d0>"
       ]
      },
      {
       "javascript": [
        "$('div#2da45b90-d9d5-4852-99e6-327787dd6bbb').width('24.666667%')"
       ],
       "metadata": {},
       "output_type": "display_data",
       "text": [
        "<IPython.core.display.Javascript at 0x7f78c67e3450>"
       ]
      },
      {
       "javascript": [
        "$('div#2da45b90-d9d5-4852-99e6-327787dd6bbb').width('24.833333%')"
       ],
       "metadata": {},
       "output_type": "display_data",
       "text": [
        "<IPython.core.display.Javascript at 0x7f78c67e3510>"
       ]
      },
      {
       "javascript": [
        "$('div#2da45b90-d9d5-4852-99e6-327787dd6bbb').width('25.000000%')"
       ],
       "metadata": {},
       "output_type": "display_data",
       "text": [
        "<IPython.core.display.Javascript at 0x7f78c67e34d0>"
       ]
      },
      {
       "javascript": [
        "$('div#2da45b90-d9d5-4852-99e6-327787dd6bbb').width('25.166667%')"
       ],
       "metadata": {},
       "output_type": "display_data",
       "text": [
        "<IPython.core.display.Javascript at 0x7f78c67e3050>"
       ]
      },
      {
       "javascript": [
        "$('div#2da45b90-d9d5-4852-99e6-327787dd6bbb').width('25.333333%')"
       ],
       "metadata": {},
       "output_type": "display_data",
       "text": [
        "<IPython.core.display.Javascript at 0x7f78c67e3110>"
       ]
      },
      {
       "javascript": [
        "$('div#2da45b90-d9d5-4852-99e6-327787dd6bbb').width('25.500000%')"
       ],
       "metadata": {},
       "output_type": "display_data",
       "text": [
        "<IPython.core.display.Javascript at 0x7f78c67e3a10>"
       ]
      },
      {
       "javascript": [
        "$('div#2da45b90-d9d5-4852-99e6-327787dd6bbb').width('25.666667%')"
       ],
       "metadata": {},
       "output_type": "display_data",
       "text": [
        "<IPython.core.display.Javascript at 0x7f78c67e3c10>"
       ]
      },
      {
       "javascript": [
        "$('div#2da45b90-d9d5-4852-99e6-327787dd6bbb').width('25.833333%')"
       ],
       "metadata": {},
       "output_type": "display_data",
       "text": [
        "<IPython.core.display.Javascript at 0x7f78c67e3d10>"
       ]
      },
      {
       "javascript": [
        "$('div#2da45b90-d9d5-4852-99e6-327787dd6bbb').width('26.000000%')"
       ],
       "metadata": {},
       "output_type": "display_data",
       "text": [
        "<IPython.core.display.Javascript at 0x7f78c67e3c90>"
       ]
      },
      {
       "javascript": [
        "$('div#2da45b90-d9d5-4852-99e6-327787dd6bbb').width('26.166667%')"
       ],
       "metadata": {},
       "output_type": "display_data",
       "text": [
        "<IPython.core.display.Javascript at 0x7f78c67e3b90>"
       ]
      },
      {
       "javascript": [
        "$('div#2da45b90-d9d5-4852-99e6-327787dd6bbb').width('26.333333%')"
       ],
       "metadata": {},
       "output_type": "display_data",
       "text": [
        "<IPython.core.display.Javascript at 0x7f78c67e3d50>"
       ]
      },
      {
       "javascript": [
        "$('div#2da45b90-d9d5-4852-99e6-327787dd6bbb').width('26.500000%')"
       ],
       "metadata": {},
       "output_type": "display_data",
       "text": [
        "<IPython.core.display.Javascript at 0x7f78c67e3810>"
       ]
      },
      {
       "javascript": [
        "$('div#2da45b90-d9d5-4852-99e6-327787dd6bbb').width('26.666667%')"
       ],
       "metadata": {},
       "output_type": "display_data",
       "text": [
        "<IPython.core.display.Javascript at 0x7f78c67e3890>"
       ]
      },
      {
       "javascript": [
        "$('div#2da45b90-d9d5-4852-99e6-327787dd6bbb').width('26.833333%')"
       ],
       "metadata": {},
       "output_type": "display_data",
       "text": [
        "<IPython.core.display.Javascript at 0x7f78c67e3550>"
       ]
      },
      {
       "javascript": [
        "$('div#2da45b90-d9d5-4852-99e6-327787dd6bbb').width('27.000000%')"
       ],
       "metadata": {},
       "output_type": "display_data",
       "text": [
        "<IPython.core.display.Javascript at 0x7f78c67e3cd0>"
       ]
      },
      {
       "javascript": [
        "$('div#2da45b90-d9d5-4852-99e6-327787dd6bbb').width('27.166667%')"
       ],
       "metadata": {},
       "output_type": "display_data",
       "text": [
        "<IPython.core.display.Javascript at 0x7f78c67e3b50>"
       ]
      },
      {
       "javascript": [
        "$('div#2da45b90-d9d5-4852-99e6-327787dd6bbb').width('27.333333%')"
       ],
       "metadata": {},
       "output_type": "display_data",
       "text": [
        "<IPython.core.display.Javascript at 0x7f78c67e3a90>"
       ]
      },
      {
       "javascript": [
        "$('div#2da45b90-d9d5-4852-99e6-327787dd6bbb').width('27.500000%')"
       ],
       "metadata": {},
       "output_type": "display_data",
       "text": [
        "<IPython.core.display.Javascript at 0x7f78c67e3590>"
       ]
      },
      {
       "javascript": [
        "$('div#2da45b90-d9d5-4852-99e6-327787dd6bbb').width('27.666667%')"
       ],
       "metadata": {},
       "output_type": "display_data",
       "text": [
        "<IPython.core.display.Javascript at 0x7f78c67e3f90>"
       ]
      },
      {
       "javascript": [
        "$('div#2da45b90-d9d5-4852-99e6-327787dd6bbb').width('27.833333%')"
       ],
       "metadata": {},
       "output_type": "display_data",
       "text": [
        "<IPython.core.display.Javascript at 0x7f78c6752850>"
       ]
      },
      {
       "javascript": [
        "$('div#2da45b90-d9d5-4852-99e6-327787dd6bbb').width('28.000000%')"
       ],
       "metadata": {},
       "output_type": "display_data",
       "text": [
        "<IPython.core.display.Javascript at 0x7f78c67e3350>"
       ]
      },
      {
       "javascript": [
        "$('div#2da45b90-d9d5-4852-99e6-327787dd6bbb').width('28.166667%')"
       ],
       "metadata": {},
       "output_type": "display_data",
       "text": [
        "<IPython.core.display.Javascript at 0x7f78c67ee890>"
       ]
      },
      {
       "javascript": [
        "$('div#2da45b90-d9d5-4852-99e6-327787dd6bbb').width('28.333333%')"
       ],
       "metadata": {},
       "output_type": "display_data",
       "text": [
        "<IPython.core.display.Javascript at 0x7f78c67ee2d0>"
       ]
      },
      {
       "javascript": [
        "$('div#2da45b90-d9d5-4852-99e6-327787dd6bbb').width('28.500000%')"
       ],
       "metadata": {},
       "output_type": "display_data",
       "text": [
        "<IPython.core.display.Javascript at 0x7f78c67ee490>"
       ]
      },
      {
       "javascript": [
        "$('div#2da45b90-d9d5-4852-99e6-327787dd6bbb').width('28.666667%')"
       ],
       "metadata": {},
       "output_type": "display_data",
       "text": [
        "<IPython.core.display.Javascript at 0x7f78c67ee1d0>"
       ]
      },
      {
       "javascript": [
        "$('div#2da45b90-d9d5-4852-99e6-327787dd6bbb').width('28.833333%')"
       ],
       "metadata": {},
       "output_type": "display_data",
       "text": [
        "<IPython.core.display.Javascript at 0x7f78c67ee350>"
       ]
      },
      {
       "javascript": [
        "$('div#2da45b90-d9d5-4852-99e6-327787dd6bbb').width('29.000000%')"
       ],
       "metadata": {},
       "output_type": "display_data",
       "text": [
        "<IPython.core.display.Javascript at 0x7f78c67ee450>"
       ]
      },
      {
       "javascript": [
        "$('div#2da45b90-d9d5-4852-99e6-327787dd6bbb').width('29.166667%')"
       ],
       "metadata": {},
       "output_type": "display_data",
       "text": [
        "<IPython.core.display.Javascript at 0x7f78c67ee3d0>"
       ]
      },
      {
       "javascript": [
        "$('div#2da45b90-d9d5-4852-99e6-327787dd6bbb').width('29.333333%')"
       ],
       "metadata": {},
       "output_type": "display_data",
       "text": [
        "<IPython.core.display.Javascript at 0x7f78c67ee950>"
       ]
      },
      {
       "javascript": [
        "$('div#2da45b90-d9d5-4852-99e6-327787dd6bbb').width('29.500000%')"
       ],
       "metadata": {},
       "output_type": "display_data",
       "text": [
        "<IPython.core.display.Javascript at 0x7f78c67ee990>"
       ]
      },
      {
       "javascript": [
        "$('div#2da45b90-d9d5-4852-99e6-327787dd6bbb').width('29.666667%')"
       ],
       "metadata": {},
       "output_type": "display_data",
       "text": [
        "<IPython.core.display.Javascript at 0x7f78c67ee810>"
       ]
      },
      {
       "javascript": [
        "$('div#2da45b90-d9d5-4852-99e6-327787dd6bbb').width('29.833333%')"
       ],
       "metadata": {},
       "output_type": "display_data",
       "text": [
        "<IPython.core.display.Javascript at 0x7f78c67ee8d0>"
       ]
      },
      {
       "javascript": [
        "$('div#2da45b90-d9d5-4852-99e6-327787dd6bbb').width('30.000000%')"
       ],
       "metadata": {},
       "output_type": "display_data",
       "text": [
        "<IPython.core.display.Javascript at 0x7f78c67eed90>"
       ]
      },
      {
       "javascript": [
        "$('div#2da45b90-d9d5-4852-99e6-327787dd6bbb').width('30.166667%')"
       ],
       "metadata": {},
       "output_type": "display_data",
       "text": [
        "<IPython.core.display.Javascript at 0x7f78c67ee210>"
       ]
      },
      {
       "javascript": [
        "$('div#2da45b90-d9d5-4852-99e6-327787dd6bbb').width('30.333333%')"
       ],
       "metadata": {},
       "output_type": "display_data",
       "text": [
        "<IPython.core.display.Javascript at 0x7f78c67ee710>"
       ]
      },
      {
       "javascript": [
        "$('div#2da45b90-d9d5-4852-99e6-327787dd6bbb').width('30.500000%')"
       ],
       "metadata": {},
       "output_type": "display_data",
       "text": [
        "<IPython.core.display.Javascript at 0x7f78c67ee310>"
       ]
      },
      {
       "javascript": [
        "$('div#2da45b90-d9d5-4852-99e6-327787dd6bbb').width('30.666667%')"
       ],
       "metadata": {},
       "output_type": "display_data",
       "text": [
        "<IPython.core.display.Javascript at 0x7f78c67528d0>"
       ]
      },
      {
       "javascript": [
        "$('div#2da45b90-d9d5-4852-99e6-327787dd6bbb').width('30.833333%')"
       ],
       "metadata": {},
       "output_type": "display_data",
       "text": [
        "<IPython.core.display.Javascript at 0x7f78c67dacd0>"
       ]
      },
      {
       "javascript": [
        "$('div#2da45b90-d9d5-4852-99e6-327787dd6bbb').width('31.000000%')"
       ],
       "metadata": {},
       "output_type": "display_data",
       "text": [
        "<IPython.core.display.Javascript at 0x7f78c67dae90>"
       ]
      },
      {
       "javascript": [
        "$('div#2da45b90-d9d5-4852-99e6-327787dd6bbb').width('31.166667%')"
       ],
       "metadata": {},
       "output_type": "display_data",
       "text": [
        "<IPython.core.display.Javascript at 0x7f78c67daa10>"
       ]
      },
      {
       "javascript": [
        "$('div#2da45b90-d9d5-4852-99e6-327787dd6bbb').width('31.333333%')"
       ],
       "metadata": {},
       "output_type": "display_data",
       "text": [
        "<IPython.core.display.Javascript at 0x7f78c67da910>"
       ]
      },
      {
       "javascript": [
        "$('div#2da45b90-d9d5-4852-99e6-327787dd6bbb').width('31.500000%')"
       ],
       "metadata": {},
       "output_type": "display_data",
       "text": [
        "<IPython.core.display.Javascript at 0x7f78c67daed0>"
       ]
      },
      {
       "javascript": [
        "$('div#2da45b90-d9d5-4852-99e6-327787dd6bbb').width('31.666667%')"
       ],
       "metadata": {},
       "output_type": "display_data",
       "text": [
        "<IPython.core.display.Javascript at 0x7f78c67da410>"
       ]
      },
      {
       "javascript": [
        "$('div#2da45b90-d9d5-4852-99e6-327787dd6bbb').width('31.833333%')"
       ],
       "metadata": {},
       "output_type": "display_data",
       "text": [
        "<IPython.core.display.Javascript at 0x7f78c67da210>"
       ]
      },
      {
       "javascript": [
        "$('div#2da45b90-d9d5-4852-99e6-327787dd6bbb').width('32.000000%')"
       ],
       "metadata": {},
       "output_type": "display_data",
       "text": [
        "<IPython.core.display.Javascript at 0x7f78c67da690>"
       ]
      },
      {
       "javascript": [
        "$('div#2da45b90-d9d5-4852-99e6-327787dd6bbb').width('32.166667%')"
       ],
       "metadata": {},
       "output_type": "display_data",
       "text": [
        "<IPython.core.display.Javascript at 0x7f78c67da2d0>"
       ]
      },
      {
       "javascript": [
        "$('div#2da45b90-d9d5-4852-99e6-327787dd6bbb').width('32.333333%')"
       ],
       "metadata": {},
       "output_type": "display_data",
       "text": [
        "<IPython.core.display.Javascript at 0x7f78c67da110>"
       ]
      },
      {
       "javascript": [
        "$('div#2da45b90-d9d5-4852-99e6-327787dd6bbb').width('32.500000%')"
       ],
       "metadata": {},
       "output_type": "display_data",
       "text": [
        "<IPython.core.display.Javascript at 0x7f78c67da550>"
       ]
      },
      {
       "javascript": [
        "$('div#2da45b90-d9d5-4852-99e6-327787dd6bbb').width('32.666667%')"
       ],
       "metadata": {},
       "output_type": "display_data",
       "text": [
        "<IPython.core.display.Javascript at 0x7f78c67da390>"
       ]
      },
      {
       "javascript": [
        "$('div#2da45b90-d9d5-4852-99e6-327787dd6bbb').width('32.833333%')"
       ],
       "metadata": {},
       "output_type": "display_data",
       "text": [
        "<IPython.core.display.Javascript at 0x7f78c67dae10>"
       ]
      },
      {
       "javascript": [
        "$('div#2da45b90-d9d5-4852-99e6-327787dd6bbb').width('33.000000%')"
       ],
       "metadata": {},
       "output_type": "display_data",
       "text": [
        "<IPython.core.display.Javascript at 0x7f78c67da750>"
       ]
      },
      {
       "javascript": [
        "$('div#2da45b90-d9d5-4852-99e6-327787dd6bbb').width('33.166667%')"
       ],
       "metadata": {},
       "output_type": "display_data",
       "text": [
        "<IPython.core.display.Javascript at 0x7f78c67da790>"
       ]
      },
      {
       "javascript": [
        "$('div#2da45b90-d9d5-4852-99e6-327787dd6bbb').width('33.333333%')"
       ],
       "metadata": {},
       "output_type": "display_data",
       "text": [
        "<IPython.core.display.Javascript at 0x7f78c67da990>"
       ]
      },
      {
       "javascript": [
        "$('div#2da45b90-d9d5-4852-99e6-327787dd6bbb').width('33.500000%')"
       ],
       "metadata": {},
       "output_type": "display_data",
       "text": [
        "<IPython.core.display.Javascript at 0x7f78c67ee310>"
       ]
      },
      {
       "javascript": [
        "$('div#2da45b90-d9d5-4852-99e6-327787dd6bbb').width('33.666667%')"
       ],
       "metadata": {},
       "output_type": "display_data",
       "text": [
        "<IPython.core.display.Javascript at 0x7f78c67ee0d0>"
       ]
      },
      {
       "javascript": [
        "$('div#2da45b90-d9d5-4852-99e6-327787dd6bbb').width('33.833333%')"
       ],
       "metadata": {},
       "output_type": "display_data",
       "text": [
        "<IPython.core.display.Javascript at 0x7f78c67eed90>"
       ]
      },
      {
       "javascript": [
        "$('div#2da45b90-d9d5-4852-99e6-327787dd6bbb').width('34.000000%')"
       ],
       "metadata": {},
       "output_type": "display_data",
       "text": [
        "<IPython.core.display.Javascript at 0x7f78c67ee710>"
       ]
      },
      {
       "javascript": [
        "$('div#2da45b90-d9d5-4852-99e6-327787dd6bbb').width('34.166667%')"
       ],
       "metadata": {},
       "output_type": "display_data",
       "text": [
        "<IPython.core.display.Javascript at 0x7f78c67ee210>"
       ]
      },
      {
       "javascript": [
        "$('div#2da45b90-d9d5-4852-99e6-327787dd6bbb').width('34.333333%')"
       ],
       "metadata": {},
       "output_type": "display_data",
       "text": [
        "<IPython.core.display.Javascript at 0x7f78c67ee810>"
       ]
      },
      {
       "javascript": [
        "$('div#2da45b90-d9d5-4852-99e6-327787dd6bbb').width('34.500000%')"
       ],
       "metadata": {},
       "output_type": "display_data",
       "text": [
        "<IPython.core.display.Javascript at 0x7f78c67ee990>"
       ]
      },
      {
       "javascript": [
        "$('div#2da45b90-d9d5-4852-99e6-327787dd6bbb').width('34.666667%')"
       ],
       "metadata": {},
       "output_type": "display_data",
       "text": [
        "<IPython.core.display.Javascript at 0x7f78c67ee950>"
       ]
      },
      {
       "javascript": [
        "$('div#2da45b90-d9d5-4852-99e6-327787dd6bbb').width('34.833333%')"
       ],
       "metadata": {},
       "output_type": "display_data",
       "text": [
        "<IPython.core.display.Javascript at 0x7f78c67ee3d0>"
       ]
      },
      {
       "javascript": [
        "$('div#2da45b90-d9d5-4852-99e6-327787dd6bbb').width('35.000000%')"
       ],
       "metadata": {},
       "output_type": "display_data",
       "text": [
        "<IPython.core.display.Javascript at 0x7f78c67ee450>"
       ]
      },
      {
       "javascript": [
        "$('div#2da45b90-d9d5-4852-99e6-327787dd6bbb').width('35.166667%')"
       ],
       "metadata": {},
       "output_type": "display_data",
       "text": [
        "<IPython.core.display.Javascript at 0x7f78c67ee350>"
       ]
      },
      {
       "javascript": [
        "$('div#2da45b90-d9d5-4852-99e6-327787dd6bbb').width('35.333333%')"
       ],
       "metadata": {},
       "output_type": "display_data",
       "text": [
        "<IPython.core.display.Javascript at 0x7f78c67ee1d0>"
       ]
      },
      {
       "javascript": [
        "$('div#2da45b90-d9d5-4852-99e6-327787dd6bbb').width('35.500000%')"
       ],
       "metadata": {},
       "output_type": "display_data",
       "text": [
        "<IPython.core.display.Javascript at 0x7f78c67ee8d0>"
       ]
      },
      {
       "javascript": [
        "$('div#2da45b90-d9d5-4852-99e6-327787dd6bbb').width('35.666667%')"
       ],
       "metadata": {},
       "output_type": "display_data",
       "text": [
        "<IPython.core.display.Javascript at 0x7f78c67ee890>"
       ]
      },
      {
       "javascript": [
        "$('div#2da45b90-d9d5-4852-99e6-327787dd6bbb').width('35.833333%')"
       ],
       "metadata": {},
       "output_type": "display_data",
       "text": [
        "<IPython.core.display.Javascript at 0x7f78c67528d0>"
       ]
      },
      {
       "javascript": [
        "$('div#2da45b90-d9d5-4852-99e6-327787dd6bbb').width('36.000000%')"
       ],
       "metadata": {},
       "output_type": "display_data",
       "text": [
        "<IPython.core.display.Javascript at 0x7f78c67ee2d0>"
       ]
      },
      {
       "javascript": [
        "$('div#2da45b90-d9d5-4852-99e6-327787dd6bbb').width('36.166667%')"
       ],
       "metadata": {},
       "output_type": "display_data",
       "text": [
        "<IPython.core.display.Javascript at 0x7f78c67e3350>"
       ]
      },
      {
       "javascript": [
        "$('div#2da45b90-d9d5-4852-99e6-327787dd6bbb').width('36.333333%')"
       ],
       "metadata": {},
       "output_type": "display_data",
       "text": [
        "<IPython.core.display.Javascript at 0x7f78c67e3f90>"
       ]
      },
      {
       "javascript": [
        "$('div#2da45b90-d9d5-4852-99e6-327787dd6bbb').width('36.500000%')"
       ],
       "metadata": {},
       "output_type": "display_data",
       "text": [
        "<IPython.core.display.Javascript at 0x7f78c67e3590>"
       ]
      },
      {
       "javascript": [
        "$('div#2da45b90-d9d5-4852-99e6-327787dd6bbb').width('36.666667%')"
       ],
       "metadata": {},
       "output_type": "display_data",
       "text": [
        "<IPython.core.display.Javascript at 0x7f78c67e3a90>"
       ]
      },
      {
       "javascript": [
        "$('div#2da45b90-d9d5-4852-99e6-327787dd6bbb').width('36.833333%')"
       ],
       "metadata": {},
       "output_type": "display_data",
       "text": [
        "<IPython.core.display.Javascript at 0x7f78c67e3b50>"
       ]
      },
      {
       "javascript": [
        "$('div#2da45b90-d9d5-4852-99e6-327787dd6bbb').width('37.000000%')"
       ],
       "metadata": {},
       "output_type": "display_data",
       "text": [
        "<IPython.core.display.Javascript at 0x7f78c67e3cd0>"
       ]
      },
      {
       "javascript": [
        "$('div#2da45b90-d9d5-4852-99e6-327787dd6bbb').width('37.166667%')"
       ],
       "metadata": {},
       "output_type": "display_data",
       "text": [
        "<IPython.core.display.Javascript at 0x7f78c67e3550>"
       ]
      },
      {
       "javascript": [
        "$('div#2da45b90-d9d5-4852-99e6-327787dd6bbb').width('37.333333%')"
       ],
       "metadata": {},
       "output_type": "display_data",
       "text": [
        "<IPython.core.display.Javascript at 0x7f78c67e3890>"
       ]
      },
      {
       "javascript": [
        "$('div#2da45b90-d9d5-4852-99e6-327787dd6bbb').width('37.500000%')"
       ],
       "metadata": {},
       "output_type": "display_data",
       "text": [
        "<IPython.core.display.Javascript at 0x7f78c67e3d50>"
       ]
      },
      {
       "javascript": [
        "$('div#2da45b90-d9d5-4852-99e6-327787dd6bbb').width('37.666667%')"
       ],
       "metadata": {},
       "output_type": "display_data",
       "text": [
        "<IPython.core.display.Javascript at 0x7f78c67e3810>"
       ]
      },
      {
       "javascript": [
        "$('div#2da45b90-d9d5-4852-99e6-327787dd6bbb').width('37.833333%')"
       ],
       "metadata": {},
       "output_type": "display_data",
       "text": [
        "<IPython.core.display.Javascript at 0x7f78c67e3b90>"
       ]
      },
      {
       "javascript": [
        "$('div#2da45b90-d9d5-4852-99e6-327787dd6bbb').width('38.000000%')"
       ],
       "metadata": {},
       "output_type": "display_data",
       "text": [
        "<IPython.core.display.Javascript at 0x7f78c67e3c90>"
       ]
      },
      {
       "javascript": [
        "$('div#2da45b90-d9d5-4852-99e6-327787dd6bbb').width('38.166667%')"
       ],
       "metadata": {},
       "output_type": "display_data",
       "text": [
        "<IPython.core.display.Javascript at 0x7f78c67e3d10>"
       ]
      },
      {
       "javascript": [
        "$('div#2da45b90-d9d5-4852-99e6-327787dd6bbb').width('38.333333%')"
       ],
       "metadata": {},
       "output_type": "display_data",
       "text": [
        "<IPython.core.display.Javascript at 0x7f78c67e3c10>"
       ]
      },
      {
       "javascript": [
        "$('div#2da45b90-d9d5-4852-99e6-327787dd6bbb').width('38.500000%')"
       ],
       "metadata": {},
       "output_type": "display_data",
       "text": [
        "<IPython.core.display.Javascript at 0x7f78c67e3a10>"
       ]
      },
      {
       "javascript": [
        "$('div#2da45b90-d9d5-4852-99e6-327787dd6bbb').width('38.666667%')"
       ],
       "metadata": {},
       "output_type": "display_data",
       "text": [
        "<IPython.core.display.Javascript at 0x7f78c67e3110>"
       ]
      },
      {
       "javascript": [
        "$('div#2da45b90-d9d5-4852-99e6-327787dd6bbb').width('38.833333%')"
       ],
       "metadata": {},
       "output_type": "display_data",
       "text": [
        "<IPython.core.display.Javascript at 0x7f78c67e3050>"
       ]
      },
      {
       "javascript": [
        "$('div#2da45b90-d9d5-4852-99e6-327787dd6bbb').width('39.000000%')"
       ],
       "metadata": {},
       "output_type": "display_data",
       "text": [
        "<IPython.core.display.Javascript at 0x7f78c67e34d0>"
       ]
      },
      {
       "javascript": [
        "$('div#2da45b90-d9d5-4852-99e6-327787dd6bbb').width('39.166667%')"
       ],
       "metadata": {},
       "output_type": "display_data",
       "text": [
        "<IPython.core.display.Javascript at 0x7f78c67e3510>"
       ]
      },
      {
       "javascript": [
        "$('div#2da45b90-d9d5-4852-99e6-327787dd6bbb').width('39.333333%')"
       ],
       "metadata": {},
       "output_type": "display_data",
       "text": [
        "<IPython.core.display.Javascript at 0x7f78c67e3450>"
       ]
      },
      {
       "javascript": [
        "$('div#2da45b90-d9d5-4852-99e6-327787dd6bbb').width('39.500000%')"
       ],
       "metadata": {},
       "output_type": "display_data",
       "text": [
        "<IPython.core.display.Javascript at 0x7f78c67e30d0>"
       ]
      },
      {
       "javascript": [
        "$('div#2da45b90-d9d5-4852-99e6-327787dd6bbb').width('39.666667%')"
       ],
       "metadata": {},
       "output_type": "display_data",
       "text": [
        "<IPython.core.display.Javascript at 0x7f78c67e3a50>"
       ]
      },
      {
       "javascript": [
        "$('div#2da45b90-d9d5-4852-99e6-327787dd6bbb').width('39.833333%')"
       ],
       "metadata": {},
       "output_type": "display_data",
       "text": [
        "<IPython.core.display.Javascript at 0x7f78c67ee490>"
       ]
      },
      {
       "javascript": [
        "$('div#2da45b90-d9d5-4852-99e6-327787dd6bbb').width('40.000000%')"
       ],
       "metadata": {},
       "output_type": "display_data",
       "text": [
        "<IPython.core.display.Javascript at 0x7f78c67daf90>"
       ]
      },
      {
       "javascript": [
        "$('div#2da45b90-d9d5-4852-99e6-327787dd6bbb').width('40.166667%')"
       ],
       "metadata": {},
       "output_type": "display_data",
       "text": [
        "<IPython.core.display.Javascript at 0x7f78c67da050>"
       ]
      },
      {
       "javascript": [
        "$('div#2da45b90-d9d5-4852-99e6-327787dd6bbb').width('40.333333%')"
       ],
       "metadata": {},
       "output_type": "display_data",
       "text": [
        "<IPython.core.display.Javascript at 0x7f78c67da450>"
       ]
      },
      {
       "javascript": [
        "$('div#2da45b90-d9d5-4852-99e6-327787dd6bbb').width('40.500000%')"
       ],
       "metadata": {},
       "output_type": "display_data",
       "text": [
        "<IPython.core.display.Javascript at 0x7f78c67da950>"
       ]
      },
      {
       "javascript": [
        "$('div#2da45b90-d9d5-4852-99e6-327787dd6bbb').width('40.666667%')"
       ],
       "metadata": {},
       "output_type": "display_data",
       "text": [
        "<IPython.core.display.Javascript at 0x7f78c67daf10>"
       ]
      },
      {
       "javascript": [
        "$('div#2da45b90-d9d5-4852-99e6-327787dd6bbb').width('40.833333%')"
       ],
       "metadata": {},
       "output_type": "display_data",
       "text": [
        "<IPython.core.display.Javascript at 0x7f78c67dae50>"
       ]
      },
      {
       "javascript": [
        "$('div#2da45b90-d9d5-4852-99e6-327787dd6bbb').width('41.000000%')"
       ],
       "metadata": {},
       "output_type": "display_data",
       "text": [
        "<IPython.core.display.Javascript at 0x7f78c67da9d0>"
       ]
      },
      {
       "javascript": [
        "$('div#2da45b90-d9d5-4852-99e6-327787dd6bbb').width('41.166667%')"
       ],
       "metadata": {},
       "output_type": "display_data",
       "text": [
        "<IPython.core.display.Javascript at 0x7f78c67da790>"
       ]
      },
      {
       "javascript": [
        "$('div#2da45b90-d9d5-4852-99e6-327787dd6bbb').width('41.333333%')"
       ],
       "metadata": {},
       "output_type": "display_data",
       "text": [
        "<IPython.core.display.Javascript at 0x7f78c67da750>"
       ]
      },
      {
       "javascript": [
        "$('div#2da45b90-d9d5-4852-99e6-327787dd6bbb').width('41.500000%')"
       ],
       "metadata": {},
       "output_type": "display_data",
       "text": [
        "<IPython.core.display.Javascript at 0x7f78c67dae10>"
       ]
      },
      {
       "javascript": [
        "$('div#2da45b90-d9d5-4852-99e6-327787dd6bbb').width('41.666667%')"
       ],
       "metadata": {},
       "output_type": "display_data",
       "text": [
        "<IPython.core.display.Javascript at 0x7f78c67da390>"
       ]
      },
      {
       "javascript": [
        "$('div#2da45b90-d9d5-4852-99e6-327787dd6bbb').width('41.833333%')"
       ],
       "metadata": {},
       "output_type": "display_data",
       "text": [
        "<IPython.core.display.Javascript at 0x7f78c67da550>"
       ]
      },
      {
       "javascript": [
        "$('div#2da45b90-d9d5-4852-99e6-327787dd6bbb').width('42.000000%')"
       ],
       "metadata": {},
       "output_type": "display_data",
       "text": [
        "<IPython.core.display.Javascript at 0x7f78c67da110>"
       ]
      },
      {
       "javascript": [
        "$('div#2da45b90-d9d5-4852-99e6-327787dd6bbb').width('42.166667%')"
       ],
       "metadata": {},
       "output_type": "display_data",
       "text": [
        "<IPython.core.display.Javascript at 0x7f78c67da2d0>"
       ]
      },
      {
       "javascript": [
        "$('div#2da45b90-d9d5-4852-99e6-327787dd6bbb').width('42.333333%')"
       ],
       "metadata": {},
       "output_type": "display_data",
       "text": [
        "<IPython.core.display.Javascript at 0x7f78c67da690>"
       ]
      },
      {
       "javascript": [
        "$('div#2da45b90-d9d5-4852-99e6-327787dd6bbb').width('42.500000%')"
       ],
       "metadata": {},
       "output_type": "display_data",
       "text": [
        "<IPython.core.display.Javascript at 0x7f78c67da210>"
       ]
      },
      {
       "javascript": [
        "$('div#2da45b90-d9d5-4852-99e6-327787dd6bbb').width('42.666667%')"
       ],
       "metadata": {},
       "output_type": "display_data",
       "text": [
        "<IPython.core.display.Javascript at 0x7f78c67e3a50>"
       ]
      },
      {
       "javascript": [
        "$('div#2da45b90-d9d5-4852-99e6-327787dd6bbb').width('42.833333%')"
       ],
       "metadata": {},
       "output_type": "display_data",
       "text": [
        "<IPython.core.display.Javascript at 0x7f78c67e3950>"
       ]
      },
      {
       "javascript": [
        "$('div#2da45b90-d9d5-4852-99e6-327787dd6bbb').width('43.000000%')"
       ],
       "metadata": {},
       "output_type": "display_data",
       "text": [
        "<IPython.core.display.Javascript at 0x7f78c67e3510>"
       ]
      },
      {
       "javascript": [
        "$('div#2da45b90-d9d5-4852-99e6-327787dd6bbb').width('43.166667%')"
       ],
       "metadata": {},
       "output_type": "display_data",
       "text": [
        "<IPython.core.display.Javascript at 0x7f78c67e30d0>"
       ]
      },
      {
       "javascript": [
        "$('div#2da45b90-d9d5-4852-99e6-327787dd6bbb').width('43.333333%')"
       ],
       "metadata": {},
       "output_type": "display_data",
       "text": [
        "<IPython.core.display.Javascript at 0x7f78c67e3450>"
       ]
      },
      {
       "javascript": [
        "$('div#2da45b90-d9d5-4852-99e6-327787dd6bbb').width('43.500000%')"
       ],
       "metadata": {},
       "output_type": "display_data",
       "text": [
        "<IPython.core.display.Javascript at 0x7f78c67e3050>"
       ]
      },
      {
       "javascript": [
        "$('div#2da45b90-d9d5-4852-99e6-327787dd6bbb').width('43.666667%')"
       ],
       "metadata": {},
       "output_type": "display_data",
       "text": [
        "<IPython.core.display.Javascript at 0x7f78c67e3110>"
       ]
      },
      {
       "javascript": [
        "$('div#2da45b90-d9d5-4852-99e6-327787dd6bbb').width('43.833333%')"
       ],
       "metadata": {},
       "output_type": "display_data",
       "text": [
        "<IPython.core.display.Javascript at 0x7f78c67e3a10>"
       ]
      },
      {
       "javascript": [
        "$('div#2da45b90-d9d5-4852-99e6-327787dd6bbb').width('44.000000%')"
       ],
       "metadata": {},
       "output_type": "display_data",
       "text": [
        "<IPython.core.display.Javascript at 0x7f78c67e3c10>"
       ]
      },
      {
       "javascript": [
        "$('div#2da45b90-d9d5-4852-99e6-327787dd6bbb').width('44.166667%')"
       ],
       "metadata": {},
       "output_type": "display_data",
       "text": [
        "<IPython.core.display.Javascript at 0x7f78c67e3d10>"
       ]
      },
      {
       "javascript": [
        "$('div#2da45b90-d9d5-4852-99e6-327787dd6bbb').width('44.333333%')"
       ],
       "metadata": {},
       "output_type": "display_data",
       "text": [
        "<IPython.core.display.Javascript at 0x7f78c67e3c90>"
       ]
      },
      {
       "javascript": [
        "$('div#2da45b90-d9d5-4852-99e6-327787dd6bbb').width('44.500000%')"
       ],
       "metadata": {},
       "output_type": "display_data",
       "text": [
        "<IPython.core.display.Javascript at 0x7f78c67e3b90>"
       ]
      },
      {
       "javascript": [
        "$('div#2da45b90-d9d5-4852-99e6-327787dd6bbb').width('44.666667%')"
       ],
       "metadata": {},
       "output_type": "display_data",
       "text": [
        "<IPython.core.display.Javascript at 0x7f78c67e3810>"
       ]
      },
      {
       "javascript": [
        "$('div#2da45b90-d9d5-4852-99e6-327787dd6bbb').width('44.833333%')"
       ],
       "metadata": {},
       "output_type": "display_data",
       "text": [
        "<IPython.core.display.Javascript at 0x7f78c67e3d50>"
       ]
      },
      {
       "javascript": [
        "$('div#2da45b90-d9d5-4852-99e6-327787dd6bbb').width('45.000000%')"
       ],
       "metadata": {},
       "output_type": "display_data",
       "text": [
        "<IPython.core.display.Javascript at 0x7f78c67e3890>"
       ]
      },
      {
       "javascript": [
        "$('div#2da45b90-d9d5-4852-99e6-327787dd6bbb').width('45.166667%')"
       ],
       "metadata": {},
       "output_type": "display_data",
       "text": [
        "<IPython.core.display.Javascript at 0x7f78c67e3550>"
       ]
      },
      {
       "javascript": [
        "$('div#2da45b90-d9d5-4852-99e6-327787dd6bbb').width('45.333333%')"
       ],
       "metadata": {},
       "output_type": "display_data",
       "text": [
        "<IPython.core.display.Javascript at 0x7f78c67e3cd0>"
       ]
      },
      {
       "javascript": [
        "$('div#2da45b90-d9d5-4852-99e6-327787dd6bbb').width('45.500000%')"
       ],
       "metadata": {},
       "output_type": "display_data",
       "text": [
        "<IPython.core.display.Javascript at 0x7f78c67e3b50>"
       ]
      },
      {
       "javascript": [
        "$('div#2da45b90-d9d5-4852-99e6-327787dd6bbb').width('45.666667%')"
       ],
       "metadata": {},
       "output_type": "display_data",
       "text": [
        "<IPython.core.display.Javascript at 0x7f78c67e3a90>"
       ]
      },
      {
       "javascript": [
        "$('div#2da45b90-d9d5-4852-99e6-327787dd6bbb').width('45.833333%')"
       ],
       "metadata": {},
       "output_type": "display_data",
       "text": [
        "<IPython.core.display.Javascript at 0x7f78c67e3590>"
       ]
      },
      {
       "javascript": [
        "$('div#2da45b90-d9d5-4852-99e6-327787dd6bbb').width('46.000000%')"
       ],
       "metadata": {},
       "output_type": "display_data",
       "text": [
        "<IPython.core.display.Javascript at 0x7f78c67e3f90>"
       ]
      },
      {
       "javascript": [
        "$('div#2da45b90-d9d5-4852-99e6-327787dd6bbb').width('46.166667%')"
       ],
       "metadata": {},
       "output_type": "display_data",
       "text": [
        "<IPython.core.display.Javascript at 0x7f78c6752850>"
       ]
      },
      {
       "javascript": [
        "$('div#2da45b90-d9d5-4852-99e6-327787dd6bbb').width('46.333333%')"
       ],
       "metadata": {},
       "output_type": "display_data",
       "text": [
        "<IPython.core.display.Javascript at 0x7f78c67e3350>"
       ]
      },
      {
       "javascript": [
        "$('div#2da45b90-d9d5-4852-99e6-327787dd6bbb').width('46.500000%')"
       ],
       "metadata": {},
       "output_type": "display_data",
       "text": [
        "<IPython.core.display.Javascript at 0x7f78c67ee2d0>"
       ]
      },
      {
       "javascript": [
        "$('div#2da45b90-d9d5-4852-99e6-327787dd6bbb').width('46.666667%')"
       ],
       "metadata": {},
       "output_type": "display_data",
       "text": [
        "<IPython.core.display.Javascript at 0x7f78c67ee890>"
       ]
      },
      {
       "javascript": [
        "$('div#2da45b90-d9d5-4852-99e6-327787dd6bbb').width('46.833333%')"
       ],
       "metadata": {},
       "output_type": "display_data",
       "text": [
        "<IPython.core.display.Javascript at 0x7f78c67ee8d0>"
       ]
      },
      {
       "javascript": [
        "$('div#2da45b90-d9d5-4852-99e6-327787dd6bbb').width('47.000000%')"
       ],
       "metadata": {},
       "output_type": "display_data",
       "text": [
        "<IPython.core.display.Javascript at 0x7f78c67ee1d0>"
       ]
      },
      {
       "javascript": [
        "$('div#2da45b90-d9d5-4852-99e6-327787dd6bbb').width('47.166667%')"
       ],
       "metadata": {},
       "output_type": "display_data",
       "text": [
        "<IPython.core.display.Javascript at 0x7f78c67ee350>"
       ]
      },
      {
       "javascript": [
        "$('div#2da45b90-d9d5-4852-99e6-327787dd6bbb').width('47.333333%')"
       ],
       "metadata": {},
       "output_type": "display_data",
       "text": [
        "<IPython.core.display.Javascript at 0x7f78c67ee450>"
       ]
      },
      {
       "javascript": [
        "$('div#2da45b90-d9d5-4852-99e6-327787dd6bbb').width('47.500000%')"
       ],
       "metadata": {},
       "output_type": "display_data",
       "text": [
        "<IPython.core.display.Javascript at 0x7f78c67ee3d0>"
       ]
      },
      {
       "javascript": [
        "$('div#2da45b90-d9d5-4852-99e6-327787dd6bbb').width('47.666667%')"
       ],
       "metadata": {},
       "output_type": "display_data",
       "text": [
        "<IPython.core.display.Javascript at 0x7f78c67ee950>"
       ]
      },
      {
       "javascript": [
        "$('div#2da45b90-d9d5-4852-99e6-327787dd6bbb').width('47.833333%')"
       ],
       "metadata": {},
       "output_type": "display_data",
       "text": [
        "<IPython.core.display.Javascript at 0x7f78c67ee990>"
       ]
      },
      {
       "javascript": [
        "$('div#2da45b90-d9d5-4852-99e6-327787dd6bbb').width('48.000000%')"
       ],
       "metadata": {},
       "output_type": "display_data",
       "text": [
        "<IPython.core.display.Javascript at 0x7f78c67ee810>"
       ]
      },
      {
       "javascript": [
        "$('div#2da45b90-d9d5-4852-99e6-327787dd6bbb').width('48.166667%')"
       ],
       "metadata": {},
       "output_type": "display_data",
       "text": [
        "<IPython.core.display.Javascript at 0x7f78c67ee210>"
       ]
      },
      {
       "javascript": [
        "$('div#2da45b90-d9d5-4852-99e6-327787dd6bbb').width('48.333333%')"
       ],
       "metadata": {},
       "output_type": "display_data",
       "text": [
        "<IPython.core.display.Javascript at 0x7f78c67ee710>"
       ]
      },
      {
       "javascript": [
        "$('div#2da45b90-d9d5-4852-99e6-327787dd6bbb').width('48.500000%')"
       ],
       "metadata": {},
       "output_type": "display_data",
       "text": [
        "<IPython.core.display.Javascript at 0x7f78c67eed90>"
       ]
      },
      {
       "javascript": [
        "$('div#2da45b90-d9d5-4852-99e6-327787dd6bbb').width('48.666667%')"
       ],
       "metadata": {},
       "output_type": "display_data",
       "text": [
        "<IPython.core.display.Javascript at 0x7f78c67ee0d0>"
       ]
      },
      {
       "javascript": [
        "$('div#2da45b90-d9d5-4852-99e6-327787dd6bbb').width('48.833333%')"
       ],
       "metadata": {},
       "output_type": "display_data",
       "text": [
        "<IPython.core.display.Javascript at 0x7f78c67ee490>"
       ]
      },
      {
       "javascript": [
        "$('div#2da45b90-d9d5-4852-99e6-327787dd6bbb').width('49.000000%')"
       ],
       "metadata": {},
       "output_type": "display_data",
       "text": [
        "<IPython.core.display.Javascript at 0x7f78c67528d0>"
       ]
      },
      {
       "javascript": [
        "$('div#2da45b90-d9d5-4852-99e6-327787dd6bbb').width('49.166667%')"
       ],
       "metadata": {},
       "output_type": "display_data",
       "text": [
        "<IPython.core.display.Javascript at 0x7f78c67da410>"
       ]
      },
      {
       "javascript": [
        "$('div#2da45b90-d9d5-4852-99e6-327787dd6bbb').width('49.333333%')"
       ],
       "metadata": {},
       "output_type": "display_data",
       "text": [
        "<IPython.core.display.Javascript at 0x7f78c67daed0>"
       ]
      },
      {
       "javascript": [
        "$('div#2da45b90-d9d5-4852-99e6-327787dd6bbb').width('49.500000%')"
       ],
       "metadata": {},
       "output_type": "display_data",
       "text": [
        "<IPython.core.display.Javascript at 0x7f78c67da990>"
       ]
      },
      {
       "javascript": [
        "$('div#2da45b90-d9d5-4852-99e6-327787dd6bbb').width('49.666667%')"
       ],
       "metadata": {},
       "output_type": "display_data",
       "text": [
        "<IPython.core.display.Javascript at 0x7f78c67daa10>"
       ]
      },
      {
       "javascript": [
        "$('div#2da45b90-d9d5-4852-99e6-327787dd6bbb').width('49.833333%')"
       ],
       "metadata": {},
       "output_type": "display_data",
       "text": [
        "<IPython.core.display.Javascript at 0x7f78c67da910>"
       ]
      },
      {
       "javascript": [
        "$('div#2da45b90-d9d5-4852-99e6-327787dd6bbb').width('50.000000%')"
       ],
       "metadata": {},
       "output_type": "display_data",
       "text": [
        "<IPython.core.display.Javascript at 0x7f78c67dae90>"
       ]
      },
      {
       "javascript": [
        "$('div#2da45b90-d9d5-4852-99e6-327787dd6bbb').width('50.166667%')"
       ],
       "metadata": {},
       "output_type": "display_data",
       "text": [
        "<IPython.core.display.Javascript at 0x7f78c67dacd0>"
       ]
      },
      {
       "javascript": [
        "$('div#2da45b90-d9d5-4852-99e6-327787dd6bbb').width('50.333333%')"
       ],
       "metadata": {},
       "output_type": "display_data",
       "text": [
        "<IPython.core.display.Javascript at 0x7f78c67da690>"
       ]
      },
      {
       "javascript": [
        "$('div#2da45b90-d9d5-4852-99e6-327787dd6bbb').width('50.500000%')"
       ],
       "metadata": {},
       "output_type": "display_data",
       "text": [
        "<IPython.core.display.Javascript at 0x7f78c67da2d0>"
       ]
      },
      {
       "javascript": [
        "$('div#2da45b90-d9d5-4852-99e6-327787dd6bbb').width('50.666667%')"
       ],
       "metadata": {},
       "output_type": "display_data",
       "text": [
        "<IPython.core.display.Javascript at 0x7f78c67da110>"
       ]
      },
      {
       "javascript": [
        "$('div#2da45b90-d9d5-4852-99e6-327787dd6bbb').width('50.833333%')"
       ],
       "metadata": {},
       "output_type": "display_data",
       "text": [
        "<IPython.core.display.Javascript at 0x7f78c67da550>"
       ]
      },
      {
       "javascript": [
        "$('div#2da45b90-d9d5-4852-99e6-327787dd6bbb').width('51.000000%')"
       ],
       "metadata": {},
       "output_type": "display_data",
       "text": [
        "<IPython.core.display.Javascript at 0x7f78c67da390>"
       ]
      },
      {
       "javascript": [
        "$('div#2da45b90-d9d5-4852-99e6-327787dd6bbb').width('51.166667%')"
       ],
       "metadata": {},
       "output_type": "display_data",
       "text": [
        "<IPython.core.display.Javascript at 0x7f78c67dae10>"
       ]
      },
      {
       "javascript": [
        "$('div#2da45b90-d9d5-4852-99e6-327787dd6bbb').width('51.333333%')"
       ],
       "metadata": {},
       "output_type": "display_data",
       "text": [
        "<IPython.core.display.Javascript at 0x7f78c67da750>"
       ]
      },
      {
       "javascript": [
        "$('div#2da45b90-d9d5-4852-99e6-327787dd6bbb').width('51.500000%')"
       ],
       "metadata": {},
       "output_type": "display_data",
       "text": [
        "<IPython.core.display.Javascript at 0x7f78c67da790>"
       ]
      },
      {
       "javascript": [
        "$('div#2da45b90-d9d5-4852-99e6-327787dd6bbb').width('51.666667%')"
       ],
       "metadata": {},
       "output_type": "display_data",
       "text": [
        "<IPython.core.display.Javascript at 0x7f78c67da9d0>"
       ]
      },
      {
       "javascript": [
        "$('div#2da45b90-d9d5-4852-99e6-327787dd6bbb').width('51.833333%')"
       ],
       "metadata": {},
       "output_type": "display_data",
       "text": [
        "<IPython.core.display.Javascript at 0x7f78c67ee490>"
       ]
      },
      {
       "javascript": [
        "$('div#2da45b90-d9d5-4852-99e6-327787dd6bbb').width('52.000000%')"
       ],
       "metadata": {},
       "output_type": "display_data",
       "text": [
        "<IPython.core.display.Javascript at 0x7f78c67ee310>"
       ]
      },
      {
       "javascript": [
        "$('div#2da45b90-d9d5-4852-99e6-327787dd6bbb').width('52.166667%')"
       ],
       "metadata": {},
       "output_type": "display_data",
       "text": [
        "<IPython.core.display.Javascript at 0x7f78c67ee710>"
       ]
      },
      {
       "javascript": [
        "$('div#2da45b90-d9d5-4852-99e6-327787dd6bbb').width('52.333333%')"
       ],
       "metadata": {},
       "output_type": "display_data",
       "text": [
        "<IPython.core.display.Javascript at 0x7f78c67ee0d0>"
       ]
      },
      {
       "javascript": [
        "$('div#2da45b90-d9d5-4852-99e6-327787dd6bbb').width('52.500000%')"
       ],
       "metadata": {},
       "output_type": "display_data",
       "text": [
        "<IPython.core.display.Javascript at 0x7f78c67eed90>"
       ]
      },
      {
       "javascript": [
        "$('div#2da45b90-d9d5-4852-99e6-327787dd6bbb').width('52.666667%')"
       ],
       "metadata": {},
       "output_type": "display_data",
       "text": [
        "<IPython.core.display.Javascript at 0x7f78c67ee810>"
       ]
      },
      {
       "javascript": [
        "$('div#2da45b90-d9d5-4852-99e6-327787dd6bbb').width('52.833333%')"
       ],
       "metadata": {},
       "output_type": "display_data",
       "text": [
        "<IPython.core.display.Javascript at 0x7f78c67ee990>"
       ]
      },
      {
       "javascript": [
        "$('div#2da45b90-d9d5-4852-99e6-327787dd6bbb').width('53.000000%')"
       ],
       "metadata": {},
       "output_type": "display_data",
       "text": [
        "<IPython.core.display.Javascript at 0x7f78c67ee950>"
       ]
      },
      {
       "javascript": [
        "$('div#2da45b90-d9d5-4852-99e6-327787dd6bbb').width('53.166667%')"
       ],
       "metadata": {},
       "output_type": "display_data",
       "text": [
        "<IPython.core.display.Javascript at 0x7f78c67ee3d0>"
       ]
      },
      {
       "javascript": [
        "$('div#2da45b90-d9d5-4852-99e6-327787dd6bbb').width('53.333333%')"
       ],
       "metadata": {},
       "output_type": "display_data",
       "text": [
        "<IPython.core.display.Javascript at 0x7f78c67ee450>"
       ]
      },
      {
       "javascript": [
        "$('div#2da45b90-d9d5-4852-99e6-327787dd6bbb').width('53.500000%')"
       ],
       "metadata": {},
       "output_type": "display_data",
       "text": [
        "<IPython.core.display.Javascript at 0x7f78c67ee350>"
       ]
      },
      {
       "javascript": [
        "$('div#2da45b90-d9d5-4852-99e6-327787dd6bbb').width('53.666667%')"
       ],
       "metadata": {},
       "output_type": "display_data",
       "text": [
        "<IPython.core.display.Javascript at 0x7f78c67ee1d0>"
       ]
      },
      {
       "javascript": [
        "$('div#2da45b90-d9d5-4852-99e6-327787dd6bbb').width('53.833333%')"
       ],
       "metadata": {},
       "output_type": "display_data",
       "text": [
        "<IPython.core.display.Javascript at 0x7f78c67ee8d0>"
       ]
      },
      {
       "javascript": [
        "$('div#2da45b90-d9d5-4852-99e6-327787dd6bbb').width('54.000000%')"
       ],
       "metadata": {},
       "output_type": "display_data",
       "text": [
        "<IPython.core.display.Javascript at 0x7f78c67ee890>"
       ]
      },
      {
       "javascript": [
        "$('div#2da45b90-d9d5-4852-99e6-327787dd6bbb').width('54.166667%')"
       ],
       "metadata": {},
       "output_type": "display_data",
       "text": [
        "<IPython.core.display.Javascript at 0x7f78c67528d0>"
       ]
      },
      {
       "javascript": [
        "$('div#2da45b90-d9d5-4852-99e6-327787dd6bbb').width('54.333333%')"
       ],
       "metadata": {},
       "output_type": "display_data",
       "text": [
        "<IPython.core.display.Javascript at 0x7f78c67ee2d0>"
       ]
      },
      {
       "javascript": [
        "$('div#2da45b90-d9d5-4852-99e6-327787dd6bbb').width('54.500000%')"
       ],
       "metadata": {},
       "output_type": "display_data",
       "text": [
        "<IPython.core.display.Javascript at 0x7f78c67e3350>"
       ]
      },
      {
       "javascript": [
        "$('div#2da45b90-d9d5-4852-99e6-327787dd6bbb').width('54.666667%')"
       ],
       "metadata": {},
       "output_type": "display_data",
       "text": [
        "<IPython.core.display.Javascript at 0x7f78c67e3f90>"
       ]
      },
      {
       "javascript": [
        "$('div#2da45b90-d9d5-4852-99e6-327787dd6bbb').width('54.833333%')"
       ],
       "metadata": {},
       "output_type": "display_data",
       "text": [
        "<IPython.core.display.Javascript at 0x7f78c67e3590>"
       ]
      },
      {
       "javascript": [
        "$('div#2da45b90-d9d5-4852-99e6-327787dd6bbb').width('55.000000%')"
       ],
       "metadata": {},
       "output_type": "display_data",
       "text": [
        "<IPython.core.display.Javascript at 0x7f78c67e3a90>"
       ]
      },
      {
       "javascript": [
        "$('div#2da45b90-d9d5-4852-99e6-327787dd6bbb').width('55.166667%')"
       ],
       "metadata": {},
       "output_type": "display_data",
       "text": [
        "<IPython.core.display.Javascript at 0x7f78c67e3b50>"
       ]
      },
      {
       "javascript": [
        "$('div#2da45b90-d9d5-4852-99e6-327787dd6bbb').width('55.333333%')"
       ],
       "metadata": {},
       "output_type": "display_data",
       "text": [
        "<IPython.core.display.Javascript at 0x7f78c67e3cd0>"
       ]
      },
      {
       "javascript": [
        "$('div#2da45b90-d9d5-4852-99e6-327787dd6bbb').width('55.500000%')"
       ],
       "metadata": {},
       "output_type": "display_data",
       "text": [
        "<IPython.core.display.Javascript at 0x7f78c67e3550>"
       ]
      },
      {
       "javascript": [
        "$('div#2da45b90-d9d5-4852-99e6-327787dd6bbb').width('55.666667%')"
       ],
       "metadata": {},
       "output_type": "display_data",
       "text": [
        "<IPython.core.display.Javascript at 0x7f78c67e3890>"
       ]
      },
      {
       "javascript": [
        "$('div#2da45b90-d9d5-4852-99e6-327787dd6bbb').width('55.833333%')"
       ],
       "metadata": {},
       "output_type": "display_data",
       "text": [
        "<IPython.core.display.Javascript at 0x7f78c67e3d50>"
       ]
      },
      {
       "javascript": [
        "$('div#2da45b90-d9d5-4852-99e6-327787dd6bbb').width('56.000000%')"
       ],
       "metadata": {},
       "output_type": "display_data",
       "text": [
        "<IPython.core.display.Javascript at 0x7f78c67e3810>"
       ]
      },
      {
       "javascript": [
        "$('div#2da45b90-d9d5-4852-99e6-327787dd6bbb').width('56.166667%')"
       ],
       "metadata": {},
       "output_type": "display_data",
       "text": [
        "<IPython.core.display.Javascript at 0x7f78c67e3b90>"
       ]
      },
      {
       "javascript": [
        "$('div#2da45b90-d9d5-4852-99e6-327787dd6bbb').width('56.333333%')"
       ],
       "metadata": {},
       "output_type": "display_data",
       "text": [
        "<IPython.core.display.Javascript at 0x7f78c67e3c90>"
       ]
      },
      {
       "javascript": [
        "$('div#2da45b90-d9d5-4852-99e6-327787dd6bbb').width('56.500000%')"
       ],
       "metadata": {},
       "output_type": "display_data",
       "text": [
        "<IPython.core.display.Javascript at 0x7f78c67e3d10>"
       ]
      },
      {
       "javascript": [
        "$('div#2da45b90-d9d5-4852-99e6-327787dd6bbb').width('56.666667%')"
       ],
       "metadata": {},
       "output_type": "display_data",
       "text": [
        "<IPython.core.display.Javascript at 0x7f78c67e3c10>"
       ]
      },
      {
       "javascript": [
        "$('div#2da45b90-d9d5-4852-99e6-327787dd6bbb').width('56.833333%')"
       ],
       "metadata": {},
       "output_type": "display_data",
       "text": [
        "<IPython.core.display.Javascript at 0x7f78c67e3a10>"
       ]
      },
      {
       "javascript": [
        "$('div#2da45b90-d9d5-4852-99e6-327787dd6bbb').width('57.000000%')"
       ],
       "metadata": {},
       "output_type": "display_data",
       "text": [
        "<IPython.core.display.Javascript at 0x7f78c67e3110>"
       ]
      },
      {
       "javascript": [
        "$('div#2da45b90-d9d5-4852-99e6-327787dd6bbb').width('57.166667%')"
       ],
       "metadata": {},
       "output_type": "display_data",
       "text": [
        "<IPython.core.display.Javascript at 0x7f78c67e3050>"
       ]
      },
      {
       "javascript": [
        "$('div#2da45b90-d9d5-4852-99e6-327787dd6bbb').width('57.333333%')"
       ],
       "metadata": {},
       "output_type": "display_data",
       "text": [
        "<IPython.core.display.Javascript at 0x7f78c67e3450>"
       ]
      },
      {
       "javascript": [
        "$('div#2da45b90-d9d5-4852-99e6-327787dd6bbb').width('57.500000%')"
       ],
       "metadata": {},
       "output_type": "display_data",
       "text": [
        "<IPython.core.display.Javascript at 0x7f78c67e30d0>"
       ]
      },
      {
       "javascript": [
        "$('div#2da45b90-d9d5-4852-99e6-327787dd6bbb').width('57.666667%')"
       ],
       "metadata": {},
       "output_type": "display_data",
       "text": [
        "<IPython.core.display.Javascript at 0x7f78c67e3510>"
       ]
      },
      {
       "javascript": [
        "$('div#2da45b90-d9d5-4852-99e6-327787dd6bbb').width('57.833333%')"
       ],
       "metadata": {},
       "output_type": "display_data",
       "text": [
        "<IPython.core.display.Javascript at 0x7f78c67e3950>"
       ]
      },
      {
       "javascript": [
        "$('div#2da45b90-d9d5-4852-99e6-327787dd6bbb').width('58.000000%')"
       ],
       "metadata": {},
       "output_type": "display_data",
       "text": [
        "<IPython.core.display.Javascript at 0x7f78c67e34d0>"
       ]
      },
      {
       "javascript": [
        "$('div#2da45b90-d9d5-4852-99e6-327787dd6bbb').width('58.166667%')"
       ],
       "metadata": {},
       "output_type": "display_data",
       "text": [
        "<IPython.core.display.Javascript at 0x7f78c67ee210>"
       ]
      },
      {
       "javascript": [
        "$('div#2da45b90-d9d5-4852-99e6-327787dd6bbb').width('58.333333%')"
       ],
       "metadata": {},
       "output_type": "display_data",
       "text": [
        "<IPython.core.display.Javascript at 0x7f78c67dae50>"
       ]
      },
      {
       "javascript": [
        "$('div#2da45b90-d9d5-4852-99e6-327787dd6bbb').width('58.500000%')"
       ],
       "metadata": {},
       "output_type": "display_data",
       "text": [
        "<IPython.core.display.Javascript at 0x7f78c67daf10>"
       ]
      },
      {
       "javascript": [
        "$('div#2da45b90-d9d5-4852-99e6-327787dd6bbb').width('58.666667%')"
       ],
       "metadata": {},
       "output_type": "display_data",
       "text": [
        "<IPython.core.display.Javascript at 0x7f78c67da210>"
       ]
      },
      {
       "javascript": [
        "$('div#2da45b90-d9d5-4852-99e6-327787dd6bbb').width('58.833333%')"
       ],
       "metadata": {},
       "output_type": "display_data",
       "text": [
        "<IPython.core.display.Javascript at 0x7f78c67da450>"
       ]
      },
      {
       "javascript": [
        "$('div#2da45b90-d9d5-4852-99e6-327787dd6bbb').width('59.000000%')"
       ],
       "metadata": {},
       "output_type": "display_data",
       "text": [
        "<IPython.core.display.Javascript at 0x7f78c67da950>"
       ]
      },
      {
       "javascript": [
        "$('div#2da45b90-d9d5-4852-99e6-327787dd6bbb').width('59.166667%')"
       ],
       "metadata": {},
       "output_type": "display_data",
       "text": [
        "<IPython.core.display.Javascript at 0x7f78c67da050>"
       ]
      },
      {
       "javascript": [
        "$('div#2da45b90-d9d5-4852-99e6-327787dd6bbb').width('59.333333%')"
       ],
       "metadata": {},
       "output_type": "display_data",
       "text": [
        "<IPython.core.display.Javascript at 0x7f78c67daf90>"
       ]
      },
      {
       "javascript": [
        "$('div#2da45b90-d9d5-4852-99e6-327787dd6bbb').width('59.500000%')"
       ],
       "metadata": {},
       "output_type": "display_data",
       "text": [
        "<IPython.core.display.Javascript at 0x7f78c67da790>"
       ]
      },
      {
       "javascript": [
        "$('div#2da45b90-d9d5-4852-99e6-327787dd6bbb').width('59.666667%')"
       ],
       "metadata": {},
       "output_type": "display_data",
       "text": [
        "<IPython.core.display.Javascript at 0x7f78c67da750>"
       ]
      },
      {
       "javascript": [
        "$('div#2da45b90-d9d5-4852-99e6-327787dd6bbb').width('59.833333%')"
       ],
       "metadata": {},
       "output_type": "display_data",
       "text": [
        "<IPython.core.display.Javascript at 0x7f78c67dae10>"
       ]
      },
      {
       "javascript": [
        "$('div#2da45b90-d9d5-4852-99e6-327787dd6bbb').width('60.000000%')"
       ],
       "metadata": {},
       "output_type": "display_data",
       "text": [
        "<IPython.core.display.Javascript at 0x7f78c67da390>"
       ]
      },
      {
       "javascript": [
        "$('div#2da45b90-d9d5-4852-99e6-327787dd6bbb').width('60.166667%')"
       ],
       "metadata": {},
       "output_type": "display_data",
       "text": [
        "<IPython.core.display.Javascript at 0x7f78c67da550>"
       ]
      },
      {
       "javascript": [
        "$('div#2da45b90-d9d5-4852-99e6-327787dd6bbb').width('60.333333%')"
       ],
       "metadata": {},
       "output_type": "display_data",
       "text": [
        "<IPython.core.display.Javascript at 0x7f78c67da110>"
       ]
      },
      {
       "javascript": [
        "$('div#2da45b90-d9d5-4852-99e6-327787dd6bbb').width('60.500000%')"
       ],
       "metadata": {},
       "output_type": "display_data",
       "text": [
        "<IPython.core.display.Javascript at 0x7f78c67da2d0>"
       ]
      },
      {
       "javascript": [
        "$('div#2da45b90-d9d5-4852-99e6-327787dd6bbb').width('60.666667%')"
       ],
       "metadata": {},
       "output_type": "display_data",
       "text": [
        "<IPython.core.display.Javascript at 0x7f78c67da690>"
       ]
      },
      {
       "javascript": [
        "$('div#2da45b90-d9d5-4852-99e6-327787dd6bbb').width('60.833333%')"
       ],
       "metadata": {},
       "output_type": "display_data",
       "text": [
        "<IPython.core.display.Javascript at 0x7f78c67dacd0>"
       ]
      },
      {
       "javascript": [
        "$('div#2da45b90-d9d5-4852-99e6-327787dd6bbb').width('61.000000%')"
       ],
       "metadata": {},
       "output_type": "display_data",
       "text": [
        "<IPython.core.display.Javascript at 0x7f78c67e34d0>"
       ]
      },
      {
       "javascript": [
        "$('div#2da45b90-d9d5-4852-99e6-327787dd6bbb').width('61.166667%')"
       ],
       "metadata": {},
       "output_type": "display_data",
       "text": [
        "<IPython.core.display.Javascript at 0x7f78c67e3a50>"
       ]
      },
      {
       "javascript": [
        "$('div#2da45b90-d9d5-4852-99e6-327787dd6bbb').width('61.333333%')"
       ],
       "metadata": {},
       "output_type": "display_data",
       "text": [
        "<IPython.core.display.Javascript at 0x7f78c67e30d0>"
       ]
      },
      {
       "javascript": [
        "$('div#2da45b90-d9d5-4852-99e6-327787dd6bbb').width('61.500000%')"
       ],
       "metadata": {},
       "output_type": "display_data",
       "text": [
        "<IPython.core.display.Javascript at 0x7f78c67e3950>"
       ]
      },
      {
       "javascript": [
        "$('div#2da45b90-d9d5-4852-99e6-327787dd6bbb').width('61.666667%')"
       ],
       "metadata": {},
       "output_type": "display_data",
       "text": [
        "<IPython.core.display.Javascript at 0x7f78c67e3510>"
       ]
      },
      {
       "javascript": [
        "$('div#2da45b90-d9d5-4852-99e6-327787dd6bbb').width('61.833333%')"
       ],
       "metadata": {},
       "output_type": "display_data",
       "text": [
        "<IPython.core.display.Javascript at 0x7f78c67e3050>"
       ]
      },
      {
       "javascript": [
        "$('div#2da45b90-d9d5-4852-99e6-327787dd6bbb').width('62.000000%')"
       ],
       "metadata": {},
       "output_type": "display_data",
       "text": [
        "<IPython.core.display.Javascript at 0x7f78c67e3110>"
       ]
      },
      {
       "javascript": [
        "$('div#2da45b90-d9d5-4852-99e6-327787dd6bbb').width('62.166667%')"
       ],
       "metadata": {},
       "output_type": "display_data",
       "text": [
        "<IPython.core.display.Javascript at 0x7f78c67e3a10>"
       ]
      },
      {
       "javascript": [
        "$('div#2da45b90-d9d5-4852-99e6-327787dd6bbb').width('62.333333%')"
       ],
       "metadata": {},
       "output_type": "display_data",
       "text": [
        "<IPython.core.display.Javascript at 0x7f78c67e3c10>"
       ]
      },
      {
       "javascript": [
        "$('div#2da45b90-d9d5-4852-99e6-327787dd6bbb').width('62.500000%')"
       ],
       "metadata": {},
       "output_type": "display_data",
       "text": [
        "<IPython.core.display.Javascript at 0x7f78c67e3d10>"
       ]
      },
      {
       "javascript": [
        "$('div#2da45b90-d9d5-4852-99e6-327787dd6bbb').width('62.666667%')"
       ],
       "metadata": {},
       "output_type": "display_data",
       "text": [
        "<IPython.core.display.Javascript at 0x7f78c67e3c90>"
       ]
      },
      {
       "javascript": [
        "$('div#2da45b90-d9d5-4852-99e6-327787dd6bbb').width('62.833333%')"
       ],
       "metadata": {},
       "output_type": "display_data",
       "text": [
        "<IPython.core.display.Javascript at 0x7f78c67e3b90>"
       ]
      },
      {
       "javascript": [
        "$('div#2da45b90-d9d5-4852-99e6-327787dd6bbb').width('63.000000%')"
       ],
       "metadata": {},
       "output_type": "display_data",
       "text": [
        "<IPython.core.display.Javascript at 0x7f78c67e3810>"
       ]
      },
      {
       "javascript": [
        "$('div#2da45b90-d9d5-4852-99e6-327787dd6bbb').width('63.166667%')"
       ],
       "metadata": {},
       "output_type": "display_data",
       "text": [
        "<IPython.core.display.Javascript at 0x7f78c67e3d50>"
       ]
      },
      {
       "javascript": [
        "$('div#2da45b90-d9d5-4852-99e6-327787dd6bbb').width('63.333333%')"
       ],
       "metadata": {},
       "output_type": "display_data",
       "text": [
        "<IPython.core.display.Javascript at 0x7f78c67e3890>"
       ]
      },
      {
       "javascript": [
        "$('div#2da45b90-d9d5-4852-99e6-327787dd6bbb').width('63.500000%')"
       ],
       "metadata": {},
       "output_type": "display_data",
       "text": [
        "<IPython.core.display.Javascript at 0x7f78c67e3550>"
       ]
      },
      {
       "javascript": [
        "$('div#2da45b90-d9d5-4852-99e6-327787dd6bbb').width('63.666667%')"
       ],
       "metadata": {},
       "output_type": "display_data",
       "text": [
        "<IPython.core.display.Javascript at 0x7f78c67e3cd0>"
       ]
      },
      {
       "javascript": [
        "$('div#2da45b90-d9d5-4852-99e6-327787dd6bbb').width('63.833333%')"
       ],
       "metadata": {},
       "output_type": "display_data",
       "text": [
        "<IPython.core.display.Javascript at 0x7f78c67e3b50>"
       ]
      },
      {
       "javascript": [
        "$('div#2da45b90-d9d5-4852-99e6-327787dd6bbb').width('64.000000%')"
       ],
       "metadata": {},
       "output_type": "display_data",
       "text": [
        "<IPython.core.display.Javascript at 0x7f78c67e3a90>"
       ]
      },
      {
       "javascript": [
        "$('div#2da45b90-d9d5-4852-99e6-327787dd6bbb').width('64.166667%')"
       ],
       "metadata": {},
       "output_type": "display_data",
       "text": [
        "<IPython.core.display.Javascript at 0x7f78c67e3590>"
       ]
      },
      {
       "javascript": [
        "$('div#2da45b90-d9d5-4852-99e6-327787dd6bbb').width('64.333333%')"
       ],
       "metadata": {},
       "output_type": "display_data",
       "text": [
        "<IPython.core.display.Javascript at 0x7f78c67e3f90>"
       ]
      },
      {
       "javascript": [
        "$('div#2da45b90-d9d5-4852-99e6-327787dd6bbb').width('64.500000%')"
       ],
       "metadata": {},
       "output_type": "display_data",
       "text": [
        "<IPython.core.display.Javascript at 0x7f78c6752850>"
       ]
      },
      {
       "javascript": [
        "$('div#2da45b90-d9d5-4852-99e6-327787dd6bbb').width('64.666667%')"
       ],
       "metadata": {},
       "output_type": "display_data",
       "text": [
        "<IPython.core.display.Javascript at 0x7f78c67e3350>"
       ]
      },
      {
       "javascript": [
        "$('div#2da45b90-d9d5-4852-99e6-327787dd6bbb').width('64.833333%')"
       ],
       "metadata": {},
       "output_type": "display_data",
       "text": [
        "<IPython.core.display.Javascript at 0x7f78c67ee2d0>"
       ]
      },
      {
       "javascript": [
        "$('div#2da45b90-d9d5-4852-99e6-327787dd6bbb').width('65.000000%')"
       ],
       "metadata": {},
       "output_type": "display_data",
       "text": [
        "<IPython.core.display.Javascript at 0x7f78c67ee890>"
       ]
      },
      {
       "javascript": [
        "$('div#2da45b90-d9d5-4852-99e6-327787dd6bbb').width('65.166667%')"
       ],
       "metadata": {},
       "output_type": "display_data",
       "text": [
        "<IPython.core.display.Javascript at 0x7f78c67ee8d0>"
       ]
      },
      {
       "javascript": [
        "$('div#2da45b90-d9d5-4852-99e6-327787dd6bbb').width('65.333333%')"
       ],
       "metadata": {},
       "output_type": "display_data",
       "text": [
        "<IPython.core.display.Javascript at 0x7f78c67ee1d0>"
       ]
      },
      {
       "javascript": [
        "$('div#2da45b90-d9d5-4852-99e6-327787dd6bbb').width('65.500000%')"
       ],
       "metadata": {},
       "output_type": "display_data",
       "text": [
        "<IPython.core.display.Javascript at 0x7f78c67ee350>"
       ]
      },
      {
       "javascript": [
        "$('div#2da45b90-d9d5-4852-99e6-327787dd6bbb').width('65.666667%')"
       ],
       "metadata": {},
       "output_type": "display_data",
       "text": [
        "<IPython.core.display.Javascript at 0x7f78c67ee450>"
       ]
      },
      {
       "javascript": [
        "$('div#2da45b90-d9d5-4852-99e6-327787dd6bbb').width('65.833333%')"
       ],
       "metadata": {},
       "output_type": "display_data",
       "text": [
        "<IPython.core.display.Javascript at 0x7f78c67ee3d0>"
       ]
      },
      {
       "javascript": [
        "$('div#2da45b90-d9d5-4852-99e6-327787dd6bbb').width('66.000000%')"
       ],
       "metadata": {},
       "output_type": "display_data",
       "text": [
        "<IPython.core.display.Javascript at 0x7f78c67ee950>"
       ]
      },
      {
       "javascript": [
        "$('div#2da45b90-d9d5-4852-99e6-327787dd6bbb').width('66.166667%')"
       ],
       "metadata": {},
       "output_type": "display_data",
       "text": [
        "<IPython.core.display.Javascript at 0x7f78c67ee990>"
       ]
      },
      {
       "javascript": [
        "$('div#2da45b90-d9d5-4852-99e6-327787dd6bbb').width('66.333333%')"
       ],
       "metadata": {},
       "output_type": "display_data",
       "text": [
        "<IPython.core.display.Javascript at 0x7f78c67ee810>"
       ]
      },
      {
       "javascript": [
        "$('div#2da45b90-d9d5-4852-99e6-327787dd6bbb').width('66.500000%')"
       ],
       "metadata": {},
       "output_type": "display_data",
       "text": [
        "<IPython.core.display.Javascript at 0x7f78c67eed90>"
       ]
      },
      {
       "javascript": [
        "$('div#2da45b90-d9d5-4852-99e6-327787dd6bbb').width('66.666667%')"
       ],
       "metadata": {},
       "output_type": "display_data",
       "text": [
        "<IPython.core.display.Javascript at 0x7f78c67ee0d0>"
       ]
      },
      {
       "javascript": [
        "$('div#2da45b90-d9d5-4852-99e6-327787dd6bbb').width('66.833333%')"
       ],
       "metadata": {},
       "output_type": "display_data",
       "text": [
        "<IPython.core.display.Javascript at 0x7f78c67ee710>"
       ]
      },
      {
       "javascript": [
        "$('div#2da45b90-d9d5-4852-99e6-327787dd6bbb').width('67.000000%')"
       ],
       "metadata": {},
       "output_type": "display_data",
       "text": [
        "<IPython.core.display.Javascript at 0x7f78c67ee310>"
       ]
      },
      {
       "javascript": [
        "$('div#2da45b90-d9d5-4852-99e6-327787dd6bbb').width('67.166667%')"
       ],
       "metadata": {},
       "output_type": "display_data",
       "text": [
        "<IPython.core.display.Javascript at 0x7f78c67ee210>"
       ]
      },
      {
       "javascript": [
        "$('div#2da45b90-d9d5-4852-99e6-327787dd6bbb').width('67.333333%')"
       ],
       "metadata": {},
       "output_type": "display_data",
       "text": [
        "<IPython.core.display.Javascript at 0x7f78c67528d0>"
       ]
      },
      {
       "javascript": [
        "$('div#2da45b90-d9d5-4852-99e6-327787dd6bbb').width('67.500000%')"
       ],
       "metadata": {},
       "output_type": "display_data",
       "text": [
        "<IPython.core.display.Javascript at 0x7f78c67dae90>"
       ]
      },
      {
       "javascript": [
        "$('div#2da45b90-d9d5-4852-99e6-327787dd6bbb').width('67.666667%')"
       ],
       "metadata": {},
       "output_type": "display_data",
       "text": [
        "<IPython.core.display.Javascript at 0x7f78c67da910>"
       ]
      },
      {
       "javascript": [
        "$('div#2da45b90-d9d5-4852-99e6-327787dd6bbb').width('67.833333%')"
       ],
       "metadata": {},
       "output_type": "display_data",
       "text": [
        "<IPython.core.display.Javascript at 0x7f78c67da9d0>"
       ]
      },
      {
       "javascript": [
        "$('div#2da45b90-d9d5-4852-99e6-327787dd6bbb').width('68.000000%')"
       ],
       "metadata": {},
       "output_type": "display_data",
       "text": [
        "<IPython.core.display.Javascript at 0x7f78c67da990>"
       ]
      },
      {
       "javascript": [
        "$('div#2da45b90-d9d5-4852-99e6-327787dd6bbb').width('68.166667%')"
       ],
       "metadata": {},
       "output_type": "display_data",
       "text": [
        "<IPython.core.display.Javascript at 0x7f78c67daa10>"
       ]
      },
      {
       "javascript": [
        "$('div#2da45b90-d9d5-4852-99e6-327787dd6bbb').width('68.333333%')"
       ],
       "metadata": {},
       "output_type": "display_data",
       "text": [
        "<IPython.core.display.Javascript at 0x7f78c67daed0>"
       ]
      },
      {
       "javascript": [
        "$('div#2da45b90-d9d5-4852-99e6-327787dd6bbb').width('68.500000%')"
       ],
       "metadata": {},
       "output_type": "display_data",
       "text": [
        "<IPython.core.display.Javascript at 0x7f78c67da410>"
       ]
      },
      {
       "javascript": [
        "$('div#2da45b90-d9d5-4852-99e6-327787dd6bbb').width('68.666667%')"
       ],
       "metadata": {},
       "output_type": "display_data",
       "text": [
        "<IPython.core.display.Javascript at 0x7f78c67da690>"
       ]
      },
      {
       "javascript": [
        "$('div#2da45b90-d9d5-4852-99e6-327787dd6bbb').width('68.833333%')"
       ],
       "metadata": {},
       "output_type": "display_data",
       "text": [
        "<IPython.core.display.Javascript at 0x7f78c67da2d0>"
       ]
      },
      {
       "javascript": [
        "$('div#2da45b90-d9d5-4852-99e6-327787dd6bbb').width('69.000000%')"
       ],
       "metadata": {},
       "output_type": "display_data",
       "text": [
        "<IPython.core.display.Javascript at 0x7f78c67da110>"
       ]
      },
      {
       "javascript": [
        "$('div#2da45b90-d9d5-4852-99e6-327787dd6bbb').width('69.166667%')"
       ],
       "metadata": {},
       "output_type": "display_data",
       "text": [
        "<IPython.core.display.Javascript at 0x7f78c67da550>"
       ]
      },
      {
       "javascript": [
        "$('div#2da45b90-d9d5-4852-99e6-327787dd6bbb').width('69.333333%')"
       ],
       "metadata": {},
       "output_type": "display_data",
       "text": [
        "<IPython.core.display.Javascript at 0x7f78c67da390>"
       ]
      },
      {
       "javascript": [
        "$('div#2da45b90-d9d5-4852-99e6-327787dd6bbb').width('69.500000%')"
       ],
       "metadata": {},
       "output_type": "display_data",
       "text": [
        "<IPython.core.display.Javascript at 0x7f78c67dae10>"
       ]
      },
      {
       "javascript": [
        "$('div#2da45b90-d9d5-4852-99e6-327787dd6bbb').width('69.666667%')"
       ],
       "metadata": {},
       "output_type": "display_data",
       "text": [
        "<IPython.core.display.Javascript at 0x7f78c67da750>"
       ]
      },
      {
       "javascript": [
        "$('div#2da45b90-d9d5-4852-99e6-327787dd6bbb').width('69.833333%')"
       ],
       "metadata": {},
       "output_type": "display_data",
       "text": [
        "<IPython.core.display.Javascript at 0x7f78c67da790>"
       ]
      },
      {
       "javascript": [
        "$('div#2da45b90-d9d5-4852-99e6-327787dd6bbb').width('70.000000%')"
       ],
       "metadata": {},
       "output_type": "display_data",
       "text": [
        "<IPython.core.display.Javascript at 0x7f78c67daf90>"
       ]
      },
      {
       "javascript": [
        "$('div#2da45b90-d9d5-4852-99e6-327787dd6bbb').width('70.166667%')"
       ],
       "metadata": {},
       "output_type": "display_data",
       "text": [
        "<IPython.core.display.Javascript at 0x7f78c67ee210>"
       ]
      },
      {
       "javascript": [
        "$('div#2da45b90-d9d5-4852-99e6-327787dd6bbb').width('70.333333%')"
       ],
       "metadata": {},
       "output_type": "display_data",
       "text": [
        "<IPython.core.display.Javascript at 0x7f78c67ee490>"
       ]
      },
      {
       "javascript": [
        "$('div#2da45b90-d9d5-4852-99e6-327787dd6bbb').width('70.500000%')"
       ],
       "metadata": {},
       "output_type": "display_data",
       "text": [
        "<IPython.core.display.Javascript at 0x7f78c67ee0d0>"
       ]
      },
      {
       "javascript": [
        "$('div#2da45b90-d9d5-4852-99e6-327787dd6bbb').width('70.666667%')"
       ],
       "metadata": {},
       "output_type": "display_data",
       "text": [
        "<IPython.core.display.Javascript at 0x7f78c67ee310>"
       ]
      },
      {
       "javascript": [
        "$('div#2da45b90-d9d5-4852-99e6-327787dd6bbb').width('70.833333%')"
       ],
       "metadata": {},
       "output_type": "display_data",
       "text": [
        "<IPython.core.display.Javascript at 0x7f78c67ee710>"
       ]
      },
      {
       "javascript": [
        "$('div#2da45b90-d9d5-4852-99e6-327787dd6bbb').width('71.000000%')"
       ],
       "metadata": {},
       "output_type": "display_data",
       "text": [
        "<IPython.core.display.Javascript at 0x7f78c67ee810>"
       ]
      },
      {
       "javascript": [
        "$('div#2da45b90-d9d5-4852-99e6-327787dd6bbb').width('71.166667%')"
       ],
       "metadata": {},
       "output_type": "display_data",
       "text": [
        "<IPython.core.display.Javascript at 0x7f78c67ee990>"
       ]
      },
      {
       "javascript": [
        "$('div#2da45b90-d9d5-4852-99e6-327787dd6bbb').width('71.333333%')"
       ],
       "metadata": {},
       "output_type": "display_data",
       "text": [
        "<IPython.core.display.Javascript at 0x7f78c67ee950>"
       ]
      },
      {
       "javascript": [
        "$('div#2da45b90-d9d5-4852-99e6-327787dd6bbb').width('71.500000%')"
       ],
       "metadata": {},
       "output_type": "display_data",
       "text": [
        "<IPython.core.display.Javascript at 0x7f78c67ee3d0>"
       ]
      },
      {
       "javascript": [
        "$('div#2da45b90-d9d5-4852-99e6-327787dd6bbb').width('71.666667%')"
       ],
       "metadata": {},
       "output_type": "display_data",
       "text": [
        "<IPython.core.display.Javascript at 0x7f78c67ee450>"
       ]
      },
      {
       "javascript": [
        "$('div#2da45b90-d9d5-4852-99e6-327787dd6bbb').width('71.833333%')"
       ],
       "metadata": {},
       "output_type": "display_data",
       "text": [
        "<IPython.core.display.Javascript at 0x7f78c67ee350>"
       ]
      },
      {
       "javascript": [
        "$('div#2da45b90-d9d5-4852-99e6-327787dd6bbb').width('72.000000%')"
       ],
       "metadata": {},
       "output_type": "display_data",
       "text": [
        "<IPython.core.display.Javascript at 0x7f78c67ee1d0>"
       ]
      },
      {
       "javascript": [
        "$('div#2da45b90-d9d5-4852-99e6-327787dd6bbb').width('72.166667%')"
       ],
       "metadata": {},
       "output_type": "display_data",
       "text": [
        "<IPython.core.display.Javascript at 0x7f78c67ee8d0>"
       ]
      },
      {
       "javascript": [
        "$('div#2da45b90-d9d5-4852-99e6-327787dd6bbb').width('72.333333%')"
       ],
       "metadata": {},
       "output_type": "display_data",
       "text": [
        "<IPython.core.display.Javascript at 0x7f78c67ee890>"
       ]
      },
      {
       "javascript": [
        "$('div#2da45b90-d9d5-4852-99e6-327787dd6bbb').width('72.500000%')"
       ],
       "metadata": {},
       "output_type": "display_data",
       "text": [
        "<IPython.core.display.Javascript at 0x7f78c67528d0>"
       ]
      },
      {
       "javascript": [
        "$('div#2da45b90-d9d5-4852-99e6-327787dd6bbb').width('72.666667%')"
       ],
       "metadata": {},
       "output_type": "display_data",
       "text": [
        "<IPython.core.display.Javascript at 0x7f78c67ee2d0>"
       ]
      },
      {
       "javascript": [
        "$('div#2da45b90-d9d5-4852-99e6-327787dd6bbb').width('72.833333%')"
       ],
       "metadata": {},
       "output_type": "display_data",
       "text": [
        "<IPython.core.display.Javascript at 0x7f78c67e3350>"
       ]
      },
      {
       "javascript": [
        "$('div#2da45b90-d9d5-4852-99e6-327787dd6bbb').width('73.000000%')"
       ],
       "metadata": {},
       "output_type": "display_data",
       "text": [
        "<IPython.core.display.Javascript at 0x7f78c67e3f90>"
       ]
      },
      {
       "javascript": [
        "$('div#2da45b90-d9d5-4852-99e6-327787dd6bbb').width('73.166667%')"
       ],
       "metadata": {},
       "output_type": "display_data",
       "text": [
        "<IPython.core.display.Javascript at 0x7f78c67e3590>"
       ]
      },
      {
       "javascript": [
        "$('div#2da45b90-d9d5-4852-99e6-327787dd6bbb').width('73.333333%')"
       ],
       "metadata": {},
       "output_type": "display_data",
       "text": [
        "<IPython.core.display.Javascript at 0x7f78c67e3a90>"
       ]
      },
      {
       "javascript": [
        "$('div#2da45b90-d9d5-4852-99e6-327787dd6bbb').width('73.500000%')"
       ],
       "metadata": {},
       "output_type": "display_data",
       "text": [
        "<IPython.core.display.Javascript at 0x7f78c67e3b50>"
       ]
      },
      {
       "javascript": [
        "$('div#2da45b90-d9d5-4852-99e6-327787dd6bbb').width('73.666667%')"
       ],
       "metadata": {},
       "output_type": "display_data",
       "text": [
        "<IPython.core.display.Javascript at 0x7f78c67e3cd0>"
       ]
      },
      {
       "javascript": [
        "$('div#2da45b90-d9d5-4852-99e6-327787dd6bbb').width('73.833333%')"
       ],
       "metadata": {},
       "output_type": "display_data",
       "text": [
        "<IPython.core.display.Javascript at 0x7f78c67e3550>"
       ]
      },
      {
       "javascript": [
        "$('div#2da45b90-d9d5-4852-99e6-327787dd6bbb').width('74.000000%')"
       ],
       "metadata": {},
       "output_type": "display_data",
       "text": [
        "<IPython.core.display.Javascript at 0x7f78c67e3890>"
       ]
      },
      {
       "javascript": [
        "$('div#2da45b90-d9d5-4852-99e6-327787dd6bbb').width('74.166667%')"
       ],
       "metadata": {},
       "output_type": "display_data",
       "text": [
        "<IPython.core.display.Javascript at 0x7f78c67e3d50>"
       ]
      },
      {
       "javascript": [
        "$('div#2da45b90-d9d5-4852-99e6-327787dd6bbb').width('74.333333%')"
       ],
       "metadata": {},
       "output_type": "display_data",
       "text": [
        "<IPython.core.display.Javascript at 0x7f78c67e3810>"
       ]
      },
      {
       "javascript": [
        "$('div#2da45b90-d9d5-4852-99e6-327787dd6bbb').width('74.500000%')"
       ],
       "metadata": {},
       "output_type": "display_data",
       "text": [
        "<IPython.core.display.Javascript at 0x7f78c67e3b90>"
       ]
      },
      {
       "javascript": [
        "$('div#2da45b90-d9d5-4852-99e6-327787dd6bbb').width('74.666667%')"
       ],
       "metadata": {},
       "output_type": "display_data",
       "text": [
        "<IPython.core.display.Javascript at 0x7f78c67e3c90>"
       ]
      },
      {
       "javascript": [
        "$('div#2da45b90-d9d5-4852-99e6-327787dd6bbb').width('74.833333%')"
       ],
       "metadata": {},
       "output_type": "display_data",
       "text": [
        "<IPython.core.display.Javascript at 0x7f78c67e3d10>"
       ]
      },
      {
       "javascript": [
        "$('div#2da45b90-d9d5-4852-99e6-327787dd6bbb').width('75.000000%')"
       ],
       "metadata": {},
       "output_type": "display_data",
       "text": [
        "<IPython.core.display.Javascript at 0x7f78c67e3c10>"
       ]
      },
      {
       "javascript": [
        "$('div#2da45b90-d9d5-4852-99e6-327787dd6bbb').width('75.166667%')"
       ],
       "metadata": {},
       "output_type": "display_data",
       "text": [
        "<IPython.core.display.Javascript at 0x7f78c67e3a10>"
       ]
      },
      {
       "javascript": [
        "$('div#2da45b90-d9d5-4852-99e6-327787dd6bbb').width('75.333333%')"
       ],
       "metadata": {},
       "output_type": "display_data",
       "text": [
        "<IPython.core.display.Javascript at 0x7f78c67e3110>"
       ]
      },
      {
       "javascript": [
        "$('div#2da45b90-d9d5-4852-99e6-327787dd6bbb').width('75.500000%')"
       ],
       "metadata": {},
       "output_type": "display_data",
       "text": [
        "<IPython.core.display.Javascript at 0x7f78c67e3050>"
       ]
      },
      {
       "javascript": [
        "$('div#2da45b90-d9d5-4852-99e6-327787dd6bbb').width('75.666667%')"
       ],
       "metadata": {},
       "output_type": "display_data",
       "text": [
        "<IPython.core.display.Javascript at 0x7f78c67e3510>"
       ]
      },
      {
       "javascript": [
        "$('div#2da45b90-d9d5-4852-99e6-327787dd6bbb').width('75.833333%')"
       ],
       "metadata": {},
       "output_type": "display_data",
       "text": [
        "<IPython.core.display.Javascript at 0x7f78c67e3950>"
       ]
      },
      {
       "javascript": [
        "$('div#2da45b90-d9d5-4852-99e6-327787dd6bbb').width('76.000000%')"
       ],
       "metadata": {},
       "output_type": "display_data",
       "text": [
        "<IPython.core.display.Javascript at 0x7f78c67e30d0>"
       ]
      },
      {
       "javascript": [
        "$('div#2da45b90-d9d5-4852-99e6-327787dd6bbb').width('76.166667%')"
       ],
       "metadata": {},
       "output_type": "display_data",
       "text": [
        "<IPython.core.display.Javascript at 0x7f78c67e3a50>"
       ]
      },
      {
       "javascript": [
        "$('div#2da45b90-d9d5-4852-99e6-327787dd6bbb').width('76.333333%')"
       ],
       "metadata": {},
       "output_type": "display_data",
       "text": [
        "<IPython.core.display.Javascript at 0x7f78c67e3450>"
       ]
      },
      {
       "javascript": [
        "$('div#2da45b90-d9d5-4852-99e6-327787dd6bbb').width('76.500000%')"
       ],
       "metadata": {},
       "output_type": "display_data",
       "text": [
        "<IPython.core.display.Javascript at 0x7f78c67eed90>"
       ]
      },
      {
       "javascript": [
        "$('div#2da45b90-d9d5-4852-99e6-327787dd6bbb').width('76.666667%')"
       ],
       "metadata": {},
       "output_type": "display_data",
       "text": [
        "<IPython.core.display.Javascript at 0x7f78c67da050>"
       ]
      },
      {
       "javascript": [
        "$('div#2da45b90-d9d5-4852-99e6-327787dd6bbb').width('76.833333%')"
       ],
       "metadata": {},
       "output_type": "display_data",
       "text": [
        "<IPython.core.display.Javascript at 0x7f78c67da950>"
       ]
      },
      {
       "javascript": [
        "$('div#2da45b90-d9d5-4852-99e6-327787dd6bbb').width('77.000000%')"
       ],
       "metadata": {},
       "output_type": "display_data",
       "text": [
        "<IPython.core.display.Javascript at 0x7f78c67dacd0>"
       ]
      },
      {
       "javascript": [
        "$('div#2da45b90-d9d5-4852-99e6-327787dd6bbb').width('77.166667%')"
       ],
       "metadata": {},
       "output_type": "display_data",
       "text": [
        "<IPython.core.display.Javascript at 0x7f78c67da210>"
       ]
      },
      {
       "javascript": [
        "$('div#2da45b90-d9d5-4852-99e6-327787dd6bbb').width('77.333333%')"
       ],
       "metadata": {},
       "output_type": "display_data",
       "text": [
        "<IPython.core.display.Javascript at 0x7f78c67da450>"
       ]
      },
      {
       "javascript": [
        "$('div#2da45b90-d9d5-4852-99e6-327787dd6bbb').width('77.500000%')"
       ],
       "metadata": {},
       "output_type": "display_data",
       "text": [
        "<IPython.core.display.Javascript at 0x7f78c67daf10>"
       ]
      },
      {
       "javascript": [
        "$('div#2da45b90-d9d5-4852-99e6-327787dd6bbb').width('77.666667%')"
       ],
       "metadata": {},
       "output_type": "display_data",
       "text": [
        "<IPython.core.display.Javascript at 0x7f78c67dae50>"
       ]
      },
      {
       "javascript": [
        "$('div#2da45b90-d9d5-4852-99e6-327787dd6bbb').width('77.833333%')"
       ],
       "metadata": {},
       "output_type": "display_data",
       "text": [
        "<IPython.core.display.Javascript at 0x7f78c67da790>"
       ]
      },
      {
       "javascript": [
        "$('div#2da45b90-d9d5-4852-99e6-327787dd6bbb').width('78.000000%')"
       ],
       "metadata": {},
       "output_type": "display_data",
       "text": [
        "<IPython.core.display.Javascript at 0x7f78c67da750>"
       ]
      },
      {
       "javascript": [
        "$('div#2da45b90-d9d5-4852-99e6-327787dd6bbb').width('78.166667%')"
       ],
       "metadata": {},
       "output_type": "display_data",
       "text": [
        "<IPython.core.display.Javascript at 0x7f78c67dae10>"
       ]
      },
      {
       "javascript": [
        "$('div#2da45b90-d9d5-4852-99e6-327787dd6bbb').width('78.333333%')"
       ],
       "metadata": {},
       "output_type": "display_data",
       "text": [
        "<IPython.core.display.Javascript at 0x7f78c67da390>"
       ]
      },
      {
       "javascript": [
        "$('div#2da45b90-d9d5-4852-99e6-327787dd6bbb').width('78.500000%')"
       ],
       "metadata": {},
       "output_type": "display_data",
       "text": [
        "<IPython.core.display.Javascript at 0x7f78c67da550>"
       ]
      },
      {
       "javascript": [
        "$('div#2da45b90-d9d5-4852-99e6-327787dd6bbb').width('78.666667%')"
       ],
       "metadata": {},
       "output_type": "display_data",
       "text": [
        "<IPython.core.display.Javascript at 0x7f78c67da110>"
       ]
      },
      {
       "javascript": [
        "$('div#2da45b90-d9d5-4852-99e6-327787dd6bbb').width('78.833333%')"
       ],
       "metadata": {},
       "output_type": "display_data",
       "text": [
        "<IPython.core.display.Javascript at 0x7f78c67da2d0>"
       ]
      },
      {
       "javascript": [
        "$('div#2da45b90-d9d5-4852-99e6-327787dd6bbb').width('79.000000%')"
       ],
       "metadata": {},
       "output_type": "display_data",
       "text": [
        "<IPython.core.display.Javascript at 0x7f78c67da690>"
       ]
      },
      {
       "javascript": [
        "$('div#2da45b90-d9d5-4852-99e6-327787dd6bbb').width('79.166667%')"
       ],
       "metadata": {},
       "output_type": "display_data",
       "text": [
        "<IPython.core.display.Javascript at 0x7f78c67da410>"
       ]
      },
      {
       "javascript": [
        "$('div#2da45b90-d9d5-4852-99e6-327787dd6bbb').width('79.333333%')"
       ],
       "metadata": {},
       "output_type": "display_data",
       "text": [
        "<IPython.core.display.Javascript at 0x7f78c67e3450>"
       ]
      },
      {
       "javascript": [
        "$('div#2da45b90-d9d5-4852-99e6-327787dd6bbb').width('79.500000%')"
       ],
       "metadata": {},
       "output_type": "display_data",
       "text": [
        "<IPython.core.display.Javascript at 0x7f78c67e34d0>"
       ]
      },
      {
       "javascript": [
        "$('div#2da45b90-d9d5-4852-99e6-327787dd6bbb').width('79.666667%')"
       ],
       "metadata": {},
       "output_type": "display_data",
       "text": [
        "<IPython.core.display.Javascript at 0x7f78c67e3950>"
       ]
      },
      {
       "javascript": [
        "$('div#2da45b90-d9d5-4852-99e6-327787dd6bbb').width('79.833333%')"
       ],
       "metadata": {},
       "output_type": "display_data",
       "text": [
        "<IPython.core.display.Javascript at 0x7f78c67e3a50>"
       ]
      },
      {
       "javascript": [
        "$('div#2da45b90-d9d5-4852-99e6-327787dd6bbb').width('80.000000%')"
       ],
       "metadata": {},
       "output_type": "display_data",
       "text": [
        "<IPython.core.display.Javascript at 0x7f78c67e3110>"
       ]
      },
      {
       "javascript": [
        "$('div#2da45b90-d9d5-4852-99e6-327787dd6bbb').width('80.166667%')"
       ],
       "metadata": {},
       "output_type": "display_data",
       "text": [
        "<IPython.core.display.Javascript at 0x7f78c67e3a10>"
       ]
      },
      {
       "javascript": [
        "$('div#2da45b90-d9d5-4852-99e6-327787dd6bbb').width('80.333333%')"
       ],
       "metadata": {},
       "output_type": "display_data",
       "text": [
        "<IPython.core.display.Javascript at 0x7f78c67e30d0>"
       ]
      },
      {
       "javascript": [
        "$('div#2da45b90-d9d5-4852-99e6-327787dd6bbb').width('80.500000%')"
       ],
       "metadata": {},
       "output_type": "display_data",
       "text": [
        "<IPython.core.display.Javascript at 0x7f78c67e3050>"
       ]
      },
      {
       "javascript": [
        "$('div#2da45b90-d9d5-4852-99e6-327787dd6bbb').width('80.666667%')"
       ],
       "metadata": {},
       "output_type": "display_data",
       "text": [
        "<IPython.core.display.Javascript at 0x7f78c67e3c10>"
       ]
      },
      {
       "javascript": [
        "$('div#2da45b90-d9d5-4852-99e6-327787dd6bbb').width('80.833333%')"
       ],
       "metadata": {},
       "output_type": "display_data",
       "text": [
        "<IPython.core.display.Javascript at 0x7f78c67e3d10>"
       ]
      },
      {
       "javascript": [
        "$('div#2da45b90-d9d5-4852-99e6-327787dd6bbb').width('81.000000%')"
       ],
       "metadata": {},
       "output_type": "display_data",
       "text": [
        "<IPython.core.display.Javascript at 0x7f78c67e3c90>"
       ]
      },
      {
       "javascript": [
        "$('div#2da45b90-d9d5-4852-99e6-327787dd6bbb').width('81.166667%')"
       ],
       "metadata": {},
       "output_type": "display_data",
       "text": [
        "<IPython.core.display.Javascript at 0x7f78c67e3b90>"
       ]
      },
      {
       "javascript": [
        "$('div#2da45b90-d9d5-4852-99e6-327787dd6bbb').width('81.333333%')"
       ],
       "metadata": {},
       "output_type": "display_data",
       "text": [
        "<IPython.core.display.Javascript at 0x7f78c67e3810>"
       ]
      },
      {
       "javascript": [
        "$('div#2da45b90-d9d5-4852-99e6-327787dd6bbb').width('81.500000%')"
       ],
       "metadata": {},
       "output_type": "display_data",
       "text": [
        "<IPython.core.display.Javascript at 0x7f78c67e3d50>"
       ]
      },
      {
       "javascript": [
        "$('div#2da45b90-d9d5-4852-99e6-327787dd6bbb').width('81.666667%')"
       ],
       "metadata": {},
       "output_type": "display_data",
       "text": [
        "<IPython.core.display.Javascript at 0x7f78c67e3890>"
       ]
      },
      {
       "javascript": [
        "$('div#2da45b90-d9d5-4852-99e6-327787dd6bbb').width('81.833333%')"
       ],
       "metadata": {},
       "output_type": "display_data",
       "text": [
        "<IPython.core.display.Javascript at 0x7f78c67e3550>"
       ]
      },
      {
       "javascript": [
        "$('div#2da45b90-d9d5-4852-99e6-327787dd6bbb').width('82.000000%')"
       ],
       "metadata": {},
       "output_type": "display_data",
       "text": [
        "<IPython.core.display.Javascript at 0x7f78c67e3a90>"
       ]
      },
      {
       "javascript": [
        "$('div#2da45b90-d9d5-4852-99e6-327787dd6bbb').width('82.166667%')"
       ],
       "metadata": {},
       "output_type": "display_data",
       "text": [
        "<IPython.core.display.Javascript at 0x7f78c67e3590>"
       ]
      },
      {
       "javascript": [
        "$('div#2da45b90-d9d5-4852-99e6-327787dd6bbb').width('82.333333%')"
       ],
       "metadata": {},
       "output_type": "display_data",
       "text": [
        "<IPython.core.display.Javascript at 0x7f78c67e3cd0>"
       ]
      },
      {
       "javascript": [
        "$('div#2da45b90-d9d5-4852-99e6-327787dd6bbb').width('82.500000%')"
       ],
       "metadata": {},
       "output_type": "display_data",
       "text": [
        "<IPython.core.display.Javascript at 0x7f78c67e3b50>"
       ]
      },
      {
       "javascript": [
        "$('div#2da45b90-d9d5-4852-99e6-327787dd6bbb').width('82.666667%')"
       ],
       "metadata": {},
       "output_type": "display_data",
       "text": [
        "<IPython.core.display.Javascript at 0x7f78c67e3f90>"
       ]
      },
      {
       "javascript": [
        "$('div#2da45b90-d9d5-4852-99e6-327787dd6bbb').width('82.833333%')"
       ],
       "metadata": {},
       "output_type": "display_data",
       "text": [
        "<IPython.core.display.Javascript at 0x7f78c6752850>"
       ]
      },
      {
       "javascript": [
        "$('div#2da45b90-d9d5-4852-99e6-327787dd6bbb').width('83.000000%')"
       ],
       "metadata": {},
       "output_type": "display_data",
       "text": [
        "<IPython.core.display.Javascript at 0x7f78c67528d0>"
       ]
      },
      {
       "javascript": [
        "$('div#2da45b90-d9d5-4852-99e6-327787dd6bbb').width('83.166667%')"
       ],
       "metadata": {},
       "output_type": "display_data",
       "text": [
        "<IPython.core.display.Javascript at 0x7f78c67ee2d0>"
       ]
      },
      {
       "javascript": [
        "$('div#2da45b90-d9d5-4852-99e6-327787dd6bbb').width('83.333333%')"
       ],
       "metadata": {},
       "output_type": "display_data",
       "text": [
        "<IPython.core.display.Javascript at 0x7f78c67ee890>"
       ]
      },
      {
       "javascript": [
        "$('div#2da45b90-d9d5-4852-99e6-327787dd6bbb').width('83.500000%')"
       ],
       "metadata": {},
       "output_type": "display_data",
       "text": [
        "<IPython.core.display.Javascript at 0x7f78c67ee8d0>"
       ]
      },
      {
       "javascript": [
        "$('div#2da45b90-d9d5-4852-99e6-327787dd6bbb').width('83.666667%')"
       ],
       "metadata": {},
       "output_type": "display_data",
       "text": [
        "<IPython.core.display.Javascript at 0x7f78c67ee1d0>"
       ]
      },
      {
       "javascript": [
        "$('div#2da45b90-d9d5-4852-99e6-327787dd6bbb').width('83.833333%')"
       ],
       "metadata": {},
       "output_type": "display_data",
       "text": [
        "<IPython.core.display.Javascript at 0x7f78c67ee350>"
       ]
      },
      {
       "javascript": [
        "$('div#2da45b90-d9d5-4852-99e6-327787dd6bbb').width('84.000000%')"
       ],
       "metadata": {},
       "output_type": "display_data",
       "text": [
        "<IPython.core.display.Javascript at 0x7f78c67ee450>"
       ]
      },
      {
       "javascript": [
        "$('div#2da45b90-d9d5-4852-99e6-327787dd6bbb').width('84.166667%')"
       ],
       "metadata": {},
       "output_type": "display_data",
       "text": [
        "<IPython.core.display.Javascript at 0x7f78c67ee3d0>"
       ]
      },
      {
       "javascript": [
        "$('div#2da45b90-d9d5-4852-99e6-327787dd6bbb').width('84.333333%')"
       ],
       "metadata": {},
       "output_type": "display_data",
       "text": [
        "<IPython.core.display.Javascript at 0x7f78c67ee950>"
       ]
      },
      {
       "javascript": [
        "$('div#2da45b90-d9d5-4852-99e6-327787dd6bbb').width('84.500000%')"
       ],
       "metadata": {},
       "output_type": "display_data",
       "text": [
        "<IPython.core.display.Javascript at 0x7f78c67ee990>"
       ]
      },
      {
       "javascript": [
        "$('div#2da45b90-d9d5-4852-99e6-327787dd6bbb').width('84.666667%')"
       ],
       "metadata": {},
       "output_type": "display_data",
       "text": [
        "<IPython.core.display.Javascript at 0x7f78c67ee810>"
       ]
      },
      {
       "javascript": [
        "$('div#2da45b90-d9d5-4852-99e6-327787dd6bbb').width('84.833333%')"
       ],
       "metadata": {},
       "output_type": "display_data",
       "text": [
        "<IPython.core.display.Javascript at 0x7f78c67ee710>"
       ]
      },
      {
       "javascript": [
        "$('div#2da45b90-d9d5-4852-99e6-327787dd6bbb').width('85.000000%')"
       ],
       "metadata": {},
       "output_type": "display_data",
       "text": [
        "<IPython.core.display.Javascript at 0x7f78c67ee310>"
       ]
      },
      {
       "javascript": [
        "$('div#2da45b90-d9d5-4852-99e6-327787dd6bbb').width('85.166667%')"
       ],
       "metadata": {},
       "output_type": "display_data",
       "text": [
        "<IPython.core.display.Javascript at 0x7f78c67ee0d0>"
       ]
      },
      {
       "javascript": [
        "$('div#2da45b90-d9d5-4852-99e6-327787dd6bbb').width('85.333333%')"
       ],
       "metadata": {},
       "output_type": "display_data",
       "text": [
        "<IPython.core.display.Javascript at 0x7f78c67ee490>"
       ]
      },
      {
       "javascript": [
        "$('div#2da45b90-d9d5-4852-99e6-327787dd6bbb').width('85.500000%')"
       ],
       "metadata": {},
       "output_type": "display_data",
       "text": [
        "<IPython.core.display.Javascript at 0x7f78c67eed90>"
       ]
      },
      {
       "javascript": [
        "$('div#2da45b90-d9d5-4852-99e6-327787dd6bbb').width('85.666667%')"
       ],
       "metadata": {},
       "output_type": "display_data",
       "text": [
        "<IPython.core.display.Javascript at 0x7f78c67e3350>"
       ]
      },
      {
       "javascript": [
        "$('div#2da45b90-d9d5-4852-99e6-327787dd6bbb').width('85.833333%')"
       ],
       "metadata": {},
       "output_type": "display_data",
       "text": [
        "<IPython.core.display.Javascript at 0x7f78c67daed0>"
       ]
      },
      {
       "javascript": [
        "$('div#2da45b90-d9d5-4852-99e6-327787dd6bbb').width('86.000000%')"
       ],
       "metadata": {},
       "output_type": "display_data",
       "text": [
        "<IPython.core.display.Javascript at 0x7f78c67daa10>"
       ]
      },
      {
       "javascript": [
        "$('div#2da45b90-d9d5-4852-99e6-327787dd6bbb').width('86.166667%')"
       ],
       "metadata": {},
       "output_type": "display_data",
       "text": [
        "<IPython.core.display.Javascript at 0x7f78c67daf90>"
       ]
      },
      {
       "javascript": [
        "$('div#2da45b90-d9d5-4852-99e6-327787dd6bbb').width('86.333333%')"
       ],
       "metadata": {},
       "output_type": "display_data",
       "text": [
        "<IPython.core.display.Javascript at 0x7f78c67da9d0>"
       ]
      },
      {
       "javascript": [
        "$('div#2da45b90-d9d5-4852-99e6-327787dd6bbb').width('86.500000%')"
       ],
       "metadata": {},
       "output_type": "display_data",
       "text": [
        "<IPython.core.display.Javascript at 0x7f78c67da990>"
       ]
      },
      {
       "javascript": [
        "$('div#2da45b90-d9d5-4852-99e6-327787dd6bbb').width('86.666667%')"
       ],
       "metadata": {},
       "output_type": "display_data",
       "text": [
        "<IPython.core.display.Javascript at 0x7f78c67da910>"
       ]
      },
      {
       "javascript": [
        "$('div#2da45b90-d9d5-4852-99e6-327787dd6bbb').width('86.833333%')"
       ],
       "metadata": {},
       "output_type": "display_data",
       "text": [
        "<IPython.core.display.Javascript at 0x7f78c67dae90>"
       ]
      },
      {
       "javascript": [
        "$('div#2da45b90-d9d5-4852-99e6-327787dd6bbb').width('87.000000%')"
       ],
       "metadata": {},
       "output_type": "display_data",
       "text": [
        "<IPython.core.display.Javascript at 0x7f78c67da690>"
       ]
      },
      {
       "javascript": [
        "$('div#2da45b90-d9d5-4852-99e6-327787dd6bbb').width('87.166667%')"
       ],
       "metadata": {},
       "output_type": "display_data",
       "text": [
        "<IPython.core.display.Javascript at 0x7f78c67da2d0>"
       ]
      },
      {
       "javascript": [
        "$('div#2da45b90-d9d5-4852-99e6-327787dd6bbb').width('87.333333%')"
       ],
       "metadata": {},
       "output_type": "display_data",
       "text": [
        "<IPython.core.display.Javascript at 0x7f78c67da110>"
       ]
      },
      {
       "javascript": [
        "$('div#2da45b90-d9d5-4852-99e6-327787dd6bbb').width('87.500000%')"
       ],
       "metadata": {},
       "output_type": "display_data",
       "text": [
        "<IPython.core.display.Javascript at 0x7f78c67da550>"
       ]
      },
      {
       "javascript": [
        "$('div#2da45b90-d9d5-4852-99e6-327787dd6bbb').width('87.666667%')"
       ],
       "metadata": {},
       "output_type": "display_data",
       "text": [
        "<IPython.core.display.Javascript at 0x7f78c67da390>"
       ]
      },
      {
       "javascript": [
        "$('div#2da45b90-d9d5-4852-99e6-327787dd6bbb').width('87.833333%')"
       ],
       "metadata": {},
       "output_type": "display_data",
       "text": [
        "<IPython.core.display.Javascript at 0x7f78c67dae10>"
       ]
      },
      {
       "javascript": [
        "$('div#2da45b90-d9d5-4852-99e6-327787dd6bbb').width('88.000000%')"
       ],
       "metadata": {},
       "output_type": "display_data",
       "text": [
        "<IPython.core.display.Javascript at 0x7f78c67da750>"
       ]
      },
      {
       "javascript": [
        "$('div#2da45b90-d9d5-4852-99e6-327787dd6bbb').width('88.166667%')"
       ],
       "metadata": {},
       "output_type": "display_data",
       "text": [
        "<IPython.core.display.Javascript at 0x7f78c67da790>"
       ]
      },
      {
       "javascript": [
        "$('div#2da45b90-d9d5-4852-99e6-327787dd6bbb').width('88.333333%')"
       ],
       "metadata": {},
       "output_type": "display_data",
       "text": [
        "<IPython.core.display.Javascript at 0x7f78c67dae50>"
       ]
      },
      {
       "javascript": [
        "$('div#2da45b90-d9d5-4852-99e6-327787dd6bbb').width('88.500000%')"
       ],
       "metadata": {},
       "output_type": "display_data",
       "text": [
        "<IPython.core.display.Javascript at 0x7f78c67eed90>"
       ]
      },
      {
       "javascript": [
        "$('div#2da45b90-d9d5-4852-99e6-327787dd6bbb').width('88.666667%')"
       ],
       "metadata": {},
       "output_type": "display_data",
       "text": [
        "<IPython.core.display.Javascript at 0x7f78c67ee210>"
       ]
      },
      {
       "javascript": [
        "$('div#2da45b90-d9d5-4852-99e6-327787dd6bbb').width('88.833333%')"
       ],
       "metadata": {},
       "output_type": "display_data",
       "text": [
        "<IPython.core.display.Javascript at 0x7f78c67ee310>"
       ]
      },
      {
       "javascript": [
        "$('div#2da45b90-d9d5-4852-99e6-327787dd6bbb').width('89.000000%')"
       ],
       "metadata": {},
       "output_type": "display_data",
       "text": [
        "<IPython.core.display.Javascript at 0x7f78c67ee490>"
       ]
      },
      {
       "javascript": [
        "$('div#2da45b90-d9d5-4852-99e6-327787dd6bbb').width('89.166667%')"
       ],
       "metadata": {},
       "output_type": "display_data",
       "text": [
        "<IPython.core.display.Javascript at 0x7f78c67ee0d0>"
       ]
      },
      {
       "javascript": [
        "$('div#2da45b90-d9d5-4852-99e6-327787dd6bbb').width('89.333333%')"
       ],
       "metadata": {},
       "output_type": "display_data",
       "text": [
        "<IPython.core.display.Javascript at 0x7f78c67ee810>"
       ]
      },
      {
       "javascript": [
        "$('div#2da45b90-d9d5-4852-99e6-327787dd6bbb').width('89.500000%')"
       ],
       "metadata": {},
       "output_type": "display_data",
       "text": [
        "<IPython.core.display.Javascript at 0x7f78c67ee990>"
       ]
      },
      {
       "javascript": [
        "$('div#2da45b90-d9d5-4852-99e6-327787dd6bbb').width('89.666667%')"
       ],
       "metadata": {},
       "output_type": "display_data",
       "text": [
        "<IPython.core.display.Javascript at 0x7f78c67ee950>"
       ]
      },
      {
       "javascript": [
        "$('div#2da45b90-d9d5-4852-99e6-327787dd6bbb').width('89.833333%')"
       ],
       "metadata": {},
       "output_type": "display_data",
       "text": [
        "<IPython.core.display.Javascript at 0x7f78c67ee3d0>"
       ]
      },
      {
       "javascript": [
        "$('div#2da45b90-d9d5-4852-99e6-327787dd6bbb').width('90.000000%')"
       ],
       "metadata": {},
       "output_type": "display_data",
       "text": [
        "<IPython.core.display.Javascript at 0x7f78c67ee450>"
       ]
      },
      {
       "javascript": [
        "$('div#2da45b90-d9d5-4852-99e6-327787dd6bbb').width('90.166667%')"
       ],
       "metadata": {},
       "output_type": "display_data",
       "text": [
        "<IPython.core.display.Javascript at 0x7f78c67ee350>"
       ]
      },
      {
       "javascript": [
        "$('div#2da45b90-d9d5-4852-99e6-327787dd6bbb').width('90.333333%')"
       ],
       "metadata": {},
       "output_type": "display_data",
       "text": [
        "<IPython.core.display.Javascript at 0x7f78c67ee1d0>"
       ]
      },
      {
       "javascript": [
        "$('div#2da45b90-d9d5-4852-99e6-327787dd6bbb').width('90.500000%')"
       ],
       "metadata": {},
       "output_type": "display_data",
       "text": [
        "<IPython.core.display.Javascript at 0x7f78c67ee8d0>"
       ]
      },
      {
       "javascript": [
        "$('div#2da45b90-d9d5-4852-99e6-327787dd6bbb').width('90.666667%')"
       ],
       "metadata": {},
       "output_type": "display_data",
       "text": [
        "<IPython.core.display.Javascript at 0x7f78c67ee890>"
       ]
      },
      {
       "javascript": [
        "$('div#2da45b90-d9d5-4852-99e6-327787dd6bbb').width('90.833333%')"
       ],
       "metadata": {},
       "output_type": "display_data",
       "text": [
        "<IPython.core.display.Javascript at 0x7f78c67528d0>"
       ]
      },
      {
       "javascript": [
        "$('div#2da45b90-d9d5-4852-99e6-327787dd6bbb').width('91.000000%')"
       ],
       "metadata": {},
       "output_type": "display_data",
       "text": [
        "<IPython.core.display.Javascript at 0x7f78c67ee2d0>"
       ]
      },
      {
       "javascript": [
        "$('div#2da45b90-d9d5-4852-99e6-327787dd6bbb').width('91.166667%')"
       ],
       "metadata": {},
       "output_type": "display_data",
       "text": [
        "<IPython.core.display.Javascript at 0x7f78c67e3350>"
       ]
      },
      {
       "javascript": [
        "$('div#2da45b90-d9d5-4852-99e6-327787dd6bbb').width('91.333333%')"
       ],
       "metadata": {},
       "output_type": "display_data",
       "text": [
        "<IPython.core.display.Javascript at 0x7f78c67e3f90>"
       ]
      },
      {
       "javascript": [
        "$('div#2da45b90-d9d5-4852-99e6-327787dd6bbb').width('91.500000%')"
       ],
       "metadata": {},
       "output_type": "display_data",
       "text": [
        "<IPython.core.display.Javascript at 0x7f78c67e3b50>"
       ]
      },
      {
       "javascript": [
        "$('div#2da45b90-d9d5-4852-99e6-327787dd6bbb').width('91.666667%')"
       ],
       "metadata": {},
       "output_type": "display_data",
       "text": [
        "<IPython.core.display.Javascript at 0x7f78c67e3cd0>"
       ]
      },
      {
       "javascript": [
        "$('div#2da45b90-d9d5-4852-99e6-327787dd6bbb').width('91.833333%')"
       ],
       "metadata": {},
       "output_type": "display_data",
       "text": [
        "<IPython.core.display.Javascript at 0x7f78c67e3590>"
       ]
      },
      {
       "javascript": [
        "$('div#2da45b90-d9d5-4852-99e6-327787dd6bbb').width('92.000000%')"
       ],
       "metadata": {},
       "output_type": "display_data",
       "text": [
        "<IPython.core.display.Javascript at 0x7f78c67e3a90>"
       ]
      },
      {
       "javascript": [
        "$('div#2da45b90-d9d5-4852-99e6-327787dd6bbb').width('92.166667%')"
       ],
       "metadata": {},
       "output_type": "display_data",
       "text": [
        "<IPython.core.display.Javascript at 0x7f78c67e3550>"
       ]
      },
      {
       "javascript": [
        "$('div#2da45b90-d9d5-4852-99e6-327787dd6bbb').width('92.333333%')"
       ],
       "metadata": {},
       "output_type": "display_data",
       "text": [
        "<IPython.core.display.Javascript at 0x7f78c67e3890>"
       ]
      },
      {
       "javascript": [
        "$('div#2da45b90-d9d5-4852-99e6-327787dd6bbb').width('92.500000%')"
       ],
       "metadata": {},
       "output_type": "display_data",
       "text": [
        "<IPython.core.display.Javascript at 0x7f78c67e3d50>"
       ]
      },
      {
       "javascript": [
        "$('div#2da45b90-d9d5-4852-99e6-327787dd6bbb').width('92.666667%')"
       ],
       "metadata": {},
       "output_type": "display_data",
       "text": [
        "<IPython.core.display.Javascript at 0x7f78c67e3810>"
       ]
      },
      {
       "javascript": [
        "$('div#2da45b90-d9d5-4852-99e6-327787dd6bbb').width('92.833333%')"
       ],
       "metadata": {},
       "output_type": "display_data",
       "text": [
        "<IPython.core.display.Javascript at 0x7f78c67e3b90>"
       ]
      },
      {
       "javascript": [
        "$('div#2da45b90-d9d5-4852-99e6-327787dd6bbb').width('93.000000%')"
       ],
       "metadata": {},
       "output_type": "display_data",
       "text": [
        "<IPython.core.display.Javascript at 0x7f78c67e3c90>"
       ]
      },
      {
       "javascript": [
        "$('div#2da45b90-d9d5-4852-99e6-327787dd6bbb').width('93.166667%')"
       ],
       "metadata": {},
       "output_type": "display_data",
       "text": [
        "<IPython.core.display.Javascript at 0x7f78c67e3d10>"
       ]
      },
      {
       "javascript": [
        "$('div#2da45b90-d9d5-4852-99e6-327787dd6bbb').width('93.333333%')"
       ],
       "metadata": {},
       "output_type": "display_data",
       "text": [
        "<IPython.core.display.Javascript at 0x7f78c67e3c10>"
       ]
      },
      {
       "javascript": [
        "$('div#2da45b90-d9d5-4852-99e6-327787dd6bbb').width('93.500000%')"
       ],
       "metadata": {},
       "output_type": "display_data",
       "text": [
        "<IPython.core.display.Javascript at 0x7f78c67e3050>"
       ]
      },
      {
       "javascript": [
        "$('div#2da45b90-d9d5-4852-99e6-327787dd6bbb').width('93.666667%')"
       ],
       "metadata": {},
       "output_type": "display_data",
       "text": [
        "<IPython.core.display.Javascript at 0x7f78c67e30d0>"
       ]
      },
      {
       "javascript": [
        "$('div#2da45b90-d9d5-4852-99e6-327787dd6bbb').width('93.833333%')"
       ],
       "metadata": {},
       "output_type": "display_data",
       "text": [
        "<IPython.core.display.Javascript at 0x7f78c67e3a10>"
       ]
      },
      {
       "javascript": [
        "$('div#2da45b90-d9d5-4852-99e6-327787dd6bbb').width('94.000000%')"
       ],
       "metadata": {},
       "output_type": "display_data",
       "text": [
        "<IPython.core.display.Javascript at 0x7f78c67e3110>"
       ]
      },
      {
       "javascript": [
        "$('div#2da45b90-d9d5-4852-99e6-327787dd6bbb').width('94.166667%')"
       ],
       "metadata": {},
       "output_type": "display_data",
       "text": [
        "<IPython.core.display.Javascript at 0x7f78c67e3a50>"
       ]
      },
      {
       "javascript": [
        "$('div#2da45b90-d9d5-4852-99e6-327787dd6bbb').width('94.333333%')"
       ],
       "metadata": {},
       "output_type": "display_data",
       "text": [
        "<IPython.core.display.Javascript at 0x7f78c67e3950>"
       ]
      },
      {
       "javascript": [
        "$('div#2da45b90-d9d5-4852-99e6-327787dd6bbb').width('94.500000%')"
       ],
       "metadata": {},
       "output_type": "display_data",
       "text": [
        "<IPython.core.display.Javascript at 0x7f78c67e34d0>"
       ]
      },
      {
       "javascript": [
        "$('div#2da45b90-d9d5-4852-99e6-327787dd6bbb').width('94.666667%')"
       ],
       "metadata": {},
       "output_type": "display_data",
       "text": [
        "<IPython.core.display.Javascript at 0x7f78c67e3510>"
       ]
      },
      {
       "javascript": [
        "$('div#2da45b90-d9d5-4852-99e6-327787dd6bbb').width('94.833333%')"
       ],
       "metadata": {},
       "output_type": "display_data",
       "text": [
        "<IPython.core.display.Javascript at 0x7f78c67ee710>"
       ]
      },
      {
       "javascript": [
        "$('div#2da45b90-d9d5-4852-99e6-327787dd6bbb').width('95.000000%')"
       ],
       "metadata": {},
       "output_type": "display_data",
       "text": [
        "<IPython.core.display.Javascript at 0x7f78c67daf10>"
       ]
      },
      {
       "javascript": [
        "$('div#2da45b90-d9d5-4852-99e6-327787dd6bbb').width('95.166667%')"
       ],
       "metadata": {},
       "output_type": "display_data",
       "text": [
        "<IPython.core.display.Javascript at 0x7f78c67da450>"
       ]
      },
      {
       "javascript": [
        "$('div#2da45b90-d9d5-4852-99e6-327787dd6bbb').width('95.333333%')"
       ],
       "metadata": {},
       "output_type": "display_data",
       "text": [
        "<IPython.core.display.Javascript at 0x7f78c67da410>"
       ]
      },
      {
       "javascript": [
        "$('div#2da45b90-d9d5-4852-99e6-327787dd6bbb').width('95.500000%')"
       ],
       "metadata": {},
       "output_type": "display_data",
       "text": [
        "<IPython.core.display.Javascript at 0x7f78c67dacd0>"
       ]
      },
      {
       "javascript": [
        "$('div#2da45b90-d9d5-4852-99e6-327787dd6bbb').width('95.666667%')"
       ],
       "metadata": {},
       "output_type": "display_data",
       "text": [
        "<IPython.core.display.Javascript at 0x7f78c67da210>"
       ]
      },
      {
       "javascript": [
        "$('div#2da45b90-d9d5-4852-99e6-327787dd6bbb').width('95.833333%')"
       ],
       "metadata": {},
       "output_type": "display_data",
       "text": [
        "<IPython.core.display.Javascript at 0x7f78c67da950>"
       ]
      },
      {
       "javascript": [
        "$('div#2da45b90-d9d5-4852-99e6-327787dd6bbb').width('96.000000%')"
       ],
       "metadata": {},
       "output_type": "display_data",
       "text": [
        "<IPython.core.display.Javascript at 0x7f78c67da790>"
       ]
      },
      {
       "javascript": [
        "$('div#2da45b90-d9d5-4852-99e6-327787dd6bbb').width('96.166667%')"
       ],
       "metadata": {},
       "output_type": "display_data",
       "text": [
        "<IPython.core.display.Javascript at 0x7f78c67da750>"
       ]
      },
      {
       "javascript": [
        "$('div#2da45b90-d9d5-4852-99e6-327787dd6bbb').width('96.333333%')"
       ],
       "metadata": {},
       "output_type": "display_data",
       "text": [
        "<IPython.core.display.Javascript at 0x7f78c67dae10>"
       ]
      },
      {
       "javascript": [
        "$('div#2da45b90-d9d5-4852-99e6-327787dd6bbb').width('96.500000%')"
       ],
       "metadata": {},
       "output_type": "display_data",
       "text": [
        "<IPython.core.display.Javascript at 0x7f78c67da390>"
       ]
      },
      {
       "javascript": [
        "$('div#2da45b90-d9d5-4852-99e6-327787dd6bbb').width('96.666667%')"
       ],
       "metadata": {},
       "output_type": "display_data",
       "text": [
        "<IPython.core.display.Javascript at 0x7f78c67da550>"
       ]
      },
      {
       "javascript": [
        "$('div#2da45b90-d9d5-4852-99e6-327787dd6bbb').width('96.833333%')"
       ],
       "metadata": {},
       "output_type": "display_data",
       "text": [
        "<IPython.core.display.Javascript at 0x7f78c67da110>"
       ]
      },
      {
       "javascript": [
        "$('div#2da45b90-d9d5-4852-99e6-327787dd6bbb').width('97.000000%')"
       ],
       "metadata": {},
       "output_type": "display_data",
       "text": [
        "<IPython.core.display.Javascript at 0x7f78c67da2d0>"
       ]
      },
      {
       "javascript": [
        "$('div#2da45b90-d9d5-4852-99e6-327787dd6bbb').width('97.166667%')"
       ],
       "metadata": {},
       "output_type": "display_data",
       "text": [
        "<IPython.core.display.Javascript at 0x7f78c67da690>"
       ]
      },
      {
       "javascript": [
        "$('div#2da45b90-d9d5-4852-99e6-327787dd6bbb').width('97.333333%')"
       ],
       "metadata": {},
       "output_type": "display_data",
       "text": [
        "<IPython.core.display.Javascript at 0x7f78c67dae90>"
       ]
      },
      {
       "javascript": [
        "$('div#2da45b90-d9d5-4852-99e6-327787dd6bbb').width('97.500000%')"
       ],
       "metadata": {},
       "output_type": "display_data",
       "text": [
        "<IPython.core.display.Javascript at 0x7f78c67da910>"
       ]
      },
      {
       "javascript": [
        "$('div#2da45b90-d9d5-4852-99e6-327787dd6bbb').width('97.666667%')"
       ],
       "metadata": {},
       "output_type": "display_data",
       "text": [
        "<IPython.core.display.Javascript at 0x7f78c67e3510>"
       ]
      },
      {
       "javascript": [
        "$('div#2da45b90-d9d5-4852-99e6-327787dd6bbb').width('97.833333%')"
       ],
       "metadata": {},
       "output_type": "display_data",
       "text": [
        "<IPython.core.display.Javascript at 0x7f78c67e3450>"
       ]
      },
      {
       "javascript": [
        "$('div#2da45b90-d9d5-4852-99e6-327787dd6bbb').width('98.000000%')"
       ],
       "metadata": {},
       "output_type": "display_data",
       "text": [
        "<IPython.core.display.Javascript at 0x7f78c67e3a50>"
       ]
      },
      {
       "javascript": [
        "$('div#2da45b90-d9d5-4852-99e6-327787dd6bbb').width('98.166667%')"
       ],
       "metadata": {},
       "output_type": "display_data",
       "text": [
        "<IPython.core.display.Javascript at 0x7f78c67e34d0>"
       ]
      },
      {
       "javascript": [
        "$('div#2da45b90-d9d5-4852-99e6-327787dd6bbb').width('98.333333%')"
       ],
       "metadata": {},
       "output_type": "display_data",
       "text": [
        "<IPython.core.display.Javascript at 0x7f78c67e3950>"
       ]
      },
      {
       "javascript": [
        "$('div#2da45b90-d9d5-4852-99e6-327787dd6bbb').width('98.500000%')"
       ],
       "metadata": {},
       "output_type": "display_data",
       "text": [
        "<IPython.core.display.Javascript at 0x7f78c67e3a10>"
       ]
      },
      {
       "javascript": [
        "$('div#2da45b90-d9d5-4852-99e6-327787dd6bbb').width('98.666667%')"
       ],
       "metadata": {},
       "output_type": "display_data",
       "text": [
        "<IPython.core.display.Javascript at 0x7f78c67e30d0>"
       ]
      },
      {
       "javascript": [
        "$('div#2da45b90-d9d5-4852-99e6-327787dd6bbb').width('98.833333%')"
       ],
       "metadata": {},
       "output_type": "display_data",
       "text": [
        "<IPython.core.display.Javascript at 0x7f78c67e3050>"
       ]
      },
      {
       "javascript": [
        "$('div#2da45b90-d9d5-4852-99e6-327787dd6bbb').width('99.000000%')"
       ],
       "metadata": {},
       "output_type": "display_data",
       "text": [
        "<IPython.core.display.Javascript at 0x7f78c67e3c10>"
       ]
      },
      {
       "javascript": [
        "$('div#2da45b90-d9d5-4852-99e6-327787dd6bbb').width('99.166667%')"
       ],
       "metadata": {},
       "output_type": "display_data",
       "text": [
        "<IPython.core.display.Javascript at 0x7f78c67e3d10>"
       ]
      },
      {
       "javascript": [
        "$('div#2da45b90-d9d5-4852-99e6-327787dd6bbb').width('99.333333%')"
       ],
       "metadata": {},
       "output_type": "display_data",
       "text": [
        "<IPython.core.display.Javascript at 0x7f78c67e3c90>"
       ]
      },
      {
       "javascript": [
        "$('div#2da45b90-d9d5-4852-99e6-327787dd6bbb').width('99.500000%')"
       ],
       "metadata": {},
       "output_type": "display_data",
       "text": [
        "<IPython.core.display.Javascript at 0x7f78c67e3b90>"
       ]
      },
      {
       "javascript": [
        "$('div#2da45b90-d9d5-4852-99e6-327787dd6bbb').width('99.666667%')"
       ],
       "metadata": {},
       "output_type": "display_data",
       "text": [
        "<IPython.core.display.Javascript at 0x7f78c67e3810>"
       ]
      },
      {
       "javascript": [
        "$('div#2da45b90-d9d5-4852-99e6-327787dd6bbb').width('99.833333%')"
       ],
       "metadata": {},
       "output_type": "display_data",
       "text": [
        "<IPython.core.display.Javascript at 0x7f78c67e3d50>"
       ]
      },
      {
       "javascript": [
        "$('div#2da45b90-d9d5-4852-99e6-327787dd6bbb').width('100.000000%')"
       ],
       "metadata": {},
       "output_type": "display_data",
       "text": [
        "<IPython.core.display.Javascript at 0x7f78c67e3890>"
       ]
      },
      {
       "output_type": "stream",
       "stream": "stdout",
       "text": [
        "Generating 600 realizations of the model (chunk size=5)\n"
       ]
      },
      {
       "html": [
        "\n",
        "                          <div style=\"border: 1px solid black; width:500px\">\n",
        "                          <div id=\"cd6f58ae-91e9-4550-a65b-61bd43423d5e\" style=\"background-color:blue; width:0%\">&nbsp;</div>\n",
        "                          </div>\n",
        "                          "
       ],
       "metadata": {},
       "output_type": "display_data",
       "text": [
        "<IPython.core.display.HTML at 0x7f78c6fea6d0>"
       ]
      },
      {
       "javascript": [
        "$('div#cd6f58ae-91e9-4550-a65b-61bd43423d5e').width('0.833333%')"
       ],
       "metadata": {},
       "output_type": "display_data",
       "text": [
        "<IPython.core.display.Javascript at 0x7f78c67e3890>"
       ]
      },
      {
       "javascript": [
        "$('div#cd6f58ae-91e9-4550-a65b-61bd43423d5e').width('1.666667%')"
       ],
       "metadata": {},
       "output_type": "display_data",
       "text": [
        "<IPython.core.display.Javascript at 0x7f78c67e3b90>"
       ]
      },
      {
       "javascript": [
        "$('div#cd6f58ae-91e9-4550-a65b-61bd43423d5e').width('2.500000%')"
       ],
       "metadata": {},
       "output_type": "display_data",
       "text": [
        "<IPython.core.display.Javascript at 0x7f78c67e3c10>"
       ]
      },
      {
       "javascript": [
        "$('div#cd6f58ae-91e9-4550-a65b-61bd43423d5e').width('3.333333%')"
       ],
       "metadata": {},
       "output_type": "display_data",
       "text": [
        "<IPython.core.display.Javascript at 0x7f78c67e3d50>"
       ]
      },
      {
       "javascript": [
        "$('div#cd6f58ae-91e9-4550-a65b-61bd43423d5e').width('4.166667%')"
       ],
       "metadata": {},
       "output_type": "display_data",
       "text": [
        "<IPython.core.display.Javascript at 0x7f78c67e3c90>"
       ]
      },
      {
       "javascript": [
        "$('div#cd6f58ae-91e9-4550-a65b-61bd43423d5e').width('5.000000%')"
       ],
       "metadata": {},
       "output_type": "display_data",
       "text": [
        "<IPython.core.display.Javascript at 0x7f78c67e3d10>"
       ]
      },
      {
       "javascript": [
        "$('div#cd6f58ae-91e9-4550-a65b-61bd43423d5e').width('5.833333%')"
       ],
       "metadata": {},
       "output_type": "display_data",
       "text": [
        "<IPython.core.display.Javascript at 0x7f78c67e3050>"
       ]
      },
      {
       "javascript": [
        "$('div#cd6f58ae-91e9-4550-a65b-61bd43423d5e').width('6.666667%')"
       ],
       "metadata": {},
       "output_type": "display_data",
       "text": [
        "<IPython.core.display.Javascript at 0x7f78c67e30d0>"
       ]
      },
      {
       "javascript": [
        "$('div#cd6f58ae-91e9-4550-a65b-61bd43423d5e').width('7.500000%')"
       ],
       "metadata": {},
       "output_type": "display_data",
       "text": [
        "<IPython.core.display.Javascript at 0x7f78c67e3a10>"
       ]
      },
      {
       "javascript": [
        "$('div#cd6f58ae-91e9-4550-a65b-61bd43423d5e').width('8.333333%')"
       ],
       "metadata": {},
       "output_type": "display_data",
       "text": [
        "<IPython.core.display.Javascript at 0x7f78c67e3950>"
       ]
      },
      {
       "javascript": [
        "$('div#cd6f58ae-91e9-4550-a65b-61bd43423d5e').width('9.166667%')"
       ],
       "metadata": {},
       "output_type": "display_data",
       "text": [
        "<IPython.core.display.Javascript at 0x7f78c67e34d0>"
       ]
      },
      {
       "javascript": [
        "$('div#cd6f58ae-91e9-4550-a65b-61bd43423d5e').width('10.000000%')"
       ],
       "metadata": {},
       "output_type": "display_data",
       "text": [
        "<IPython.core.display.Javascript at 0x7f78c67e3a50>"
       ]
      },
      {
       "javascript": [
        "$('div#cd6f58ae-91e9-4550-a65b-61bd43423d5e').width('10.833333%')"
       ],
       "metadata": {},
       "output_type": "display_data",
       "text": [
        "<IPython.core.display.Javascript at 0x7f78c67e3450>"
       ]
      },
      {
       "javascript": [
        "$('div#cd6f58ae-91e9-4550-a65b-61bd43423d5e').width('11.666667%')"
       ],
       "metadata": {},
       "output_type": "display_data",
       "text": [
        "<IPython.core.display.Javascript at 0x7f78c67e3810>"
       ]
      },
      {
       "javascript": [
        "$('div#cd6f58ae-91e9-4550-a65b-61bd43423d5e').width('12.500000%')"
       ],
       "metadata": {},
       "output_type": "display_data",
       "text": [
        "<IPython.core.display.Javascript at 0x7f78c67e3510>"
       ]
      },
      {
       "javascript": [
        "$('div#cd6f58ae-91e9-4550-a65b-61bd43423d5e').width('13.333333%')"
       ],
       "metadata": {},
       "output_type": "display_data",
       "text": [
        "<IPython.core.display.Javascript at 0x7f78c67ee2d0>"
       ]
      },
      {
       "javascript": [
        "$('div#cd6f58ae-91e9-4550-a65b-61bd43423d5e').width('14.166667%')"
       ],
       "metadata": {},
       "output_type": "display_data",
       "text": [
        "<IPython.core.display.Javascript at 0x7f78c67ee890>"
       ]
      },
      {
       "javascript": [
        "$('div#cd6f58ae-91e9-4550-a65b-61bd43423d5e').width('15.000000%')"
       ],
       "metadata": {},
       "output_type": "display_data",
       "text": [
        "<IPython.core.display.Javascript at 0x7f78c67ee8d0>"
       ]
      },
      {
       "javascript": [
        "$('div#cd6f58ae-91e9-4550-a65b-61bd43423d5e').width('15.833333%')"
       ],
       "metadata": {},
       "output_type": "display_data",
       "text": [
        "<IPython.core.display.Javascript at 0x7f78c67ee1d0>"
       ]
      },
      {
       "javascript": [
        "$('div#cd6f58ae-91e9-4550-a65b-61bd43423d5e').width('16.666667%')"
       ],
       "metadata": {},
       "output_type": "display_data",
       "text": [
        "<IPython.core.display.Javascript at 0x7f78c67ee350>"
       ]
      },
      {
       "javascript": [
        "$('div#cd6f58ae-91e9-4550-a65b-61bd43423d5e').width('17.500000%')"
       ],
       "metadata": {},
       "output_type": "display_data",
       "text": [
        "<IPython.core.display.Javascript at 0x7f78c67ee450>"
       ]
      },
      {
       "javascript": [
        "$('div#cd6f58ae-91e9-4550-a65b-61bd43423d5e').width('18.333333%')"
       ],
       "metadata": {},
       "output_type": "display_data",
       "text": [
        "<IPython.core.display.Javascript at 0x7f78c67ee3d0>"
       ]
      },
      {
       "javascript": [
        "$('div#cd6f58ae-91e9-4550-a65b-61bd43423d5e').width('19.166667%')"
       ],
       "metadata": {},
       "output_type": "display_data",
       "text": [
        "<IPython.core.display.Javascript at 0x7f78c67ee950>"
       ]
      },
      {
       "javascript": [
        "$('div#cd6f58ae-91e9-4550-a65b-61bd43423d5e').width('20.000000%')"
       ],
       "metadata": {},
       "output_type": "display_data",
       "text": [
        "<IPython.core.display.Javascript at 0x7f78c67ee990>"
       ]
      },
      {
       "javascript": [
        "$('div#cd6f58ae-91e9-4550-a65b-61bd43423d5e').width('20.833333%')"
       ],
       "metadata": {},
       "output_type": "display_data",
       "text": [
        "<IPython.core.display.Javascript at 0x7f78c67ee0d0>"
       ]
      },
      {
       "javascript": [
        "$('div#cd6f58ae-91e9-4550-a65b-61bd43423d5e').width('21.666667%')"
       ],
       "metadata": {},
       "output_type": "display_data",
       "text": [
        "<IPython.core.display.Javascript at 0x7f78c67ee810>"
       ]
      },
      {
       "javascript": [
        "$('div#cd6f58ae-91e9-4550-a65b-61bd43423d5e').width('22.500000%')"
       ],
       "metadata": {},
       "output_type": "display_data",
       "text": [
        "<IPython.core.display.Javascript at 0x7f78c67ee490>"
       ]
      },
      {
       "javascript": [
        "$('div#cd6f58ae-91e9-4550-a65b-61bd43423d5e').width('23.333333%')"
       ],
       "metadata": {},
       "output_type": "display_data",
       "text": [
        "<IPython.core.display.Javascript at 0x7f78c67ee310>"
       ]
      },
      {
       "javascript": [
        "$('div#cd6f58ae-91e9-4550-a65b-61bd43423d5e').width('24.166667%')"
       ],
       "metadata": {},
       "output_type": "display_data",
       "text": [
        "<IPython.core.display.Javascript at 0x7f78c67ee210>"
       ]
      },
      {
       "javascript": [
        "$('div#cd6f58ae-91e9-4550-a65b-61bd43423d5e').width('25.000000%')"
       ],
       "metadata": {},
       "output_type": "display_data",
       "text": [
        "<IPython.core.display.Javascript at 0x7f78c67ee710>"
       ]
      },
      {
       "javascript": [
        "$('div#cd6f58ae-91e9-4550-a65b-61bd43423d5e').width('25.833333%')"
       ],
       "metadata": {},
       "output_type": "display_data",
       "text": [
        "<IPython.core.display.Javascript at 0x7f78c6752bd0>"
       ]
      },
      {
       "javascript": [
        "$('div#cd6f58ae-91e9-4550-a65b-61bd43423d5e').width('26.666667%')"
       ],
       "metadata": {},
       "output_type": "display_data",
       "text": [
        "<IPython.core.display.Javascript at 0x7f78c67da990>"
       ]
      },
      {
       "javascript": [
        "$('div#cd6f58ae-91e9-4550-a65b-61bd43423d5e').width('27.500000%')"
       ],
       "metadata": {},
       "output_type": "display_data",
       "text": [
        "<IPython.core.display.Javascript at 0x7f78c67da9d0>"
       ]
      },
      {
       "javascript": [
        "$('div#cd6f58ae-91e9-4550-a65b-61bd43423d5e').width('28.333333%')"
       ],
       "metadata": {},
       "output_type": "display_data",
       "text": [
        "<IPython.core.display.Javascript at 0x7f78c67dae50>"
       ]
      },
      {
       "javascript": [
        "$('div#cd6f58ae-91e9-4550-a65b-61bd43423d5e').width('29.166667%')"
       ],
       "metadata": {},
       "output_type": "display_data",
       "text": [
        "<IPython.core.display.Javascript at 0x7f78c67daa10>"
       ]
      },
      {
       "javascript": [
        "$('div#cd6f58ae-91e9-4550-a65b-61bd43423d5e').width('30.000000%')"
       ],
       "metadata": {},
       "output_type": "display_data",
       "text": [
        "<IPython.core.display.Javascript at 0x7f78c67daf90>"
       ]
      },
      {
       "javascript": [
        "$('div#cd6f58ae-91e9-4550-a65b-61bd43423d5e').width('30.833333%')"
       ],
       "metadata": {},
       "output_type": "display_data",
       "text": [
        "<IPython.core.display.Javascript at 0x7f78c67daed0>"
       ]
      },
      {
       "javascript": [
        "$('div#cd6f58ae-91e9-4550-a65b-61bd43423d5e').width('31.666667%')"
       ],
       "metadata": {},
       "output_type": "display_data",
       "text": [
        "<IPython.core.display.Javascript at 0x7f78c67da050>"
       ]
      },
      {
       "javascript": [
        "$('div#cd6f58ae-91e9-4550-a65b-61bd43423d5e').width('32.500000%')"
       ],
       "metadata": {},
       "output_type": "display_data",
       "text": [
        "<IPython.core.display.Javascript at 0x7f78c67dae90>"
       ]
      },
      {
       "javascript": [
        "$('div#cd6f58ae-91e9-4550-a65b-61bd43423d5e').width('33.333333%')"
       ],
       "metadata": {},
       "output_type": "display_data",
       "text": [
        "<IPython.core.display.Javascript at 0x7f78c67da690>"
       ]
      },
      {
       "javascript": [
        "$('div#cd6f58ae-91e9-4550-a65b-61bd43423d5e').width('34.166667%')"
       ],
       "metadata": {},
       "output_type": "display_data",
       "text": [
        "<IPython.core.display.Javascript at 0x7f78c67da2d0>"
       ]
      },
      {
       "javascript": [
        "$('div#cd6f58ae-91e9-4550-a65b-61bd43423d5e').width('35.000000%')"
       ],
       "metadata": {},
       "output_type": "display_data",
       "text": [
        "<IPython.core.display.Javascript at 0x7f78c67da110>"
       ]
      },
      {
       "javascript": [
        "$('div#cd6f58ae-91e9-4550-a65b-61bd43423d5e').width('35.833333%')"
       ],
       "metadata": {},
       "output_type": "display_data",
       "text": [
        "<IPython.core.display.Javascript at 0x7f78c67da550>"
       ]
      },
      {
       "javascript": [
        "$('div#cd6f58ae-91e9-4550-a65b-61bd43423d5e').width('36.666667%')"
       ],
       "metadata": {},
       "output_type": "display_data",
       "text": [
        "<IPython.core.display.Javascript at 0x7f78c67da390>"
       ]
      },
      {
       "javascript": [
        "$('div#cd6f58ae-91e9-4550-a65b-61bd43423d5e').width('37.500000%')"
       ],
       "metadata": {},
       "output_type": "display_data",
       "text": [
        "<IPython.core.display.Javascript at 0x7f78c67dae10>"
       ]
      },
      {
       "javascript": [
        "$('div#cd6f58ae-91e9-4550-a65b-61bd43423d5e').width('38.333333%')"
       ],
       "metadata": {},
       "output_type": "display_data",
       "text": [
        "<IPython.core.display.Javascript at 0x7f78c67da750>"
       ]
      },
      {
       "javascript": [
        "$('div#cd6f58ae-91e9-4550-a65b-61bd43423d5e').width('39.166667%')"
       ],
       "metadata": {},
       "output_type": "display_data",
       "text": [
        "<IPython.core.display.Javascript at 0x7f78c67da790>"
       ]
      },
      {
       "javascript": [
        "$('div#cd6f58ae-91e9-4550-a65b-61bd43423d5e').width('40.000000%')"
       ],
       "metadata": {},
       "output_type": "display_data",
       "text": [
        "<IPython.core.display.Javascript at 0x7f78c67da950>"
       ]
      },
      {
       "javascript": [
        "$('div#cd6f58ae-91e9-4550-a65b-61bd43423d5e').width('40.833333%')"
       ],
       "metadata": {},
       "output_type": "display_data",
       "text": [
        "<IPython.core.display.Javascript at 0x7f78c67da210>"
       ]
      },
      {
       "javascript": [
        "$('div#cd6f58ae-91e9-4550-a65b-61bd43423d5e').width('41.666667%')"
       ],
       "metadata": {},
       "output_type": "display_data",
       "text": [
        "<IPython.core.display.Javascript at 0x7f78c67dacd0>"
       ]
      },
      {
       "javascript": [
        "$('div#cd6f58ae-91e9-4550-a65b-61bd43423d5e').width('42.500000%')"
       ],
       "metadata": {},
       "output_type": "display_data",
       "text": [
        "<IPython.core.display.Javascript at 0x7f78c67da410>"
       ]
      },
      {
       "javascript": [
        "$('div#cd6f58ae-91e9-4550-a65b-61bd43423d5e').width('43.333333%')"
       ],
       "metadata": {},
       "output_type": "display_data",
       "text": [
        "<IPython.core.display.Javascript at 0x7f78c67da450>"
       ]
      },
      {
       "javascript": [
        "$('div#cd6f58ae-91e9-4550-a65b-61bd43423d5e').width('44.166667%')"
       ],
       "metadata": {},
       "output_type": "display_data",
       "text": [
        "<IPython.core.display.Javascript at 0x7f78c67daf10>"
       ]
      },
      {
       "javascript": [
        "$('div#cd6f58ae-91e9-4550-a65b-61bd43423d5e').width('45.000000%')"
       ],
       "metadata": {},
       "output_type": "display_data",
       "text": [
        "<IPython.core.display.Javascript at 0x7f78c67eed90>"
       ]
      },
      {
       "javascript": [
        "$('div#cd6f58ae-91e9-4550-a65b-61bd43423d5e').width('45.833333%')"
       ],
       "metadata": {},
       "output_type": "display_data",
       "text": [
        "<IPython.core.display.Javascript at 0x7f78c67ee310>"
       ]
      },
      {
       "javascript": [
        "$('div#cd6f58ae-91e9-4550-a65b-61bd43423d5e').width('46.666667%')"
       ],
       "metadata": {},
       "output_type": "display_data",
       "text": [
        "<IPython.core.display.Javascript at 0x7f78c67ee710>"
       ]
      },
      {
       "javascript": [
        "$('div#cd6f58ae-91e9-4550-a65b-61bd43423d5e').width('47.500000%')"
       ],
       "metadata": {},
       "output_type": "display_data",
       "text": [
        "<IPython.core.display.Javascript at 0x7f78c67ee490>"
       ]
      },
      {
       "javascript": [
        "$('div#cd6f58ae-91e9-4550-a65b-61bd43423d5e').width('48.333333%')"
       ],
       "metadata": {},
       "output_type": "display_data",
       "text": [
        "<IPython.core.display.Javascript at 0x7f78c67ee810>"
       ]
      },
      {
       "javascript": [
        "$('div#cd6f58ae-91e9-4550-a65b-61bd43423d5e').width('49.166667%')"
       ],
       "metadata": {},
       "output_type": "display_data",
       "text": [
        "<IPython.core.display.Javascript at 0x7f78c67ee0d0>"
       ]
      },
      {
       "javascript": [
        "$('div#cd6f58ae-91e9-4550-a65b-61bd43423d5e').width('50.000000%')"
       ],
       "metadata": {},
       "output_type": "display_data",
       "text": [
        "<IPython.core.display.Javascript at 0x7f78c67ee990>"
       ]
      },
      {
       "javascript": [
        "$('div#cd6f58ae-91e9-4550-a65b-61bd43423d5e').width('50.833333%')"
       ],
       "metadata": {},
       "output_type": "display_data",
       "text": [
        "<IPython.core.display.Javascript at 0x7f78c67ee950>"
       ]
      },
      {
       "javascript": [
        "$('div#cd6f58ae-91e9-4550-a65b-61bd43423d5e').width('51.666667%')"
       ],
       "metadata": {},
       "output_type": "display_data",
       "text": [
        "<IPython.core.display.Javascript at 0x7f78c67ee3d0>"
       ]
      },
      {
       "javascript": [
        "$('div#cd6f58ae-91e9-4550-a65b-61bd43423d5e').width('52.500000%')"
       ],
       "metadata": {},
       "output_type": "display_data",
       "text": [
        "<IPython.core.display.Javascript at 0x7f78c67ee450>"
       ]
      },
      {
       "javascript": [
        "$('div#cd6f58ae-91e9-4550-a65b-61bd43423d5e').width('53.333333%')"
       ],
       "metadata": {},
       "output_type": "display_data",
       "text": [
        "<IPython.core.display.Javascript at 0x7f78c67ee350>"
       ]
      },
      {
       "javascript": [
        "$('div#cd6f58ae-91e9-4550-a65b-61bd43423d5e').width('54.166667%')"
       ],
       "metadata": {},
       "output_type": "display_data",
       "text": [
        "<IPython.core.display.Javascript at 0x7f78c67ee1d0>"
       ]
      },
      {
       "javascript": [
        "$('div#cd6f58ae-91e9-4550-a65b-61bd43423d5e').width('55.000000%')"
       ],
       "metadata": {},
       "output_type": "display_data",
       "text": [
        "<IPython.core.display.Javascript at 0x7f78c67ee8d0>"
       ]
      },
      {
       "javascript": [
        "$('div#cd6f58ae-91e9-4550-a65b-61bd43423d5e').width('55.833333%')"
       ],
       "metadata": {},
       "output_type": "display_data",
       "text": [
        "<IPython.core.display.Javascript at 0x7f78c67ee890>"
       ]
      },
      {
       "javascript": [
        "$('div#cd6f58ae-91e9-4550-a65b-61bd43423d5e').width('56.666667%')"
       ],
       "metadata": {},
       "output_type": "display_data",
       "text": [
        "<IPython.core.display.Javascript at 0x7f78c67ee210>"
       ]
      },
      {
       "javascript": [
        "$('div#cd6f58ae-91e9-4550-a65b-61bd43423d5e').width('57.500000%')"
       ],
       "metadata": {},
       "output_type": "display_data",
       "text": [
        "<IPython.core.display.Javascript at 0x7f78c6752bd0>"
       ]
      },
      {
       "javascript": [
        "$('div#cd6f58ae-91e9-4550-a65b-61bd43423d5e').width('58.333333%')"
       ],
       "metadata": {},
       "output_type": "display_data",
       "text": [
        "<IPython.core.display.Javascript at 0x7f78c67e3810>"
       ]
      },
      {
       "javascript": [
        "$('div#cd6f58ae-91e9-4550-a65b-61bd43423d5e').width('59.166667%')"
       ],
       "metadata": {},
       "output_type": "display_data",
       "text": [
        "<IPython.core.display.Javascript at 0x7f78c67e3450>"
       ]
      },
      {
       "javascript": [
        "$('div#cd6f58ae-91e9-4550-a65b-61bd43423d5e').width('60.000000%')"
       ],
       "metadata": {},
       "output_type": "display_data",
       "text": [
        "<IPython.core.display.Javascript at 0x7f78c67e3a50>"
       ]
      },
      {
       "javascript": [
        "$('div#cd6f58ae-91e9-4550-a65b-61bd43423d5e').width('60.833333%')"
       ],
       "metadata": {},
       "output_type": "display_data",
       "text": [
        "<IPython.core.display.Javascript at 0x7f78c67e34d0>"
       ]
      },
      {
       "javascript": [
        "$('div#cd6f58ae-91e9-4550-a65b-61bd43423d5e').width('61.666667%')"
       ],
       "metadata": {},
       "output_type": "display_data",
       "text": [
        "<IPython.core.display.Javascript at 0x7f78c67e3950>"
       ]
      },
      {
       "javascript": [
        "$('div#cd6f58ae-91e9-4550-a65b-61bd43423d5e').width('62.500000%')"
       ],
       "metadata": {},
       "output_type": "display_data",
       "text": [
        "<IPython.core.display.Javascript at 0x7f78c67e3a10>"
       ]
      },
      {
       "javascript": [
        "$('div#cd6f58ae-91e9-4550-a65b-61bd43423d5e').width('63.333333%')"
       ],
       "metadata": {},
       "output_type": "display_data",
       "text": [
        "<IPython.core.display.Javascript at 0x7f78c67e30d0>"
       ]
      },
      {
       "javascript": [
        "$('div#cd6f58ae-91e9-4550-a65b-61bd43423d5e').width('64.166667%')"
       ],
       "metadata": {},
       "output_type": "display_data",
       "text": [
        "<IPython.core.display.Javascript at 0x7f78c67e3050>"
       ]
      },
      {
       "javascript": [
        "$('div#cd6f58ae-91e9-4550-a65b-61bd43423d5e').width('65.000000%')"
       ],
       "metadata": {},
       "output_type": "display_data",
       "text": [
        "<IPython.core.display.Javascript at 0x7f78c67e3d10>"
       ]
      },
      {
       "javascript": [
        "$('div#cd6f58ae-91e9-4550-a65b-61bd43423d5e').width('65.833333%')"
       ],
       "metadata": {},
       "output_type": "display_data",
       "text": [
        "<IPython.core.display.Javascript at 0x7f78c67e3c90>"
       ]
      },
      {
       "javascript": [
        "$('div#cd6f58ae-91e9-4550-a65b-61bd43423d5e').width('66.666667%')"
       ],
       "metadata": {},
       "output_type": "display_data",
       "text": [
        "<IPython.core.display.Javascript at 0x7f78c67e3d50>"
       ]
      },
      {
       "javascript": [
        "$('div#cd6f58ae-91e9-4550-a65b-61bd43423d5e').width('67.500000%')"
       ],
       "metadata": {},
       "output_type": "display_data",
       "text": [
        "<IPython.core.display.Javascript at 0x7f78c67e3c10>"
       ]
      },
      {
       "javascript": [
        "$('div#cd6f58ae-91e9-4550-a65b-61bd43423d5e').width('68.333333%')"
       ],
       "metadata": {},
       "output_type": "display_data",
       "text": [
        "<IPython.core.display.Javascript at 0x7f78c67e3b90>"
       ]
      },
      {
       "javascript": [
        "$('div#cd6f58ae-91e9-4550-a65b-61bd43423d5e').width('69.166667%')"
       ],
       "metadata": {},
       "output_type": "display_data",
       "text": [
        "<IPython.core.display.Javascript at 0x7f78c67e3510>"
       ]
      },
      {
       "javascript": [
        "$('div#cd6f58ae-91e9-4550-a65b-61bd43423d5e').width('70.000000%')"
       ],
       "metadata": {},
       "output_type": "display_data",
       "text": [
        "<IPython.core.display.Javascript at 0x7f78c67e3890>"
       ]
      },
      {
       "javascript": [
        "$('div#cd6f58ae-91e9-4550-a65b-61bd43423d5e').width('70.833333%')"
       ],
       "metadata": {},
       "output_type": "display_data",
       "text": [
        "<IPython.core.display.Javascript at 0x7f78c67da6d0>"
       ]
      },
      {
       "javascript": [
        "$('div#cd6f58ae-91e9-4550-a65b-61bd43423d5e').width('71.666667%')"
       ],
       "metadata": {},
       "output_type": "display_data",
       "text": [
        "<IPython.core.display.Javascript at 0x7f78c67da1d0>"
       ]
      },
      {
       "javascript": [
        "$('div#cd6f58ae-91e9-4550-a65b-61bd43423d5e').width('72.500000%')"
       ],
       "metadata": {},
       "output_type": "display_data",
       "text": [
        "<IPython.core.display.Javascript at 0x7f78c67da910>"
       ]
      },
      {
       "javascript": [
        "$('div#cd6f58ae-91e9-4550-a65b-61bd43423d5e').width('73.333333%')"
       ],
       "metadata": {},
       "output_type": "display_data",
       "text": [
        "<IPython.core.display.Javascript at 0x7f78c67da0d0>"
       ]
      },
      {
       "javascript": [
        "$('div#cd6f58ae-91e9-4550-a65b-61bd43423d5e').width('74.166667%')"
       ],
       "metadata": {},
       "output_type": "display_data",
       "text": [
        "<IPython.core.display.Javascript at 0x7f78c67da650>"
       ]
      },
      {
       "javascript": [
        "$('div#cd6f58ae-91e9-4550-a65b-61bd43423d5e').width('75.000000%')"
       ],
       "metadata": {},
       "output_type": "display_data",
       "text": [
        "<IPython.core.display.Javascript at 0x7f78c67daa90>"
       ]
      },
      {
       "javascript": [
        "$('div#cd6f58ae-91e9-4550-a65b-61bd43423d5e').width('75.833333%')"
       ],
       "metadata": {},
       "output_type": "display_data",
       "text": [
        "<IPython.core.display.Javascript at 0x7f78c67dabd0>"
       ]
      },
      {
       "javascript": [
        "$('div#cd6f58ae-91e9-4550-a65b-61bd43423d5e').width('76.666667%')"
       ],
       "metadata": {},
       "output_type": "display_data",
       "text": [
        "<IPython.core.display.Javascript at 0x7f78c67da850>"
       ]
      },
      {
       "javascript": [
        "$('div#cd6f58ae-91e9-4550-a65b-61bd43423d5e').width('77.500000%')"
       ],
       "metadata": {},
       "output_type": "display_data",
       "text": [
        "<IPython.core.display.Javascript at 0x7f78c67da450>"
       ]
      },
      {
       "javascript": [
        "$('div#cd6f58ae-91e9-4550-a65b-61bd43423d5e').width('78.333333%')"
       ],
       "metadata": {},
       "output_type": "display_data",
       "text": [
        "<IPython.core.display.Javascript at 0x7f78c67da410>"
       ]
      },
      {
       "javascript": [
        "$('div#cd6f58ae-91e9-4550-a65b-61bd43423d5e').width('79.166667%')"
       ],
       "metadata": {},
       "output_type": "display_data",
       "text": [
        "<IPython.core.display.Javascript at 0x7f78c67dacd0>"
       ]
      },
      {
       "javascript": [
        "$('div#cd6f58ae-91e9-4550-a65b-61bd43423d5e').width('80.000000%')"
       ],
       "metadata": {},
       "output_type": "display_data",
       "text": [
        "<IPython.core.display.Javascript at 0x7f78c67da210>"
       ]
      },
      {
       "javascript": [
        "$('div#cd6f58ae-91e9-4550-a65b-61bd43423d5e').width('80.833333%')"
       ],
       "metadata": {},
       "output_type": "display_data",
       "text": [
        "<IPython.core.display.Javascript at 0x7f78c67da950>"
       ]
      },
      {
       "javascript": [
        "$('div#cd6f58ae-91e9-4550-a65b-61bd43423d5e').width('81.666667%')"
       ],
       "metadata": {},
       "output_type": "display_data",
       "text": [
        "<IPython.core.display.Javascript at 0x7f78c67da790>"
       ]
      },
      {
       "javascript": [
        "$('div#cd6f58ae-91e9-4550-a65b-61bd43423d5e').width('82.500000%')"
       ],
       "metadata": {},
       "output_type": "display_data",
       "text": [
        "<IPython.core.display.Javascript at 0x7f78c67da750>"
       ]
      },
      {
       "javascript": [
        "$('div#cd6f58ae-91e9-4550-a65b-61bd43423d5e').width('83.333333%')"
       ],
       "metadata": {},
       "output_type": "display_data",
       "text": [
        "<IPython.core.display.Javascript at 0x7f78c67dae10>"
       ]
      },
      {
       "javascript": [
        "$('div#cd6f58ae-91e9-4550-a65b-61bd43423d5e').width('84.166667%')"
       ],
       "metadata": {},
       "output_type": "display_data",
       "text": [
        "<IPython.core.display.Javascript at 0x7f78c67da390>"
       ]
      },
      {
       "javascript": [
        "$('div#cd6f58ae-91e9-4550-a65b-61bd43423d5e').width('85.000000%')"
       ],
       "metadata": {},
       "output_type": "display_data",
       "text": [
        "<IPython.core.display.Javascript at 0x7f78c67da550>"
       ]
      },
      {
       "javascript": [
        "$('div#cd6f58ae-91e9-4550-a65b-61bd43423d5e').width('85.833333%')"
       ],
       "metadata": {},
       "output_type": "display_data",
       "text": [
        "<IPython.core.display.Javascript at 0x7f78c67da110>"
       ]
      },
      {
       "javascript": [
        "$('div#cd6f58ae-91e9-4550-a65b-61bd43423d5e').width('86.666667%')"
       ],
       "metadata": {},
       "output_type": "display_data",
       "text": [
        "<IPython.core.display.Javascript at 0x7f78c67da2d0>"
       ]
      },
      {
       "javascript": [
        "$('div#cd6f58ae-91e9-4550-a65b-61bd43423d5e').width('87.500000%')"
       ],
       "metadata": {},
       "output_type": "display_data",
       "text": [
        "<IPython.core.display.Javascript at 0x7f78c67da690>"
       ]
      },
      {
       "javascript": [
        "$('div#cd6f58ae-91e9-4550-a65b-61bd43423d5e').width('88.333333%')"
       ],
       "metadata": {},
       "output_type": "display_data",
       "text": [
        "<IPython.core.display.Javascript at 0x7f78c67dae90>"
       ]
      },
      {
       "javascript": [
        "$('div#cd6f58ae-91e9-4550-a65b-61bd43423d5e').width('89.166667%')"
       ],
       "metadata": {},
       "output_type": "display_data",
       "text": [
        "<IPython.core.display.Javascript at 0x7f78c67da050>"
       ]
      },
      {
       "javascript": [
        "$('div#cd6f58ae-91e9-4550-a65b-61bd43423d5e').width('90.000000%')"
       ],
       "metadata": {},
       "output_type": "display_data",
       "text": [
        "<IPython.core.display.Javascript at 0x7f78c67daed0>"
       ]
      },
      {
       "javascript": [
        "$('div#cd6f58ae-91e9-4550-a65b-61bd43423d5e').width('90.833333%')"
       ],
       "metadata": {},
       "output_type": "display_data",
       "text": [
        "<IPython.core.display.Javascript at 0x7f78c67e3c10>"
       ]
      },
      {
       "javascript": [
        "$('div#cd6f58ae-91e9-4550-a65b-61bd43423d5e').width('91.666667%')"
       ],
       "metadata": {},
       "output_type": "display_data",
       "text": [
        "<IPython.core.display.Javascript at 0x7f78c67e3890>"
       ]
      },
      {
       "javascript": [
        "$('div#cd6f58ae-91e9-4550-a65b-61bd43423d5e').width('92.500000%')"
       ],
       "metadata": {},
       "output_type": "display_data",
       "text": [
        "<IPython.core.display.Javascript at 0x7f78c67e3d50>"
       ]
      },
      {
       "javascript": [
        "$('div#cd6f58ae-91e9-4550-a65b-61bd43423d5e').width('93.333333%')"
       ],
       "metadata": {},
       "output_type": "display_data",
       "text": [
        "<IPython.core.display.Javascript at 0x7f78c67e3d10>"
       ]
      },
      {
       "javascript": [
        "$('div#cd6f58ae-91e9-4550-a65b-61bd43423d5e').width('94.166667%')"
       ],
       "metadata": {},
       "output_type": "display_data",
       "text": [
        "<IPython.core.display.Javascript at 0x7f78c67e3050>"
       ]
      },
      {
       "javascript": [
        "$('div#cd6f58ae-91e9-4550-a65b-61bd43423d5e').width('95.000000%')"
       ],
       "metadata": {},
       "output_type": "display_data",
       "text": [
        "<IPython.core.display.Javascript at 0x7f78c67e30d0>"
       ]
      },
      {
       "javascript": [
        "$('div#cd6f58ae-91e9-4550-a65b-61bd43423d5e').width('95.833333%')"
       ],
       "metadata": {},
       "output_type": "display_data",
       "text": [
        "<IPython.core.display.Javascript at 0x7f78c67e3510>"
       ]
      },
      {
       "javascript": [
        "$('div#cd6f58ae-91e9-4550-a65b-61bd43423d5e').width('96.666667%')"
       ],
       "metadata": {},
       "output_type": "display_data",
       "text": [
        "<IPython.core.display.Javascript at 0x7f78c67e3b90>"
       ]
      },
      {
       "javascript": [
        "$('div#cd6f58ae-91e9-4550-a65b-61bd43423d5e').width('97.500000%')"
       ],
       "metadata": {},
       "output_type": "display_data",
       "text": [
        "<IPython.core.display.Javascript at 0x7f78c67e34d0>"
       ]
      },
      {
       "javascript": [
        "$('div#cd6f58ae-91e9-4550-a65b-61bd43423d5e').width('98.333333%')"
       ],
       "metadata": {},
       "output_type": "display_data",
       "text": [
        "<IPython.core.display.Javascript at 0x7f78c67e3a50>"
       ]
      },
      {
       "javascript": [
        "$('div#cd6f58ae-91e9-4550-a65b-61bd43423d5e').width('99.166667%')"
       ],
       "metadata": {},
       "output_type": "display_data",
       "text": [
        "<IPython.core.display.Javascript at 0x7f78c67e3450>"
       ]
      },
      {
       "javascript": [
        "$('div#cd6f58ae-91e9-4550-a65b-61bd43423d5e').width('100.000000%')"
       ],
       "metadata": {},
       "output_type": "display_data",
       "text": [
        "<IPython.core.display.Javascript at 0x7f78c67e3c90>"
       ]
      },
      {
       "output_type": "stream",
       "stream": "stdout",
       "text": [
        "Generating 600 realizations of the model (chunk size=10)\n"
       ]
      },
      {
       "html": [
        "\n",
        "                          <div style=\"border: 1px solid black; width:500px\">\n",
        "                          <div id=\"6d2376fc-85d1-4ffc-9ae9-d5992f361ffd\" style=\"background-color:blue; width:0%\">&nbsp;</div>\n",
        "                          </div>\n",
        "                          "
       ],
       "metadata": {},
       "output_type": "display_data",
       "text": [
        "<IPython.core.display.HTML at 0x7f78c675f490>"
       ]
      },
      {
       "javascript": [
        "$('div#6d2376fc-85d1-4ffc-9ae9-d5992f361ffd').width('1.666667%')"
       ],
       "metadata": {},
       "output_type": "display_data",
       "text": [
        "<IPython.core.display.Javascript at 0x7f78c67ee990>"
       ]
      },
      {
       "javascript": [
        "$('div#6d2376fc-85d1-4ffc-9ae9-d5992f361ffd').width('3.333333%')"
       ],
       "metadata": {},
       "output_type": "display_data",
       "text": [
        "<IPython.core.display.Javascript at 0x7f78c67ee450>"
       ]
      },
      {
       "javascript": [
        "$('div#6d2376fc-85d1-4ffc-9ae9-d5992f361ffd').width('5.000000%')"
       ],
       "metadata": {},
       "output_type": "display_data",
       "text": [
        "<IPython.core.display.Javascript at 0x7f78c67ee490>"
       ]
      },
      {
       "javascript": [
        "$('div#6d2376fc-85d1-4ffc-9ae9-d5992f361ffd').width('6.666667%')"
       ],
       "metadata": {},
       "output_type": "display_data",
       "text": [
        "<IPython.core.display.Javascript at 0x7f78c67ee950>"
       ]
      },
      {
       "javascript": [
        "$('div#6d2376fc-85d1-4ffc-9ae9-d5992f361ffd').width('8.333333%')"
       ],
       "metadata": {},
       "output_type": "display_data",
       "text": [
        "<IPython.core.display.Javascript at 0x7f78c67ee0d0>"
       ]
      },
      {
       "javascript": [
        "$('div#6d2376fc-85d1-4ffc-9ae9-d5992f361ffd').width('10.000000%')"
       ],
       "metadata": {},
       "output_type": "display_data",
       "text": [
        "<IPython.core.display.Javascript at 0x7f78c67ee810>"
       ]
      },
      {
       "javascript": [
        "$('div#6d2376fc-85d1-4ffc-9ae9-d5992f361ffd').width('11.666667%')"
       ],
       "metadata": {},
       "output_type": "display_data",
       "text": [
        "<IPython.core.display.Javascript at 0x7f78c67ee890>"
       ]
      },
      {
       "javascript": [
        "$('div#6d2376fc-85d1-4ffc-9ae9-d5992f361ffd').width('13.333333%')"
       ],
       "metadata": {},
       "output_type": "display_data",
       "text": [
        "<IPython.core.display.Javascript at 0x7f78c67ee310>"
       ]
      },
      {
       "javascript": [
        "$('div#6d2376fc-85d1-4ffc-9ae9-d5992f361ffd').width('15.000000%')"
       ],
       "metadata": {},
       "output_type": "display_data",
       "text": [
        "<IPython.core.display.Javascript at 0x7f78c67ee3d0>"
       ]
      },
      {
       "javascript": [
        "$('div#6d2376fc-85d1-4ffc-9ae9-d5992f361ffd').width('16.666667%')"
       ],
       "metadata": {},
       "output_type": "display_data",
       "text": [
        "<IPython.core.display.Javascript at 0x7f78c67ee350>"
       ]
      },
      {
       "javascript": [
        "$('div#6d2376fc-85d1-4ffc-9ae9-d5992f361ffd').width('18.333333%')"
       ],
       "metadata": {},
       "output_type": "display_data",
       "text": [
        "<IPython.core.display.Javascript at 0x7f78c67daf90>"
       ]
      },
      {
       "javascript": [
        "$('div#6d2376fc-85d1-4ffc-9ae9-d5992f361ffd').width('20.000000%')"
       ],
       "metadata": {},
       "output_type": "display_data",
       "text": [
        "<IPython.core.display.Javascript at 0x7f78c67daa10>"
       ]
      },
      {
       "javascript": [
        "$('div#6d2376fc-85d1-4ffc-9ae9-d5992f361ffd').width('21.666667%')"
       ],
       "metadata": {},
       "output_type": "display_data",
       "text": [
        "<IPython.core.display.Javascript at 0x7f78c67daf10>"
       ]
      },
      {
       "javascript": [
        "$('div#6d2376fc-85d1-4ffc-9ae9-d5992f361ffd').width('23.333333%')"
       ],
       "metadata": {},
       "output_type": "display_data",
       "text": [
        "<IPython.core.display.Javascript at 0x7f78c67da9d0>"
       ]
      },
      {
       "javascript": [
        "$('div#6d2376fc-85d1-4ffc-9ae9-d5992f361ffd').width('25.000000%')"
       ],
       "metadata": {},
       "output_type": "display_data",
       "text": [
        "<IPython.core.display.Javascript at 0x7f78c67dae50>"
       ]
      },
      {
       "javascript": [
        "$('div#6d2376fc-85d1-4ffc-9ae9-d5992f361ffd').width('26.666667%')"
       ],
       "metadata": {},
       "output_type": "display_data",
       "text": [
        "<IPython.core.display.Javascript at 0x7f78c67da990>"
       ]
      },
      {
       "javascript": [
        "$('div#6d2376fc-85d1-4ffc-9ae9-d5992f361ffd').width('28.333333%')"
       ],
       "metadata": {},
       "output_type": "display_data",
       "text": [
        "<IPython.core.display.Javascript at 0x7f78c67da050>"
       ]
      },
      {
       "javascript": [
        "$('div#6d2376fc-85d1-4ffc-9ae9-d5992f361ffd').width('30.000000%')"
       ],
       "metadata": {},
       "output_type": "display_data",
       "text": [
        "<IPython.core.display.Javascript at 0x7f78c67dae90>"
       ]
      },
      {
       "javascript": [
        "$('div#6d2376fc-85d1-4ffc-9ae9-d5992f361ffd').width('31.666667%')"
       ],
       "metadata": {},
       "output_type": "display_data",
       "text": [
        "<IPython.core.display.Javascript at 0x7f78c67da690>"
       ]
      },
      {
       "javascript": [
        "$('div#6d2376fc-85d1-4ffc-9ae9-d5992f361ffd').width('33.333333%')"
       ],
       "metadata": {},
       "output_type": "display_data",
       "text": [
        "<IPython.core.display.Javascript at 0x7f78c67da2d0>"
       ]
      },
      {
       "javascript": [
        "$('div#6d2376fc-85d1-4ffc-9ae9-d5992f361ffd').width('35.000000%')"
       ],
       "metadata": {},
       "output_type": "display_data",
       "text": [
        "<IPython.core.display.Javascript at 0x7f78c67da110>"
       ]
      },
      {
       "javascript": [
        "$('div#6d2376fc-85d1-4ffc-9ae9-d5992f361ffd').width('36.666667%')"
       ],
       "metadata": {},
       "output_type": "display_data",
       "text": [
        "<IPython.core.display.Javascript at 0x7f78c67da550>"
       ]
      },
      {
       "javascript": [
        "$('div#6d2376fc-85d1-4ffc-9ae9-d5992f361ffd').width('38.333333%')"
       ],
       "metadata": {},
       "output_type": "display_data",
       "text": [
        "<IPython.core.display.Javascript at 0x7f78c67da390>"
       ]
      },
      {
       "javascript": [
        "$('div#6d2376fc-85d1-4ffc-9ae9-d5992f361ffd').width('40.000000%')"
       ],
       "metadata": {},
       "output_type": "display_data",
       "text": [
        "<IPython.core.display.Javascript at 0x7f78c67ee350>"
       ]
      },
      {
       "javascript": [
        "$('div#6d2376fc-85d1-4ffc-9ae9-d5992f361ffd').width('41.666667%')"
       ],
       "metadata": {},
       "output_type": "display_data",
       "text": [
        "<IPython.core.display.Javascript at 0x7f78c67ee710>"
       ]
      },
      {
       "javascript": [
        "$('div#6d2376fc-85d1-4ffc-9ae9-d5992f361ffd').width('43.333333%')"
       ],
       "metadata": {},
       "output_type": "display_data",
       "text": [
        "<IPython.core.display.Javascript at 0x7f78c67ee3d0>"
       ]
      },
      {
       "javascript": [
        "$('div#6d2376fc-85d1-4ffc-9ae9-d5992f361ffd').width('45.000000%')"
       ],
       "metadata": {},
       "output_type": "display_data",
       "text": [
        "<IPython.core.display.Javascript at 0x7f78c67ee890>"
       ]
      },
      {
       "javascript": [
        "$('div#6d2376fc-85d1-4ffc-9ae9-d5992f361ffd').width('46.666667%')"
       ],
       "metadata": {},
       "output_type": "display_data",
       "text": [
        "<IPython.core.display.Javascript at 0x7f78c67ee810>"
       ]
      },
      {
       "javascript": [
        "$('div#6d2376fc-85d1-4ffc-9ae9-d5992f361ffd').width('48.333333%')"
       ],
       "metadata": {},
       "output_type": "display_data",
       "text": [
        "<IPython.core.display.Javascript at 0x7f78c67ee950>"
       ]
      },
      {
       "javascript": [
        "$('div#6d2376fc-85d1-4ffc-9ae9-d5992f361ffd').width('50.000000%')"
       ],
       "metadata": {},
       "output_type": "display_data",
       "text": [
        "<IPython.core.display.Javascript at 0x7f78c67ee490>"
       ]
      },
      {
       "javascript": [
        "$('div#6d2376fc-85d1-4ffc-9ae9-d5992f361ffd').width('51.666667%')"
       ],
       "metadata": {},
       "output_type": "display_data",
       "text": [
        "<IPython.core.display.Javascript at 0x7f78c67ee0d0>"
       ]
      },
      {
       "javascript": [
        "$('div#6d2376fc-85d1-4ffc-9ae9-d5992f361ffd').width('53.333333%')"
       ],
       "metadata": {},
       "output_type": "display_data",
       "text": [
        "<IPython.core.display.Javascript at 0x7f78c67eed90>"
       ]
      },
      {
       "javascript": [
        "$('div#6d2376fc-85d1-4ffc-9ae9-d5992f361ffd').width('55.000000%')"
       ],
       "metadata": {},
       "output_type": "display_data",
       "text": [
        "<IPython.core.display.Javascript at 0x7f78c67ee450>"
       ]
      },
      {
       "javascript": [
        "$('div#6d2376fc-85d1-4ffc-9ae9-d5992f361ffd').width('56.666667%')"
       ],
       "metadata": {},
       "output_type": "display_data",
       "text": [
        "<IPython.core.display.Javascript at 0x7f78c67e3450>"
       ]
      },
      {
       "javascript": [
        "$('div#6d2376fc-85d1-4ffc-9ae9-d5992f361ffd').width('58.333333%')"
       ],
       "metadata": {},
       "output_type": "display_data",
       "text": [
        "<IPython.core.display.Javascript at 0x7f78c67e3a50>"
       ]
      },
      {
       "javascript": [
        "$('div#6d2376fc-85d1-4ffc-9ae9-d5992f361ffd').width('60.000000%')"
       ],
       "metadata": {},
       "output_type": "display_data",
       "text": [
        "<IPython.core.display.Javascript at 0x7f78c67e34d0>"
       ]
      },
      {
       "javascript": [
        "$('div#6d2376fc-85d1-4ffc-9ae9-d5992f361ffd').width('61.666667%')"
       ],
       "metadata": {},
       "output_type": "display_data",
       "text": [
        "<IPython.core.display.Javascript at 0x7f78c67e3b90>"
       ]
      },
      {
       "javascript": [
        "$('div#6d2376fc-85d1-4ffc-9ae9-d5992f361ffd').width('63.333333%')"
       ],
       "metadata": {},
       "output_type": "display_data",
       "text": [
        "<IPython.core.display.Javascript at 0x7f78c67e3510>"
       ]
      },
      {
       "javascript": [
        "$('div#6d2376fc-85d1-4ffc-9ae9-d5992f361ffd').width('65.000000%')"
       ],
       "metadata": {},
       "output_type": "display_data",
       "text": [
        "<IPython.core.display.Javascript at 0x7f78c67e30d0>"
       ]
      },
      {
       "javascript": [
        "$('div#6d2376fc-85d1-4ffc-9ae9-d5992f361ffd').width('66.666667%')"
       ],
       "metadata": {},
       "output_type": "display_data",
       "text": [
        "<IPython.core.display.Javascript at 0x7f78c67e3050>"
       ]
      },
      {
       "javascript": [
        "$('div#6d2376fc-85d1-4ffc-9ae9-d5992f361ffd').width('68.333333%')"
       ],
       "metadata": {},
       "output_type": "display_data",
       "text": [
        "<IPython.core.display.Javascript at 0x7f78c67e3d10>"
       ]
      },
      {
       "javascript": [
        "$('div#6d2376fc-85d1-4ffc-9ae9-d5992f361ffd').width('70.000000%')"
       ],
       "metadata": {},
       "output_type": "display_data",
       "text": [
        "<IPython.core.display.Javascript at 0x7f78c67e3d50>"
       ]
      },
      {
       "javascript": [
        "$('div#6d2376fc-85d1-4ffc-9ae9-d5992f361ffd').width('71.666667%')"
       ],
       "metadata": {},
       "output_type": "display_data",
       "text": [
        "<IPython.core.display.Javascript at 0x7f78c67e3890>"
       ]
      },
      {
       "javascript": [
        "$('div#6d2376fc-85d1-4ffc-9ae9-d5992f361ffd').width('73.333333%')"
       ],
       "metadata": {},
       "output_type": "display_data",
       "text": [
        "<IPython.core.display.Javascript at 0x7f78c67e3c90>"
       ]
      },
      {
       "javascript": [
        "$('div#6d2376fc-85d1-4ffc-9ae9-d5992f361ffd').width('75.000000%')"
       ],
       "metadata": {},
       "output_type": "display_data",
       "text": [
        "<IPython.core.display.Javascript at 0x7f78c67ee990>"
       ]
      },
      {
       "javascript": [
        "$('div#6d2376fc-85d1-4ffc-9ae9-d5992f361ffd').width('76.666667%')"
       ],
       "metadata": {},
       "output_type": "display_data",
       "text": [
        "<IPython.core.display.Javascript at 0x7f78c67dae10>"
       ]
      },
      {
       "javascript": [
        "$('div#6d2376fc-85d1-4ffc-9ae9-d5992f361ffd').width('78.333333%')"
       ],
       "metadata": {},
       "output_type": "display_data",
       "text": [
        "<IPython.core.display.Javascript at 0x7f78c67da750>"
       ]
      },
      {
       "javascript": [
        "$('div#6d2376fc-85d1-4ffc-9ae9-d5992f361ffd').width('80.000000%')"
       ],
       "metadata": {},
       "output_type": "display_data",
       "text": [
        "<IPython.core.display.Javascript at 0x7f78c67daed0>"
       ]
      },
      {
       "javascript": [
        "$('div#6d2376fc-85d1-4ffc-9ae9-d5992f361ffd').width('81.666667%')"
       ],
       "metadata": {},
       "output_type": "display_data",
       "text": [
        "<IPython.core.display.Javascript at 0x7f78c67da950>"
       ]
      },
      {
       "javascript": [
        "$('div#6d2376fc-85d1-4ffc-9ae9-d5992f361ffd').width('83.333333%')"
       ],
       "metadata": {},
       "output_type": "display_data",
       "text": [
        "<IPython.core.display.Javascript at 0x7f78c67da790>"
       ]
      },
      {
       "javascript": [
        "$('div#6d2376fc-85d1-4ffc-9ae9-d5992f361ffd').width('85.000000%')"
       ],
       "metadata": {},
       "output_type": "display_data",
       "text": [
        "<IPython.core.display.Javascript at 0x7f78c67da210>"
       ]
      },
      {
       "javascript": [
        "$('div#6d2376fc-85d1-4ffc-9ae9-d5992f361ffd').width('86.666667%')"
       ],
       "metadata": {},
       "output_type": "display_data",
       "text": [
        "<IPython.core.display.Javascript at 0x7f78c67dacd0>"
       ]
      },
      {
       "javascript": [
        "$('div#6d2376fc-85d1-4ffc-9ae9-d5992f361ffd').width('88.333333%')"
       ],
       "metadata": {},
       "output_type": "display_data",
       "text": [
        "<IPython.core.display.Javascript at 0x7f78c67da410>"
       ]
      },
      {
       "javascript": [
        "$('div#6d2376fc-85d1-4ffc-9ae9-d5992f361ffd').width('90.000000%')"
       ],
       "metadata": {},
       "output_type": "display_data",
       "text": [
        "<IPython.core.display.Javascript at 0x7f78c67da450>"
       ]
      },
      {
       "javascript": [
        "$('div#6d2376fc-85d1-4ffc-9ae9-d5992f361ffd').width('91.666667%')"
       ],
       "metadata": {},
       "output_type": "display_data",
       "text": [
        "<IPython.core.display.Javascript at 0x7f78c67da550>"
       ]
      },
      {
       "javascript": [
        "$('div#6d2376fc-85d1-4ffc-9ae9-d5992f361ffd').width('93.333333%')"
       ],
       "metadata": {},
       "output_type": "display_data",
       "text": [
        "<IPython.core.display.Javascript at 0x7f78c67da110>"
       ]
      },
      {
       "javascript": [
        "$('div#6d2376fc-85d1-4ffc-9ae9-d5992f361ffd').width('95.000000%')"
       ],
       "metadata": {},
       "output_type": "display_data",
       "text": [
        "<IPython.core.display.Javascript at 0x7f78c67da2d0>"
       ]
      },
      {
       "javascript": [
        "$('div#6d2376fc-85d1-4ffc-9ae9-d5992f361ffd').width('96.666667%')"
       ],
       "metadata": {},
       "output_type": "display_data",
       "text": [
        "<IPython.core.display.Javascript at 0x7f78c67da690>"
       ]
      },
      {
       "javascript": [
        "$('div#6d2376fc-85d1-4ffc-9ae9-d5992f361ffd').width('98.333333%')"
       ],
       "metadata": {},
       "output_type": "display_data",
       "text": [
        "<IPython.core.display.Javascript at 0x7f78c67dae90>"
       ]
      },
      {
       "javascript": [
        "$('div#6d2376fc-85d1-4ffc-9ae9-d5992f361ffd').width('100.000000%')"
       ],
       "metadata": {},
       "output_type": "display_data",
       "text": [
        "<IPython.core.display.Javascript at 0x7f78c67da050>"
       ]
      },
      {
       "output_type": "stream",
       "stream": "stdout",
       "text": [
        "Generating 600 realizations of the model (chunk size=20)\n"
       ]
      },
      {
       "html": [
        "\n",
        "                          <div style=\"border: 1px solid black; width:500px\">\n",
        "                          <div id=\"2e3e90e0-a741-458e-b8f7-48dcda5e0a45\" style=\"background-color:blue; width:0%\">&nbsp;</div>\n",
        "                          </div>\n",
        "                          "
       ],
       "metadata": {},
       "output_type": "display_data",
       "text": [
        "<IPython.core.display.HTML at 0x7f78c6752e50>"
       ]
      },
      {
       "javascript": [
        "$('div#2e3e90e0-a741-458e-b8f7-48dcda5e0a45').width('3.333333%')"
       ],
       "metadata": {},
       "output_type": "display_data",
       "text": [
        "<IPython.core.display.Javascript at 0x7f78c67e3510>"
       ]
      },
      {
       "javascript": [
        "$('div#2e3e90e0-a741-458e-b8f7-48dcda5e0a45').width('6.666667%')"
       ],
       "metadata": {},
       "output_type": "display_data",
       "text": [
        "<IPython.core.display.Javascript at 0x7f78c67e30d0>"
       ]
      },
      {
       "javascript": [
        "$('div#2e3e90e0-a741-458e-b8f7-48dcda5e0a45').width('10.000000%')"
       ],
       "metadata": {},
       "output_type": "display_data",
       "text": [
        "<IPython.core.display.Javascript at 0x7f78c67e3b90>"
       ]
      },
      {
       "javascript": [
        "$('div#2e3e90e0-a741-458e-b8f7-48dcda5e0a45').width('13.333333%')"
       ],
       "metadata": {},
       "output_type": "display_data",
       "text": [
        "<IPython.core.display.Javascript at 0x7f78c67e3a50>"
       ]
      },
      {
       "javascript": [
        "$('div#2e3e90e0-a741-458e-b8f7-48dcda5e0a45').width('16.666667%')"
       ],
       "metadata": {},
       "output_type": "display_data",
       "text": [
        "<IPython.core.display.Javascript at 0x7f78c67e34d0>"
       ]
      },
      {
       "javascript": [
        "$('div#2e3e90e0-a741-458e-b8f7-48dcda5e0a45').width('20.000000%')"
       ],
       "metadata": {},
       "output_type": "display_data",
       "text": [
        "<IPython.core.display.Javascript at 0x7f78c67e3450>"
       ]
      },
      {
       "javascript": [
        "$('div#2e3e90e0-a741-458e-b8f7-48dcda5e0a45').width('23.333333%')"
       ],
       "metadata": {},
       "output_type": "display_data",
       "text": [
        "<IPython.core.display.Javascript at 0x7f78c67ee990>"
       ]
      },
      {
       "javascript": [
        "$('div#2e3e90e0-a741-458e-b8f7-48dcda5e0a45').width('26.666667%')"
       ],
       "metadata": {},
       "output_type": "display_data",
       "text": [
        "<IPython.core.display.Javascript at 0x7f78c67ee450>"
       ]
      },
      {
       "javascript": [
        "$('div#2e3e90e0-a741-458e-b8f7-48dcda5e0a45').width('30.000000%')"
       ],
       "metadata": {},
       "output_type": "display_data",
       "text": [
        "<IPython.core.display.Javascript at 0x7f78c67eed90>"
       ]
      },
      {
       "javascript": [
        "$('div#2e3e90e0-a741-458e-b8f7-48dcda5e0a45').width('33.333333%')"
       ],
       "metadata": {},
       "output_type": "display_data",
       "text": [
        "<IPython.core.display.Javascript at 0x7f78c67ee0d0>"
       ]
      },
      {
       "javascript": [
        "$('div#2e3e90e0-a741-458e-b8f7-48dcda5e0a45').width('36.666667%')"
       ],
       "metadata": {},
       "output_type": "display_data",
       "text": [
        "<IPython.core.display.Javascript at 0x7f78c67ee490>"
       ]
      },
      {
       "javascript": [
        "$('div#2e3e90e0-a741-458e-b8f7-48dcda5e0a45').width('40.000000%')"
       ],
       "metadata": {},
       "output_type": "display_data",
       "text": [
        "<IPython.core.display.Javascript at 0x7f78c67ee950>"
       ]
      },
      {
       "javascript": [
        "$('div#2e3e90e0-a741-458e-b8f7-48dcda5e0a45').width('43.333333%')"
       ],
       "metadata": {},
       "output_type": "display_data",
       "text": [
        "<IPython.core.display.Javascript at 0x7f78c67ee810>"
       ]
      },
      {
       "javascript": [
        "$('div#2e3e90e0-a741-458e-b8f7-48dcda5e0a45').width('46.666667%')"
       ],
       "metadata": {},
       "output_type": "display_data",
       "text": [
        "<IPython.core.display.Javascript at 0x7f78c67ee890>"
       ]
      },
      {
       "javascript": [
        "$('div#2e3e90e0-a741-458e-b8f7-48dcda5e0a45').width('50.000000%')"
       ],
       "metadata": {},
       "output_type": "display_data",
       "text": [
        "<IPython.core.display.Javascript at 0x7f78c67ee3d0>"
       ]
      },
      {
       "javascript": [
        "$('div#2e3e90e0-a741-458e-b8f7-48dcda5e0a45').width('53.333333%')"
       ],
       "metadata": {},
       "output_type": "display_data",
       "text": [
        "<IPython.core.display.Javascript at 0x7f78c67ee710>"
       ]
      },
      {
       "javascript": [
        "$('div#2e3e90e0-a741-458e-b8f7-48dcda5e0a45').width('56.666667%')"
       ],
       "metadata": {},
       "output_type": "display_data",
       "text": [
        "<IPython.core.display.Javascript at 0x7f78c67ee210>"
       ]
      },
      {
       "javascript": [
        "$('div#2e3e90e0-a741-458e-b8f7-48dcda5e0a45').width('60.000000%')"
       ],
       "metadata": {},
       "output_type": "display_data",
       "text": [
        "<IPython.core.display.Javascript at 0x7f78c67e3050>"
       ]
      },
      {
       "javascript": [
        "$('div#2e3e90e0-a741-458e-b8f7-48dcda5e0a45').width('63.333333%')"
       ],
       "metadata": {},
       "output_type": "display_data",
       "text": [
        "<IPython.core.display.Javascript at 0x7f78c67daf10>"
       ]
      },
      {
       "javascript": [
        "$('div#2e3e90e0-a741-458e-b8f7-48dcda5e0a45').width('66.666667%')"
       ],
       "metadata": {},
       "output_type": "display_data",
       "text": [
        "<IPython.core.display.Javascript at 0x7f78c67dabd0>"
       ]
      },
      {
       "javascript": [
        "$('div#2e3e90e0-a741-458e-b8f7-48dcda5e0a45').width('70.000000%')"
       ],
       "metadata": {},
       "output_type": "display_data",
       "text": [
        "<IPython.core.display.Javascript at 0x7f78c67daa90>"
       ]
      },
      {
       "javascript": [
        "$('div#2e3e90e0-a741-458e-b8f7-48dcda5e0a45').width('73.333333%')"
       ],
       "metadata": {},
       "output_type": "display_data",
       "text": [
        "<IPython.core.display.Javascript at 0x7f78c67daa10>"
       ]
      },
      {
       "javascript": [
        "$('div#2e3e90e0-a741-458e-b8f7-48dcda5e0a45').width('76.666667%')"
       ],
       "metadata": {},
       "output_type": "display_data",
       "text": [
        "<IPython.core.display.Javascript at 0x7f78c67da910>"
       ]
      },
      {
       "javascript": [
        "$('div#2e3e90e0-a741-458e-b8f7-48dcda5e0a45').width('80.000000%')"
       ],
       "metadata": {},
       "output_type": "display_data",
       "text": [
        "<IPython.core.display.Javascript at 0x7f78c67da650>"
       ]
      },
      {
       "javascript": [
        "$('div#2e3e90e0-a741-458e-b8f7-48dcda5e0a45').width('83.333333%')"
       ],
       "metadata": {},
       "output_type": "display_data",
       "text": [
        "<IPython.core.display.Javascript at 0x7f78c67da0d0>"
       ]
      },
      {
       "javascript": [
        "$('div#2e3e90e0-a741-458e-b8f7-48dcda5e0a45').width('86.666667%')"
       ],
       "metadata": {},
       "output_type": "display_data",
       "text": [
        "<IPython.core.display.Javascript at 0x7f78c67da050>"
       ]
      },
      {
       "javascript": [
        "$('div#2e3e90e0-a741-458e-b8f7-48dcda5e0a45').width('90.000000%')"
       ],
       "metadata": {},
       "output_type": "display_data",
       "text": [
        "<IPython.core.display.Javascript at 0x7f78c67dae90>"
       ]
      },
      {
       "javascript": [
        "$('div#2e3e90e0-a741-458e-b8f7-48dcda5e0a45').width('93.333333%')"
       ],
       "metadata": {},
       "output_type": "display_data",
       "text": [
        "<IPython.core.display.Javascript at 0x7f78c67da690>"
       ]
      },
      {
       "javascript": [
        "$('div#2e3e90e0-a741-458e-b8f7-48dcda5e0a45').width('96.666667%')"
       ],
       "metadata": {},
       "output_type": "display_data",
       "text": [
        "<IPython.core.display.Javascript at 0x7f78c67da2d0>"
       ]
      },
      {
       "javascript": [
        "$('div#2e3e90e0-a741-458e-b8f7-48dcda5e0a45').width('100.000000%')"
       ],
       "metadata": {},
       "output_type": "display_data",
       "text": [
        "<IPython.core.display.Javascript at 0x7f78c67da110>"
       ]
      },
      {
       "output_type": "stream",
       "stream": "stdout",
       "text": [
        "Generating 600 realizations of the model (chunk size=50)\n"
       ]
      },
      {
       "html": [
        "\n",
        "                          <div style=\"border: 1px solid black; width:500px\">\n",
        "                          <div id=\"2cc94236-f8b7-4683-8ac7-398e49d9d25d\" style=\"background-color:blue; width:0%\">&nbsp;</div>\n",
        "                          </div>\n",
        "                          "
       ],
       "metadata": {},
       "output_type": "display_data",
       "text": [
        "<IPython.core.display.HTML at 0x7f78c6752e10>"
       ]
      },
      {
       "javascript": [
        "$('div#2cc94236-f8b7-4683-8ac7-398e49d9d25d').width('8.333333%')"
       ],
       "metadata": {},
       "output_type": "display_data",
       "text": [
        "<IPython.core.display.Javascript at 0x7f78c67da790>"
       ]
      },
      {
       "javascript": [
        "$('div#2cc94236-f8b7-4683-8ac7-398e49d9d25d').width('16.666667%')"
       ],
       "metadata": {},
       "output_type": "display_data",
       "text": [
        "<IPython.core.display.Javascript at 0x7f78c67dae10>"
       ]
      },
      {
       "javascript": [
        "$('div#2cc94236-f8b7-4683-8ac7-398e49d9d25d').width('25.000000%')"
       ],
       "metadata": {},
       "output_type": "display_data",
       "text": [
        "<IPython.core.display.Javascript at 0x7f78c67da1d0>"
       ]
      },
      {
       "javascript": [
        "$('div#2cc94236-f8b7-4683-8ac7-398e49d9d25d').width('33.333333%')"
       ],
       "metadata": {},
       "output_type": "display_data",
       "text": [
        "<IPython.core.display.Javascript at 0x7f78c67da6d0>"
       ]
      },
      {
       "javascript": [
        "$('div#2cc94236-f8b7-4683-8ac7-398e49d9d25d').width('41.666667%')"
       ],
       "metadata": {},
       "output_type": "display_data",
       "text": [
        "<IPython.core.display.Javascript at 0x7f78c67cedd0>"
       ]
      },
      {
       "javascript": [
        "$('div#2cc94236-f8b7-4683-8ac7-398e49d9d25d').width('50.000000%')"
       ],
       "metadata": {},
       "output_type": "display_data",
       "text": [
        "<IPython.core.display.Javascript at 0x7f78c67ced50>"
       ]
      },
      {
       "javascript": [
        "$('div#2cc94236-f8b7-4683-8ac7-398e49d9d25d').width('58.333333%')"
       ],
       "metadata": {},
       "output_type": "display_data",
       "text": [
        "<IPython.core.display.Javascript at 0x7f78c67cee90>"
       ]
      },
      {
       "javascript": [
        "$('div#2cc94236-f8b7-4683-8ac7-398e49d9d25d').width('66.666667%')"
       ],
       "metadata": {},
       "output_type": "display_data",
       "text": [
        "<IPython.core.display.Javascript at 0x7f78c67ce750>"
       ]
      },
      {
       "javascript": [
        "$('div#2cc94236-f8b7-4683-8ac7-398e49d9d25d').width('75.000000%')"
       ],
       "metadata": {},
       "output_type": "display_data",
       "text": [
        "<IPython.core.display.Javascript at 0x7f78c67ce390>"
       ]
      },
      {
       "javascript": [
        "$('div#2cc94236-f8b7-4683-8ac7-398e49d9d25d').width('83.333333%')"
       ],
       "metadata": {},
       "output_type": "display_data",
       "text": [
        "<IPython.core.display.Javascript at 0x7f78c67da6d0>"
       ]
      },
      {
       "javascript": [
        "$('div#2cc94236-f8b7-4683-8ac7-398e49d9d25d').width('91.666667%')"
       ],
       "metadata": {},
       "output_type": "display_data",
       "text": [
        "<IPython.core.display.Javascript at 0x7f78c67da810>"
       ]
      },
      {
       "javascript": [
        "$('div#2cc94236-f8b7-4683-8ac7-398e49d9d25d').width('100.000000%')"
       ],
       "metadata": {},
       "output_type": "display_data",
       "text": [
        "<IPython.core.display.Javascript at 0x7f78c67da750>"
       ]
      },
      {
       "output_type": "stream",
       "stream": "stdout",
       "text": [
        "Generating 600 realizations of the model (chunk size=100)\n"
       ]
      },
      {
       "html": [
        "\n",
        "                          <div style=\"border: 1px solid black; width:500px\">\n",
        "                          <div id=\"beb8ede7-7b71-4203-a629-e8dfb6df8a6e\" style=\"background-color:blue; width:0%\">&nbsp;</div>\n",
        "                          </div>\n",
        "                          "
       ],
       "metadata": {},
       "output_type": "display_data",
       "text": [
        "<IPython.core.display.HTML at 0x7f78c67da410>"
       ]
      },
      {
       "javascript": [
        "$('div#beb8ede7-7b71-4203-a629-e8dfb6df8a6e').width('16.666667%')"
       ],
       "metadata": {},
       "output_type": "display_data",
       "text": [
        "<IPython.core.display.Javascript at 0x7f78c67dabd0>"
       ]
      },
      {
       "javascript": [
        "$('div#beb8ede7-7b71-4203-a629-e8dfb6df8a6e').width('33.333333%')"
       ],
       "metadata": {},
       "output_type": "display_data",
       "text": [
        "<IPython.core.display.Javascript at 0x7f78c67daf10>"
       ]
      },
      {
       "javascript": [
        "$('div#beb8ede7-7b71-4203-a629-e8dfb6df8a6e').width('50.000000%')"
       ],
       "metadata": {},
       "output_type": "display_data",
       "text": [
        "<IPython.core.display.Javascript at 0x7f78c67ee890>"
       ]
      },
      {
       "javascript": [
        "$('div#beb8ede7-7b71-4203-a629-e8dfb6df8a6e').width('66.666667%')"
       ],
       "metadata": {},
       "output_type": "display_data",
       "text": [
        "<IPython.core.display.Javascript at 0x7f78c67ee1d0>"
       ]
      },
      {
       "javascript": [
        "$('div#beb8ede7-7b71-4203-a629-e8dfb6df8a6e').width('83.333333%')"
       ],
       "metadata": {},
       "output_type": "display_data",
       "text": [
        "<IPython.core.display.Javascript at 0x7f78c67ee710>"
       ]
      },
      {
       "javascript": [
        "$('div#beb8ede7-7b71-4203-a629-e8dfb6df8a6e').width('100.000000%')"
       ],
       "metadata": {},
       "output_type": "display_data",
       "text": [
        "<IPython.core.display.Javascript at 0x7f78c67ee3d0>"
       ]
      },
      {
       "output_type": "stream",
       "stream": "stdout",
       "text": [
        "[565.468766, 293.029736, 256.626727, 238.62569, 228.26313, 224.723154]\n"
       ]
      }
     ],
     "prompt_number": 38
    },
    {
     "cell_type": "code",
     "collapsed": false,
     "input": [
      "plt.clf()\n",
      "#fit = numpy.polyfit(vary_timepoints, bm2_wall_time,1)\n",
      "#print fit\n",
      "plt.plot(vary_chunksize, bm3_wall_time,'.-b')\n",
      "#fitstr = \"Slope: %e\\nY-intercept: %e\" % (fit[0], fit[1])\n",
      "#plt.text(vary_timepoints[0],0.9*max(bm2_wall_time), fitstr)\n",
      "plt.xlabel('Number of realizations per job (chunk size)')\n",
      "plt.ylabel('Computation Time')\n",
      "plt.title('Scheduling Overhead Benchmark: \\nConstant Computation, Constant Data')"
     ],
     "language": "python",
     "metadata": {},
     "outputs": [
      {
       "metadata": {},
       "output_type": "pyout",
       "prompt_number": 39,
       "text": [
        "<matplotlib.text.Text at 0x7f78c64dafd0>"
       ]
      },
      {
       "metadata": {},
       "output_type": "display_data",
       "png": "[encoded data removed]",
       "text": [
        "<matplotlib.figure.Figure at 0x7f78c6769b10>"
       ]
      }
     ],
     "prompt_number": 39
    },
    {
     "cell_type": "code",
     "collapsed": false,
     "input": [
      "plt.clf()\n",
      "fit = numpy.polyfit(600/numpy.array(vary_chunksize), bm3_wall_time,1)\n",
      "print fit\n",
      "plt.plot(600/numpy.array(vary_chunksize), bm3_wall_time,'.-b')\n",
      "fitstr = \"Slope: %e\\nY-intercept: %e\" % (fit[0], fit[1])\n",
      "plt.text(10,0.9*max(bm3_wall_time), fitstr)\n",
      "plt.xlabel('Number of jobs per run (600/chunk_size)')\n",
      "plt.ylabel('Computation Time')\n",
      "plt.title('Scheduling Overhead Benchmark: \\nConstant Computation, Constant Data')"
     ],
     "language": "python",
     "metadata": {},
     "outputs": [
      {
       "output_type": "stream",
       "stream": "stdout",
       "text": [
        "[   0.57307325  222.03875922]\n"
       ]
      },
      {
       "metadata": {},
       "output_type": "pyout",
       "prompt_number": 42,
       "text": [
        "<matplotlib.text.Text at 0x7f78c628a790>"
       ]
      },
      {
       "metadata": {},
       "output_type": "display_data",
       "png": "[encoded data removed]",
       "text": [
        "<matplotlib.figure.Figure at 0x7f78c62c4590>"
       ]
      }
     ],
     "prompt_number": 42
    },
    {
     "cell_type": "code",
     "collapsed": false,
     "input": [],
     "language": "python",
     "metadata": {},
     "outputs": []
    }
   ],
   "metadata": {}
  }
 ]
}