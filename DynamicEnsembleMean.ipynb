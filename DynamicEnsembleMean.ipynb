{
 "metadata": {
  "name": "",
  "signature": "sha256:455e01b0976de275ed12325d4c3ba70588a17f4a25d6f409046dcdc2fc1ad138"
 },
 "nbformat": 3,
 "nbformat_minor": 0,
 "worksheets": [
  {
   "cells": [
    {
     "cell_type": "code",
     "collapsed": false,
     "input": [
      "import IPython.parallel\n",
      "import sys\n",
      "from pyurdme import pyurdme\n",
      "import time\n",
      "import pyurdme\n",
      "import numpy\n",
      "import math\n",
      "\n",
      "# This is to disable annoying messages from FeniCS/UFL/FFC\n",
      "import logging\n",
      "logging.disable(logging.DEBUG)\n",
      "\n",
      "rc = IPython.parallel.Client()\n",
      "# We have to use dill instead of pickle to serialize dynamically defined classes\n",
      "rc[:].use_dill()\n",
      "\n",
      "rv = rc.load_balanced_view()\n",
      "import dill\n",
      "from IPython.utils import pickleutil\n",
      "pickleutil.use_dill()"
     ],
     "language": "python",
     "metadata": {},
     "outputs": [],
     "prompt_number": 18
    },
    {
     "cell_type": "code",
     "collapsed": false,
     "input": [
      "class SimpleDiffusion(pyurdme.URDMEModel):\n",
      "    \"\"\" This simple Hello World model consists of a single\n",
      "        species diffusing on a unit square. The initial \n",
      "        condition is a delta function on the voxel closest \n",
      "        to the center of the grid. \n",
      "    \"\"\"\n",
      "\n",
      "    def __init__(self):\n",
      "        \n",
      "        pyurdme.URDMEModel.__init__(self,name=\"simple_diffusion\")\n",
      "\n",
      "        A = pyurdme.Species(name=\"A\",diffusion_constant=0.01,dimension=2)\n",
      "\n",
      "        self.add_species([A])\n",
      "\n",
      "        # A unit square\n",
      "        self.mesh = pyurdme.URDMEMesh.generate_unit_square_mesh(40,40)\n",
      "                \n",
      "        # Place the A molecules in the voxel nearest the center of the square\n",
      "        self.set_initial_condition_place_near({A:100000},point=[0.5,0.5])\n",
      "\n",
      "        self.timespan(numpy.linspace(0,5,200))\n"
     ],
     "language": "python",
     "metadata": {},
     "outputs": [],
     "prompt_number": 19
    },
    {
     "cell_type": "code",
     "collapsed": false,
     "input": [
      "def g1(results):\n",
      "   \"\"\" Reduce the result list by computing the mean value of the species A. \"\"\"\n",
      "   for i,result in enumerate(results):\n",
      "        if i == 0:\n",
      "           A = result.get_species(\"A\")\n",
      "        else:\n",
      "            A = A + result.get_species(\"A\")\n",
      "        return A/len(results)\n",
      "\n",
      "def g2(results):\n",
      "   \"\"\" Reduce the result list by computing the mean value of the species A. \"\"\"\n",
      "   #results = pickle.loads(results)\n",
      "   for i,result in enumerate(results):\n",
      "        if i == 0:\n",
      "            A  = result.get_species(\"A\",-1)\n",
      "        else:\n",
      "            A  = A + result.get_species(\"A\",-1)\n",
      "   mean = A/len(results)\n",
      "   return mean[100]\n",
      "        \n",
      "def g3(results):\n",
      "   \"\"\" Reduce the result list by computing the mean value of \n",
      "       the sum of A at the last timepoint. Returns a single scalar value.\"\"\"\n",
      "   import numpy\n",
      "   for i,result in enumerate(results):\n",
      "       if i == 0:\n",
      "           asum = numpy.sum(result.get_species(\"A\",-1))\n",
      "       else:\n",
      "           asum = asum+numpy.sum(result.get_species(\"A\",-1))\n",
      "   return asum/len(results)"
     ],
     "language": "python",
     "metadata": {},
     "outputs": [],
     "prompt_number": 20
    },
    {
     "cell_type": "code",
     "collapsed": false,
     "input": [
      "@IPython.parallel.require(SimpleDiffusion,g2,pyurdme,dill)\n",
      "def run_ensemble(model, nt,s):\n",
      "    \"\"\" Generates an ensemble consisting of number_of_trajectories realizations. \n",
      "        Returns a list of result objects. \"\"\"    \n",
      "    \n",
      "    import pyurdme\n",
      "    from pyurdme.nsmsolver import NSMSolver\n",
      "    import sys\n",
      "    import numpy\n",
      "    import dill\n",
      "    \n",
      "    results = model.run(number_of_trajectories=nt,seed=s)\n",
      "    \n",
      "    if not isinstance(results,list):\n",
      "        results = [results]\n",
      "    \n",
      "    return g2(results)"
     ],
     "language": "python",
     "metadata": {},
     "outputs": [],
     "prompt_number": 21
    },
    {
     "cell_type": "markdown",
     "metadata": {},
     "source": [
      "With things defined, we will next compute the mean value of the copy number of A in a certain voxel of the mesh at the final timepoint. For this, we will use the map_async function to queue a given number of ensembles and start analyzing the ensemble means as they arrive. If the initial number of ensembles is not enough to compute the mean up to a given tolerance, more ensembles will be generated. When the tolerance is met, all remaining tasks will be aborted.   "
     ]
    },
    {
     "cell_type": "code",
     "collapsed": false,
     "input": [
      "model = SimpleDiffusion()\n",
      "num_chunks = 6\n",
      "number_of_trajectories = 10\n",
      "\n",
      "meanA = 0.0\n",
      "sumA = 0.0\n",
      "\n",
      "\n",
      "import time\n",
      "not_done = True\n",
      "\n",
      "tol = 0.001\n",
      "relerr = 1\n",
      "A = []\n",
      "total_ensembles = 0\n",
      "\n",
      "tic = time.time()\n",
      "\n",
      "while not_done:\n",
      "    \n",
      "    \n",
      "    results = rv.map_async(run_ensemble, [model]*num_chunks,[number_of_trajectories]*num_chunks,range(num_chunks))\n",
      " \n",
      "    for result in enumerate(results):\n",
      "        A.append(result)\n",
      "        meanvalue = numpy.mean(A)\n",
      "        std_dev = numpy.std(A)\n",
      "        confidence = 1.96*std_dev/math.sqrt(total_ensembles)\n",
      "\n",
      "        if total_ensembles > 0:\n",
      "            relerr = confidence/meanvalue\n",
      "            \n",
      "        if relerr <= tol:\n",
      "            not_done = False\n",
      "            results.abort()\n",
      "            break\n",
      "        else:\n",
      "            print meanvalue, \"+/-\", confidence/meanvalue\n",
      "            total_ensembles += 1\n",
      "            \n",
      "    \n",
      "print \"Achieved the desired tolerance level with {0} trajectories. \".format(total_ensembles*number_of_trajectories)\n",
      "print meanvalue, \"+/-\", confidence/meanvalue\n",
      "            \n",
      "toc = time.time()\n",
      "print \"Elapsed time: {0} s\".format(toc-tic) "
     ],
     "language": "python",
     "metadata": {},
     "outputs": [
      {
       "output_type": "stream",
       "stream": "stdout",
       "text": [
        "23.5 +/- inf\n",
        "26.75 +/- 1.94849624333\n",
        "29.0 +/- 1.36210382612\n",
        "29.875 +/- 1.09067018934\n",
        "29.6 +/- 0.926814164751\n",
        "29.8333333333 +/- 0.813159609744\n",
        "28.9285714286"
       ]
      },
      {
       "output_type": "stream",
       "stream": "stdout",
       "text": [
        " +/- 0.752614528265\n",
        "29.0625"
       ]
      },
      {
       "output_type": "stream",
       "stream": "stdout",
       "text": [
        " +/- 0.699501202793\n",
        "29.5555555556 +/- 0.655478932979\n",
        "29.85 +/- 0.615660325766\n",
        "29.7272727273 +/- 0.580064278216\n",
        "29.8333333333"
       ]
      },
      {
       "output_type": "stream",
       "stream": "stdout",
       "text": [
        " +/- 0.54823209705\n",
        "29.3461538462"
       ]
      },
      {
       "output_type": "stream",
       "stream": "stdout",
       "text": [
        " +/- 0.528850514041\n",
        "29.3928571429 +/- 0.50943485779\n",
        "29.6666666667 +/- 0.491670048854\n",
        "29.84375 +/- 0.474125039985\n",
        "29.7647058824"
       ]
      },
      {
       "output_type": "stream",
       "stream": "stdout",
       "text": [
        " +/- 0.457164336938\n",
        "29.8333333333 +/- 0.440997716054\n",
        "29.5"
       ]
      },
      {
       "output_type": "stream",
       "stream": "stdout",
       "text": [
        " +/- 0.430790845995\n",
        "29.525"
       ]
      },
      {
       "output_type": "stream",
       "stream": "stdout",
       "text": [
        " +/- 0.420114089572\n",
        "29.7142857143"
       ]
      },
      {
       "output_type": "stream",
       "stream": "stdout",
       "text": [
        " +/- 0.409992290782\n",
        "29.8409090909 +/- 0.399642030217\n",
        "29.7826086957 +/- 0.389293579384\n",
        "29.8333333333 +/- 0.379137622977\n",
        "29.58"
       ]
      },
      {
       "output_type": "stream",
       "stream": "stdout",
       "text": [
        " +/- 0.372617076949\n",
        "29.5961538462"
       ]
      },
      {
       "output_type": "stream",
       "stream": "stdout",
       "text": [
        " +/- 0.365648671799\n",
        "29.7407407407"
       ]
      },
      {
       "output_type": "stream",
       "stream": "stdout",
       "text": [
        " +/- 0.358921014381\n",
        "29.8392857143 +/- 0.351912249324\n",
        "29.7931034483 +/- 0.344771904311\n",
        "29.8333333333 +/- 0.337646149944\n",
        "29.6290322581"
       ]
      },
      {
       "output_type": "stream",
       "stream": "stdout",
       "text": [
        " +/- 0.333026717043\n",
        "29.640625"
       ]
      },
      {
       "output_type": "stream",
       "stream": "stdout",
       "text": [
        " +/- 0.328026499925\n",
        "29.7575757576 +/- 0.323145245013\n",
        "29.8382352941 +/- 0.318000743926\n",
        "29.8 +/- 0.312696551668\n",
        "29.8333333333 +/- 0.307345443369\n",
        "29.6621621622"
       ]
      },
      {
       "output_type": "stream",
       "stream": "stdout",
       "text": [
        " +/- 0.303854643288\n",
        "29.6710526316"
       ]
      },
      {
       "output_type": "stream",
       "stream": "stdout",
       "text": [
        " +/- 0.300043878216\n",
        "29.7692307692 +/- 0.296295966472\n",
        "29.8375"
       ]
      },
      {
       "output_type": "stream",
       "stream": "stdout",
       "text": [
        " +/- 0.292314556886\n",
        "29.8048780488 +/- 0.288175358314\n",
        "29.8333333333 +/- 0.283967653371\n",
        "29.6860465116"
       ]
      },
      {
       "output_type": "stream",
       "stream": "stdout",
       "text": [
        " +/- 0.281210654936\n",
        "29.6931818182"
       ]
      },
      {
       "output_type": "stream",
       "stream": "stdout",
       "text": [
        " +/- 0.278182692862\n",
        "29.7777777778 +/- 0.275188700265\n",
        "29.8369565217"
       ]
      },
      {
       "output_type": "stream",
       "stream": "stdout",
       "text": [
        " +/- 0.271989861874\n",
        "29.8085106383 +/- 0.268643933365\n",
        "29.8333333333 +/- 0.265223420655\n",
        "29.7040816327"
       ]
      },
      {
       "output_type": "stream",
       "stream": "stdout",
       "text": [
        " +/- 0.262974905483\n",
        "29.71 +/- 0.260494195929\n",
        "29.7843137255 +/- 0.258031417232\n",
        "29.8365384615 +/- 0.255388644822\n",
        "29.8113207547"
       ]
      },
      {
       "output_type": "stream",
       "stream": "stdout",
       "text": [
        " +/- 0.252611438392\n",
        "29.8333333333"
       ]
      },
      {
       "output_type": "stream",
       "stream": "stdout",
       "text": [
        " +/- 0.249759988736\n",
        "29.7181818182"
       ]
      },
      {
       "output_type": "stream",
       "stream": "stdout",
       "text": [
        " +/- 0.247880852154\n",
        "29.7232142857 +/- 0.245800363404\n",
        "29.7894736842 +/- 0.243728413189\n",
        "29.8362068966"
       ]
      },
      {
       "output_type": "stream",
       "stream": "stdout",
       "text": [
        " +/- 0.241497415025\n",
        "29.813559322"
       ]
      },
      {
       "output_type": "stream",
       "stream": "stdout",
       "text": [
        " +/- 0.239144282301\n",
        "29.8333333333 +/- 0.236719914402\n",
        "29.7295081967"
       ]
      },
      {
       "output_type": "stream",
       "stream": "stdout",
       "text": [
        " +/- 0.235119050096\n",
        "29.7338709677 +/- 0.233341664736\n",
        "29.7936507937 +/- 0.231567109116\n",
        "29.8359375 +/- 0.229651060975\n",
        "29.8153846154"
       ]
      },
      {
       "output_type": "stream",
       "stream": "stdout",
       "text": [
        " +/- 0.227624085553\n",
        "29.8333333333"
       ]
      },
      {
       "output_type": "stream",
       "stream": "stdout",
       "text": [
        " +/- 0.225529897544\n",
        "29.7388059701"
       ]
      },
      {
       "output_type": "stream",
       "stream": "stdout",
       "text": [
        " +/- 0.224144822205\n",
        "29.7426470588"
       ]
      },
      {
       "output_type": "stream",
       "stream": "stdout",
       "text": [
        " +/- 0.222603484861\n",
        "29.7971014493 +/- 0.221061420494\n",
        "29.8357142857 +/- 0.21939262069\n",
        "29.8169014085"
       ]
      },
      {
       "output_type": "stream",
       "stream": "stdout",
       "text": [
        " +/- 0.217622852587\n",
        "29.8333333333 +/- 0.215790154803\n",
        "29.7465753425"
       ]
      },
      {
       "output_type": "stream",
       "stream": "stdout",
       "text": [
        " +/- 0.214576402211\n",
        "29.75"
       ]
      },
      {
       "output_type": "stream",
       "stream": "stdout",
       "text": [
        " +/- 0.21322313112\n",
        "29.8 +/- 0.21186688647\n",
        "29.8355263158 +/- 0.210396388373\n",
        "29.8181818182 +/- 0.208833688001\n",
        "29.8333333333 +/- 0.207212255648\n",
        "29.753164557"
       ]
      },
      {
       "output_type": "stream",
       "stream": "stdout",
       "text": [
        " +/- 0.206137207281\n",
        "29.75625 +/- 0.204936644908\n",
        "29.8024691358"
       ]
      },
      {
       "output_type": "stream",
       "stream": "stdout",
       "text": [
        " +/- 0.203731686557\n",
        "29.8353658537 +/- 0.202423110201\n",
        "29.8192771084 +/- 0.201030028973\n",
        "29.8333333333 +/- 0.199582176649\n",
        "29.7588235294"
       ]
      },
      {
       "output_type": "stream",
       "stream": "stdout",
       "text": [
        " +/- 0.198621291088\n",
        "29.761627907 +/- 0.197546733198\n",
        "29.8045977011 +/- 0.196466888782\n",
        "29.8352272727 +/- 0.19529255709\n",
        "29.8202247191 +/- 0.19404048668\n",
        "29.8333333333 +/- 0.192737311904\n",
        "29.7637362637"
       ]
      },
      {
       "output_type": "stream",
       "stream": "stdout",
       "text": [
        " +/- 0.191871723746\n",
        "29.7663043478"
       ]
      },
      {
       "output_type": "stream",
       "stream": "stdout",
       "text": [
        " +/- 0.190902575045\n",
        "29.8064516129 +/- 0.189927599486\n",
        "29.835106383 +/- 0.188866033303\n",
        "29.8210526316 +/- 0.187732692515\n",
        "29.8333333333 +/- 0.186551608623\n",
        "29.7680412371"
       ]
      },
      {
       "output_type": "stream",
       "stream": "stdout",
       "text": [
        " +/- 0.185766545568\n",
        "29.7704081633 +/- 0.18488663348\n",
        "29.8080808081 +/- 0.184000588307\n",
        "29.835 +/- 0.183034829532\n",
        "29.8217821782 +/- 0.182002572353\n",
        "29.8333333333 +/- 0.180925638535\n",
        "29.7718446602"
       ]
      },
      {
       "output_type": "stream",
       "stream": "stdout",
       "text": [
        " +/- 0.18020934643\n",
        "29.7740384615 +/- 0.179405770775\n",
        "29.8095238095"
       ]
      },
      {
       "output_type": "stream",
       "stream": "stdout",
       "text": [
        " +/- 0.178595913947\n",
        "29.8349056604 +/- 0.177712371631\n",
        "29.8224299065 +/- 0.176767017183\n",
        "29.8333333333 +/- 0.175779778179\n",
        "29.7752293578"
       ]
      },
      {
       "output_type": "stream",
       "stream": "stdout",
       "text": [
        " +/- 0.175122772045\n",
        "29.7772727273 +/- 0.174385100359\n",
        "29.8108108108 +/- 0.173641106866\n",
        "29.8348214286 +/- 0.172828743887\n",
        "29.8230088496 +/- 0.171958748153\n",
        "29.8333333333 +/- 0.171049409479\n",
        "29.7782608696"
       ]
      },
      {
       "output_type": "stream",
       "stream": "stdout",
       "text": [
        " +/- 0.170443939788\n",
        "29.7801724138"
       ]
      },
      {
       "output_type": "stream",
       "stream": "stdout",
       "text": [
        " +/- 0.169763631927\n",
        "29.811965812 +/- 0.169077034693\n",
        "29.8347457627"
       ]
      },
      {
       "output_type": "stream",
       "stream": "stdout",
       "text": [
        " +/- 0.168326782289\n",
        "29.8235294118 +/- 0.167522639582\n",
        "29.8333333333 +/- 0.166681469346\n",
        "29.7809917355"
       ]
      },
      {
       "output_type": "stream",
       "stream": "stdout",
       "text": [
        " +/- 0.1661211341\n",
        "29.7827868852"
       ]
      },
      {
       "output_type": "stream",
       "stream": "stdout",
       "text": [
        " +/- 0.165491122723\n",
        "29.8130081301 +/- 0.164854903835\n",
        "29.8346774194 +/- 0.164159232203\n",
        "29.824 +/- 0.163413034694\n",
        "29.8333333333 +/- 0.162631921949\n",
        "29.7834645669"
       ]
      },
      {
       "output_type": "stream",
       "stream": "stdout",
       "text": [
        " +/- 0.162111379705\n",
        "29.78515625"
       ]
      },
      {
       "output_type": "stream",
       "stream": "stdout",
       "text": [
        " +/- 0.161525759082\n",
        "29.8139534884 +/- 0.160934045795\n",
        "29.8346153846 +/- 0.160286643884\n",
        "29.8244274809 +/- 0.159591752128\n",
        "29.8333333333 +/- 0.158863875538\n",
        "29.7857142857"
       ]
      },
      {
       "output_type": "stream",
       "stream": "stdout",
       "text": [
        " +/- 0.158378629753\n",
        "29.7873134328"
       ]
      },
      {
       "output_type": "stream",
       "stream": "stdout",
       "text": [
        " +/- 0.157832421323\n",
        "29.8148148148 +/- 0.157280256536\n",
        "29.8345588235"
       ]
      },
      {
       "output_type": "stream",
       "stream": "stdout",
       "text": [
        " +/- 0.156675789652\n",
        "29.8248175182"
       ]
      },
      {
       "output_type": "stream",
       "stream": "stdout",
       "text": [
        " +/- 0.1560265825\n",
        "29.8333333333"
       ]
      },
      {
       "output_type": "stream",
       "stream": "stdout",
       "text": [
        " +/- 0.155346158194\n",
        "29.7877697842"
       ]
      },
      {
       "output_type": "stream",
       "stream": "stdout",
       "text": [
        " +/- 0.154892392839\n",
        "29.7892857143"
       ]
      },
      {
       "output_type": "stream",
       "stream": "stdout",
       "text": [
        " +/- 0.154381366111\n",
        "29.8156028369 +/- 0.153864532659\n",
        "29.8345070423 +/- 0.153298456502\n",
        "29.8251748252 +/- 0.15269013875\n",
        "29.8333333333 +/- 0.152052225905\n",
        "29.7896551724"
       ]
      },
      {
       "output_type": "stream",
       "stream": "stdout",
       "text": [
        " +/- 0.15162667855\n",
        "29.7910958904"
       ]
      },
      {
       "output_type": "stream",
       "stream": "stdout",
       "text": [
        " +/- 0.151147212548\n",
        "29.8163265306 +/- 0.150662097018\n",
        "29.8344594595"
       ]
      },
      {
       "output_type": "stream",
       "stream": "stdout",
       "text": [
        " +/- 0.150130513246\n",
        "29.8255033557 +/- 0.149558965893\n",
        "29.8333333333 +/- 0.148959315075\n",
        "29.7913907285"
       ]
      },
      {
       "output_type": "stream",
       "stream": "stdout",
       "text": [
        " +/- 0.14855917775\n",
        "29.7927631579 +/- 0.148108152573\n",
        "29.8169934641 +/- 0.147651638549\n",
        "29.8344155844 +/- 0.147151181338\n",
        "29.8258064516 +/- 0.146612843746\n",
        "29.8333333333"
       ]
      },
      {
       "output_type": "stream",
       "stream": "stdout",
       "text": [
        " +/- 0.146047777304\n",
        "29.7929936306"
       ]
      },
      {
       "output_type": "stream",
       "stream": "stdout",
       "text": [
        " +/- 0.145670618223\n",
        "29.7943037975"
       ]
      },
      {
       "output_type": "stream",
       "stream": "stdout",
       "text": [
        " +/- 0.145245329298\n",
        "29.8176100629 +/- 0.144814712801\n",
        "29.834375 +/- 0.144342458838\n",
        "29.8260869565 +/- 0.143834235049\n",
        "29.8333333333 +/- 0.143300551866\n",
        "29.7944785276"
       ]
      },
      {
       "output_type": "stream",
       "stream": "stdout",
       "text": [
        " +/- 0.142944253027\n",
        "29.7957317073 +/- 0.142542342627\n",
        "29.8181818182 +/- 0.142135264499\n",
        "29.8343373494 +/- 0.141688660897\n",
        "29.8263473054 +/- 0.141207844469\n",
        "29.8333333333 +/- 0.140702743412\n",
        "29.7958579882"
       ]
      },
      {
       "output_type": "stream",
       "stream": "stdout",
       "text": [
        " +/- 0.14036545039\n",
        "29.7970588235"
       ]
      },
      {
       "output_type": "stream",
       "stream": "stdout",
       "text": [
        " +/- 0.139984852473\n",
        "29.8187134503"
       ]
      },
      {
       "output_type": "stream",
       "stream": "stdout",
       "text": [
        " +/- 0.13959924383\n",
        "29.8343023256 +/- 0.139176049891\n",
        "29.8265895954 +/- 0.138720263082\n",
        "29.8333333333 +/- 0.138241280957\n",
        "29.7971428571"
       ]
      },
      {
       "output_type": "stream",
       "stream": "stdout",
       "text": [
        " +/- 0.137921362186\n",
        "29.7982954545"
       ]
      },
      {
       "output_type": "stream",
       "stream": "stdout",
       "text": [
        " +/- 0.137560257583\n",
        "29.8192090395"
       ]
      },
      {
       "output_type": "stream",
       "stream": "stdout",
       "text": [
        " +/- 0.137194295461\n",
        "29.8342696629 +/- 0.136792535249\n",
        "29.8268156425 +/- 0.136359679411\n",
        "29.8333333333 +/- 0.135904640299\n",
        "29.7983425414"
       ]
      },
      {
       "output_type": "stream",
       "stream": "stdout",
       "text": [
        " +/- 0.135600653779\n",
        "29.7994505495 +/- 0.135257433523\n",
        "29.8196721311"
       ]
      },
      {
       "output_type": "stream",
       "stream": "stdout",
       "text": [
        " +/- 0.134909504525\n",
        "29.8342391304"
       ]
      },
      {
       "output_type": "stream",
       "stream": "stdout",
       "text": [
        " +/- 0.134527427963\n",
        "29.827027027 +/- 0.134115642793\n",
        "29.8333333333 +/- 0.13368261636\n",
        "29.7994652406"
       ]
      },
      {
       "output_type": "stream",
       "stream": "stdout",
       "text": [
        " +/- 0.133393282252\n",
        "29.8005319149 +/- 0.133066517347\n",
        "29.8201058201"
       ]
      },
      {
       "output_type": "stream",
       "stream": "stdout",
       "text": [
        " +/- 0.132735187663\n",
        "29.8342105263"
       ]
      },
      {
       "output_type": "stream",
       "stream": "stdout",
       "text": [
        " +/- 0.132371238386\n",
        "29.8272251309 +/- 0.13197886822\n",
        "29.8333333333 +/- 0.131566135194\n",
        "29.8005181347"
       ]
      },
      {
       "output_type": "stream",
       "stream": "stdout",
       "text": [
        " +/- 0.131290313105\n",
        "29.8015463918 +/- 0.13097872945\n",
        "29.8205128205 +/- 0.130662719942\n",
        "29.8341836735 +/- 0.13031550858\n",
        "29.8274111675 +/- 0.129941074329\n",
        "29.8333333333 +/- 0.129547097733\n",
        "29.8015075377"
       ]
      },
      {
       "output_type": "stream",
       "stream": "stdout",
       "text": [
        " +/- 0.129283767771\n",
        "29.8025 +/- 0.128986225219\n",
        "29.8208955224 +/- 0.128684390614\n",
        "29.8341584158 +/- 0.128352672441\n",
        "29.8275862069 +/- 0.1279948481\n",
        "29.8333333333 +/- 0.127618249127\n",
        "29.8024390244"
       ]
      },
      {
       "output_type": "stream",
       "stream": "stdout",
       "text": [
        " +/- 0.127366496012\n",
        "29.8033980583 +/- 0.127081970795\n",
        "29.8212560386 +/- 0.126793282198\n",
        "29.8341346154 +/- 0.126475938327\n",
        "29.8277511962 +/- 0.126133531187\n",
        "29.8333333333 +/- 0.125773068876\n",
        "29.8033175355"
       ]
      },
      {
       "output_type": "stream",
       "stream": "stdout",
       "text": [
        " +/- 0.125532068536\n",
        "29.804245283 +/- 0.125259638422\n",
        "29.8215962441 +/- 0.124983168538\n",
        "29.8341121495 +/- 0.124679190029\n",
        "29.8279069767 +/- 0.124351123933\n",
        "29.8333333333 +/- 0.124005677938\n",
        "29.8041474654"
       ]
      },
      {
       "output_type": "stream",
       "stream": "stdout",
       "text": [
        " +/- 0.123774686148\n",
        "29.8050458716 +/- 0.123513517853\n",
        "29.8219178082 +/- 0.123248428445\n",
        "29.8340909091 +/- 0.122956902789\n",
        "29.8280542986 +/- 0.122642203887\n",
        "29.8333333333 +/- 0.122310759815\n",
        "29.8049327354"
       ]
      },
      {
       "output_type": "stream",
       "stream": "stdout",
       "text": [
        " +/- 0.122089102518\n",
        "29.8058035714"
       ]
      },
      {
       "output_type": "stream",
       "stream": "stdout",
       "text": [
        " +/- 0.121838440972\n",
        "29.8222222222"
       ]
      },
      {
       "output_type": "stream",
       "stream": "stdout",
       "text": [
        " +/- 0.121583972156\n",
        "29.8340707965 +/- 0.121304071746\n",
        "29.8281938326 +/- 0.121001856317\n",
        "29.8333333333"
       ]
      },
      {
       "output_type": "stream",
       "stream": "stdout",
       "text": [
        " +/- 0.120683493183\n",
        "29.8056768559"
       ]
      },
      {
       "output_type": "stream",
       "stream": "stdout",
       "text": [
        " +/- 0.120470558208\n",
        "29.8065217391 +/- 0.120229717362\n",
        "29.8225108225 +/- 0.119985178438\n",
        "29.8340517241 +/- 0.119716150671\n",
        "29.8283261803"
       ]
      },
      {
       "output_type": "stream",
       "stream": "stdout",
       "text": [
        " +/- 0.11942561468\n",
        "29.8333333333 +/- 0.119119494133\n",
        "29.8063829787"
       ]
      },
      {
       "output_type": "stream",
       "stream": "stdout",
       "text": [
        " +/- 0.118914724075\n",
        "29.8072033898"
       ]
      },
      {
       "output_type": "stream",
       "stream": "stdout",
       "text": [
        " +/- 0.118683078996\n",
        "29.8227848101"
       ]
      },
      {
       "output_type": "stream",
       "stream": "stdout",
       "text": [
        " +/- 0.118447840555\n",
        "29.8340336134"
       ]
      },
      {
       "output_type": "stream",
       "stream": "stdout",
       "text": [
        " +/- 0.118188999316\n",
        "29.8284518828 +/- 0.117909409405\n",
        "29.8333333333 +/- 0.117614766432\n",
        "29.8070539419"
       ]
      },
      {
       "output_type": "stream",
       "stream": "stdout",
       "text": [
        " +/- 0.117417652514\n",
        "29.8078512397"
       ]
      },
      {
       "output_type": "stream",
       "stream": "stdout",
       "text": [
        " +/- 0.11719463256\n",
        "29.8230452675 +/- 0.116968119661\n",
        "29.8340163934 +/- 0.116718837957\n",
        "29.8285714286"
       ]
      },
      {
       "output_type": "stream",
       "stream": "stdout",
       "text": [
        " +/- 0.116449523653\n",
        "29.8333333333 +/- 0.116165658535\n",
        "29.8076923077"
       ]
      },
      {
       "output_type": "stream",
       "stream": "stdout",
       "text": [
        " +/- 0.115975735282\n",
        "29.8084677419"
       ]
      },
      {
       "output_type": "stream",
       "stream": "stdout",
       "text": [
        " +/- 0.115760818184\n",
        "29.8232931727 +/- 0.115542504443\n",
        "29.834 +/- 0.11530220801\n",
        "29.828685259 +/- 0.11504255496\n",
        "29.8333333333 +/- 0.114768826275\n",
        "29.8083003953"
       ]
      },
      {
       "output_type": "stream",
       "stream": "stdout",
       "text": [
        " +/- 0.114585666889\n",
        "29.8090551181"
       ]
      },
      {
       "output_type": "stream",
       "stream": "stdout",
       "text": [
        " +/- 0.114378373605\n",
        "29.8235294118 +/- 0.114167776047\n",
        "29.833984375 +/- 0.113935937782\n",
        "29.8287937743 +/- 0.113685381854\n",
        "29.8333333333 +/- 0.113421200377\n",
        "29.8088803089"
       ]
      },
      {
       "output_type": "stream",
       "stream": "stdout",
       "text": [
        " +/- 0.113244412704\n",
        "29.8096153846 +/- 0.113044302922\n",
        "29.8237547893"
       ]
      },
      {
       "output_type": "stream",
       "stream": "stdout",
       "text": [
        " +/- 0.112840977484\n",
        "29.8339694656 +/- 0.112617112582\n",
        "29.8288973384 +/- 0.112375134704\n",
        "29.8333333333 +/- 0.112119958074\n",
        "29.8094339623"
       ]
      },
      {
       "output_type": "stream",
       "stream": "stdout",
       "text": [
        " +/- 0.111949181067\n",
        "29.8101503759 +/- 0.111755849274\n",
        "29.8239700375"
       ]
      },
      {
       "output_type": "stream",
       "stream": "stdout",
       "text": [
        " +/- 0.111559386864\n",
        "29.8339552239"
       ]
      },
      {
       "output_type": "stream",
       "stream": "stdout",
       "text": [
        " +/- 0.111343048548\n",
        "29.8289962825 +/- 0.111109170191\n",
        "29.8333333333 +/- 0.11086249822\n",
        "29.8099630996"
       ]
      },
      {
       "output_type": "stream",
       "stream": "stdout",
       "text": [
        " +/- 0.110697398839\n",
        "29.8106617647"
       ]
      },
      {
       "output_type": "stream",
       "stream": "stdout",
       "text": [
        " +/- 0.110510470861\n",
        "29.8241758242 +/- 0.110320493896\n",
        "29.8339416058"
       ]
      },
      {
       "output_type": "stream",
       "stream": "stdout",
       "text": [
        " +/- 0.11011126967\n",
        "29.8290909091 +/- 0.109885048858\n",
        "29.8333333333 +/- 0.10964641941\n",
        "29.8104693141"
       ]
      },
      {
       "output_type": "stream",
       "stream": "stdout",
       "text": [
        " +/- 0.109486689888\n",
        "29.8111510791 +/- 0.109305819845\n",
        "29.8243727599 +/- 0.109121979198\n",
        "29.8339285714 +/- 0.108919487535\n",
        "29.8291814947"
       ]
      },
      {
       "output_type": "stream",
       "stream": "stdout",
       "text": [
        " +/- 0.108700515336\n",
        "29.8333333333 +/- 0.108469500684\n",
        "29.8109540636"
       ]
      },
      {
       "output_type": "stream",
       "stream": "stdout",
       "text": [
        " +/- 0.108314856115\n",
        "29.8116197183 +/- 0.108139723726\n",
        "29.8245614035 +/- 0.107961696027\n",
        "29.8339160839"
       ]
      },
      {
       "output_type": "stream",
       "stream": "stdout",
       "text": [
        " +/- 0.107765583443\n",
        "29.8292682927 +/- 0.107553480858\n",
        "29.8333333333 +/- 0.107329684458\n",
        "29.8114186851"
       ]
      },
      {
       "output_type": "stream",
       "stream": "stdout",
       "text": [
        " +/- 0.107179860657\n",
        "29.8120689655 +/- 0.107010168857\n",
        "29.824742268 +/- 0.106837654099\n",
        "29.8339041096 +/- 0.10664759256\n",
        "29.8293515358 +/- 0.106442007764\n",
        "29.8333333333 +/- 0.106225061391\n",
        "29.8118644068"
       ]
      },
      {
       "output_type": "stream",
       "stream": "stdout",
       "text": [
        " +/- 0.106079812998\n",
        "29.8125"
       ]
      },
      {
       "output_type": "stream",
       "stream": "stdout",
       "text": [
        " +/- 0.105915285817\n",
        "29.8249158249 +/- 0.105748005233\n",
        "29.8338926174 +/- 0.105563689842\n",
        "29.8294314381 +/- 0.105364295729\n",
        "29.8333333333 +/- 0.105153856931\n",
        "29.8122923588"
       ]
      },
      {
       "output_type": "stream",
       "stream": "stdout",
       "text": [
        " +/- 0.105012955719\n",
        "29.8129139073 +/- 0.104853336394\n",
        "29.8250825083"
       ]
      },
      {
       "output_type": "stream",
       "stream": "stdout",
       "text": [
        " +/- 0.104691030558\n",
        "29.8338815789 +/- 0.104512177502\n",
        "29.8295081967 +/- 0.104318669497\n",
        "29.8333333333 +/- 0.104114419319\n",
        "29.8127035831"
       ]
      },
      {
       "output_type": "stream",
       "stream": "stdout",
       "text": [
        " +/- 0.103977652689\n",
        "29.8133116883 +/- 0.10382270198\n",
        "29.8252427184 +/- 0.103665129118\n",
        "29.8338709677 +/- 0.103491473829\n",
        "29.8295819936 +/- 0.103303567929\n",
        "29.8333333333"
       ]
      },
      {
       "output_type": "stream",
       "stream": "stdout",
       "text": [
        " +/- 0.103105208881\n",
        "29.8130990415"
       ]
      },
      {
       "output_type": "stream",
       "stream": "stdout",
       "text": [
        " +/- 0.102972378508\n",
        "29.8136942675 +/- 0.102821873189\n",
        "29.8253968254 +/- 0.102668807664\n",
        "29.8338607595"
       ]
      },
      {
       "output_type": "stream",
       "stream": "stdout",
       "text": [
        " +/- 0.102500103171\n",
        "29.8296529968"
       ]
      },
      {
       "output_type": "stream",
       "stream": "stdout",
       "text": [
        " +/- 0.102317534196\n",
        "29.8333333333 +/- 0.10212478843\n",
        "29.8134796238"
       ]
      },
      {
       "output_type": "stream",
       "stream": "stdout",
       "text": [
        " +/- 0.101995709059\n",
        "29.8140625 +/- 0.101849440566\n",
        "29.8255451713"
       ]
      },
      {
       "output_type": "stream",
       "stream": "stdout",
       "text": [
        " +/- 0.101700671516\n",
        "29.8338509317"
       ]
      },
      {
       "output_type": "stream",
       "stream": "stdout",
       "text": [
        " +/- 0.101536686973\n",
        "29.8297213622 +/- 0.101359206987\n",
        "29.8333333333 +/- 0.101171814664\n",
        "29.8138461538"
       ]
      },
      {
       "output_type": "stream",
       "stream": "stdout",
       "text": [
        " +/- 0.101046313017\n",
        "29.8144171779 +/- 0.100904086234\n",
        "29.8256880734 +/- 0.100759416356\n",
        "29.8338414634"
       ]
      },
      {
       "output_type": "stream",
       "stream": "stdout",
       "text": [
        " +/- 0.100599935707\n",
        "29.829787234 +/- 0.100427312607\n",
        "29.8333333333 +/- 0.100245030417\n",
        "29.8141993958"
       ]
      },
      {
       "output_type": "stream",
       "stream": "stdout",
       "text": [
        " +/- 0.100122944223\n",
        "29.8147590361 +/- 0.0999845763837\n",
        "29.8258258258 +/- 0.0998438208292\n",
        "29.8338323353 +/- 0.0996886416175\n",
        "29.8298507463 +/- 0.0995206578542\n",
        "29.8333333333 +/- 0.0993432576954\n",
        "29.8145400593"
       ]
      },
      {
       "output_type": "stream",
       "stream": "stdout",
       "text": [
        " +/- 0.0992244347999\n",
        "29.8150887574 +/- 0.0990897545048\n",
        "29.8259587021 +/- 0.0989527398886\n",
        "29.8338235294 +/- 0.098801672172\n",
        "29.8299120235 +/- 0.0986381235985\n",
        "29.8333333333"
       ]
      },
      {
       "output_type": "stream",
       "stream": "stdout",
       "text": [
        " +/- 0.0984653913715\n",
        "29.8148688047"
       ]
      },
      {
       "output_type": "stream",
       "stream": "stdout",
       "text": [
        " +/- 0.0983496889456\n",
        "29.8154069767"
       ]
      },
      {
       "output_type": "stream",
       "stream": "stdout",
       "text": [
        " +/- 0.098218535266\n",
        "29.8260869565 +/- 0.0980850987675\n",
        "29.8338150289 +/- 0.0979379641424\n",
        "29.8299711816"
       ]
      },
      {
       "output_type": "stream",
       "stream": "stdout",
       "text": [
        " +/- 0.0977786589705\n",
        "29.8333333333 +/- 0.0976103934945\n",
        "29.8151862464"
       ]
      },
      {
       "output_type": "stream",
       "stream": "stdout",
       "text": [
        " +/- 0.0974976773099\n",
        "29.8157142857"
       ]
      },
      {
       "output_type": "stream",
       "stream": "stdout",
       "text": [
        " +/- 0.0973698989809\n",
        "29.8262108262 +/- 0.0972398875308\n",
        "29.8338068182 +/- 0.0970965182464\n",
        "29.8300283286 +/- 0.0969412761009\n",
        "29.8333333333 +/- 0.0967772881281\n",
        "29.8154929577"
       ]
      },
      {
       "output_type": "stream",
       "stream": "stdout",
       "text": [
        " +/- 0.0966674319032\n",
        "29.816011236"
       ]
      },
      {
       "output_type": "stream",
       "stream": "stdout",
       "text": [
        " +/- 0.0965428865898\n",
        "29.8263305322 +/- 0.0964161561321\n",
        "29.8337988827 +/- 0.096276394286\n",
        "29.8300835655 +/- 0.0961250453462\n",
        "29.8333333333"
       ]
      },
      {
       "output_type": "stream",
       "stream": "stdout",
       "text": [
        " +/- 0.0959651566671\n",
        "29.8157894737"
       ]
      },
      {
       "output_type": "stream",
       "stream": "stdout",
       "text": [
        " +/- 0.0958580414718\n",
        "29.8162983425"
       ]
      },
      {
       "output_type": "stream",
       "stream": "stdout",
       "text": [
        " +/- 0.0957365951026\n",
        "29.826446281"
       ]
      },
      {
       "output_type": "stream",
       "stream": "stdout",
       "text": [
        " +/- 0.0956130099232\n",
        "29.8337912088 +/- 0.0954767067302\n",
        "29.8301369863 +/- 0.0953290909492\n",
        "29.8333333333"
       ]
      },
      {
       "output_type": "stream",
       "stream": "stdout",
       "text": [
        " +/- 0.095173133578\n",
        "29.8160762943"
       ]
      },
      {
       "output_type": "stream",
       "stream": "stdout",
       "text": [
        " +/- 0.095068647293\n",
        "29.816576087"
       ]
      },
      {
       "output_type": "stream",
       "stream": "stdout",
       "text": [
        " +/- 0.0949501734532\n",
        "29.8265582656 +/- 0.094829605569\n",
        "29.8337837838 +/- 0.0946966206957\n",
        "29.8301886792 +/- 0.0945525870885\n",
        "29.8333333333 +/- 0.0944004025215\n",
        "29.8163538874"
       ]
      },
      {
       "output_type": "stream",
       "stream": "stdout",
       "text": [
        " +/- 0.0942984393444\n",
        "29.8168449198 +/- 0.0941828187229\n",
        "29.8266666667 +/- 0.0940651473247\n",
        "29.8337765957 +/- 0.0939353482817\n",
        "29.8302387268 +/- 0.0937947542763\n",
        "29.8333333333"
       ]
      },
      {
       "output_type": "stream",
       "stream": "stdout",
       "text": [
        " +/- 0.0936461928144\n",
        "29.8166226913"
       ]
      },
      {
       "output_type": "stream",
       "stream": "stdout",
       "text": [
        " +/- 0.0935466528099\n",
        "29.8171052632"
       ]
      },
      {
       "output_type": "stream",
       "stream": "stdout",
       "text": [
        " +/- 0.0934337726939\n",
        "29.8267716535"
       ]
      },
      {
       "output_type": "stream",
       "stream": "stdout",
       "text": [
        " +/- 0.0933188836376\n",
        "29.8337696335 +/- 0.0931921452248\n",
        "29.8302872063 +/- 0.0930548560687\n",
        "29.8333333333"
       ]
      },
      {
       "output_type": "stream",
       "stream": "stdout",
       "text": [
        " +/- 0.0929097761988\n",
        "29.8168831169"
       ]
      },
      {
       "output_type": "stream",
       "stream": "stdout",
       "text": [
        " +/- 0.0928125648864\n",
        "29.817357513"
       ]
      },
      {
       "output_type": "stream",
       "stream": "stdout",
       "text": [
        " +/- 0.0927023186996\n",
        "29.826873385 +/- 0.0925901040408\n",
        "29.8337628866 +/- 0.0924663078398\n",
        "29.8303341902 +/- 0.0923321960572\n",
        "29.8333333333"
       ]
      },
      {
       "output_type": "stream",
       "stream": "stdout",
       "text": [
        " +/- 0.0921904638851\n",
        "29.8171355499"
       ]
      },
      {
       "output_type": "stream",
       "stream": "stdout",
       "text": [
        " +/- 0.0920954918625\n",
        "29.8176020408 +/- 0.0919877787424\n",
        "29.8269720102"
       ]
      },
      {
       "output_type": "stream",
       "stream": "stdout",
       "text": [
        " +/- 0.09187813631\n",
        "29.8337563452"
       ]
      },
      {
       "output_type": "stream",
       "stream": "stdout",
       "text": [
        " +/- 0.0917571702188\n",
        "29.8303797468 +/- 0.0916261151132\n",
        "29.8333333333 +/- 0.0914876038445\n",
        "29.8173803526"
       ]
      },
      {
       "output_type": "stream",
       "stream": "stdout",
       "text": [
        " +/- 0.0913947864419\n",
        "29.817839196"
       ]
      },
      {
       "output_type": "stream",
       "stream": "stdout",
       "text": [
        " +/- 0.0912895108515\n",
        "29.8270676692 +/- 0.0911823438565\n",
        "29.83375"
       ]
      },
      {
       "output_type": "stream",
       "stream": "stdout",
       "text": [
        " +/- 0.0910641016633\n",
        "29.8304239401 +/- 0.0909359888606\n",
        "29.8333333333 +/- 0.0908005783238\n",
        "29.817617866"
       ]
      },
      {
       "output_type": "stream",
       "stream": "stdout",
       "text": [
        " +/- 0.0907098352866\n",
        "29.8180693069 +/- 0.0906069066584\n",
        "29.8271604938 +/- 0.0905021233352\n",
        "29.8337438424 +/- 0.0903865043257\n",
        "29.8304668305 +/- 0.0902612253552\n",
        "29.8333333333 +/- 0.0901288015633\n",
        "29.8178484108"
       ]
      },
      {
       "output_type": "stream",
       "stream": "stdout",
       "text": [
        " +/- 0.0900400567604\n",
        "29.8182926829"
       ]
      },
      {
       "output_type": "stream",
       "stream": "stdout",
       "text": [
        " +/- 0.0899393891693\n",
        "29.8272506083 +/- 0.0898369024449\n",
        "29.8337378641 +/- 0.0897238110424\n",
        "29.8305084746"
       ]
      },
      {
       "output_type": "stream",
       "stream": "stdout",
       "text": [
        " +/- 0.0896012629502\n",
        "29.8333333333 +/- 0.0894717176978\n",
        "29.8180722892"
       ]
      },
      {
       "output_type": "stream",
       "stream": "stdout",
       "text": [
        " +/- 0.0893848988531\n",
        "29.8185096154"
       ]
      },
      {
       "output_type": "stream",
       "stream": "stdout",
       "text": [
        " +/- 0.0892864107142\n",
        "29.8273381295 +/- 0.0891861379047\n",
        "29.8337320574"
       ]
      },
      {
       "output_type": "stream",
       "stream": "stdout",
       "text": [
        " +/- 0.0890754833376\n",
        "29.830548926 +/- 0.0889555683311\n",
        "29.8333333333"
       ]
      },
      {
       "output_type": "stream",
       "stream": "stdout",
       "text": [
        " +/- 0.0888287988224\n",
        "29.8182897862"
       ]
      },
      {
       "output_type": "stream",
       "stream": "stdout",
       "text": [
        " +/- 0.0887438372677\n",
        "29.8187203791 +/- 0.0886474510589\n",
        "29.8274231678 +/- 0.0885493135885\n",
        "29.8337264151 +/- 0.0884410095842\n",
        "29.8305882353"
       ]
      },
      {
       "output_type": "stream",
       "stream": "stdout",
       "text": [
        " +/- 0.0883236347045\n",
        "29.8333333333 +/- 0.0881995432107\n",
        "29.818501171"
       ]
      },
      {
       "output_type": "stream",
       "stream": "stdout",
       "text": [
        " +/- 0.088116373657\n",
        "29.8189252336"
       ]
      },
      {
       "output_type": "stream",
       "stream": "stdout",
       "text": [
        " +/- 0.0880220156624\n",
        "29.8275058275"
       ]
      },
      {
       "output_type": "stream",
       "stream": "stdout",
       "text": [
        " +/- 0.087925938805\n",
        "29.8337209302"
       ]
      },
      {
       "output_type": "stream",
       "stream": "stdout",
       "text": [
        " +/- 0.0878199033075\n",
        "29.8306264501 +/- 0.0877049801261\n",
        "29.8333333333 +/- 0.0875834736686\n",
        "29.8187066975"
       ]
      },
      {
       "output_type": "stream",
       "stream": "stdout",
       "text": [
        " +/- 0.0875020339954\n",
        "29.819124424 +/- 0.0874096340684\n",
        "29.8275862069"
       ]
      },
      {
       "output_type": "stream",
       "stream": "stdout",
       "text": [
        " +/- 0.0873155467084\n",
        "29.8337155963 +/- 0.0872117016164\n",
        "29.8306636156"
       ]
      },
      {
       "output_type": "stream",
       "stream": "stdout",
       "text": [
        " +/- 0.0870991459555\n",
        "29.8333333333 +/- 0.0869801360131\n",
        "29.8189066059"
       ]
      },
      {
       "output_type": "stream",
       "stream": "stdout",
       "text": [
        " +/- 0.0869003670737\n",
        "29.8193181818"
       ]
      },
      {
       "output_type": "stream",
       "stream": "stdout",
       "text": [
        " +/- 0.0868098584176\n",
        "29.8276643991"
       ]
      },
      {
       "output_type": "stream",
       "stream": "stdout",
       "text": [
        " +/- 0.0867176928288\n",
        "29.8337104072"
       ]
      },
      {
       "output_type": "stream",
       "stream": "stdout",
       "text": [
        " +/- 0.0866159637545\n",
        "29.8306997743 +/- 0.0865056954275\n",
        "29.8333333333 +/- 0.0863890976656\n",
        "29.8191011236"
       ]
      },
      {
       "output_type": "stream",
       "stream": "stdout",
       "text": [
        " +/- 0.0863109431061\n",
        "29.8195067265 +/- 0.0862222620716\n",
        "29.8277404922 +/- 0.0861319537118\n",
        "29.8337053571"
       ]
      },
      {
       "output_type": "stream",
       "stream": "stdout",
       "text": [
        " +/- 0.0860322697567\n",
        "29.8307349666"
       ]
      },
      {
       "output_type": "stream",
       "stream": "stdout",
       "text": [
        " +/- 0.0859242123286\n",
        "29.8333333333 +/- 0.0858099463477\n",
        "29.8192904656"
       ]
      },
      {
       "output_type": "stream",
       "stream": "stdout",
       "text": [
        " +/- 0.0857333524399\n",
        "29.8196902655"
       ]
      },
      {
       "output_type": "stream",
       "stream": "stdout",
       "text": [
        " +/- 0.0856464383366\n",
        "29.8278145695 +/- 0.0855579256583\n",
        "29.8337004405 +/- 0.0854602192055\n",
        "29.8307692308 +/- 0.08535429977\n",
        "29.8333333333 +/- 0.0852422888729\n",
        "29.8194748359"
       ]
      },
      {
       "output_type": "stream",
       "stream": "stdout",
       "text": [
        " +/- 0.0851672043592\n",
        "29.8198689956 +/- 0.0850819992812\n",
        "29.8278867102 +/- 0.0849952235549\n",
        "29.8336956522 +/- 0.0848994300766\n",
        "29.830802603 +/- 0.0847955790491\n",
        "29.8333333333 +/- 0.0846857500248\n",
        "29.8196544276"
       ]
      },
      {
       "output_type": "stream",
       "stream": "stdout",
       "text": [
        " +/- 0.0846121259737\n",
        "29.8200431034"
       ]
      },
      {
       "output_type": "stream",
       "stream": "stdout",
       "text": [
        " +/- 0.0845285746375\n",
        "29.8279569892 +/- 0.0844434797881\n",
        "29.8336909871 +/- 0.0843495376662\n",
        "29.8308351178 +/- 0.0842476885923\n",
        "29.8333333333 +/- 0.0841399715142\n",
        "29.8198294243"
       ]
      },
      {
       "output_type": "stream",
       "stream": "stdout",
       "text": [
        " +/- 0.0840677611867\n",
        "29.820212766 +/- 0.0839858107805\n",
        "29.8280254777 +/- 0.083902343235\n",
        "29.8336864407"
       ]
      },
      {
       "output_type": "stream",
       "stream": "stdout",
       "text": [
        " +/- 0.0838101935948\n",
        "29.8308668076 +/- 0.083710282971\n",
        "29.8333333333 +/- 0.0836046110106\n",
        "29.82"
       ]
      },
      {
       "output_type": "stream",
       "stream": "stdout",
       "text": [
        " +/- 0.0835337697351\n",
        "29.8203781513"
       ]
      },
      {
       "output_type": "stream",
       "stream": "stdout",
       "text": [
        " +/- 0.0834533697785\n",
        "29.8280922432"
       ]
      },
      {
       "output_type": "stream",
       "stream": "stdout",
       "text": [
        " +/- 0.0833714783243\n",
        "29.8336820084 +/- 0.0832810648791\n",
        "29.8308977035 +/- 0.0831830319868\n",
        "29.8333333333"
       ]
      },
      {
       "output_type": "stream",
       "stream": "stdout",
       "text": [
        " +/- 0.083079341239\n",
        "29.8201663202"
       ]
      },
      {
       "output_type": "stream",
       "stream": "stdout",
       "text": [
        " +/- 0.0830098262956\n",
        "29.8205394191 +/- 0.0829309285086\n",
        "29.8281573499 +/- 0.0828505641613\n",
        "29.833677686 +/- 0.0827618330686\n",
        "29.8309278351"
       ]
      },
      {
       "output_type": "stream",
       "stream": "stdout",
       "text": [
        " +/- 0.0826656198188\n",
        "29.8333333333 +/- 0.0825638491395\n",
        "29.8203285421"
       ]
      },
      {
       "output_type": "stream",
       "stream": "stdout",
       "text": [
        " +/- 0.0824956196516\n",
        "29.8206967213"
       ]
      },
      {
       "output_type": "stream",
       "stream": "stdout",
       "text": [
        " +/- 0.0824181778331\n",
        "29.8282208589 +/- 0.0823392937137\n",
        "29.8336734694 +/- 0.0822521934396\n",
        "29.8309572301 +/- 0.0821577442285\n",
        "29.8333333333 +/- 0.0820578350833\n",
        "29.8204868154"
       ]
      },
      {
       "output_type": "stream",
       "stream": "stdout",
       "text": [
        " +/- 0.0819908519163\n",
        "29.8208502024"
       ]
      },
      {
       "output_type": "stream",
       "stream": "stdout",
       "text": [
        " +/- 0.0819148218306\n",
        "29.8282828283 +/- 0.0818373730502\n",
        "29.8336693548 +/- 0.0817518542441\n",
        "29.8309859155 +/- 0.0816591158179\n",
        "29.8333333333"
       ]
      },
      {
       "output_type": "stream",
       "stream": "stdout",
       "text": [
        " +/- 0.0815610121406\n",
        "29.8206412826"
       ]
      },
      {
       "output_type": "stream",
       "stream": "stdout",
       "text": [
        " +/- 0.0814952378078\n",
        "29.821"
       ]
      },
      {
       "output_type": "stream",
       "stream": "stdout",
       "text": [
        " +/- 0.081420577078\n",
        "29.8283433134"
       ]
      },
      {
       "output_type": "stream",
       "stream": "stdout",
       "text": [
        " +/- 0.0813445206307\n",
        "29.8336653386 +/- 0.0812605360079\n",
        "29.8310139165 +/- 0.0811694573366\n",
        "29.8333333333 +/- 0.0810731053968\n",
        "29.8207920792"
       ]
      },
      {
       "output_type": "stream",
       "stream": "stdout",
       "text": [
        " +/- 0.0810085039713\n",
        "29.8211462451"
       ]
      },
      {
       "output_type": "stream",
       "stream": "stdout",
       "text": [
        " +/- 0.0809351719804\n",
        "29.8284023669 +/- 0.0808604666428\n",
        "29.8336614173 +/- 0.0807779708745\n",
        "29.8310412574 +/- 0.0806885030339\n",
        "29.8333333333 +/- 0.0805938513135\n",
        "29.8209393346"
       ]
      },
      {
       "output_type": "stream",
       "stream": "stdout",
       "text": [
        " +/- 0.0805303883458\n",
        "29.8212890625 +/- 0.0804583461434\n",
        "29.828460039"
       ]
      },
      {
       "output_type": "stream",
       "stream": "stdout",
       "text": [
        " +/- 0.080384952381\n",
        "29.8336575875 +/- 0.0803039019913\n",
        "29.8310679612 +/- 0.0802159980527\n",
        "29.8333333333 +/- 0.0801229971301\n",
        "29.8210831721"
       ]
      },
      {
       "output_type": "stream",
       "stream": "stdout",
       "text": [
        " +/- 0.0800606395707\n",
        "29.8214285714 +/- 0.0799898497867\n",
        "29.8285163776 +/- 0.0799177296656\n",
        "29.8336538462 +/- 0.0798380829355\n",
        "29.8310940499"
       ]
      },
      {
       "output_type": "stream",
       "stream": "stdout",
       "text": [
        " +/- 0.0797516978623\n",
        "29.8333333333 +/- 0.079660300304\n",
        "29.8212237094"
       ]
      },
      {
       "output_type": "stream",
       "stream": "stdout",
       "text": [
        " +/- 0.0795990164311\n",
        "29.8215648855"
       ]
      },
      {
       "output_type": "stream",
       "stream": "stdout",
       "text": [
        " +/- 0.0795294431935\n",
        "29.8285714286"
       ]
      },
      {
       "output_type": "stream",
       "stream": "stdout",
       "text": [
        " +/- 0.0794585602984\n",
        "29.8336501901 +/- 0.0793802771755\n",
        "29.8311195446"
       ]
      },
      {
       "output_type": "stream",
       "stream": "stdout",
       "text": [
        " +/- 0.079295367726\n",
        "29.8333333333"
       ]
      },
      {
       "output_type": "stream",
       "stream": "stdout",
       "text": [
        " +/- 0.0792055279849\n",
        "29.8213610586"
       ]
      },
      {
       "output_type": "stream",
       "stream": "stdout",
       "text": [
        " +/- 0.0791452873368\n",
        "29.8216981132"
       ]
      },
      {
       "output_type": "stream",
       "stream": "stdout",
       "text": [
        " +/- 0.0790768961961\n",
        "29.8286252354"
       ]
      },
      {
       "output_type": "stream",
       "stream": "stdout",
       "text": [
        " +/- 0.0790072155526\n",
        "29.8336466165 +/- 0.0789302575665\n",
        "29.8311444653 +/- 0.0788467822031\n",
        "29.8333333333 +/- 0.0787584565232\n",
        "29.8214953271"
       ]
      },
      {
       "output_type": "stream",
       "stream": "stdout",
       "text": [
        " +/- 0.0786992298345\n",
        "29.8218283582"
       ]
      },
      {
       "output_type": "stream",
       "stream": "stdout",
       "text": [
        " +/- 0.0786319876913\n",
        "29.8286778399"
       ]
      },
      {
       "output_type": "stream",
       "stream": "stdout",
       "text": [
        " +/- 0.0785634756939\n",
        "29.8336431227 +/- 0.0784878058765\n",
        "29.8311688312 +/- 0.0784057246804\n",
        "29.8333333333"
       ]
      },
      {
       "output_type": "stream",
       "stream": "stdout",
       "text": [
        " +/- 0.0783188710072\n",
        "29.8216266174"
       ]
      },
      {
       "output_type": "stream",
       "stream": "stdout",
       "text": [
        " +/- 0.078260630149\n",
        "29.8219557196"
       ]
      },
      {
       "output_type": "stream",
       "stream": "stdout",
       "text": [
        " +/- 0.0781945051873\n",
        "29.8287292818 +/- 0.0781271295309\n",
        "29.8336397059 +/- 0.0780527123423\n",
        "29.8311926606 +/- 0.0779719869331\n",
        "29.8333333333 +/- 0.0778865648293\n",
        "29.8217550274"
       ]
      },
      {
       "output_type": "stream",
       "stream": "stdout",
       "text": [
        " +/- 0.0778292827534\n",
        "29.822080292 +/- 0.0777642443769\n",
        "29.8287795993"
       ]
      },
      {
       "output_type": "stream",
       "stream": "stdout",
       "text": [
        " +/- 0.0776979739929\n",
        "29.8336363636 +/- 0.0776247752507\n",
        "29.831215971"
       ]
      },
      {
       "output_type": "stream",
       "stream": "stdout",
       "text": [
        " +/- 0.0775453687112\n",
        "29.8333333333 +/- 0.0774613392781\n",
        "29.821880651"
       ]
      },
      {
       "output_type": "stream",
       "stream": "stdout",
       "text": [
        " +/- 0.0774049899638\n",
        "29.8222021661 +/- 0.0773410087366\n",
        "29.8288288288"
       ]
      },
      {
       "output_type": "stream",
       "stream": "stdout",
       "text": [
        " +/- 0.0772758137329\n",
        "29.8336330935 +/- 0.0772038005467\n",
        "29.8312387792 +/- 0.0771256773517\n",
        "29.8333333333"
       ]
      },
      {
       "output_type": "stream",
       "stream": "stdout",
       "text": [
        " +/- 0.0770430031541\n",
        "29.8220035778"
       ]
      },
      {
       "output_type": "stream",
       "stream": "stdout",
       "text": [
        " +/- 0.0769875615588\n",
        "29.8223214286"
       ]
      },
      {
       "output_type": "stream",
       "stream": "stdout",
       "text": [
        " +/- 0.0769246091496\n",
        "29.8288770053 +/- 0.0768604607537\n",
        "29.8336298932"
       ]
      },
      {
       "output_type": "stream",
       "stream": "stdout",
       "text": [
        " +/- 0.0767896014625\n",
        "29.8312611012 +/- 0.0767127274124\n",
        "29.8333333333 +/- 0.076631372409\n",
        "29.8221238938"
       ]
      },
      {
       "output_type": "stream",
       "stream": "stdout",
       "text": [
        " +/- 0.0765768144214\n",
        "29.8224381625 +/- 0.0765148635504\n",
        "29.8289241623 +/- 0.0764517340562\n",
        "29.8336267606"
       ]
      },
      {
       "output_type": "stream",
       "stream": "stdout",
       "text": [
        " +/- 0.0763819981704\n",
        "29.8312829525 +/- 0.0763063403279\n",
        "29.8333333333 +/- 0.0762262698053\n",
        "29.8222416813"
       ]
      },
      {
       "output_type": "stream",
       "stream": "stdout",
       "text": [
        " +/- 0.0761725722012\n",
        "29.8225524476"
       ]
      },
      {
       "output_type": "stream",
       "stream": "stdout",
       "text": [
        " +/- 0.0761115965908\n",
        "29.8289703316"
       ]
      },
      {
       "output_type": "stream",
       "stream": "stdout",
       "text": [
        " +/- 0.076049459308\n",
        "29.8336236934"
       ]
      },
      {
       "output_type": "stream",
       "stream": "stdout",
       "text": [
        " +/- 0.0759808174542\n",
        "29.8313043478 +/- 0.0759063440853\n",
        "29.8333333333 +/- 0.0758275245953\n",
        "29.8223570191"
       ]
      },
      {
       "output_type": "stream",
       "stream": "stdout",
       "text": [
        " +/- 0.0757746649964\n",
        "29.8226643599 +/- 0.075714639324\n",
        "29.829015544"
       ]
      },
      {
       "output_type": "stream",
       "stream": "stdout",
       "text": [
        " +/- 0.0756534685313\n",
        "29.8336206897"
       ]
      },
      {
       "output_type": "stream",
       "stream": "stdout",
       "text": [
        " +/- 0.0755858924\n",
        "29.8313253012 +/- 0.0755125729178\n",
        "29.8333333333 +/- 0.0754349722193\n",
        "29.8224699828"
       ]
      },
      {
       "output_type": "stream",
       "stream": "stdout",
       "text": [
        " +/- 0.0753829290535\n",
        "29.8227739726 +/- 0.0753238289078\n",
        "29.8290598291"
       ]
      },
      {
       "output_type": "stream",
       "stream": "stdout",
       "text": [
        " +/- 0.0752635998076\n",
        "29.8336177474 +/- 0.0751970621044\n",
        "29.8313458262"
       ]
      },
      {
       "output_type": "stream",
       "stream": "stdout",
       "text": [
        " +/- 0.0751248670166\n",
        "29.8333333333"
       ]
      },
      {
       "output_type": "stream",
       "stream": "stdout",
       "text": [
        " +/- 0.0750484540198\n",
        "29.8225806452"
       ]
      },
      {
       "output_type": "stream",
       "stream": "stdout",
       "text": [
        " +/- 0.0749972064846\n",
        "29.8228813559 +/- 0.0749390083234\n",
        "29.8291032149 +/- 0.074879697\n",
        "29.8336148649 +/- 0.0748141713991\n",
        "29.8313659359"
       ]
      },
      {
       "output_type": "stream",
       "stream": "stdout",
       "text": [
        " +/- 0.0747430722581\n",
        "29.8333333333 +/- 0.0746678169722\n",
        "29.8226890756"
       ]
      },
      {
       "output_type": "stream",
       "stream": "stdout",
       "text": [
        " +/- 0.0746173449998\n",
        "29.8229865772"
       ]
      },
      {
       "output_type": "stream",
       "stream": "stdout",
       "text": [
        " +/- 0.0745600261109\n",
        "29.8291457286 +/- 0.0745016094901\n",
        "29.8336120401 +/- 0.0744370705909\n",
        "29.8313856427"
       ]
      },
      {
       "output_type": "stream",
       "stream": "stdout",
       "text": [
        " +/- 0.0743670399464\n",
        "29.8333333333 +/- 0.0742929134303\n",
        "29.8227953411"
       ]
      },
      {
       "output_type": "stream",
       "stream": "stdout",
       "text": [
        " +/- 0.0742431976544\n",
        "29.823089701"
       ]
      },
      {
       "output_type": "stream",
       "stream": "stdout",
       "text": [
        " +/- 0.0741867361183\n",
        "29.8291873964 +/- 0.07412919193\n",
        "29.8336092715"
       ]
      },
      {
       "output_type": "stream",
       "stream": "stdout",
       "text": [
        " +/- 0.0740656152155\n",
        "29.8314049587 +/- 0.0739966265704\n",
        "29.8333333333 +/- 0.0739236008858\n",
        "29.8228995058"
       ]
      },
      {
       "output_type": "stream",
       "stream": "stdout",
       "text": [
        " +/- 0.0738746226103\n",
        "29.8231907895 +/- 0.0738189972648\n",
        "29.829228243 +/- 0.0737623040075\n",
        "29.8336065574 +/- 0.073699665805\n",
        "29.8314238953 +/- 0.0736316935731\n",
        "29.8333333333 +/- 0.0735597417403\n",
        "29.8230016313"
       ]
      },
      {
       "output_type": "stream",
       "stream": "stdout",
       "text": [
        " +/- 0.0735114829099\n",
        "29.8232899023"
       ]
      },
      {
       "output_type": "stream",
       "stream": "stdout",
       "text": [
        " +/- 0.0734566733172\n",
        "29.8292682927"
       ]
      },
      {
       "output_type": "stream",
       "stream": "stdout",
       "text": [
        " +/- 0.0734008102239\n",
        "29.8336038961 +/- 0.0733390876682\n",
        "29.8314424635 +/- 0.0732721071341\n",
        "29.8333333333 +/- 0.0732012030903\n",
        "29.8231017771"
       ]
      },
      {
       "output_type": "stream",
       "stream": "stdout",
       "text": [
        " +/- 0.0731536462627\n",
        "29.8233870968"
       ]
      },
      {
       "output_type": "stream",
       "stream": "stdout",
       "text": [
        " +/- 0.0730996326772\n",
        "29.8293075684 +/- 0.0730445796837\n",
        "29.8336012862"
       ]
      },
      {
       "output_type": "stream",
       "stream": "stdout",
       "text": [
        " +/- 0.0729837506819\n",
        "29.8314606742 +/- 0.0729177379638\n",
        "29.8333333333 +/- 0.072847856523\n",
        "29.8232"
       ]
      },
      {
       "output_type": "stream",
       "stream": "stdout",
       "text": [
        " +/- 0.0728009848421\n",
        "29.8234824281 +/- 0.0727477481813\n",
        "29.8293460925 +/- 0.0726934858955\n",
        "29.8335987261 +/- 0.0726335290941\n",
        "29.8314785374"
       ]
      },
      {
       "output_type": "stream",
       "stream": "stdout",
       "text": [
        " +/- 0.0725684611074\n",
        "29.8333333333 +/- 0.0724995779232\n",
        "29.823296355"
       ]
      },
      {
       "output_type": "stream",
       "stream": "stdout",
       "text": [
        " +/- 0.0724533750941\n",
        "29.8235759494 +/- 0.0724008969097\n",
        "29.8293838863 +/- 0.0723474065836\n",
        "29.8335962145 +/- 0.0722883013364\n",
        "29.831496063"
       ]
      },
      {
       "output_type": "stream",
       "stream": "stdout",
       "text": [
        " +/- 0.0722241557601\n",
        "29.8333333333 +/- 0.0721562472901\n",
        "29.8233908948"
       ]
      },
      {
       "output_type": "stream",
       "stream": "stdout",
       "text": [
        " +/- 0.0721106975555\n",
        "29.8236677116"
       ]
      },
      {
       "output_type": "stream",
       "stream": "stdout",
       "text": [
        " +/- 0.0720589600066\n",
        "29.8294209703 +/- 0.0720062235085\n",
        "29.83359375 +/- 0.0719479498473\n",
        "29.8315132605 +/- 0.071884705092\n",
        "29.8333333333 +/- 0.0718177485635\n",
        "29.8234836703"
       ]
      },
      {
       "output_type": "stream",
       "stream": "stdout",
       "text": [
        " +/- 0.0717728366809\n",
        "29.823757764"
       ]
      },
      {
       "output_type": "stream",
       "stream": "stdout",
       "text": [
        " +/- 0.0717218225087\n",
        "29.8294573643 +/- 0.0716698222976\n",
        "29.8335913313 +/- 0.0716123609036\n",
        "29.8315301391"
       ]
      },
      {
       "output_type": "stream",
       "stream": "stdout",
       "text": [
        " +/- 0.0715499960806\n",
        "29.8333333333"
       ]
      },
      {
       "output_type": "stream",
       "stream": "stdout",
       "text": [
        " +/- 0.0714839694592\n",
        "29.8235747304"
       ]
      },
      {
       "output_type": "stream",
       "stream": "stdout",
       "text": [
        " +/- 0.0714396806795\n",
        "29.8238461538 +/- 0.0713893731831\n",
        "29.8294930876"
       ]
      },
      {
       "output_type": "stream",
       "stream": "stdout",
       "text": [
        " +/- 0.0713380922841\n",
        "29.8335889571"
       ]
      },
      {
       "output_type": "stream",
       "stream": "stdout",
       "text": [
        " +/- 0.071281424461\n",
        "29.8315467075 +/- 0.0712199193536\n",
        "29.8333333333 +/- 0.0711548013121\n",
        "29.8236641221"
       ]
      },
      {
       "output_type": "stream",
       "stream": "stdout",
       "text": [
        " +/- 0.0711111213593\n",
        "29.8239329268"
       ]
      },
      {
       "output_type": "stream",
       "stream": "stdout",
       "text": [
        " +/- 0.0710615043727\n",
        "29.8295281583 +/- 0.0710109263538\n",
        "29.8335866261 +/- 0.0709550340023\n",
        "29.8315629742 +/- 0.0708943690381\n",
        "29.8333333333 +/- 0.0708301389281\n",
        "29.8237518911"
       ]
      },
      {
       "output_type": "stream",
       "stream": "stdout",
       "text": [
        " +/- 0.0707870539799\n",
        "29.8240181269 +/- 0.07073811185\n",
        "29.8295625943 +/- 0.0706882208001\n",
        "29.8335843373"
       ]
      },
      {
       "output_type": "stream",
       "stream": "stdout",
       "text": [
        " +/- 0.0706330863936\n",
        "29.8315789474"
       ]
      },
      {
       "output_type": "stream",
       "stream": "stdout",
       "text": [
        " +/- 0.0705732426183\n",
        "29.8333333333 +/- 0.0705098804423\n",
        "29.823838081"
       ]
      },
      {
       "output_type": "stream",
       "stream": "stdout",
       "text": [
        " +/- 0.070467377112\n",
        "29.8241017964 +/- 0.0704190946781\n",
        "29.8295964126 +/- 0.0703698751856\n",
        "29.8335820896"
       ]
      },
      {
       "output_type": "stream",
       "stream": "stdout",
       "text": [
        " +/- 0.0703154817471\n",
        "29.8315946349 +/- 0.0702564407999\n",
        "29.8333333333 +/- 0.0701939271854\n",
        "29.823922734"
       ]
      },
      {
       "output_type": "stream",
       "stream": "stdout",
       "text": [
        " +/- 0.0701519925038\n",
        "29.8241839763"
       ]
      },
      {
       "output_type": "stream",
       "stream": "stdout",
       "text": [
        " +/- 0.0701043550778\n",
        "29.8296296296 +/- 0.070055792211\n",
        "29.8335798817 +/- 0.0700021232911\n",
        "29.8316100443"
       ]
      },
      {
       "output_type": "stream",
       "stream": "stdout",
       "text": [
        " +/- 0.0699438673807\n",
        "29.8333333333 +/- 0.0698821835551\n",
        "29.824005891"
       ]
      },
      {
       "output_type": "stream",
       "stream": "stdout",
       "text": [
        " +/- 0.0698408049546\n",
        "29.8242647059 +/- 0.0697937983022\n",
        "29.8296622614"
       ]
      },
      {
       "output_type": "stream",
       "stream": "stdout",
       "text": [
        " +/- 0.06974587759\n",
        "29.8335777126"
       ]
      },
      {
       "output_type": "stream",
       "stream": "stdout",
       "text": [
        " +/- 0.0696929172461\n",
        "29.831625183 +/- 0.0696354291285\n",
        "29.8333333333 +/- 0.0695745568954\n",
        "29.8240875912"
       ]
      },
      {
       "output_type": "stream",
       "stream": "stdout",
       "text": [
        " +/- 0.0695337221938\n",
        "29.8243440233"
       ]
      },
      {
       "output_type": "stream",
       "stream": "stdout",
       "text": [
        " +/- 0.0694873325165\n",
        "29.8296943231 +/- 0.0694400399306\n",
        "29.8335755814 +/- 0.0693877727069\n",
        "29.8316400581 +/- 0.0693310356635\n",
        "29.8333333333 +/- 0.0692709573806\n",
        "29.8241678726"
       ]
      },
      {
       "output_type": "stream",
       "stream": "stdout",
       "text": [
        " +/- 0.0692306547659\n",
        "29.8244219653 +/- 0.0691848686843\n",
        "29.8297258297 +/- 0.0691381906214\n",
        "29.833573487"
       ]
      },
      {
       "output_type": "stream",
       "stream": "stdout",
       "text": [
        " +/- 0.06908660153\n",
        "29.8316546763 +/- 0.0690305993477\n",
        "29.8333333333 +/- 0.0689712979048\n",
        "29.8242467719"
       ]
      },
      {
       "output_type": "stream",
       "stream": "stdout",
       "text": [
        " +/- 0.0689315159212\n",
        "29.8244985673 +/- 0.0688863204585\n",
        "29.8297567954 +/- 0.0688402437245\n",
        "29.8335714286 +/- 0.0687893182273\n",
        "29.8316690442 +/- 0.0687340351786\n",
        "29.8333333333 +/- 0.0686754939773\n",
        "29.8243243243"
       ]
      },
      {
       "output_type": "stream",
       "stream": "stdout",
       "text": [
        " +/- 0.0686362215114\n",
        "29.8245738636"
       ]
      },
      {
       "output_type": "stream",
       "stream": "stdout",
       "text": [
        " +/- 0.0685916040781\n",
        "29.829787234 +/- 0.0685461158719\n",
        "29.8335694051 +/- 0.0684958398636\n",
        "29.8316831683"
       ]
      },
      {
       "output_type": "stream",
       "stream": "stdout",
       "text": [
        " +/- 0.0684412606884\n",
        "29.8333333333 +/- 0.0683834636226\n",
        "29.8244005642"
       ]
      },
      {
       "output_type": "stream",
       "stream": "stdout",
       "text": [
        " +/- 0.0683446898902\n",
        "29.8246478873"
       ]
      },
      {
       "output_type": "stream",
       "stream": "stdout",
       "text": [
        " +/- 0.0683006382692\n",
        "29.8298171589 +/- 0.0682557261681\n",
        "29.8335674157 +/- 0.0682060859594\n",
        "29.8316970547 +/- 0.068152195847\n",
        "29.8333333333 +/- 0.0680951272844\n",
        "29.8244755245"
       ]
      },
      {
       "output_type": "stream",
       "stream": "stdout",
       "text": [
        " +/- 0.0680568418182\n",
        "29.8247206704 +/- 0.0680133441511\n",
        "29.829846583 +/- 0.0679689960963\n",
        "29.8335654596 +/- 0.0679199783987\n",
        "29.8317107093 +/- 0.0678667629711\n",
        "29.8333333333 +/- 0.0678104077352\n",
        "29.8245492372"
       ]
      },
      {
       "output_type": "stream",
       "stream": "stdout",
       "text": [
        " +/- 0.0677726003729\n",
        "29.8247922438"
       ]
      },
      {
       "output_type": "stream",
       "stream": "stdout",
       "text": [
        " +/- 0.0677296451461\n",
        "29.8298755187 +/- 0.0676858494295\n",
        "29.8335635359 +/- 0.0676374413398\n",
        "29.8317241379 +/- 0.0675848866356\n",
        "29.8333333333 +/- 0.0675292299889\n",
        "29.8246217331"
       ]
      },
      {
       "output_type": "stream",
       "stream": "stdout",
       "text": [
        " +/- 0.0674918908618\n",
        "29.8248626374"
       ]
      },
      {
       "output_type": "stream",
       "stream": "stdout",
       "text": [
        " +/- 0.0674494668941\n",
        "29.8299039781 +/- 0.0674062121448\n",
        "29.8335616438 +/- 0.0673584011314\n",
        "29.8317373461"
       ]
      },
      {
       "output_type": "stream",
       "stream": "stdout",
       "text": [
        " +/- 0.0673064935904\n",
        "29.8333333333 +/- 0.0672515212181\n",
        "29.8246930423"
       ]
      },
      {
       "output_type": "stream",
       "stream": "stdout",
       "text": [
        " +/- 0.0672146407405\n",
        "29.8249318801 +/- 0.0671727371707\n",
        "29.8299319728"
       ]
      },
      {
       "output_type": "stream",
       "stream": "stdout",
       "text": [
        " +/- 0.067130012343\n",
        "29.8335597826"
       ]
      },
      {
       "output_type": "stream",
       "stream": "stdout",
       "text": [
        " +/- 0.0670827862319\n",
        "29.8317503392 +/- 0.0670315126801\n",
        "29.8333333333 +/- 0.0669772106749\n",
        "29.8247631935"
       ]
      },
      {
       "output_type": "stream",
       "stream": "stdout",
       "text": [
        " +/- 0.0669407795335\n",
        "29.825 +/- 0.0668993858088\n",
        "29.8299595142 +/- 0.06685718017\n",
        "29.8335579515 +/- 0.0668105271319\n",
        "29.8317631225 +/- 0.0667598747679\n",
        "29.8333333333 +/- 0.0667062296149\n",
        "29.8248322148"
       ]
      },
      {
       "output_type": "stream",
       "stream": "stdout",
       "text": [
        " +/- 0.066670238759\n",
        "29.8250670241"
       ]
      },
      {
       "output_type": "stream",
       "stream": "stdout",
       "text": [
        " +/- 0.0666293446237\n",
        "29.8299866131"
       ]
      },
      {
       "output_type": "stream",
       "stream": "stdout",
       "text": [
        " +/- 0.0665876477433\n",
        "29.8335561497 +/- 0.0665415562811\n",
        "29.8317757009 +/- 0.0664915126625\n",
        "29.8333333333 +/- 0.0664385112252\n",
        "29.8249001332"
       ]
      },
      {
       "output_type": "stream",
       "stream": "stdout",
       "text": [
        " +/- 0.0664029518574\n",
        "29.8251329787 +/- 0.0663625473423\n",
        "29.8300132802"
       ]
      },
      {
       "output_type": "stream",
       "stream": "stdout",
       "text": [
        " +/- 0.0663213490804\n",
        "29.8335543767"
       ]
      },
      {
       "output_type": "stream",
       "stream": "stdout",
       "text": [
        " +/- 0.0662758080176\n",
        "29.8317880795 +/- 0.066226361048\n",
        "29.8333333333 +/- 0.0661739905549\n",
        "29.8249669749"
       ]
      },
      {
       "output_type": "stream",
       "stream": "stdout",
       "text": [
        " +/- 0.0661388541217\n",
        "29.8251978892"
       ]
      },
      {
       "output_type": "stream",
       "stream": "stdout",
       "text": [
        " +/- 0.0660989295339\n",
        "29.8300395257 +/- 0.0660582200317\n",
        "29.8335526316 +/- 0.0660132185005\n",
        "29.8318002628 +/- 0.0659643564175\n",
        "29.8333333333 +/- 0.0659126044488\n",
        "29.8250327654"
       ]
      },
      {
       "output_type": "stream",
       "stream": "stdout",
       "text": [
        " +/- 0.0658778826325\n",
        "29.8252617801"
       ]
      },
      {
       "output_type": "stream",
       "stream": "stdout",
       "text": [
        " +/- 0.0658384285458\n",
        "29.8300653595"
       ]
      },
      {
       "output_type": "stream",
       "stream": "stdout",
       "text": [
        " +/- 0.065798198215\n",
        "29.8335509138"
       ]
      },
      {
       "output_type": "stream",
       "stream": "stdout",
       "text": [
        " +/- 0.0657537256456\n",
        "29.8318122555 +/- 0.0657054370088\n",
        "29.8333333333 +/- 0.0656542914846\n",
        "29.8250975293"
       ]
      },
      {
       "output_type": "stream",
       "stream": "stdout",
       "text": [
        " +/- 0.0656199761946\n",
        "29.8253246753"
       ]
      },
      {
       "output_type": "stream",
       "stream": "stdout",
       "text": [
        " +/- 0.0655809834397\n",
        "29.8300907912 +/- 0.0655412229534\n",
        "29.8335492228 +/- 0.065497269064\n",
        "29.8318240621 +/- 0.0654495427438\n",
        "29.8333333333 +/- 0.0653989919118\n",
        "29.8251612903"
       ]
      },
      {
       "output_type": "stream",
       "stream": "stdout",
       "text": [
        " +/- 0.0653650752767\n",
        "29.8253865979 +/- 0.0653265349328\n",
        "29.8301158301"
       ]
      },
      {
       "output_type": "stream",
       "stream": "stdout",
       "text": [
        " +/- 0.0652872352163\n",
        "29.8335475578 +/- 0.0652437900023\n",
        "29.8318356868 +/- 0.0651966151694\n",
        "29.8333333333 +/- 0.0651466475935\n",
        "29.8252240717"
       ]
      },
      {
       "output_type": "stream",
       "stream": "stdout",
       "text": [
        " +/- 0.065113121954\n",
        "29.8254475703 +/- 0.0650750253397\n",
        "29.8301404853"
       ]
      },
      {
       "output_type": "stream",
       "stream": "stdout",
       "text": [
        " +/- 0.0650361775617\n",
        "29.8335459184 +/- 0.0649932312869\n",
        "29.8318471338 +/- 0.0649465974016\n",
        "29.8333333333 +/- 0.0648972019516\n",
        "29.8252858958"
       ]
      },
      {
       "output_type": "stream",
       "stream": "stdout",
       "text": [
        " +/- 0.0648640598523\n",
        "29.8255076142 +/- 0.0648263985179\n",
        "29.8301647655 +/- 0.0647879940824\n",
        "29.8335443038"
       ]
      },
      {
       "output_type": "stream",
       "stream": "stdout",
       "text": [
        " +/- 0.0647455372694\n",
        "29.8318584071 +/- 0.0646994340718\n",
        "29.8333333333 +/- 0.0646505999123\n",
        "29.8253467844"
       ]
      },
      {
       "output_type": "stream",
       "stream": "stdout",
       "text": [
        " +/- 0.0646178340958\n",
        "29.8255667506"
       ]
      },
      {
       "output_type": "stream",
       "stream": "stdout",
       "text": [
        " +/- 0.064580599815\n",
        "29.8301886792 +/- 0.064542630353\n",
        "29.8335427136 +/- 0.0645006537746\n",
        "29.8318695107 +/- 0.0644550712753\n",
        "29.8333333333 +/- 0.0644067878562\n",
        "29.8254067584"
       ]
      },
      {
       "output_type": "stream",
       "stream": "stdout",
       "text": [
        " +/- 0.0643743912557\n",
        "29.825625"
       ]
      },
      {
       "output_type": "stream",
       "stream": "stdout",
       "text": [
        " +/- 0.0643375760182\n",
        "29.8302122347 +/- 0.0643000333804\n",
        "29.8335411471"
       ]
      },
      {
       "output_type": "stream",
       "stream": "stdout",
       "text": [
        " +/- 0.064258528051\n",
        "29.8318804483 +/- 0.0642134565218\n",
        "29.8333333333 +/- 0.0641657135685\n",
        "29.8254658385"
       ]
      },
      {
       "output_type": "stream",
       "stream": "stdout",
       "text": [
        " +/- 0.0641336793016\n",
        "29.8256823821 +/- 0.0640972753059\n",
        "29.8302354399"
       ]
      },
      {
       "output_type": "stream",
       "stream": "stdout",
       "text": [
        " +/- 0.0640601515552\n",
        "29.833539604"
       ]
      },
      {
       "output_type": "stream",
       "stream": "stdout",
       "text": [
        " +/- 0.0640191087229\n",
        "29.8318912237 +/- 0.0639745386882\n",
        "29.8333333333 +/- 0.0639273261924\n",
        "29.8255240444"
       ]
      },
      {
       "output_type": "stream",
       "stream": "stdout",
       "text": [
        " +/- 0.0638956475551\n",
        "29.8257389163 +/- 0.0638596472016\n",
        "29.8302583026 +/- 0.0638229346057\n",
        "29.8335380835"
       ]
      },
      {
       "output_type": "stream",
       "stream": "stdout",
       "text": [
        " +/- 0.0637823457445\n",
        "29.8319018405 +/- 0.0637382679729\n",
        "29.8333333333"
       ]
      },
      {
       "output_type": "stream",
       "stream": "stdout",
       "text": [
        " +/- 0.063691576184\n",
        "29.8255813953"
       ]
      },
      {
       "output_type": "stream",
       "stream": "stdout",
       "text": [
        " +/- 0.0636602466445\n",
        "29.825794621"
       ]
      },
      {
       "output_type": "stream",
       "stream": "stdout",
       "text": [
        " +/- 0.0636246425289\n",
        "29.8302808303 +/- 0.0635883335541\n",
        "29.8335365854"
       ]
      },
      {
       "output_type": "stream",
       "stream": "stdout",
       "text": [
        " +/- 0.0635481903563\n",
        "29.8319123021 +/- 0.0635045958525\n",
        "29.8333333333 +/- 0.063458415269\n",
        "29.8256379101"
       ]
      },
      {
       "output_type": "stream",
       "stream": "stdout",
       "text": [
        " +/- 0.0634274284623\n",
        "29.8258495146 +/- 0.0633922133688\n",
        "29.8303030303"
       ]
      },
      {
       "output_type": "stream",
       "stream": "stdout",
       "text": [
        " +/- 0.0633563006732\n",
        "29.833535109 +/- 0.0633165950426\n",
        "29.8319226119"
       ]
      },
      {
       "output_type": "stream",
       "stream": "stdout",
       "text": [
        " +/- 0.0632734750398\n",
        "29.8333333333 +/- 0.063227796401\n",
        "29.8256936068"
       ]
      },
      {
       "output_type": "stream",
       "stream": "stdout",
       "text": [
        " +/- 0.0631971461235\n",
        "29.8259036145 +/- 0.063162313019\n",
        "29.8303249097 +/- 0.0631267894463\n",
        "29.8335336538 +/- 0.0630875134911\n",
        "29.8319327731 +/- 0.0630448594436\n",
        "29.8333333333"
       ]
      },
      {
       "output_type": "stream",
       "stream": "stdout",
       "text": [
        " +/- 0.0629996737219\n",
        "29.825748503"
       ]
      },
      {
       "output_type": "stream",
       "stream": "stdout",
       "text": [
        " +/- 0.0629693539261\n",
        "29.8259569378 +/- 0.0629348959543\n",
        "29.8303464755 +/- 0.0628997545279\n",
        "29.8335322196 +/- 0.0628609005539\n",
        "29.831942789 +/- 0.0628187041298\n",
        "29.8333333333 +/- 0.0627740025237\n",
        "29.8258026159"
       ]
      },
      {
       "output_type": "stream",
       "stream": "stdout",
       "text": [
        " +/- 0.0627440073129\n",
        "29.8260095012 +/- 0.0627099177886\n",
        "29.8303677343 +/- 0.0626751517056\n",
        "29.8335308057 +/- 0.0626367122103\n",
        "29.8319526627 +/- 0.062594965285\n",
        "29.8333333333 +/- 0.0625507392111\n",
        "29.8258559622"
       ]
      },
      {
       "output_type": "stream",
       "stream": "stdout",
       "text": [
        " +/- 0.0625210628351\n",
        "29.8260613208"
       ]
      },
      {
       "output_type": "stream",
       "stream": "stdout",
       "text": [
        " +/- 0.0624873352386\n",
        "29.8303886926"
       ]
      },
      {
       "output_type": "stream",
       "stream": "stdout",
       "text": [
        " +/- 0.0624529378647\n",
        "29.8335294118 +/- 0.062414905531\n",
        "29.8319623972 +/- 0.0623736001802\n",
        "29.8333333333 +/- 0.0623298412667\n",
        "29.825908558"
       ]
      },
      {
       "output_type": "stream",
       "stream": "stdout",
       "text": [
        " +/- 0.0623004781168\n",
        "29.8261124122 +/- 0.0622671060888\n",
        "29.8304093567"
       ]
      },
      {
       "output_type": "stream",
       "stream": "stdout",
       "text": [
        " +/- 0.0622330709525\n",
        "29.8335280374 +/- 0.0621954386429\n",
        "29.8319719953 +/- 0.0621545671367\n",
        "29.8333333333 +/- 0.0621112672168\n",
        "29.8259604191"
       ]
      },
      {
       "output_type": "stream",
       "stream": "stdout",
       "text": [
        " +/- 0.0620822118215\n",
        "29.8261627907 +/- 0.0620491891581\n",
        "29.8304297329 +/- 0.0620155099459\n",
        "29.8335266821 +/- 0.0619782706969\n",
        "29.83198146 +/- 0.0619378254933\n",
        "29.8333333333 +/- 0.0618949765987\n",
        "29.8260115607"
       ]
      },
      {
       "output_type": "stream",
       "stream": "stdout",
       "text": [
        " +/- 0.0618662236193\n",
        "29.8262124711 +/- 0.0618335442671\n",
        "29.830449827 +/- 0.0618002148185\n",
        "29.8335253456 +/- 0.0617633618349\n",
        "29.831990794 +/- 0.0617233355744\n",
        "29.8333333333 +/- 0.061680929929\n",
        "29.8260619977"
       ]
      },
      {
       "output_type": "stream",
       "stream": "stdout",
       "text": [
        " +/- 0.0616524741557\n",
        "29.8262614679 +/- 0.0616201322071\n",
        "29.8304696449 +/- 0.0615871465098\n",
        "29.8335240275 +/- 0.06155067316\n",
        "29.832"
       ]
      },
      {
       "output_type": "stream",
       "stream": "stdout",
       "text": [
        " +/- 0.0615110586595\n",
        "29.8333333333 +/- 0.0614690886739\n",
        "29.8261117446"
       ]
      },
      {
       "output_type": "stream",
       "stream": "stdout",
       "text": [
        " +/- 0.0614409250215\n",
        "29.826309795 +/- 0.0614089147102\n",
        "29.8304891923 +/- 0.0613762668956\n",
        "29.8335227273 +/- 0.0613401667062\n",
        "29.8320090806"
       ]
      },
      {
       "output_type": "stream",
       "stream": "stdout",
       "text": [
        " +/- 0.0613009569542\n",
        "29.8333333333 +/- 0.0612594152192\n",
        "29.8261608154"
       ]
      },
      {
       "output_type": "stream",
       "stream": "stdout",
       "text": [
        " +/- 0.0612315387238\n",
        "29.8263574661 +/- 0.0611998544205\n",
        "29.8305084746 +/- 0.0611675387594\n",
        "29.8335214447 +/- 0.0611318054104\n",
        "29.8320180383 +/- 0.0610929935612\n",
        "29.8333333333"
       ]
      },
      {
       "output_type": "stream",
       "stream": "stdout",
       "text": [
        " +/- 0.0610518728433\n",
        "29.8262092238"
       ]
      },
      {
       "output_type": "stream",
       "stream": "stdout",
       "text": [
        " +/- 0.0610242786579\n",
        "29.8264044944"
       ]
      },
      {
       "output_type": "stream",
       "stream": "stdout",
       "text": [
        " +/- 0.0609929148663\n",
        "29.8305274972"
       ]
      },
      {
       "output_type": "stream",
       "stream": "stdout",
       "text": [
        " +/- 0.0609609257646\n",
        "29.8335201794 +/- 0.060925553085\n",
        "29.8320268757 +/- 0.0608871324539\n",
        "29.8333333333 +/- 0.0608464256891\n",
        "29.8262569832"
       ]
      },
      {
       "output_type": "stream",
       "stream": "stdout",
       "text": [
        " +/- 0.0608191090809\n",
        "29.8264508929 +/- 0.0607880604334\n",
        "29.8305462653 +/- 0.0607563924279\n",
        "29.833518931 +/- 0.0607213743909\n",
        "29.8320355951"
       ]
      },
      {
       "output_type": "stream",
       "stream": "stdout",
       "text": [
        " +/- 0.0606833384494\n",
        "29.8333333333 +/- 0.0606430387389\n",
        "29.8263041065"
       ]
      },
      {
       "output_type": "stream",
       "stream": "stdout",
       "text": [
        " +/- 0.060615995085\n",
        "29.8264966741"
       ]
      },
      {
       "output_type": "stream",
       "stream": "stdout",
       "text": [
        " +/- 0.0605852563392\n",
        "29.8305647841 +/- 0.0605539040938\n",
        "29.8335176991"
       ]
      },
      {
       "output_type": "stream",
       "stream": "stdout",
       "text": [
        " +/- 0.0605192348129\n",
        "29.8320441989 +/- 0.060481577184\n",
        "29.8333333333 +/- 0.0604416777887\n",
        "29.8263506064"
       ]
      },
      {
       "output_type": "stream",
       "stream": "stdout",
       "text": [
        " +/- 0.0604149025736\n",
        "29.8265418502"
       ]
      },
      {
       "output_type": "stream",
       "stream": "stdout",
       "text": [
        " +/- 0.0603844686083\n",
        "29.8305830583 +/- 0.0603534269103\n",
        "29.8335164835 +/- 0.0603191006346\n",
        "29.8320526894 +/- 0.0602818150884\n",
        "29.8333333333 +/- 0.0602423094244\n",
        "29.8263964951"
       ]
      },
      {
       "output_type": "stream",
       "stream": "stdout",
       "text": [
        " +/- 0.0602157982362\n",
        "29.8265864333"
       ]
      },
      {
       "output_type": "stream",
       "stream": "stdout",
       "text": [
        " +/- 0.0601856640479\n",
        "29.8306010929"
       ]
      },
      {
       "output_type": "stream",
       "stream": "stdout",
       "text": [
        " +/- 0.0601549278043\n",
        "29.8335152838"
       ]
      },
      {
       "output_type": "stream",
       "stream": "stdout",
       "text": [
        " +/- 0.060120938915\n",
        "29.8320610687 +/- 0.0600840193642\n",
        "29.8333333333 +/- 0.0600449009981\n",
        "29.8264417845"
       ]
      },
      {
       "output_type": "stream",
       "stream": "stdout",
       "text": [
        " +/- 0.0600186495261\n",
        "29.8266304348 +/- 0.0599888102255\n",
        "29.8306188925"
       ]
      },
      {
       "output_type": "stream",
       "stream": "stdout",
       "text": [
        " +/- 0.0599583744594\n",
        "29.8335140998"
       ]
      },
      {
       "output_type": "stream",
       "stream": "stdout",
       "text": [
        " +/- 0.0599247174657\n",
        "29.8320693391"
       ]
      },
      {
       "output_type": "stream",
       "stream": "stdout",
       "text": [
        " +/- 0.0598881579615\n",
        "29.8333333333 +/- 0.0598494206063\n",
        "29.8264864865"
       ]
      },
      {
       "output_type": "stream",
       "stream": "stdout",
       "text": [
        " +/- 0.0598234246374\n",
        "29.8266738661 +/- 0.0597938754462\n",
        "29.8306364617 +/- 0.0597637352935\n",
        "29.833512931"
       ]
      },
      {
       "output_type": "stream",
       "stream": "stdout",
       "text": [
        " +/- 0.0597304048288\n",
        "29.8320775027 +/- 0.059694199557\n",
        "29.8333333333 +/- 0.0596558370675\n",
        "29.8265306122"
       ]
      },
      {
       "output_type": "stream",
       "stream": "stdout",
       "text": [
        " +/- 0.0596300924839\n",
        "29.8267167382 +/- 0.0596008287314\n",
        "29.8306538049"
       ]
      },
      {
       "output_type": "stream",
       "stream": "stdout",
       "text": [
        " +/- 0.0595709794376\n",
        "29.8335117773 +/- 0.0595379702561\n",
        "29.8320855615"
       ]
      },
      {
       "output_type": "stream",
       "stream": "stdout",
       "text": [
        " +/- 0.059502113533\n",
        "29.8333333333 +/- 0.059464119902\n",
        "29.8265741729"
       ]
      },
      {
       "output_type": "stream",
       "stream": "stdout",
       "text": [
        " +/- 0.059438622678\n",
        "29.8267590618 +/- 0.0594096397981\n",
        "29.8306709265 +/- 0.0593800767151\n",
        "29.8335106383 +/- 0.0593473836881\n",
        "29.8320935175 +/- 0.0593118699569\n",
        "29.8333333333 +/- 0.0592742393111\n",
        "29.8266171792"
       ]
      },
      {
       "output_type": "stream",
       "stream": "stdout",
       "text": [
        " +/- 0.0592489855108\n",
        "29.8268008475 +/- 0.0592202790391\n",
        "29.8306878307 +/- 0.0591909976221\n",
        "29.8335095137 +/- 0.0591586157348\n",
        "29.8321013728 +/- 0.059123439562\n",
        "29.8333333333 +/- 0.059086166158\n",
        "29.8266596417"
       ]
      },
      {
       "output_type": "stream",
       "stream": "stdout",
       "text": [
        " +/- 0.0590611519326\n",
        "29.8268421053"
       ]
      },
      {
       "output_type": "stream",
       "stream": "stdout",
       "text": [
        " +/- 0.0590327175035\n",
        "29.8307045216 +/- 0.0590037133079\n",
        "29.8335084034 +/- 0.0589716376564\n",
        "29.8321091291"
       ]
      },
      {
       "output_type": "stream",
       "stream": "stdout",
       "text": [
        " +/- 0.0589367937281\n",
        "29.8333333333 +/- 0.0588998719492\n",
        "29.8267015707"
       ]
      },
      {
       "output_type": "stream",
       "stream": "stdout",
       "text": [
        " +/- 0.0588750935346\n",
        "29.8268828452"
       ]
      },
      {
       "output_type": "stream",
       "stream": "stdout",
       "text": [
        " +/- 0.0588469268782\n",
        "29.8307210031"
       ]
      },
      {
       "output_type": "stream",
       "stream": "stdout",
       "text": [
        " +/- 0.0588181955572\n",
        "29.8335073069 +/- 0.0587864213448\n",
        "29.8321167883 +/- 0.0587519044637\n",
        "29.8333333333 +/- 0.0587153288158\n",
        "29.8267429761"
       ]
      },
      {
       "output_type": "stream",
       "stream": "stdout",
       "text": [
        " +/- 0.0586907825302\n",
        "29.8269230769 +/- 0.0586628794699\n",
        "29.8307372793 +/- 0.0586344167715\n",
        "29.8335062241"
       ]
      },
      {
       "output_type": "stream",
       "stream": "stdout",
       "text": [
        " +/- 0.0586029393063\n",
        "29.8321243523 +/- 0.058568744388\n",
        "29.8333333333 +/- 0.0585325094966\n",
        "29.8267838676"
       ]
      },
      {
       "output_type": "stream",
       "stream": "stdout",
       "text": [
        " +/- 0.058508191738\n",
        "29.8269628099"
       ]
      },
      {
       "output_type": "stream",
       "stream": "stdout",
       "text": [
        " +/- 0.0584805481881\n",
        "29.830753354 +/- 0.0584523499523\n",
        "29.8335051546"
       ]
      },
      {
       "output_type": "stream",
       "stream": "stdout",
       "text": [
        " +/- 0.0584211646438\n",
        "29.8321318229 +/- 0.058387286714\n",
        "29.8333333333 +/- 0.0583513873208\n",
        "29.8268242549"
       ]
      },
      {
       "output_type": "stream",
       "stream": "stdout",
       "text": [
        " +/- 0.0583272945651\n",
        "29.8270020534 +/- 0.0582999065276\n",
        "29.8307692308"
       ]
      },
      {
       "output_type": "stream",
       "stream": "stdout",
       "text": [
        " +/- 0.0582719686843\n",
        "29.8335040984 +/- 0.058241071041\n",
        "29.8321392016 +/- 0.0582075052322\n",
        "29.8333333333 +/- 0.0581719361916\n",
        "29.8268641471"
       ]
      },
      {
       "output_type": "stream",
       "stream": "stdout",
       "text": [
        " +/- 0.0581480649903\n",
        "29.8270408163"
       ]
      },
      {
       "output_type": "stream",
       "stream": "stdout",
       "text": [
        " +/- 0.0581209285532\n",
        "29.8307849134 +/- 0.0580932471193\n",
        "29.833503055"
       ]
      },
      {
       "output_type": "stream",
       "stream": "stdout",
       "text": [
        " +/- 0.0580626327456\n",
        "29.8321464903 +/- 0.0580293742945\n",
        "29.8333333333 +/- 0.0579941305708\n",
        "29.8269035533"
       ]
      },
      {
       "output_type": "stream",
       "stream": "stdout",
       "text": [
        " +/- 0.057970477549\n",
        "29.8270791075 +/- 0.0579435888835\n",
        "29.8308004053 +/- 0.0579161599607\n",
        "29.8335020243 +/- 0.0578858245546\n",
        "29.8321536906 +/- 0.0578528687989\n",
        "29.8333333333 +/- 0.0578179454632\n",
        "29.8269424823"
       ]
      },
      {
       "output_type": "stream",
       "stream": "stdout",
       "text": [
        " +/- 0.0577945073175\n",
        "29.8271169355"
       ]
      },
      {
       "output_type": "stream",
       "stream": "stdout",
       "text": [
        " +/- 0.0577678626759\n",
        "29.83081571 +/- 0.0577406824484\n",
        "29.833501006"
       ]
      },
      {
       "output_type": "stream",
       "stream": "stdout",
       "text": [
        " +/- 0.0577106217987\n",
        "29.832160804 +/- 0.0576779641746\n",
        "29.8333333333"
       ]
      },
      {
       "output_type": "stream",
       "stream": "stdout",
       "text": [
        " +/- 0.0576433564019\n",
        "29.8269809428"
       ]
      },
      {
       "output_type": "stream",
       "stream": "stdout",
       "text": [
        " +/- 0.0576201298984\n",
        "29.8271543086 +/- 0.0575937256119\n",
        "29.8308308308"
       ]
      },
      {
       "output_type": "stream",
       "stream": "stdout",
       "text": [
        " +/- 0.0575667903442\n",
        "29.8335"
       ]
      },
      {
       "output_type": "stream",
       "stream": "stdout",
       "text": [
        " +/- 0.0575370003283\n",
        "29.8321678322 +/- 0.0575046363676\n",
        "29.8333333333 +/- 0.0574703394342\n",
        "29.8270189432"
       ]
      },
      {
       "output_type": "stream",
       "stream": "stdout",
       "text": [
        " +/- 0.0574473214068\n",
        "29.8271912351 +/- 0.0574211538834\n",
        "29.8308457711 +/- 0.0573944599179\n",
        "29.833499006 +/- 0.0573649364992\n",
        "29.8321747766 +/- 0.0573328618271\n",
        "29.8333333333 +/- 0.0572988711074\n",
        "29.8270564916"
       ]
      },
      {
       "output_type": "stream",
       "stream": "stdout",
       "text": [
        " +/- 0.057276058456\n",
        "29.8272277228 +/- 0.0572501241784\n",
        "29.8308605341 +/- 0.0572236679336\n",
        "29.8334980237 +/- 0.0571944071593\n",
        "29.8321816387 +/- 0.0571626174916\n",
        "29.8333333333 +/- 0.057128928456\n",
        "29.8270935961"
       ]
      },
      {
       "output_type": "stream",
       "stream": "stdout",
       "text": [
        " +/- 0.0571063181446\n",
        "29.8272637795 +/- 0.0570806136681\n",
        "29.8308751229 +/- 0.0570543916366\n",
        "29.833497053 +/- 0.0570253896354\n",
        "29.83218842 +/- 0.0569938807762\n",
        "29.8333333333 +/- 0.0569604889883\n",
        "29.8271302644"
       ]
      },
      {
       "output_type": "stream",
       "stream": "stdout",
       "text": [
        " +/- 0.0569380780433\n",
        "29.8272994129"
       ]
      },
      {
       "output_type": "stream",
       "stream": "stdout",
       "text": [
        " +/- 0.0569125999941\n",
        "29.8308895406"
       ]
      },
      {
       "output_type": "stream",
       "stream": "stdout",
       "text": [
        " +/- 0.0568866087404\n",
        "29.8334960938 +/- 0.0568578617206\n",
        "29.832195122 +/- 0.05682662956\n",
        "29.8333333333 +/- 0.0567935306741\n",
        "29.8271665044"
       ]
      },
      {
       "output_type": "stream",
       "stream": "stdout",
       "text": [
        " +/- 0.0567713161829\n",
        "29.8273346304"
       ]
      },
      {
       "output_type": "stream",
       "stream": "stdout",
       "text": [
        " +/- 0.0567460612561\n",
        "29.8309037901"
       ]
      },
      {
       "output_type": "stream",
       "stream": "stdout",
       "text": [
        " +/- 0.0567202974149\n",
        "29.8334951456 +/- 0.0566918016619\n",
        "29.8322017459 +/- 0.0566608421737\n",
        "29.8333333333 +/- 0.0566280319328\n",
        "29.8272023233"
       ]
      },
      {
       "output_type": "stream",
       "stream": "stdout",
       "text": [
        " +/- 0.0566060110417\n",
        "29.8273694391 +/- 0.0565809759997\n",
        "29.8309178744 +/- 0.0565554362738\n",
        "29.8334942085"
       ]
      },
      {
       "output_type": "stream",
       "stream": "stdout",
       "text": [
        " +/- 0.0565271881485\n",
        "29.8322082932 +/- 0.056496497388\n",
        "29.8333333333 +/- 0.056463971621\n",
        "29.8272377286"
       ]
      },
      {
       "output_type": "stream",
       "stream": "stdout",
       "text": [
        " +/- 0.0564421415343\n",
        "29.8274038462"
       ]
      },
      {
       "output_type": "stream",
       "stream": "stdout",
       "text": [
        " +/- 0.0564173232048\n",
        "29.8309317963 +/- 0.0563920043638\n",
        "29.8334932821 +/- 0.0563640003004\n",
        "29.8322147651 +/- 0.0563335744024\n",
        "29.8333333333 +/- 0.0563013290221\n",
        "29.8272727273"
       ]
      },
      {
       "output_type": "stream",
       "stream": "stdout",
       "text": [
        " +/- 0.0562796870002\n",
        "29.8274378585 +/- 0.0562550822745\n",
        "29.8309455587"
       ]
      },
      {
       "output_type": "stream",
       "stream": "stdout",
       "text": [
        " +/- 0.0562299811527\n",
        "29.8334923664 +/- 0.0562022176568\n",
        "29.832221163 +/- 0.0561720528336\n",
        "29.8333333333 +/- 0.0561400838346\n",
        "29.8273073264"
       ]
      },
      {
       "output_type": "stream",
       "stream": "stdout",
       "text": [
        " +/- 0.0561186271926\n",
        "29.8274714829 +/- 0.0560942330241\n",
        "29.8309591643"
       ]
      },
      {
       "output_type": "stream",
       "stream": "stdout",
       "text": [
        " +/- 0.0560693465191\n",
        "29.8334914611"
       ]
      },
      {
       "output_type": "stream",
       "stream": "stdout",
       "text": [
        " +/- 0.056041820166\n",
        "29.8322274882 +/- 0.0560119127051\n",
        "29.8333333333 +/- 0.0559802161617\n",
        "29.8273415326"
       ]
      },
      {
       "output_type": "stream",
       "stream": "stdout",
       "text": [
        " +/- 0.0559589422681\n",
        "29.8275047259 +/- 0.0559347556708\n",
        "29.8309726157 +/- 0.0559100807415\n",
        "29.833490566"
       ]
      },
      {
       "output_type": "stream",
       "stream": "stdout",
       "text": [
        " +/- 0.0558827881745\n",
        "29.8322337418 +/- 0.0558531344369\n",
        "29.8333333333 +/- 0.055821706501\n",
        "29.8273753528"
       ]
      },
      {
       "output_type": "stream",
       "stream": "stdout",
       "text": [
        " +/- 0.0558006127763\n",
        "29.827537594"
       ]
      },
      {
       "output_type": "stream",
       "stream": "stdout",
       "text": [
        " +/- 0.055776630823\n",
        "29.8309859155"
       ]
      },
      {
       "output_type": "stream",
       "stream": "stdout",
       "text": [
        " +/- 0.0557521644885\n",
        "29.8334896811"
       ]
      },
      {
       "output_type": "stream",
       "stream": "stdout",
       "text": [
        " +/- 0.0557251024168\n",
        "29.832239925 +/- 0.0556956988353\n",
        "29.8333333333 +/- 0.0556645357343\n",
        "29.8274087933"
       ]
      },
      {
       "output_type": "stream",
       "stream": "stdout",
       "text": [
        " +/- 0.0556436196498\n",
        "29.8275700935 +/- 0.0556198394709\n",
        "29.8309990663"
       ]
      },
      {
       "output_type": "stream",
       "stream": "stdout",
       "text": [
        " +/- 0.0555955788086\n",
        "29.833488806 +/- 0.0555687440061\n",
        "29.8322460391"
       ]
      },
      {
       "output_type": "stream",
       "stream": "stdout",
       "text": [
        " +/- 0.0555395870832\n",
        "29.8333333333 +/- 0.0555086851184\n",
        "29.8274418605"
       ]
      },
      {
       "output_type": "stream",
       "stream": "stdout",
       "text": [
        " +/- 0.0554879441946\n",
        "29.8276022305 +/- 0.0554643629766\n",
        "29.8310120706 +/- 0.0554403051209\n",
        "29.8334879406"
       ]
      },
      {
       "output_type": "stream",
       "stream": "stdout",
       "text": [
        " +/- 0.0554136944243\n",
        "29.8322520853 +/- 0.0553847807305\n",
        "29.8333333333 +/- 0.0553541362752\n",
        "29.8274745606"
       ]
      },
      {
       "output_type": "stream",
       "stream": "stdout",
       "text": [
        " +/- 0.055333568081\n",
        "29.8276340111"
       ]
      },
      {
       "output_type": "stream",
       "stream": "stdout",
       "text": [
        " +/- 0.0553101830647\n",
        "29.8310249307 +/- 0.0552863252058\n",
        "29.8334870849"
       ]
      },
      {
       "output_type": "stream",
       "stream": "stdout",
       "text": [
        " +/- 0.055259935513\n",
        "29.8322580645 +/- 0.0552312616854\n",
        "29.8333333333 +/- 0.0552008711829\n",
        "29.8275068997"
       ]
      },
      {
       "output_type": "stream",
       "stream": "stdout",
       "text": [
        " +/- 0.0551804733339\n",
        "29.8276654412 +/- 0.0551572818137\n",
        "29.8310376492 +/- 0.0551336211958\n",
        "29.8334862385"
       ]
      },
      {
       "output_type": "stream",
       "stream": "stdout",
       "text": [
        " +/- 0.0551074494646\n",
        "29.832263978 +/- 0.0550790122049\n",
        "29.8333333333 +/- 0.0550488721669\n",
        "29.8275388838"
       ]
      },
      {
       "output_type": "stream",
       "stream": "stdout",
       "text": [
        " +/- 0.0550286423249\n",
        "29.8276965265"
       ]
      },
      {
       "output_type": "stream",
       "stream": "stdout",
       "text": [
        " +/- 0.0550056416469\n",
        "29.8310502283 +/- 0.0549821755671\n",
        "29.8334854015 +/- 0.0549562188136\n",
        "29.8322698268 +/- 0.0549280148866\n",
        "29.8333333333 +/- 0.0548981218917\n",
        "29.8275705187"
       ]
      },
      {
       "output_type": "stream",
       "stream": "stdout",
       "text": [
        " +/- 0.0548780577628\n",
        "29.8277272727 +/- 0.0548552453239\n",
        "29.8310626703 +/- 0.0548319711311\n",
        "29.8334845735"
       ]
      },
      {
       "output_type": "stream",
       "stream": "stdout",
       "text": [
        " +/- 0.0548062264282\n",
        "29.832275612 +/- 0.0547782526604\n",
        "29.8333333333 +/- 0.054748603352\n",
        "29.82760181"
       ]
      },
      {
       "output_type": "stream",
       "stream": "stdout",
       "text": [
        " +/- 0.0547287026861\n",
        "29.8277576854 +/- 0.0547060759328\n",
        "29.8310749774 +/- 0.0546829910258\n",
        "29.8334837545 +/- 0.0546574555019\n",
        "29.8322813345 +/- 0.05462970878\n",
        "29.8333333333 +/- 0.054600299865\n",
        "29.8276327633"
       ]
      },
      {
       "output_type": "stream",
       "stream": "stdout",
       "text": [
        " +/- 0.0545805604547\n",
        "29.8277877698 +/- 0.0545581168814\n",
        "29.8310871518 +/- 0.0545352187084\n",
        "29.8334829443 +/- 0.0545098895462\n",
        "29.8322869955 +/- 0.0544823668152\n",
        "29.8333333333 +/- 0.0544531950628\n",
        "29.8276633841"
       ]
      },
      {
       "output_type": "stream",
       "stream": "stdout",
       "text": [
        " +/- 0.0544336147419\n",
        "29.8278175313"
       ]
      },
      {
       "output_type": "stream",
       "stream": "stdout",
       "text": [
        " +/- 0.0544113518903\n",
        "29.8310991957 +/- 0.0543886379474\n",
        "29.8334821429 +/- 0.0543635123822\n",
        "29.8322925959 +/- 0.0543362106447\n",
        "29.8333333333 +/- 0.0543072728843\n",
        "29.8276936776"
       ]
      },
      {
       "output_type": "stream",
       "stream": "stdout",
       "text": [
        " +/- 0.0542878495272\n",
        "29.8278469751 +/- 0.054265764985\n",
        "29.8311111111 +/- 0.0542432328148\n",
        "29.8334813499 +/- 0.0542183081337\n",
        "29.8322981366 +/- 0.054191224448\n",
        "29.8333333333 +/- 0.0541625175681\n",
        "29.8277236492"
       ]
      },
      {
       "output_type": "stream",
       "stream": "stdout",
       "text": [
        " +/- 0.0541432490889\n",
        "29.8278761062 +/- 0.0541213404883\n",
        "29.8311229001"
       ]
      },
      {
       "output_type": "stream",
       "stream": "stdout",
       "text": [
        " +/- 0.0540989876794\n",
        "29.8334805654 +/- 0.0540742612197\n",
        "29.8323036187 +/- 0.0540473926986\n",
        "29.8333333333 +/- 0.0540189136453\n",
        "29.827753304"
       ]
      },
      {
       "output_type": "stream",
       "stream": "stdout",
       "text": [
        " +/- 0.0539997979966\n",
        "29.8279049296 +/- 0.053978063014\n",
        "29.8311345646 +/- 0.0539558871992\n",
        "29.8334797891 +/- 0.0539313563475\n",
        "29.832309043"
       ]
      },
      {
       "output_type": "stream",
       "stream": "stdout",
       "text": [
        " +/- 0.053904700157\n",
        "29.8333333333"
       ]
      },
      {
       "output_type": "stream",
       "stream": "stdout",
       "text": [
        " +/- 0.0538764459327\n",
        "29.8277826468"
       ]
      },
      {
       "output_type": "stream",
       "stream": "stdout",
       "text": [
        " +/- 0.0538574811048\n",
        "29.8279334501"
       ]
      },
      {
       "output_type": "stream",
       "stream": "stdout",
       "text": [
        " +/- 0.0538359174591\n",
        "29.8311461067 +/- 0.053813916315\n",
        "29.833479021 +/- 0.0537895785056\n",
        "29.8323144105 +/- 0.0537631318639\n",
        "29.8333333333 +/- 0.0537350995258\n",
        "29.8278116827"
       ]
      },
      {
       "output_type": "stream",
       "stream": "stdout",
       "text": [
        " +/- 0.0537162835458\n",
        "29.8279616725"
       ]
      },
      {
       "output_type": "stream",
       "stream": "stdout",
       "text": [
        " +/- 0.0536948889977\n",
        "29.8311575283 +/- 0.0536730602432\n",
        "29.8334782609"
       ]
      },
      {
       "output_type": "stream",
       "stream": "stdout",
       "text": [
        " +/- 0.0536489129575\n",
        "29.832319722 +/- 0.0536226731334\n",
        "29.8333333333 +/- 0.0535948597925\n",
        "29.8278404163"
       ]
      },
      {
       "output_type": "stream",
       "stream": "stdout",
       "text": [
        " +/- 0.0535761907235\n",
        "29.8279896014"
       ]
      },
      {
       "output_type": "stream",
       "stream": "stdout",
       "text": [
        " +/- 0.0535549630743\n",
        "29.8311688312 +/- 0.0535333044699\n",
        "29.8334775087 +/- 0.0535093452351\n",
        "29.8323249784 +/- 0.053483309547\n",
        "29.8333333333 +/- 0.0534557123665\n",
        "29.8278688525"
       ]
      },
      {
       "output_type": "stream",
       "stream": "stdout",
       "text": [
        " +/- 0.0534371883066\n",
        "29.8280172414"
       ]
      },
      {
       "output_type": "stream",
       "stream": "stdout",
       "text": [
        " +/- 0.0534161253978\n",
        "29.8311800172"
       ]
      },
      {
       "output_type": "stream",
       "stream": "stdout",
       "text": [
        " +/- 0.0533946347444\n",
        "29.8334767642 +/- 0.0533708611323\n",
        "29.8323301806 +/- 0.0533450269469\n",
        "29.8333333333 +/- 0.0533176431415\n",
        "29.8278969957"
       ]
      },
      {
       "output_type": "stream",
       "stream": "stdout",
       "text": [
        " +/- 0.0532992622231\n",
        "29.8280445969"
       ]
      },
      {
       "output_type": "stream",
       "stream": "stdout",
       "text": [
        " +/- 0.0532783619348\n",
        "29.8311910883 +/- 0.0532570370729\n",
        "29.8334760274 +/- 0.053233446699\n",
        "29.8323353293"
       ]
      },
      {
       "output_type": "stream",
       "stream": "stdout",
       "text": [
        " +/- 0.0532078114305\n",
        "29.8333333333 +/- 0.0531806382645\n",
        "29.8279248506"
       ]
      },
      {
       "output_type": "stream",
       "stream": "stdout",
       "text": [
        " +/- 0.0531623986537\n",
        "29.8280716724"
       ]
      },
      {
       "output_type": "stream",
       "stream": "stdout",
       "text": [
        " +/- 0.0531416589039\n",
        "29.831202046"
       ]
      },
      {
       "output_type": "stream",
       "stream": "stdout",
       "text": [
        " +/- 0.0531204977129\n",
        "29.8334752981 +/- 0.0530970882353\n",
        "29.8323404255 +/- 0.0530716493441\n",
        "29.8333333333 +/- 0.0530446841309\n",
        "29.8279524214"
       ]
      },
      {
       "output_type": "stream",
       "stream": "stdout",
       "text": [
        " +/- 0.0530265840263\n",
        "29.828098472 +/- 0.0530060027704\n",
        "29.8312128923"
       ]
      },
      {
       "output_type": "stream",
       "stream": "stdout",
       "text": [
        " +/- 0.0529850031671\n",
        "29.8334745763"
       ]
      },
      {
       "output_type": "stream",
       "stream": "stdout",
       "text": [
        " +/- 0.0529617722857\n",
        "29.8323454699 +/- 0.0529365272772\n",
        "29.8333333333 +/- 0.052909767378\n",
        "29.8279797126"
       ]
      },
      {
       "output_type": "stream",
       "stream": "stdout",
       "text": [
        " +/- 0.0528918050102\n",
        "29.828125 +/- 0.0528713802397\n",
        "29.8312236287"
       ]
      },
      {
       "output_type": "stream",
       "stream": "stdout",
       "text": [
        " +/- 0.0528505401782\n",
        "29.8334738617"
       ]
      },
      {
       "output_type": "stream",
       "stream": "stdout",
       "text": [
        " +/- 0.0528274856334\n",
        "29.8323504634 +/- 0.0528024320575\n",
        "29.8333333333 +/- 0.0527758748798\n",
        "29.8280067283"
       ]
      },
      {
       "output_type": "stream",
       "stream": "stdout",
       "text": [
        " +/- 0.0527580485108\n",
        "29.8281512605"
       ]
      },
      {
       "output_type": "stream",
       "stream": "stdout",
       "text": [
        " +/- 0.0527377782527\n",
        "29.8312342569"
       ]
      },
      {
       "output_type": "stream",
       "stream": "stdout",
       "text": [
        " +/- 0.0527170957229\n",
        "29.8334731544 +/- 0.0526942152953\n",
        "29.8323554065 +/- 0.0526693507446\n",
        "29.8333333333"
       ]
      },
      {
       "output_type": "stream",
       "stream": "stdout",
       "text": [
        " +/- 0.0526429937419\n",
        "29.8280334728"
       ]
      },
      {
       "output_type": "stream",
       "stream": "stdout",
       "text": [
        " +/- 0.0526253016641\n",
        "29.8281772575 +/- 0.05260518398\n",
        "29.8312447786 +/- 0.0525846570073\n",
        "29.8334724541 +/- 0.0525619485161\n",
        "29.8323603003"
       ]
      },
      {
       "output_type": "stream",
       "stream": "stdout",
       "text": [
        " +/- 0.0525372706256\n",
        "29.8333333333 +/- 0.0525111112957\n",
        "29.82805995"
       ]
      },
      {
       "output_type": "stream",
       "stream": "stdout",
       "text": [
        " +/- 0.0524935518315\n",
        "29.828202995 +/- 0.052473584817\n",
        "29.8312551953"
       ]
      },
      {
       "output_type": "stream",
       "stream": "stdout",
       "text": [
        " +/- 0.0524532114611\n",
        "29.8334717608 +/- 0.0524306727637\n",
        "29.8323651452 +/- 0.0524061792095\n",
        "29.8333333333 +/- 0.0523802150938\n",
        "29.828086164"
       ]
      },
      {
       "output_type": "stream",
       "stream": "stdout",
       "text": [
        " +/- 0.0523627865948\n",
        "29.8282284768"
       ]
      },
      {
       "output_type": "stream",
       "stream": "stdout",
       "text": [
        " +/- 0.0523429683784\n",
        "29.8312655087 +/- 0.0523227467328\n",
        "29.8334710744 +/- 0.0523003757238\n",
        "29.8323699422 +/- 0.0522760642225\n",
        "29.8333333333 +/- 0.0522502929051\n",
        "29.8281121187"
       ]
      },
      {
       "output_type": "stream",
       "stream": "stdout",
       "text": [
        " +/- 0.0522329937512\n",
        "29.8282537068 +/- 0.0522133224941\n",
        "29.8312757202"
       ]
      },
      {
       "output_type": "stream",
       "stream": "stdout",
       "text": [
        " +/- 0.0521932506853\n",
        "29.8334703947 +/- 0.0521710452955\n",
        "29.8323746919 +/- 0.0521469136029\n",
        "29.8333333333 +/- 0.0521213327095\n",
        "29.8281378179"
       ]
      },
      {
       "output_type": "stream",
       "stream": "stdout",
       "text": [
        " +/- 0.0521041613088\n",
        "29.8282786885 +/- 0.0520846352036\n",
        "29.8312858313"
       ]
      },
      {
       "output_type": "stream",
       "stream": "stdout",
       "text": [
        " +/- 0.0520647113902\n",
        "29.8334697218"
       ]
      },
      {
       "output_type": "stream",
       "stream": "stdout",
       "text": [
        " +/- 0.0520426695862\n",
        "29.8323793949 +/- 0.0520187154968\n",
        "29.8333333333 +/- 0.0519933226938\n",
        "29.8281632653"
       ]
      },
      {
       "output_type": "stream",
       "stream": "stdout",
       "text": [
        " +/- 0.0519762774816\n",
        "29.8283034258"
       ]
      },
      {
       "output_type": "stream",
       "stream": "stdout",
       "text": [
        " +/- 0.0519568947519\n",
        "29.8312958435"
       ]
      },
      {
       "output_type": "stream",
       "stream": "stdout",
       "text": [
        " +/- 0.0519371171241\n",
        "29.8334690554 +/- 0.0519152369072\n",
        "29.8323840521 +/- 0.051891458253\n",
        "29.8333333333 +/- 0.0518662512467\n",
        "29.8281884647"
       ]
      },
      {
       "output_type": "stream",
       "stream": "stdout",
       "text": [
        " +/- 0.051849330685\n",
        "29.8283279221"
       ]
      },
      {
       "output_type": "stream",
       "stream": "stdout",
       "text": [
        " +/- 0.0518300895847\n",
        "29.8313057583 +/- 0.0518104563637\n",
        "29.8334683955 +/- 0.0517887357691\n",
        "29.832388664 +/- 0.0517651304191\n",
        "29.8333333333 +/- 0.0517401069547\n",
        "29.8282134196"
       ]
      },
      {
       "output_type": "stream",
       "stream": "stdout",
       "text": [
        " +/- 0.0517233095316\n",
        "29.8283521809"
       ]
      },
      {
       "output_type": "stream",
       "stream": "stdout",
       "text": [
        " +/- 0.0517042083444\n",
        "29.8313155771 +/- 0.0516847177812\n",
        "29.8334677419"
       ]
      },
      {
       "output_type": "stream",
       "stream": "stdout",
       "text": [
        " +/- 0.0516631548775\n",
        "29.8323932313 +/- 0.0516397207369\n",
        "29.8333333333 +/- 0.0516148785978\n",
        "29.8282381335"
       ]
      },
      {
       "output_type": "stream",
       "stream": "stdout",
       "text": [
        " +/- 0.0515982028268\n",
        "29.8283762058"
       ]
      },
      {
       "output_type": "stream",
       "stream": "stdout",
       "text": [
        " +/- 0.0515792398652\n",
        "29.8313253012 +/- 0.0515598902406\n",
        "29.8334670947 +/- 0.051538483129\n",
        "29.8323977546 +/- 0.051515218138\n",
        "29.8333333333 +/- 0.0514905551448\n",
        "29.8282626101"
       ]
      },
      {
       "output_type": "stream",
       "stream": "stdout",
       "text": [
        " +/- 0.0514739995648\n",
        "29.8284 +/- 0.0514551731695\n",
        "29.8313349321"
       ]
      },
      {
       "output_type": "stream",
       "stream": "stdout",
       "text": [
        " +/- 0.0514359627932\n",
        "29.8334664537 +/- 0.0514147096066\n",
        "29.8324022346 +/- 0.0513916117401\n",
        "29.8333333333 +/- 0.05136712575\n",
        "29.8282868526"
       ]
      },
      {
       "output_type": "stream",
       "stream": "stdout",
       "text": [
        " +/- 0.0513506889239\n",
        "29.8284235669"
       ]
      },
      {
       "output_type": "stream",
       "stream": "stdout",
       "text": [
        " +/- 0.0513319974638\n",
        "29.831344471 +/- 0.0513129246734\n",
        "29.8334658188 +/- 0.0512918235761\n",
        "29.832406672 +/- 0.0512688908427\n",
        "29.8333333333 +/- 0.0512445797486\n",
        "29.8283108644"
       ]
      },
      {
       "output_type": "stream",
       "stream": "stdout",
       "text": [
        " +/- 0.0512282602636\n",
        "29.8284469097"
       ]
      },
      {
       "output_type": "stream",
       "stream": "stdout",
       "text": [
        " +/- 0.0512097021343\n",
        "29.8313539192"
       ]
      },
      {
       "output_type": "stream",
       "stream": "stdout",
       "text": [
        " +/- 0.0511907652954\n",
        "29.8334651899 +/- 0.0511698144819\n",
        "29.8324110672 +/- 0.0511470449234\n",
        "29.8333333333 +/- 0.0511229066531\n",
        "29.8283346488"
       ]
      },
      {
       "output_type": "stream",
       "stream": "stdout",
       "text": [
        " +/- 0.0511067031195\n",
        "29.8284700315"
       ]
      },
      {
       "output_type": "stream",
       "stream": "stdout",
       "text": [
        " +/- 0.0510882767435\n",
        "29.8313632782 +/- 0.0510694742487\n",
        "29.8334645669 +/- 0.0510486719436\n",
        "29.8324154209 +/- 0.0510260636339\n",
        "29.8333333333 +/- 0.0510020961495\n",
        "29.828358209"
       ]
      },
      {
       "output_type": "stream",
       "stream": "stdout",
       "text": [
        " +/- 0.0509860072008\n",
        "29.8284929356 +/- 0.0509677110264\n",
        "29.831372549 +/- 0.0509490412946\n",
        "29.8334639498"
       ]
      },
      {
       "output_type": "stream",
       "stream": "stdout",
       "text": [
        " +/- 0.0509283857518\n",
        "29.8324197338"
       ]
      },
      {
       "output_type": "stream",
       "stream": "stdout",
       "text": [
        " +/- 0.0509059367967\n",
        "29.8333333333"
       ]
      },
      {
       "output_type": "stream",
       "stream": "stdout",
       "text": [
        " +/- 0.0508821380936\n",
        "29.8283815481"
       ]
      },
      {
       "output_type": "stream",
       "stream": "stdout",
       "text": [
        " +/- 0.0508661623857\n",
        "29.828515625 +/- 0.0508479948867\n",
        "29.831381733"
       ]
      },
      {
       "output_type": "stream",
       "stream": "stdout",
       "text": [
        " +/- 0.0508294563629\n",
        "29.8334633385"
       ]
      },
      {
       "output_type": "stream",
       "stream": "stdout",
       "text": [
        " +/- 0.0508089458646\n",
        "29.8324240062"
       ]
      },
      {
       "output_type": "stream",
       "stream": "stdout",
       "text": [
        " +/- 0.0507866544009\n",
        "29.8333333333 +/- 0.0507630225074\n",
        "29.8284046693"
       ]
      },
      {
       "output_type": "stream",
       "stream": "stdout",
       "text": [
        " +/- 0.0507471587181\n",
        "29.8285381026"
       ]
      },
      {
       "output_type": "stream",
       "stream": "stdout",
       "text": [
        " +/- 0.0507291183934\n",
        "29.8313908314"
       ]
      },
      {
       "output_type": "stream",
       "stream": "stdout",
       "text": [
        " +/- 0.0507107095478\n",
        "29.8334627329 +/- 0.0506903424045\n",
        "29.8324282389 +/- 0.0506682065992\n",
        "29.8333333333 +/- 0.0506447395758\n",
        "29.8284275755"
       ]
      },
      {
       "output_type": "stream",
       "stream": "stdout",
       "text": [
        " +/- 0.0506289864043\n",
        "29.8285603715 +/- 0.050611071777\n",
        "29.8313998453 +/- 0.0505927911049\n",
        "29.8334621329 +/- 0.0505725656544\n",
        "29.8324324324 +/- 0.0505505837044\n",
        "29.8333333333 +/- 0.0505272796428\n",
        "29.8284502699"
       ]
      },
      {
       "output_type": "stream",
       "stream": "stdout",
       "text": [
        " +/- 0.0505116358096\n",
        "29.8285824345"
       ]
      },
      {
       "output_type": "stream",
       "stream": "stdout",
       "text": [
        " +/- 0.0504938454268\n",
        "29.831408776 +/- 0.0504756914476\n",
        "29.8334615385 +/- 0.0504556060546\n",
        "29.8324365872 +/- 0.0504337761858\n",
        "29.8333333333 +/- 0.0504106332087\n",
        "29.8284727552"
       ]
      },
      {
       "output_type": "stream",
       "stream": "stdout",
       "text": [
        " +/- 0.0503950974548\n",
        "29.8286042945 +/- 0.0503774298869\n",
        "29.8314176245 +/- 0.050359401144\n",
        "29.8334609495 +/- 0.0503394541995\n",
        "29.8324407039 +/- 0.0503177746663\n",
        "29.8333333333 +/- 0.0502947909264\n",
        "29.8284950344"
       ]
      },
      {
       "output_type": "stream",
       "stream": "stdout",
       "text": [
        " +/- 0.050279362013\n",
        "29.8286259542 +/- 0.0502618158535\n",
        "29.8314263921"
       ]
      },
      {
       "output_type": "stream",
       "stream": "stdout",
       "text": [
        " +/- 0.0502439109136\n",
        "29.8334603659 +/- 0.0502241008343\n",
        "29.8324447829 +/- 0.0502025699191\n",
        "29.8333333333 +/- 0.0501797435987\n",
        "29.8285171103"
       ]
      },
      {
       "output_type": "stream",
       "stream": "stdout",
       "text": [
        " +/- 0.0501644203067\n",
        "29.8286474164 +/- 0.0501469941714\n",
        "29.8314350797"
       ]
      },
      {
       "output_type": "stream",
       "stream": "stdout",
       "text": [
        " +/- 0.050129211624\n",
        "29.8334597876 +/- 0.0501095368519\n",
        "29.8324488249 +/- 0.0500881528644\n",
        "29.8333333333"
       ]
      },
      {
       "output_type": "stream",
       "stream": "stdout",
       "text": [
        " +/- 0.0500654821746\n",
        "29.8285389856"
       ]
      },
      {
       "output_type": "stream",
       "stream": "stdout",
       "text": [
        " +/- 0.0500502633046\n",
        "29.8286686838 +/- 0.0500329558313\n",
        "29.8314436886"
       ]
      },
      {
       "output_type": "stream",
       "stream": "stdout",
       "text": [
        " +/- 0.0500152942884\n",
        "29.8334592145"
       ]
      },
      {
       "output_type": "stream",
       "stream": "stdout",
       "text": [
        " +/- 0.0499957532901\n",
        "29.8324528302 +/- 0.0499745145668\n",
        "29.8333333333 +/- 0.0499519977472\n",
        "29.8285606631"
       ]
      },
      {
       "output_type": "stream",
       "stream": "stdout",
       "text": [
        " +/- 0.0499368821185\n",
        "29.828689759"
       ]
      },
      {
       "output_type": "stream",
       "stream": "stdout",
       "text": [
        " +/- 0.0499196919666\n",
        "29.8314522197 +/- 0.049902150062\n",
        "29.8334586466 +/- 0.0498827413285\n",
        "29.8324567994 +/- 0.0498616462322\n",
        "29.8333333333 +/- 0.04983928155\n",
        "29.8285821455"
       ]
      },
      {
       "output_type": "stream",
       "stream": "stdout",
       "text": [
        " +/- 0.0498242680005\n",
        "29.8287106447"
       ]
      },
      {
       "output_type": "stream",
       "stream": "stdout",
       "text": [
        " +/- 0.0498071938506\n",
        "29.8314606742 +/- 0.0497897702397\n",
        "29.8334580838"
       ]
      },
      {
       "output_type": "stream",
       "stream": "stdout",
       "text": [
        " +/- 0.0497704922855\n",
        "29.832460733 +/- 0.0497495392046\n",
        "29.8333333333 +/- 0.0497273249544\n",
        "29.8286034354"
       ]
      },
      {
       "output_type": "stream",
       "stream": "stdout",
       "text": [
        " +/- 0.0497124123403\n",
        "29.8287313433"
       ]
      },
      {
       "output_type": "stream",
       "stream": "stdout",
       "text": [
        " +/- 0.0496954528935\n",
        "29.8314690529"
       ]
      },
      {
       "output_type": "stream",
       "stream": "stdout",
       "text": [
        " +/- 0.0496781462527\n",
        "29.8334575261 +/- 0.0496589976158\n",
        "29.8324646314"
       ]
      },
      {
       "output_type": "stream",
       "stream": "stdout",
       "text": [
        " +/- 0.049638184964\n",
        "29.8333333333 +/- 0.0496161194668\n",
        "29.8286245353"
       ]
      },
      {
       "output_type": "stream",
       "stream": "stdout",
       "text": [
        " +/- 0.0496013066623\n",
        "29.8287518574 +/- 0.04958446064\n",
        "29.8314773571 +/- 0.0495672696664\n",
        "29.8334569733 +/- 0.0495482489074\n",
        "29.8324684952 +/- 0.0495275751231\n",
        "29.8333333333"
       ]
      },
      {
       "output_type": "stream",
       "stream": "stdout",
       "text": [
        " +/- 0.0495056567261\n",
        "29.8286454478"
       ]
      },
      {
       "output_type": "stream",
       "stream": "stdout",
       "text": [
        " +/- 0.0494909426227\n",
        "29.8287721893 +/- 0.0494742087663\n",
        "29.8314855876 +/- 0.0494571321772\n",
        "29.8334564254 +/- 0.0494382378791\n",
        "29.8324723247 +/- 0.0494177014249\n",
        "29.8333333333"
       ]
      },
      {
       "output_type": "stream",
       "stream": "stdout",
       "text": [
        " +/- 0.0493959285009\n",
        "29.8286661754"
       ]
      },
      {
       "output_type": "stream",
       "stream": "stdout",
       "text": [
        " +/- 0.0493813120074\n",
        "29.8287923417"
       ]
      },
      {
       "output_type": "stream",
       "stream": "stdout",
       "text": [
        " +/- 0.0493646890776\n",
        "29.8314937454"
       ]
      },
      {
       "output_type": "stream",
       "stream": "stdout",
       "text": [
        " +/- 0.0493477256101\n",
        "29.8334558824 +/- 0.0493289563778\n",
        "29.8324761205 +/- 0.04930855574\n",
        "29.8333333333 +/- 0.049286926687\n",
        "29.8286867205"
       ]
      },
      {
       "output_type": "stream",
       "stream": "stdout",
       "text": [
        " +/- 0.0492724067288\n",
        "29.8288123167"
       ]
      },
      {
       "output_type": "stream",
       "stream": "stdout",
       "text": [
        " +/- 0.0492558935056\n",
        "29.8315018315 +/- 0.0492390419162\n",
        "29.8334553441 +/- 0.0492203963761\n",
        "29.832479883 +/- 0.0492001300641\n",
        "29.8333333333 +/- 0.0491786433045\n",
        "29.8287070855"
       ]
      },
      {
       "output_type": "stream",
       "stream": "stdout",
       "text": [
        " +/- 0.0491642188239\n",
        "29.8288321168"
       ]
      },
      {
       "output_type": "stream",
       "stream": "stdout",
       "text": [
        " +/- 0.0491478141057\n",
        "29.8315098468"
       ]
      },
      {
       "output_type": "stream",
       "stream": "stdout",
       "text": [
        " +/- 0.0491310731701\n",
        "29.8334548105"
       ]
      },
      {
       "output_type": "stream",
       "stream": "stdout",
       "text": [
        " +/- 0.0491125499694\n",
        "29.8324836125 +/- 0.0490924165157\n",
        "29.8333333333 +/- 0.0490710704962\n",
        "29.8287272727"
       ]
      },
      {
       "output_type": "stream",
       "stream": "stdout",
       "text": [
        " +/- 0.0490567404512\n",
        "29.8288517442 +/- 0.049040443055\n",
        "29.8315177923 +/- 0.0490238115675\n",
        "29.8334542816 +/- 0.0490054093743\n",
        "29.8324873096 +/- 0.0489854073335\n",
        "29.8333333333 +/- 0.0489642005244\n",
        "29.8287472846"
       ]
      },
      {
       "output_type": "stream",
       "stream": "stdout",
       "text": [
        " +/- 0.048949963889\n",
        "29.8288712012"
       ]
      },
      {
       "output_type": "stream",
       "stream": "stdout",
       "text": [
        " +/- 0.0489337726497\n",
        "29.8315256688 +/- 0.0489172494229\n",
        "29.8334537572 +/- 0.0488989669253\n",
        "29.8324909747 +/- 0.0488790948742\n",
        "29.8333333333 +/- 0.0488580257687\n",
        "29.8287671233"
       ]
      },
      {
       "output_type": "stream",
       "stream": "stdout",
       "text": [
        " +/- 0.0488438815327\n",
        "29.8288904899"
       ]
      },
      {
       "output_type": "stream",
       "stream": "stdout",
       "text": [
        " +/- 0.0488277953027\n",
        "29.8315334773 +/- 0.0488113791671\n",
        "29.8334532374 +/- 0.0487932150733\n",
        "29.8324946082"
       ]
      },
      {
       "output_type": "stream",
       "stream": "stdout",
       "text": [
        " +/- 0.0487734716098\n",
        "29.8333333333 +/- 0.0487525387243\n",
        "29.8287867911"
       ]
      },
      {
       "output_type": "stream",
       "stream": "stdout",
       "text": [
        " +/- 0.0487384858923\n",
        "29.8289096126 +/- 0.0487225035415\n",
        "29.8315412186"
       ]
      },
      {
       "output_type": "stream",
       "stream": "stdout",
       "text": [
        " +/- 0.0487061933453\n",
        "29.8334527221 +/- 0.0486881463826\n",
        "29.8324982105 +/- 0.048668530126\n",
        "29.8333333333 +/- 0.0486477319988\n",
        "29.8288062902"
       ]
      },
      {
       "output_type": "stream",
       "stream": "stdout",
       "text": [
        " +/- 0.0486337695907\n",
        "29.8289285714 +/- 0.0486178900059\n",
        "29.8315488936 +/- 0.0486016846146\n",
        "29.8334522111 +/- 0.0485837535295\n",
        "29.8325017819 +/- 0.0485642631196\n",
        "29.8333333333 +/- 0.0485435983111\n",
        "29.8288256228"
       ]
      },
      {
       "output_type": "stream",
       "stream": "stdout",
       "text": [
        " +/- 0.0485297253612\n",
        "29.8289473684"
       ]
      },
      {
       "output_type": "stream",
       "stream": "stdout",
       "text": [
        " +/- 0.0485139474458\n",
        "29.8315565032 +/- 0.0484978457417\n",
        "29.8334517045 +/- 0.0484800292995\n",
        "29.8325053229"
       ]
      },
      {
       "output_type": "stream",
       "stream": "stdout",
       "text": [
        " +/- 0.0484606633965\n",
        "29.8333333333 +/- 0.0484401304884\n",
        "29.8288447909"
       ]
      },
      {
       "output_type": "stream",
       "stream": "stdout",
       "text": [
        " +/- 0.0484263460455\n",
        "29.8289660057"
       ]
      },
      {
       "output_type": "stream",
       "stream": "stdout",
       "text": [
        " +/- 0.0484106687191\n",
        "29.8315640481"
       ]
      },
      {
       "output_type": "stream",
       "stream": "stdout",
       "text": [
        " +/- 0.0483946696013\n",
        "29.8334512023 +/- 0.0483769665855\n",
        "29.8325088339 +/- 0.0483577238694\n",
        "29.8333333333 +/- 0.0483373214644\n",
        "29.8288637968"
       ]
      },
      {
       "output_type": "stream",
       "stream": "stdout",
       "text": [
        " +/- 0.0483236245915\n",
        "29.8289844852 +/- 0.04830804679\n",
        "29.8315715292 +/- 0.0482921491736\n",
        "29.8334507042"
       ]
      },
      {
       "output_type": "stream",
       "stream": "stdout",
       "text": [
        " +/- 0.0482745583859\n",
        "29.8325123153"
       ]
      },
      {
       "output_type": "stream",
       "stream": "stdout",
       "text": [
        " +/- 0.0482554375561\n",
        "29.8333333333 +/- 0.0482351642778\n",
        "29.8288826423"
       ]
      },
      {
       "output_type": "stream",
       "stream": "stdout",
       "text": [
        " +/- 0.0482215540515\n",
        "29.829002809 +/- 0.0482060747261\n",
        "29.8315789474 +/- 0.0481902775426\n",
        "29.8334502104 +/- 0.048172797802\n",
        "29.8325157673 +/- 0.0481537975774\n",
        "29.8333333333 +/- 0.0481336520693\n",
        "29.8289013296"
       ]
      },
      {
       "output_type": "stream",
       "stream": "stdout",
       "text": [
        " +/- 0.0481201275799\n",
        "29.829020979"
       ]
      },
      {
       "output_type": "stream",
       "stream": "stdout",
       "text": [
        " +/- 0.0481047456976\n",
        "29.8315863033 +/- 0.0480890478938\n",
        "29.8334497207 +/- 0.048071678037\n",
        "29.8325191905 +/- 0.0480527971549\n",
        "29.8333333333 +/- 0.0480327780805\n",
        "29.8289198606"
       ]
      },
      {
       "output_type": "stream",
       "stream": "stdout",
       "text": [
        " +/- 0.0480193384317\n",
        "29.8290389972"
       ]
      },
      {
       "output_type": "stream",
       "stream": "stdout",
       "text": [
        " +/- 0.0480040529743\n",
        "29.8315935978 +/- 0.0479884535126\n",
        "29.833449235 +/- 0.0479711923931\n",
        "29.8325225851 +/- 0.0479524296094\n",
        "29.8333333333 +/- 0.0479325356518\n",
        "29.8289382373"
       ]
      },
      {
       "output_type": "stream",
       "stream": "stdout",
       "text": [
        " +/- 0.0479191799602\n",
        "29.8290568655 +/- 0.0479039899245\n",
        "29.8316008316"
       ]
      },
      {
       "output_type": "stream",
       "stream": "stdout",
       "text": [
        " +/- 0.0478884877824\n",
        "29.8334487535 +/- 0.0478713342704\n",
        "29.8325259516 +/- 0.0478526883589\n",
        "29.8333333333"
       ]
      },
      {
       "output_type": "stream",
       "stream": "stdout",
       "text": [
        " +/- 0.0478329182202\n",
        "29.8289564616"
       ]
      },
      {
       "output_type": "stream",
       "stream": "stdout",
       "text": [
        " +/- 0.0478196456154\n",
        "29.8290745856"
       ]
      },
      {
       "output_type": "stream",
       "stream": "stdout",
       "text": [
        " +/- 0.0478045500127\n",
        "29.8316080055 +/- 0.0477891441824\n",
        "29.8334482759 +/- 0.0477720971645\n",
        "29.8325292901 +/- 0.0477535669171\n",
        "29.8333333333 +/- 0.0477339193182\n",
        "29.8289745354"
       ]
      },
      {
       "output_type": "stream",
       "stream": "stdout",
       "text": [
        " +/- 0.0477207289422\n",
        "29.8290921596 +/- 0.0477057267981\n",
        "29.8316151203 +/- 0.0476904162865\n",
        "29.8334478022"
       ]
      },
      {
       "output_type": "stream",
       "stream": "stdout",
       "text": [
        " +/- 0.0476734746652\n",
        "29.8325326012 +/- 0.047655058891\n",
        "29.8333333333 +/- 0.0476355325712\n",
        "29.8289924606"
       ]
      },
      {
       "output_type": "stream",
       "stream": "stdout",
       "text": [
        " +/- 0.0476224235784\n",
        "29.829109589 +/- 0.0476075139325\n",
        "29.8316221766 +/- 0.0475922977608\n",
        "29.8334473324 +/- 0.0475754604546\n",
        "29.8325358852 +/- 0.0475571579797\n",
        "29.8333333333 +/- 0.0475377516965\n",
        "29.8290102389"
       ]
      },
      {
       "output_type": "stream",
       "stream": "stdout",
       "text": [
        " +/- 0.0475247232535\n",
        "29.8291268759"
       ]
      },
      {
       "output_type": "stream",
       "stream": "stdout",
       "text": [
        " +/- 0.0475099051592\n",
        "29.8316291752 +/- 0.0474947823624\n",
        "29.8334468665 +/- 0.0474780483051\n",
        "29.8325391423 +/- 0.0474598579726\n",
        "29.8333333333 +/- 0.0474405705011\n",
        "29.8290278722"
       ]
      },
      {
       "output_type": "stream",
       "stream": "stdout",
       "text": [
        " +/- 0.0474276217863\n",
        "29.8291440217 +/- 0.0474128943105\n",
        "29.8316361168"
       ]
      },
      {
       "output_type": "stream",
       "stream": "stdout",
       "text": [
        " +/- 0.0473978639375\n",
        "29.8334464043"
       ]
      },
      {
       "output_type": "stream",
       "stream": "stdout",
       "text": [
        " +/- 0.0473812320783\n",
        "29.8325423729 +/- 0.0473631527476\n",
        "29.8333333333 +/- 0.0473439828804\n",
        "29.8290453622"
       ]
      },
      {
       "output_type": "stream",
       "stream": "stdout",
       "text": [
        " +/- 0.0473311130839\n",
        "29.8291610284 +/- 0.0473164753067\n",
        "29.831643002 +/- 0.04730153642\n",
        "29.8334459459 +/- 0.0472850057227\n",
        "29.8325455773 +/- 0.0472670362696\n",
        "29.8333333333 +/- 0.0472479828163\n",
        "29.8290627107"
       ]
      },
      {
       "output_type": "stream",
       "stream": "stdout",
       "text": [
        " +/- 0.0472351911398\n",
        "29.8291778976 +/- 0.0472206421544\n",
        "29.8316498316 +/- 0.0472057938295\n",
        "29.8334454913"
       ]
      },
      {
       "output_type": "stream",
       "stream": "stdout",
       "text": [
        " +/- 0.0471893632729\n",
        "29.8325487559 +/- 0.0471715025887\n",
        "29.8333333333 +/- 0.047152564376\n",
        "29.8290799194"
       ]
      },
      {
       "output_type": "stream",
       "stream": "stdout",
       "text": [
        " +/- 0.0471398500323\n",
        "29.8291946309"
       ]
      },
      {
       "output_type": "stream",
       "stream": "stdout",
       "text": [
        " +/- 0.0471253889446\n",
        "29.8316566063 +/- 0.0471106302703\n",
        "29.8334450402"
       ]
      },
      {
       "output_type": "stream",
       "stream": "stdout",
       "text": [
        " +/- 0.0470942988473\n",
        "29.8325519089 +/- 0.0470765458393\n",
        "29.8333333333 +/- 0.04705772171\n",
        "29.82909699"
       ]
      },
      {
       "output_type": "stream",
       "stream": "stdout",
       "text": [
        " +/- 0.0470450839231\n",
        "29.8292112299 +/- 0.0470307098515\n",
        "29.8316633267"
       ]
      },
      {
       "output_type": "stream",
       "stream": "stdout",
       "text": [
        " +/- 0.0470160399293\n",
        "29.8334445928"
       ]
      },
      {
       "output_type": "stream",
       "stream": "stdout",
       "text": [
        " +/- 0.0469998066471\n",
        "29.8325550367 +/- 0.0469821602375\n",
        "29.8333333333"
       ]
      },
      {
       "output_type": "stream",
       "stream": "stdout",
       "text": [
        " +/- 0.046963449051\n",
        "29.8291139241"
       ]
      },
      {
       "output_type": "stream",
       "stream": "stdout",
       "text": [
        " +/- 0.0469508870556\n",
        "29.8292276964"
       ]
      },
      {
       "output_type": "stream",
       "stream": "stdout",
       "text": [
        " +/- 0.0469365991311\n",
        "29.8316699933"
       ]
      },
      {
       "output_type": "stream",
       "stream": "stdout",
       "text": [
        " +/- 0.0469220170749\n",
        "29.8334441489 +/- 0.0469058809544\n",
        "29.8325581395 +/- 0.0468883400809\n",
        "29.8333333333 +/- 0.0468697407121\n",
        "29.8291307233"
       ]
      },
      {
       "output_type": "stream",
       "stream": "stdout",
       "text": [
        " +/- 0.0468572537537\n",
        "29.8292440318"
       ]
      },
      {
       "output_type": "stream",
       "stream": "stdout",
       "text": [
        " +/- 0.0468430511191\n",
        "29.831676607 +/- 0.0468285560554\n",
        "29.8334437086 +/- 0.0468125161313\n",
        "29.8325612177 +/- 0.046795079746\n",
        "29.8333333333 +/- 0.0467765910856\n",
        "29.8291473893"
       ]
      },
      {
       "output_type": "stream",
       "stream": "stdout",
       "text": [
        " +/- 0.0467641784202\n",
        "29.8292602378 +/- 0.0467500602304\n",
        "29.8316831683 +/- 0.0467356512976\n",
        "29.8334432718"
       ]
      },
      {
       "output_type": "stream",
       "stream": "stdout",
       "text": [
        " +/- 0.0467197066178\n",
        "29.8325642716 +/- 0.0467023736874\n",
        "29.8333333333 +/- 0.0466839946416\n",
        "29.8291639236"
       ]
      },
      {
       "output_type": "stream",
       "stream": "stdout",
       "text": [
        " +/- 0.0466716555354\n",
        "29.8292763158"
       ]
      },
      {
       "output_type": "stream",
       "stream": "stdout",
       "text": [
        " +/- 0.0466576209568\n",
        "29.8316896778 +/- 0.0466432973053\n",
        "29.8334428384"
       ]
      },
      {
       "output_type": "stream",
       "stream": "stdout",
       "text": [
        " +/- 0.046627446931\n",
        "29.8325673014 +/- 0.0466102164366\n",
        "29.8333333333 +/- 0.0465919459264\n",
        "29.8291803279"
       ]
      },
      {
       "output_type": "stream",
       "stream": "stdout",
       "text": [
        " +/- 0.0465796796557\n",
        "29.8292922674 +/- 0.0465657278663\n",
        "29.8316961362 +/- 0.0465514886581\n",
        "29.8334424084 +/- 0.0465357316633\n",
        "29.8325703074 +/- 0.0465186025998\n",
        "29.8333333333 +/- 0.0465004395613\n",
        "29.8291966035"
       ]
      },
      {
       "output_type": "stream",
       "stream": "stdout",
       "text": [
        " +/- 0.0464882454123\n",
        "29.829308094 +/- 0.0464743756014\n",
        "29.831702544 +/- 0.0464602200101\n",
        "29.8334419817"
       ]
      },
      {
       "output_type": "stream",
       "stream": "stdout",
       "text": [
        " +/- 0.0464445554815\n",
        "29.8325732899"
       ]
      },
      {
       "output_type": "stream",
       "stream": "stdout",
       "text": [
        " +/- 0.0464275268577\n",
        "29.8333333333 +/- 0.0464094702413\n",
        "29.8292127521"
       ]
      },
      {
       "output_type": "stream",
       "stream": "stdout",
       "text": [
        " +/- 0.04639734751\n",
        "29.8293237971 +/- 0.0463835588779\n",
        "29.8317089019 +/- 0.0463694860883\n",
        "29.8334415584"
       ]
      },
      {
       "output_type": "stream",
       "stream": "stdout",
       "text": [
        " +/- 0.046353913125\n",
        "29.8325762492 +/- 0.0463369839631\n",
        "29.8333333333 +/- 0.0463190327336\n",
        "29.8292287751"
       ]
      },
      {
       "output_type": "stream",
       "stream": "stdout",
       "text": [
        " +/- 0.0463069807256\n",
        "29.8293393782"
       ]
      },
      {
       "output_type": "stream",
       "stream": "stdout",
       "text": [
        " +/- 0.0462932724835\n",
        "29.8317152104"
       ]
      },
      {
       "output_type": "stream",
       "stream": "stdout",
       "text": [
        " +/- 0.0462792816915\n",
        "29.8334411384 +/- 0.046263799405\n",
        "29.8325791855 +/- 0.0462469687406\n",
        "29.8333333333 +/- 0.0462291218768\n",
        "29.829244674"
       ]
      },
      {
       "output_type": "stream",
       "stream": "stdout",
       "text": [
        " +/- 0.0462171399072\n",
        "29.8293548387 +/- 0.0462035112769\n",
        "29.83172147"
       ]
      },
      {
       "output_type": "stream",
       "stream": "stdout",
       "text": [
        " +/- 0.0461896016893\n",
        "29.8334407216 +/- 0.046174209203\n",
        "29.8325820992 +/- 0.0461574760845\n",
        "29.8333333333 +/- 0.0461397325791\n",
        "29.8292604502"
       ]
      },
      {
       "output_type": "stream",
       "stream": "stdout",
       "text": [
        " +/- 0.046127819972\n",
        "29.8293701799"
       ]
      },
      {
       "output_type": "stream",
       "stream": "stdout",
       "text": [
        " +/- 0.046114270186\n",
        "29.8317276814 +/- 0.0461004410203\n",
        "29.8334403081"
       ]
      },
      {
       "output_type": "stream",
       "stream": "stdout",
       "text": [
        " +/- 0.0460851374695\n",
        "29.8325849904 +/- 0.0460685009583\n",
        "29.8333333333 +/- 0.0460508598175\n",
        "29.8292761051"
       ]
      },
      {
       "output_type": "stream",
       "stream": "stdout",
       "text": [
        " +/- 0.0460390159063\n",
        "29.8293854033"
       ]
      },
      {
       "output_type": "stream",
       "stream": "stdout",
       "text": [
        " +/- 0.0460255442072\n",
        "29.8317338452"
       ]
      },
      {
       "output_type": "stream",
       "stream": "stdout",
       "text": [
        " +/- 0.0460117946914\n",
        "29.8334398977"
       ]
      },
      {
       "output_type": "stream",
       "stream": "stdout",
       "text": [
        " +/- 0.0459965792229\n",
        "29.8325878594 +/- 0.0459800383931\n",
        "29.8333333333 +/- 0.0459624986363\n",
        "29.8292916401"
       ]
      },
      {
       "output_type": "stream",
       "stream": "stdout",
       "text": [
        " +/- 0.0459507227634\n",
        "29.8294005102 +/- 0.0459373284041\n",
        "29.8317399618 +/- 0.0459236577765\n",
        "29.8334394904"
       ]
      },
      {
       "output_type": "stream",
       "stream": "stdout",
       "text": [
        " +/- 0.0459085295486\n",
        "29.8325907066 +/- 0.0458920834865\n",
        "29.8333333333 +/- 0.0458746441464\n",
        "29.8293070566"
       ]
      },
      {
       "output_type": "stream",
       "stream": "stdout",
       "text": [
        " +/- 0.0458629356627\n",
        "29.8294155019 +/- 0.0458496179061\n",
        "29.8317460317 +/- 0.0458360254152\n",
        "29.8334390863 +/- 0.0458209835974\n",
        "29.832593532 +/- 0.0458046314015\n",
        "29.8333333333 +/- 0.0457872915235\n",
        "29.8293223559"
       ]
      },
      {
       "output_type": "stream",
       "stream": "stdout",
       "text": [
        " +/- 0.0457756497889\n",
        "29.8294303797"
       ]
      },
      {
       "output_type": "stream",
       "stream": "stdout",
       "text": [
        " +/- 0.0457624079074\n",
        "29.8317520557 +/- 0.0457488928118\n",
        "29.8334386852 +/- 0.0457339365846\n",
        "29.8325963361 +/- 0.0457176773654\n",
        "29.8333333333 +/- 0.0457004360077\n",
        "29.8293375394"
       ]
      },
      {
       "output_type": "stream",
       "stream": "stdout",
       "text": [
        " +/- 0.0456888603902\n",
        "29.829445145 +/- 0.0456756936663\n",
        "29.831758034 +/- 0.0456622552342\n",
        "29.8334382872"
       ]
      },
      {
       "output_type": "stream",
       "stream": "stdout",
       "text": [
        " +/- 0.0456473837889\n",
        "29.8325991189 +/- 0.0456312166687\n",
        "29.8333333333 +/- 0.0456140729018\n",
        "29.8293526084"
       ]
      },
      {
       "output_type": "stream",
       "stream": "stdout",
       "text": [
        " +/- 0.0456025627781\n",
        "29.829459799 +/- 0.0455894705033\n",
        "29.8317639674 +/- 0.0455761080128\n",
        "29.8334378921 +/- 0.0455613205514\n",
        "29.8326018809"
       ]
      },
      {
       "output_type": "stream",
       "stream": "stdout",
       "text": [
        " +/- 0.0455452446639\n",
        "29.8333333333 +/- 0.0455281975707\n",
        "29.8293675642"
       ]
      },
      {
       "output_type": "stream",
       "stream": "stdout",
       "text": [
        " +/- 0.0455167523254\n",
        "29.8294743429 +/- 0.0455037338009\n",
        "29.8317698562 +/- 0.0454904465393\n",
        "29.8334375"
       ]
      },
      {
       "output_type": "stream",
       "stream": "stdout",
       "text": [
        " +/- 0.0454757422744\n",
        "29.8326046221 +/- 0.0454597567647\n",
        "29.8333333333 +/- 0.0454428054401\n",
        "29.829382408"
       ]
      },
      {
       "output_type": "stream",
       "stream": "stdout",
       "text": [
        " +/- 0.045431424466\n",
        "29.8294887781"
       ]
      },
      {
       "output_type": "stream",
       "stream": "stdout",
       "text": [
        " +/- 0.045418479002\n",
        "29.8317757009 +/- 0.045405266266\n",
        "29.8334371108 +/- 0.0453906444204\n",
        "29.8326073429"
       ]
      },
      {
       "output_type": "stream",
       "stream": "stdout",
       "text": [
        " +/- 0.0453747484449\n",
        "29.8333333333"
       ]
      },
      {
       "output_type": "stream",
       "stream": "stdout",
       "text": [
        " +/- 0.0453578919954\n",
        "29.8293971411"
       ]
      },
      {
       "output_type": "stream",
       "stream": "stdout",
       "text": [
        " +/- 0.0453465746933\n",
        "29.8295031056 +/- 0.0453337016088\n",
        "29.8317815022 +/- 0.0453205627044\n",
        "29.8334367246"
       ]
      },
      {
       "output_type": "stream",
       "stream": "stdout",
       "text": [
        " +/- 0.045306022511\n",
        "29.8326100434 +/- 0.0452902152371\n",
        "29.8333333333"
       ]
      },
      {
       "output_type": "stream",
       "stream": "stdout",
       "text": [
        " +/- 0.045273452781\n",
        "29.8294117647"
       ]
      },
      {
       "output_type": "stream",
       "stream": "stdout",
       "text": [
        " +/- 0.0452621985593\n",
        "29.8295173267"
       ]
      },
      {
       "output_type": "stream",
       "stream": "stdout",
       "text": [
        " +/- 0.0452493971825\n",
        "29.8317872604 +/- 0.0452363314247\n",
        "29.8334363412"
       ]
      },
      {
       "output_type": "stream",
       "stream": "stdout",
       "text": [
        " +/- 0.0452218721263\n",
        "29.8326127239"
       ]
      },
      {
       "output_type": "stream",
       "stream": "stdout",
       "text": [
        " +/- 0.045206152732\n",
        "29.8333333333 +/- 0.0451894833991\n",
        "29.8294262801"
       ]
      },
      {
       "output_type": "stream",
       "stream": "stdout",
       "text": [
        " +/- 0.045178291674\n",
        "29.8295314427 +/- 0.0451655613416\n",
        "29.831792976 +/- 0.0451525680541\n",
        "29.8334359606 +/- 0.0451381889034\n",
        "29.8326153846 +/- 0.0451225565775\n",
        "29.8333333333 +/- 0.0451059795087\n",
        "29.8294406884"
       ]
      },
      {
       "output_type": "stream",
       "stream": "stdout",
       "text": [
        " +/- 0.045094849704\n",
        "29.8295454545"
       ]
      },
      {
       "output_type": "stream",
       "stream": "stdout",
       "text": [
        " +/- 0.0450821897612\n",
        "29.8317986495 +/- 0.0450692682766\n",
        "29.8334355828 +/- 0.0450549685359\n",
        "29.8326180258 +/- 0.0450394224776\n",
        "29.8333333333 +/- 0.0450229368249\n",
        "29.8294549908"
       ]
      },
      {
       "output_type": "stream",
       "stream": "stdout",
       "text": [
        " +/- 0.0450118683716\n",
        "29.8295593635 +/- 0.0449992781722\n",
        "29.8318042813"
       ]
      },
      {
       "output_type": "stream",
       "stream": "stdout",
       "text": [
        " +/- 0.0449864278316\n",
        "29.8334352078 +/- 0.0449722067727\n",
        "29.8326206475 +/- 0.0449567461914\n",
        "29.8333333333 +/- 0.0449403511177\n",
        "29.8294691885"
       ]
      },
      {
       "output_type": "stream",
       "stream": "stdout",
       "text": [
        " +/- 0.0449293434542\n",
        "29.8295731707"
       ]
      },
      {
       "output_type": "stream",
       "stream": "stdout",
       "text": [
        " +/- 0.0449168223602\n",
        "29.831809872"
       ]
      },
      {
       "output_type": "stream",
       "stream": "stdout",
       "text": [
        " +/- 0.0449040425132\n",
        "29.8334348356 +/- 0.0448898994171\n",
        "29.8326232502 +/- 0.0448745235323\n",
        "29.8333333333 +/- 0.0448582182112\n",
        "29.8294832827"
       ]
      },
      {
       "output_type": "stream",
       "stream": "stdout",
       "text": [
        " +/- 0.0448472707831\n",
        "29.8295868773 +/- 0.0448348181646\n",
        "29.831815422"
       ]
      },
      {
       "output_type": "stream",
       "stream": "stdout",
       "text": [
        " +/- 0.044822108169\n",
        "29.833434466 +/- 0.044808042326\n",
        "29.8326258338 +/- 0.0447927503673\n",
        "29.8333333333 +/- 0.0447765339828\n",
        "29.8294972744"
       ]
      },
      {
       "output_type": "stream",
       "stream": "stdout",
       "text": [
        " +/- 0.0447656462428\n",
        "29.8296004843 +/- 0.044753261478\n",
        "29.8318209316 +/- 0.0447406206996\n",
        "29.8334340992"
       ]
      },
      {
       "output_type": "stream",
       "stream": "stdout",
       "text": [
        " +/- 0.044726631409\n",
        "29.8326283988 +/- 0.0447114226157\n",
        "29.8333333333 +/- 0.0446952943622\n",
        "29.8295111648"
       ]
      },
      {
       "output_type": "stream",
       "stream": "stdout",
       "text": [
        " +/- 0.0446844657699\n",
        "29.8296139928 +/- 0.0446721482447\n",
        "29.8318264014 +/- 0.0446595760578\n",
        "29.8334337349 +/- 0.0446456626277\n",
        "29.8326309452 +/- 0.0446305362486\n",
        "29.8333333333 +/- 0.0446144953307\n",
        "29.8295249549"
       ]
      },
      {
       "output_type": "stream",
       "stream": "stdout",
       "text": [
        " +/- 0.0446037253525\n",
        "29.8296274038"
       ]
      },
      {
       "output_type": "stream",
       "stream": "stdout",
       "text": [
        " +/- 0.0445914744607\n",
        "29.8318318318 +/- 0.044578970247\n",
        "29.8334333733"
       ]
      },
      {
       "output_type": "stream",
       "stream": "stdout",
       "text": [
        " +/- 0.0445651319943\n",
        "29.8326334733 +/- 0.0445500872878\n",
        "29.8333333333 +/- 0.0445341329202\n",
        "29.8295386459"
       ]
      },
      {
       "output_type": "stream",
       "stream": "stdout",
       "text": [
        " +/- 0.0445234210292\n",
        "29.8296407186 +/- 0.0445112361722\n",
        "29.8318372232 +/- 0.0444987993215\n",
        "29.8334330144 +/- 0.0444850355715\n",
        "29.8326359833 +/- 0.0444700718054\n",
        "29.8333333333 +/- 0.0444542032125\n",
        "29.8295522388"
       ]
      },
      {
       "output_type": "stream",
       "stream": "stdout",
       "text": [
        " +/- 0.0444435488883\n",
        "29.8296539379"
       ]
      },
      {
       "output_type": "stream",
       "stream": "stdout",
       "text": [
        " +/- 0.044431429475\n",
        "29.831842576 +/- 0.0444190593847\n",
        "29.8334326579 +/- 0.0444053694714\n",
        "29.8326384753 +/- 0.0443904859223\n",
        "29.8333333333 +/- 0.0443747023384\n",
        "29.8295657347"
       ]
      },
      {
       "output_type": "stream",
       "stream": "stdout",
       "text": [
        " +/- 0.0443641050673\n",
        "29.829667063 +/- 0.044352050514\n",
        "29.8318478907"
       ]
      },
      {
       "output_type": "stream",
       "stream": "stdout",
       "text": [
        " +/- 0.0443397465888\n",
        "29.833432304 +/- 0.0443261298543\n",
        "29.8326409496 +/- 0.0443113258082\n",
        "29.8333333333 +/- 0.0442956264769\n",
        "29.8295791346"
       ]
      },
      {
       "output_type": "stream",
       "stream": "stdout",
       "text": [
        " +/- 0.0442850857516\n",
        "29.8296800948 +/- 0.0442730954817\n",
        "29.8318531676"
       ]
      },
      {
       "output_type": "stream",
       "stream": "stdout",
       "text": [
        " +/- 0.044260857134\n",
        "29.8334319527"
       ]
      },
      {
       "output_type": "stream",
       "stream": "stdout",
       "text": [
        " +/- 0.0442473129287\n",
        "29.8326434063 +/- 0.0442325876803\n",
        "29.8333333333 +/- 0.0442169718547\n",
        "29.8295924395"
       ]
      },
      {
       "output_type": "stream",
       "stream": "stdout",
       "text": [
        " +/- 0.044206487174\n",
        "29.8296930342 +/- 0.0441945606183\n",
        "29.8318584071"
       ]
      },
      {
       "output_type": "stream",
       "stream": "stdout",
       "text": [
        " +/- 0.0441823872676\n",
        "29.8334316038 +/- 0.0441689149498\n",
        "29.8326458456 +/- 0.0441542678025\n",
        "29.8333333333 +/- 0.044138734745\n",
        "29.8296056504"
       ]
      },
      {
       "output_type": "stream",
       "stream": "stdout",
       "text": [
        " +/- 0.044128305614\n",
        "29.8297058824 +/- 0.0441164422102\n",
        "29.8318636096"
       ]
      },
      {
       "output_type": "stream",
       "stream": "stdout",
       "text": [
        " +/- 0.0441043332832\n",
        "29.8334312573 +/- 0.0440909322193\n",
        "29.8326482678 +/- 0.0440763624852\n",
        "29.8333333333 +/- 0.0440609114672\n",
        "29.8296187683"
       ]
      },
      {
       "output_type": "stream",
       "stream": "stdout",
       "text": [
        " +/- 0.0440505373972\n",
        "29.8297186401 +/- 0.0440387365899\n",
        "29.8318687756 +/- 0.0440266915203\n",
        "29.8334309133 +/- 0.0440133610845\n",
        "29.8326506729 +/- 0.043998868084\n",
        "29.8333333333 +/- 0.0439834983857\n",
        "29.8296317943"
       ]
      },
      {
       "output_type": "stream",
       "stream": "stdout",
       "text": [
        " +/- 0.0439731788939\n",
        "29.8297313084 +/- 0.0439614401346\n",
        "29.8318739054 +/- 0.0439494583632\n",
        "29.8334305718 +/- 0.0439361979372\n",
        "29.8326530612 +/- 0.0439217809992\n",
        "29.8333333333 +/- 0.0439064919099\n",
        "29.8296447292"
       ]
      },
      {
       "output_type": "stream",
       "stream": "stdout",
       "text": [
        " +/- 0.0438962265194\n",
        "29.8297438882 +/- 0.0438845492662\n",
        "29.8318789994"
       ]
      },
      {
       "output_type": "stream",
       "stream": "stdout",
       "text": [
        " +/- 0.0438726302404\n",
        "29.8334302326 +/- 0.0438594392136\n",
        "29.8326554329 +/- 0.043845097675\n",
        "29.8333333333"
       ]
      },
      {
       "output_type": "stream",
       "stream": "stdout",
       "text": [
        " +/- 0.0438298884926\n",
        "29.829657574"
       ]
      },
      {
       "output_type": "stream",
       "stream": "stdout",
       "text": [
        " +/- 0.0438196767323\n",
        "29.8297563805"
       ]
      },
      {
       "output_type": "stream",
       "stream": "stdout",
       "text": [
        " +/- 0.04380806045\n",
        "29.831884058 +/- 0.0437962036242\n",
        "29.8334298957 +/- 0.0437830813932\n",
        "29.8326577881"
       ]
      },
      {
       "output_type": "stream",
       "stream": "stdout",
       "text": [
        " +/- 0.0437688145992\n",
        "29.8333333333 +/- 0.04375368463\n",
        "29.8296703297"
       ]
      },
      {
       "output_type": "stream",
       "stream": "stdout",
       "text": [
        " +/- 0.0437435260345\n",
        "29.8297687861 +/- 0.0437319701944\n",
        "29.8318890815"
       ]
      },
      {
       "output_type": "stream",
       "stream": "stdout",
       "text": [
        " +/- 0.0437201750294\n",
        "29.8334295612 +/- 0.0437071209984\n",
        "29.8326601269 +/- 0.0436929283019\n",
        "29.8333333333 +/- 0.0436778768607\n",
        "29.8296829971"
       ]
      },
      {
       "output_type": "stream",
       "stream": "stdout",
       "text": [
        " +/- 0.0436677709704\n",
        "29.829781106 +/- 0.0436562750501\n",
        "29.8318940702 +/- 0.0436445410133\n",
        "29.833429229 +/- 0.0436315545936\n",
        "29.8326624497 +/- 0.0436174353554\n",
        "29.8333333333"
       ]
      },
      {
       "output_type": "stream",
       "stream": "stdout",
       "text": [
        " +/- 0.0436024617653\n",
        "29.8296955773"
       ]
      },
      {
       "output_type": "stream",
       "stream": "stdout",
       "text": [
        " +/- 0.0435924081259\n",
        "29.829793341 +/- 0.0435809716094\n",
        "29.8318990247 +/- 0.0435692981747\n",
        "29.8334288991"
       ]
      },
      {
       "output_type": "stream",
       "stream": "stdout",
       "text": [
        " +/- 0.0435563787846\n",
        "29.8326647564 +/- 0.0435423323733\n",
        "29.8333333333 +/- 0.0435274359653\n",
        "29.829708071"
       ]
      },
      {
       "output_type": "stream",
       "stream": "stdout",
       "text": [
        " +/- 0.0435174341282\n",
        "29.829805492"
       ]
      },
      {
       "output_type": "stream",
       "stream": "stdout",
       "text": [
        " +/- 0.0435060565056\n",
        "29.8319039451 +/- 0.0434944431531\n",
        "29.8334285714 +/- 0.043481590218\n",
        "29.8326670474 +/- 0.0434676160096\n",
        "29.8333333333 +/- 0.0434527961231\n",
        "29.8297204792"
       ]
      },
      {
       "output_type": "stream",
       "stream": "stdout",
       "text": [
        " +/- 0.0434428456449\n",
        "29.8298175599 +/- 0.0434315264124\n",
        "29.8319088319"
       ]
      },
      {
       "output_type": "stream",
       "stream": "stdout",
       "text": [
        " +/- 0.0434199726286\n",
        "29.833428246 +/- 0.0434071855807\n",
        "29.8326693227 +/- 0.0433932829587\n",
        "29.8333333333 +/- 0.0433785389408\n",
        "29.8297328027"
       ]
      },
      {
       "output_type": "stream",
       "stream": "stdout",
       "text": [
        " +/- 0.0433686393834\n",
        "29.8298295455 +/- 0.0433573780434\n",
        "29.8319136854 +/- 0.0433458833206\n",
        "29.8334279228 +/- 0.043333161599\n",
        "29.8326715825 +/- 0.0433193299543\n",
        "29.8333333333 +/- 0.0433046611597\n",
        "29.8297450425"
       ]
      },
      {
       "output_type": "stream",
       "stream": "stdout",
       "text": [
        " +/- 0.0432948120904\n",
        "29.8298414496 +/- 0.0432836081511\n",
        "29.8319185059"
       ]
      },
      {
       "output_type": "stream",
       "stream": "stdout",
       "text": [
        " +/- 0.0432721719878\n",
        "29.8334276018 +/- 0.0432595150381\n",
        "29.832673827 +/- 0.0432457537689\n",
        "29.8333333333 +/- 0.0432311595602\n",
        "29.8297571993"
       ]
      },
      {
       "output_type": "stream",
       "stream": "stdout",
       "text": [
        " +/- 0.0432213605512\n",
        "29.8298532731"
       ]
      },
      {
       "output_type": "stream",
       "stream": "stdout",
       "text": [
        " +/- 0.0432102135266\n",
        "29.8319232939 +/- 0.0431988354274\n",
        "29.833427283"
       ]
      },
      {
       "output_type": "stream",
       "stream": "stdout",
       "text": [
        " +/- 0.0431862427017\n",
        "29.8326760563 +/- 0.0431725512132\n",
        "29.8333333333 +/- 0.0431580309606\n",
        "29.8297692741"
       ]
      },
      {
       "output_type": "stream",
       "stream": "stdout",
       "text": [
        " +/- 0.0431482815893\n",
        "29.8298650169 +/- 0.043137190999\n",
        "29.8319280495 +/- 0.0431258704742\n",
        "29.8334269663"
       ]
      },
      {
       "output_type": "stream",
       "stream": "stdout",
       "text": [
        " +/- 0.0431133414313\n",
        "29.8326782706 +/- 0.0430997191357\n",
        "29.8333333333 +/- 0.0430852722165\n",
        "29.8297812675"
       ]
      },
      {
       "output_type": "stream",
       "stream": "stdout",
       "text": [
        " +/- 0.0430755720653\n",
        "29.8298766816"
       ]
      },
      {
       "output_type": "stream",
       "stream": "stdout",
       "text": [
        " +/- 0.0430645374349\n",
        "29.8319327731 +/- 0.0430532740005\n",
        "29.8334266517 +/- 0.0430408081055\n",
        "29.8326804701 +/- 0.043027254422\n",
        "29.8333333333 +/- 0.0430128802211\n",
        "29.8297931805"
       ]
      },
      {
       "output_type": "stream",
       "stream": "stdout",
       "text": [
        " +/- 0.0430032288771\n",
        "29.8298882682"
       ]
      },
      {
       "output_type": "stream",
       "stream": "stdout",
       "text": [
        " +/- 0.0429922497375\n",
        "29.8319374651 +/- 0.0429810429153\n",
        "29.8334263393"
       ]
      },
      {
       "output_type": "stream",
       "stream": "stdout",
       "text": [
        " +/- 0.0429686396395\n",
        "29.8326826548 +/- 0.042955153994\n",
        "29.8333333333 +/- 0.0429408519033\n",
        "29.8298050139"
       ]
      },
      {
       "output_type": "stream",
       "stream": "stdout",
       "text": [
        " +/- 0.0429312489587\n",
        "29.8298997773 +/- 0.0429203248464\n",
        "29.8319421258"
       ]
      },
      {
       "output_type": "stream",
       "stream": "stdout",
       "text": [
        " +/- 0.0429091741638\n",
        "29.8334260289"
       ]
      },
      {
       "output_type": "stream",
       "stream": "stdout",
       "text": [
        " +/- 0.0428968329846\n",
        "29.8326848249"
       ]
      },
      {
       "output_type": "stream",
       "stream": "stdout",
       "text": [
        " +/- 0.0428834148098\n",
        "29.8333333333 +/- 0.0428691842285\n",
        "29.8298167685"
       ]
      },
      {
       "output_type": "stream",
       "stream": "stdout",
       "text": [
        " +/- 0.0428596292801\n",
        "29.8299112098"
       ]
      },
      {
       "output_type": "stream",
       "stream": "stdout",
       "text": [
        " +/- 0.0428487597369\n",
        "29.8319467554"
       ]
      },
      {
       "output_type": "stream",
       "stream": "stdout",
       "text": [
        " +/- 0.0428376647267\n",
        "29.8334257206 +/- 0.0428253851278\n",
        "29.8326869806 +/- 0.0428120338629\n",
        "29.8333333333 +/- 0.0427978741971\n",
        "29.8298284449"
       ]
      },
      {
       "output_type": "stream",
       "stream": "stdout",
       "text": [
        " +/- 0.0427883668463\n",
        "29.8299225664 +/- 0.0427775514195\n",
        "29.8319513543 +/- 0.04276651162\n",
        "29.8334254144 +/- 0.0427542930909\n",
        "29.832689122 +/- 0.0427410081817\n",
        "29.8333333333 +/- 0.0427269188443\n",
        "29.8298400441"
       ]
      },
      {
       "output_type": "stream",
       "stream": "stdout",
       "text": [
        " +/- 0.0427174586973\n",
        "29.8299338479"
       ]
      },
      {
       "output_type": "stream",
       "stream": "stdout",
       "text": [
        " +/- 0.0427066969393\n",
        "29.8319559229"
       ]
      },
      {
       "output_type": "stream",
       "stream": "stdout",
       "text": [
        " +/- 0.0426957118941\n",
        "29.8334251101 +/- 0.0426835539303\n",
        "29.8326912493 +/- 0.042670334829\n",
        "29.8333333333 +/- 0.0426563152397\n",
        "29.8298515668"
       ]
      },
      {
       "output_type": "stream",
       "stream": "stdout",
       "text": [
        " +/- 0.0426469019073\n",
        "29.8299450549 +/- 0.0426361933756\n",
        "29.8319604613 +/- 0.0426252626336\n",
        "29.8334248079"
       ]
      },
      {
       "output_type": "stream",
       "stream": "stdout",
       "text": [
        " +/- 0.0426131647363\n",
        "29.8326933626 +/- 0.0426000109015\n",
        "29.8333333333 +/- 0.0425860604867\n",
        "29.8298630137"
       ]
      },
      {
       "output_type": "stream",
       "stream": "stdout",
       "text": [
        " +/- 0.0425766935839\n",
        "29.8299561884 +/- 0.0425660378414\n",
        "29.8319649699"
       ]
      },
      {
       "output_type": "stream",
       "stream": "stdout",
       "text": [
        " +/- 0.0425551609566\n",
        "29.8334245077 +/- 0.0425431226329\n",
        "29.832695462"
       ]
      },
      {
       "output_type": "stream",
       "stream": "stdout",
       "text": [
        " +/- 0.0425300335292\n",
        "29.8333333333 +/- 0.0425161517219\n",
        "29.8298743856"
       ]
      },
      {
       "output_type": "stream",
       "stream": "stdout",
       "text": [
        " +/- 0.0425068308684\n",
        "29.8299672489"
       ]
      },
      {
       "output_type": "stream",
       "stream": "stdout",
       "text": [
        " +/- 0.0424962274826\n",
        "29.831969449"
       ]
      },
      {
       "output_type": "stream",
       "stream": "stdout",
       "text": [
        " +/- 0.0424854040143\n",
        "29.8334242094 +/- 0.0424734247769\n",
        "29.8326975477 +/- 0.042460399875\n",
        "29.8333333333 +/- 0.0424465861148\n",
        "29.8298856832"
       ]
      },
      {
       "output_type": "stream",
       "stream": "stdout",
       "text": [
        " +/- 0.0424373109345\n",
        "29.8299782372"
       ]
      },
      {
       "output_type": "stream",
       "stream": "stdout",
       "text": [
        " +/- 0.0424267594781\n",
        "29.8319738989 +/- 0.0424159889904\n",
        "29.833423913 +/- 0.0424040683576\n",
        "29.8326996198"
       ]
      },
      {
       "output_type": "stream",
       "stream": "stdout",
       "text": [
        " +/- 0.0423911071344\n",
        "29.8333333333 +/- 0.0423773608672\n",
        "29.8298969072"
       ]
      },
      {
       "output_type": "stream",
       "stream": "stdout",
       "text": [
        " +/- 0.0423681309882\n",
        "29.829989154"
       ]
      },
      {
       "output_type": "stream",
       "stream": "stdout",
       "text": [
        " +/- 0.0423576310387\n",
        "29.8319783198 +/- 0.0423469131008\n",
        "29.8334236186 +/- 0.0423350505962\n",
        "29.8327016784 +/- 0.0423221525347\n",
        "29.8333333333 +/- 0.0423084732125\n",
        "29.8299080584"
       ]
      },
      {
       "output_type": "stream",
       "stream": "stdout",
       "text": [
        " +/- 0.0422992882673\n",
        "29.83 +/- 0.0422888394071\n",
        "29.831982712"
       ]
      },
      {
       "output_type": "stream",
       "stream": "stdout",
       "text": [
        " +/- 0.0422781735931\n",
        "29.8334233261"
       ]
      },
      {
       "output_type": "stream",
       "stream": "stdout",
       "text": [
        " +/- 0.0422663687458\n",
        "29.8327037237"
       ]
      },
      {
       "output_type": "stream",
       "stream": "stdout",
       "text": [
        " +/- 0.0422535333345\n",
        "29.8333333333 +/- 0.0422399204159\n",
        "29.8299191375"
       ]
      },
      {
       "output_type": "stream",
       "stream": "stdout",
       "text": [
        " +/- 0.0422307800411\n",
        "29.8300107759"
       ]
      },
      {
       "output_type": "stream",
       "stream": "stdout",
       "text": [
        " +/- 0.0422203818571\n",
        "29.8319870759 +/- 0.0422097677459\n",
        "29.8334230355 +/- 0.0421980200904\n",
        "29.8327057558 +/- 0.0421852468238\n",
        "29.8333333333 +/- 0.0421716997731\n",
        "29.8299301451"
       ]
      },
      {
       "output_type": "stream",
       "stream": "stdout",
       "text": [
        " +/- 0.0421626036094\n",
        "29.8300214823"
       ]
      },
      {
       "output_type": "stream",
       "stream": "stdout",
       "text": [
        " +/- 0.0421522556934\n",
        "29.8319914117 +/- 0.0421416928686\n",
        "29.8334227468 +/- 0.0421300019445\n",
        "29.8327077748 +/- 0.0421172903227\n",
        "29.8333333333 +/- 0.0421038086106\n",
        "29.8299410819"
       ]
      },
      {
       "output_type": "stream",
       "stream": "stdout",
       "text": [
        " +/- 0.0420947563027\n",
        "29.8300321199 +/- 0.042084458251\n",
        "29.8319957196"
       ]
      },
      {
       "output_type": "stream",
       "stream": "stdout",
       "text": [
        " +/- 0.0420739463008\n",
        "29.8334224599 +/- 0.0420623116531\n",
        "29.8327097809 +/- 0.0420496611819\n",
        "29.8333333333 +/- 0.0420362442847\n",
        "29.8299519487"
       ]
      },
      {
       "output_type": "stream",
       "stream": "stdout",
       "text": [
        " +/- 0.0420272354814\n",
        "29.8300426894"
       ]
      },
      {
       "output_type": "stream",
       "stream": "stdout",
       "text": [
        " +/- 0.0420169868947\n",
        "29.832 +/- 0.0420065254122\n",
        "29.8334221748"
       ]
      },
      {
       "output_type": "stream",
       "stream": "stdout",
       "text": [
        " +/- 0.0419949465908\n",
        "29.8327117741 +/- 0.0419823567814\n",
        "29.8333333333"
       ]
      },
      {
       "output_type": "stream",
       "stream": "stdout",
       "text": [
        " +/- 0.0419690041815\n",
        "29.8299627461"
       ]
      },
      {
       "output_type": "stream",
       "stream": "stdout",
       "text": [
        " +/- 0.0419600385354\n",
        "29.8300531915 +/- 0.041949839019\n",
        "29.8320042531"
       ]
      },
      {
       "output_type": "stream",
       "stream": "stdout",
       "text": [
        " +/- 0.0419394276016\n",
        "29.8334218916"
       ]
      },
      {
       "output_type": "stream",
       "stream": "stdout",
       "text": [
        " +/- 0.0419279041614\n",
        "29.8327137546 +/- 0.0419153745306\n",
        "29.8333333333 +/- 0.0419020857161\n",
        "29.8299734748"
       ]
      },
      {
       "output_type": "stream",
       "stream": "stdout",
       "text": [
        " +/- 0.0418931628837\n",
        "29.8300636267 +/- 0.0418830120474\n",
        "29.8320084791 +/- 0.0418726502969\n",
        "29.8334216102 +/- 0.0418611817979\n",
        "29.8327157226 +/- 0.0418487118678\n",
        "29.8333333333 +/- 0.0418354863325\n",
        "29.8299841354"
       ]
      },
      {
       "output_type": "stream",
       "stream": "stdout",
       "text": [
        " +/- 0.0418266059741\n",
        "29.8300739958"
       ]
      },
      {
       "output_type": "stream",
       "stream": "stdout",
       "text": [
        " +/- 0.0418165034318\n",
        "29.8320126783 +/- 0.0418061909547\n",
        "29.8334213305 +/- 0.0417947769617\n",
        "29.8327176781 +/- 0.0417823662597\n",
        "29.8333333333"
       ]
      },
      {
       "output_type": "stream",
       "stream": "stdout",
       "text": [
        " +/- 0.0417692035029\n",
        "29.8299947285"
       ]
      },
      {
       "output_type": "stream",
       "stream": "stdout",
       "text": [
        " +/- 0.0417603652827\n",
        "29.8300842993"
       ]
      },
      {
       "output_type": "stream",
       "stream": "stdout",
       "text": [
        " +/- 0.0417503106526\n",
        "29.832016851 +/- 0.0417400470596\n",
        "29.8334210526"
       ]
      },
      {
       "output_type": "stream",
       "stream": "stdout",
       "text": [
        " +/- 0.0417286871422\n",
        "29.8327196213 +/- 0.041716335201\n",
        "29.8333333333 +/- 0.0417032347276\n",
        "29.8300052549"
       ]
      },
      {
       "output_type": "stream",
       "stream": "stdout",
       "text": [
        " +/- 0.0416944383133\n",
        "29.8300945378"
       ]
      },
      {
       "output_type": "stream",
       "stream": "stdout",
       "text": [
        " +/- 0.041684431218\n",
        "29.8320209974"
       ]
      },
      {
       "output_type": "stream",
       "stream": "stdout",
       "text": [
        " +/- 0.0416742161241\n",
        "29.8334207765"
       ]
      },
      {
       "output_type": "stream",
       "stream": "stdout",
       "text": [
        " +/- 0.0416629098567\n",
        "29.8327215522 +/- 0.0416506162139\n",
        "29.8333333333 +/- 0.0416375775343\n",
        "29.830015715"
       ]
      },
      {
       "output_type": "stream",
       "stream": "stdout",
       "text": [
        " +/- 0.0416288225974\n",
        "29.830104712"
       ]
      },
      {
       "output_type": "stream",
       "stream": "stdout",
       "text": [
        " +/- 0.0416188626635\n",
        "29.8320251177"
       ]
      },
      {
       "output_type": "stream",
       "stream": "stdout",
       "text": [
        " +/- 0.041608695688\n",
        "29.8334205021 +/- 0.0415974426495\n",
        "29.832723471 +/- 0.0415852068481\n",
        "29.8333333333 +/- 0.041572229478\n",
        "29.8300261097"
       ]
      },
      {
       "output_type": "stream",
       "stream": "stdout",
       "text": [
        " +/- 0.0415635156936\n",
        "29.8301148225 +/- 0.0415536025518\n",
        "29.8320292123"
       ]
      },
      {
       "output_type": "stream",
       "stream": "stdout",
       "text": [
        " +/- 0.041543483318\n",
        "29.8334202294 +/- 0.0415322830922\n",
        "29.8327253778 +/- 0.04152010468\n",
        "29.8333333333 +/- 0.0415071881404\n",
        "29.8300364394"
       ]
      },
      {
       "output_type": "stream",
       "stream": "stdout",
       "text": [
        " +/- 0.0414985151871\n",
        "29.8301248699"
       ]
      },
      {
       "output_type": "stream",
       "stream": "stdout",
       "text": [
        " +/- 0.0414886484721\n",
        "29.8320332813"
       ]
      },
      {
       "output_type": "stream",
       "stream": "stdout",
       "text": [
        " +/- 0.0414785766077\n",
        "29.8334199584 +/- 0.0414674287827\n",
        "29.8327272727 +/- 0.0414553073124\n",
        "29.8333333333 +/- 0.0414424511297\n",
        "29.8300467047"
       ]
      },
      {
       "output_type": "stream",
       "stream": "stdout",
       "text": [
        " +/- 0.0414338186895\n",
        "29.8301348548 +/- 0.0414239980401\n",
        "29.832037325 +/- 0.0414139731766\n",
        "29.8334196891 +/- 0.0414028773451\n",
        "29.8327291559 +/- 0.0413908123744\n",
        "29.8333333333 +/- 0.0413780160799\n",
        "29.8300569064"
       ]
      },
      {
       "output_type": "stream",
       "stream": "stdout",
       "text": [
        " +/- 0.0413694238385\n",
        "29.8301447777"
       ]
      },
      {
       "output_type": "stream",
       "stream": "stdout",
       "text": [
        " +/- 0.0413596488974\n",
        "29.8320413437"
       ]
      },
      {
       "output_type": "stream",
       "stream": "stdout",
       "text": [
        " +/- 0.0413496706703\n",
        "29.8334194215 +/- 0.0413386264293\n",
        "29.8327310274 +/- 0.0413266175207\n",
        "29.8333333333 +/- 0.0413138806508\n",
        "29.8300670449"
       ]
      },
      {
       "output_type": "stream",
       "stream": "stdout",
       "text": [
        " +/- 0.0413053282972\n",
        "29.8301546392 +/- 0.0412955987109\n",
        "29.8320453375"
       ]
      },
      {
       "output_type": "stream",
       "stream": "stdout",
       "text": [
        " +/- 0.0412856667597\n",
        "29.8334191555"
       ]
      },
      {
       "output_type": "stream",
       "stream": "stdout",
       "text": [
        " +/- 0.0412746737109\n",
        "29.8327328873"
       ]
      },
      {
       "output_type": "stream",
       "stream": "stdout",
       "text": [
        " +/- 0.0412627204315\n",
        "29.8333333333 +/- 0.0412500425278\n",
        "29.8300771208"
       ]
      },
      {
       "output_type": "stream",
       "stream": "stdout",
       "text": [
        " +/- 0.0412415297542\n",
        "29.8301644399 +/- 0.041231845173\n",
        "29.8320493066 +/- 0.0412219591412\n",
        "29.8334188912 +/- 0.0412110168901\n",
        "29.8327347358"
       ]
      },
      {
       "output_type": "stream",
       "stream": "stdout",
       "text": [
        " +/- 0.0411991188118\n",
        "29.8333333333 +/- 0.0411864994207\n",
        "29.8300871348"
       ]
      },
      {
       "output_type": "stream",
       "stream": "stdout",
       "text": [
        " +/- 0.0411780259228\n",
        "29.8301741803"
       ]
      },
      {
       "output_type": "stream",
       "stream": "stdout",
       "text": [
        " +/- 0.0411683860008\n",
        "29.8320532514 +/- 0.0411585455358\n",
        "29.8334186285"
       ]
      },
      {
       "output_type": "stream",
       "stream": "stdout",
       "text": [
        " +/- 0.0411476536924\n",
        "29.8327365729"
       ]
      },
      {
       "output_type": "stream",
       "stream": "stdout",
       "text": [
        " +/- 0.0411358103916\n",
        "29.8333333333 +/- 0.0411232490643\n",
        "29.8300970874"
       ]
      },
      {
       "output_type": "stream",
       "stream": "stdout",
       "text": [
        " +/- 0.0411148145411\n",
        "29.8301838611"
       ]
      },
      {
       "output_type": "stream",
       "stream": "stdout",
       "text": [
        " +/- 0.0411052189362\n",
        "29.832057172 +/- 0.0410954236887\n",
        "29.8334183673 +/- 0.0410845818673\n",
        "29.8327383988"
       ]
      },
      {
       "output_type": "stream",
       "stream": "stdout",
       "text": [
        " +/- 0.041072792925\n",
        "29.8333333333 +/- 0.0410602892176\n",
        "29.8301069791"
       ]
      },
      {
       "output_type": "stream",
       "stream": "stdout",
       "text": [
        " +/- 0.0410518933712\n",
        "29.8301934827 +/- 0.0410423417448\n",
        "29.8320610687"
       ]
      },
      {
       "output_type": "stream",
       "stream": "stdout",
       "text": [
        " +/- 0.0410325913698\n",
        "29.8334181078 +/- 0.0410217991886\n",
        "29.8327402135 +/- 0.0410100641901\n",
        "29.8333333333 +/- 0.0409976176636\n",
        "29.8301168106"
       ]
      },
      {
       "output_type": "stream",
       "stream": "stdout",
       "text": [
        " +/- 0.0409892601993\n",
        "29.8302030457"
       ]
      },
      {
       "output_type": "stream",
       "stream": "stdout",
       "text": [
        " +/- 0.0409797522165\n",
        "29.8320649417 +/- 0.0409700463724\n",
        "29.8334178499"
       ]
      },
      {
       "output_type": "stream",
       "stream": "stdout",
       "text": [
        " +/- 0.0409593034537\n",
        "29.8327420172 +/- 0.040947621989\n",
        "29.8333333333 +/- 0.0409352322087\n",
        "29.8301265823"
       ]
      },
      {
       "output_type": "stream",
       "stream": "stdout",
       "text": [
        " +/- 0.0409269128349\n",
        "29.8302125506 +/- 0.0409174481644\n",
        "29.8320687911"
       ]
      },
      {
       "output_type": "stream",
       "stream": "stdout",
       "text": [
        " +/- 0.0409077865132\n",
        "29.8334175935"
       ]
      },
      {
       "output_type": "stream",
       "stream": "stdout",
       "text": [
        " +/- 0.0408970924835\n",
        "29.83274381 +/- 0.0408854641468\n",
        "29.8333333333 +/- 0.0408731306829\n",
        "29.8301362948"
       ]
      },
      {
       "output_type": "stream",
       "stream": "stdout",
       "text": [
        " +/- 0.0408648491112\n",
        "29.830221998"
       ]
      },
      {
       "output_type": "stream",
       "stream": "stdout",
       "text": [
        " +/- 0.0408554274251\n",
        "29.8320726172"
       ]
      },
      {
       "output_type": "stream",
       "stream": "stdout",
       "text": [
        " +/- 0.0408458096325\n",
        "29.8334173387"
       ]
      },
      {
       "output_type": "stream",
       "stream": "stdout",
       "text": [
        " +/- 0.0408351641219\n",
        "29.8327455919 +/- 0.0408235885117\n",
        "29.8333333333 +/- 0.0408113109389\n",
        "29.8301459487"
       ]
      },
      {
       "output_type": "stream",
       "stream": "stdout",
       "text": [
        " +/- 0.0408030668838\n",
        "29.8302313883 +/- 0.0407936878577\n",
        "29.8320764203"
       ]
      },
      {
       "output_type": "stream",
       "stream": "stdout",
       "text": [
        " +/- 0.0407841135929\n",
        "29.8334170854 +/- 0.0407735162358\n",
        "29.8327473631"
       ]
      },
      {
       "output_type": "stream",
       "stream": "stdout",
       "text": [
        " +/- 0.0407619929548\n",
        "29.8333333333 +/- 0.0407497708522\n",
        "29.8301555444"
       ]
      },
      {
       "output_type": "stream",
       "stream": "stdout",
       "text": [
        " +/- 0.0407415640314\n",
        "29.8302407222"
       ]
      },
      {
       "output_type": "stream",
       "stream": "stdout",
       "text": [
        " +/- 0.0407322273444\n",
        "29.8320802005"
       ]
      },
      {
       "output_type": "stream",
       "stream": "stdout",
       "text": [
        " +/- 0.04072269628\n",
        "29.8334168337 +/- 0.0407121467144\n",
        "29.8327491237 +/- 0.0407006753695\n",
        "29.8333333333 +/- 0.0406885083207\n",
        "29.8301650825"
       ]
      },
      {
       "output_type": "stream",
       "stream": "stdout",
       "text": [
        " +/- 0.0406803384546\n",
        "29.83025"
       ]
      },
      {
       "output_type": "stream",
       "stream": "stdout",
       "text": [
        " +/- 0.0406710437891\n",
        "29.832083958 +/- 0.0406615556013\n",
        "29.8334165834"
       ]
      },
      {
       "output_type": "stream",
       "stream": "stdout",
       "text": [
        " +/- 0.0406510534691\n",
        "29.8327508737 +/- 0.0406396336713\n",
        "29.8333333333 +/- 0.0406275212642\n",
        "29.8301745636"
       ]
      },
      {
       "output_type": "stream",
       "stream": "stdout",
       "text": [
        " +/- 0.0406193880764\n",
        "29.8302592223"
       ]
      },
      {
       "output_type": "stream",
       "stream": "stdout",
       "text": [
        " +/- 0.0406101351182\n",
        "29.8320876931 +/- 0.0406006894863\n",
        "29.8334163347"
       ]
      },
      {
       "output_type": "stream",
       "stream": "stdout",
       "text": [
        " +/- 0.0405902344331\n",
        "29.8327526132 +/- 0.0405788657976\n",
        "29.8333333333 +/- 0.0405668076244\n",
        "29.8301839881"
       ]
      },
      {
       "output_type": "stream",
       "stream": "stdout",
       "text": [
        " +/- 0.0405587108413\n",
        "29.8302683897"
       ]
      },
      {
       "output_type": "stream",
       "stream": "stdout",
       "text": [
        " +/- 0.0405494992793\n",
        "29.8320914059"
       ]
      },
      {
       "output_type": "stream",
       "stream": "stdout",
       "text": [
        " +/- 0.0405400958862\n",
        "29.8334160874 +/- 0.0405296875613\n",
        "29.8327543424 +/- 0.0405183697072\n",
        "29.8333333333 +/- 0.0405063653644\n",
        "29.8301933565"
       ]
      },
      {
       "output_type": "stream",
       "stream": "stdout",
       "text": [
        " +/- 0.0404983047152\n",
        "29.8302775025"
       ]
      },
      {
       "output_type": "stream",
       "stream": "stdout",
       "text": [
        " +/- 0.0404891342417\n",
        "29.8320950966 +/- 0.0404797727736\n",
        "29.8334158416 +/- 0.0404694108299\n",
        "29.8327560614"
       ]
      },
      {
       "output_type": "stream",
       "stream": "stdout",
       "text": [
        " +/- 0.0404581433803\n",
        "29.8333333333 +/- 0.0404461924686\n",
        "29.8302026693"
       ]
      },
      {
       "output_type": "stream",
       "stream": "stdout",
       "text": [
        " +/- 0.0404381676853\n",
        "29.8302865613"
       ]
      },
      {
       "output_type": "stream",
       "stream": "stdout",
       "text": [
        " +/- 0.0404290379957\n",
        "29.8320987654 +/- 0.040419718142\n",
        "29.8334155972 +/- 0.0404094022361\n",
        "29.8327577701 +/- 0.0403981848179\n",
        "29.8333333333 +/- 0.040386286942\n",
        "29.8302119271"
       ]
      },
      {
       "output_type": "stream",
       "stream": "stdout",
       "text": [
        " +/- 0.0403782977595\n",
        "29.8302955665 +/- 0.0403692085524\n",
        "29.8321024126 +/- 0.0403599300057\n",
        "29.8334153543 +/- 0.0403496597977\n",
        "29.8327594688"
       ]
      },
      {
       "output_type": "stream",
       "stream": "stdout",
       "text": [
        " +/- 0.0403384920418\n",
        "29.8333333333 +/- 0.0403266468106\n",
        "29.8302211302"
       ]
      },
      {
       "output_type": "stream",
       "stream": "stdout",
       "text": [
        " +/- 0.0403186929664\n",
        "29.8303045187 +/- 0.0403096439436\n",
        "29.8321060383 +/- 0.0403004063995\n",
        "29.8334151129 +/- 0.040290181553\n",
        "29.8327611574"
       ]
      },
      {
       "output_type": "stream",
       "stream": "stdout",
       "text": [
        " +/- 0.040279063094\n",
        "29.8333333333"
       ]
      },
      {
       "output_type": "stream",
       "stream": "stdout",
       "text": [
        " +/- 0.0402672701205\n",
        "29.8302302793"
       ]
      },
      {
       "output_type": "stream",
       "stream": "stdout",
       "text": [
        " +/- 0.0402593513548\n",
        "29.8303134182 +/- 0.040250342221\n",
        "29.8321096427"
       ]
      },
      {
       "output_type": "stream",
       "stream": "stdout",
       "text": [
        " +/- 0.0402411453786\n",
        "29.8334148728"
       ]
      },
      {
       "output_type": "stream",
       "stream": "stdout",
       "text": [
        " +/- 0.0402309655607\n",
        "29.8327628362 +/- 0.0402198960369\n",
        "29.8333333333 +/- 0.040208154938\n",
        "29.8302393747"
       ]
      },
      {
       "output_type": "stream",
       "stream": "stdout",
       "text": [
        " +/- 0.0402002709937\n",
        "29.8303222656"
       ]
      },
      {
       "output_type": "stream",
       "stream": "stdout",
       "text": [
        " +/- 0.0401913014567\n",
        "29.832113226 +/- 0.0401821450179\n",
        "29.8334146341 +/- 0.040172009899\n",
        "29.8327645051 +/- 0.0401609889526\n",
        "29.8333333333 +/- 0.0401492993491\n",
        "29.830248417"
       ]
      },
      {
       "output_type": "stream",
       "stream": "stdout",
       "text": [
        " +/- 0.0401414499718\n",
        "29.8303310613 +/- 0.0401325197424\n",
        "29.8321167883 +/- 0.0401234034123\n",
        "29.8334143969 +/- 0.0401133126662\n",
        "29.8327661643 +/- 0.0401023399429\n",
        "29.8333333333 +/- 0.0400907014594\n",
        "29.8302574065"
       ]
      },
      {
       "output_type": "stream",
       "stream": "stdout",
       "text": [
        " +/- 0.0400828863973\n",
        "29.8303398058"
       ]
      },
      {
       "output_type": "stream",
       "stream": "stdout",
       "text": [
        " +/- 0.0400739951892\n",
        "29.8321203299 +/- 0.0400649186757\n",
        "29.833414161 +/- 0.0400548719797\n",
        "29.8327678139 +/- 0.0400439471289\n",
        "29.8333333333 +/- 0.0400323593939\n",
        "29.8302663438"
       ]
      },
      {
       "output_type": "stream",
       "stream": "stdout",
       "text": [
        " +/- 0.0400245783976\n",
        "29.8303484995"
       ]
      },
      {
       "output_type": "stream",
       "stream": "stdout",
       "text": [
        " +/- 0.0400157259275\n",
        "29.832123851"
       ]
      },
      {
       "output_type": "stream",
       "stream": "stdout",
       "text": [
        " +/- 0.0400066889417\n",
        "29.8334139265 +/- 0.0399966859761\n",
        "29.8327694538 +/- 0.0399858086506\n",
        "29.8333333333"
       ]
      },
      {
       "output_type": "stream",
       "stream": "stdout",
       "text": [
        " +/- 0.0399742712964\n",
        "29.8302752294"
       ]
      },
      {
       "output_type": "stream",
       "stream": "stdout",
       "text": [
        " +/- 0.0399665241192\n",
        "29.8303571429"
       ]
      },
      {
       "output_type": "stream",
       "stream": "stdout",
       "text": [
        " +/- 0.0399577101066\n",
        "29.8321273517 +/- 0.0399487123624\n",
        "29.8334136933 +/- 0.0399387528109\n",
        "29.8327710843 +/- 0.0399279226673\n",
        "29.8333333333 +/- 0.0399164353299\n",
        "29.8302840636"
       ]
      },
      {
       "output_type": "stream",
       "stream": "stdout",
       "text": [
        " +/- 0.0399087217274\n",
        "29.8303657363"
       ]
      },
      {
       "output_type": "stream",
       "stream": "stdout",
       "text": [
        " +/- 0.0398999458947\n",
        "29.8321308321 +/- 0.0398909871089\n",
        "29.8334134615"
       ]
      },
      {
       "output_type": "stream",
       "stream": "stdout",
       "text": [
        " +/- 0.0398810706584\n",
        "29.8327727054"
       ]
      },
      {
       "output_type": "stream",
       "stream": "stdout",
       "text": [
        " +/- 0.0398702873565\n",
        "29.8333333333 +/- 0.0398588496755\n",
        "29.8302928469"
       ]
      },
      {
       "output_type": "stream",
       "stream": "stdout",
       "text": [
        " +/- 0.039851169406\n",
        "29.8303742802 +/- 0.0398424314783\n",
        "29.8321342926 +/- 0.0398335113705\n",
        "29.8334132311"
       ]
      },
      {
       "output_type": "stream",
       "stream": "stdout",
       "text": [
        " +/- 0.0398236377111\n",
        "29.8327743172"
       ]
      },
      {
       "output_type": "stream",
       "stream": "stdout",
       "text": [
        " +/- 0.0398129009141\n",
        "29.8333333333 +/- 0.0398015125328\n",
        "29.8303015797"
       ]
      },
      {
       "output_type": "stream",
       "stream": "stdout",
       "text": [
        " +/- 0.039793865357\n",
        "29.8303827751 +/- 0.0397851650622\n",
        "29.8321377331"
       ]
      },
      {
       "output_type": "stream",
       "stream": "stdout",
       "text": [
        " +/- 0.039776283355\n",
        "29.8334130019 +/- 0.0397664521797\n",
        "29.8327759197 +/- 0.0397557615545\n",
        "29.8333333333 +/- 0.0397444221197\n",
        "29.8303102625"
       ]
      },
      {
       "output_type": "stream",
       "stream": "stdout",
       "text": [
        " +/- 0.0397368078004\n",
        "29.8303912214 +/- 0.0397281448692\n",
        "29.832141154 +/- 0.0397193012879\n",
        "29.8334127741 +/- 0.039709512293\n",
        "29.8327775131 +/- 0.0396988675094\n",
        "29.8333333333 +/- 0.0396875766716\n",
        "29.8303188958"
       ]
      },
      {
       "output_type": "stream",
       "stream": "stdout",
       "text": [
        " +/- 0.0396799949743\n",
        "29.8303996194 +/- 0.03967136914\n",
        "29.8321445554 +/- 0.0396625634126\n",
        "29.8334125475 +/- 0.0396528162972\n",
        "29.8327790974 +/- 0.0396422170287\n",
        "29.8333333333"
       ]
      },
      {
       "output_type": "stream",
       "stream": "stdout",
       "text": [
        " +/- 0.0396309744417\n",
        "29.8303274798"
       ]
      },
      {
       "output_type": "stream",
       "stream": "stdout",
       "text": [
        " +/- 0.0396234251342\n",
        "29.8304079696 +/- 0.0396148361327\n",
        "29.8321479374"
       ]
      },
      {
       "output_type": "stream",
       "stream": "stdout",
       "text": [
        " +/- 0.0396060679899\n",
        "29.8334123223 +/- 0.0395963624564\n",
        "29.8327806727 +/- 0.0395858083794\n",
        "29.8333333333 +/- 0.0395746137006\n",
        "29.8303360151"
       ]
      },
      {
       "output_type": "stream",
       "stream": "stdout",
       "text": [
        " +/- 0.0395670965528\n",
        "29.8304162725"
       ]
      },
      {
       "output_type": "stream",
       "stream": "stdout",
       "text": [
        " +/- 0.0395585441229\n",
        "29.8321513002 +/- 0.039549813298\n",
        "29.8334120983 +/- 0.0395401490515\n",
        "29.832782239 +/- 0.0395296398459\n",
        "29.8333333333"
       ]
      },
      {
       "output_type": "stream",
       "stream": "stdout",
       "text": [
        " +/- 0.0395184927358\n",
        "29.8303445021"
       ]
      },
      {
       "output_type": "stream",
       "stream": "stdout",
       "text": [
        " +/- 0.0395110075201\n",
        "29.8304245283"
       ]
      },
      {
       "output_type": "stream",
       "stream": "stdout",
       "text": [
        " +/- 0.0395024914029\n",
        "29.832154644 +/- 0.039493797632\n",
        "29.8334118756"
       ]
      },
      {
       "output_type": "stream",
       "stream": "stdout",
       "text": [
        " +/- 0.0394841743807\n",
        "29.8327837965"
       ]
      },
      {
       "output_type": "stream",
       "stream": "stdout",
       "text": [
        " +/- 0.0394737097294\n",
        "29.8333333333 +/- 0.0394626098523\n",
        "29.8303529412"
       ]
      },
      {
       "output_type": "stream",
       "stream": "stdout",
       "text": [
        " +/- 0.0394551563432\n",
        "29.8304327375"
       ]
      },
      {
       "output_type": "stream",
       "stream": "stdout",
       "text": [
        " +/- 0.0394466762825\n",
        "29.832157969 +/- 0.0394380193042\n",
        "29.8334116541 +/- 0.0394284367589\n",
        "29.8327853452 +/- 0.039418016348\n",
        "29.8333333333 +/- 0.0394069633712\n",
        "29.8303613327"
       ]
      },
      {
       "output_type": "stream",
       "stream": "stdout",
       "text": [
        " +/- 0.0393995413456\n",
        "29.8304409006 +/- 0.0393910970876\n",
        "29.8321612752 +/- 0.0393824766432\n",
        "29.8334114339 +/- 0.0393729345179\n",
        "29.8327868852 +/- 0.0393625580365\n",
        "29.8333333333 +/- 0.0393515516306\n",
        "29.8303696771"
       ]
      },
      {
       "output_type": "stream",
       "stream": "stdout",
       "text": [
        " +/- 0.0393441608674\n",
        "29.8304490178 +/- 0.0393357521609\n",
        "29.8321645629 +/- 0.0393271679941\n",
        "29.833411215 +/- 0.0393176660054\n",
        "29.8327884166 +/- 0.0393073331457\n",
        "29.8333333333 +/- 0.0392963729847\n",
        "29.8303779748"
       ]
      },
      {
       "output_type": "stream",
       "stream": "stdout",
       "text": [
        " +/- 0.039289013265\n",
        "29.8304570896 +/- 0.0392806398613\n",
        "29.8321678322"
       ]
      },
      {
       "output_type": "stream",
       "stream": "stdout",
       "text": [
        " +/- 0.0392720917184\n",
        "29.8334109972"
       ]
      },
      {
       "output_type": "stream",
       "stream": "stdout",
       "text": [
        " +/- 0.0392626295856\n",
        "29.8327899395 +/- 0.039252340043\n",
        "29.8333333333 +/- 0.0392414258038\n",
        "29.8303862262"
       ]
      },
      {
       "output_type": "stream",
       "stream": "stdout",
       "text": [
        " +/- 0.0392340969109\n",
        "29.8304651163 +/- 0.0392257585636\n",
        "29.8321710832 +/- 0.0392172461934\n",
        "29.8334107807 +/- 0.0392078236388\n",
        "29.8327914538"
       ]
      },
      {
       "output_type": "stream",
       "stream": "stdout",
       "text": [
        " +/- 0.0391975771112\n",
        "29.8333333333"
       ]
      },
      {
       "output_type": "stream",
       "stream": "stdout",
       "text": [
        " +/- 0.0391867084742\n",
        "29.8303944316"
       ]
      },
      {
       "output_type": "stream",
       "stream": "stdout",
       "text": [
        " +/- 0.0391794101935\n",
        "29.8304730983 +/- 0.0391711066588\n",
        "29.8321743162"
       ]
      },
      {
       "output_type": "stream",
       "stream": "stdout",
       "text": [
        " +/- 0.0391626298123\n",
        "29.8334105653"
       ]
      },
      {
       "output_type": "stream",
       "stream": "stdout",
       "text": [
        " +/- 0.0391532465607\n",
        "29.8327929597 +/- 0.0391430427495\n",
        "29.8333333333 +/- 0.0391322193978\n",
        "29.8304025914"
       ]
      },
      {
       "output_type": "stream",
       "stream": "stdout",
       "text": [
        " +/- 0.0391249515169\n",
        "29.8304810361"
       ]
      },
      {
       "output_type": "stream",
       "stream": "stdout",
       "text": [
        " +/- 0.039116682553\n",
        "29.8321775312 +/- 0.039108240984\n",
        "29.8334103512 +/- 0.0390988967629\n",
        "29.8327944573 +/- 0.039088735372\n",
        "29.8333333333 +/- 0.0390779569921\n",
        "29.830410706"
       ]
      },
      {
       "output_type": "stream",
       "stream": "stdout",
       "text": [
        " +/- 0.0390707193005\n",
        "29.8304889299 +/- 0.0390624846683\n",
        "29.8321807284"
       ]
      },
      {
       "output_type": "stream",
       "stream": "stdout",
       "text": [
        " +/- 0.0390540781327\n",
        "29.8334101382 +/- 0.0390447726723\n",
        "29.8327959466 +/- 0.0390346534086\n",
        "29.8333333333 +/- 0.0390239196899\n",
        "29.8304187759"
       ]
      },
      {
       "output_type": "stream",
       "stream": "stdout",
       "text": [
        " +/- 0.0390167119792\n",
        "29.8304967801"
       ]
      },
      {
       "output_type": "stream",
       "stream": "stdout",
       "text": [
        " +/- 0.0390085114418\n",
        "29.832183908 +/- 0.039000139698\n",
        "29.8334099265"
       ]
      },
      {
       "output_type": "stream",
       "stream": "stdout",
       "text": [
        " +/- 0.038990872731\n",
        "29.8327974277 +/- 0.0389807953042\n",
        "29.8333333333 +/- 0.0389701059392\n",
        "29.8304268013"
       ]
      },
      {
       "output_type": "stream",
       "stream": "stdout",
       "text": [
        " +/- 0.0389629280028\n",
        "29.8305045872"
       ]
      },
      {
       "output_type": "stream",
       "stream": "stdout",
       "text": [
        " +/- 0.0389547613256\n",
        "29.8321870702 +/- 0.0389464241343\n",
        "29.8334097159 +/- 0.0389371953961\n",
        "29.8327989006 +/- 0.0389271595187\n",
        "29.8333333333 +/- 0.0389165142027\n",
        "29.8304347826"
       ]
      },
      {
       "output_type": "stream",
       "stream": "stdout",
       "text": [
        " +/- 0.0389093658363\n",
        "29.8305123513"
       ]
      },
      {
       "output_type": "stream",
       "stream": "stdout",
       "text": [
        " +/- 0.0389012327869\n",
        "29.8321902149 +/- 0.038892929911\n",
        "29.8334095064"
       ]
      },
      {
       "output_type": "stream",
       "stream": "stdout",
       "text": [
        " +/- 0.0388837391395\n",
        "29.8328003655 +/- 0.0388737445267\n",
        "29.8333333333"
       ]
      },
      {
       "output_type": "stream",
       "stream": "stdout",
       "text": [
        " +/- 0.0388631429581\n",
        "29.8304427202"
       ]
      },
      {
       "output_type": "stream",
       "stream": "stdout",
       "text": [
        " +/- 0.0388560239593\n",
        "29.830520073"
       ]
      },
      {
       "output_type": "stream",
       "stream": "stdout",
       "text": [
        " +/- 0.0388479243075\n",
        "29.8321933425 +/- 0.0388396555122\n",
        "29.8334092981 +/- 0.0388305024478\n",
        "29.8328018223 +/- 0.0388205488177\n",
        "29.8333333333 +/- 0.0388099906976\n",
        "29.8304506145"
       ]
      },
      {
       "output_type": "stream",
       "stream": "stdout",
       "text": [
        " +/- 0.0388029008658\n",
        "29.8305277525"
       ]
      },
      {
       "output_type": "stream",
       "stream": "stdout",
       "text": [
        " +/- 0.0387948343837\n",
        "29.8321964529"
       ]
      },
      {
       "output_type": "stream",
       "stream": "stdout",
       "text": [
        " +/- 0.0387865994365\n",
        "29.8334090909 +/- 0.038777483822\n",
        "29.8328032712 +/- 0.0387675708953\n",
        "29.8333333333 +/- 0.0387570559278\n",
        "29.8304584657"
       ]
      },
      {
       "output_type": "stream",
       "stream": "stdout",
       "text": [
        " +/- 0.0387499950643\n",
        "29.8305353902 +/- 0.0387419615261\n",
        "29.8321995465"
       ]
      },
      {
       "output_type": "stream",
       "stream": "stdout",
       "text": [
        " +/- 0.0387337601968\n",
        "29.8334088849 +/- 0.0387246817775\n",
        "29.8328047123"
       ]
      },
      {
       "output_type": "stream",
       "stream": "stdout",
       "text": [
        " +/- 0.0387148092776\n",
        "29.8333333333 +/- 0.0387043371694\n",
        "29.8304662743"
       ]
      },
      {
       "output_type": "stream",
       "stream": "stdout",
       "text": [
        " +/- 0.0386973050776\n",
        "29.8305429864"
       ]
      },
      {
       "output_type": "stream",
       "stream": "stdout",
       "text": [
        " +/- 0.0386893042597\n",
        "29.8322026232 +/- 0.0386811363201\n",
        "29.8334086799 +/- 0.0386720948438\n",
        "29.8328061455 +/- 0.0386622624965\n",
        "29.8333333333 +/- 0.0386518329573\n"
       ]
      },
      {
       "output_type": "stream",
       "stream": "stderr",
       "text": [
        "-c:28: RuntimeWarning: divide by zero encountered in double_scalars\n"
       ]
      },
      {
       "ename": "KeyboardInterrupt",
       "evalue": "",
       "output_type": "pyerr",
       "traceback": [
        "\u001b[0;31m---------------------------------------------------------------------------\u001b[0m\n\u001b[0;31mKeyboardInterrupt\u001b[0m                         Traceback (most recent call last)",
        "\u001b[0;32m<ipython-input-22-8618085639a2>\u001b[0m in \u001b[0;36m<module>\u001b[0;34m()\u001b[0m\n\u001b[1;32m     22\u001b[0m     \u001b[0mresults\u001b[0m \u001b[0;34m=\u001b[0m \u001b[0mrv\u001b[0m\u001b[0;34m.\u001b[0m\u001b[0mmap_async\u001b[0m\u001b[0;34m(\u001b[0m\u001b[0mrun_ensemble\u001b[0m\u001b[0;34m,\u001b[0m \u001b[0;34m[\u001b[0m\u001b[0mmodel\u001b[0m\u001b[0;34m]\u001b[0m\u001b[0;34m*\u001b[0m\u001b[0mnum_chunks\u001b[0m\u001b[0;34m,\u001b[0m\u001b[0;34m[\u001b[0m\u001b[0mnumber_of_trajectories\u001b[0m\u001b[0;34m]\u001b[0m\u001b[0;34m*\u001b[0m\u001b[0mnum_chunks\u001b[0m\u001b[0;34m,\u001b[0m\u001b[0mrange\u001b[0m\u001b[0;34m(\u001b[0m\u001b[0mnum_chunks\u001b[0m\u001b[0;34m)\u001b[0m\u001b[0;34m)\u001b[0m\u001b[0;34m\u001b[0m\u001b[0m\n\u001b[1;32m     23\u001b[0m \u001b[0;34m\u001b[0m\u001b[0m\n\u001b[0;32m---> 24\u001b[0;31m     \u001b[0;32mfor\u001b[0m \u001b[0mresult\u001b[0m \u001b[0;32min\u001b[0m \u001b[0menumerate\u001b[0m\u001b[0;34m(\u001b[0m\u001b[0mresults\u001b[0m\u001b[0;34m)\u001b[0m\u001b[0;34m:\u001b[0m\u001b[0;34m\u001b[0m\u001b[0m\n\u001b[0m\u001b[1;32m     25\u001b[0m         \u001b[0mA\u001b[0m\u001b[0;34m.\u001b[0m\u001b[0mappend\u001b[0m\u001b[0;34m(\u001b[0m\u001b[0mresult\u001b[0m\u001b[0;34m)\u001b[0m\u001b[0;34m\u001b[0m\u001b[0m\n\u001b[1;32m     26\u001b[0m         \u001b[0mmeanvalue\u001b[0m \u001b[0;34m=\u001b[0m \u001b[0mnumpy\u001b[0m\u001b[0;34m.\u001b[0m\u001b[0mmean\u001b[0m\u001b[0;34m(\u001b[0m\u001b[0mA\u001b[0m\u001b[0;34m)\u001b[0m\u001b[0;34m\u001b[0m\u001b[0m\n",
        "\u001b[0;32m/Users/andreash/github/ipython/IPython/parallel/client/asyncresult.pyc\u001b[0m in \u001b[0;36m__iter__\u001b[0;34m(self)\u001b[0m\n\u001b[1;32m    584\u001b[0m     \u001b[0;32mdef\u001b[0m \u001b[0m__iter__\u001b[0m\u001b[0;34m(\u001b[0m\u001b[0mself\u001b[0m\u001b[0;34m)\u001b[0m\u001b[0;34m:\u001b[0m\u001b[0;34m\u001b[0m\u001b[0m\n\u001b[1;32m    585\u001b[0m         \u001b[0mit\u001b[0m \u001b[0;34m=\u001b[0m \u001b[0mself\u001b[0m\u001b[0;34m.\u001b[0m\u001b[0m_ordered_iter\u001b[0m \u001b[0;32mif\u001b[0m \u001b[0mself\u001b[0m\u001b[0;34m.\u001b[0m\u001b[0mordered\u001b[0m \u001b[0;32melse\u001b[0m \u001b[0mself\u001b[0m\u001b[0;34m.\u001b[0m\u001b[0m_unordered_iter\u001b[0m\u001b[0;34m\u001b[0m\u001b[0m\n\u001b[0;32m--> 586\u001b[0;31m         \u001b[0;32mfor\u001b[0m \u001b[0mr\u001b[0m \u001b[0;32min\u001b[0m \u001b[0mit\u001b[0m\u001b[0;34m(\u001b[0m\u001b[0;34m)\u001b[0m\u001b[0;34m:\u001b[0m\u001b[0;34m\u001b[0m\u001b[0m\n\u001b[0m\u001b[1;32m    587\u001b[0m             \u001b[0;32myield\u001b[0m \u001b[0mr\u001b[0m\u001b[0;34m\u001b[0m\u001b[0m\n\u001b[1;32m    588\u001b[0m \u001b[0;34m\u001b[0m\u001b[0m\n",
        "\u001b[0;32m/Users/andreash/github/ipython/IPython/parallel/client/asyncresult.pyc\u001b[0m in \u001b[0;36m_ordered_iter\u001b[0;34m(self)\u001b[0m\n\u001b[1;32m    596\u001b[0m             \u001b[0;32mfor\u001b[0m \u001b[0mmsg_id\u001b[0m \u001b[0;32min\u001b[0m \u001b[0mself\u001b[0m\u001b[0;34m.\u001b[0m\u001b[0mmsg_ids\u001b[0m\u001b[0;34m:\u001b[0m\u001b[0;34m\u001b[0m\u001b[0m\n\u001b[1;32m    597\u001b[0m                 \u001b[0mar\u001b[0m \u001b[0;34m=\u001b[0m \u001b[0mAsyncResult\u001b[0m\u001b[0;34m(\u001b[0m\u001b[0mself\u001b[0m\u001b[0;34m.\u001b[0m\u001b[0m_client\u001b[0m\u001b[0;34m,\u001b[0m \u001b[0mmsg_id\u001b[0m\u001b[0;34m,\u001b[0m \u001b[0mself\u001b[0m\u001b[0;34m.\u001b[0m\u001b[0m_fname\u001b[0m\u001b[0;34m)\u001b[0m\u001b[0;34m\u001b[0m\u001b[0m\n\u001b[0;32m--> 598\u001b[0;31m                 \u001b[0mrlist\u001b[0m \u001b[0;34m=\u001b[0m \u001b[0mar\u001b[0m\u001b[0;34m.\u001b[0m\u001b[0mget\u001b[0m\u001b[0;34m(\u001b[0m\u001b[0;34m)\u001b[0m\u001b[0;34m\u001b[0m\u001b[0m\n\u001b[0m\u001b[1;32m    599\u001b[0m                 \u001b[0;32mtry\u001b[0m\u001b[0;34m:\u001b[0m\u001b[0;34m\u001b[0m\u001b[0m\n\u001b[1;32m    600\u001b[0m                     \u001b[0;32mfor\u001b[0m \u001b[0mr\u001b[0m \u001b[0;32min\u001b[0m \u001b[0mrlist\u001b[0m\u001b[0;34m:\u001b[0m\u001b[0;34m\u001b[0m\u001b[0m\n",
        "\u001b[0;32m/Users/andreash/github/ipython/IPython/parallel/client/asyncresult.pyc\u001b[0m in \u001b[0;36mget\u001b[0;34m(self, timeout)\u001b[0m\n\u001b[1;32m     96\u001b[0m         \"\"\"\n\u001b[1;32m     97\u001b[0m         \u001b[0;32mif\u001b[0m \u001b[0;32mnot\u001b[0m \u001b[0mself\u001b[0m\u001b[0;34m.\u001b[0m\u001b[0mready\u001b[0m\u001b[0;34m(\u001b[0m\u001b[0;34m)\u001b[0m\u001b[0;34m:\u001b[0m\u001b[0;34m\u001b[0m\u001b[0m\n\u001b[0;32m---> 98\u001b[0;31m             \u001b[0mself\u001b[0m\u001b[0;34m.\u001b[0m\u001b[0mwait\u001b[0m\u001b[0;34m(\u001b[0m\u001b[0mtimeout\u001b[0m\u001b[0;34m)\u001b[0m\u001b[0;34m\u001b[0m\u001b[0m\n\u001b[0m\u001b[1;32m     99\u001b[0m \u001b[0;34m\u001b[0m\u001b[0m\n\u001b[1;32m    100\u001b[0m         \u001b[0;32mif\u001b[0m \u001b[0mself\u001b[0m\u001b[0;34m.\u001b[0m\u001b[0m_ready\u001b[0m\u001b[0;34m:\u001b[0m\u001b[0;34m\u001b[0m\u001b[0m\n",
        "\u001b[0;32m/Users/andreash/github/ipython/IPython/parallel/client/asyncresult.pyc\u001b[0m in \u001b[0;36mwait\u001b[0;34m(self, timeout)\u001b[0m\n\u001b[1;32m    127\u001b[0m             \u001b[0mself\u001b[0m\u001b[0;34m.\u001b[0m\u001b[0m_wait_for_outputs\u001b[0m\u001b[0;34m(\u001b[0m\u001b[0mtimeout\u001b[0m\u001b[0;34m)\u001b[0m\u001b[0;34m\u001b[0m\u001b[0m\n\u001b[1;32m    128\u001b[0m             \u001b[0;32mreturn\u001b[0m\u001b[0;34m\u001b[0m\u001b[0m\n\u001b[0;32m--> 129\u001b[0;31m         \u001b[0mself\u001b[0m\u001b[0;34m.\u001b[0m\u001b[0m_ready\u001b[0m \u001b[0;34m=\u001b[0m \u001b[0mself\u001b[0m\u001b[0;34m.\u001b[0m\u001b[0m_client\u001b[0m\u001b[0;34m.\u001b[0m\u001b[0mwait\u001b[0m\u001b[0;34m(\u001b[0m\u001b[0mself\u001b[0m\u001b[0;34m.\u001b[0m\u001b[0mmsg_ids\u001b[0m\u001b[0;34m,\u001b[0m \u001b[0mtimeout\u001b[0m\u001b[0;34m)\u001b[0m\u001b[0;34m\u001b[0m\u001b[0m\n\u001b[0m\u001b[1;32m    130\u001b[0m         \u001b[0;32mif\u001b[0m \u001b[0mself\u001b[0m\u001b[0;34m.\u001b[0m\u001b[0m_ready\u001b[0m\u001b[0;34m:\u001b[0m\u001b[0;34m\u001b[0m\u001b[0m\n\u001b[1;32m    131\u001b[0m             \u001b[0;32mtry\u001b[0m\u001b[0;34m:\u001b[0m\u001b[0;34m\u001b[0m\u001b[0m\n",
        "\u001b[0;32m/Users/andreash/github/ipython/IPython/parallel/client/client.pyc\u001b[0m in \u001b[0;36mwait\u001b[0;34m(self, jobs, timeout)\u001b[0m\n\u001b[1;32m   1077\u001b[0m             \u001b[0;32mif\u001b[0m \u001b[0mtimeout\u001b[0m \u001b[0;34m>=\u001b[0m \u001b[0;36m0\u001b[0m \u001b[0;32mand\u001b[0m \u001b[0;34m(\u001b[0m \u001b[0mtime\u001b[0m\u001b[0;34m.\u001b[0m\u001b[0mtime\u001b[0m\u001b[0;34m(\u001b[0m\u001b[0;34m)\u001b[0m\u001b[0;34m-\u001b[0m\u001b[0mtic\u001b[0m \u001b[0;34m)\u001b[0m \u001b[0;34m>\u001b[0m \u001b[0mtimeout\u001b[0m\u001b[0;34m:\u001b[0m\u001b[0;34m\u001b[0m\u001b[0m\n\u001b[1;32m   1078\u001b[0m                 \u001b[0;32mbreak\u001b[0m\u001b[0;34m\u001b[0m\u001b[0m\n\u001b[0;32m-> 1079\u001b[0;31m             \u001b[0mtime\u001b[0m\u001b[0;34m.\u001b[0m\u001b[0msleep\u001b[0m\u001b[0;34m(\u001b[0m\u001b[0;36m1e-3\u001b[0m\u001b[0;34m)\u001b[0m\u001b[0;34m\u001b[0m\u001b[0m\n\u001b[0m\u001b[1;32m   1080\u001b[0m             \u001b[0mself\u001b[0m\u001b[0;34m.\u001b[0m\u001b[0mspin\u001b[0m\u001b[0;34m(\u001b[0m\u001b[0;34m)\u001b[0m\u001b[0;34m\u001b[0m\u001b[0m\n\u001b[1;32m   1081\u001b[0m         \u001b[0;32mreturn\u001b[0m \u001b[0mlen\u001b[0m\u001b[0;34m(\u001b[0m\u001b[0mtheids\u001b[0m\u001b[0;34m.\u001b[0m\u001b[0mintersection\u001b[0m\u001b[0;34m(\u001b[0m\u001b[0mself\u001b[0m\u001b[0;34m.\u001b[0m\u001b[0moutstanding\u001b[0m\u001b[0;34m)\u001b[0m\u001b[0;34m)\u001b[0m \u001b[0;34m==\u001b[0m \u001b[0;36m0\u001b[0m\u001b[0;34m\u001b[0m\u001b[0m\n",
        "\u001b[0;31mKeyboardInterrupt\u001b[0m: "
       ]
      }
     ],
     "prompt_number": 22
    },
    {
     "cell_type": "code",
     "collapsed": false,
     "input": [],
     "language": "python",
     "metadata": {},
     "outputs": []
    }
   ],
   "metadata": {}
  }
 ]
}