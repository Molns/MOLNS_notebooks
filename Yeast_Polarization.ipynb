{
 "metadata": {
  "name": ""
 },
 "nbformat": 3,
 "nbformat_minor": 0,
 "worksheets": [
  {
   "cells": [
    {
     "cell_type": "code",
     "collapsed": false,
     "input": [
      "import os\n",
      "from pyurdme import pyurdme\n",
      "import dolfin\n",
      "\n",
      "import matplotlib.pyplot as plt\n",
      "from mpl_toolkits.mplot3d import axes3d, Axes3D\n",
      "import numpy\n"
     ],
     "language": "python",
     "metadata": {},
     "outputs": [],
     "prompt_number": 11
    },
    {
     "cell_type": "code",
     "collapsed": false,
     "input": [
      "class membrane(dolfin.SubDomain):\n",
      "    def inside(self, x, on_boundary):\n",
      "        #return numpy.sqrt(x[0]*x[0]+x[1]*x[1]) > (5-.2)\n",
      "        return numpy.sqrt(x[0]*x[0]+x[1]*x[1]+x[2]*x[2]) > (5-.2)"
     ],
     "language": "python",
     "metadata": {},
     "outputs": [],
     "prompt_number": 12
    },
    {
     "cell_type": "code",
     "collapsed": false,
     "input": [
      "class polarization(pyurdme.URDMEModel):\n",
      "    def __init__(self, model_name=\"polarization\"):\n",
      "        pyurdme.URDMEModel.__init__(self, model_name)\n",
      "\n",
      "        # System constants\n",
      "        D_membrane = 0.02    #diffusion on the membrane from Altschuler\n",
      "        D_bulk = .2          #not sure of bulk diffusion const\n",
      "        k_on = pyurdme.Parameter(name=\"k_on\", expression=0.1/60)     #clustering for small values of this?\n",
      "        k_off = pyurdme.Parameter(name=\"k_off\", expression=9.0/60)   #from Altschuler\n",
      "        k_fb = pyurdme.Parameter(name=\"k_fb\", expression=10.0/60)    #from Altschuler\n",
      "        self.addParameter([k_on, k_off, k_fb])\n",
      "        # Define Species\n",
      "        A = pyurdme.Species(name=\"A\", diffusion_constant=D_bulk)\n",
      "        B = pyurdme.Species(name=\"B\", diffusion_constant=D_membrane)\n",
      "        self.addSpecies([A, B])\n",
      "        #Define Geometry\n",
      "        sphere = dolfin.Sphere(dolfin.Point(0.0, 0.0, 0.0), 5.0)\n",
      "        self.mesh = pyurdme.URDMEMesh(mesh=dolfin.Mesh(sphere, 5))\n",
      "        #circle = dolfin.Circle(0.0, 0.0, 5.0)\n",
      "        #self.mesh = pyurdme.Mesh(mesh=dolfin.Mesh(circle, 32))\n",
      "        # Define Subdomains\n",
      "        subdomains = dolfin.MeshFunction(\"size_t\", self.mesh, self.mesh.topology().dim()-1)\n",
      "        subdomains.set_all(1)\n",
      "        # Mark the membrane\n",
      "        membrane().mark(subdomains,2)\n",
      "        self.addSubDomain(subdomains)\n",
      "        # Define Reactions\n",
      "        R1 = pyurdme.Reaction(name=\"R1\", reactants={A:1}, products={B:1}, \n",
      "           massaction=True, rate=k_on, restrict_to=2)\n",
      "        R2 = pyurdme.Reaction(name=\"R2\", reactants={B:1}, products={A:1}, \n",
      "            massaction=True, rate=k_off, restrict_to=2)\n",
      "        R3 = pyurdme.Reaction(name=\"R3\", reactants={A:1, B:1}, products={B:2}, \n",
      "            massaction=True, rate=k_fb)\n",
      "        self.addReaction([R1, R2, R3])\n",
      "        # Define simulation timespan\n",
      "        self.timespan(range(1000))\n",
      "        #Define initial populations\n",
      "        self.scatter({A:600},[1])"
     ],
     "language": "python",
     "metadata": {},
     "outputs": [],
     "prompt_number": 13
    },
    {
     "cell_type": "code",
     "collapsed": false,
     "input": [
      "model = polarization()\n",
      "\n",
      "#dolfin.plot(model.mesh)\n"
     ],
     "language": "python",
     "metadata": {},
     "outputs": [],
     "prompt_number": 15
    },
    {
     "cell_type": "code",
     "collapsed": false,
     "input": [
      "model.mesh"
     ],
     "language": "python",
     "metadata": {},
     "outputs": [
      {
       "output_type": "stream",
       "stream": "stderr",
       "text": [
        "/usr/local/lib/python2.7/dist-packages/IPython/core/formatters.py:199: FormatterWarning: Exception in image/svg+xml formatter: \n",
        "  FormatterWarning,\n"
       ]
      },
      {
       "metadata": {},
       "output_type": "pyout",
       "prompt_number": 16,
       "text": [
        "<pyurdme.pyurdme.URDMEMesh; proxy of <Swig Object of type 'boost::shared_ptr< dolfin::Mesh > *' at 0x8be7ab0> >"
       ]
      }
     ],
     "prompt_number": 16
    },
    {
     "cell_type": "code",
     "collapsed": false,
     "input": [
      "result = pyurdme.urdme(model)"
     ],
     "language": "python",
     "metadata": {},
     "outputs": []
    },
    {
     "cell_type": "code",
     "collapsed": false,
     "input": [
      "str(model.mesh)"
     ],
     "language": "python",
     "metadata": {},
     "outputs": []
    },
    {
     "cell_type": "code",
     "collapsed": false,
     "input": [
      "result.display(\"A\",500)"
     ],
     "language": "python",
     "metadata": {},
     "outputs": []
    },
    {
     "cell_type": "code",
     "collapsed": false,
     "input": [
      "#dolfin.plot(model.mesh)\n",
      "#dolfin.interactive()"
     ],
     "language": "python",
     "metadata": {},
     "outputs": []
    },
    {
     "cell_type": "code",
     "collapsed": false,
     "input": [
      "#result['U'][0]"
     ],
     "language": "python",
     "metadata": {},
     "outputs": []
    },
    {
     "cell_type": "code",
     "collapsed": false,
     "input": [
      "    # This is the sum of all populations for each time point\n",
      "    x_vals = model.mesh.coordinates()[:, 0]\n",
      "    y_vals = model.mesh.coordinates()[:, 1]\n",
      "    z_vals = model.mesh.coordinates()[:, 2]\n",
      "    l = x_vals.shape[0]\n",
      "    print 'Number of x values in the mesh: ' + repr(l)\n",
      "    A_vals = numpy.sum(result['U'][0:2 * l - 1:2, :], axis=0)\n",
      "    B_vals = numpy.sum(result['U'][1:2 * l:2, :], axis=0)\n",
      "    print 'Number of time points : ' + repr(A_vals.shape[0])\n",
      "    print 'Number of time points : ' + repr(B_vals.shape[0])\n",
      "    \n",
      "    plt.subplot(1, 2, 1)\n",
      "    plt.plot(A_vals, '.r')\n",
      "    plt.subplot(1, 2, 2)\n",
      "    plt.plot(B_vals, '.b')\n",
      "    plt.show()\n",
      "    "
     ],
     "language": "python",
     "metadata": {},
     "outputs": []
    },
    {
     "cell_type": "code",
     "collapsed": false,
     "input": [
      "    # Plot of the time-average spatial concentration. i.e. each point is a average of one voxel over all times\n",
      "    A_vals_tavg = numpy.sum(result['U'], axis=1)[0:2*l-1:2]\n",
      "    B_vals_tavg = numpy.sum(result['U'], axis=1)[1:2*l:2]\n",
      "    #plt.plot(x_vals,A_vals,'.r',x_vals,B_vals,'.b')\n",
      "    plt.clf()\n",
      "    plt.subplot(1, 2, 1)\n",
      "    plt.plot(x_vals,A_vals_tavg/model.vol,'.r')\n",
      "    plt.legend('A')\n",
      "    plt.subplot(1, 2, 2)\n",
      "    plt.plot(x_vals,B_vals_tavg/model.vol,'.b')\n",
      "    plt.legend('B')\n",
      "    plt.show()"
     ],
     "language": "python",
     "metadata": {},
     "outputs": []
    },
    {
     "cell_type": "code",
     "collapsed": false,
     "input": [
      "fig = plt.figure()\n",
      "ax = Axes3D(fig)\n",
      "#cm = plt.get_cmap(\"RdYlGn\")\n",
      "col = np.arange(13184)\n",
      "#ax = fig.gca(projection='3d')\n",
      "ax.plot_surface(x_vals,y_vals,z_vals, s=13184,c=B_vals_tavg)\n",
      "plt.show()"
     ],
     "language": "python",
     "metadata": {},
     "outputs": []
    }
   ],
   "metadata": {}
  }
 ]
}