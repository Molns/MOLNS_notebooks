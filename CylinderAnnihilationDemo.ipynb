{
 "metadata": {
  "name": "",
  "signature": "sha256:7aeb5e75056b7064b0b5c6b199b354903dcf7c548b5bf63750952b30db47dffa"
 },
 "nbformat": 3,
 "nbformat_minor": 0,
 "worksheets": [
  {
   "cells": [
    {
     "cell_type": "heading",
     "level": 1,
     "metadata": {},
     "source": [
      "Cylinder Annihilation Demo"
     ]
    },
    {
     "cell_type": "markdown",
     "metadata": {},
     "source": [
      "In this demo, we use the constructive solid geometry (CSG) method to create a spatial domain in the shape of a cylinder. The cylinder has it's long dimension (x-axis) from -5 to 5, and the circular dimension has diamater of 1.  Chemical species 'A' is created at one end, and species 'B' is created at the other.  They diffuse through the volume of the cylinder and annihilate when they meet.  This example shows how to create domains with CSG, how to define subdomains, and how to create zero-th order and bimolecular reactions.  It also provides test for the software as the expected result is a gradient of A and B, high at the ends and vanishing at the mid-point."
     ]
    },
    {
     "cell_type": "code",
     "collapsed": false,
     "input": [
      "# Import libraries to be used later\n",
      "import pyurdme\n",
      "import dolfin\n",
      "import mshr"
     ],
     "language": "python",
     "metadata": {},
     "outputs": [],
     "prompt_number": 31
    },
    {
     "cell_type": "heading",
     "level": 2,
     "metadata": {},
     "source": [
      "Define the Cylinder Annihilation model "
     ]
    },
    {
     "cell_type": "code",
     "collapsed": false,
     "input": [
      "class RightEdge(dolfin.SubDomain): # Define the right subdomain\n",
      "    def inside(self, x, on_boundary):\n",
      "        return on_boundary and x[0] > 4.9\n",
      "class LeftEdge(dolfin.SubDomain): # Define the left subdomain\n",
      "    def inside(self, x, on_boundary):\n",
      "        return on_boundary and x[0] < -4.9"
     ],
     "language": "python",
     "metadata": {},
     "outputs": [],
     "prompt_number": 32
    },
    {
     "cell_type": "code",
     "collapsed": false,
     "input": [
      "class CylinderDemo(pyurdme.URDMEModel):\n",
      "    def __init__(self, model_name=\"CylinderDemo\"):\n",
      "        pyurdme.URDMEModel.__init__(self, model_name)\n",
      "        # Define Species\n",
      "        A = pyurdme.Species(name=\"A\", diffusion_constant=1.0)\n",
      "        B = pyurdme.Species(name=\"B\", diffusion_constant=1.0)\n",
      "        self.add_species([A, B])\n",
      "        # Define Geometry\n",
      "        cylinder = mshr.Cylinder(dolfin.Point(5, 0, 0), dolfin.Point(-5, 0, 0), 1.0, 1.0)\n",
      "        self.mesh = pyurdme.URDMEMesh(mesh=mshr.generate_mesh(cylinder, 32))\n",
      "        # Define Subdomains\n",
      "        self.add_subdomain(RightEdge(), 2)\n",
      "        self.add_subdomain(LeftEdge(), 3)\n",
      "        # Define Parameters\n",
      "        k_react = pyurdme.Parameter(name=\"k_react\", expression=1.0)\n",
      "        k_create = pyurdme.Parameter(name=\"k_create\", expression=100)\n",
      "        self.add_parameter([k_react, k_create])\n",
      "        # Define Reactions\n",
      "        R1 = pyurdme.Reaction(name=\"R1\",reactants=None, products={A:1}, rate=k_create, restrict_to=2)\n",
      "        R2 = pyurdme.Reaction(name=\"R2\",reactants=None, products={B:1}, rate=k_create, restrict_to=3)\n",
      "        R3 = pyurdme.Reaction(name=\"R3\",reactants={A:1, B:1}, products=None, rate=k_react)\n",
      "        self.add_reaction([R1, R2, R3])\n",
      "        # Define simulation timespan\n",
      "        self.timespan(range(200))"
     ],
     "language": "python",
     "metadata": {},
     "outputs": [],
     "prompt_number": 33
    },
    {
     "cell_type": "heading",
     "level": 2,
     "metadata": {},
     "source": [
      "Run the model and plot the results"
     ]
    },
    {
     "cell_type": "code",
     "collapsed": false,
     "input": [
      "model = CylinderDemo()\n",
      "%time result = model.run()"
     ],
     "language": "python",
     "metadata": {},
     "outputs": [
      {
       "output_type": "stream",
       "stream": "stdout",
       "text": [
        "CPU times: user 1.42 s, sys: 11.9 ms, total: 1.43 s\n",
        "Wall time: 12.2 s\n"
       ]
      }
     ],
     "prompt_number": 34
    },
    {
     "cell_type": "code",
     "collapsed": false,
     "input": [
      "# Uncomment the line below the see the 3D visualization of 'B' at t=100 \n",
      "#result.display('B', 100, wireframe=False)"
     ],
     "language": "python",
     "metadata": {},
     "outputs": [],
     "prompt_number": 35
    },
    {
     "cell_type": "code",
     "collapsed": false,
     "input": [
      "plt.plot(numpy.sum(result.get_species('A'), axis=1),'-b',numpy.sum(result.get_species('B'), axis=1),'-r')\n",
      "plt.title('Populations of A and B over time')\n",
      "plt.xlabel('time (s)')\n",
      "plt.ylabel('Population')\n",
      "plt.legend(['A','B'], loc='best')"
     ],
     "language": "python",
     "metadata": {},
     "outputs": [
      {
       "metadata": {},
       "output_type": "pyout",
       "prompt_number": 36,
       "text": [
        "<matplotlib.legend.Legend at 0x7f881296ff10>"
       ]
      },
      {
       "metadata": {},
       "output_type": "display_data",
       "png": "[encoded data removed]",
       "text": [
        "<matplotlib.figure.Figure at 0x7f8811174650>"
       ]
      }
     ],
     "prompt_number": 36
    },
    {
     "cell_type": "markdown",
     "metadata": {},
     "source": [
      "The plot above shows the mis-match in the creation rates of 'A' and 'B'.  This is due to the CSG mesh not giving the same number of voxels to the left and right subdomains."
     ]
    },
    {
     "cell_type": "code",
     "collapsed": false,
     "input": [
      "data = model.get_solver_datastructure()\n",
      "vol = data['vol']\n",
      "sd = data['sd']\n",
      "print \"Number of voxels left {0}, right {1}, center {2} subdomains\".format(numpy.sum(sd == 2), numpy.sum(sd == 3), numpy.sum(sd == 1))"
     ],
     "language": "python",
     "metadata": {},
     "outputs": [
      {
       "output_type": "stream",
       "stream": "stdout",
       "text": [
        "Number of voxels left 15, right 21, center 1022 subdomains\n"
       ]
      }
     ],
     "prompt_number": 37
    },
    {
     "cell_type": "heading",
     "level": 2,
     "metadata": {},
     "source": [
      "Define the Corrected Cylinder Annihilation model "
     ]
    },
    {
     "cell_type": "code",
     "collapsed": false,
     "input": [
      "class cylinderDemo3D(pyurdme.URDMEModel):\n",
      "    def __init__(self, model_name=\"cylinder_demo3d\"):\n",
      "        pyurdme.URDMEModel.__init__(self, model_name)\n",
      "        # Define Species\n",
      "        A = pyurdme.Species(name=\"A\", diffusion_constant=1.0)\n",
      "        B = pyurdme.Species(name=\"B\", diffusion_constant=1.0)\n",
      "        self.add_species([A, B])\n",
      "        # Define Geometry\n",
      "        #cylinder = dolfin.Cylinder(dolfin.Point(5, 0, 0), dolfin.Point(-5, 0, 0), 1.0)\n",
      "        cylinder = mshr.Cylinder(dolfin.Point(5, 0, 0), dolfin.Point(-5, 0, 0), 1.0, 1.0)\n",
      "        self.mesh = pyurdme.URDMEMesh(mesh=mshr.generate_mesh(cylinder, 32))\n",
      "        # Define Subdomains\n",
      "        self.add_subdomain(RightEdge(), 2)\n",
      "        self.add_subdomain(LeftEdge(), 3)\n",
      "        # This section is a fix to ensure the creation rates are equal.  Since\n",
      "        # The creation reactions are zero-th order, They are proportional to volume.\n",
      "        # Due to the discritization the sum volume of the voxels in subdomain 1 may\n",
      "        # not be the same as the sum volume of the voxels in subdomain 2.  We adjust \n",
      "        # the parameters so that the net creation rate the same for both. \n",
      "        data = self.get_solver_datastructure()\n",
      "        vol = data['vol']\n",
      "        sd = data['sd']\n",
      "        right = numpy.sum(vol[sd == 2])\n",
      "        left = numpy.sum(vol[sd == 3])\n",
      "        print \"Total Subdomain Volume: Right(A)={0} Left(B)={1}\".format(left, right)\n",
      "        k_creat = 100\n",
      "        k_creatA_val = k_creat*left/right\n",
      "        k_creatB_val = k_creat\n",
      "        print \"Create params: A={0} B={1}\".format(k_creatA_val, k_creatB_val)\n",
      "        print \"Net create rate: A={0} B={1}\".format(k_creatA_val*left, k_creatB_val*right)\n",
      "        \n",
      "        # Define Parameters\n",
      "        k_react = pyurdme.Parameter(name=\"k_react\", expression=1.0)\n",
      "        k_create1 = pyurdme.Parameter(name=\"k_create1\", expression=k_creatA_val)\n",
      "        k_create2 = pyurdme.Parameter(name=\"k_create2\", expression=k_creatB_val)\n",
      "        self.add_parameter([k_react, k_create1, k_create2])\n",
      "        # Define Reactions\n",
      "        R1 = pyurdme.Reaction(name=\"R1\",reactants=None, products={A:1}, rate=k_create1, restrict_to=2)\n",
      "        R2 = pyurdme.Reaction(name=\"R2\",reactants=None, products={B:1}, rate=k_create2, restrict_to=3)\n",
      "        R3 = pyurdme.Reaction(name=\"R3\",reactants={A:1, B:1}, products=None, rate=k_react)\n",
      "        self.add_reaction([R1, R2, R3])\n",
      "        # Define simulation timespan\n",
      "        self.timespan(range(200))"
     ],
     "language": "python",
     "metadata": {},
     "outputs": [],
     "prompt_number": 38
    },
    {
     "cell_type": "code",
     "collapsed": false,
     "input": [
      "%time model = cylinderDemo3D()"
     ],
     "language": "python",
     "metadata": {},
     "outputs": [
      {
       "output_type": "stream",
       "stream": "stdout",
       "text": [
        "Total Subdomain Volume: Right(A)=0.326259141188 Left(B)=0.224375118372\n",
        "Create params: A=145.407897076 B=100\n",
        "Net create rate: A=47.4406556221 B=22.4375118372\n",
        "CPU times: user 1.9 s, sys: 36.1 ms, total: 1.93 s\n",
        "Wall time: 1.96 s\n"
       ]
      }
     ],
     "prompt_number": 39
    },
    {
     "cell_type": "heading",
     "level": 2,
     "metadata": {},
     "source": [
      "Simulate the System"
     ]
    },
    {
     "cell_type": "code",
     "collapsed": false,
     "input": [
      "%time result = model.run()"
     ],
     "language": "python",
     "metadata": {},
     "outputs": [
      {
       "output_type": "stream",
       "stream": "stdout",
       "text": [
        "CPU times: user 1.2 s, sys: 20 ms, total: 1.22 s\n",
        "Wall time: 6.15 s\n"
       ]
      }
     ],
     "prompt_number": 40
    },
    {
     "cell_type": "heading",
     "level": 2,
     "metadata": {},
     "source": [
      "Visualization of the Results"
     ]
    },
    {
     "cell_type": "code",
     "collapsed": false,
     "input": [
      "#model.mesh"
     ],
     "language": "python",
     "metadata": {},
     "outputs": [],
     "prompt_number": 41
    },
    {
     "cell_type": "code",
     "collapsed": false,
     "input": [
      "#result.display('A', 199, wireframe=False)"
     ],
     "language": "python",
     "metadata": {},
     "outputs": [],
     "prompt_number": 42
    },
    {
     "cell_type": "code",
     "collapsed": false,
     "input": [
      "x_vals = model.mesh.coordinates()[:, 0]\n",
      "A_vals = numpy.sum(result.get_species(\"A\", concentration=False), axis=0)\n",
      "B_vals = numpy.sum(result.get_species(\"B\", concentration=False), axis=0)\n",
      "plt.figure(figsize=(12,6), dpi=100)\n",
      "num_bins = 25\n",
      "plt.hist(x_vals, bins=num_bins, weights=B_vals, facecolor='red', alpha=0.5)\n",
      "plt.hist(x_vals, bins=num_bins, weights=A_vals, facecolor='blue', alpha=0.5)\n",
      "plt.legend(['B','A'])\n",
      "plt.xlabel('x-coordinate')\n",
      "plt.ylabel('Population')\n",
      "plt.title('Population binned by x-coordinate')"
     ],
     "language": "python",
     "metadata": {},
     "outputs": [
      {
       "metadata": {},
       "output_type": "pyout",
       "prompt_number": 43,
       "text": [
        "<matplotlib.text.Text at 0x7f880e6e7210>"
       ]
      },
      {
       "metadata": {},
       "output_type": "display_data",
       "png": "[encoded data removed]",
       "text": [
        "<matplotlib.figure.Figure at 0x7f880e64e650>"
       ]
      }
     ],
     "prompt_number": 43
    },
    {
     "cell_type": "heading",
     "level": 2,
     "metadata": {},
     "source": [
      "Animated Plot of the concentration of A and B over time"
     ]
    },
    {
     "cell_type": "code",
     "collapsed": false,
     "input": [
      "from IPython.display import clear_output\n",
      "x_vals = model.mesh.coordinates()[:,0]\n",
      "A_vals = result.get_species('A', concentration=True)\n",
      "B_vals = result.get_species('B', concentration=True)\n",
      "for tndx, tval in enumerate(model.tspan):\n",
      "    plt.plot(x_vals, A_vals[tndx,:],'.b', x_vals, B_vals[tndx,:],'.r')\n",
      "    plt.legend(['A','B'])\n",
      "    plt.title('t={0}'.format(tval))\n",
      "    clear_output(wait=True)\n",
      "    plt.show()"
     ],
     "language": "python",
     "metadata": {},
     "outputs": [
      {
       "metadata": {},
       "output_type": "display_data",
       "png": "[encoded data removed]",
       "text": [
        "<matplotlib.figure.Figure at 0x7f880e69dcd0>"
       ]
      }
     ],
     "prompt_number": 44
    },
    {
     "cell_type": "code",
     "collapsed": false,
     "input": [],
     "language": "python",
     "metadata": {},
     "outputs": [],
     "prompt_number": 44
    }
   ],
   "metadata": {}
  }
 ]
}