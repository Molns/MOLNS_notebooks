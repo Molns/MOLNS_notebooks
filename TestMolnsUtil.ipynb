{
 "metadata": {
  "name": "",
  "signature": "sha256:e46b998902baeb9b624ee39cb4e324e12ea0a716fce04ede9badbd1cafeb1085"
 },
 "nbformat": 3,
 "nbformat_minor": 0,
 "worksheets": [
  {
   "cells": [
    {
     "cell_type": "code",
     "collapsed": false,
     "input": [
      "import IPython.parallel\n",
      "from molnsutil import DistributedEnsemble\n",
      "rc = IPython.parallel.Client()\n",
      "import pyurdme\n",
      "print \"Number of engines: {0}\".format(len(rc.ids))"
     ],
     "language": "python",
     "metadata": {},
     "outputs": [
      {
       "output_type": "stream",
       "stream": "stderr",
       "text": [
        "DEBUG:Cloud:Log file (/home/ubuntu/.picloud/cloud.log) opened\n"
       ]
      },
      {
       "output_type": "stream",
       "stream": "stdout",
       "text": [
        "Number of engines: 2\n"
       ]
      }
     ],
     "prompt_number": 1
    },
    {
     "cell_type": "code",
     "collapsed": false,
     "input": [
      "import pyurdme\n",
      "class SimpleDiffusion(pyurdme.URDMEModel):\n",
      "    \"\"\" This simple Hello World model consists of a single\n",
      "        species diffusing on a unit square. The initial \n",
      "        condition is a delta function on the voxel closest \n",
      "        to the center of the grid. \n",
      "    \"\"\"\n",
      "    \n",
      "    def __init__(self, N=1000):\n",
      "        \n",
      "        pyurdme.URDMEModel.__init__(self,name=\"simple_diffusion\")\n",
      "\n",
      "        A = pyurdme.Species(name=\"A\",diffusion_constant=0.01,dimension=2)\n",
      "\n",
      "        self.add_species([A])\n",
      "\n",
      "        # A unit square\n",
      "        self.mesh = pyurdme.URDMEMesh.generate_unit_square_mesh(40,40)\n",
      "                \n",
      "        # Place the A molecules in the voxel nearest the center of the square\n",
      "        self.set_initial_condition_place_near({A:N},point=[0.5,0.5])\n",
      "\n",
      "        self.timespan(numpy.linspace(0,1,1000))"
     ],
     "language": "python",
     "metadata": {},
     "outputs": [],
     "prompt_number": 2
    },
    {
     "cell_type": "code",
     "collapsed": false,
     "input": [
      "def g(result):\n",
      "    \"\"\" Extract the values of A at the endpoint. \"\"\"\n",
      "    import numpy\n",
      "    A = numpy.sum(result.get_species(\"A\",-1))\n",
      "    #A = result.get_species(\"A\",-1)[400]\n",
      "    return A"
     ],
     "language": "python",
     "metadata": {},
     "outputs": [],
     "prompt_number": 3
    },
    {
     "cell_type": "markdown",
     "metadata": {},
     "source": [
      "---"
     ]
    },
    {
     "cell_type": "heading",
     "level": 1,
     "metadata": {},
     "source": [
      "Test Distributed Ensembles"
     ]
    },
    {
     "cell_type": "code",
     "collapsed": false,
     "input": [
      "ensemble = DistributedEnsemble(model_class=SimpleDiffusion)"
     ],
     "language": "python",
     "metadata": {},
     "outputs": [],
     "prompt_number": 4
    },
    {
     "cell_type": "code",
     "collapsed": false,
     "input": [
      "res  = ensemble.add_realizations(number_of_realizations=200, chunk_size=10)\n",
      "print \"Time to compute:\", res[\"wall_time\"]"
     ],
     "language": "python",
     "metadata": {},
     "outputs": [
      {
       "output_type": "stream",
       "stream": "stdout",
       "text": [
        "Generating 200 realizations of the model (chunk size=10)\n"
       ]
      },
      {
       "html": [
        "\n",
        "                          <div style=\"border: 1px solid black; width:500px\">\n",
        "                          <div id=\"c78026c4-a366-4d03-8384-8204f8455f09\" style=\"background-color:blue; width:0%\">&nbsp;</div>\n",
        "                          </div>\n",
        "                          "
       ],
       "metadata": {},
       "output_type": "display_data",
       "text": [
        "<IPython.core.display.HTML at 0x53af150>"
       ]
      },
      {
       "javascript": [
        "$('div#c78026c4-a366-4d03-8384-8204f8455f09').width('5.000000%')"
       ],
       "metadata": {},
       "output_type": "display_data",
       "text": [
        "<IPython.core.display.Javascript at 0x53af110>"
       ]
      },
      {
       "javascript": [
        "$('div#c78026c4-a366-4d03-8384-8204f8455f09').width('10.000000%')"
       ],
       "metadata": {},
       "output_type": "display_data",
       "text": [
        "<IPython.core.display.Javascript at 0x53af290>"
       ]
      },
      {
       "javascript": [
        "$('div#c78026c4-a366-4d03-8384-8204f8455f09').width('15.000000%')"
       ],
       "metadata": {},
       "output_type": "display_data",
       "text": [
        "<IPython.core.display.Javascript at 0x53af1d0>"
       ]
      },
      {
       "javascript": [
        "$('div#c78026c4-a366-4d03-8384-8204f8455f09').width('20.000000%')"
       ],
       "metadata": {},
       "output_type": "display_data",
       "text": [
        "<IPython.core.display.Javascript at 0x53af2d0>"
       ]
      },
      {
       "javascript": [
        "$('div#c78026c4-a366-4d03-8384-8204f8455f09').width('25.000000%')"
       ],
       "metadata": {},
       "output_type": "display_data",
       "text": [
        "<IPython.core.display.Javascript at 0x53af250>"
       ]
      },
      {
       "javascript": [
        "$('div#c78026c4-a366-4d03-8384-8204f8455f09').width('30.000000%')"
       ],
       "metadata": {},
       "output_type": "display_data",
       "text": [
        "<IPython.core.display.Javascript at 0x53af350>"
       ]
      },
      {
       "javascript": [
        "$('div#c78026c4-a366-4d03-8384-8204f8455f09').width('35.000000%')"
       ],
       "metadata": {},
       "output_type": "display_data",
       "text": [
        "<IPython.core.display.Javascript at 0x53af3d0>"
       ]
      },
      {
       "javascript": [
        "$('div#c78026c4-a366-4d03-8384-8204f8455f09').width('40.000000%')"
       ],
       "metadata": {},
       "output_type": "display_data",
       "text": [
        "<IPython.core.display.Javascript at 0x53af310>"
       ]
      },
      {
       "javascript": [
        "$('div#c78026c4-a366-4d03-8384-8204f8455f09').width('45.000000%')"
       ],
       "metadata": {},
       "output_type": "display_data",
       "text": [
        "<IPython.core.display.Javascript at 0x53af410>"
       ]
      },
      {
       "javascript": [
        "$('div#c78026c4-a366-4d03-8384-8204f8455f09').width('50.000000%')"
       ],
       "metadata": {},
       "output_type": "display_data",
       "text": [
        "<IPython.core.display.Javascript at 0x53af450>"
       ]
      },
      {
       "javascript": [
        "$('div#c78026c4-a366-4d03-8384-8204f8455f09').width('55.000000%')"
       ],
       "metadata": {},
       "output_type": "display_data",
       "text": [
        "<IPython.core.display.Javascript at 0x53af490>"
       ]
      },
      {
       "javascript": [
        "$('div#c78026c4-a366-4d03-8384-8204f8455f09').width('60.000000%')"
       ],
       "metadata": {},
       "output_type": "display_data",
       "text": [
        "<IPython.core.display.Javascript at 0x53af4d0>"
       ]
      },
      {
       "javascript": [
        "$('div#c78026c4-a366-4d03-8384-8204f8455f09').width('65.000000%')"
       ],
       "metadata": {},
       "output_type": "display_data",
       "text": [
        "<IPython.core.display.Javascript at 0x53af510>"
       ]
      },
      {
       "javascript": [
        "$('div#c78026c4-a366-4d03-8384-8204f8455f09').width('70.000000%')"
       ],
       "metadata": {},
       "output_type": "display_data",
       "text": [
        "<IPython.core.display.Javascript at 0x53af550>"
       ]
      },
      {
       "javascript": [
        "$('div#c78026c4-a366-4d03-8384-8204f8455f09').width('75.000000%')"
       ],
       "metadata": {},
       "output_type": "display_data",
       "text": [
        "<IPython.core.display.Javascript at 0x53af590>"
       ]
      },
      {
       "javascript": [
        "$('div#c78026c4-a366-4d03-8384-8204f8455f09').width('80.000000%')"
       ],
       "metadata": {},
       "output_type": "display_data",
       "text": [
        "<IPython.core.display.Javascript at 0x53af5d0>"
       ]
      },
      {
       "javascript": [
        "$('div#c78026c4-a366-4d03-8384-8204f8455f09').width('85.000000%')"
       ],
       "metadata": {},
       "output_type": "display_data",
       "text": [
        "<IPython.core.display.Javascript at 0x53af610>"
       ]
      },
      {
       "javascript": [
        "$('div#c78026c4-a366-4d03-8384-8204f8455f09').width('90.000000%')"
       ],
       "metadata": {},
       "output_type": "display_data",
       "text": [
        "<IPython.core.display.Javascript at 0x53af650>"
       ]
      },
      {
       "javascript": [
        "$('div#c78026c4-a366-4d03-8384-8204f8455f09').width('95.000000%')"
       ],
       "metadata": {},
       "output_type": "display_data",
       "text": [
        "<IPython.core.display.Javascript at 0x53af690>"
       ]
      },
      {
       "javascript": [
        "$('div#c78026c4-a366-4d03-8384-8204f8455f09').width('100.000000%')"
       ],
       "metadata": {},
       "output_type": "display_data",
       "text": [
        "<IPython.core.display.Javascript at 0x53af6d0>"
       ]
      },
      {
       "output_type": "stream",
       "stream": "stdout",
       "text": [
        "Time to compute: 40.279683\n"
       ]
      }
     ],
     "prompt_number": 5
    },
    {
     "cell_type": "code",
     "collapsed": false,
     "input": [
      "%time m =  ensemble.mean(mapper=g)\n",
      "print \"Mean of g:\", m"
     ],
     "language": "python",
     "metadata": {},
     "outputs": [
      {
       "output_type": "stream",
       "stream": "stdout",
       "text": [
        "Running mapper & aggregator on the result objects (number of results=200, chunk size=100)\n"
       ]
      },
      {
       "html": [
        "\n",
        "                          <div style=\"border: 1px solid black; width:500px\">\n",
        "                          <div id=\"3f11fb7e-0e4b-4504-8dd0-8a3e012170b4\" style=\"background-color:blue; width:0%\">&nbsp;</div>\n",
        "                          </div>\n",
        "                          "
       ],
       "metadata": {},
       "output_type": "display_data",
       "text": [
        "<IPython.core.display.HTML at 0x53af7d0>"
       ]
      },
      {
       "javascript": [
        "$('div#3f11fb7e-0e4b-4504-8dd0-8a3e012170b4').width('50.000000%')"
       ],
       "metadata": {},
       "output_type": "display_data",
       "text": [
        "<IPython.core.display.Javascript at 0x53af890>"
       ]
      },
      {
       "javascript": [
        "$('div#3f11fb7e-0e4b-4504-8dd0-8a3e012170b4').width('100.000000%')"
       ],
       "metadata": {},
       "output_type": "display_data",
       "text": [
        "<IPython.core.display.Javascript at 0x53af210>"
       ]
      },
      {
       "output_type": "stream",
       "stream": "stdout",
       "text": [
        "Running reducer on mapped and aggregated results (size=2)\n",
        "CPU times: user 256 ms, sys: 68 ms, total: 324 ms\n",
        "Wall time: 2.86 s\n",
        "Mean of g: 1000.0\n"
       ]
      }
     ],
     "prompt_number": 6
    },
    {
     "cell_type": "code",
     "collapsed": false,
     "input": [
      "import boto.s3.connection "
     ],
     "language": "python",
     "metadata": {},
     "outputs": [],
     "prompt_number": 7
    },
    {
     "cell_type": "code",
     "collapsed": false,
     "input": [],
     "language": "python",
     "metadata": {},
     "outputs": [],
     "prompt_number": 7
    },
    {
     "cell_type": "heading",
     "level": 3,
     "metadata": {},
     "source": [
      "Test running without storage"
     ]
    },
    {
     "cell_type": "code",
     "collapsed": false,
     "input": [
      "%time m =  ensemble.mean(mapper=g, store_realizations=False, number_of_realizations=200)\n",
      "print \"Mean of g:\", m"
     ],
     "language": "python",
     "metadata": {},
     "outputs": [
      {
       "output_type": "stream",
       "stream": "stdout",
       "text": [
        "Generating 200 realizations of the model, running mapper & aggregator (chunk size=100)\n"
       ]
      },
      {
       "html": [
        "\n",
        "                          <div style=\"border: 1px solid black; width:500px\">\n",
        "                          <div id=\"e39d8362-bf17-4dce-a579-9d6245aedbf8\" style=\"background-color:blue; width:0%\">&nbsp;</div>\n",
        "                          </div>\n",
        "                          "
       ],
       "metadata": {},
       "output_type": "display_data",
       "text": [
        "<IPython.core.display.HTML at 0x53af8d0>"
       ]
      },
      {
       "javascript": [
        "$('div#e39d8362-bf17-4dce-a579-9d6245aedbf8').width('50.000000%')"
       ],
       "metadata": {},
       "output_type": "display_data",
       "text": [
        "<IPython.core.display.Javascript at 0x53afa50>"
       ]
      },
      {
       "javascript": [
        "$('div#e39d8362-bf17-4dce-a579-9d6245aedbf8').width('100.000000%')"
       ],
       "metadata": {},
       "output_type": "display_data",
       "text": [
        "<IPython.core.display.Javascript at 0x53af9d0>"
       ]
      },
      {
       "output_type": "stream",
       "stream": "stdout",
       "text": [
        "Running reducer on mapped and aggregated results (size=2)\n",
        "CPU times: user 1.41 s, sys: 456 ms, total: 1.86 s\n",
        "Wall time: 19.1 s\n",
        "Mean of g: 1000.0\n"
       ]
      }
     ],
     "prompt_number": 8
    },
    {
     "cell_type": "markdown",
     "metadata": {},
     "source": [
      "---"
     ]
    },
    {
     "cell_type": "heading",
     "level": 1,
     "metadata": {},
     "source": [
      "Test Parameter Sweep"
     ]
    },
    {
     "cell_type": "code",
     "collapsed": false,
     "input": [
      "from molnsutil import ParameterSweep\n",
      "ps = ParameterSweep(model_class=SimpleDiffusion, parameters={'N':[100,500,1000,5000]})"
     ],
     "language": "python",
     "metadata": {},
     "outputs": [],
     "prompt_number": 9
    },
    {
     "cell_type": "code",
     "collapsed": false,
     "input": [
      "%time psm = ps.mean(mapper=g, store_realizations=True, number_of_realizations=200)\n",
      "print psm"
     ],
     "language": "python",
     "metadata": {},
     "outputs": [
      {
       "output_type": "stream",
       "stream": "stdout",
       "text": [
        "Generating 200 realizations of the model at 4 parameter points (chunk size=200)\n"
       ]
      },
      {
       "html": [
        "\n",
        "                          <div style=\"border: 1px solid black; width:500px\">\n",
        "                          <div id=\"50eb99ae-6f7e-4bcd-b246-b5b563167838\" style=\"background-color:blue; width:0%\">&nbsp;</div>\n",
        "                          </div>\n",
        "                          "
       ],
       "metadata": {},
       "output_type": "display_data",
       "text": [
        "<IPython.core.display.HTML at 0x53afc10>"
       ]
      },
      {
       "javascript": [
        "$('div#50eb99ae-6f7e-4bcd-b246-b5b563167838').width('25.000000%')"
       ],
       "metadata": {},
       "output_type": "display_data",
       "text": [
        "<IPython.core.display.Javascript at 0x53afa90>"
       ]
      },
      {
       "javascript": [
        "$('div#50eb99ae-6f7e-4bcd-b246-b5b563167838').width('50.000000%')"
       ],
       "metadata": {},
       "output_type": "display_data",
       "text": [
        "<IPython.core.display.Javascript at 0x53af210>"
       ]
      },
      {
       "javascript": [
        "$('div#50eb99ae-6f7e-4bcd-b246-b5b563167838').width('75.000000%')"
       ],
       "metadata": {},
       "output_type": "display_data",
       "text": [
        "<IPython.core.display.Javascript at 0x53af9d0>"
       ]
      },
      {
       "javascript": [
        "$('div#50eb99ae-6f7e-4bcd-b246-b5b563167838').width('100.000000%')"
       ],
       "metadata": {},
       "output_type": "display_data",
       "text": [
        "<IPython.core.display.Javascript at 0x53af950>"
       ]
      },
      {
       "output_type": "stream",
       "stream": "stdout",
       "text": [
        "Running mapper & aggregator on the result objects (number of results=800, chunk size=200)\n"
       ]
      },
      {
       "html": [
        "\n",
        "                          <div style=\"border: 1px solid black; width:500px\">\n",
        "                          <div id=\"6d37a443-1507-460b-95be-694d136c5e24\" style=\"background-color:blue; width:0%\">&nbsp;</div>\n",
        "                          </div>\n",
        "                          "
       ],
       "metadata": {},
       "output_type": "display_data",
       "text": [
        "<IPython.core.display.HTML at 0x53afc90>"
       ]
      },
      {
       "javascript": [
        "$('div#6d37a443-1507-460b-95be-694d136c5e24').width('25.000000%')"
       ],
       "metadata": {},
       "output_type": "display_data",
       "text": [
        "<IPython.core.display.Javascript at 0x53af6d0>"
       ]
      },
      {
       "javascript": [
        "$('div#6d37a443-1507-460b-95be-694d136c5e24').width('50.000000%')"
       ],
       "metadata": {},
       "output_type": "display_data",
       "text": [
        "<IPython.core.display.Javascript at 0x53af690>"
       ]
      },
      {
       "javascript": [
        "$('div#6d37a443-1507-460b-95be-694d136c5e24').width('75.000000%')"
       ],
       "metadata": {},
       "output_type": "display_data",
       "text": [
        "<IPython.core.display.Javascript at 0x53af650>"
       ]
      },
      {
       "javascript": [
        "$('div#6d37a443-1507-460b-95be-694d136c5e24').width('100.000000%')"
       ],
       "metadata": {},
       "output_type": "display_data",
       "text": [
        "<IPython.core.display.Javascript at 0x53af610>"
       ]
      },
      {
       "output_type": "stream",
       "stream": "stdout",
       "text": [
        "Running reducer on mapped and aggregated results (size=1)\n",
        "CPU times: user 7.65 s, sys: 1.9 s, total: 9.56 s\n",
        "Wall time: 1min 37s\n",
        "[{'N': 100} => 100.0, {'N': 500} => 500.0, {'N': 1000} => 1000.0, {'N': 5000} => 5000.0]\n"
       ]
      }
     ],
     "prompt_number": 10
    },
    {
     "cell_type": "code",
     "collapsed": false,
     "input": [],
     "language": "python",
     "metadata": {},
     "outputs": [],
     "prompt_number": 10
    }
   ],
   "metadata": {}
  }
 ]
}