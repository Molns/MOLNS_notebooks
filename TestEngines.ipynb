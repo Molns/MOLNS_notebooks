{
 "metadata": {
  "name": "",
  "signature": "sha256:47315a6a029fd3dbc6eb68ef760ae3a0f7f02a1617b6a05ef9c3fc2a25756f31"
 },
 "nbformat": 3,
 "nbformat_minor": 0,
 "worksheets": [
  {
   "cells": [
    {
     "cell_type": "code",
     "collapsed": false,
     "input": [
      "import IPython\n",
      "from IPython.parallel import Client\n",
      "c = Client()\n",
      "print \"Number of running engines: {0}\".format(len(c.ids))"
     ],
     "language": "python",
     "metadata": {},
     "outputs": [
      {
       "output_type": "stream",
       "stream": "stdout",
       "text": [
        "Number of running engines: 4\n"
       ]
      }
     ],
     "prompt_number": 36
    },
    {
     "cell_type": "code",
     "collapsed": false,
     "input": [
      "def simpletask(delay):\n",
      "    import time\n",
      "    time.sleep(delay)\n",
      "    return \"I slept {0} seconds\".format(delay)\n",
      "    "
     ],
     "language": "python",
     "metadata": {},
     "outputs": [],
     "prompt_number": 37
    },
    {
     "cell_type": "code",
     "collapsed": false,
     "input": [
      "%time result = c[0:4].map_sync(simpletask,[2]*40)  \n",
      "%time result = c[0:9].map_sync(simpletask,[2]*40)  \n",
      "%time result = c[0:19].map_sync(simpletask,[2]*40)  "
     ],
     "language": "python",
     "metadata": {},
     "outputs": [
      {
       "output_type": "stream",
       "stream": "stdout",
       "text": [
        "CPU times: user 2.02 s, sys: 231 ms, total: 2.25 s\n",
        "Wall time: 20 s\n",
        "CPU times: user 2.02 s, sys: 229 ms, total: 2.25 s"
       ]
      },
      {
       "output_type": "stream",
       "stream": "stdout",
       "text": [
        "\n",
        "Wall time: 20 s\n",
        "CPU times: user 2.01 s, sys: 231 ms, total: 2.24 s"
       ]
      },
      {
       "output_type": "stream",
       "stream": "stdout",
       "text": [
        "\n",
        "Wall time: 20 s\n"
       ]
      }
     ],
     "prompt_number": 38
    },
    {
     "cell_type": "code",
     "collapsed": false,
     "input": [],
     "language": "python",
     "metadata": {},
     "outputs": [],
     "prompt_number": 35
    },
    {
     "cell_type": "code",
     "collapsed": false,
     "input": [],
     "language": "python",
     "metadata": {},
     "outputs": []
    }
   ],
   "metadata": {}
  }
 ]
}