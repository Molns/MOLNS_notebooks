{
 "metadata": {
  "name": "",
  "signature": "sha256:5d72b90c597d2d4811083d6bb7505b7a75b9e3f956ff590189babd8be71eb124"
 },
 "nbformat": 3,
 "nbformat_minor": 0,
 "worksheets": [
  {
   "cells": [
    {
     "cell_type": "code",
     "collapsed": false,
     "input": [
      "# This will simply print how many engines are running. This is useful to validate\n",
      "# the deployment of a new cluster, or after adding/removing engines to a running cluster. \n",
      "import IPython\n",
      "from IPython.parallel import Client\n",
      "c = Client()\n",
      "print \"Number of running engines: {0}\".format(len(c.ids))"
     ],
     "language": "python",
     "metadata": {},
     "outputs": []
    }
   ],
   "metadata": {}
  }
 ]
}