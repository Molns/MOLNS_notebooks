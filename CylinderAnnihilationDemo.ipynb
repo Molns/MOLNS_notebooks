{
 "metadata": {
  "name": "",
  "signature": "sha256:f67d4dc7691252df8799375769cd76745668fe4fb2f7594fb6c2b7fb33be71e1"
 },
 "nbformat": 3,
 "nbformat_minor": 0,
 "worksheets": [
  {
   "cells": [
    {
     "cell_type": "heading",
     "level": 1,
     "metadata": {},
     "source": [
      "Cylinder Annihilation Demo"
     ]
    },
    {
     "cell_type": "markdown",
     "metadata": {},
     "source": [
      "In this demo, we use the constructive solid geometry (CSG) method to create a spatial domain in the shape of a cylinder. The cylinder has it's long dimension (x-axis) from -5 to 5, the circular dimension has diameter of 1.  The chemical species 'A' is created at one end, and species 'B' is created at the other.  They diffuse through the volume of the cylinder and annihilate in the reaction A + B -> EmptySet.  This example shows how to create domains with CSG, how to define subdomains, and how to create zero-th order and bimolecular reactions.  It also provides a test for the software as the expected result is gradient of A and B, high as the ends and vanishing at the mid-point."
     ]
    },
    {
     "cell_type": "code",
     "collapsed": false,
     "input": [
      "# Import libraries to be used later\n",
      "import pyurdme\n",
      "import dolfin\n",
      "import mshr\n",
      "from IPython.display import clear_output"
     ],
     "language": "python",
     "metadata": {},
     "outputs": [],
     "prompt_number": 21
    },
    {
     "cell_type": "heading",
     "level": 2,
     "metadata": {},
     "source": [
      "Define the Cylinder Annihilation model "
     ]
    },
    {
     "cell_type": "code",
     "collapsed": false,
     "input": [
      "class RightEdge(dolfin.SubDomain): # Define the right subdomain\n",
      "    def inside(self, x, on_boundary):\n",
      "        return on_boundary and x[0] > 4.9\n",
      "class LeftEdge(dolfin.SubDomain): # Define the left subdomain\n",
      "    def inside(self, x, on_boundary):\n",
      "        return on_boundary and x[0] < -4.9"
     ],
     "language": "python",
     "metadata": {},
     "outputs": [],
     "prompt_number": 3
    },
    {
     "cell_type": "code",
     "collapsed": false,
     "input": [
      "class CylinderDemo(pyurdme.URDMEModel):\n",
      "    def __init__(self, model_name=\"CylinderDemo\"):\n",
      "        pyurdme.URDMEModel.__init__(self, model_name)\n",
      "        # Define Species\n",
      "        A = pyurdme.Species(name=\"A\", diffusion_constant=1.0)\n",
      "        B = pyurdme.Species(name=\"B\", diffusion_constant=1.0)\n",
      "        self.add_species([A, B])\n",
      "        # Define Geometry\n",
      "        cylinder = mshr.Cylinder(dolfin.Point(5, 0, 0), dolfin.Point(-5, 0, 0), 1.0, 1.0)\n",
      "        self.mesh = pyurdme.URDMEMesh(mesh=mshr.generate_mesh(cylinder, 32))\n",
      "        # Define Subdomains\n",
      "        self.add_subdomain(RightEdge(), 2)\n",
      "        self.add_subdomain(LeftEdge(), 3)\n",
      "        # Define Parameters\n",
      "        k_react = pyurdme.Parameter(name=\"k_react\", expression=1.0)\n",
      "        k_create = pyurdme.Parameter(name=\"k_create\", expression=100)\n",
      "        self.add_parameter([k_react, k_create])\n",
      "        # Define Reactions\n",
      "        R1 = pyurdme.Reaction(name=\"R1\",reactants=None, products={A:1}, rate=k_create, restrict_to=2)\n",
      "        R2 = pyurdme.Reaction(name=\"R2\",reactants=None, products={B:1}, rate=k_create, restrict_to=3)\n",
      "        R3 = pyurdme.Reaction(name=\"R3\",reactants={A:1, B:1}, products=None, rate=k_react)\n",
      "        self.add_reaction([R1, R2, R3])\n",
      "        # Define simulation timespan\n",
      "        self.timespan(range(200))"
     ],
     "language": "python",
     "metadata": {},
     "outputs": [],
     "prompt_number": 6
    },
    {
     "cell_type": "heading",
     "level": 2,
     "metadata": {},
     "source": [
      "Run the model and plot the results"
     ]
    },
    {
     "cell_type": "code",
     "collapsed": false,
     "input": [
      "model = CylinderDemo()\n",
      "%time result = model.run()"
     ],
     "language": "python",
     "metadata": {},
     "outputs": [
      {
       "output_type": "stream",
       "stream": "stdout",
       "text": [
        "CPU times: user 1.49 s, sys: 0 ns, total: 1.49 s\n",
        "Wall time: 7.39 s\n"
       ]
      }
     ],
     "prompt_number": 7
    },
    {
     "cell_type": "code",
     "collapsed": false,
     "input": [
      "# Uncomment the line below the see the 3D visualization of 'B' at t=100 \n",
      "#result.display('B', 100, wireframe=False)"
     ],
     "language": "python",
     "metadata": {},
     "outputs": [],
     "prompt_number": 9
    },
    {
     "cell_type": "code",
     "collapsed": false,
     "input": [
      "plt.plot(numpy.sum(result.get_species('A'), axis=1),'-b',numpy.sum(result.get_species('B'), axis=1),'-r')\n",
      "plt.title('Populations of A and B over time')\n",
      "plt.xlabel('time (s)')\n",
      "plt.ylabel('Population')\n",
      "plt.legend(['A','B'], loc='best')"
     ],
     "language": "python",
     "metadata": {},
     "outputs": [
      {
       "metadata": {},
       "output_type": "pyout",
       "prompt_number": 10,
       "text": [
        "<matplotlib.legend.Legend at 0x7fc179a3ded0>"
       ]
      },
      {
       "metadata": {},
       "output_type": "display_data",
       "png": "[encoded data removed]",
       "text": [
        "<matplotlib.figure.Figure at 0x7fc17b115190>"
       ]
      }
     ],
     "prompt_number": 10
    },
    {
     "cell_type": "markdown",
     "metadata": {},
     "source": [
      "The plot above shows the mis-match in the creation rates of 'A' and 'B'.  This is due to the CSG mesh not giving the same number of voxels to the left and right subdomains."
     ]
    },
    {
     "cell_type": "code",
     "collapsed": false,
     "input": [
      "data = model.get_solver_datastructure()\n",
      "vol = data['vol']\n",
      "sd = data['sd']\n",
      "print \"Number of voxels left {0}, right {1}, center {2} subdomains\".format(numpy.sum(sd == 2), numpy.sum(sd == 3), numpy.sum(sd == 1))"
     ],
     "language": "python",
     "metadata": {},
     "outputs": [
      {
       "output_type": "stream",
       "stream": "stdout",
       "text": [
        "Number of voxels left 15, right 17, center 1040 subdomains\n"
       ]
      }
     ],
     "prompt_number": 11
    },
    {
     "cell_type": "heading",
     "level": 2,
     "metadata": {},
     "source": [
      "Define the Corrected Cylinder Annihilation model "
     ]
    },
    {
     "cell_type": "code",
     "collapsed": false,
     "input": [
      "class cylinderDemo3D(pyurdme.URDMEModel):\n",
      "    def __init__(self, model_name=\"cylinder_demo3d\"):\n",
      "        pyurdme.URDMEModel.__init__(self, model_name)\n",
      "        # Define Species\n",
      "        A = pyurdme.Species(name=\"A\", diffusion_constant=1.0)\n",
      "        B = pyurdme.Species(name=\"B\", diffusion_constant=1.0)\n",
      "        self.add_species([A, B])\n",
      "        # Define Geometry\n",
      "        #cylinder = dolfin.Cylinder(dolfin.Point(5, 0, 0), dolfin.Point(-5, 0, 0), 1.0)\n",
      "        cylinder = mshr.Cylinder(dolfin.Point(5, 0, 0), dolfin.Point(-5, 0, 0), 1.0, 1.0)\n",
      "        self.mesh = pyurdme.URDMEMesh(mesh=mshr.generate_mesh(cylinder, 32))\n",
      "        # Define Subdomains\n",
      "        self.add_subdomain(RightEdge(), 2)\n",
      "        self.add_subdomain(LeftEdge(), 3)\n",
      "        # This section is a fix to ensure the creation rates are equal.  Since\n",
      "        # The creation reactions are zero-th order, They are proportional to volume.\n",
      "        # Due to the discritization the sum volume of the voxels in subdomain 1 may\n",
      "        # not be the same as the sum volume of the voxels in subdomain 2.  We adjust \n",
      "        # the parameters so that the net creation rate the same for both. \n",
      "        data = self.get_solver_datastructure()\n",
      "        vol = data['vol']\n",
      "        sd = data['sd']\n",
      "        right = numpy.sum(vol[sd == 2])\n",
      "        left = numpy.sum(vol[sd == 3])\n",
      "        print \"Total Subdomain Volume: Right(A)={0} Left(B)={1}\".format(left, right)\n",
      "        k_creat = 100\n",
      "        k_creatA_val = k_creat*left/right\n",
      "        k_creatB_val = k_creat\n",
      "        print \"Create params: A={0} B={1}\".format(k_creatA_val, k_creatB_val)\n",
      "        print \"Net create rate: A={0} B={1}\".format(k_creatA_val*left, k_creatB_val*right)\n",
      "        \n",
      "        # Define Parameters\n",
      "        k_react = pyurdme.Parameter(name=\"k_react\", expression=1.0)\n",
      "        k_create1 = pyurdme.Parameter(name=\"k_create1\", expression=k_creatA_val)\n",
      "        k_create2 = pyurdme.Parameter(name=\"k_create2\", expression=k_creatB_val)\n",
      "        self.add_parameter([k_react, k_create1, k_create2])\n",
      "        # Define Reactions\n",
      "        R1 = pyurdme.Reaction(name=\"R1\",reactants=None, products={A:1}, rate=k_create1, restrict_to=2)\n",
      "        R2 = pyurdme.Reaction(name=\"R2\",reactants=None, products={B:1}, rate=k_create2, restrict_to=3)\n",
      "        R3 = pyurdme.Reaction(name=\"R3\",reactants={A:1, B:1}, products=None, rate=k_react)\n",
      "        self.add_reaction([R1, R2, R3])\n",
      "        # Define simulation timespan\n",
      "        self.timespan(range(200))"
     ],
     "language": "python",
     "metadata": {},
     "outputs": [],
     "prompt_number": 12
    },
    {
     "cell_type": "code",
     "collapsed": false,
     "input": [
      "%time model = cylinderDemo3D()"
     ],
     "language": "python",
     "metadata": {},
     "outputs": [
      {
       "output_type": "stream",
       "stream": "stdout",
       "text": [
        "Total Subdomain Volume: Right(A)=0.296044258267 Left(B)=0.292824511833\n",
        "Create params: A=101.099548127 B=100\n",
        "Net create rate: A=29.9299407363 B=29.2824511833\n",
        "CPU times: user 1.92 s, sys: 20.6 ms, total: 1.94 s\n",
        "Wall time: 2.02 s\n"
       ]
      }
     ],
     "prompt_number": 13
    },
    {
     "cell_type": "heading",
     "level": 2,
     "metadata": {},
     "source": [
      "Simulate the System"
     ]
    },
    {
     "cell_type": "code",
     "collapsed": false,
     "input": [
      "%time result = model.run()"
     ],
     "language": "python",
     "metadata": {},
     "outputs": [
      {
       "output_type": "stream",
       "stream": "stdout",
       "text": [
        "CPU times: user 1.23 s, sys: 10.8 ms, total: 1.24 s\n",
        "Wall time: 5.9 s\n"
       ]
      }
     ],
     "prompt_number": 14
    },
    {
     "cell_type": "heading",
     "level": 2,
     "metadata": {},
     "source": [
      "Visualization of the Results"
     ]
    },
    {
     "cell_type": "code",
     "collapsed": false,
     "input": [
      "#model.mesh"
     ],
     "language": "python",
     "metadata": {},
     "outputs": [],
     "prompt_number": 16
    },
    {
     "cell_type": "code",
     "collapsed": false,
     "input": [
      "#result.display('A', 199, wireframe=False)"
     ],
     "language": "python",
     "metadata": {},
     "outputs": [],
     "prompt_number": 18
    },
    {
     "cell_type": "code",
     "collapsed": false,
     "input": [
      "x_vals = model.mesh.coordinates()[:, 0]\n",
      "A_vals = numpy.sum(result.get_species(\"A\", concentration=False), axis=0)\n",
      "B_vals = numpy.sum(result.get_species(\"B\", concentration=False), axis=0)\n",
      "plt.figure(figsize=(12,6), dpi=100)\n",
      "num_bins = 25\n",
      "plt.hist(x_vals, bins=num_bins, weights=B_vals, facecolor='red', alpha=0.5)\n",
      "plt.hist(x_vals, bins=num_bins, weights=A_vals, facecolor='blue', alpha=0.5)\n",
      "plt.legend(['B','A'])\n",
      "plt.xlabel('x-coordinate')\n",
      "plt.ylabel('Population')\n",
      "plt.title('Population binned by x-coordinate')"
     ],
     "language": "python",
     "metadata": {},
     "outputs": [
      {
       "metadata": {},
       "output_type": "pyout",
       "prompt_number": 19,
       "text": [
        "<matplotlib.text.Text at 0x7fc17b04ea50>"
       ]
      },
      {
       "metadata": {},
       "output_type": "display_data",
       "png": "[encoded data removed]",
       "text": [
        "<matplotlib.figure.Figure at 0x7fc179a03110>"
       ]
      }
     ],
     "prompt_number": 19
    },
    {
     "cell_type": "heading",
     "level": 2,
     "metadata": {},
     "source": [
      "Animated Plot of the concentration of A and B over time"
     ]
    },
    {
     "cell_type": "code",
     "collapsed": false,
     "input": [
      "x_vals = model.mesh.coordinates()[:,0]\n",
      "A_vals = result.get_species('A', concentration=True)\n",
      "B_vals = result.get_species('B', concentration=True)\n",
      "for tndx, tval in enumerate(model.tspan):\n",
      "    plt.plot(x_vals, A_vals[tndx,:],'.b', x_vals, B_vals[tndx,:],'.r')\n",
      "    plt.legend(['A','B'])\n",
      "    plt.title('t={0}'.format(tval))\n",
      "    clear_output(wait=True)\n",
      "    plt.show()"
     ],
     "language": "python",
     "metadata": {},
     "outputs": [
      {
       "metadata": {},
       "output_type": "display_data",
       "png": "[encoded data removed]",
       "text": [
        "<matplotlib.figure.Figure at 0x7fc179909cd0>"
       ]
      }
     ],
     "prompt_number": 22
    }
   ],
   "metadata": {}
  }
 ]
}