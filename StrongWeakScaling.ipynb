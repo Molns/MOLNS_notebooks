{
 "metadata": {
  "name": "",
  "signature": "sha256:0350ce24e6b9ca5597d723fab5252fcc93bdd7d59ba5ce93658e2dae175927ee"
 },
 "nbformat": 3,
 "nbformat_minor": 0,
 "worksheets": [
  {
   "cells": [
    {
     "cell_type": "heading",
     "level": 1,
     "metadata": {},
     "source": [
      "MOLNs Benchmarks"
     ]
    },
    {
     "cell_type": "markdown",
     "metadata": {},
     "source": [
      "This notebook contains some of the benchmarks conducted for the paper. "
     ]
    },
    {
     "cell_type": "code",
     "collapsed": false,
     "input": [
      "import IPython.parallel\n",
      "from molnsutil import DistributedEnsemble\n",
      "rc = IPython.parallel.Client()\n",
      "view = rc.load_balanced_view()\n",
      "import pyurdme\n",
      "import matplotlib as mpl\n",
      "mpl.rc(\"savefig\", dpi=120)\n",
      "print \"MOLNs cluster running with number of engines: {0}\".format(len(rc.ids))"
     ],
     "language": "python",
     "metadata": {},
     "outputs": [
      {
       "output_type": "stream",
       "stream": "stdout",
       "text": [
        "MOLNs cluster running with number of engines: 48\n"
       ]
      }
     ],
     "prompt_number": 2
    },
    {
     "cell_type": "code",
     "collapsed": false,
     "input": [
      "import pyurdme\n",
      "class SimpleDiffusion(pyurdme.URDMEModel):\n",
      "    \"\"\" This Hello World model follows a single\n",
      "        species A diffusing on a unit square. Initially,  \n",
      "        all N molecules are placed in the voxel closest \n",
      "        to the center of the domain and we simulate how \n",
      "        A spread by diffusion. This model is useful for benchmarking, \n",
      "        since it is easy to control the ratio of compute/data-I/O\n",
      "        through the model paramters. \n",
      "    \"\"\"\n",
      "    \n",
      "    def __init__(self, N=5000,D=0.01):\n",
      "        \n",
      "        pyurdme.URDMEModel.__init__(self,name=\"simple_diffusion\")\n",
      "\n",
      "        A = pyurdme.Species(name=\"A\",diffusion_constant=D)\n",
      "        B = pyurdme.Species(name=\"B\",diffusion_constant=D)\n",
      "        C = pyurdme.Species(name=\"C\",diffusion_constant=D)\n",
      "\n",
      "        self.add_species([A,B,C])\n",
      "        \n",
      "       # R1 = pyurdme.Reaction(name=\"R1\", reactants={\"A\":1, \"B\":1}, products={\"C\":1}, rate)\n",
      "        \n",
      "        # A unit square mesh\n",
      "        self.mesh = pyurdme.URDMEMesh.generate_cube_mesh(1,10,10,10)\n",
      "        \n",
      "        # Place the A molecules in the voxel nearest the center of the square\n",
      "        self.set_initial_condition_scatter({A:N})\n",
      "        self.set_initial_condition_scatter({B:N})\n",
      "        self.set_initial_condition_scatter({C:N})\n",
      "        \n",
      "        # Set the time frame for the study to [0,1], with results reported each 1e-3 seconds. \n",
      "        self.timespan(numpy.linspace(0,10,1001))"
     ],
     "language": "python",
     "metadata": {},
     "outputs": [],
     "prompt_number": 3
    },
    {
     "cell_type": "markdown",
     "metadata": {},
     "source": [
      "We first execute pyurdme on all the engines once, so that the model definition will be available on all engines. This is not necessary for typical jobs, only for our customized storage throughput experiments below.  "
     ]
    },
    {
     "cell_type": "code",
     "collapsed": false,
     "input": [
      "# We run it once so that the class will be enabled on all the engines.\n",
      "ensemble = DistributedEnsemble(model_class=SimpleDiffusion)\n",
      "res  = ensemble.add_realizations(number_of_realizations=100)\n",
      "res['wall_time']"
     ],
     "language": "python",
     "metadata": {},
     "outputs": [
      {
       "output_type": "stream",
       "stream": "stdout",
       "text": [
        "Generating 100 realizations of the model (chunk size=2)\n"
       ]
      },
      {
       "html": [
        "\n",
        "                          <div style=\"border: 1px solid black; width:500px\">\n",
        "                          <div id=\"8afbe3ec-941a-454d-818b-91b59049070b\" style=\"background-color:blue; width:0%\">&nbsp;</div>\n",
        "                          </div>\n",
        "                          "
       ],
       "metadata": {},
       "output_type": "display_data",
       "text": [
        "<IPython.core.display.HTML at 0x5b0f890>"
       ]
      },
      {
       "javascript": [
        "$('div#8afbe3ec-941a-454d-818b-91b59049070b').width('2.000000%')"
       ],
       "metadata": {},
       "output_type": "display_data",
       "text": [
        "<IPython.core.display.Javascript at 0x5b0fd50>"
       ]
      },
      {
       "javascript": [
        "$('div#8afbe3ec-941a-454d-818b-91b59049070b').width('4.000000%')"
       ],
       "metadata": {},
       "output_type": "display_data",
       "text": [
        "<IPython.core.display.Javascript at 0x5b0fc90>"
       ]
      },
      {
       "javascript": [
        "$('div#8afbe3ec-941a-454d-818b-91b59049070b').width('6.000000%')"
       ],
       "metadata": {},
       "output_type": "display_data",
       "text": [
        "<IPython.core.display.Javascript at 0x5b0fa50>"
       ]
      },
      {
       "javascript": [
        "$('div#8afbe3ec-941a-454d-818b-91b59049070b').width('8.000000%')"
       ],
       "metadata": {},
       "output_type": "display_data",
       "text": [
        "<IPython.core.display.Javascript at 0x5b0fa90>"
       ]
      },
      {
       "javascript": [
        "$('div#8afbe3ec-941a-454d-818b-91b59049070b').width('10.000000%')"
       ],
       "metadata": {},
       "output_type": "display_data",
       "text": [
        "<IPython.core.display.Javascript at 0x5b0fcd0>"
       ]
      },
      {
       "javascript": [
        "$('div#8afbe3ec-941a-454d-818b-91b59049070b').width('12.000000%')"
       ],
       "metadata": {},
       "output_type": "display_data",
       "text": [
        "<IPython.core.display.Javascript at 0x5b0fd90>"
       ]
      },
      {
       "javascript": [
        "$('div#8afbe3ec-941a-454d-818b-91b59049070b').width('14.000000%')"
       ],
       "metadata": {},
       "output_type": "display_data",
       "text": [
        "<IPython.core.display.Javascript at 0x5b0fdd0>"
       ]
      },
      {
       "javascript": [
        "$('div#8afbe3ec-941a-454d-818b-91b59049070b').width('16.000000%')"
       ],
       "metadata": {},
       "output_type": "display_data",
       "text": [
        "<IPython.core.display.Javascript at 0x5b0fe10>"
       ]
      },
      {
       "javascript": [
        "$('div#8afbe3ec-941a-454d-818b-91b59049070b').width('18.000000%')"
       ],
       "metadata": {},
       "output_type": "display_data",
       "text": [
        "<IPython.core.display.Javascript at 0x5b0fe90>"
       ]
      },
      {
       "javascript": [
        "$('div#8afbe3ec-941a-454d-818b-91b59049070b').width('20.000000%')"
       ],
       "metadata": {},
       "output_type": "display_data",
       "text": [
        "<IPython.core.display.Javascript at 0x5b0fed0>"
       ]
      },
      {
       "javascript": [
        "$('div#8afbe3ec-941a-454d-818b-91b59049070b').width('22.000000%')"
       ],
       "metadata": {},
       "output_type": "display_data",
       "text": [
        "<IPython.core.display.Javascript at 0x5b0ff10>"
       ]
      },
      {
       "javascript": [
        "$('div#8afbe3ec-941a-454d-818b-91b59049070b').width('24.000000%')"
       ],
       "metadata": {},
       "output_type": "display_data",
       "text": [
        "<IPython.core.display.Javascript at 0x5b0ff50>"
       ]
      },
      {
       "javascript": [
        "$('div#8afbe3ec-941a-454d-818b-91b59049070b').width('26.000000%')"
       ],
       "metadata": {},
       "output_type": "display_data",
       "text": [
        "<IPython.core.display.Javascript at 0x5b0ff90>"
       ]
      },
      {
       "javascript": [
        "$('div#8afbe3ec-941a-454d-818b-91b59049070b').width('28.000000%')"
       ],
       "metadata": {},
       "output_type": "display_data",
       "text": [
        "<IPython.core.display.Javascript at 0x5b0ff90>"
       ]
      },
      {
       "javascript": [
        "$('div#8afbe3ec-941a-454d-818b-91b59049070b').width('30.000000%')"
       ],
       "metadata": {},
       "output_type": "display_data",
       "text": [
        "<IPython.core.display.Javascript at 0x5b0fe50>"
       ]
      },
      {
       "javascript": [
        "$('div#8afbe3ec-941a-454d-818b-91b59049070b').width('32.000000%')"
       ],
       "metadata": {},
       "output_type": "display_data",
       "text": [
        "<IPython.core.display.Javascript at 0x5b0ffd0>"
       ]
      },
      {
       "javascript": [
        "$('div#8afbe3ec-941a-454d-818b-91b59049070b').width('34.000000%')"
       ],
       "metadata": {},
       "output_type": "display_data",
       "text": [
        "<IPython.core.display.Javascript at 0x5b0ff50>"
       ]
      },
      {
       "javascript": [
        "$('div#8afbe3ec-941a-454d-818b-91b59049070b').width('36.000000%')"
       ],
       "metadata": {},
       "output_type": "display_data",
       "text": [
        "<IPython.core.display.Javascript at 0x5b0ff10>"
       ]
      },
      {
       "javascript": [
        "$('div#8afbe3ec-941a-454d-818b-91b59049070b').width('38.000000%')"
       ],
       "metadata": {},
       "output_type": "display_data",
       "text": [
        "<IPython.core.display.Javascript at 0x5b0fe90>"
       ]
      },
      {
       "javascript": [
        "$('div#8afbe3ec-941a-454d-818b-91b59049070b').width('40.000000%')"
       ],
       "metadata": {},
       "output_type": "display_data",
       "text": [
        "<IPython.core.display.Javascript at 0x5b0fe10>"
       ]
      },
      {
       "javascript": [
        "$('div#8afbe3ec-941a-454d-818b-91b59049070b').width('42.000000%')"
       ],
       "metadata": {},
       "output_type": "display_data",
       "text": [
        "<IPython.core.display.Javascript at 0x5b0fdd0>"
       ]
      },
      {
       "javascript": [
        "$('div#8afbe3ec-941a-454d-818b-91b59049070b').width('44.000000%')"
       ],
       "metadata": {},
       "output_type": "display_data",
       "text": [
        "<IPython.core.display.Javascript at 0x5b0fd90>"
       ]
      },
      {
       "javascript": [
        "$('div#8afbe3ec-941a-454d-818b-91b59049070b').width('46.000000%')"
       ],
       "metadata": {},
       "output_type": "display_data",
       "text": [
        "<IPython.core.display.Javascript at 0x5b0fcd0>"
       ]
      },
      {
       "javascript": [
        "$('div#8afbe3ec-941a-454d-818b-91b59049070b').width('48.000000%')"
       ],
       "metadata": {},
       "output_type": "display_data",
       "text": [
        "<IPython.core.display.Javascript at 0x5b0fa90>"
       ]
      },
      {
       "javascript": [
        "$('div#8afbe3ec-941a-454d-818b-91b59049070b').width('50.000000%')"
       ],
       "metadata": {},
       "output_type": "display_data",
       "text": [
        "<IPython.core.display.Javascript at 0x5b0fa50>"
       ]
      },
      {
       "javascript": [
        "$('div#8afbe3ec-941a-454d-818b-91b59049070b').width('52.000000%')"
       ],
       "metadata": {},
       "output_type": "display_data",
       "text": [
        "<IPython.core.display.Javascript at 0x5b0fc90>"
       ]
      },
      {
       "javascript": [
        "$('div#8afbe3ec-941a-454d-818b-91b59049070b').width('54.000000%')"
       ],
       "metadata": {},
       "output_type": "display_data",
       "text": [
        "<IPython.core.display.Javascript at 0x5b0fed0>"
       ]
      },
      {
       "javascript": [
        "$('div#8afbe3ec-941a-454d-818b-91b59049070b').width('56.000000%')"
       ],
       "metadata": {},
       "output_type": "display_data",
       "text": [
        "<IPython.core.display.Javascript at 0x5b0fd50>"
       ]
      },
      {
       "javascript": [
        "$('div#8afbe3ec-941a-454d-818b-91b59049070b').width('58.000000%')"
       ],
       "metadata": {},
       "output_type": "display_data",
       "text": [
        "<IPython.core.display.Javascript at 0x5aa66d0>"
       ]
      },
      {
       "javascript": [
        "$('div#8afbe3ec-941a-454d-818b-91b59049070b').width('60.000000%')"
       ],
       "metadata": {},
       "output_type": "display_data",
       "text": [
        "<IPython.core.display.Javascript at 0x5aa6890>"
       ]
      },
      {
       "javascript": [
        "$('div#8afbe3ec-941a-454d-818b-91b59049070b').width('62.000000%')"
       ],
       "metadata": {},
       "output_type": "display_data",
       "text": [
        "<IPython.core.display.Javascript at 0x5aa6910>"
       ]
      },
      {
       "javascript": [
        "$('div#8afbe3ec-941a-454d-818b-91b59049070b').width('64.000000%')"
       ],
       "metadata": {},
       "output_type": "display_data",
       "text": [
        "<IPython.core.display.Javascript at 0x5aa68d0>"
       ]
      },
      {
       "javascript": [
        "$('div#8afbe3ec-941a-454d-818b-91b59049070b').width('66.000000%')"
       ],
       "metadata": {},
       "output_type": "display_data",
       "text": [
        "<IPython.core.display.Javascript at 0x5aa6a10>"
       ]
      },
      {
       "javascript": [
        "$('div#8afbe3ec-941a-454d-818b-91b59049070b').width('68.000000%')"
       ],
       "metadata": {},
       "output_type": "display_data",
       "text": [
        "<IPython.core.display.Javascript at 0x5aa6950>"
       ]
      },
      {
       "javascript": [
        "$('div#8afbe3ec-941a-454d-818b-91b59049070b').width('70.000000%')"
       ],
       "metadata": {},
       "output_type": "display_data",
       "text": [
        "<IPython.core.display.Javascript at 0x5aa6a90>"
       ]
      },
      {
       "javascript": [
        "$('div#8afbe3ec-941a-454d-818b-91b59049070b').width('72.000000%')"
       ],
       "metadata": {},
       "output_type": "display_data",
       "text": [
        "<IPython.core.display.Javascript at 0x5aa6a50>"
       ]
      },
      {
       "javascript": [
        "$('div#8afbe3ec-941a-454d-818b-91b59049070b').width('74.000000%')"
       ],
       "metadata": {},
       "output_type": "display_data",
       "text": [
        "<IPython.core.display.Javascript at 0x5aa69d0>"
       ]
      },
      {
       "javascript": [
        "$('div#8afbe3ec-941a-454d-818b-91b59049070b').width('76.000000%')"
       ],
       "metadata": {},
       "output_type": "display_data",
       "text": [
        "<IPython.core.display.Javascript at 0x5aa6990>"
       ]
      },
      {
       "javascript": [
        "$('div#8afbe3ec-941a-454d-818b-91b59049070b').width('78.000000%')"
       ],
       "metadata": {},
       "output_type": "display_data",
       "text": [
        "<IPython.core.display.Javascript at 0x5aa6ad0>"
       ]
      },
      {
       "javascript": [
        "$('div#8afbe3ec-941a-454d-818b-91b59049070b').width('80.000000%')"
       ],
       "metadata": {},
       "output_type": "display_data",
       "text": [
        "<IPython.core.display.Javascript at 0x5aa6b50>"
       ]
      },
      {
       "javascript": [
        "$('div#8afbe3ec-941a-454d-818b-91b59049070b').width('82.000000%')"
       ],
       "metadata": {},
       "output_type": "display_data",
       "text": [
        "<IPython.core.display.Javascript at 0x5aa6c10>"
       ]
      },
      {
       "javascript": [
        "$('div#8afbe3ec-941a-454d-818b-91b59049070b').width('84.000000%')"
       ],
       "metadata": {},
       "output_type": "display_data",
       "text": [
        "<IPython.core.display.Javascript at 0x5aa6c50>"
       ]
      },
      {
       "javascript": [
        "$('div#8afbe3ec-941a-454d-818b-91b59049070b').width('86.000000%')"
       ],
       "metadata": {},
       "output_type": "display_data",
       "text": [
        "<IPython.core.display.Javascript at 0x5aa6b90>"
       ]
      },
      {
       "javascript": [
        "$('div#8afbe3ec-941a-454d-818b-91b59049070b').width('88.000000%')"
       ],
       "metadata": {},
       "output_type": "display_data",
       "text": [
        "<IPython.core.display.Javascript at 0x5aa6bd0>"
       ]
      },
      {
       "javascript": [
        "$('div#8afbe3ec-941a-454d-818b-91b59049070b').width('90.000000%')"
       ],
       "metadata": {},
       "output_type": "display_data",
       "text": [
        "<IPython.core.display.Javascript at 0x5aa6b10>"
       ]
      },
      {
       "javascript": [
        "$('div#8afbe3ec-941a-454d-818b-91b59049070b').width('92.000000%')"
       ],
       "metadata": {},
       "output_type": "display_data",
       "text": [
        "<IPython.core.display.Javascript at 0x5aa6c90>"
       ]
      },
      {
       "javascript": [
        "$('div#8afbe3ec-941a-454d-818b-91b59049070b').width('94.000000%')"
       ],
       "metadata": {},
       "output_type": "display_data",
       "text": [
        "<IPython.core.display.Javascript at 0x5aa6cd0>"
       ]
      },
      {
       "javascript": [
        "$('div#8afbe3ec-941a-454d-818b-91b59049070b').width('96.000000%')"
       ],
       "metadata": {},
       "output_type": "display_data",
       "text": [
        "<IPython.core.display.Javascript at 0x5aa6d90>"
       ]
      },
      {
       "javascript": [
        "$('div#8afbe3ec-941a-454d-818b-91b59049070b').width('98.000000%')"
       ],
       "metadata": {},
       "output_type": "display_data",
       "text": [
        "<IPython.core.display.Javascript at 0x5aa6dd0>"
       ]
      },
      {
       "javascript": [
        "$('div#8afbe3ec-941a-454d-818b-91b59049070b').width('100.000000%')"
       ],
       "metadata": {},
       "output_type": "display_data",
       "text": [
        "<IPython.core.display.Javascript at 0x5aa6d10>"
       ]
      },
      {
       "metadata": {},
       "output_type": "pyout",
       "prompt_number": 4,
       "text": [
        "111.301017"
       ]
      }
     ],
     "prompt_number": 4
    },
    {
     "cell_type": "code",
     "collapsed": false,
     "input": [
      "num_engines = len(rc.ids)\n",
      "engines = []\n",
      "while num_engines > 1:\n",
      "    engines.append(num_engines)\n",
      "    num_engines=num_engines/2\n",
      "engines.append(1)\n",
      "engines.reverse()\n",
      "print engines"
     ],
     "language": "python",
     "metadata": {},
     "outputs": [
      {
       "output_type": "stream",
       "stream": "stdout",
       "text": [
        "[1, 3, 6, 12, 24, 48]\n"
       ]
      }
     ],
     "prompt_number": 5
    },
    {
     "cell_type": "code",
     "collapsed": false,
     "input": [
      "#Clean up\n",
      "from molnsutil import PersistentStorage\n",
      "ps = PersistentStorage()\n",
      "ps.delete_all()"
     ],
     "language": "python",
     "metadata": {},
     "outputs": [
      {
       "output_type": "stream",
       "stream": "stdout",
       "text": [
        "{'content-length': '0', 'x-container-object-count': '0', 'accept-ranges': 'bytes', 'date': 'Sun, 28 Dec 2014 07:26:48 GMT', 'connection': 'keep-alive', 'x-timestamp': '1419751607.83952', 'x-trans-id': 'txa61b7625b8c74eacae28f-00549fb0b8', 'x-container-bytes-used': '0', 'content-type': 'text/plain; charset=utf-8'}\n"
       ]
      }
     ],
     "prompt_number": 16
    },
    {
     "cell_type": "heading",
     "level": 1,
     "metadata": {},
     "source": [
      "Generating a distributed ensemble and Computing the mean value of a function"
     ]
    },
    {
     "cell_type": "code",
     "collapsed": false,
     "input": [
      "def g(result):\n",
      "    \"\"\" Extract the spatial distribution of species A at the final timepoint. \"\"\"\n",
      "    import numpy\n",
      "    A = result.get_species(\"A\",-1)\n",
      "    return A"
     ],
     "language": "python",
     "metadata": {},
     "outputs": [],
     "prompt_number": 17
    },
    {
     "cell_type": "heading",
     "level": 1,
     "metadata": {},
     "source": [
      "Strong scaling - the total work is constant and the number of engines increase (parallel efficiency)"
     ]
    },
    {
     "cell_type": "markdown",
     "metadata": {},
     "source": [
      "We conduct scaling experiments by sequnentially doubling the number of engines used. "
     ]
    },
    {
     "cell_type": "heading",
     "level": 3,
     "metadata": {},
     "source": [
      "Using the sshf SharedStorage"
     ]
    },
    {
     "cell_type": "code",
     "collapsed": false,
     "input": [
      "import time\n",
      "wall_time_strong_phase1 = []\n",
      "wall_time_strong_phase2 = []\n",
      "for num_engines in engines:\n",
      "    # Phase1 - generate all the realizations and write them to disk\n",
      "    ensemble = DistributedEnsemble(model_class=SimpleDiffusion,num_engines=num_engines)\n",
      "    tic = time.time()\n",
      "    res  = ensemble.add_realizations(number_of_realizations=100)\n",
      "    wall_time_1 = time.time()-tic\n",
      "    wall_time_strong_phase1.append(wall_time_1)\n",
      "    # Phase 2 - read all the realizations and compute the mean value\n",
      "    tic = time.time()\n",
      "    res = ensemble.mean(mapper=g)\n",
      "    wall_time_2 = time.time()-tic\n",
      "    wall_time_strong_phase2.append(wall_time_2)\n",
      "    \n",
      "    print \"Number of engines: %i\" % num_engines\n",
      "    print \"\\tPhase1, wall_time: %f\" % wall_time_1\n",
      "    print \"\\tPhase2, wall_time: %f\" % wall_time_2\n",
      "\n"
     ],
     "language": "python",
     "metadata": {},
     "outputs": [
      {
       "output_type": "stream",
       "stream": "stdout",
       "text": [
        "Generating 100 realizations of the model (chunk size=100)\n"
       ]
      },
      {
       "html": [
        "\n",
        "                          <div style=\"border: 1px solid black; width:500px\">\n",
        "                          <div id=\"46dabfc2-2cf6-4e80-8689-05299b92aee6\" style=\"background-color:blue; width:0%\">&nbsp;</div>\n",
        "                          </div>\n",
        "                          "
       ],
       "metadata": {},
       "output_type": "display_data",
       "text": [
        "<IPython.core.display.HTML at 0x5b0f950>"
       ]
      },
      {
       "javascript": [
        "$('div#46dabfc2-2cf6-4e80-8689-05299b92aee6').width('100.000000%')"
       ],
       "metadata": {},
       "output_type": "display_data",
       "text": [
        "<IPython.core.display.Javascript at 0x823e6d0>"
       ]
      },
      {
       "output_type": "stream",
       "stream": "stdout",
       "text": [
        "Running mapper & aggregator on the result objects (number of results=100, chunk size=100)\n"
       ]
      },
      {
       "html": [
        "\n",
        "                          <div style=\"border: 1px solid black; width:500px\">\n",
        "                          <div id=\"787e726a-6954-4932-b9ec-142f8584c009\" style=\"background-color:blue; width:0%\">&nbsp;</div>\n",
        "                          </div>\n",
        "                          "
       ],
       "metadata": {},
       "output_type": "display_data",
       "text": [
        "<IPython.core.display.HTML at 0x823e650>"
       ]
      },
      {
       "javascript": [
        "$('div#787e726a-6954-4932-b9ec-142f8584c009').width('100.000000%')"
       ],
       "metadata": {},
       "output_type": "display_data",
       "text": [
        "<IPython.core.display.Javascript at 0x823e690>"
       ]
      },
      {
       "output_type": "stream",
       "stream": "stdout",
       "text": [
        "Running reducer on mapped and aggregated results (size=1)\n",
        "Number of engines: 1\n",
        "\tPhase1, wall_time: 540.544954\n",
        "\tPhase2, wall_time: 173.648684\n",
        "Generating 100 realizations of the model (chunk size=33)\n"
       ]
      },
      {
       "html": [
        "\n",
        "                          <div style=\"border: 1px solid black; width:500px\">\n",
        "                          <div id=\"f56e21ea-cc66-4a76-a878-75d2e72ed481\" style=\"background-color:blue; width:0%\">&nbsp;</div>\n",
        "                          </div>\n",
        "                          "
       ],
       "metadata": {},
       "output_type": "display_data",
       "text": [
        "<IPython.core.display.HTML at 0x7fe5225d46d0>"
       ]
      },
      {
       "javascript": [
        "$('div#f56e21ea-cc66-4a76-a878-75d2e72ed481').width('25.000000%')"
       ],
       "metadata": {},
       "output_type": "display_data",
       "text": [
        "<IPython.core.display.Javascript at 0x823e810>"
       ]
      },
      {
       "javascript": [
        "$('div#f56e21ea-cc66-4a76-a878-75d2e72ed481').width('50.000000%')"
       ],
       "metadata": {},
       "output_type": "display_data",
       "text": [
        "<IPython.core.display.Javascript at 0x823e750>"
       ]
      },
      {
       "javascript": [
        "$('div#f56e21ea-cc66-4a76-a878-75d2e72ed481').width('75.000000%')"
       ],
       "metadata": {},
       "output_type": "display_data",
       "text": [
        "<IPython.core.display.Javascript at 0x823e890>"
       ]
      },
      {
       "javascript": [
        "$('div#f56e21ea-cc66-4a76-a878-75d2e72ed481').width('100.000000%')"
       ],
       "metadata": {},
       "output_type": "display_data",
       "text": [
        "<IPython.core.display.Javascript at 0x823e5d0>"
       ]
      },
      {
       "output_type": "stream",
       "stream": "stdout",
       "text": [
        "Running mapper & aggregator on the result objects (number of results=100, chunk size=33)\n"
       ]
      },
      {
       "html": [
        "\n",
        "                          <div style=\"border: 1px solid black; width:500px\">\n",
        "                          <div id=\"1813d7c2-4e90-4105-a01b-f45e548a94c8\" style=\"background-color:blue; width:0%\">&nbsp;</div>\n",
        "                          </div>\n",
        "                          "
       ],
       "metadata": {},
       "output_type": "display_data",
       "text": [
        "<IPython.core.display.HTML at 0x823e910>"
       ]
      },
      {
       "javascript": [
        "$('div#1813d7c2-4e90-4105-a01b-f45e548a94c8').width('25.000000%')"
       ],
       "metadata": {},
       "output_type": "display_data",
       "text": [
        "<IPython.core.display.Javascript at 0x823ea10>"
       ]
      },
      {
       "javascript": [
        "$('div#1813d7c2-4e90-4105-a01b-f45e548a94c8').width('50.000000%')"
       ],
       "metadata": {},
       "output_type": "display_data",
       "text": [
        "<IPython.core.display.Javascript at 0x823eb90>"
       ]
      },
      {
       "javascript": [
        "$('div#1813d7c2-4e90-4105-a01b-f45e548a94c8').width('75.000000%')"
       ],
       "metadata": {},
       "output_type": "display_data",
       "text": [
        "<IPython.core.display.Javascript at 0x823ead0>"
       ]
      },
      {
       "javascript": [
        "$('div#1813d7c2-4e90-4105-a01b-f45e548a94c8').width('100.000000%')"
       ],
       "metadata": {},
       "output_type": "display_data",
       "text": [
        "<IPython.core.display.Javascript at 0x823ead0>"
       ]
      },
      {
       "output_type": "stream",
       "stream": "stdout",
       "text": [
        "Running reducer on mapped and aggregated results (size=4)\n",
        "Number of engines: 3\n",
        "\tPhase1, wall_time: 225.992203\n",
        "\tPhase2, wall_time: 78.098442\n",
        "Generating 100 realizations of the model (chunk size=17)\n"
       ]
      },
      {
       "html": [
        "\n",
        "                          <div style=\"border: 1px solid black; width:500px\">\n",
        "                          <div id=\"52f27ec7-ea75-4ca9-9d9b-1ef7a78e99aa\" style=\"background-color:blue; width:0%\">&nbsp;</div>\n",
        "                          </div>\n",
        "                          "
       ],
       "metadata": {},
       "output_type": "display_data",
       "text": [
        "<IPython.core.display.HTML at 0x823e850>"
       ]
      },
      {
       "javascript": [
        "$('div#52f27ec7-ea75-4ca9-9d9b-1ef7a78e99aa').width('16.666667%')"
       ],
       "metadata": {},
       "output_type": "display_data",
       "text": [
        "<IPython.core.display.Javascript at 0x823e890>"
       ]
      },
      {
       "javascript": [
        "$('div#52f27ec7-ea75-4ca9-9d9b-1ef7a78e99aa').width('33.333333%')"
       ],
       "metadata": {},
       "output_type": "display_data",
       "text": [
        "<IPython.core.display.Javascript at 0x823e790>"
       ]
      },
      {
       "javascript": [
        "$('div#52f27ec7-ea75-4ca9-9d9b-1ef7a78e99aa').width('50.000000%')"
       ],
       "metadata": {},
       "output_type": "display_data",
       "text": [
        "<IPython.core.display.Javascript at 0x823ec10>"
       ]
      },
      {
       "javascript": [
        "$('div#52f27ec7-ea75-4ca9-9d9b-1ef7a78e99aa').width('66.666667%')"
       ],
       "metadata": {},
       "output_type": "display_data",
       "text": [
        "<IPython.core.display.Javascript at 0x823eb90>"
       ]
      },
      {
       "javascript": [
        "$('div#52f27ec7-ea75-4ca9-9d9b-1ef7a78e99aa').width('83.333333%')"
       ],
       "metadata": {},
       "output_type": "display_data",
       "text": [
        "<IPython.core.display.Javascript at 0x823ea10>"
       ]
      },
      {
       "javascript": [
        "$('div#52f27ec7-ea75-4ca9-9d9b-1ef7a78e99aa').width('100.000000%')"
       ],
       "metadata": {},
       "output_type": "display_data",
       "text": [
        "<IPython.core.display.Javascript at 0x823e750>"
       ]
      },
      {
       "output_type": "stream",
       "stream": "stdout",
       "text": [
        "Running mapper & aggregator on the result objects (number of results=100, chunk size=17)\n"
       ]
      },
      {
       "html": [
        "\n",
        "                          <div style=\"border: 1px solid black; width:500px\">\n",
        "                          <div id=\"f7ae239e-e0b8-419e-829c-a819cc136d0a\" style=\"background-color:blue; width:0%\">&nbsp;</div>\n",
        "                          </div>\n",
        "                          "
       ],
       "metadata": {},
       "output_type": "display_data",
       "text": [
        "<IPython.core.display.HTML at 0x823e810>"
       ]
      },
      {
       "javascript": [
        "$('div#f7ae239e-e0b8-419e-829c-a819cc136d0a').width('16.666667%')"
       ],
       "metadata": {},
       "output_type": "display_data",
       "text": [
        "<IPython.core.display.Javascript at 0x823e650>"
       ]
      },
      {
       "javascript": [
        "$('div#f7ae239e-e0b8-419e-829c-a819cc136d0a').width('33.333333%')"
       ],
       "metadata": {},
       "output_type": "display_data",
       "text": [
        "<IPython.core.display.Javascript at 0x823ed90>"
       ]
      },
      {
       "javascript": [
        "$('div#f7ae239e-e0b8-419e-829c-a819cc136d0a').width('50.000000%')"
       ],
       "metadata": {},
       "output_type": "display_data",
       "text": [
        "<IPython.core.display.Javascript at 0x823eb10>"
       ]
      },
      {
       "javascript": [
        "$('div#f7ae239e-e0b8-419e-829c-a819cc136d0a').width('66.666667%')"
       ],
       "metadata": {},
       "output_type": "display_data",
       "text": [
        "<IPython.core.display.Javascript at 0x823ecd0>"
       ]
      },
      {
       "javascript": [
        "$('div#f7ae239e-e0b8-419e-829c-a819cc136d0a').width('83.333333%')"
       ],
       "metadata": {},
       "output_type": "display_data",
       "text": [
        "<IPython.core.display.Javascript at 0x823ed10>"
       ]
      },
      {
       "javascript": [
        "$('div#f7ae239e-e0b8-419e-829c-a819cc136d0a').width('100.000000%')"
       ],
       "metadata": {},
       "output_type": "display_data",
       "text": [
        "<IPython.core.display.Javascript at 0x823ed50>"
       ]
      },
      {
       "output_type": "stream",
       "stream": "stdout",
       "text": [
        "Running reducer on mapped and aggregated results (size=6)\n",
        "Number of engines: 6\n",
        "\tPhase1, wall_time: 314.309812\n",
        "\tPhase2, wall_time: 41.431931\n",
        "Generating 100 realizations of the model (chunk size=8)\n"
       ]
      },
      {
       "html": [
        "\n",
        "                          <div style=\"border: 1px solid black; width:500px\">\n",
        "                          <div id=\"a4119b23-a4b5-42f0-a8b4-ee412a339967\" style=\"background-color:blue; width:0%\">&nbsp;</div>\n",
        "                          </div>\n",
        "                          "
       ],
       "metadata": {},
       "output_type": "display_data",
       "text": [
        "<IPython.core.display.HTML at 0x823ea90>"
       ]
      },
      {
       "javascript": [
        "$('div#a4119b23-a4b5-42f0-a8b4-ee412a339967').width('7.692308%')"
       ],
       "metadata": {},
       "output_type": "display_data",
       "text": [
        "<IPython.core.display.Javascript at 0x823ec90>"
       ]
      },
      {
       "javascript": [
        "$('div#a4119b23-a4b5-42f0-a8b4-ee412a339967').width('15.384615%')"
       ],
       "metadata": {},
       "output_type": "display_data",
       "text": [
        "<IPython.core.display.Javascript at 0x823eb10>"
       ]
      },
      {
       "javascript": [
        "$('div#a4119b23-a4b5-42f0-a8b4-ee412a339967').width('23.076923%')"
       ],
       "metadata": {},
       "output_type": "display_data",
       "text": [
        "<IPython.core.display.Javascript at 0x823ed90>"
       ]
      },
      {
       "javascript": [
        "$('div#a4119b23-a4b5-42f0-a8b4-ee412a339967').width('30.769231%')"
       ],
       "metadata": {},
       "output_type": "display_data",
       "text": [
        "<IPython.core.display.Javascript at 0x823ecd0>"
       ]
      },
      {
       "javascript": [
        "$('div#a4119b23-a4b5-42f0-a8b4-ee412a339967').width('38.461538%')"
       ],
       "metadata": {},
       "output_type": "display_data",
       "text": [
        "<IPython.core.display.Javascript at 0x823e650>"
       ]
      },
      {
       "javascript": [
        "$('div#a4119b23-a4b5-42f0-a8b4-ee412a339967').width('46.153846%')"
       ],
       "metadata": {},
       "output_type": "display_data",
       "text": [
        "<IPython.core.display.Javascript at 0x823e810>"
       ]
      },
      {
       "javascript": [
        "$('div#a4119b23-a4b5-42f0-a8b4-ee412a339967').width('53.846154%')"
       ],
       "metadata": {},
       "output_type": "display_data",
       "text": [
        "<IPython.core.display.Javascript at 0x823e750>"
       ]
      },
      {
       "javascript": [
        "$('div#a4119b23-a4b5-42f0-a8b4-ee412a339967').width('61.538462%')"
       ],
       "metadata": {},
       "output_type": "display_data",
       "text": [
        "<IPython.core.display.Javascript at 0x823eb90>"
       ]
      },
      {
       "javascript": [
        "$('div#a4119b23-a4b5-42f0-a8b4-ee412a339967').width('69.230769%')"
       ],
       "metadata": {},
       "output_type": "display_data",
       "text": [
        "<IPython.core.display.Javascript at 0x823ec10>"
       ]
      },
      {
       "javascript": [
        "$('div#a4119b23-a4b5-42f0-a8b4-ee412a339967').width('76.923077%')"
       ],
       "metadata": {},
       "output_type": "display_data",
       "text": [
        "<IPython.core.display.Javascript at 0x823e790>"
       ]
      },
      {
       "javascript": [
        "$('div#a4119b23-a4b5-42f0-a8b4-ee412a339967').width('84.615385%')"
       ],
       "metadata": {},
       "output_type": "display_data",
       "text": [
        "<IPython.core.display.Javascript at 0x823e890>"
       ]
      },
      {
       "javascript": [
        "$('div#a4119b23-a4b5-42f0-a8b4-ee412a339967').width('92.307692%')"
       ],
       "metadata": {},
       "output_type": "display_data",
       "text": [
        "<IPython.core.display.Javascript at 0x823e850>"
       ]
      },
      {
       "javascript": [
        "$('div#a4119b23-a4b5-42f0-a8b4-ee412a339967').width('100.000000%')"
       ],
       "metadata": {},
       "output_type": "display_data",
       "text": [
        "<IPython.core.display.Javascript at 0x823e5d0>"
       ]
      },
      {
       "output_type": "stream",
       "stream": "stdout",
       "text": [
        "Running mapper & aggregator on the result objects (number of results=100, chunk size=8)\n"
       ]
      },
      {
       "html": [
        "\n",
        "                          <div style=\"border: 1px solid black; width:500px\">\n",
        "                          <div id=\"1c577ad1-0cd0-4faa-9b3d-01e703b3f6aa\" style=\"background-color:blue; width:0%\">&nbsp;</div>\n",
        "                          </div>\n",
        "                          "
       ],
       "metadata": {},
       "output_type": "display_data",
       "text": [
        "<IPython.core.display.HTML at 0x823ead0>"
       ]
      },
      {
       "javascript": [
        "$('div#1c577ad1-0cd0-4faa-9b3d-01e703b3f6aa').width('7.692308%')"
       ],
       "metadata": {},
       "output_type": "display_data",
       "text": [
        "<IPython.core.display.Javascript at 0x823efd0>"
       ]
      },
      {
       "javascript": [
        "$('div#1c577ad1-0cd0-4faa-9b3d-01e703b3f6aa').width('15.384615%')"
       ],
       "metadata": {},
       "output_type": "display_data",
       "text": [
        "<IPython.core.display.Javascript at 0x823ea10>"
       ]
      },
      {
       "javascript": [
        "$('div#1c577ad1-0cd0-4faa-9b3d-01e703b3f6aa').width('23.076923%')"
       ],
       "metadata": {},
       "output_type": "display_data",
       "text": [
        "<IPython.core.display.Javascript at 0x8474050>"
       ]
      },
      {
       "javascript": [
        "$('div#1c577ad1-0cd0-4faa-9b3d-01e703b3f6aa').width('30.769231%')"
       ],
       "metadata": {},
       "output_type": "display_data",
       "text": [
        "<IPython.core.display.Javascript at 0x8474090>"
       ]
      },
      {
       "javascript": [
        "$('div#1c577ad1-0cd0-4faa-9b3d-01e703b3f6aa').width('38.461538%')"
       ],
       "metadata": {},
       "output_type": "display_data",
       "text": [
        "<IPython.core.display.Javascript at 0x84740d0>"
       ]
      },
      {
       "javascript": [
        "$('div#1c577ad1-0cd0-4faa-9b3d-01e703b3f6aa').width('46.153846%')"
       ],
       "metadata": {},
       "output_type": "display_data",
       "text": [
        "<IPython.core.display.Javascript at 0x8474150>"
       ]
      },
      {
       "javascript": [
        "$('div#1c577ad1-0cd0-4faa-9b3d-01e703b3f6aa').width('53.846154%')"
       ],
       "metadata": {},
       "output_type": "display_data",
       "text": [
        "<IPython.core.display.Javascript at 0x84741d0>"
       ]
      },
      {
       "javascript": [
        "$('div#1c577ad1-0cd0-4faa-9b3d-01e703b3f6aa').width('61.538462%')"
       ],
       "metadata": {},
       "output_type": "display_data",
       "text": [
        "<IPython.core.display.Javascript at 0x8474190>"
       ]
      },
      {
       "javascript": [
        "$('div#1c577ad1-0cd0-4faa-9b3d-01e703b3f6aa').width('69.230769%')"
       ],
       "metadata": {},
       "output_type": "display_data",
       "text": [
        "<IPython.core.display.Javascript at 0x8474210>"
       ]
      },
      {
       "javascript": [
        "$('div#1c577ad1-0cd0-4faa-9b3d-01e703b3f6aa').width('76.923077%')"
       ],
       "metadata": {},
       "output_type": "display_data",
       "text": [
        "<IPython.core.display.Javascript at 0x8474250>"
       ]
      },
      {
       "javascript": [
        "$('div#1c577ad1-0cd0-4faa-9b3d-01e703b3f6aa').width('84.615385%')"
       ],
       "metadata": {},
       "output_type": "display_data",
       "text": [
        "<IPython.core.display.Javascript at 0x8474290>"
       ]
      },
      {
       "javascript": [
        "$('div#1c577ad1-0cd0-4faa-9b3d-01e703b3f6aa').width('92.307692%')"
       ],
       "metadata": {},
       "output_type": "display_data",
       "text": [
        "<IPython.core.display.Javascript at 0x84742d0>"
       ]
      },
      {
       "javascript": [
        "$('div#1c577ad1-0cd0-4faa-9b3d-01e703b3f6aa').width('100.000000%')"
       ],
       "metadata": {},
       "output_type": "display_data",
       "text": [
        "<IPython.core.display.Javascript at 0x8474310>"
       ]
      },
      {
       "output_type": "stream",
       "stream": "stdout",
       "text": [
        "Running reducer on mapped and aggregated results (size=13)\n",
        "Number of engines: 12\n",
        "\tPhase1, wall_time: 241.871217\n",
        "\tPhase2, wall_time: 44.514525\n",
        "Generating 100 realizations of the model (chunk size=4)\n"
       ]
      },
      {
       "html": [
        "\n",
        "                          <div style=\"border: 1px solid black; width:500px\">\n",
        "                          <div id=\"472f05af-2f6e-43fd-9ab9-fa8f44b0b642\" style=\"background-color:blue; width:0%\">&nbsp;</div>\n",
        "                          </div>\n",
        "                          "
       ],
       "metadata": {},
       "output_type": "display_data",
       "text": [
        "<IPython.core.display.HTML at 0x823eed0>"
       ]
      },
      {
       "javascript": [
        "$('div#472f05af-2f6e-43fd-9ab9-fa8f44b0b642').width('4.000000%')"
       ],
       "metadata": {},
       "output_type": "display_data",
       "text": [
        "<IPython.core.display.Javascript at 0x823ea10>"
       ]
      },
      {
       "javascript": [
        "$('div#472f05af-2f6e-43fd-9ab9-fa8f44b0b642').width('8.000000%')"
       ],
       "metadata": {},
       "output_type": "display_data",
       "text": [
        "<IPython.core.display.Javascript at 0x823e5d0>"
       ]
      },
      {
       "javascript": [
        "$('div#472f05af-2f6e-43fd-9ab9-fa8f44b0b642').width('12.000000%')"
       ],
       "metadata": {},
       "output_type": "display_data",
       "text": [
        "<IPython.core.display.Javascript at 0x823e790>"
       ]
      },
      {
       "javascript": [
        "$('div#472f05af-2f6e-43fd-9ab9-fa8f44b0b642').width('16.000000%')"
       ],
       "metadata": {},
       "output_type": "display_data",
       "text": [
        "<IPython.core.display.Javascript at 0x823eb90>"
       ]
      },
      {
       "javascript": [
        "$('div#472f05af-2f6e-43fd-9ab9-fa8f44b0b642').width('20.000000%')"
       ],
       "metadata": {},
       "output_type": "display_data",
       "text": [
        "<IPython.core.display.Javascript at 0x823e750>"
       ]
      },
      {
       "javascript": [
        "$('div#472f05af-2f6e-43fd-9ab9-fa8f44b0b642').width('24.000000%')"
       ],
       "metadata": {},
       "output_type": "display_data",
       "text": [
        "<IPython.core.display.Javascript at 0x823e810>"
       ]
      },
      {
       "javascript": [
        "$('div#472f05af-2f6e-43fd-9ab9-fa8f44b0b642').width('28.000000%')"
       ],
       "metadata": {},
       "output_type": "display_data",
       "text": [
        "<IPython.core.display.Javascript at 0x823e650>"
       ]
      },
      {
       "javascript": [
        "$('div#472f05af-2f6e-43fd-9ab9-fa8f44b0b642').width('32.000000%')"
       ],
       "metadata": {},
       "output_type": "display_data",
       "text": [
        "<IPython.core.display.Javascript at 0x823ed90>"
       ]
      },
      {
       "javascript": [
        "$('div#472f05af-2f6e-43fd-9ab9-fa8f44b0b642').width('36.000000%')"
       ],
       "metadata": {},
       "output_type": "display_data",
       "text": [
        "<IPython.core.display.Javascript at 0x823ec10>"
       ]
      },
      {
       "javascript": [
        "$('div#472f05af-2f6e-43fd-9ab9-fa8f44b0b642').width('40.000000%')"
       ],
       "metadata": {},
       "output_type": "display_data",
       "text": [
        "<IPython.core.display.Javascript at 0x823ec90>"
       ]
      },
      {
       "javascript": [
        "$('div#472f05af-2f6e-43fd-9ab9-fa8f44b0b642').width('44.000000%')"
       ],
       "metadata": {},
       "output_type": "display_data",
       "text": [
        "<IPython.core.display.Javascript at 0x823ecd0>"
       ]
      },
      {
       "javascript": [
        "$('div#472f05af-2f6e-43fd-9ab9-fa8f44b0b642').width('48.000000%')"
       ],
       "metadata": {},
       "output_type": "display_data",
       "text": [
        "<IPython.core.display.Javascript at 0x823ea90>"
       ]
      },
      {
       "javascript": [
        "$('div#472f05af-2f6e-43fd-9ab9-fa8f44b0b642').width('52.000000%')"
       ],
       "metadata": {},
       "output_type": "display_data",
       "text": [
        "<IPython.core.display.Javascript at 0x8474310>"
       ]
      },
      {
       "javascript": [
        "$('div#472f05af-2f6e-43fd-9ab9-fa8f44b0b642').width('56.000000%')"
       ],
       "metadata": {},
       "output_type": "display_data",
       "text": [
        "<IPython.core.display.Javascript at 0x84742d0>"
       ]
      },
      {
       "javascript": [
        "$('div#472f05af-2f6e-43fd-9ab9-fa8f44b0b642').width('60.000000%')"
       ],
       "metadata": {},
       "output_type": "display_data",
       "text": [
        "<IPython.core.display.Javascript at 0x8474290>"
       ]
      },
      {
       "javascript": [
        "$('div#472f05af-2f6e-43fd-9ab9-fa8f44b0b642').width('64.000000%')"
       ],
       "metadata": {},
       "output_type": "display_data",
       "text": [
        "<IPython.core.display.Javascript at 0x8474250>"
       ]
      },
      {
       "javascript": [
        "$('div#472f05af-2f6e-43fd-9ab9-fa8f44b0b642').width('68.000000%')"
       ],
       "metadata": {},
       "output_type": "display_data",
       "text": [
        "<IPython.core.display.Javascript at 0x8474210>"
       ]
      },
      {
       "javascript": [
        "$('div#472f05af-2f6e-43fd-9ab9-fa8f44b0b642').width('72.000000%')"
       ],
       "metadata": {},
       "output_type": "display_data",
       "text": [
        "<IPython.core.display.Javascript at 0x8474190>"
       ]
      },
      {
       "javascript": [
        "$('div#472f05af-2f6e-43fd-9ab9-fa8f44b0b642').width('76.000000%')"
       ],
       "metadata": {},
       "output_type": "display_data",
       "text": [
        "<IPython.core.display.Javascript at 0x84741d0>"
       ]
      },
      {
       "javascript": [
        "$('div#472f05af-2f6e-43fd-9ab9-fa8f44b0b642').width('80.000000%')"
       ],
       "metadata": {},
       "output_type": "display_data",
       "text": [
        "<IPython.core.display.Javascript at 0x8474150>"
       ]
      },
      {
       "javascript": [
        "$('div#472f05af-2f6e-43fd-9ab9-fa8f44b0b642').width('84.000000%')"
       ],
       "metadata": {},
       "output_type": "display_data",
       "text": [
        "<IPython.core.display.Javascript at 0x84740d0>"
       ]
      },
      {
       "javascript": [
        "$('div#472f05af-2f6e-43fd-9ab9-fa8f44b0b642').width('88.000000%')"
       ],
       "metadata": {},
       "output_type": "display_data",
       "text": [
        "<IPython.core.display.Javascript at 0x8474090>"
       ]
      },
      {
       "javascript": [
        "$('div#472f05af-2f6e-43fd-9ab9-fa8f44b0b642').width('92.000000%')"
       ],
       "metadata": {},
       "output_type": "display_data",
       "text": [
        "<IPython.core.display.Javascript at 0x8474050>"
       ]
      },
      {
       "javascript": [
        "$('div#472f05af-2f6e-43fd-9ab9-fa8f44b0b642').width('96.000000%')"
       ],
       "metadata": {},
       "output_type": "display_data",
       "text": [
        "<IPython.core.display.Javascript at 0x8474410>"
       ]
      },
      {
       "javascript": [
        "$('div#472f05af-2f6e-43fd-9ab9-fa8f44b0b642').width('100.000000%')"
       ],
       "metadata": {},
       "output_type": "display_data",
       "text": [
        "<IPython.core.display.Javascript at 0x8474450>"
       ]
      },
      {
       "output_type": "stream",
       "stream": "stdout",
       "text": [
        "Running mapper & aggregator on the result objects (number of results=100, chunk size=4)\n"
       ]
      },
      {
       "html": [
        "\n",
        "                          <div style=\"border: 1px solid black; width:500px\">\n",
        "                          <div id=\"2ff027c3-53fd-471e-b5dc-153b0f75b273\" style=\"background-color:blue; width:0%\">&nbsp;</div>\n",
        "                          </div>\n",
        "                          "
       ],
       "metadata": {},
       "output_type": "display_data",
       "text": [
        "<IPython.core.display.HTML at 0x823eb10>"
       ]
      },
      {
       "javascript": [
        "$('div#2ff027c3-53fd-471e-b5dc-153b0f75b273').width('4.000000%')"
       ],
       "metadata": {},
       "output_type": "display_data",
       "text": [
        "<IPython.core.display.Javascript at 0x823ec10>"
       ]
      },
      {
       "javascript": [
        "$('div#2ff027c3-53fd-471e-b5dc-153b0f75b273').width('8.000000%')"
       ],
       "metadata": {},
       "output_type": "display_data",
       "text": [
        "<IPython.core.display.Javascript at 0x823ecd0>"
       ]
      },
      {
       "javascript": [
        "$('div#2ff027c3-53fd-471e-b5dc-153b0f75b273').width('12.000000%')"
       ],
       "metadata": {},
       "output_type": "display_data",
       "text": [
        "<IPython.core.display.Javascript at 0x823eb90>"
       ]
      },
      {
       "javascript": [
        "$('div#2ff027c3-53fd-471e-b5dc-153b0f75b273').width('16.000000%')"
       ],
       "metadata": {},
       "output_type": "display_data",
       "text": [
        "<IPython.core.display.Javascript at 0x823e650>"
       ]
      },
      {
       "javascript": [
        "$('div#2ff027c3-53fd-471e-b5dc-153b0f75b273').width('20.000000%')"
       ],
       "metadata": {},
       "output_type": "display_data",
       "text": [
        "<IPython.core.display.Javascript at 0x823e750>"
       ]
      },
      {
       "javascript": [
        "$('div#2ff027c3-53fd-471e-b5dc-153b0f75b273').width('24.000000%')"
       ],
       "metadata": {},
       "output_type": "display_data",
       "text": [
        "<IPython.core.display.Javascript at 0x823ec90>"
       ]
      },
      {
       "javascript": [
        "$('div#2ff027c3-53fd-471e-b5dc-153b0f75b273').width('28.000000%')"
       ],
       "metadata": {},
       "output_type": "display_data",
       "text": [
        "<IPython.core.display.Javascript at 0x823e790>"
       ]
      },
      {
       "javascript": [
        "$('div#2ff027c3-53fd-471e-b5dc-153b0f75b273').width('32.000000%')"
       ],
       "metadata": {},
       "output_type": "display_data",
       "text": [
        "<IPython.core.display.Javascript at 0x823e5d0>"
       ]
      },
      {
       "javascript": [
        "$('div#2ff027c3-53fd-471e-b5dc-153b0f75b273').width('36.000000%')"
       ],
       "metadata": {},
       "output_type": "display_data",
       "text": [
        "<IPython.core.display.Javascript at 0x823ea10>"
       ]
      },
      {
       "javascript": [
        "$('div#2ff027c3-53fd-471e-b5dc-153b0f75b273').width('40.000000%')"
       ],
       "metadata": {},
       "output_type": "display_data",
       "text": [
        "<IPython.core.display.Javascript at 0x823ed90>"
       ]
      },
      {
       "javascript": [
        "$('div#2ff027c3-53fd-471e-b5dc-153b0f75b273').width('44.000000%')"
       ],
       "metadata": {},
       "output_type": "display_data",
       "text": [
        "<IPython.core.display.Javascript at 0x823e810>"
       ]
      },
      {
       "javascript": [
        "$('div#2ff027c3-53fd-471e-b5dc-153b0f75b273').width('48.000000%')"
       ],
       "metadata": {},
       "output_type": "display_data",
       "text": [
        "<IPython.core.display.Javascript at 0x84744d0>"
       ]
      },
      {
       "javascript": [
        "$('div#2ff027c3-53fd-471e-b5dc-153b0f75b273').width('52.000000%')"
       ],
       "metadata": {},
       "output_type": "display_data",
       "text": [
        "<IPython.core.display.Javascript at 0x8474410>"
       ]
      },
      {
       "javascript": [
        "$('div#2ff027c3-53fd-471e-b5dc-153b0f75b273').width('56.000000%')"
       ],
       "metadata": {},
       "output_type": "display_data",
       "text": [
        "<IPython.core.display.Javascript at 0x8474450>"
       ]
      },
      {
       "javascript": [
        "$('div#2ff027c3-53fd-471e-b5dc-153b0f75b273').width('60.000000%')"
       ],
       "metadata": {},
       "output_type": "display_data",
       "text": [
        "<IPython.core.display.Javascript at 0x8474050>"
       ]
      },
      {
       "javascript": [
        "$('div#2ff027c3-53fd-471e-b5dc-153b0f75b273').width('64.000000%')"
       ],
       "metadata": {},
       "output_type": "display_data",
       "text": [
        "<IPython.core.display.Javascript at 0x8474090>"
       ]
      },
      {
       "javascript": [
        "$('div#2ff027c3-53fd-471e-b5dc-153b0f75b273').width('68.000000%')"
       ],
       "metadata": {},
       "output_type": "display_data",
       "text": [
        "<IPython.core.display.Javascript at 0x84740d0>"
       ]
      },
      {
       "javascript": [
        "$('div#2ff027c3-53fd-471e-b5dc-153b0f75b273').width('72.000000%')"
       ],
       "metadata": {},
       "output_type": "display_data",
       "text": [
        "<IPython.core.display.Javascript at 0x8474150>"
       ]
      },
      {
       "javascript": [
        "$('div#2ff027c3-53fd-471e-b5dc-153b0f75b273').width('76.000000%')"
       ],
       "metadata": {},
       "output_type": "display_data",
       "text": [
        "<IPython.core.display.Javascript at 0x84741d0>"
       ]
      },
      {
       "javascript": [
        "$('div#2ff027c3-53fd-471e-b5dc-153b0f75b273').width('80.000000%')"
       ],
       "metadata": {},
       "output_type": "display_data",
       "text": [
        "<IPython.core.display.Javascript at 0x8474190>"
       ]
      },
      {
       "javascript": [
        "$('div#2ff027c3-53fd-471e-b5dc-153b0f75b273').width('84.000000%')"
       ],
       "metadata": {},
       "output_type": "display_data",
       "text": [
        "<IPython.core.display.Javascript at 0x8474210>"
       ]
      },
      {
       "javascript": [
        "$('div#2ff027c3-53fd-471e-b5dc-153b0f75b273').width('88.000000%')"
       ],
       "metadata": {},
       "output_type": "display_data",
       "text": [
        "<IPython.core.display.Javascript at 0x8474250>"
       ]
      },
      {
       "javascript": [
        "$('div#2ff027c3-53fd-471e-b5dc-153b0f75b273').width('92.000000%')"
       ],
       "metadata": {},
       "output_type": "display_data",
       "text": [
        "<IPython.core.display.Javascript at 0x8474290>"
       ]
      },
      {
       "javascript": [
        "$('div#2ff027c3-53fd-471e-b5dc-153b0f75b273').width('96.000000%')"
       ],
       "metadata": {},
       "output_type": "display_data",
       "text": [
        "<IPython.core.display.Javascript at 0x84742d0>"
       ]
      },
      {
       "javascript": [
        "$('div#2ff027c3-53fd-471e-b5dc-153b0f75b273').width('100.000000%')"
       ],
       "metadata": {},
       "output_type": "display_data",
       "text": [
        "<IPython.core.display.Javascript at 0x8474310>"
       ]
      },
      {
       "output_type": "stream",
       "stream": "stdout",
       "text": [
        "Running reducer on mapped and aggregated results (size=25)\n",
        "Number of engines: 24\n",
        "\tPhase1, wall_time: 182.559441\n",
        "\tPhase2, wall_time: 26.220017\n",
        "Generating 100 realizations of the model (chunk size=2)\n"
       ]
      },
      {
       "html": [
        "\n",
        "                          <div style=\"border: 1px solid black; width:500px\">\n",
        "                          <div id=\"a99b1293-ec48-4d43-aed7-0fc55fb68ec7\" style=\"background-color:blue; width:0%\">&nbsp;</div>\n",
        "                          </div>\n",
        "                          "
       ],
       "metadata": {},
       "output_type": "display_data",
       "text": [
        "<IPython.core.display.HTML at 0x823efd0>"
       ]
      },
      {
       "javascript": [
        "$('div#a99b1293-ec48-4d43-aed7-0fc55fb68ec7').width('2.000000%')"
       ],
       "metadata": {},
       "output_type": "display_data",
       "text": [
        "<IPython.core.display.Javascript at 0x823ec90>"
       ]
      },
      {
       "javascript": [
        "$('div#a99b1293-ec48-4d43-aed7-0fc55fb68ec7').width('4.000000%')"
       ],
       "metadata": {},
       "output_type": "display_data",
       "text": [
        "<IPython.core.display.Javascript at 0x823ea10>"
       ]
      },
      {
       "javascript": [
        "$('div#a99b1293-ec48-4d43-aed7-0fc55fb68ec7').width('6.000000%')"
       ],
       "metadata": {},
       "output_type": "display_data",
       "text": [
        "<IPython.core.display.Javascript at 0x823e790>"
       ]
      },
      {
       "javascript": [
        "$('div#a99b1293-ec48-4d43-aed7-0fc55fb68ec7').width('8.000000%')"
       ],
       "metadata": {},
       "output_type": "display_data",
       "text": [
        "<IPython.core.display.Javascript at 0x823e650>"
       ]
      },
      {
       "javascript": [
        "$('div#a99b1293-ec48-4d43-aed7-0fc55fb68ec7').width('10.000000%')"
       ],
       "metadata": {},
       "output_type": "display_data",
       "text": [
        "<IPython.core.display.Javascript at 0x823eb90>"
       ]
      },
      {
       "javascript": [
        "$('div#a99b1293-ec48-4d43-aed7-0fc55fb68ec7').width('12.000000%')"
       ],
       "metadata": {},
       "output_type": "display_data",
       "text": [
        "<IPython.core.display.Javascript at 0x823ecd0>"
       ]
      },
      {
       "javascript": [
        "$('div#a99b1293-ec48-4d43-aed7-0fc55fb68ec7').width('14.000000%')"
       ],
       "metadata": {},
       "output_type": "display_data",
       "text": [
        "<IPython.core.display.Javascript at 0x823e810>"
       ]
      },
      {
       "javascript": [
        "$('div#a99b1293-ec48-4d43-aed7-0fc55fb68ec7').width('16.000000%')"
       ],
       "metadata": {},
       "output_type": "display_data",
       "text": [
        "<IPython.core.display.Javascript at 0x823eb10>"
       ]
      },
      {
       "javascript": [
        "$('div#a99b1293-ec48-4d43-aed7-0fc55fb68ec7').width('18.000000%')"
       ],
       "metadata": {},
       "output_type": "display_data",
       "text": [
        "<IPython.core.display.Javascript at 0x8474490>"
       ]
      },
      {
       "javascript": [
        "$('div#a99b1293-ec48-4d43-aed7-0fc55fb68ec7').width('20.000000%')"
       ],
       "metadata": {},
       "output_type": "display_data",
       "text": [
        "<IPython.core.display.Javascript at 0x8474590>"
       ]
      },
      {
       "javascript": [
        "$('div#a99b1293-ec48-4d43-aed7-0fc55fb68ec7').width('22.000000%')"
       ],
       "metadata": {},
       "output_type": "display_data",
       "text": [
        "<IPython.core.display.Javascript at 0x8474650>"
       ]
      },
      {
       "javascript": [
        "$('div#a99b1293-ec48-4d43-aed7-0fc55fb68ec7').width('24.000000%')"
       ],
       "metadata": {},
       "output_type": "display_data",
       "text": [
        "<IPython.core.display.Javascript at 0x8474690>"
       ]
      },
      {
       "javascript": [
        "$('div#a99b1293-ec48-4d43-aed7-0fc55fb68ec7').width('26.000000%')"
       ],
       "metadata": {},
       "output_type": "display_data",
       "text": [
        "<IPython.core.display.Javascript at 0x8474750>"
       ]
      },
      {
       "javascript": [
        "$('div#a99b1293-ec48-4d43-aed7-0fc55fb68ec7').width('28.000000%')"
       ],
       "metadata": {},
       "output_type": "display_data",
       "text": [
        "<IPython.core.display.Javascript at 0x8474790>"
       ]
      },
      {
       "javascript": [
        "$('div#a99b1293-ec48-4d43-aed7-0fc55fb68ec7').width('30.000000%')"
       ],
       "metadata": {},
       "output_type": "display_data",
       "text": [
        "<IPython.core.display.Javascript at 0x84746d0>"
       ]
      },
      {
       "javascript": [
        "$('div#a99b1293-ec48-4d43-aed7-0fc55fb68ec7').width('32.000000%')"
       ],
       "metadata": {},
       "output_type": "display_data",
       "text": [
        "<IPython.core.display.Javascript at 0x8474710>"
       ]
      },
      {
       "javascript": [
        "$('div#a99b1293-ec48-4d43-aed7-0fc55fb68ec7').width('34.000000%')"
       ],
       "metadata": {},
       "output_type": "display_data",
       "text": [
        "<IPython.core.display.Javascript at 0x8474310>"
       ]
      },
      {
       "javascript": [
        "$('div#a99b1293-ec48-4d43-aed7-0fc55fb68ec7').width('36.000000%')"
       ],
       "metadata": {},
       "output_type": "display_data",
       "text": [
        "<IPython.core.display.Javascript at 0x84742d0>"
       ]
      },
      {
       "javascript": [
        "$('div#a99b1293-ec48-4d43-aed7-0fc55fb68ec7').width('38.000000%')"
       ],
       "metadata": {},
       "output_type": "display_data",
       "text": [
        "<IPython.core.display.Javascript at 0x8474290>"
       ]
      },
      {
       "javascript": [
        "$('div#a99b1293-ec48-4d43-aed7-0fc55fb68ec7').width('40.000000%')"
       ],
       "metadata": {},
       "output_type": "display_data",
       "text": [
        "<IPython.core.display.Javascript at 0x8474250>"
       ]
      },
      {
       "javascript": [
        "$('div#a99b1293-ec48-4d43-aed7-0fc55fb68ec7').width('42.000000%')"
       ],
       "metadata": {},
       "output_type": "display_data",
       "text": [
        "<IPython.core.display.Javascript at 0x8474210>"
       ]
      },
      {
       "javascript": [
        "$('div#a99b1293-ec48-4d43-aed7-0fc55fb68ec7').width('44.000000%')"
       ],
       "metadata": {},
       "output_type": "display_data",
       "text": [
        "<IPython.core.display.Javascript at 0x8474190>"
       ]
      },
      {
       "javascript": [
        "$('div#a99b1293-ec48-4d43-aed7-0fc55fb68ec7').width('46.000000%')"
       ],
       "metadata": {},
       "output_type": "display_data",
       "text": [
        "<IPython.core.display.Javascript at 0x84741d0>"
       ]
      },
      {
       "javascript": [
        "$('div#a99b1293-ec48-4d43-aed7-0fc55fb68ec7').width('48.000000%')"
       ],
       "metadata": {},
       "output_type": "display_data",
       "text": [
        "<IPython.core.display.Javascript at 0x8474150>"
       ]
      },
      {
       "javascript": [
        "$('div#a99b1293-ec48-4d43-aed7-0fc55fb68ec7').width('50.000000%')"
       ],
       "metadata": {},
       "output_type": "display_data",
       "text": [
        "<IPython.core.display.Javascript at 0x84740d0>"
       ]
      },
      {
       "javascript": [
        "$('div#a99b1293-ec48-4d43-aed7-0fc55fb68ec7').width('52.000000%')"
       ],
       "metadata": {},
       "output_type": "display_data",
       "text": [
        "<IPython.core.display.Javascript at 0x8474090>"
       ]
      },
      {
       "javascript": [
        "$('div#a99b1293-ec48-4d43-aed7-0fc55fb68ec7').width('54.000000%')"
       ],
       "metadata": {},
       "output_type": "display_data",
       "text": [
        "<IPython.core.display.Javascript at 0x8474050>"
       ]
      },
      {
       "javascript": [
        "$('div#a99b1293-ec48-4d43-aed7-0fc55fb68ec7').width('56.000000%')"
       ],
       "metadata": {},
       "output_type": "display_data",
       "text": [
        "<IPython.core.display.Javascript at 0x8474450>"
       ]
      },
      {
       "javascript": [
        "$('div#a99b1293-ec48-4d43-aed7-0fc55fb68ec7').width('58.000000%')"
       ],
       "metadata": {},
       "output_type": "display_data",
       "text": [
        "<IPython.core.display.Javascript at 0x8474410>"
       ]
      },
      {
       "javascript": [
        "$('div#a99b1293-ec48-4d43-aed7-0fc55fb68ec7').width('60.000000%')"
       ],
       "metadata": {},
       "output_type": "display_data",
       "text": [
        "<IPython.core.display.Javascript at 0x84744d0>"
       ]
      },
      {
       "javascript": [
        "$('div#a99b1293-ec48-4d43-aed7-0fc55fb68ec7').width('62.000000%')"
       ],
       "metadata": {},
       "output_type": "display_data",
       "text": [
        "<IPython.core.display.Javascript at 0x84747d0>"
       ]
      },
      {
       "javascript": [
        "$('div#a99b1293-ec48-4d43-aed7-0fc55fb68ec7').width('64.000000%')"
       ],
       "metadata": {},
       "output_type": "display_data",
       "text": [
        "<IPython.core.display.Javascript at 0x8474810>"
       ]
      },
      {
       "javascript": [
        "$('div#a99b1293-ec48-4d43-aed7-0fc55fb68ec7').width('66.000000%')"
       ],
       "metadata": {},
       "output_type": "display_data",
       "text": [
        "<IPython.core.display.Javascript at 0x8474850>"
       ]
      },
      {
       "javascript": [
        "$('div#a99b1293-ec48-4d43-aed7-0fc55fb68ec7').width('68.000000%')"
       ],
       "metadata": {},
       "output_type": "display_data",
       "text": [
        "<IPython.core.display.Javascript at 0x8474890>"
       ]
      },
      {
       "javascript": [
        "$('div#a99b1293-ec48-4d43-aed7-0fc55fb68ec7').width('70.000000%')"
       ],
       "metadata": {},
       "output_type": "display_data",
       "text": [
        "<IPython.core.display.Javascript at 0x84748d0>"
       ]
      },
      {
       "javascript": [
        "$('div#a99b1293-ec48-4d43-aed7-0fc55fb68ec7').width('72.000000%')"
       ],
       "metadata": {},
       "output_type": "display_data",
       "text": [
        "<IPython.core.display.Javascript at 0x8474910>"
       ]
      },
      {
       "javascript": [
        "$('div#a99b1293-ec48-4d43-aed7-0fc55fb68ec7').width('74.000000%')"
       ],
       "metadata": {},
       "output_type": "display_data",
       "text": [
        "<IPython.core.display.Javascript at 0x823eb10>"
       ]
      },
      {
       "javascript": [
        "$('div#a99b1293-ec48-4d43-aed7-0fc55fb68ec7').width('76.000000%')"
       ],
       "metadata": {},
       "output_type": "display_data",
       "text": [
        "<IPython.core.display.Javascript at 0x823ec10>"
       ]
      },
      {
       "javascript": [
        "$('div#a99b1293-ec48-4d43-aed7-0fc55fb68ec7').width('78.000000%')"
       ],
       "metadata": {},
       "output_type": "display_data",
       "text": [
        "<IPython.core.display.Javascript at 0x823ecd0>"
       ]
      },
      {
       "javascript": [
        "$('div#a99b1293-ec48-4d43-aed7-0fc55fb68ec7').width('80.000000%')"
       ],
       "metadata": {},
       "output_type": "display_data",
       "text": [
        "<IPython.core.display.Javascript at 0x823e650>"
       ]
      },
      {
       "javascript": [
        "$('div#a99b1293-ec48-4d43-aed7-0fc55fb68ec7').width('82.000000%')"
       ],
       "metadata": {},
       "output_type": "display_data",
       "text": [
        "<IPython.core.display.Javascript at 0x823e790>"
       ]
      },
      {
       "javascript": [
        "$('div#a99b1293-ec48-4d43-aed7-0fc55fb68ec7').width('84.000000%')"
       ],
       "metadata": {},
       "output_type": "display_data",
       "text": [
        "<IPython.core.display.Javascript at 0x823ea10>"
       ]
      },
      {
       "javascript": [
        "$('div#a99b1293-ec48-4d43-aed7-0fc55fb68ec7').width('86.000000%')"
       ],
       "metadata": {},
       "output_type": "display_data",
       "text": [
        "<IPython.core.display.Javascript at 0x823e810>"
       ]
      },
      {
       "javascript": [
        "$('div#a99b1293-ec48-4d43-aed7-0fc55fb68ec7').width('88.000000%')"
       ],
       "metadata": {},
       "output_type": "display_data",
       "text": [
        "<IPython.core.display.Javascript at 0x823ec90>"
       ]
      },
      {
       "javascript": [
        "$('div#a99b1293-ec48-4d43-aed7-0fc55fb68ec7').width('90.000000%')"
       ],
       "metadata": {},
       "output_type": "display_data",
       "text": [
        "<IPython.core.display.Javascript at 0x8474990>"
       ]
      },
      {
       "javascript": [
        "$('div#a99b1293-ec48-4d43-aed7-0fc55fb68ec7').width('92.000000%')"
       ],
       "metadata": {},
       "output_type": "display_data",
       "text": [
        "<IPython.core.display.Javascript at 0x84745d0>"
       ]
      },
      {
       "javascript": [
        "$('div#a99b1293-ec48-4d43-aed7-0fc55fb68ec7').width('94.000000%')"
       ],
       "metadata": {},
       "output_type": "display_data",
       "text": [
        "<IPython.core.display.Javascript at 0x84749d0>"
       ]
      },
      {
       "javascript": [
        "$('div#a99b1293-ec48-4d43-aed7-0fc55fb68ec7').width('96.000000%')"
       ],
       "metadata": {},
       "output_type": "display_data",
       "text": [
        "<IPython.core.display.Javascript at 0x84748d0>"
       ]
      },
      {
       "javascript": [
        "$('div#a99b1293-ec48-4d43-aed7-0fc55fb68ec7').width('98.000000%')"
       ],
       "metadata": {},
       "output_type": "display_data",
       "text": [
        "<IPython.core.display.Javascript at 0x8474890>"
       ]
      },
      {
       "javascript": [
        "$('div#a99b1293-ec48-4d43-aed7-0fc55fb68ec7').width('100.000000%')"
       ],
       "metadata": {},
       "output_type": "display_data",
       "text": [
        "<IPython.core.display.Javascript at 0x8474850>"
       ]
      },
      {
       "output_type": "stream",
       "stream": "stdout",
       "text": [
        "Running mapper & aggregator on the result objects (number of results=100, chunk size=2)\n"
       ]
      },
      {
       "html": [
        "\n",
        "                          <div style=\"border: 1px solid black; width:500px\">\n",
        "                          <div id=\"d21edb37-0d5d-4b59-bd43-7640150fd5fc\" style=\"background-color:blue; width:0%\">&nbsp;</div>\n",
        "                          </div>\n",
        "                          "
       ],
       "metadata": {},
       "output_type": "display_data",
       "text": [
        "<IPython.core.display.HTML at 0x823e5d0>"
       ]
      },
      {
       "javascript": [
        "$('div#d21edb37-0d5d-4b59-bd43-7640150fd5fc').width('2.000000%')"
       ],
       "metadata": {},
       "output_type": "display_data",
       "text": [
        "<IPython.core.display.Javascript at 0x8474810>"
       ]
      },
      {
       "javascript": [
        "$('div#d21edb37-0d5d-4b59-bd43-7640150fd5fc').width('4.000000%')"
       ],
       "metadata": {},
       "output_type": "display_data",
       "text": [
        "<IPython.core.display.Javascript at 0x84747d0>"
       ]
      },
      {
       "javascript": [
        "$('div#d21edb37-0d5d-4b59-bd43-7640150fd5fc').width('6.000000%')"
       ],
       "metadata": {},
       "output_type": "display_data",
       "text": [
        "<IPython.core.display.Javascript at 0x8474410>"
       ]
      },
      {
       "javascript": [
        "$('div#d21edb37-0d5d-4b59-bd43-7640150fd5fc').width('8.000000%')"
       ],
       "metadata": {},
       "output_type": "display_data",
       "text": [
        "<IPython.core.display.Javascript at 0x84744d0>"
       ]
      },
      {
       "javascript": [
        "$('div#d21edb37-0d5d-4b59-bd43-7640150fd5fc').width('10.000000%')"
       ],
       "metadata": {},
       "output_type": "display_data",
       "text": [
        "<IPython.core.display.Javascript at 0x8474450>"
       ]
      },
      {
       "javascript": [
        "$('div#d21edb37-0d5d-4b59-bd43-7640150fd5fc').width('12.000000%')"
       ],
       "metadata": {},
       "output_type": "display_data",
       "text": [
        "<IPython.core.display.Javascript at 0x8474050>"
       ]
      },
      {
       "javascript": [
        "$('div#d21edb37-0d5d-4b59-bd43-7640150fd5fc').width('14.000000%')"
       ],
       "metadata": {},
       "output_type": "display_data",
       "text": [
        "<IPython.core.display.Javascript at 0x84740d0>"
       ]
      },
      {
       "javascript": [
        "$('div#d21edb37-0d5d-4b59-bd43-7640150fd5fc').width('16.000000%')"
       ],
       "metadata": {},
       "output_type": "display_data",
       "text": [
        "<IPython.core.display.Javascript at 0x84741d0>"
       ]
      },
      {
       "javascript": [
        "$('div#d21edb37-0d5d-4b59-bd43-7640150fd5fc').width('18.000000%')"
       ],
       "metadata": {},
       "output_type": "display_data",
       "text": [
        "<IPython.core.display.Javascript at 0x8474190>"
       ]
      },
      {
       "javascript": [
        "$('div#d21edb37-0d5d-4b59-bd43-7640150fd5fc').width('20.000000%')"
       ],
       "metadata": {},
       "output_type": "display_data",
       "text": [
        "<IPython.core.display.Javascript at 0x8474090>"
       ]
      },
      {
       "javascript": [
        "$('div#d21edb37-0d5d-4b59-bd43-7640150fd5fc').width('22.000000%')"
       ],
       "metadata": {},
       "output_type": "display_data",
       "text": [
        "<IPython.core.display.Javascript at 0x8474250>"
       ]
      },
      {
       "javascript": [
        "$('div#d21edb37-0d5d-4b59-bd43-7640150fd5fc').width('24.000000%')"
       ],
       "metadata": {},
       "output_type": "display_data",
       "text": [
        "<IPython.core.display.Javascript at 0x84743d0>"
       ]
      },
      {
       "javascript": [
        "$('div#d21edb37-0d5d-4b59-bd43-7640150fd5fc').width('26.000000%')"
       ],
       "metadata": {},
       "output_type": "display_data",
       "text": [
        "<IPython.core.display.Javascript at 0x8474290>"
       ]
      },
      {
       "javascript": [
        "$('div#d21edb37-0d5d-4b59-bd43-7640150fd5fc').width('28.000000%')"
       ],
       "metadata": {},
       "output_type": "display_data",
       "text": [
        "<IPython.core.display.Javascript at 0x84742d0>"
       ]
      },
      {
       "javascript": [
        "$('div#d21edb37-0d5d-4b59-bd43-7640150fd5fc').width('30.000000%')"
       ],
       "metadata": {},
       "output_type": "display_data",
       "text": [
        "<IPython.core.display.Javascript at 0x8474310>"
       ]
      },
      {
       "javascript": [
        "$('div#d21edb37-0d5d-4b59-bd43-7640150fd5fc').width('32.000000%')"
       ],
       "metadata": {},
       "output_type": "display_data",
       "text": [
        "<IPython.core.display.Javascript at 0x8474710>"
       ]
      },
      {
       "javascript": [
        "$('div#d21edb37-0d5d-4b59-bd43-7640150fd5fc').width('34.000000%')"
       ],
       "metadata": {},
       "output_type": "display_data",
       "text": [
        "<IPython.core.display.Javascript at 0x8474790>"
       ]
      },
      {
       "javascript": [
        "$('div#d21edb37-0d5d-4b59-bd43-7640150fd5fc').width('36.000000%')"
       ],
       "metadata": {},
       "output_type": "display_data",
       "text": [
        "<IPython.core.display.Javascript at 0x8474150>"
       ]
      },
      {
       "javascript": [
        "$('div#d21edb37-0d5d-4b59-bd43-7640150fd5fc').width('38.000000%')"
       ],
       "metadata": {},
       "output_type": "display_data",
       "text": [
        "<IPython.core.display.Javascript at 0x8474210>"
       ]
      },
      {
       "javascript": [
        "$('div#d21edb37-0d5d-4b59-bd43-7640150fd5fc').width('40.000000%')"
       ],
       "metadata": {},
       "output_type": "display_data",
       "text": [
        "<IPython.core.display.Javascript at 0x8474650>"
       ]
      },
      {
       "javascript": [
        "$('div#d21edb37-0d5d-4b59-bd43-7640150fd5fc').width('42.000000%')"
       ],
       "metadata": {},
       "output_type": "display_data",
       "text": [
        "<IPython.core.display.Javascript at 0x8474690>"
       ]
      },
      {
       "javascript": [
        "$('div#d21edb37-0d5d-4b59-bd43-7640150fd5fc').width('44.000000%')"
       ],
       "metadata": {},
       "output_type": "display_data",
       "text": [
        "<IPython.core.display.Javascript at 0x8474590>"
       ]
      },
      {
       "javascript": [
        "$('div#d21edb37-0d5d-4b59-bd43-7640150fd5fc').width('46.000000%')"
       ],
       "metadata": {},
       "output_type": "display_data",
       "text": [
        "<IPython.core.display.Javascript at 0x8474490>"
       ]
      },
      {
       "javascript": [
        "$('div#d21edb37-0d5d-4b59-bd43-7640150fd5fc').width('48.000000%')"
       ],
       "metadata": {},
       "output_type": "display_data",
       "text": [
        "<IPython.core.display.Javascript at 0x8474a10>"
       ]
      },
      {
       "javascript": [
        "$('div#d21edb37-0d5d-4b59-bd43-7640150fd5fc').width('50.000000%')"
       ],
       "metadata": {},
       "output_type": "display_data",
       "text": [
        "<IPython.core.display.Javascript at 0x8474a50>"
       ]
      },
      {
       "javascript": [
        "$('div#d21edb37-0d5d-4b59-bd43-7640150fd5fc').width('52.000000%')"
       ],
       "metadata": {},
       "output_type": "display_data",
       "text": [
        "<IPython.core.display.Javascript at 0x8474a90>"
       ]
      },
      {
       "javascript": [
        "$('div#d21edb37-0d5d-4b59-bd43-7640150fd5fc').width('54.000000%')"
       ],
       "metadata": {},
       "output_type": "display_data",
       "text": [
        "<IPython.core.display.Javascript at 0x823e810>"
       ]
      },
      {
       "javascript": [
        "$('div#d21edb37-0d5d-4b59-bd43-7640150fd5fc').width('56.000000%')"
       ],
       "metadata": {},
       "output_type": "display_data",
       "text": [
        "<IPython.core.display.Javascript at 0x823ea10>"
       ]
      },
      {
       "javascript": [
        "$('div#d21edb37-0d5d-4b59-bd43-7640150fd5fc').width('58.000000%')"
       ],
       "metadata": {},
       "output_type": "display_data",
       "text": [
        "<IPython.core.display.Javascript at 0x823e650>"
       ]
      },
      {
       "javascript": [
        "$('div#d21edb37-0d5d-4b59-bd43-7640150fd5fc').width('60.000000%')"
       ],
       "metadata": {},
       "output_type": "display_data",
       "text": [
        "<IPython.core.display.Javascript at 0x823ec10>"
       ]
      },
      {
       "javascript": [
        "$('div#d21edb37-0d5d-4b59-bd43-7640150fd5fc').width('62.000000%')"
       ],
       "metadata": {},
       "output_type": "display_data",
       "text": [
        "<IPython.core.display.Javascript at 0x823ecd0>"
       ]
      },
      {
       "javascript": [
        "$('div#d21edb37-0d5d-4b59-bd43-7640150fd5fc').width('64.000000%')"
       ],
       "metadata": {},
       "output_type": "display_data",
       "text": [
        "<IPython.core.display.Javascript at 0x823eb10>"
       ]
      },
      {
       "javascript": [
        "$('div#d21edb37-0d5d-4b59-bd43-7640150fd5fc').width('66.000000%')"
       ],
       "metadata": {},
       "output_type": "display_data",
       "text": [
        "<IPython.core.display.Javascript at 0x8474750>"
       ]
      },
      {
       "javascript": [
        "$('div#d21edb37-0d5d-4b59-bd43-7640150fd5fc').width('68.000000%')"
       ],
       "metadata": {},
       "output_type": "display_data",
       "text": [
        "<IPython.core.display.Javascript at 0x8474a90>"
       ]
      },
      {
       "javascript": [
        "$('div#d21edb37-0d5d-4b59-bd43-7640150fd5fc').width('70.000000%')"
       ],
       "metadata": {},
       "output_type": "display_data",
       "text": [
        "<IPython.core.display.Javascript at 0x8474ad0>"
       ]
      },
      {
       "javascript": [
        "$('div#d21edb37-0d5d-4b59-bd43-7640150fd5fc').width('72.000000%')"
       ],
       "metadata": {},
       "output_type": "display_data",
       "text": [
        "<IPython.core.display.Javascript at 0x8474b10>"
       ]
      },
      {
       "javascript": [
        "$('div#d21edb37-0d5d-4b59-bd43-7640150fd5fc').width('74.000000%')"
       ],
       "metadata": {},
       "output_type": "display_data",
       "text": [
        "<IPython.core.display.Javascript at 0x8474950>"
       ]
      },
      {
       "javascript": [
        "$('div#d21edb37-0d5d-4b59-bd43-7640150fd5fc').width('76.000000%')"
       ],
       "metadata": {},
       "output_type": "display_data",
       "text": [
        "<IPython.core.display.Javascript at 0x8474b90>"
       ]
      },
      {
       "javascript": [
        "$('div#d21edb37-0d5d-4b59-bd43-7640150fd5fc').width('78.000000%')"
       ],
       "metadata": {},
       "output_type": "display_data",
       "text": [
        "<IPython.core.display.Javascript at 0x8474b50>"
       ]
      },
      {
       "javascript": [
        "$('div#d21edb37-0d5d-4b59-bd43-7640150fd5fc').width('80.000000%')"
       ],
       "metadata": {},
       "output_type": "display_data",
       "text": [
        "<IPython.core.display.Javascript at 0x8474bd0>"
       ]
      },
      {
       "javascript": [
        "$('div#d21edb37-0d5d-4b59-bd43-7640150fd5fc').width('82.000000%')"
       ],
       "metadata": {},
       "output_type": "display_data",
       "text": [
        "<IPython.core.display.Javascript at 0x8474c10>"
       ]
      },
      {
       "javascript": [
        "$('div#d21edb37-0d5d-4b59-bd43-7640150fd5fc').width('84.000000%')"
       ],
       "metadata": {},
       "output_type": "display_data",
       "text": [
        "<IPython.core.display.Javascript at 0x8474a50>"
       ]
      },
      {
       "javascript": [
        "$('div#d21edb37-0d5d-4b59-bd43-7640150fd5fc').width('86.000000%')"
       ],
       "metadata": {},
       "output_type": "display_data",
       "text": [
        "<IPython.core.display.Javascript at 0x8474a10>"
       ]
      },
      {
       "javascript": [
        "$('div#d21edb37-0d5d-4b59-bd43-7640150fd5fc').width('88.000000%')"
       ],
       "metadata": {},
       "output_type": "display_data",
       "text": [
        "<IPython.core.display.Javascript at 0x8474490>"
       ]
      },
      {
       "javascript": [
        "$('div#d21edb37-0d5d-4b59-bd43-7640150fd5fc').width('90.000000%')"
       ],
       "metadata": {},
       "output_type": "display_data",
       "text": [
        "<IPython.core.display.Javascript at 0x8474590>"
       ]
      },
      {
       "javascript": [
        "$('div#d21edb37-0d5d-4b59-bd43-7640150fd5fc').width('92.000000%')"
       ],
       "metadata": {},
       "output_type": "display_data",
       "text": [
        "<IPython.core.display.Javascript at 0x8474690>"
       ]
      },
      {
       "javascript": [
        "$('div#d21edb37-0d5d-4b59-bd43-7640150fd5fc').width('94.000000%')"
       ],
       "metadata": {},
       "output_type": "display_data",
       "text": [
        "<IPython.core.display.Javascript at 0x8474650>"
       ]
      },
      {
       "javascript": [
        "$('div#d21edb37-0d5d-4b59-bd43-7640150fd5fc').width('96.000000%')"
       ],
       "metadata": {},
       "output_type": "display_data",
       "text": [
        "<IPython.core.display.Javascript at 0x8474210>"
       ]
      },
      {
       "javascript": [
        "$('div#d21edb37-0d5d-4b59-bd43-7640150fd5fc').width('98.000000%')"
       ],
       "metadata": {},
       "output_type": "display_data",
       "text": [
        "<IPython.core.display.Javascript at 0x8474150>"
       ]
      },
      {
       "javascript": [
        "$('div#d21edb37-0d5d-4b59-bd43-7640150fd5fc').width('100.000000%')"
       ],
       "metadata": {},
       "output_type": "display_data",
       "text": [
        "<IPython.core.display.Javascript at 0x8474790>"
       ]
      },
      {
       "output_type": "stream",
       "stream": "stdout",
       "text": [
        "Running reducer on mapped and aggregated results (size=50)\n",
        "Number of engines: 48\n",
        "\tPhase1, wall_time: 60.407032\n",
        "\tPhase2, wall_time: 15.838594\n"
       ]
      }
     ],
     "prompt_number": 18
    },
    {
     "cell_type": "code",
     "collapsed": false,
     "input": [
      "# print engines\n",
      "# print wall_time_strong_phase1\n",
      "# print wall_time_strong_phase2\n",
      "# plt.plot(engines, wall_time_strong_phase1, \".-b\",label=\"Phase1 - run pyurdme\")\n",
      "# plt.plot(engines, wall_time_strong_phase2, \".-g\",label=\"Phase2 - run postprocessing\")\n",
      "# total = numpy.array(wall_time_strong_phase1)+numpy.array(wall_time_strong_phase2)\n",
      "# plt.plot(engines, total, \".-r\",label=\"With storage\")\n",
      "# plt.legend()\n",
      "# plt.xlabel(\"Number of engines\")\n",
      "# plt.ylabel(\"Wall time (s)\")\n",
      "# plt.show()"
     ],
     "language": "python",
     "metadata": {},
     "outputs": [],
     "prompt_number": 28
    },
    {
     "cell_type": "code",
     "collapsed": false,
     "input": [],
     "language": "python",
     "metadata": {},
     "outputs": []
    },
    {
     "cell_type": "heading",
     "level": 3,
     "metadata": {},
     "source": [
      "Using the object store - PersistentStorage"
     ]
    },
    {
     "cell_type": "code",
     "collapsed": false,
     "input": [
      "import time\n",
      "wall_time_strong_persistent_phase1 = []\n",
      "wall_time_strong_persistent_phase2 = []\n",
      "for num_engines in engines:\n",
      "    # Phase1 - generate all the realizations and write them to disk\n",
      "    ensemble = DistributedEnsemble(model_class=SimpleDiffusion,num_engines=num_engines)\n",
      "    tic = time.time()\n",
      "    res  = ensemble.add_realizations(number_of_realizations=100, storage_mode=\"Persistent\")\n",
      "    wall_time_1 = time.time()-tic\n",
      "    wall_time_strong_persistent_phase1.append(wall_time_1)\n",
      "    # Phase 2 - read all the realizations and compute the mean value\n",
      "    tic = time.time()\n",
      "    res = ensemble.mean(mapper=g)\n",
      "    wall_time_2 = time.time()-tic\n",
      "    wall_time_strong_persistent_phase2.append(wall_time_2)\n",
      "    \n",
      "    print \"Number of engines: %i\" % num_engines\n",
      "    print \"\\tPhase1, wall_time: %f\" % wall_time_1\n",
      "    print \"\\tPhase2, wall_time: %f\" % wall_time_2\n",
      "\n"
     ],
     "language": "python",
     "metadata": {},
     "outputs": [
      {
       "output_type": "stream",
       "stream": "stdout",
       "text": [
        "Generating 100 realizations of the model (chunk size=100)\n"
       ]
      },
      {
       "html": [
        "\n",
        "                          <div style=\"border: 1px solid black; width:500px\">\n",
        "                          <div id=\"e983a7d1-cee8-4dec-bc9e-ee805d80cf09\" style=\"background-color:blue; width:0%\">&nbsp;</div>\n",
        "                          </div>\n",
        "                          "
       ],
       "metadata": {},
       "output_type": "display_data",
       "text": [
        "<IPython.core.display.HTML at 0x823e850>"
       ]
      },
      {
       "javascript": [
        "$('div#e983a7d1-cee8-4dec-bc9e-ee805d80cf09').width('100.000000%')"
       ],
       "metadata": {},
       "output_type": "display_data",
       "text": [
        "<IPython.core.display.Javascript at 0x87c5810>"
       ]
      },
      {
       "output_type": "stream",
       "stream": "stdout",
       "text": [
        "Running mapper & aggregator on the result objects (number of results=100, chunk size=100)\n"
       ]
      },
      {
       "html": [
        "\n",
        "                          <div style=\"border: 1px solid black; width:500px\">\n",
        "                          <div id=\"dab8e163-9ce9-4e7f-acd6-7c39750f5159\" style=\"background-color:blue; width:0%\">&nbsp;</div>\n",
        "                          </div>\n",
        "                          "
       ],
       "metadata": {},
       "output_type": "display_data",
       "text": [
        "<IPython.core.display.HTML at 0x87c53d0>"
       ]
      },
      {
       "javascript": [
        "$('div#dab8e163-9ce9-4e7f-acd6-7c39750f5159').width('100.000000%')"
       ],
       "metadata": {},
       "output_type": "display_data",
       "text": [
        "<IPython.core.display.Javascript at 0x87c5290>"
       ]
      },
      {
       "output_type": "stream",
       "stream": "stdout",
       "text": [
        "Running reducer on mapped and aggregated results (size=1)\n",
        "Number of engines: 1\n",
        "\tPhase1, wall_time: 103.126317\n",
        "\tPhase2, wall_time: 22.808222\n",
        "Generating 100 realizations of the model (chunk size=33)\n"
       ]
      },
      {
       "html": [
        "\n",
        "                          <div style=\"border: 1px solid black; width:500px\">\n",
        "                          <div id=\"72f380a2-6c8b-4b3c-b31d-c89bbdc0aa67\" style=\"background-color:blue; width:0%\">&nbsp;</div>\n",
        "                          </div>\n",
        "                          "
       ],
       "metadata": {},
       "output_type": "display_data",
       "text": [
        "<IPython.core.display.HTML at 0x79cd790>"
       ]
      },
      {
       "javascript": [
        "$('div#72f380a2-6c8b-4b3c-b31d-c89bbdc0aa67').width('25.000000%')"
       ],
       "metadata": {},
       "output_type": "display_data",
       "text": [
        "<IPython.core.display.Javascript at 0x87c5550>"
       ]
      },
      {
       "javascript": [
        "$('div#72f380a2-6c8b-4b3c-b31d-c89bbdc0aa67').width('50.000000%')"
       ],
       "metadata": {},
       "output_type": "display_data",
       "text": [
        "<IPython.core.display.Javascript at 0x87c5cd0>"
       ]
      },
      {
       "javascript": [
        "$('div#72f380a2-6c8b-4b3c-b31d-c89bbdc0aa67').width('75.000000%')"
       ],
       "metadata": {},
       "output_type": "display_data",
       "text": [
        "<IPython.core.display.Javascript at 0x87c5c50>"
       ]
      },
      {
       "javascript": [
        "$('div#72f380a2-6c8b-4b3c-b31d-c89bbdc0aa67').width('100.000000%')"
       ],
       "metadata": {},
       "output_type": "display_data",
       "text": [
        "<IPython.core.display.Javascript at 0x87c5bd0>"
       ]
      },
      {
       "output_type": "stream",
       "stream": "stdout",
       "text": [
        "Running mapper & aggregator on the result objects (number of results=100, chunk size=33)\n"
       ]
      },
      {
       "html": [
        "\n",
        "                          <div style=\"border: 1px solid black; width:500px\">\n",
        "                          <div id=\"b23a8b67-2afb-48d2-b970-c07132fd7a09\" style=\"background-color:blue; width:0%\">&nbsp;</div>\n",
        "                          </div>\n",
        "                          "
       ],
       "metadata": {},
       "output_type": "display_data",
       "text": [
        "<IPython.core.display.HTML at 0x87c5790>"
       ]
      },
      {
       "javascript": [
        "$('div#b23a8b67-2afb-48d2-b970-c07132fd7a09').width('25.000000%')"
       ],
       "metadata": {},
       "output_type": "display_data",
       "text": [
        "<IPython.core.display.Javascript at 0x87c5690>"
       ]
      },
      {
       "javascript": [
        "$('div#b23a8b67-2afb-48d2-b970-c07132fd7a09').width('50.000000%')"
       ],
       "metadata": {},
       "output_type": "display_data",
       "text": [
        "<IPython.core.display.Javascript at 0x87c5b50>"
       ]
      },
      {
       "javascript": [
        "$('div#b23a8b67-2afb-48d2-b970-c07132fd7a09').width('75.000000%')"
       ],
       "metadata": {},
       "output_type": "display_data",
       "text": [
        "<IPython.core.display.Javascript at 0x88ea110>"
       ]
      },
      {
       "javascript": [
        "$('div#b23a8b67-2afb-48d2-b970-c07132fd7a09').width('100.000000%')"
       ],
       "metadata": {},
       "output_type": "display_data",
       "text": [
        "<IPython.core.display.Javascript at 0x88ea4d0>"
       ]
      },
      {
       "output_type": "stream",
       "stream": "stdout",
       "text": [
        "Running reducer on mapped and aggregated results (size=4)\n",
        "Number of engines: 3\n",
        "\tPhase1, wall_time: 41.506279\n",
        "\tPhase2, wall_time: 8.733227\n",
        "Generating 100 realizations of the model (chunk size=17)\n"
       ]
      },
      {
       "html": [
        "\n",
        "                          <div style=\"border: 1px solid black; width:500px\">\n",
        "                          <div id=\"1740ce2b-ff38-4d0b-b914-34d0df938aa9\" style=\"background-color:blue; width:0%\">&nbsp;</div>\n",
        "                          </div>\n",
        "                          "
       ],
       "metadata": {},
       "output_type": "display_data",
       "text": [
        "<IPython.core.display.HTML at 0x87c5210>"
       ]
      },
      {
       "javascript": [
        "$('div#1740ce2b-ff38-4d0b-b914-34d0df938aa9').width('16.666667%')"
       ],
       "metadata": {},
       "output_type": "display_data",
       "text": [
        "<IPython.core.display.Javascript at 0x87c5c50>"
       ]
      },
      {
       "javascript": [
        "$('div#1740ce2b-ff38-4d0b-b914-34d0df938aa9').width('33.333333%')"
       ],
       "metadata": {},
       "output_type": "display_data",
       "text": [
        "<IPython.core.display.Javascript at 0x87c5bd0>"
       ]
      },
      {
       "javascript": [
        "$('div#1740ce2b-ff38-4d0b-b914-34d0df938aa9').width('50.000000%')"
       ],
       "metadata": {},
       "output_type": "display_data",
       "text": [
        "<IPython.core.display.Javascript at 0x87c5790>"
       ]
      },
      {
       "javascript": [
        "$('div#1740ce2b-ff38-4d0b-b914-34d0df938aa9').width('66.666667%')"
       ],
       "metadata": {},
       "output_type": "display_data",
       "text": [
        "<IPython.core.display.Javascript at 0x87c5b50>"
       ]
      },
      {
       "javascript": [
        "$('div#1740ce2b-ff38-4d0b-b914-34d0df938aa9').width('83.333333%')"
       ],
       "metadata": {},
       "output_type": "display_data",
       "text": [
        "<IPython.core.display.Javascript at 0x87c5cd0>"
       ]
      },
      {
       "javascript": [
        "$('div#1740ce2b-ff38-4d0b-b914-34d0df938aa9').width('100.000000%')"
       ],
       "metadata": {},
       "output_type": "display_data",
       "text": [
        "<IPython.core.display.Javascript at 0x87c5810>"
       ]
      },
      {
       "output_type": "stream",
       "stream": "stdout",
       "text": [
        "Running mapper & aggregator on the result objects (number of results=100, chunk size=17)\n"
       ]
      },
      {
       "html": [
        "\n",
        "                          <div style=\"border: 1px solid black; width:500px\">\n",
        "                          <div id=\"20d09c0e-a571-42bd-a004-849d0d53c310\" style=\"background-color:blue; width:0%\">&nbsp;</div>\n",
        "                          </div>\n",
        "                          "
       ],
       "metadata": {},
       "output_type": "display_data",
       "text": [
        "<IPython.core.display.HTML at 0x87c5550>"
       ]
      },
      {
       "javascript": [
        "$('div#20d09c0e-a571-42bd-a004-849d0d53c310').width('16.666667%')"
       ],
       "metadata": {},
       "output_type": "display_data",
       "text": [
        "<IPython.core.display.Javascript at 0x88ea9d0>"
       ]
      },
      {
       "javascript": [
        "$('div#20d09c0e-a571-42bd-a004-849d0d53c310').width('33.333333%')"
       ],
       "metadata": {},
       "output_type": "display_data",
       "text": [
        "<IPython.core.display.Javascript at 0x88ea610>"
       ]
      },
      {
       "javascript": [
        "$('div#20d09c0e-a571-42bd-a004-849d0d53c310').width('50.000000%')"
       ],
       "metadata": {},
       "output_type": "display_data",
       "text": [
        "<IPython.core.display.Javascript at 0x88ea110>"
       ]
      },
      {
       "javascript": [
        "$('div#20d09c0e-a571-42bd-a004-849d0d53c310').width('66.666667%')"
       ],
       "metadata": {},
       "output_type": "display_data",
       "text": [
        "<IPython.core.display.Javascript at 0x88eafd0>"
       ]
      },
      {
       "javascript": [
        "$('div#20d09c0e-a571-42bd-a004-849d0d53c310').width('83.333333%')"
       ],
       "metadata": {},
       "output_type": "display_data",
       "text": [
        "<IPython.core.display.Javascript at 0x88eac50>"
       ]
      },
      {
       "javascript": [
        "$('div#20d09c0e-a571-42bd-a004-849d0d53c310').width('100.000000%')"
       ],
       "metadata": {},
       "output_type": "display_data",
       "text": [
        "<IPython.core.display.Javascript at 0x88eabd0>"
       ]
      },
      {
       "output_type": "stream",
       "stream": "stdout",
       "text": [
        "Running reducer on mapped and aggregated results (size=6)\n",
        "Number of engines: 6\n",
        "\tPhase1, wall_time: 23.200049\n",
        "\tPhase2, wall_time: 6.791694\n",
        "Generating 100 realizations of the model (chunk size=8)\n"
       ]
      },
      {
       "html": [
        "\n",
        "                          <div style=\"border: 1px solid black; width:500px\">\n",
        "                          <div id=\"0137d8ff-d264-401b-a15e-34513a7a77a8\" style=\"background-color:blue; width:0%\">&nbsp;</div>\n",
        "                          </div>\n",
        "                          "
       ],
       "metadata": {},
       "output_type": "display_data",
       "text": [
        "<IPython.core.display.HTML at 0x79cd790>"
       ]
      },
      {
       "javascript": [
        "$('div#0137d8ff-d264-401b-a15e-34513a7a77a8').width('7.692308%')"
       ],
       "metadata": {},
       "output_type": "display_data",
       "text": [
        "<IPython.core.display.Javascript at 0x87c5210>"
       ]
      },
      {
       "javascript": [
        "$('div#0137d8ff-d264-401b-a15e-34513a7a77a8').width('15.384615%')"
       ],
       "metadata": {},
       "output_type": "display_data",
       "text": [
        "<IPython.core.display.Javascript at 0x88eaf90>"
       ]
      },
      {
       "javascript": [
        "$('div#0137d8ff-d264-401b-a15e-34513a7a77a8').width('23.076923%')"
       ],
       "metadata": {},
       "output_type": "display_data",
       "text": [
        "<IPython.core.display.Javascript at 0x88eaed0>"
       ]
      },
      {
       "javascript": [
        "$('div#0137d8ff-d264-401b-a15e-34513a7a77a8').width('30.769231%')"
       ],
       "metadata": {},
       "output_type": "display_data",
       "text": [
        "<IPython.core.display.Javascript at 0x88eae90>"
       ]
      },
      {
       "javascript": [
        "$('div#0137d8ff-d264-401b-a15e-34513a7a77a8').width('38.461538%')"
       ],
       "metadata": {},
       "output_type": "display_data",
       "text": [
        "<IPython.core.display.Javascript at 0x88ea4d0>"
       ]
      },
      {
       "javascript": [
        "$('div#0137d8ff-d264-401b-a15e-34513a7a77a8').width('46.153846%')"
       ],
       "metadata": {},
       "output_type": "display_data",
       "text": [
        "<IPython.core.display.Javascript at 0x88eab90>"
       ]
      },
      {
       "javascript": [
        "$('div#0137d8ff-d264-401b-a15e-34513a7a77a8').width('53.846154%')"
       ],
       "metadata": {},
       "output_type": "display_data",
       "text": [
        "<IPython.core.display.Javascript at 0x88eac90>"
       ]
      },
      {
       "javascript": [
        "$('div#0137d8ff-d264-401b-a15e-34513a7a77a8').width('61.538462%')"
       ],
       "metadata": {},
       "output_type": "display_data",
       "text": [
        "<IPython.core.display.Javascript at 0x88eac50>"
       ]
      },
      {
       "javascript": [
        "$('div#0137d8ff-d264-401b-a15e-34513a7a77a8').width('69.230769%')"
       ],
       "metadata": {},
       "output_type": "display_data",
       "text": [
        "<IPython.core.display.Javascript at 0x88eafd0>"
       ]
      },
      {
       "javascript": [
        "$('div#0137d8ff-d264-401b-a15e-34513a7a77a8').width('76.923077%')"
       ],
       "metadata": {},
       "output_type": "display_data",
       "text": [
        "<IPython.core.display.Javascript at 0x88ea110>"
       ]
      },
      {
       "javascript": [
        "$('div#0137d8ff-d264-401b-a15e-34513a7a77a8').width('84.615385%')"
       ],
       "metadata": {},
       "output_type": "display_data",
       "text": [
        "<IPython.core.display.Javascript at 0x88ea610>"
       ]
      },
      {
       "javascript": [
        "$('div#0137d8ff-d264-401b-a15e-34513a7a77a8').width('92.307692%')"
       ],
       "metadata": {},
       "output_type": "display_data",
       "text": [
        "<IPython.core.display.Javascript at 0x88ea9d0>"
       ]
      },
      {
       "javascript": [
        "$('div#0137d8ff-d264-401b-a15e-34513a7a77a8').width('100.000000%')"
       ],
       "metadata": {},
       "output_type": "display_data",
       "text": [
        "<IPython.core.display.Javascript at 0x88eac10>"
       ]
      },
      {
       "output_type": "stream",
       "stream": "stdout",
       "text": [
        "Running mapper & aggregator on the result objects (number of results=100, chunk size=8)\n"
       ]
      },
      {
       "html": [
        "\n",
        "                          <div style=\"border: 1px solid black; width:500px\">\n",
        "                          <div id=\"6a9a871a-369e-46ca-888e-eb745b23f711\" style=\"background-color:blue; width:0%\">&nbsp;</div>\n",
        "                          </div>\n",
        "                          "
       ],
       "metadata": {},
       "output_type": "display_data",
       "text": [
        "<IPython.core.display.HTML at 0x87c5bd0>"
       ]
      },
      {
       "javascript": [
        "$('div#6a9a871a-369e-46ca-888e-eb745b23f711').width('7.692308%')"
       ],
       "metadata": {},
       "output_type": "display_data",
       "text": [
        "<IPython.core.display.Javascript at 0x88eadd0>"
       ]
      },
      {
       "javascript": [
        "$('div#6a9a871a-369e-46ca-888e-eb745b23f711').width('15.384615%')"
       ],
       "metadata": {},
       "output_type": "display_data",
       "text": [
        "<IPython.core.display.Javascript at 0x88ea050>"
       ]
      },
      {
       "javascript": [
        "$('div#6a9a871a-369e-46ca-888e-eb745b23f711').width('23.076923%')"
       ],
       "metadata": {},
       "output_type": "display_data",
       "text": [
        "<IPython.core.display.Javascript at 0x88eaf10>"
       ]
      },
      {
       "javascript": [
        "$('div#6a9a871a-369e-46ca-888e-eb745b23f711').width('30.769231%')"
       ],
       "metadata": {},
       "output_type": "display_data",
       "text": [
        "<IPython.core.display.Javascript at 0x88eabd0>"
       ]
      },
      {
       "javascript": [
        "$('div#6a9a871a-369e-46ca-888e-eb745b23f711').width('38.461538%')"
       ],
       "metadata": {},
       "output_type": "display_data",
       "text": [
        "<IPython.core.display.Javascript at 0x88eacd0>"
       ]
      },
      {
       "javascript": [
        "$('div#6a9a871a-369e-46ca-888e-eb745b23f711').width('46.153846%')"
       ],
       "metadata": {},
       "output_type": "display_data",
       "text": [
        "<IPython.core.display.Javascript at 0x88ea090>"
       ]
      },
      {
       "javascript": [
        "$('div#6a9a871a-369e-46ca-888e-eb745b23f711').width('53.846154%')"
       ],
       "metadata": {},
       "output_type": "display_data",
       "text": [
        "<IPython.core.display.Javascript at 0x88ea1d0>"
       ]
      },
      {
       "javascript": [
        "$('div#6a9a871a-369e-46ca-888e-eb745b23f711').width('61.538462%')"
       ],
       "metadata": {},
       "output_type": "display_data",
       "text": [
        "<IPython.core.display.Javascript at 0x88ea0d0>"
       ]
      },
      {
       "javascript": [
        "$('div#6a9a871a-369e-46ca-888e-eb745b23f711').width('69.230769%')"
       ],
       "metadata": {},
       "output_type": "display_data",
       "text": [
        "<IPython.core.display.Javascript at 0x88ea190>"
       ]
      },
      {
       "javascript": [
        "$('div#6a9a871a-369e-46ca-888e-eb745b23f711').width('76.923077%')"
       ],
       "metadata": {},
       "output_type": "display_data",
       "text": [
        "<IPython.core.display.Javascript at 0x88ea290>"
       ]
      },
      {
       "javascript": [
        "$('div#6a9a871a-369e-46ca-888e-eb745b23f711').width('84.615385%')"
       ],
       "metadata": {},
       "output_type": "display_data",
       "text": [
        "<IPython.core.display.Javascript at 0x88ea310>"
       ]
      },
      {
       "javascript": [
        "$('div#6a9a871a-369e-46ca-888e-eb745b23f711').width('92.307692%')"
       ],
       "metadata": {},
       "output_type": "display_data",
       "text": [
        "<IPython.core.display.Javascript at 0x88ea210>"
       ]
      },
      {
       "javascript": [
        "$('div#6a9a871a-369e-46ca-888e-eb745b23f711').width('100.000000%')"
       ],
       "metadata": {},
       "output_type": "display_data",
       "text": [
        "<IPython.core.display.Javascript at 0x88ea2d0>"
       ]
      },
      {
       "output_type": "stream",
       "stream": "stdout",
       "text": [
        "Running reducer on mapped and aggregated results (size=13)\n",
        "Number of engines: 12\n",
        "\tPhase1, wall_time: 21.182039\n",
        "\tPhase2, wall_time: 6.919352\n",
        "Generating 100 realizations of the model (chunk size=4)\n"
       ]
      },
      {
       "html": [
        "\n",
        "                          <div style=\"border: 1px solid black; width:500px\">\n",
        "                          <div id=\"f3d01546-33f1-4ff3-b54a-ced80449dd8c\" style=\"background-color:blue; width:0%\">&nbsp;</div>\n",
        "                          </div>\n",
        "                          "
       ],
       "metadata": {},
       "output_type": "display_data",
       "text": [
        "<IPython.core.display.HTML at 0x87c5810>"
       ]
      },
      {
       "javascript": [
        "$('div#f3d01546-33f1-4ff3-b54a-ced80449dd8c').width('4.000000%')"
       ],
       "metadata": {},
       "output_type": "display_data",
       "text": [
        "<IPython.core.display.Javascript at 0x88eae10>"
       ]
      },
      {
       "javascript": [
        "$('div#f3d01546-33f1-4ff3-b54a-ced80449dd8c').width('8.000000%')"
       ],
       "metadata": {},
       "output_type": "display_data",
       "text": [
        "<IPython.core.display.Javascript at 0x88ead10>"
       ]
      },
      {
       "javascript": [
        "$('div#f3d01546-33f1-4ff3-b54a-ced80449dd8c').width('12.000000%')"
       ],
       "metadata": {},
       "output_type": "display_data",
       "text": [
        "<IPython.core.display.Javascript at 0x88ea310>"
       ]
      },
      {
       "javascript": [
        "$('div#f3d01546-33f1-4ff3-b54a-ced80449dd8c').width('16.000000%')"
       ],
       "metadata": {},
       "output_type": "display_data",
       "text": [
        "<IPython.core.display.Javascript at 0x88ea210>"
       ]
      },
      {
       "javascript": [
        "$('div#f3d01546-33f1-4ff3-b54a-ced80449dd8c').width('20.000000%')"
       ],
       "metadata": {},
       "output_type": "display_data",
       "text": [
        "<IPython.core.display.Javascript at 0x88ea290>"
       ]
      },
      {
       "javascript": [
        "$('div#f3d01546-33f1-4ff3-b54a-ced80449dd8c').width('24.000000%')"
       ],
       "metadata": {},
       "output_type": "display_data",
       "text": [
        "<IPython.core.display.Javascript at 0x88ea190>"
       ]
      },
      {
       "javascript": [
        "$('div#f3d01546-33f1-4ff3-b54a-ced80449dd8c').width('28.000000%')"
       ],
       "metadata": {},
       "output_type": "display_data",
       "text": [
        "<IPython.core.display.Javascript at 0x88ea0d0>"
       ]
      },
      {
       "javascript": [
        "$('div#f3d01546-33f1-4ff3-b54a-ced80449dd8c').width('32.000000%')"
       ],
       "metadata": {},
       "output_type": "display_data",
       "text": [
        "<IPython.core.display.Javascript at 0x88ea090>"
       ]
      },
      {
       "javascript": [
        "$('div#f3d01546-33f1-4ff3-b54a-ced80449dd8c').width('36.000000%')"
       ],
       "metadata": {},
       "output_type": "display_data",
       "text": [
        "<IPython.core.display.Javascript at 0x88eacd0>"
       ]
      },
      {
       "javascript": [
        "$('div#f3d01546-33f1-4ff3-b54a-ced80449dd8c').width('40.000000%')"
       ],
       "metadata": {},
       "output_type": "display_data",
       "text": [
        "<IPython.core.display.Javascript at 0x88eabd0>"
       ]
      },
      {
       "javascript": [
        "$('div#f3d01546-33f1-4ff3-b54a-ced80449dd8c').width('44.000000%')"
       ],
       "metadata": {},
       "output_type": "display_data",
       "text": [
        "<IPython.core.display.Javascript at 0x88eaf10>"
       ]
      },
      {
       "javascript": [
        "$('div#f3d01546-33f1-4ff3-b54a-ced80449dd8c').width('48.000000%')"
       ],
       "metadata": {},
       "output_type": "display_data",
       "text": [
        "<IPython.core.display.Javascript at 0x88ea050>"
       ]
      },
      {
       "javascript": [
        "$('div#f3d01546-33f1-4ff3-b54a-ced80449dd8c').width('52.000000%')"
       ],
       "metadata": {},
       "output_type": "display_data",
       "text": [
        "<IPython.core.display.Javascript at 0x88eadd0>"
       ]
      },
      {
       "javascript": [
        "$('div#f3d01546-33f1-4ff3-b54a-ced80449dd8c').width('56.000000%')"
       ],
       "metadata": {},
       "output_type": "display_data",
       "text": [
        "<IPython.core.display.Javascript at 0x88eac10>"
       ]
      },
      {
       "javascript": [
        "$('div#f3d01546-33f1-4ff3-b54a-ced80449dd8c').width('60.000000%')"
       ],
       "metadata": {},
       "output_type": "display_data",
       "text": [
        "<IPython.core.display.Javascript at 0x88ea9d0>"
       ]
      },
      {
       "javascript": [
        "$('div#f3d01546-33f1-4ff3-b54a-ced80449dd8c').width('64.000000%')"
       ],
       "metadata": {},
       "output_type": "display_data",
       "text": [
        "<IPython.core.display.Javascript at 0x88ea610>"
       ]
      },
      {
       "javascript": [
        "$('div#f3d01546-33f1-4ff3-b54a-ced80449dd8c').width('68.000000%')"
       ],
       "metadata": {},
       "output_type": "display_data",
       "text": [
        "<IPython.core.display.Javascript at 0x88ea110>"
       ]
      },
      {
       "javascript": [
        "$('div#f3d01546-33f1-4ff3-b54a-ced80449dd8c').width('72.000000%')"
       ],
       "metadata": {},
       "output_type": "display_data",
       "text": [
        "<IPython.core.display.Javascript at 0x88eafd0>"
       ]
      },
      {
       "javascript": [
        "$('div#f3d01546-33f1-4ff3-b54a-ced80449dd8c').width('76.000000%')"
       ],
       "metadata": {},
       "output_type": "display_data",
       "text": [
        "<IPython.core.display.Javascript at 0x88eac50>"
       ]
      },
      {
       "javascript": [
        "$('div#f3d01546-33f1-4ff3-b54a-ced80449dd8c').width('80.000000%')"
       ],
       "metadata": {},
       "output_type": "display_data",
       "text": [
        "<IPython.core.display.Javascript at 0x88eac90>"
       ]
      },
      {
       "javascript": [
        "$('div#f3d01546-33f1-4ff3-b54a-ced80449dd8c').width('84.000000%')"
       ],
       "metadata": {},
       "output_type": "display_data",
       "text": [
        "<IPython.core.display.Javascript at 0x88eab90>"
       ]
      },
      {
       "javascript": [
        "$('div#f3d01546-33f1-4ff3-b54a-ced80449dd8c').width('88.000000%')"
       ],
       "metadata": {},
       "output_type": "display_data",
       "text": [
        "<IPython.core.display.Javascript at 0x88ea4d0>"
       ]
      },
      {
       "javascript": [
        "$('div#f3d01546-33f1-4ff3-b54a-ced80449dd8c').width('92.000000%')"
       ],
       "metadata": {},
       "output_type": "display_data",
       "text": [
        "<IPython.core.display.Javascript at 0x88eae90>"
       ]
      },
      {
       "javascript": [
        "$('div#f3d01546-33f1-4ff3-b54a-ced80449dd8c').width('96.000000%')"
       ],
       "metadata": {},
       "output_type": "display_data",
       "text": [
        "<IPython.core.display.Javascript at 0x88eaed0>"
       ]
      },
      {
       "javascript": [
        "$('div#f3d01546-33f1-4ff3-b54a-ced80449dd8c').width('100.000000%')"
       ],
       "metadata": {},
       "output_type": "display_data",
       "text": [
        "<IPython.core.display.Javascript at 0x88ea410>"
       ]
      },
      {
       "output_type": "stream",
       "stream": "stdout",
       "text": [
        "Running mapper & aggregator on the result objects (number of results=100, chunk size=4)\n"
       ]
      },
      {
       "html": [
        "\n",
        "                          <div style=\"border: 1px solid black; width:500px\">\n",
        "                          <div id=\"bffbdb37-e464-4f72-957a-dc338b3d9eb0\" style=\"background-color:blue; width:0%\">&nbsp;</div>\n",
        "                          </div>\n",
        "                          "
       ],
       "metadata": {},
       "output_type": "display_data",
       "text": [
        "<IPython.core.display.HTML at 0x88ea2d0>"
       ]
      },
      {
       "javascript": [
        "$('div#bffbdb37-e464-4f72-957a-dc338b3d9eb0').width('4.000000%')"
       ],
       "metadata": {},
       "output_type": "display_data",
       "text": [
        "<IPython.core.display.Javascript at 0x88ea590>"
       ]
      },
      {
       "javascript": [
        "$('div#bffbdb37-e464-4f72-957a-dc338b3d9eb0').width('8.000000%')"
       ],
       "metadata": {},
       "output_type": "display_data",
       "text": [
        "<IPython.core.display.Javascript at 0x88ea510>"
       ]
      },
      {
       "javascript": [
        "$('div#bffbdb37-e464-4f72-957a-dc338b3d9eb0').width('12.000000%')"
       ],
       "metadata": {},
       "output_type": "display_data",
       "text": [
        "<IPython.core.display.Javascript at 0x88eaf90>"
       ]
      },
      {
       "javascript": [
        "$('div#bffbdb37-e464-4f72-957a-dc338b3d9eb0').width('16.000000%')"
       ],
       "metadata": {},
       "output_type": "display_data",
       "text": [
        "<IPython.core.display.Javascript at 0x88eaed0>"
       ]
      },
      {
       "javascript": [
        "$('div#bffbdb37-e464-4f72-957a-dc338b3d9eb0').width('20.000000%')"
       ],
       "metadata": {},
       "output_type": "display_data",
       "text": [
        "<IPython.core.display.Javascript at 0x88eae90>"
       ]
      },
      {
       "javascript": [
        "$('div#bffbdb37-e464-4f72-957a-dc338b3d9eb0').width('24.000000%')"
       ],
       "metadata": {},
       "output_type": "display_data",
       "text": [
        "<IPython.core.display.Javascript at 0x88ea490>"
       ]
      },
      {
       "javascript": [
        "$('div#bffbdb37-e464-4f72-957a-dc338b3d9eb0').width('28.000000%')"
       ],
       "metadata": {},
       "output_type": "display_data",
       "text": [
        "<IPython.core.display.Javascript at 0x88eab90>"
       ]
      },
      {
       "javascript": [
        "$('div#bffbdb37-e464-4f72-957a-dc338b3d9eb0').width('32.000000%')"
       ],
       "metadata": {},
       "output_type": "display_data",
       "text": [
        "<IPython.core.display.Javascript at 0x88eac90>"
       ]
      },
      {
       "javascript": [
        "$('div#bffbdb37-e464-4f72-957a-dc338b3d9eb0').width('36.000000%')"
       ],
       "metadata": {},
       "output_type": "display_data",
       "text": [
        "<IPython.core.display.Javascript at 0x88eac50>"
       ]
      },
      {
       "javascript": [
        "$('div#bffbdb37-e464-4f72-957a-dc338b3d9eb0').width('40.000000%')"
       ],
       "metadata": {},
       "output_type": "display_data",
       "text": [
        "<IPython.core.display.Javascript at 0x88eafd0>"
       ]
      },
      {
       "javascript": [
        "$('div#bffbdb37-e464-4f72-957a-dc338b3d9eb0').width('44.000000%')"
       ],
       "metadata": {},
       "output_type": "display_data",
       "text": [
        "<IPython.core.display.Javascript at 0x88ea110>"
       ]
      },
      {
       "javascript": [
        "$('div#bffbdb37-e464-4f72-957a-dc338b3d9eb0').width('48.000000%')"
       ],
       "metadata": {},
       "output_type": "display_data",
       "text": [
        "<IPython.core.display.Javascript at 0x88ea610>"
       ]
      },
      {
       "javascript": [
        "$('div#bffbdb37-e464-4f72-957a-dc338b3d9eb0').width('52.000000%')"
       ],
       "metadata": {},
       "output_type": "display_data",
       "text": [
        "<IPython.core.display.Javascript at 0x88eac10>"
       ]
      },
      {
       "javascript": [
        "$('div#bffbdb37-e464-4f72-957a-dc338b3d9eb0').width('56.000000%')"
       ],
       "metadata": {},
       "output_type": "display_data",
       "text": [
        "<IPython.core.display.Javascript at 0x88eadd0>"
       ]
      },
      {
       "javascript": [
        "$('div#bffbdb37-e464-4f72-957a-dc338b3d9eb0').width('60.000000%')"
       ],
       "metadata": {},
       "output_type": "display_data",
       "text": [
        "<IPython.core.display.Javascript at 0x88ea050>"
       ]
      },
      {
       "javascript": [
        "$('div#bffbdb37-e464-4f72-957a-dc338b3d9eb0').width('64.000000%')"
       ],
       "metadata": {},
       "output_type": "display_data",
       "text": [
        "<IPython.core.display.Javascript at 0x88eaf10>"
       ]
      },
      {
       "javascript": [
        "$('div#bffbdb37-e464-4f72-957a-dc338b3d9eb0').width('68.000000%')"
       ],
       "metadata": {},
       "output_type": "display_data",
       "text": [
        "<IPython.core.display.Javascript at 0x88ea4d0>"
       ]
      },
      {
       "javascript": [
        "$('div#bffbdb37-e464-4f72-957a-dc338b3d9eb0').width('72.000000%')"
       ],
       "metadata": {},
       "output_type": "display_data",
       "text": [
        "<IPython.core.display.Javascript at 0x88eabd0>"
       ]
      },
      {
       "javascript": [
        "$('div#bffbdb37-e464-4f72-957a-dc338b3d9eb0').width('76.000000%')"
       ],
       "metadata": {},
       "output_type": "display_data",
       "text": [
        "<IPython.core.display.Javascript at 0x88eacd0>"
       ]
      },
      {
       "javascript": [
        "$('div#bffbdb37-e464-4f72-957a-dc338b3d9eb0').width('80.000000%')"
       ],
       "metadata": {},
       "output_type": "display_data",
       "text": [
        "<IPython.core.display.Javascript at 0x88ea9d0>"
       ]
      },
      {
       "javascript": [
        "$('div#bffbdb37-e464-4f72-957a-dc338b3d9eb0').width('84.000000%')"
       ],
       "metadata": {},
       "output_type": "display_data",
       "text": [
        "<IPython.core.display.Javascript at 0x88ea090>"
       ]
      },
      {
       "javascript": [
        "$('div#bffbdb37-e464-4f72-957a-dc338b3d9eb0').width('88.000000%')"
       ],
       "metadata": {},
       "output_type": "display_data",
       "text": [
        "<IPython.core.display.Javascript at 0x88ea0d0>"
       ]
      },
      {
       "javascript": [
        "$('div#bffbdb37-e464-4f72-957a-dc338b3d9eb0').width('92.000000%')"
       ],
       "metadata": {},
       "output_type": "display_data",
       "text": [
        "<IPython.core.display.Javascript at 0x88ea190>"
       ]
      },
      {
       "javascript": [
        "$('div#bffbdb37-e464-4f72-957a-dc338b3d9eb0').width('96.000000%')"
       ],
       "metadata": {},
       "output_type": "display_data",
       "text": [
        "<IPython.core.display.Javascript at 0x88ea210>"
       ]
      },
      {
       "javascript": [
        "$('div#bffbdb37-e464-4f72-957a-dc338b3d9eb0').width('100.000000%')"
       ],
       "metadata": {},
       "output_type": "display_data",
       "text": [
        "<IPython.core.display.Javascript at 0x88ea310>"
       ]
      },
      {
       "output_type": "stream",
       "stream": "stdout",
       "text": [
        "Running reducer on mapped and aggregated results (size=25)\n",
        "Number of engines: 24\n",
        "\tPhase1, wall_time: 15.490678\n",
        "\tPhase2, wall_time: 4.319998\n",
        "Generating 100 realizations of the model (chunk size=2)\n"
       ]
      },
      {
       "html": [
        "\n",
        "                          <div style=\"border: 1px solid black; width:500px\">\n",
        "                          <div id=\"447cfd6d-7424-4b9c-8e16-ca40277795e3\" style=\"background-color:blue; width:0%\">&nbsp;</div>\n",
        "                          </div>\n",
        "                          "
       ],
       "metadata": {},
       "output_type": "display_data",
       "text": [
        "<IPython.core.display.HTML at 0x87c5210>"
       ]
      },
      {
       "javascript": [
        "$('div#447cfd6d-7424-4b9c-8e16-ca40277795e3').width('2.000000%')"
       ],
       "metadata": {},
       "output_type": "display_data",
       "text": [
        "<IPython.core.display.Javascript at 0x88ea1d0>"
       ]
      },
      {
       "javascript": [
        "$('div#447cfd6d-7424-4b9c-8e16-ca40277795e3').width('4.000000%')"
       ],
       "metadata": {},
       "output_type": "display_data",
       "text": [
        "<IPython.core.display.Javascript at 0x88ea690>"
       ]
      },
      {
       "javascript": [
        "$('div#447cfd6d-7424-4b9c-8e16-ca40277795e3').width('6.000000%')"
       ],
       "metadata": {},
       "output_type": "display_data",
       "text": [
        "<IPython.core.display.Javascript at 0x88ea8d0>"
       ]
      },
      {
       "javascript": [
        "$('div#447cfd6d-7424-4b9c-8e16-ca40277795e3').width('8.000000%')"
       ],
       "metadata": {},
       "output_type": "display_data",
       "text": [
        "<IPython.core.display.Javascript at 0x88ea710>"
       ]
      },
      {
       "javascript": [
        "$('div#447cfd6d-7424-4b9c-8e16-ca40277795e3').width('10.000000%')"
       ],
       "metadata": {},
       "output_type": "display_data",
       "text": [
        "<IPython.core.display.Javascript at 0x88ea310>"
       ]
      },
      {
       "javascript": [
        "$('div#447cfd6d-7424-4b9c-8e16-ca40277795e3').width('12.000000%')"
       ],
       "metadata": {},
       "output_type": "display_data",
       "text": [
        "<IPython.core.display.Javascript at 0x88ea350>"
       ]
      },
      {
       "javascript": [
        "$('div#447cfd6d-7424-4b9c-8e16-ca40277795e3').width('14.000000%')"
       ],
       "metadata": {},
       "output_type": "display_data",
       "text": [
        "<IPython.core.display.Javascript at 0x88ea210>"
       ]
      },
      {
       "javascript": [
        "$('div#447cfd6d-7424-4b9c-8e16-ca40277795e3').width('16.000000%')"
       ],
       "metadata": {},
       "output_type": "display_data",
       "text": [
        "<IPython.core.display.Javascript at 0x88ea0d0>"
       ]
      },
      {
       "javascript": [
        "$('div#447cfd6d-7424-4b9c-8e16-ca40277795e3').width('18.000000%')"
       ],
       "metadata": {},
       "output_type": "display_data",
       "text": [
        "<IPython.core.display.Javascript at 0x88ea090>"
       ]
      },
      {
       "javascript": [
        "$('div#447cfd6d-7424-4b9c-8e16-ca40277795e3').width('20.000000%')"
       ],
       "metadata": {},
       "output_type": "display_data",
       "text": [
        "<IPython.core.display.Javascript at 0x88ea9d0>"
       ]
      },
      {
       "javascript": [
        "$('div#447cfd6d-7424-4b9c-8e16-ca40277795e3').width('22.000000%')"
       ],
       "metadata": {},
       "output_type": "display_data",
       "text": [
        "<IPython.core.display.Javascript at 0x88eacd0>"
       ]
      },
      {
       "javascript": [
        "$('div#447cfd6d-7424-4b9c-8e16-ca40277795e3').width('24.000000%')"
       ],
       "metadata": {},
       "output_type": "display_data",
       "text": [
        "<IPython.core.display.Javascript at 0x88eabd0>"
       ]
      },
      {
       "javascript": [
        "$('div#447cfd6d-7424-4b9c-8e16-ca40277795e3').width('26.000000%')"
       ],
       "metadata": {},
       "output_type": "display_data",
       "text": [
        "<IPython.core.display.Javascript at 0x88ea4d0>"
       ]
      },
      {
       "javascript": [
        "$('div#447cfd6d-7424-4b9c-8e16-ca40277795e3').width('28.000000%')"
       ],
       "metadata": {},
       "output_type": "display_data",
       "text": [
        "<IPython.core.display.Javascript at 0x88eaf10>"
       ]
      },
      {
       "javascript": [
        "$('div#447cfd6d-7424-4b9c-8e16-ca40277795e3').width('30.000000%')"
       ],
       "metadata": {},
       "output_type": "display_data",
       "text": [
        "<IPython.core.display.Javascript at 0x88ea050>"
       ]
      },
      {
       "javascript": [
        "$('div#447cfd6d-7424-4b9c-8e16-ca40277795e3').width('32.000000%')"
       ],
       "metadata": {},
       "output_type": "display_data",
       "text": [
        "<IPython.core.display.Javascript at 0x88eadd0>"
       ]
      },
      {
       "javascript": [
        "$('div#447cfd6d-7424-4b9c-8e16-ca40277795e3').width('34.000000%')"
       ],
       "metadata": {},
       "output_type": "display_data",
       "text": [
        "<IPython.core.display.Javascript at 0x88eac10>"
       ]
      },
      {
       "javascript": [
        "$('div#447cfd6d-7424-4b9c-8e16-ca40277795e3').width('36.000000%')"
       ],
       "metadata": {},
       "output_type": "display_data",
       "text": [
        "<IPython.core.display.Javascript at 0x88ea610>"
       ]
      },
      {
       "javascript": [
        "$('div#447cfd6d-7424-4b9c-8e16-ca40277795e3').width('38.000000%')"
       ],
       "metadata": {},
       "output_type": "display_data",
       "text": [
        "<IPython.core.display.Javascript at 0x88ea110>"
       ]
      },
      {
       "javascript": [
        "$('div#447cfd6d-7424-4b9c-8e16-ca40277795e3').width('40.000000%')"
       ],
       "metadata": {},
       "output_type": "display_data",
       "text": [
        "<IPython.core.display.Javascript at 0x88eafd0>"
       ]
      },
      {
       "javascript": [
        "$('div#447cfd6d-7424-4b9c-8e16-ca40277795e3').width('42.000000%')"
       ],
       "metadata": {},
       "output_type": "display_data",
       "text": [
        "<IPython.core.display.Javascript at 0x88ea810>"
       ]
      },
      {
       "javascript": [
        "$('div#447cfd6d-7424-4b9c-8e16-ca40277795e3').width('44.000000%')"
       ],
       "metadata": {},
       "output_type": "display_data",
       "text": [
        "<IPython.core.display.Javascript at 0x88ea790>"
       ]
      },
      {
       "javascript": [
        "$('div#447cfd6d-7424-4b9c-8e16-ca40277795e3').width('46.000000%')"
       ],
       "metadata": {},
       "output_type": "display_data",
       "text": [
        "<IPython.core.display.Javascript at 0x88eab90>"
       ]
      },
      {
       "javascript": [
        "$('div#447cfd6d-7424-4b9c-8e16-ca40277795e3').width('48.000000%')"
       ],
       "metadata": {},
       "output_type": "display_data",
       "text": [
        "<IPython.core.display.Javascript at 0x88ea490>"
       ]
      },
      {
       "javascript": [
        "$('div#447cfd6d-7424-4b9c-8e16-ca40277795e3').width('50.000000%')"
       ],
       "metadata": {},
       "output_type": "display_data",
       "text": [
        "<IPython.core.display.Javascript at 0x88eae90>"
       ]
      },
      {
       "javascript": [
        "$('div#447cfd6d-7424-4b9c-8e16-ca40277795e3').width('52.000000%')"
       ],
       "metadata": {},
       "output_type": "display_data",
       "text": [
        "<IPython.core.display.Javascript at 0x88eaed0>"
       ]
      },
      {
       "javascript": [
        "$('div#447cfd6d-7424-4b9c-8e16-ca40277795e3').width('54.000000%')"
       ],
       "metadata": {},
       "output_type": "display_data",
       "text": [
        "<IPython.core.display.Javascript at 0x88eaf90>"
       ]
      },
      {
       "javascript": [
        "$('div#447cfd6d-7424-4b9c-8e16-ca40277795e3').width('56.000000%')"
       ],
       "metadata": {},
       "output_type": "display_data",
       "text": [
        "<IPython.core.display.Javascript at 0x88ea510>"
       ]
      },
      {
       "javascript": [
        "$('div#447cfd6d-7424-4b9c-8e16-ca40277795e3').width('58.000000%')"
       ],
       "metadata": {},
       "output_type": "display_data",
       "text": [
        "<IPython.core.display.Javascript at 0x88ea590>"
       ]
      },
      {
       "javascript": [
        "$('div#447cfd6d-7424-4b9c-8e16-ca40277795e3').width('60.000000%')"
       ],
       "metadata": {},
       "output_type": "display_data",
       "text": [
        "<IPython.core.display.Javascript at 0x88ea2d0>"
       ]
      },
      {
       "javascript": [
        "$('div#447cfd6d-7424-4b9c-8e16-ca40277795e3').width('62.000000%')"
       ],
       "metadata": {},
       "output_type": "display_data",
       "text": [
        "<IPython.core.display.Javascript at 0x88ea950>"
       ]
      },
      {
       "javascript": [
        "$('div#447cfd6d-7424-4b9c-8e16-ca40277795e3').width('64.000000%')"
       ],
       "metadata": {},
       "output_type": "display_data",
       "text": [
        "<IPython.core.display.Javascript at 0x88ea850>"
       ]
      },
      {
       "javascript": [
        "$('div#447cfd6d-7424-4b9c-8e16-ca40277795e3').width('66.000000%')"
       ],
       "metadata": {},
       "output_type": "display_data",
       "text": [
        "<IPython.core.display.Javascript at 0x88ea910>"
       ]
      },
      {
       "javascript": [
        "$('div#447cfd6d-7424-4b9c-8e16-ca40277795e3').width('68.000000%')"
       ],
       "metadata": {},
       "output_type": "display_data",
       "text": [
        "<IPython.core.display.Javascript at 0x88eac50>"
       ]
      },
      {
       "javascript": [
        "$('div#447cfd6d-7424-4b9c-8e16-ca40277795e3').width('70.000000%')"
       ],
       "metadata": {},
       "output_type": "display_data",
       "text": [
        "<IPython.core.display.Javascript at 0x88eaa10>"
       ]
      },
      {
       "javascript": [
        "$('div#447cfd6d-7424-4b9c-8e16-ca40277795e3').width('72.000000%')"
       ],
       "metadata": {},
       "output_type": "display_data",
       "text": [
        "<IPython.core.display.Javascript at 0x88ea990>"
       ]
      },
      {
       "javascript": [
        "$('div#447cfd6d-7424-4b9c-8e16-ca40277795e3').width('74.000000%')"
       ],
       "metadata": {},
       "output_type": "display_data",
       "text": [
        "<IPython.core.display.Javascript at 0x8474610>"
       ]
      },
      {
       "javascript": [
        "$('div#447cfd6d-7424-4b9c-8e16-ca40277795e3').width('76.000000%')"
       ],
       "metadata": {},
       "output_type": "display_data",
       "text": [
        "<IPython.core.display.Javascript at 0x8474110>"
       ]
      },
      {
       "javascript": [
        "$('div#447cfd6d-7424-4b9c-8e16-ca40277795e3').width('78.000000%')"
       ],
       "metadata": {},
       "output_type": "display_data",
       "text": [
        "<IPython.core.display.Javascript at 0x88eac90>"
       ]
      },
      {
       "javascript": [
        "$('div#447cfd6d-7424-4b9c-8e16-ca40277795e3').width('80.000000%')"
       ],
       "metadata": {},
       "output_type": "display_data",
       "text": [
        "<IPython.core.display.Javascript at 0x88eaa90>"
       ]
      },
      {
       "javascript": [
        "$('div#447cfd6d-7424-4b9c-8e16-ca40277795e3').width('82.000000%')"
       ],
       "metadata": {},
       "output_type": "display_data",
       "text": [
        "<IPython.core.display.Javascript at 0x88ea190>"
       ]
      },
      {
       "javascript": [
        "$('div#447cfd6d-7424-4b9c-8e16-ca40277795e3').width('84.000000%')"
       ],
       "metadata": {},
       "output_type": "display_data",
       "text": [
        "<IPython.core.display.Javascript at 0x88eaa10>"
       ]
      },
      {
       "javascript": [
        "$('div#447cfd6d-7424-4b9c-8e16-ca40277795e3').width('86.000000%')"
       ],
       "metadata": {},
       "output_type": "display_data",
       "text": [
        "<IPython.core.display.Javascript at 0x88eac50>"
       ]
      },
      {
       "javascript": [
        "$('div#447cfd6d-7424-4b9c-8e16-ca40277795e3').width('88.000000%')"
       ],
       "metadata": {},
       "output_type": "display_data",
       "text": [
        "<IPython.core.display.Javascript at 0x88ea910>"
       ]
      },
      {
       "javascript": [
        "$('div#447cfd6d-7424-4b9c-8e16-ca40277795e3').width('90.000000%')"
       ],
       "metadata": {},
       "output_type": "display_data",
       "text": [
        "<IPython.core.display.Javascript at 0x88ea850>"
       ]
      },
      {
       "javascript": [
        "$('div#447cfd6d-7424-4b9c-8e16-ca40277795e3').width('92.000000%')"
       ],
       "metadata": {},
       "output_type": "display_data",
       "text": [
        "<IPython.core.display.Javascript at 0x88ea950>"
       ]
      },
      {
       "javascript": [
        "$('div#447cfd6d-7424-4b9c-8e16-ca40277795e3').width('94.000000%')"
       ],
       "metadata": {},
       "output_type": "display_data",
       "text": [
        "<IPython.core.display.Javascript at 0x88ea2d0>"
       ]
      },
      {
       "javascript": [
        "$('div#447cfd6d-7424-4b9c-8e16-ca40277795e3').width('96.000000%')"
       ],
       "metadata": {},
       "output_type": "display_data",
       "text": [
        "<IPython.core.display.Javascript at 0x88ea590>"
       ]
      },
      {
       "javascript": [
        "$('div#447cfd6d-7424-4b9c-8e16-ca40277795e3').width('98.000000%')"
       ],
       "metadata": {},
       "output_type": "display_data",
       "text": [
        "<IPython.core.display.Javascript at 0x88ea510>"
       ]
      },
      {
       "javascript": [
        "$('div#447cfd6d-7424-4b9c-8e16-ca40277795e3').width('100.000000%')"
       ],
       "metadata": {},
       "output_type": "display_data",
       "text": [
        "<IPython.core.display.Javascript at 0x88eaf90>"
       ]
      },
      {
       "output_type": "stream",
       "stream": "stdout",
       "text": [
        "Running mapper & aggregator on the result objects (number of results=100, chunk size=2)\n"
       ]
      },
      {
       "html": [
        "\n",
        "                          <div style=\"border: 1px solid black; width:500px\">\n",
        "                          <div id=\"37dca5b4-e956-4c70-96c6-322d8fa6cf88\" style=\"background-color:blue; width:0%\">&nbsp;</div>\n",
        "                          </div>\n",
        "                          "
       ],
       "metadata": {},
       "output_type": "display_data",
       "text": [
        "<IPython.core.display.HTML at 0x88ea7d0>"
       ]
      },
      {
       "javascript": [
        "$('div#37dca5b4-e956-4c70-96c6-322d8fa6cf88').width('2.000000%')"
       ],
       "metadata": {},
       "output_type": "display_data",
       "text": [
        "<IPython.core.display.Javascript at 0x88eaed0>"
       ]
      },
      {
       "javascript": [
        "$('div#37dca5b4-e956-4c70-96c6-322d8fa6cf88').width('4.000000%')"
       ],
       "metadata": {},
       "output_type": "display_data",
       "text": [
        "<IPython.core.display.Javascript at 0x88eafd0>"
       ]
      },
      {
       "javascript": [
        "$('div#37dca5b4-e956-4c70-96c6-322d8fa6cf88').width('6.000000%')"
       ],
       "metadata": {},
       "output_type": "display_data",
       "text": [
        "<IPython.core.display.Javascript at 0x88eae90>"
       ]
      },
      {
       "javascript": [
        "$('div#37dca5b4-e956-4c70-96c6-322d8fa6cf88').width('8.000000%')"
       ],
       "metadata": {},
       "output_type": "display_data",
       "text": [
        "<IPython.core.display.Javascript at 0x88ea790>"
       ]
      },
      {
       "javascript": [
        "$('div#37dca5b4-e956-4c70-96c6-322d8fa6cf88').width('10.000000%')"
       ],
       "metadata": {},
       "output_type": "display_data",
       "text": [
        "<IPython.core.display.Javascript at 0x88ea810>"
       ]
      },
      {
       "javascript": [
        "$('div#37dca5b4-e956-4c70-96c6-322d8fa6cf88').width('12.000000%')"
       ],
       "metadata": {},
       "output_type": "display_data",
       "text": [
        "<IPython.core.display.Javascript at 0x88eab90>"
       ]
      },
      {
       "javascript": [
        "$('div#37dca5b4-e956-4c70-96c6-322d8fa6cf88').width('14.000000%')"
       ],
       "metadata": {},
       "output_type": "display_data",
       "text": [
        "<IPython.core.display.Javascript at 0x88ea490>"
       ]
      },
      {
       "javascript": [
        "$('div#37dca5b4-e956-4c70-96c6-322d8fa6cf88').width('16.000000%')"
       ],
       "metadata": {},
       "output_type": "display_data",
       "text": [
        "<IPython.core.display.Javascript at 0x88eac10>"
       ]
      },
      {
       "javascript": [
        "$('div#37dca5b4-e956-4c70-96c6-322d8fa6cf88').width('18.000000%')"
       ],
       "metadata": {},
       "output_type": "display_data",
       "text": [
        "<IPython.core.display.Javascript at 0x88ea650>"
       ]
      },
      {
       "javascript": [
        "$('div#37dca5b4-e956-4c70-96c6-322d8fa6cf88').width('20.000000%')"
       ],
       "metadata": {},
       "output_type": "display_data",
       "text": [
        "<IPython.core.display.Javascript at 0x88ea110>"
       ]
      },
      {
       "javascript": [
        "$('div#37dca5b4-e956-4c70-96c6-322d8fa6cf88').width('22.000000%')"
       ],
       "metadata": {},
       "output_type": "display_data",
       "text": [
        "<IPython.core.display.Javascript at 0x88ea610>"
       ]
      },
      {
       "javascript": [
        "$('div#37dca5b4-e956-4c70-96c6-322d8fa6cf88').width('24.000000%')"
       ],
       "metadata": {},
       "output_type": "display_data",
       "text": [
        "<IPython.core.display.Javascript at 0x88ea4d0>"
       ]
      },
      {
       "javascript": [
        "$('div#37dca5b4-e956-4c70-96c6-322d8fa6cf88').width('26.000000%')"
       ],
       "metadata": {},
       "output_type": "display_data",
       "text": [
        "<IPython.core.display.Javascript at 0x88eaf10>"
       ]
      },
      {
       "javascript": [
        "$('div#37dca5b4-e956-4c70-96c6-322d8fa6cf88').width('28.000000%')"
       ],
       "metadata": {},
       "output_type": "display_data",
       "text": [
        "<IPython.core.display.Javascript at 0x88eadd0>"
       ]
      },
      {
       "javascript": [
        "$('div#37dca5b4-e956-4c70-96c6-322d8fa6cf88').width('30.000000%')"
       ],
       "metadata": {},
       "output_type": "display_data",
       "text": [
        "<IPython.core.display.Javascript at 0x88eacd0>"
       ]
      },
      {
       "javascript": [
        "$('div#37dca5b4-e956-4c70-96c6-322d8fa6cf88').width('32.000000%')"
       ],
       "metadata": {},
       "output_type": "display_data",
       "text": [
        "<IPython.core.display.Javascript at 0x88ea9d0>"
       ]
      },
      {
       "javascript": [
        "$('div#37dca5b4-e956-4c70-96c6-322d8fa6cf88').width('34.000000%')"
       ],
       "metadata": {},
       "output_type": "display_data",
       "text": [
        "<IPython.core.display.Javascript at 0x88ea090>"
       ]
      },
      {
       "javascript": [
        "$('div#37dca5b4-e956-4c70-96c6-322d8fa6cf88').width('36.000000%')"
       ],
       "metadata": {},
       "output_type": "display_data",
       "text": [
        "<IPython.core.display.Javascript at 0x88ea0d0>"
       ]
      },
      {
       "javascript": [
        "$('div#37dca5b4-e956-4c70-96c6-322d8fa6cf88').width('38.000000%')"
       ],
       "metadata": {},
       "output_type": "display_data",
       "text": [
        "<IPython.core.display.Javascript at 0x88ea210>"
       ]
      },
      {
       "javascript": [
        "$('div#37dca5b4-e956-4c70-96c6-322d8fa6cf88').width('40.000000%')"
       ],
       "metadata": {},
       "output_type": "display_data",
       "text": [
        "<IPython.core.display.Javascript at 0x88ea310>"
       ]
      },
      {
       "javascript": [
        "$('div#37dca5b4-e956-4c70-96c6-322d8fa6cf88').width('42.000000%')"
       ],
       "metadata": {},
       "output_type": "display_data",
       "text": [
        "<IPython.core.display.Javascript at 0x88ea050>"
       ]
      },
      {
       "javascript": [
        "$('div#37dca5b4-e956-4c70-96c6-322d8fa6cf88').width('44.000000%')"
       ],
       "metadata": {},
       "output_type": "display_data",
       "text": [
        "<IPython.core.display.Javascript at 0x88eabd0>"
       ]
      },
      {
       "javascript": [
        "$('div#37dca5b4-e956-4c70-96c6-322d8fa6cf88').width('46.000000%')"
       ],
       "metadata": {},
       "output_type": "display_data",
       "text": [
        "<IPython.core.display.Javascript at 0x88ea8d0>"
       ]
      },
      {
       "javascript": [
        "$('div#37dca5b4-e956-4c70-96c6-322d8fa6cf88').width('48.000000%')"
       ],
       "metadata": {},
       "output_type": "display_data",
       "text": [
        "<IPython.core.display.Javascript at 0x88ea690>"
       ]
      },
      {
       "javascript": [
        "$('div#37dca5b4-e956-4c70-96c6-322d8fa6cf88').width('50.000000%')"
       ],
       "metadata": {},
       "output_type": "display_data",
       "text": [
        "<IPython.core.display.Javascript at 0x88ea990>"
       ]
      },
      {
       "javascript": [
        "$('div#37dca5b4-e956-4c70-96c6-322d8fa6cf88').width('52.000000%')"
       ],
       "metadata": {},
       "output_type": "display_data",
       "text": [
        "<IPython.core.display.Javascript at 0x88ea1d0>"
       ]
      },
      {
       "javascript": [
        "$('div#37dca5b4-e956-4c70-96c6-322d8fa6cf88').width('54.000000%')"
       ],
       "metadata": {},
       "output_type": "display_data",
       "text": [
        "<IPython.core.display.Javascript at 0x799d290>"
       ]
      },
      {
       "javascript": [
        "$('div#37dca5b4-e956-4c70-96c6-322d8fa6cf88').width('56.000000%')"
       ],
       "metadata": {},
       "output_type": "display_data",
       "text": [
        "<IPython.core.display.Javascript at 0x799de90>"
       ]
      },
      {
       "javascript": [
        "$('div#37dca5b4-e956-4c70-96c6-322d8fa6cf88').width('58.000000%')"
       ],
       "metadata": {},
       "output_type": "display_data",
       "text": [
        "<IPython.core.display.Javascript at 0x799d210>"
       ]
      },
      {
       "javascript": [
        "$('div#37dca5b4-e956-4c70-96c6-322d8fa6cf88').width('60.000000%')"
       ],
       "metadata": {},
       "output_type": "display_data",
       "text": [
        "<IPython.core.display.Javascript at 0x80fb110>"
       ]
      },
      {
       "javascript": [
        "$('div#37dca5b4-e956-4c70-96c6-322d8fa6cf88').width('62.000000%')"
       ],
       "metadata": {},
       "output_type": "display_data",
       "text": [
        "<IPython.core.display.Javascript at 0x80fb150>"
       ]
      },
      {
       "javascript": [
        "$('div#37dca5b4-e956-4c70-96c6-322d8fa6cf88').width('64.000000%')"
       ],
       "metadata": {},
       "output_type": "display_data",
       "text": [
        "<IPython.core.display.Javascript at 0x799bad0>"
       ]
      },
      {
       "javascript": [
        "$('div#37dca5b4-e956-4c70-96c6-322d8fa6cf88').width('66.000000%')"
       ],
       "metadata": {},
       "output_type": "display_data",
       "text": [
        "<IPython.core.display.Javascript at 0x799bed0>"
       ]
      },
      {
       "javascript": [
        "$('div#37dca5b4-e956-4c70-96c6-322d8fa6cf88').width('68.000000%')"
       ],
       "metadata": {},
       "output_type": "display_data",
       "text": [
        "<IPython.core.display.Javascript at 0x79bdb10>"
       ]
      },
      {
       "javascript": [
        "$('div#37dca5b4-e956-4c70-96c6-322d8fa6cf88').width('70.000000%')"
       ],
       "metadata": {},
       "output_type": "display_data",
       "text": [
        "<IPython.core.display.Javascript at 0x79bd490>"
       ]
      },
      {
       "javascript": [
        "$('div#37dca5b4-e956-4c70-96c6-322d8fa6cf88').width('72.000000%')"
       ],
       "metadata": {},
       "output_type": "display_data",
       "text": [
        "<IPython.core.display.Javascript at 0x799de90>"
       ]
      },
      {
       "javascript": [
        "$('div#37dca5b4-e956-4c70-96c6-322d8fa6cf88').width('74.000000%')"
       ],
       "metadata": {},
       "output_type": "display_data",
       "text": [
        "<IPython.core.display.Javascript at 0x799d210>"
       ]
      },
      {
       "javascript": [
        "$('div#37dca5b4-e956-4c70-96c6-322d8fa6cf88').width('76.000000%')"
       ],
       "metadata": {},
       "output_type": "display_data",
       "text": [
        "<IPython.core.display.Javascript at 0x80fb090>"
       ]
      },
      {
       "javascript": [
        "$('div#37dca5b4-e956-4c70-96c6-322d8fa6cf88').width('78.000000%')"
       ],
       "metadata": {},
       "output_type": "display_data",
       "text": [
        "<IPython.core.display.Javascript at 0x88ea710>"
       ]
      },
      {
       "javascript": [
        "$('div#37dca5b4-e956-4c70-96c6-322d8fa6cf88').width('80.000000%')"
       ],
       "metadata": {},
       "output_type": "display_data",
       "text": [
        "<IPython.core.display.Javascript at 0x88ea1d0>"
       ]
      },
      {
       "javascript": [
        "$('div#37dca5b4-e956-4c70-96c6-322d8fa6cf88').width('82.000000%')"
       ],
       "metadata": {},
       "output_type": "display_data",
       "text": [
        "<IPython.core.display.Javascript at 0x88ea990>"
       ]
      },
      {
       "javascript": [
        "$('div#37dca5b4-e956-4c70-96c6-322d8fa6cf88').width('84.000000%')"
       ],
       "metadata": {},
       "output_type": "display_data",
       "text": [
        "<IPython.core.display.Javascript at 0x88ea690>"
       ]
      },
      {
       "javascript": [
        "$('div#37dca5b4-e956-4c70-96c6-322d8fa6cf88').width('86.000000%')"
       ],
       "metadata": {},
       "output_type": "display_data",
       "text": [
        "<IPython.core.display.Javascript at 0x88ea8d0>"
       ]
      },
      {
       "javascript": [
        "$('div#37dca5b4-e956-4c70-96c6-322d8fa6cf88').width('88.000000%')"
       ],
       "metadata": {},
       "output_type": "display_data",
       "text": [
        "<IPython.core.display.Javascript at 0x88eabd0>"
       ]
      },
      {
       "javascript": [
        "$('div#37dca5b4-e956-4c70-96c6-322d8fa6cf88').width('90.000000%')"
       ],
       "metadata": {},
       "output_type": "display_data",
       "text": [
        "<IPython.core.display.Javascript at 0x88ea050>"
       ]
      },
      {
       "javascript": [
        "$('div#37dca5b4-e956-4c70-96c6-322d8fa6cf88').width('92.000000%')"
       ],
       "metadata": {},
       "output_type": "display_data",
       "text": [
        "<IPython.core.display.Javascript at 0x88ea310>"
       ]
      },
      {
       "javascript": [
        "$('div#37dca5b4-e956-4c70-96c6-322d8fa6cf88').width('94.000000%')"
       ],
       "metadata": {},
       "output_type": "display_data",
       "text": [
        "<IPython.core.display.Javascript at 0x88ea210>"
       ]
      },
      {
       "javascript": [
        "$('div#37dca5b4-e956-4c70-96c6-322d8fa6cf88').width('96.000000%')"
       ],
       "metadata": {},
       "output_type": "display_data",
       "text": [
        "<IPython.core.display.Javascript at 0x88ea0d0>"
       ]
      },
      {
       "javascript": [
        "$('div#37dca5b4-e956-4c70-96c6-322d8fa6cf88').width('98.000000%')"
       ],
       "metadata": {},
       "output_type": "display_data",
       "text": [
        "<IPython.core.display.Javascript at 0x88ea090>"
       ]
      },
      {
       "javascript": [
        "$('div#37dca5b4-e956-4c70-96c6-322d8fa6cf88').width('100.000000%')"
       ],
       "metadata": {},
       "output_type": "display_data",
       "text": [
        "<IPython.core.display.Javascript at 0x88ea9d0>"
       ]
      },
      {
       "output_type": "stream",
       "stream": "stdout",
       "text": [
        "Running reducer on mapped and aggregated results (size=50)\n",
        "Number of engines: 48\n",
        "\tPhase1, wall_time: 14.136925\n",
        "\tPhase2, wall_time: 2.779321\n"
       ]
      }
     ],
     "prompt_number": 21
    },
    {
     "cell_type": "heading",
     "level": 3,
     "metadata": {},
     "source": [
      "Using No-Storage"
     ]
    },
    {
     "cell_type": "code",
     "collapsed": false,
     "input": [
      "import time\n",
      "wall_time_no_storage = []\n",
      "for num_engines in engines:\n",
      "    tic = time.time()\n",
      "    ensemble = DistributedEnsemble(model_class=SimpleDiffusion,num_engines=num_engines)\n",
      "    res  = ensemble.mean(mapper=g, number_of_realizations=100,store_realizations=False)\n",
      "    wall_time = time.time()-tic\n",
      "    wall_time_no_storage.append(wall_time)\n",
      "    print \"Number of engines: %i\" % num_engines\n",
      "    print \"\\tPhase1, wall_time: %f\" % wall_time"
     ],
     "language": "python",
     "metadata": {},
     "outputs": [
      {
       "output_type": "stream",
       "stream": "stdout",
       "text": [
        "Generating 100 realizations of the model, running mapper & aggregator (chunk size=100)\n"
       ]
      },
      {
       "html": [
        "\n",
        "                          <div style=\"border: 1px solid black; width:500px\">\n",
        "                          <div id=\"791ad2de-24eb-411c-ac97-cda91341e3ac\" style=\"background-color:blue; width:0%\">&nbsp;</div>\n",
        "                          </div>\n",
        "                          "
       ],
       "metadata": {},
       "output_type": "display_data",
       "text": [
        "<IPython.core.display.HTML at 0x87c5b10>"
       ]
      },
      {
       "javascript": [
        "$('div#791ad2de-24eb-411c-ac97-cda91341e3ac').width('100.000000%')"
       ],
       "metadata": {},
       "output_type": "display_data",
       "text": [
        "<IPython.core.display.Javascript at 0x87c5b90>"
       ]
      },
      {
       "output_type": "stream",
       "stream": "stdout",
       "text": [
        "Running reducer on mapped and aggregated results (size=1)\n",
        "Number of engines: 1\n",
        "\tPhase1, wall_time: 84.269283\n",
        "Generating 100 realizations of the model, running mapper & aggregator (chunk size=33)\n"
       ]
      },
      {
       "html": [
        "\n",
        "                          <div style=\"border: 1px solid black; width:500px\">\n",
        "                          <div id=\"eb188b31-94e6-42fd-b24d-a53504cb01f8\" style=\"background-color:blue; width:0%\">&nbsp;</div>\n",
        "                          </div>\n",
        "                          "
       ],
       "metadata": {},
       "output_type": "display_data",
       "text": [
        "<IPython.core.display.HTML at 0x88d5190>"
       ]
      },
      {
       "javascript": [
        "$('div#eb188b31-94e6-42fd-b24d-a53504cb01f8').width('25.000000%')"
       ],
       "metadata": {},
       "output_type": "display_data",
       "text": [
        "<IPython.core.display.Javascript at 0x87c5950>"
       ]
      },
      {
       "javascript": [
        "$('div#eb188b31-94e6-42fd-b24d-a53504cb01f8').width('50.000000%')"
       ],
       "metadata": {},
       "output_type": "display_data",
       "text": [
        "<IPython.core.display.Javascript at 0x87c5210>"
       ]
      },
      {
       "javascript": [
        "$('div#eb188b31-94e6-42fd-b24d-a53504cb01f8').width('75.000000%')"
       ],
       "metadata": {},
       "output_type": "display_data",
       "text": [
        "<IPython.core.display.Javascript at 0x87c5d50>"
       ]
      },
      {
       "javascript": [
        "$('div#eb188b31-94e6-42fd-b24d-a53504cb01f8').width('100.000000%')"
       ],
       "metadata": {},
       "output_type": "display_data",
       "text": [
        "<IPython.core.display.Javascript at 0x87c5a50>"
       ]
      },
      {
       "output_type": "stream",
       "stream": "stdout",
       "text": [
        "Running reducer on mapped and aggregated results (size=4)\n",
        "Number of engines: 3\n",
        "\tPhase1, wall_time: 35.528046\n",
        "Generating 100 realizations of the model, running mapper & aggregator (chunk size=17)"
       ]
      },
      {
       "output_type": "stream",
       "stream": "stdout",
       "text": [
        "\n"
       ]
      },
      {
       "html": [
        "\n",
        "                          <div style=\"border: 1px solid black; width:500px\">\n",
        "                          <div id=\"6b4e2376-6620-4597-bbff-ccd650c953e7\" style=\"background-color:blue; width:0%\">&nbsp;</div>\n",
        "                          </div>\n",
        "                          "
       ],
       "metadata": {},
       "output_type": "display_data",
       "text": [
        "<IPython.core.display.HTML at 0x799d210>"
       ]
      },
      {
       "javascript": [
        "$('div#6b4e2376-6620-4597-bbff-ccd650c953e7').width('16.666667%')"
       ],
       "metadata": {},
       "output_type": "display_data",
       "text": [
        "<IPython.core.display.Javascript at 0x87c5950>"
       ]
      },
      {
       "javascript": [
        "$('div#6b4e2376-6620-4597-bbff-ccd650c953e7').width('33.333333%')"
       ],
       "metadata": {},
       "output_type": "display_data",
       "text": [
        "<IPython.core.display.Javascript at 0x87c5210>"
       ]
      },
      {
       "javascript": [
        "$('div#6b4e2376-6620-4597-bbff-ccd650c953e7').width('50.000000%')"
       ],
       "metadata": {},
       "output_type": "display_data",
       "text": [
        "<IPython.core.display.Javascript at 0x87c5a50>"
       ]
      },
      {
       "javascript": [
        "$('div#6b4e2376-6620-4597-bbff-ccd650c953e7').width('66.666667%')"
       ],
       "metadata": {},
       "output_type": "display_data",
       "text": [
        "<IPython.core.display.Javascript at 0x87c53d0>"
       ]
      },
      {
       "javascript": [
        "$('div#6b4e2376-6620-4597-bbff-ccd650c953e7').width('83.333333%')"
       ],
       "metadata": {},
       "output_type": "display_data",
       "text": [
        "<IPython.core.display.Javascript at 0x88d5190>"
       ]
      },
      {
       "javascript": [
        "$('div#6b4e2376-6620-4597-bbff-ccd650c953e7').width('100.000000%')"
       ],
       "metadata": {},
       "output_type": "display_data",
       "text": [
        "<IPython.core.display.Javascript at 0x88ea6d0>"
       ]
      },
      {
       "output_type": "stream",
       "stream": "stdout",
       "text": [
        "Running reducer on mapped and aggregated results (size=6)\n",
        "Number of engines: 6\n",
        "\tPhase1, wall_time: 21.598229\n",
        "Generating 100 realizations of the model, running mapper & aggregator (chunk size=8)\n"
       ]
      },
      {
       "html": [
        "\n",
        "                          <div style=\"border: 1px solid black; width:500px\">\n",
        "                          <div id=\"bfb44314-f4da-41b3-be21-685d65244184\" style=\"background-color:blue; width:0%\">&nbsp;</div>\n",
        "                          </div>\n",
        "                          "
       ],
       "metadata": {},
       "output_type": "display_data",
       "text": [
        "<IPython.core.display.HTML at 0x799de90>"
       ]
      },
      {
       "javascript": [
        "$('div#bfb44314-f4da-41b3-be21-685d65244184').width('7.692308%')"
       ],
       "metadata": {},
       "output_type": "display_data",
       "text": [
        "<IPython.core.display.Javascript at 0x88ea410>"
       ]
      },
      {
       "javascript": [
        "$('div#bfb44314-f4da-41b3-be21-685d65244184').width('15.384615%')"
       ],
       "metadata": {},
       "output_type": "display_data",
       "text": [
        "<IPython.core.display.Javascript at 0x88ea8d0>"
       ]
      },
      {
       "javascript": [
        "$('div#bfb44314-f4da-41b3-be21-685d65244184').width('23.076923%')"
       ],
       "metadata": {},
       "output_type": "display_data",
       "text": [
        "<IPython.core.display.Javascript at 0x87c53d0>"
       ]
      },
      {
       "javascript": [
        "$('div#bfb44314-f4da-41b3-be21-685d65244184').width('30.769231%')"
       ],
       "metadata": {},
       "output_type": "display_data",
       "text": [
        "<IPython.core.display.Javascript at 0x87c5a50>"
       ]
      },
      {
       "javascript": [
        "$('div#bfb44314-f4da-41b3-be21-685d65244184').width('38.461538%')"
       ],
       "metadata": {},
       "output_type": "display_data",
       "text": [
        "<IPython.core.display.Javascript at 0x87c5950>"
       ]
      },
      {
       "javascript": [
        "$('div#bfb44314-f4da-41b3-be21-685d65244184').width('46.153846%')"
       ],
       "metadata": {},
       "output_type": "display_data",
       "text": [
        "<IPython.core.display.Javascript at 0x88d5190>"
       ]
      },
      {
       "javascript": [
        "$('div#bfb44314-f4da-41b3-be21-685d65244184').width('53.846154%')"
       ],
       "metadata": {},
       "output_type": "display_data",
       "text": [
        "<IPython.core.display.Javascript at 0x88ea310>"
       ]
      },
      {
       "javascript": [
        "$('div#bfb44314-f4da-41b3-be21-685d65244184').width('61.538462%')"
       ],
       "metadata": {},
       "output_type": "display_data",
       "text": [
        "<IPython.core.display.Javascript at 0x88ea8d0>"
       ]
      },
      {
       "javascript": [
        "$('div#bfb44314-f4da-41b3-be21-685d65244184').width('69.230769%')"
       ],
       "metadata": {},
       "output_type": "display_data",
       "text": [
        "<IPython.core.display.Javascript at 0x88eabd0>"
       ]
      },
      {
       "javascript": [
        "$('div#bfb44314-f4da-41b3-be21-685d65244184').width('76.923077%')"
       ],
       "metadata": {},
       "output_type": "display_data",
       "text": [
        "<IPython.core.display.Javascript at 0x88ea050>"
       ]
      },
      {
       "javascript": [
        "$('div#bfb44314-f4da-41b3-be21-685d65244184').width('84.615385%')"
       ],
       "metadata": {},
       "output_type": "display_data",
       "text": [
        "<IPython.core.display.Javascript at 0x88ea710>"
       ]
      },
      {
       "javascript": [
        "$('div#bfb44314-f4da-41b3-be21-685d65244184').width('92.307692%')"
       ],
       "metadata": {},
       "output_type": "display_data",
       "text": [
        "<IPython.core.display.Javascript at 0x88ea990>"
       ]
      },
      {
       "javascript": [
        "$('div#bfb44314-f4da-41b3-be21-685d65244184').width('100.000000%')"
       ],
       "metadata": {},
       "output_type": "display_data",
       "text": [
        "<IPython.core.display.Javascript at 0x88ea690>"
       ]
      },
      {
       "output_type": "stream",
       "stream": "stdout",
       "text": [
        "Running reducer on mapped and aggregated results (size=13)\n",
        "Number of engines: 12\n",
        "\tPhase1, wall_time: 19.384569\n",
        "Generating 100 realizations of the model, running mapper & aggregator (chunk size=4)\n"
       ]
      },
      {
       "html": [
        "\n",
        "                          <div style=\"border: 1px solid black; width:500px\">\n",
        "                          <div id=\"2aff9134-25b8-4561-b582-217286e1d4fa\" style=\"background-color:blue; width:0%\">&nbsp;</div>\n",
        "                          </div>\n",
        "                          "
       ],
       "metadata": {},
       "output_type": "display_data",
       "text": [
        "<IPython.core.display.HTML at 0x87c5c50>"
       ]
      },
      {
       "javascript": [
        "$('div#2aff9134-25b8-4561-b582-217286e1d4fa').width('4.000000%')"
       ],
       "metadata": {},
       "output_type": "display_data",
       "text": [
        "<IPython.core.display.Javascript at 0x88eae10>"
       ]
      },
      {
       "javascript": [
        "$('div#2aff9134-25b8-4561-b582-217286e1d4fa').width('8.000000%')"
       ],
       "metadata": {},
       "output_type": "display_data",
       "text": [
        "<IPython.core.display.Javascript at 0x88eadd0>"
       ]
      },
      {
       "javascript": [
        "$('div#2aff9134-25b8-4561-b582-217286e1d4fa').width('12.000000%')"
       ],
       "metadata": {},
       "output_type": "display_data",
       "text": [
        "<IPython.core.display.Javascript at 0x88ea4d0>"
       ]
      },
      {
       "javascript": [
        "$('div#2aff9134-25b8-4561-b582-217286e1d4fa').width('16.000000%')"
       ],
       "metadata": {},
       "output_type": "display_data",
       "text": [
        "<IPython.core.display.Javascript at 0x88ea350>"
       ]
      },
      {
       "javascript": [
        "$('div#2aff9134-25b8-4561-b582-217286e1d4fa').width('20.000000%')"
       ],
       "metadata": {},
       "output_type": "display_data",
       "text": [
        "<IPython.core.display.Javascript at 0x88ea110>"
       ]
      },
      {
       "javascript": [
        "$('div#2aff9134-25b8-4561-b582-217286e1d4fa').width('24.000000%')"
       ],
       "metadata": {},
       "output_type": "display_data",
       "text": [
        "<IPython.core.display.Javascript at 0x88ea650>"
       ]
      },
      {
       "javascript": [
        "$('div#2aff9134-25b8-4561-b582-217286e1d4fa').width('28.000000%')"
       ],
       "metadata": {},
       "output_type": "display_data",
       "text": [
        "<IPython.core.display.Javascript at 0x88eac10>"
       ]
      },
      {
       "javascript": [
        "$('div#2aff9134-25b8-4561-b582-217286e1d4fa').width('32.000000%')"
       ],
       "metadata": {},
       "output_type": "display_data",
       "text": [
        "<IPython.core.display.Javascript at 0x88eab90>"
       ]
      },
      {
       "javascript": [
        "$('div#2aff9134-25b8-4561-b582-217286e1d4fa').width('36.000000%')"
       ],
       "metadata": {},
       "output_type": "display_data",
       "text": [
        "<IPython.core.display.Javascript at 0x88ea810>"
       ]
      },
      {
       "javascript": [
        "$('div#2aff9134-25b8-4561-b582-217286e1d4fa').width('40.000000%')"
       ],
       "metadata": {},
       "output_type": "display_data",
       "text": [
        "<IPython.core.display.Javascript at 0x88ea790>"
       ]
      },
      {
       "javascript": [
        "$('div#2aff9134-25b8-4561-b582-217286e1d4fa').width('44.000000%')"
       ],
       "metadata": {},
       "output_type": "display_data",
       "text": [
        "<IPython.core.display.Javascript at 0x88eae90>"
       ]
      },
      {
       "javascript": [
        "$('div#2aff9134-25b8-4561-b582-217286e1d4fa').width('48.000000%')"
       ],
       "metadata": {},
       "output_type": "display_data",
       "text": [
        "<IPython.core.display.Javascript at 0x87c5950>"
       ]
      },
      {
       "javascript": [
        "$('div#2aff9134-25b8-4561-b582-217286e1d4fa').width('52.000000%')"
       ],
       "metadata": {},
       "output_type": "display_data",
       "text": [
        "<IPython.core.display.Javascript at 0x88d5190>"
       ]
      },
      {
       "javascript": [
        "$('div#2aff9134-25b8-4561-b582-217286e1d4fa').width('56.000000%')"
       ],
       "metadata": {},
       "output_type": "display_data",
       "text": [
        "<IPython.core.display.Javascript at 0x88ea550>"
       ]
      },
      {
       "javascript": [
        "$('div#2aff9134-25b8-4561-b582-217286e1d4fa').width('60.000000%')"
       ],
       "metadata": {},
       "output_type": "display_data",
       "text": [
        "<IPython.core.display.Javascript at 0x88eae90>"
       ]
      },
      {
       "javascript": [
        "$('div#2aff9134-25b8-4561-b582-217286e1d4fa').width('64.000000%')"
       ],
       "metadata": {},
       "output_type": "display_data",
       "text": [
        "<IPython.core.display.Javascript at 0x88eafd0>"
       ]
      },
      {
       "javascript": [
        "$('div#2aff9134-25b8-4561-b582-217286e1d4fa').width('68.000000%')"
       ],
       "metadata": {},
       "output_type": "display_data",
       "text": [
        "<IPython.core.display.Javascript at 0x88eaed0>"
       ]
      },
      {
       "javascript": [
        "$('div#2aff9134-25b8-4561-b582-217286e1d4fa').width('72.000000%')"
       ],
       "metadata": {},
       "output_type": "display_data",
       "text": [
        "<IPython.core.display.Javascript at 0x88ea490>"
       ]
      },
      {
       "javascript": [
        "$('div#2aff9134-25b8-4561-b582-217286e1d4fa').width('76.000000%')"
       ],
       "metadata": {},
       "output_type": "display_data",
       "text": [
        "<IPython.core.display.Javascript at 0x88ea510>"
       ]
      },
      {
       "javascript": [
        "$('div#2aff9134-25b8-4561-b582-217286e1d4fa').width('80.000000%')"
       ],
       "metadata": {},
       "output_type": "display_data",
       "text": [
        "<IPython.core.display.Javascript at 0x88eaf90>"
       ]
      },
      {
       "javascript": [
        "$('div#2aff9134-25b8-4561-b582-217286e1d4fa').width('84.000000%')"
       ],
       "metadata": {},
       "output_type": "display_data",
       "text": [
        "<IPython.core.display.Javascript at 0x88ea590>"
       ]
      },
      {
       "javascript": [
        "$('div#2aff9134-25b8-4561-b582-217286e1d4fa').width('88.000000%')"
       ],
       "metadata": {},
       "output_type": "display_data",
       "text": [
        "<IPython.core.display.Javascript at 0x88ea2d0>"
       ]
      },
      {
       "javascript": [
        "$('div#2aff9134-25b8-4561-b582-217286e1d4fa').width('92.000000%')"
       ],
       "metadata": {},
       "output_type": "display_data",
       "text": [
        "<IPython.core.display.Javascript at 0x88ea950>"
       ]
      },
      {
       "javascript": [
        "$('div#2aff9134-25b8-4561-b582-217286e1d4fa').width('96.000000%')"
       ],
       "metadata": {},
       "output_type": "display_data",
       "text": [
        "<IPython.core.display.Javascript at 0x88ea790>"
       ]
      },
      {
       "javascript": [
        "$('div#2aff9134-25b8-4561-b582-217286e1d4fa').width('100.000000%')"
       ],
       "metadata": {},
       "output_type": "display_data",
       "text": [
        "<IPython.core.display.Javascript at 0x88ea810>"
       ]
      },
      {
       "output_type": "stream",
       "stream": "stdout",
       "text": [
        "Running reducer on mapped and aggregated results (size=25)\n",
        "Number of engines: 24\n",
        "\tPhase1, wall_time: 14.032283\n",
        "Generating 100 realizations of the model, running mapper & aggregator (chunk size=2)\n"
       ]
      },
      {
       "html": [
        "\n",
        "                          <div style=\"border: 1px solid black; width:500px\">\n",
        "                          <div id=\"338105c0-b14b-4f5c-a9ce-bd5652d410c5\" style=\"background-color:blue; width:0%\">&nbsp;</div>\n",
        "                          </div>\n",
        "                          "
       ],
       "metadata": {},
       "output_type": "display_data",
       "text": [
        "<IPython.core.display.HTML at 0x88ea410>"
       ]
      },
      {
       "javascript": [
        "$('div#338105c0-b14b-4f5c-a9ce-bd5652d410c5').width('2.000000%')"
       ],
       "metadata": {},
       "output_type": "display_data",
       "text": [
        "<IPython.core.display.Javascript at 0x88ea1d0>"
       ]
      },
      {
       "javascript": [
        "$('div#338105c0-b14b-4f5c-a9ce-bd5652d410c5').width('4.000000%')"
       ],
       "metadata": {},
       "output_type": "display_data",
       "text": [
        "<IPython.core.display.Javascript at 0x88eadd0>"
       ]
      },
      {
       "javascript": [
        "$('div#338105c0-b14b-4f5c-a9ce-bd5652d410c5').width('6.000000%')"
       ],
       "metadata": {},
       "output_type": "display_data",
       "text": [
        "<IPython.core.display.Javascript at 0x88ea690>"
       ]
      },
      {
       "javascript": [
        "$('div#338105c0-b14b-4f5c-a9ce-bd5652d410c5').width('8.000000%')"
       ],
       "metadata": {},
       "output_type": "display_data",
       "text": [
        "<IPython.core.display.Javascript at 0x88ea650>"
       ]
      },
      {
       "javascript": [
        "$('div#338105c0-b14b-4f5c-a9ce-bd5652d410c5').width('10.000000%')"
       ],
       "metadata": {},
       "output_type": "display_data",
       "text": [
        "<IPython.core.display.Javascript at 0x88eae10>"
       ]
      },
      {
       "javascript": [
        "$('div#338105c0-b14b-4f5c-a9ce-bd5652d410c5').width('12.000000%')"
       ],
       "metadata": {},
       "output_type": "display_data",
       "text": [
        "<IPython.core.display.Javascript at 0x88ea790>"
       ]
      },
      {
       "javascript": [
        "$('div#338105c0-b14b-4f5c-a9ce-bd5652d410c5').width('14.000000%')"
       ],
       "metadata": {},
       "output_type": "display_data",
       "text": [
        "<IPython.core.display.Javascript at 0x88ea950>"
       ]
      },
      {
       "javascript": [
        "$('div#338105c0-b14b-4f5c-a9ce-bd5652d410c5').width('16.000000%')"
       ],
       "metadata": {},
       "output_type": "display_data",
       "text": [
        "<IPython.core.display.Javascript at 0x88ea2d0>"
       ]
      },
      {
       "javascript": [
        "$('div#338105c0-b14b-4f5c-a9ce-bd5652d410c5').width('18.000000%')"
       ],
       "metadata": {},
       "output_type": "display_data",
       "text": [
        "<IPython.core.display.Javascript at 0x88ea590>"
       ]
      },
      {
       "javascript": [
        "$('div#338105c0-b14b-4f5c-a9ce-bd5652d410c5').width('20.000000%')"
       ],
       "metadata": {},
       "output_type": "display_data",
       "text": [
        "<IPython.core.display.Javascript at 0x88eaf90>"
       ]
      },
      {
       "javascript": [
        "$('div#338105c0-b14b-4f5c-a9ce-bd5652d410c5').width('22.000000%')"
       ],
       "metadata": {},
       "output_type": "display_data",
       "text": [
        "<IPython.core.display.Javascript at 0x88ea510>"
       ]
      },
      {
       "javascript": [
        "$('div#338105c0-b14b-4f5c-a9ce-bd5652d410c5').width('24.000000%')"
       ],
       "metadata": {},
       "output_type": "display_data",
       "text": [
        "<IPython.core.display.Javascript at 0x88ea490>"
       ]
      },
      {
       "javascript": [
        "$('div#338105c0-b14b-4f5c-a9ce-bd5652d410c5').width('26.000000%')"
       ],
       "metadata": {},
       "output_type": "display_data",
       "text": [
        "<IPython.core.display.Javascript at 0x88eaed0>"
       ]
      },
      {
       "javascript": [
        "$('div#338105c0-b14b-4f5c-a9ce-bd5652d410c5').width('28.000000%')"
       ],
       "metadata": {},
       "output_type": "display_data",
       "text": [
        "<IPython.core.display.Javascript at 0x88eafd0>"
       ]
      },
      {
       "javascript": [
        "$('div#338105c0-b14b-4f5c-a9ce-bd5652d410c5').width('30.000000%')"
       ],
       "metadata": {},
       "output_type": "display_data",
       "text": [
        "<IPython.core.display.Javascript at 0x88eae90>"
       ]
      },
      {
       "javascript": [
        "$('div#338105c0-b14b-4f5c-a9ce-bd5652d410c5').width('32.000000%')"
       ],
       "metadata": {},
       "output_type": "display_data",
       "text": [
        "<IPython.core.display.Javascript at 0x88ea310>"
       ]
      },
      {
       "javascript": [
        "$('div#338105c0-b14b-4f5c-a9ce-bd5652d410c5').width('34.000000%')"
       ],
       "metadata": {},
       "output_type": "display_data",
       "text": [
        "<IPython.core.display.Javascript at 0x88ea550>"
       ]
      },
      {
       "javascript": [
        "$('div#338105c0-b14b-4f5c-a9ce-bd5652d410c5').width('36.000000%')"
       ],
       "metadata": {},
       "output_type": "display_data",
       "text": [
        "<IPython.core.display.Javascript at 0x88ea050>"
       ]
      },
      {
       "javascript": [
        "$('div#338105c0-b14b-4f5c-a9ce-bd5652d410c5').width('38.000000%')"
       ],
       "metadata": {},
       "output_type": "display_data",
       "text": [
        "<IPython.core.display.Javascript at 0x88ea710>"
       ]
      },
      {
       "javascript": [
        "$('div#338105c0-b14b-4f5c-a9ce-bd5652d410c5').width('40.000000%')"
       ],
       "metadata": {},
       "output_type": "display_data",
       "text": [
        "<IPython.core.display.Javascript at 0x88eabd0>"
       ]
      },
      {
       "javascript": [
        "$('div#338105c0-b14b-4f5c-a9ce-bd5652d410c5').width('42.000000%')"
       ],
       "metadata": {},
       "output_type": "display_data",
       "text": [
        "<IPython.core.display.Javascript at 0x88ea8d0>"
       ]
      },
      {
       "javascript": [
        "$('div#338105c0-b14b-4f5c-a9ce-bd5652d410c5').width('44.000000%')"
       ],
       "metadata": {},
       "output_type": "display_data",
       "text": [
        "<IPython.core.display.Javascript at 0x88ea850>"
       ]
      },
      {
       "javascript": [
        "$('div#338105c0-b14b-4f5c-a9ce-bd5652d410c5').width('46.000000%')"
       ],
       "metadata": {},
       "output_type": "display_data",
       "text": [
        "<IPython.core.display.Javascript at 0x88ea910>"
       ]
      },
      {
       "javascript": [
        "$('div#338105c0-b14b-4f5c-a9ce-bd5652d410c5').width('48.000000%')"
       ],
       "metadata": {},
       "output_type": "display_data",
       "text": [
        "<IPython.core.display.Javascript at 0x88eac50>"
       ]
      },
      {
       "javascript": [
        "$('div#338105c0-b14b-4f5c-a9ce-bd5652d410c5').width('50.000000%')"
       ],
       "metadata": {},
       "output_type": "display_data",
       "text": [
        "<IPython.core.display.Javascript at 0x88eaa10>"
       ]
      },
      {
       "javascript": [
        "$('div#338105c0-b14b-4f5c-a9ce-bd5652d410c5').width('52.000000%')"
       ],
       "metadata": {},
       "output_type": "display_data",
       "text": [
        "<IPython.core.display.Javascript at 0x88ea190>"
       ]
      },
      {
       "javascript": [
        "$('div#338105c0-b14b-4f5c-a9ce-bd5652d410c5').width('54.000000%')"
       ],
       "metadata": {},
       "output_type": "display_data",
       "text": [
        "<IPython.core.display.Javascript at 0x88eaa90>"
       ]
      },
      {
       "javascript": [
        "$('div#338105c0-b14b-4f5c-a9ce-bd5652d410c5').width('56.000000%')"
       ],
       "metadata": {},
       "output_type": "display_data",
       "text": [
        "<IPython.core.display.Javascript at 0x88ea810>"
       ]
      },
      {
       "javascript": [
        "$('div#338105c0-b14b-4f5c-a9ce-bd5652d410c5').width('58.000000%')"
       ],
       "metadata": {},
       "output_type": "display_data",
       "text": [
        "<IPython.core.display.Javascript at 0x88eac90>"
       ]
      },
      {
       "javascript": [
        "$('div#338105c0-b14b-4f5c-a9ce-bd5652d410c5').width('60.000000%')"
       ],
       "metadata": {},
       "output_type": "display_data",
       "text": [
        "<IPython.core.display.Javascript at 0x79aeed0>"
       ]
      },
      {
       "javascript": [
        "$('div#338105c0-b14b-4f5c-a9ce-bd5652d410c5').width('62.000000%')"
       ],
       "metadata": {},
       "output_type": "display_data",
       "text": [
        "<IPython.core.display.Javascript at 0x8474610>"
       ]
      },
      {
       "javascript": [
        "$('div#338105c0-b14b-4f5c-a9ce-bd5652d410c5').width('64.000000%')"
       ],
       "metadata": {},
       "output_type": "display_data",
       "text": [
        "<IPython.core.display.Javascript at 0x8474110>"
       ]
      },
      {
       "javascript": [
        "$('div#338105c0-b14b-4f5c-a9ce-bd5652d410c5').width('66.000000%')"
       ],
       "metadata": {},
       "output_type": "display_data",
       "text": [
        "<IPython.core.display.Javascript at 0x8474550>"
       ]
      },
      {
       "javascript": [
        "$('div#338105c0-b14b-4f5c-a9ce-bd5652d410c5').width('68.000000%')"
       ],
       "metadata": {},
       "output_type": "display_data",
       "text": [
        "<IPython.core.display.Javascript at 0x7848610>"
       ]
      },
      {
       "javascript": [
        "$('div#338105c0-b14b-4f5c-a9ce-bd5652d410c5').width('70.000000%')"
       ],
       "metadata": {},
       "output_type": "display_data",
       "text": [
        "<IPython.core.display.Javascript at 0x7848310>"
       ]
      },
      {
       "javascript": [
        "$('div#338105c0-b14b-4f5c-a9ce-bd5652d410c5').width('72.000000%')"
       ],
       "metadata": {},
       "output_type": "display_data",
       "text": [
        "<IPython.core.display.Javascript at 0x88e0590>"
       ]
      },
      {
       "javascript": [
        "$('div#338105c0-b14b-4f5c-a9ce-bd5652d410c5').width('74.000000%')"
       ],
       "metadata": {},
       "output_type": "display_data",
       "text": [
        "<IPython.core.display.Javascript at 0x88e0510>"
       ]
      },
      {
       "javascript": [
        "$('div#338105c0-b14b-4f5c-a9ce-bd5652d410c5').width('76.000000%')"
       ],
       "metadata": {},
       "output_type": "display_data",
       "text": [
        "<IPython.core.display.Javascript at 0x88e0e90>"
       ]
      },
      {
       "javascript": [
        "$('div#338105c0-b14b-4f5c-a9ce-bd5652d410c5').width('78.000000%')"
       ],
       "metadata": {},
       "output_type": "display_data",
       "text": [
        "<IPython.core.display.Javascript at 0x88e0e10>"
       ]
      },
      {
       "javascript": [
        "$('div#338105c0-b14b-4f5c-a9ce-bd5652d410c5').width('80.000000%')"
       ],
       "metadata": {},
       "output_type": "display_data",
       "text": [
        "<IPython.core.display.Javascript at 0x88e0690>"
       ]
      },
      {
       "javascript": [
        "$('div#338105c0-b14b-4f5c-a9ce-bd5652d410c5').width('82.000000%')"
       ],
       "metadata": {},
       "output_type": "display_data",
       "text": [
        "<IPython.core.display.Javascript at 0x88e0d90>"
       ]
      },
      {
       "javascript": [
        "$('div#338105c0-b14b-4f5c-a9ce-bd5652d410c5').width('84.000000%')"
       ],
       "metadata": {},
       "output_type": "display_data",
       "text": [
        "<IPython.core.display.Javascript at 0x88e0150>"
       ]
      },
      {
       "javascript": [
        "$('div#338105c0-b14b-4f5c-a9ce-bd5652d410c5').width('86.000000%')"
       ],
       "metadata": {},
       "output_type": "display_data",
       "text": [
        "<IPython.core.display.Javascript at 0x88e0a10>"
       ]
      },
      {
       "javascript": [
        "$('div#338105c0-b14b-4f5c-a9ce-bd5652d410c5').width('88.000000%')"
       ],
       "metadata": {},
       "output_type": "display_data",
       "text": [
        "<IPython.core.display.Javascript at 0x88e0390>"
       ]
      },
      {
       "javascript": [
        "$('div#338105c0-b14b-4f5c-a9ce-bd5652d410c5').width('90.000000%')"
       ],
       "metadata": {},
       "output_type": "display_data",
       "text": [
        "<IPython.core.display.Javascript at 0x88e0850>"
       ]
      },
      {
       "javascript": [
        "$('div#338105c0-b14b-4f5c-a9ce-bd5652d410c5').width('92.000000%')"
       ],
       "metadata": {},
       "output_type": "display_data",
       "text": [
        "<IPython.core.display.Javascript at 0x88e0ad0>"
       ]
      },
      {
       "javascript": [
        "$('div#338105c0-b14b-4f5c-a9ce-bd5652d410c5').width('94.000000%')"
       ],
       "metadata": {},
       "output_type": "display_data",
       "text": [
        "<IPython.core.display.Javascript at 0x88e0b50>"
       ]
      },
      {
       "javascript": [
        "$('div#338105c0-b14b-4f5c-a9ce-bd5652d410c5').width('96.000000%')"
       ],
       "metadata": {},
       "output_type": "display_data",
       "text": [
        "<IPython.core.display.Javascript at 0x88e0290>"
       ]
      },
      {
       "javascript": [
        "$('div#338105c0-b14b-4f5c-a9ce-bd5652d410c5').width('98.000000%')"
       ],
       "metadata": {},
       "output_type": "display_data",
       "text": [
        "<IPython.core.display.Javascript at 0x88e0250>"
       ]
      },
      {
       "javascript": [
        "$('div#338105c0-b14b-4f5c-a9ce-bd5652d410c5').width('100.000000%')"
       ],
       "metadata": {},
       "output_type": "display_data",
       "text": [
        "<IPython.core.display.Javascript at 0x88e0210>"
       ]
      },
      {
       "output_type": "stream",
       "stream": "stdout",
       "text": [
        "Running reducer on mapped and aggregated results (size=50)\n",
        "Number of engines: 48\n",
        "\tPhase1, wall_time: 13.201192\n"
       ]
      }
     ],
     "prompt_number": 22
    },
    {
     "cell_type": "code",
     "collapsed": false,
     "input": [
      "print engines\n",
      "print wall_time_strong_persistent_phase1\n",
      "print wall_time_strong_persistent_phase2\n",
      "print wall_time_strong_phase1\n",
      "print wall_time_strong_phase2\n",
      "print wall_time_no_storage\n",
      "#plt.plot(engines, wall_time_strong_persistent_phase1, label=\"Phase1 - run pyurdme\")\n",
      "#plt.plot(engines, wall_time_strong_persistent_phase2, label=\"Phase2 - run postprocessing\")\n",
      "total = numpy.array(wall_time_strong_persistent_phase1)+numpy.array(wall_time_strong_persistent_phase2)\n",
      "plt.plot(engines, total, \".-b\", label=\"PersistentStorage\")\n",
      "#plt.plot(engines, wall_time_strong_phase1, label=\"Phase1 - run pyurdme\")\n",
      "#plt.plot(engines, wall_time_strong_phase2, label=\"Phase2 - run postprocessing\")\n",
      "total = numpy.array(wall_time_strong_phase1)+numpy.array(wall_time_strong_phase2)\n",
      "plt.plot(engines, total, \".-g\", label=\"SharedStorage\")\n",
      "plt.plot(engines, wall_time_no_storage, \".-r\", label=\"No storage\")\n",
      "plt.legend()\n",
      "plt.xlabel(\"Number of engines\")\n",
      "plt.ylabel(\"Wall time (s)\")\n",
      "plt.title(\"Strong Scaling [HP-to-EC2]\")\n",
      "plt.show()"
     ],
     "language": "python",
     "metadata": {},
     "outputs": [
      {
       "output_type": "stream",
       "stream": "stdout",
       "text": [
        "[1, 3, 6, 12, 24, 48]\n",
        "[103.12631702423096, 41.5062792301178, 23.20004892349243, 21.18203902244568, 15.490678071975708, 14.136924982070923]\n",
        "[22.8082218170166, 8.733227014541626, 6.791694164276123, 6.919352054595947, 4.319998025894165, 2.7793209552764893]\n",
        "[540.5449540615082, 225.99220299720764, 314.3098120689392, 241.8712170124054, 182.55944108963013, 60.40703201293945]\n",
        "[173.6486840248108, 78.09844207763672, 41.431931018829346, 44.514524936676025, 26.220016956329346, 15.838594198226929]\n",
        "[84.26928305625916, 35.52804613113403, 21.598228931427002, 19.38456892967224, 14.032283067703247, 13.201192140579224]\n"
       ]
      },
      {
       "metadata": {},
       "output_type": "display_data",
       "png": "[encoded data removed]",
       "text": [
        "<matplotlib.figure.Figure at 0x90f6f10>"
       ]
      }
     ],
     "prompt_number": 27
    },
    {
     "cell_type": "code",
     "collapsed": false,
     "input": [
      "#Clean up\n",
      "from molnsutil import PersistentStorage\n",
      "ps = PersistentStorage()\n",
      "ps.delete_all()"
     ],
     "language": "python",
     "metadata": {},
     "outputs": [
      {
       "output_type": "stream",
       "stream": "stdout",
       "text": [
        "{'content-length': '0', 'x-container-object-count': '0', 'accept-ranges': 'bytes', 'date': 'Sun, 28 Dec 2014 08:21:52 GMT', 'connection': 'keep-alive', 'x-timestamp': '1419751607.83834', 'x-trans-id': 'txf708a05e6e484bf892611-00549fbda0', 'x-container-bytes-used': '0', 'content-type': 'text/plain; charset=utf-8'}\n"
       ]
      }
     ],
     "prompt_number": 24
    },
    {
     "cell_type": "heading",
     "level": 1,
     "metadata": {},
     "source": [
      "Weak scaling - The work per engine stays constant as the number of engines increase"
     ]
    },
    {
     "cell_type": "heading",
     "level": 3,
     "metadata": {},
     "source": [
      "PersistentStorage"
     ]
    },
    {
     "cell_type": "code",
     "collapsed": false,
     "input": [
      "import time\n",
      "wall_time_weak_persistent_phase1 = []\n",
      "wall_time_weak_persistent_phase2 = []\n",
      "for num_engines in engines:\n",
      "    # Phase1 - generate all the realizations and write them to disk\n",
      "    ensemble = DistributedEnsemble(model_class=SimpleDiffusion,num_engines=num_engines)\n",
      "    tic = time.time()\n",
      "    res  = ensemble.add_realizations(number_of_realizations=100*num_engines, storage_mode=\"Persistent\")\n",
      "    wall_time_1 = time.time()-tic\n",
      "    wall_time_weak_persistent_phase1.append(wall_time_1)\n",
      "    # Phase 2 - read all the realizations and compute the mean value\n",
      "    tic = time.time()\n",
      "    res = ensemble.mean(mapper=g)\n",
      "    wall_time_2 = time.time()-tic\n",
      "    wall_time_weak_persistent_phase2.append(wall_time_2)\n",
      "    \n",
      "    print \"Number of engines: %i\" % num_engines\n",
      "    print \"\\tPhase1, wall_time: %f\" % wall_time_1\n",
      "    print \"\\tPhase2, wall_time: %f\" % wall_time_2"
     ],
     "language": "python",
     "metadata": {},
     "outputs": [
      {
       "output_type": "stream",
       "stream": "stdout",
       "text": [
        "Generating 100 realizations of the model (chunk size=100)\n"
       ]
      },
      {
       "html": [
        "\n",
        "                          <div style=\"border: 1px solid black; width:500px\">\n",
        "                          <div id=\"67cbec99-2344-4deb-8224-2a60fdb6d46e\" style=\"background-color:blue; width:0%\">&nbsp;</div>\n",
        "                          </div>\n",
        "                          "
       ],
       "metadata": {},
       "output_type": "display_data",
       "text": [
        "<IPython.core.display.HTML at 0x90ed290>"
       ]
      },
      {
       "javascript": [
        "$('div#67cbec99-2344-4deb-8224-2a60fdb6d46e').width('100.000000%')"
       ],
       "metadata": {},
       "output_type": "display_data",
       "text": [
        "<IPython.core.display.Javascript at 0x90ed7d0>"
       ]
      },
      {
       "output_type": "stream",
       "stream": "stdout",
       "text": [
        "Running mapper & aggregator on the result objects (number of results=100, chunk size=100)\n"
       ]
      },
      {
       "html": [
        "\n",
        "                          <div style=\"border: 1px solid black; width:500px\">\n",
        "                          <div id=\"29fe1d0a-d76c-48d9-a0dd-7a210154e146\" style=\"background-color:blue; width:0%\">&nbsp;</div>\n",
        "                          </div>\n",
        "                          "
       ],
       "metadata": {},
       "output_type": "display_data",
       "text": [
        "<IPython.core.display.HTML at 0x90edb50>"
       ]
      },
      {
       "javascript": [
        "$('div#29fe1d0a-d76c-48d9-a0dd-7a210154e146').width('100.000000%')"
       ],
       "metadata": {},
       "output_type": "display_data",
       "text": [
        "<IPython.core.display.Javascript at 0x90ed710>"
       ]
      },
      {
       "output_type": "stream",
       "stream": "stdout",
       "text": [
        "Running reducer on mapped and aggregated results (size=1)\n",
        "Number of engines: 1\n",
        "\tPhase1, wall_time: 104.083920\n",
        "\tPhase2, wall_time: 22.586556\n",
        "Generating 300 realizations of the model (chunk size=100)\n"
       ]
      },
      {
       "html": [
        "\n",
        "                          <div style=\"border: 1px solid black; width:500px\">\n",
        "                          <div id=\"b839242e-4180-4eb5-ba90-3dbbe6cde843\" style=\"background-color:blue; width:0%\">&nbsp;</div>\n",
        "                          </div>\n",
        "                          "
       ],
       "metadata": {},
       "output_type": "display_data",
       "text": [
        "<IPython.core.display.HTML at 0x785b650>"
       ]
      },
      {
       "javascript": [
        "$('div#b839242e-4180-4eb5-ba90-3dbbe6cde843').width('33.333333%')"
       ],
       "metadata": {},
       "output_type": "display_data",
       "text": [
        "<IPython.core.display.Javascript at 0x90ede90>"
       ]
      },
      {
       "javascript": [
        "$('div#b839242e-4180-4eb5-ba90-3dbbe6cde843').width('66.666667%')"
       ],
       "metadata": {},
       "output_type": "display_data",
       "text": [
        "<IPython.core.display.Javascript at 0x90edb10>"
       ]
      },
      {
       "javascript": [
        "$('div#b839242e-4180-4eb5-ba90-3dbbe6cde843').width('100.000000%')"
       ],
       "metadata": {},
       "output_type": "display_data",
       "text": [
        "<IPython.core.display.Javascript at 0x90ed090>"
       ]
      },
      {
       "output_type": "stream",
       "stream": "stdout",
       "text": [
        "Running mapper & aggregator on the result objects (number of results=300, chunk size=100)\n"
       ]
      },
      {
       "html": [
        "\n",
        "                          <div style=\"border: 1px solid black; width:500px\">\n",
        "                          <div id=\"f85b0947-479d-4891-86e8-05340d684e23\" style=\"background-color:blue; width:0%\">&nbsp;</div>\n",
        "                          </div>\n",
        "                          "
       ],
       "metadata": {},
       "output_type": "display_data",
       "text": [
        "<IPython.core.display.HTML at 0x90ed950>"
       ]
      },
      {
       "javascript": [
        "$('div#f85b0947-479d-4891-86e8-05340d684e23').width('33.333333%')"
       ],
       "metadata": {},
       "output_type": "display_data",
       "text": [
        "<IPython.core.display.Javascript at 0x90ed110>"
       ]
      },
      {
       "javascript": [
        "$('div#f85b0947-479d-4891-86e8-05340d684e23').width('66.666667%')"
       ],
       "metadata": {},
       "output_type": "display_data",
       "text": [
        "<IPython.core.display.Javascript at 0x90edf10>"
       ]
      },
      {
       "javascript": [
        "$('div#f85b0947-479d-4891-86e8-05340d684e23').width('100.000000%')"
       ],
       "metadata": {},
       "output_type": "display_data",
       "text": [
        "<IPython.core.display.Javascript at 0x90ed050>"
       ]
      },
      {
       "output_type": "stream",
       "stream": "stdout",
       "text": [
        "Running reducer on mapped and aggregated results (size=3)\n",
        "Number of engines: 3\n",
        "\tPhase1, wall_time: 106.777289\n",
        "\tPhase2, wall_time: 26.093824\n",
        "Generating 600 realizations of the model (chunk size=100)"
       ]
      },
      {
       "output_type": "stream",
       "stream": "stdout",
       "text": [
        "\n"
       ]
      },
      {
       "html": [
        "\n",
        "                          <div style=\"border: 1px solid black; width:500px\">\n",
        "                          <div id=\"91147caa-5315-4c1c-9964-7c24b7f3a7c0\" style=\"background-color:blue; width:0%\">&nbsp;</div>\n",
        "                          </div>\n",
        "                          "
       ],
       "metadata": {},
       "output_type": "display_data",
       "text": [
        "<IPython.core.display.HTML at 0x90edfd0>"
       ]
      },
      {
       "javascript": [
        "$('div#91147caa-5315-4c1c-9964-7c24b7f3a7c0').width('16.666667%')"
       ],
       "metadata": {},
       "output_type": "display_data",
       "text": [
        "<IPython.core.display.Javascript at 0x90edc90>"
       ]
      },
      {
       "javascript": [
        "$('div#91147caa-5315-4c1c-9964-7c24b7f3a7c0').width('33.333333%')"
       ],
       "metadata": {},
       "output_type": "display_data",
       "text": [
        "<IPython.core.display.Javascript at 0x90edf10>"
       ]
      },
      {
       "javascript": [
        "$('div#91147caa-5315-4c1c-9964-7c24b7f3a7c0').width('50.000000%')"
       ],
       "metadata": {},
       "output_type": "display_data",
       "text": [
        "<IPython.core.display.Javascript at 0x90edb50>"
       ]
      },
      {
       "javascript": [
        "$('div#91147caa-5315-4c1c-9964-7c24b7f3a7c0').width('66.666667%')"
       ],
       "metadata": {},
       "output_type": "display_data",
       "text": [
        "<IPython.core.display.Javascript at 0x90ed950>"
       ]
      },
      {
       "javascript": [
        "$('div#91147caa-5315-4c1c-9964-7c24b7f3a7c0').width('83.333333%')"
       ],
       "metadata": {},
       "output_type": "display_data",
       "text": [
        "<IPython.core.display.Javascript at 0x90edb10>"
       ]
      },
      {
       "javascript": [
        "$('div#91147caa-5315-4c1c-9964-7c24b7f3a7c0').width('100.000000%')"
       ],
       "metadata": {},
       "output_type": "display_data",
       "text": [
        "<IPython.core.display.Javascript at 0x90ed710>"
       ]
      },
      {
       "output_type": "stream",
       "stream": "stdout",
       "text": [
        "Running mapper & aggregator on the result objects (number of results=600, chunk size=100)\n"
       ]
      },
      {
       "html": [
        "\n",
        "                          <div style=\"border: 1px solid black; width:500px\">\n",
        "                          <div id=\"823a686e-7b93-41b8-b22d-23f92f02d0ee\" style=\"background-color:blue; width:0%\">&nbsp;</div>\n",
        "                          </div>\n",
        "                          "
       ],
       "metadata": {},
       "output_type": "display_data",
       "text": [
        "<IPython.core.display.HTML at 0x90ed7d0>"
       ]
      },
      {
       "javascript": [
        "$('div#823a686e-7b93-41b8-b22d-23f92f02d0ee').width('16.666667%')"
       ],
       "metadata": {},
       "output_type": "display_data",
       "text": [
        "<IPython.core.display.Javascript at 0x90ed550>"
       ]
      },
      {
       "javascript": [
        "$('div#823a686e-7b93-41b8-b22d-23f92f02d0ee').width('33.333333%')"
       ],
       "metadata": {},
       "output_type": "display_data",
       "text": [
        "<IPython.core.display.Javascript at 0x90edf90>"
       ]
      },
      {
       "javascript": [
        "$('div#823a686e-7b93-41b8-b22d-23f92f02d0ee').width('50.000000%')"
       ],
       "metadata": {},
       "output_type": "display_data",
       "text": [
        "<IPython.core.display.Javascript at 0x90ed590>"
       ]
      },
      {
       "javascript": [
        "$('div#823a686e-7b93-41b8-b22d-23f92f02d0ee').width('66.666667%')"
       ],
       "metadata": {},
       "output_type": "display_data",
       "text": [
        "<IPython.core.display.Javascript at 0x90ed110>"
       ]
      },
      {
       "javascript": [
        "$('div#823a686e-7b93-41b8-b22d-23f92f02d0ee').width('83.333333%')"
       ],
       "metadata": {},
       "output_type": "display_data",
       "text": [
        "<IPython.core.display.Javascript at 0x90edad0>"
       ]
      },
      {
       "javascript": [
        "$('div#823a686e-7b93-41b8-b22d-23f92f02d0ee').width('100.000000%')"
       ],
       "metadata": {},
       "output_type": "display_data",
       "text": [
        "<IPython.core.display.Javascript at 0x90eddd0>"
       ]
      },
      {
       "output_type": "stream",
       "stream": "stdout",
       "text": [
        "Running reducer on mapped and aggregated results (size=6)\n",
        "Number of engines: 6\n",
        "\tPhase1, wall_time: 111.314981\n",
        "\tPhase2, wall_time: 41.577717\n",
        "Generating 1200 realizations of the model (chunk size=100)"
       ]
      },
      {
       "output_type": "stream",
       "stream": "stdout",
       "text": [
        "\n"
       ]
      },
      {
       "html": [
        "\n",
        "                          <div style=\"border: 1px solid black; width:500px\">\n",
        "                          <div id=\"3883161a-6529-4305-ab55-3085bff953cf\" style=\"background-color:blue; width:0%\">&nbsp;</div>\n",
        "                          </div>\n",
        "                          "
       ],
       "metadata": {},
       "output_type": "display_data",
       "text": [
        "<IPython.core.display.HTML at 0x785b650>"
       ]
      },
      {
       "javascript": [
        "$('div#3883161a-6529-4305-ab55-3085bff953cf').width('8.333333%')"
       ],
       "metadata": {},
       "output_type": "display_data",
       "text": [
        "<IPython.core.display.Javascript at 0x90ed710>"
       ]
      },
      {
       "javascript": [
        "$('div#3883161a-6529-4305-ab55-3085bff953cf').width('16.666667%')"
       ],
       "metadata": {},
       "output_type": "display_data",
       "text": [
        "<IPython.core.display.Javascript at 0x90ed090>"
       ]
      },
      {
       "javascript": [
        "$('div#3883161a-6529-4305-ab55-3085bff953cf').width('25.000000%')"
       ],
       "metadata": {},
       "output_type": "display_data",
       "text": [
        "<IPython.core.display.Javascript at 0x90edf10>"
       ]
      },
      {
       "javascript": [
        "$('div#3883161a-6529-4305-ab55-3085bff953cf').width('33.333333%')"
       ],
       "metadata": {},
       "output_type": "display_data",
       "text": [
        "<IPython.core.display.Javascript at 0x90edb10>"
       ]
      },
      {
       "javascript": [
        "$('div#3883161a-6529-4305-ab55-3085bff953cf').width('41.666667%')"
       ],
       "metadata": {},
       "output_type": "display_data",
       "text": [
        "<IPython.core.display.Javascript at 0x90ed950>"
       ]
      },
      {
       "javascript": [
        "$('div#3883161a-6529-4305-ab55-3085bff953cf').width('50.000000%')"
       ],
       "metadata": {},
       "output_type": "display_data",
       "text": [
        "<IPython.core.display.Javascript at 0x90edb50>"
       ]
      },
      {
       "javascript": [
        "$('div#3883161a-6529-4305-ab55-3085bff953cf').width('58.333333%')"
       ],
       "metadata": {},
       "output_type": "display_data",
       "text": [
        "<IPython.core.display.Javascript at 0x90edc90>"
       ]
      },
      {
       "javascript": [
        "$('div#3883161a-6529-4305-ab55-3085bff953cf').width('66.666667%')"
       ],
       "metadata": {},
       "output_type": "display_data",
       "text": [
        "<IPython.core.display.Javascript at 0x90ed550>"
       ]
      },
      {
       "javascript": [
        "$('div#3883161a-6529-4305-ab55-3085bff953cf').width('75.000000%')"
       ],
       "metadata": {},
       "output_type": "display_data",
       "text": [
        "<IPython.core.display.Javascript at 0x90edfd0>"
       ]
      },
      {
       "javascript": [
        "$('div#3883161a-6529-4305-ab55-3085bff953cf').width('83.333333%')"
       ],
       "metadata": {},
       "output_type": "display_data",
       "text": [
        "<IPython.core.display.Javascript at 0x87c5210>"
       ]
      },
      {
       "javascript": [
        "$('div#3883161a-6529-4305-ab55-3085bff953cf').width('91.666667%')"
       ],
       "metadata": {},
       "output_type": "display_data",
       "text": [
        "<IPython.core.display.Javascript at 0x87c5950>"
       ]
      },
      {
       "javascript": [
        "$('div#3883161a-6529-4305-ab55-3085bff953cf').width('100.000000%')"
       ],
       "metadata": {},
       "output_type": "display_data",
       "text": [
        "<IPython.core.display.Javascript at 0x87c5390>"
       ]
      },
      {
       "output_type": "stream",
       "stream": "stdout",
       "text": [
        "Running mapper & aggregator on the result objects (number of results=1200, chunk size=100)\n"
       ]
      },
      {
       "html": [
        "\n",
        "                          <div style=\"border: 1px solid black; width:500px\">\n",
        "                          <div id=\"95d2c675-61d3-4030-a2c5-b30dc5aec776\" style=\"background-color:blue; width:0%\">&nbsp;</div>\n",
        "                          </div>\n",
        "                          "
       ],
       "metadata": {},
       "output_type": "display_data",
       "text": [
        "<IPython.core.display.HTML at 0x90ed450>"
       ]
      },
      {
       "javascript": [
        "$('div#95d2c675-61d3-4030-a2c5-b30dc5aec776').width('8.333333%')"
       ],
       "metadata": {},
       "output_type": "display_data",
       "text": [
        "<IPython.core.display.Javascript at 0x6803850>"
       ]
      },
      {
       "javascript": [
        "$('div#95d2c675-61d3-4030-a2c5-b30dc5aec776').width('16.666667%')"
       ],
       "metadata": {},
       "output_type": "display_data",
       "text": [
        "<IPython.core.display.Javascript at 0x799dfd0>"
       ]
      },
      {
       "javascript": [
        "$('div#95d2c675-61d3-4030-a2c5-b30dc5aec776').width('25.000000%')"
       ],
       "metadata": {},
       "output_type": "display_data",
       "text": [
        "<IPython.core.display.Javascript at 0x799d190>"
       ]
      },
      {
       "javascript": [
        "$('div#95d2c675-61d3-4030-a2c5-b30dc5aec776').width('33.333333%')"
       ],
       "metadata": {},
       "output_type": "display_data",
       "text": [
        "<IPython.core.display.Javascript at 0x79cd8d0>"
       ]
      },
      {
       "javascript": [
        "$('div#95d2c675-61d3-4030-a2c5-b30dc5aec776').width('41.666667%')"
       ],
       "metadata": {},
       "output_type": "display_data",
       "text": [
        "<IPython.core.display.Javascript at 0x79cd650>"
       ]
      },
      {
       "javascript": [
        "$('div#95d2c675-61d3-4030-a2c5-b30dc5aec776').width('50.000000%')"
       ],
       "metadata": {},
       "output_type": "display_data",
       "text": [
        "<IPython.core.display.Javascript at 0x90f6350>"
       ]
      },
      {
       "javascript": [
        "$('div#95d2c675-61d3-4030-a2c5-b30dc5aec776').width('58.333333%')"
       ],
       "metadata": {},
       "output_type": "display_data",
       "text": [
        "<IPython.core.display.Javascript at 0x90f6e50>"
       ]
      },
      {
       "javascript": [
        "$('div#95d2c675-61d3-4030-a2c5-b30dc5aec776').width('66.666667%')"
       ],
       "metadata": {},
       "output_type": "display_data",
       "text": [
        "<IPython.core.display.Javascript at 0x90f6d10>"
       ]
      },
      {
       "javascript": [
        "$('div#95d2c675-61d3-4030-a2c5-b30dc5aec776').width('75.000000%')"
       ],
       "metadata": {},
       "output_type": "display_data",
       "text": [
        "<IPython.core.display.Javascript at 0x90f6910>"
       ]
      },
      {
       "javascript": [
        "$('div#95d2c675-61d3-4030-a2c5-b30dc5aec776').width('83.333333%')"
       ],
       "metadata": {},
       "output_type": "display_data",
       "text": [
        "<IPython.core.display.Javascript at 0x90f6990>"
       ]
      },
      {
       "javascript": [
        "$('div#95d2c675-61d3-4030-a2c5-b30dc5aec776').width('91.666667%')"
       ],
       "metadata": {},
       "output_type": "display_data",
       "text": [
        "<IPython.core.display.Javascript at 0x90f6a90>"
       ]
      },
      {
       "javascript": [
        "$('div#95d2c675-61d3-4030-a2c5-b30dc5aec776').width('100.000000%')"
       ],
       "metadata": {},
       "output_type": "display_data",
       "text": [
        "<IPython.core.display.Javascript at 0x90f6f10>"
       ]
      },
      {
       "output_type": "stream",
       "stream": "stdout",
       "text": [
        "Running reducer on mapped and aggregated results (size=12)\n",
        "Number of engines: 12\n",
        "\tPhase1, wall_time: 132.278606\n",
        "\tPhase2, wall_time: 78.499103\n",
        "Generating 2400 realizations of the model (chunk size=100)\n"
       ]
      },
      {
       "html": [
        "\n",
        "                          <div style=\"border: 1px solid black; width:500px\">\n",
        "                          <div id=\"1de59007-13f1-41f8-966b-97fdea922329\" style=\"background-color:blue; width:0%\">&nbsp;</div>\n",
        "                          </div>\n",
        "                          "
       ],
       "metadata": {},
       "output_type": "display_data",
       "text": [
        "<IPython.core.display.HTML at 0x799dfd0>"
       ]
      },
      {
       "javascript": [
        "$('div#1de59007-13f1-41f8-966b-97fdea922329').width('4.166667%')"
       ],
       "metadata": {},
       "output_type": "display_data",
       "text": [
        "<IPython.core.display.Javascript at 0x90ed7d0>"
       ]
      },
      {
       "javascript": [
        "$('div#1de59007-13f1-41f8-966b-97fdea922329').width('8.333333%')"
       ],
       "metadata": {},
       "output_type": "display_data",
       "text": [
        "<IPython.core.display.Javascript at 0x90ed450>"
       ]
      },
      {
       "javascript": [
        "$('div#1de59007-13f1-41f8-966b-97fdea922329').width('12.500000%')"
       ],
       "metadata": {},
       "output_type": "display_data",
       "text": [
        "<IPython.core.display.Javascript at 0x90edad0>"
       ]
      },
      {
       "javascript": [
        "$('div#1de59007-13f1-41f8-966b-97fdea922329').width('16.666667%')"
       ],
       "metadata": {},
       "output_type": "display_data",
       "text": [
        "<IPython.core.display.Javascript at 0x90eddd0>"
       ]
      },
      {
       "javascript": [
        "$('div#1de59007-13f1-41f8-966b-97fdea922329').width('20.833333%')"
       ],
       "metadata": {},
       "output_type": "display_data",
       "text": [
        "<IPython.core.display.Javascript at 0x90edfd0>"
       ]
      },
      {
       "javascript": [
        "$('div#1de59007-13f1-41f8-966b-97fdea922329').width('25.000000%')"
       ],
       "metadata": {},
       "output_type": "display_data",
       "text": [
        "<IPython.core.display.Javascript at 0x90ed550>"
       ]
      },
      {
       "javascript": [
        "$('div#1de59007-13f1-41f8-966b-97fdea922329').width('29.166667%')"
       ],
       "metadata": {},
       "output_type": "display_data",
       "text": [
        "<IPython.core.display.Javascript at 0x90edc90>"
       ]
      },
      {
       "javascript": [
        "$('div#1de59007-13f1-41f8-966b-97fdea922329').width('33.333333%')"
       ],
       "metadata": {},
       "output_type": "display_data",
       "text": [
        "<IPython.core.display.Javascript at 0x90ed950>"
       ]
      },
      {
       "javascript": [
        "$('div#1de59007-13f1-41f8-966b-97fdea922329').width('37.500000%')"
       ],
       "metadata": {},
       "output_type": "display_data",
       "text": [
        "<IPython.core.display.Javascript at 0x90edb10>"
       ]
      },
      {
       "javascript": [
        "$('div#1de59007-13f1-41f8-966b-97fdea922329').width('41.666667%')"
       ],
       "metadata": {},
       "output_type": "display_data",
       "text": [
        "<IPython.core.display.Javascript at 0x785b650>"
       ]
      },
      {
       "javascript": [
        "$('div#1de59007-13f1-41f8-966b-97fdea922329').width('45.833333%')"
       ],
       "metadata": {},
       "output_type": "display_data",
       "text": [
        "<IPython.core.display.Javascript at 0x90edf10>"
       ]
      },
      {
       "javascript": [
        "$('div#1de59007-13f1-41f8-966b-97fdea922329').width('50.000000%')"
       ],
       "metadata": {},
       "output_type": "display_data",
       "text": [
        "<IPython.core.display.Javascript at 0x90ed710>"
       ]
      },
      {
       "javascript": [
        "$('div#1de59007-13f1-41f8-966b-97fdea922329').width('54.166667%')"
       ],
       "metadata": {},
       "output_type": "display_data",
       "text": [
        "<IPython.core.display.Javascript at 0x90ed090>"
       ]
      },
      {
       "javascript": [
        "$('div#1de59007-13f1-41f8-966b-97fdea922329').width('58.333333%')"
       ],
       "metadata": {},
       "output_type": "display_data",
       "text": [
        "<IPython.core.display.Javascript at 0x90edb50>"
       ]
      },
      {
       "javascript": [
        "$('div#1de59007-13f1-41f8-966b-97fdea922329').width('62.500000%')"
       ],
       "metadata": {},
       "output_type": "display_data",
       "text": [
        "<IPython.core.display.Javascript at 0x90f6ad0>"
       ]
      },
      {
       "javascript": [
        "$('div#1de59007-13f1-41f8-966b-97fdea922329').width('66.666667%')"
       ],
       "metadata": {},
       "output_type": "display_data",
       "text": [
        "<IPython.core.display.Javascript at 0x90f6a50>"
       ]
      },
      {
       "javascript": [
        "$('div#1de59007-13f1-41f8-966b-97fdea922329').width('70.833333%')"
       ],
       "metadata": {},
       "output_type": "display_data",
       "text": [
        "<IPython.core.display.Javascript at 0x90f6b10>"
       ]
      },
      {
       "javascript": [
        "$('div#1de59007-13f1-41f8-966b-97fdea922329').width('75.000000%')"
       ],
       "metadata": {},
       "output_type": "display_data",
       "text": [
        "<IPython.core.display.Javascript at 0x90f6b50>"
       ]
      },
      {
       "javascript": [
        "$('div#1de59007-13f1-41f8-966b-97fdea922329').width('79.166667%')"
       ],
       "metadata": {},
       "output_type": "display_data",
       "text": [
        "<IPython.core.display.Javascript at 0x90f6f10>"
       ]
      },
      {
       "javascript": [
        "$('div#1de59007-13f1-41f8-966b-97fdea922329').width('83.333333%')"
       ],
       "metadata": {},
       "output_type": "display_data",
       "text": [
        "<IPython.core.display.Javascript at 0x90f6a90>"
       ]
      },
      {
       "javascript": [
        "$('div#1de59007-13f1-41f8-966b-97fdea922329').width('87.500000%')"
       ],
       "metadata": {},
       "output_type": "display_data",
       "text": [
        "<IPython.core.display.Javascript at 0x90f6990>"
       ]
      },
      {
       "javascript": [
        "$('div#1de59007-13f1-41f8-966b-97fdea922329').width('91.666667%')"
       ],
       "metadata": {},
       "output_type": "display_data",
       "text": [
        "<IPython.core.display.Javascript at 0x90f6910>"
       ]
      },
      {
       "javascript": [
        "$('div#1de59007-13f1-41f8-966b-97fdea922329').width('95.833333%')"
       ],
       "metadata": {},
       "output_type": "display_data",
       "text": [
        "<IPython.core.display.Javascript at 0x90f6d10>"
       ]
      },
      {
       "javascript": [
        "$('div#1de59007-13f1-41f8-966b-97fdea922329').width('100.000000%')"
       ],
       "metadata": {},
       "output_type": "display_data",
       "text": [
        "<IPython.core.display.Javascript at 0x90f6e50>"
       ]
      },
      {
       "output_type": "stream",
       "stream": "stdout",
       "text": [
        "Running mapper & aggregator on the result objects (number of results=2400, chunk size=100)\n"
       ]
      },
      {
       "html": [
        "\n",
        "                          <div style=\"border: 1px solid black; width:500px\">\n",
        "                          <div id=\"eee23e8d-68f3-4a83-b57e-154faf413f5f\" style=\"background-color:blue; width:0%\">&nbsp;</div>\n",
        "                          </div>\n",
        "                          "
       ],
       "metadata": {},
       "output_type": "display_data",
       "text": [
        "<IPython.core.display.HTML at 0x785b650>"
       ]
      },
      {
       "javascript": [
        "$('div#eee23e8d-68f3-4a83-b57e-154faf413f5f').width('4.166667%')"
       ],
       "metadata": {},
       "output_type": "display_data",
       "text": [
        "<IPython.core.display.Javascript at 0x90ed090>"
       ]
      },
      {
       "javascript": [
        "$('div#eee23e8d-68f3-4a83-b57e-154faf413f5f').width('8.333333%')"
       ],
       "metadata": {},
       "output_type": "display_data",
       "text": [
        "<IPython.core.display.Javascript at 0x90edb50>"
       ]
      },
      {
       "javascript": [
        "$('div#eee23e8d-68f3-4a83-b57e-154faf413f5f').width('12.500000%')"
       ],
       "metadata": {},
       "output_type": "display_data",
       "text": [
        "<IPython.core.display.Javascript at 0x90ed710>"
       ]
      },
      {
       "javascript": [
        "$('div#eee23e8d-68f3-4a83-b57e-154faf413f5f').width('16.666667%')"
       ],
       "metadata": {},
       "output_type": "display_data",
       "text": [
        "<IPython.core.display.Javascript at 0x90ed550>"
       ]
      },
      {
       "javascript": [
        "$('div#eee23e8d-68f3-4a83-b57e-154faf413f5f').width('20.833333%')"
       ],
       "metadata": {},
       "output_type": "display_data",
       "text": [
        "<IPython.core.display.Javascript at 0x90ed950>"
       ]
      },
      {
       "javascript": [
        "$('div#eee23e8d-68f3-4a83-b57e-154faf413f5f').width('25.000000%')"
       ],
       "metadata": {},
       "output_type": "display_data",
       "text": [
        "<IPython.core.display.Javascript at 0x90edc90>"
       ]
      },
      {
       "javascript": [
        "$('div#eee23e8d-68f3-4a83-b57e-154faf413f5f').width('29.166667%')"
       ],
       "metadata": {},
       "output_type": "display_data",
       "text": [
        "<IPython.core.display.Javascript at 0x90edfd0>"
       ]
      },
      {
       "javascript": [
        "$('div#eee23e8d-68f3-4a83-b57e-154faf413f5f').width('33.333333%')"
       ],
       "metadata": {},
       "output_type": "display_data",
       "text": [
        "<IPython.core.display.Javascript at 0x90eddd0>"
       ]
      },
      {
       "javascript": [
        "$('div#eee23e8d-68f3-4a83-b57e-154faf413f5f').width('37.500000%')"
       ],
       "metadata": {},
       "output_type": "display_data",
       "text": [
        "<IPython.core.display.Javascript at 0x90edb10>"
       ]
      },
      {
       "javascript": [
        "$('div#eee23e8d-68f3-4a83-b57e-154faf413f5f').width('41.666667%')"
       ],
       "metadata": {},
       "output_type": "display_data",
       "text": [
        "<IPython.core.display.Javascript at 0x90edad0>"
       ]
      },
      {
       "javascript": [
        "$('div#eee23e8d-68f3-4a83-b57e-154faf413f5f').width('45.833333%')"
       ],
       "metadata": {},
       "output_type": "display_data",
       "text": [
        "<IPython.core.display.Javascript at 0x90ed7d0>"
       ]
      },
      {
       "javascript": [
        "$('div#eee23e8d-68f3-4a83-b57e-154faf413f5f').width('50.000000%')"
       ],
       "metadata": {},
       "output_type": "display_data",
       "text": [
        "<IPython.core.display.Javascript at 0x90ed450>"
       ]
      },
      {
       "javascript": [
        "$('div#eee23e8d-68f3-4a83-b57e-154faf413f5f').width('54.166667%')"
       ],
       "metadata": {},
       "output_type": "display_data",
       "text": [
        "<IPython.core.display.Javascript at 0x90edf10>"
       ]
      },
      {
       "javascript": [
        "$('div#eee23e8d-68f3-4a83-b57e-154faf413f5f').width('58.333333%')"
       ],
       "metadata": {},
       "output_type": "display_data",
       "text": [
        "<IPython.core.display.Javascript at 0x90f6c50>"
       ]
      },
      {
       "javascript": [
        "$('div#eee23e8d-68f3-4a83-b57e-154faf413f5f').width('62.500000%')"
       ],
       "metadata": {},
       "output_type": "display_data",
       "text": [
        "<IPython.core.display.Javascript at 0x90f6d50>"
       ]
      },
      {
       "javascript": [
        "$('div#eee23e8d-68f3-4a83-b57e-154faf413f5f').width('66.666667%')"
       ],
       "metadata": {},
       "output_type": "display_data",
       "text": [
        "<IPython.core.display.Javascript at 0x90f6710>"
       ]
      },
      {
       "javascript": [
        "$('div#eee23e8d-68f3-4a83-b57e-154faf413f5f').width('70.833333%')"
       ],
       "metadata": {},
       "output_type": "display_data",
       "text": [
        "<IPython.core.display.Javascript at 0x90f6e50>"
       ]
      },
      {
       "javascript": [
        "$('div#eee23e8d-68f3-4a83-b57e-154faf413f5f').width('75.000000%')"
       ],
       "metadata": {},
       "output_type": "display_data",
       "text": [
        "<IPython.core.display.Javascript at 0x90f6d10>"
       ]
      },
      {
       "javascript": [
        "$('div#eee23e8d-68f3-4a83-b57e-154faf413f5f').width('79.166667%')"
       ],
       "metadata": {},
       "output_type": "display_data",
       "text": [
        "<IPython.core.display.Javascript at 0x90f6910>"
       ]
      },
      {
       "javascript": [
        "$('div#eee23e8d-68f3-4a83-b57e-154faf413f5f').width('83.333333%')"
       ],
       "metadata": {},
       "output_type": "display_data",
       "text": [
        "<IPython.core.display.Javascript at 0x90f6990>"
       ]
      },
      {
       "javascript": [
        "$('div#eee23e8d-68f3-4a83-b57e-154faf413f5f').width('87.500000%')"
       ],
       "metadata": {},
       "output_type": "display_data",
       "text": [
        "<IPython.core.display.Javascript at 0x90f6a90>"
       ]
      },
      {
       "javascript": [
        "$('div#eee23e8d-68f3-4a83-b57e-154faf413f5f').width('91.666667%')"
       ],
       "metadata": {},
       "output_type": "display_data",
       "text": [
        "<IPython.core.display.Javascript at 0x90f6f10>"
       ]
      },
      {
       "javascript": [
        "$('div#eee23e8d-68f3-4a83-b57e-154faf413f5f').width('95.833333%')"
       ],
       "metadata": {},
       "output_type": "display_data",
       "text": [
        "<IPython.core.display.Javascript at 0x90f6b50>"
       ]
      },
      {
       "javascript": [
        "$('div#eee23e8d-68f3-4a83-b57e-154faf413f5f').width('100.000000%')"
       ],
       "metadata": {},
       "output_type": "display_data",
       "text": [
        "<IPython.core.display.Javascript at 0x90f6b10>"
       ]
      },
      {
       "output_type": "stream",
       "stream": "stdout",
       "text": [
        "Running reducer on mapped and aggregated results (size=24)\n",
        "Number of engines: 24\n",
        "\tPhase1, wall_time: 144.492300\n",
        "\tPhase2, wall_time: 105.528640\n",
        "Generating 4800 realizations of the model (chunk size=100)\n"
       ]
      },
      {
       "html": [
        "\n",
        "                          <div style=\"border: 1px solid black; width:500px\">\n",
        "                          <div id=\"850479f7-2b4f-4587-941a-1900e43c0afe\" style=\"background-color:blue; width:0%\">&nbsp;</div>\n",
        "                          </div>\n",
        "                          "
       ],
       "metadata": {},
       "output_type": "display_data",
       "text": [
        "<IPython.core.display.HTML at 0x79cd8d0>"
       ]
      },
      {
       "javascript": [
        "$('div#850479f7-2b4f-4587-941a-1900e43c0afe').width('2.083333%')"
       ],
       "metadata": {},
       "output_type": "display_data",
       "text": [
        "<IPython.core.display.Javascript at 0x90edad0>"
       ]
      },
      {
       "javascript": [
        "$('div#850479f7-2b4f-4587-941a-1900e43c0afe').width('4.166667%')"
       ],
       "metadata": {},
       "output_type": "display_data",
       "text": [
        "<IPython.core.display.Javascript at 0x90eddd0>"
       ]
      },
      {
       "javascript": [
        "$('div#850479f7-2b4f-4587-941a-1900e43c0afe').width('6.250000%')"
       ],
       "metadata": {},
       "output_type": "display_data",
       "text": [
        "<IPython.core.display.Javascript at 0x90ed710>"
       ]
      },
      {
       "javascript": [
        "$('div#850479f7-2b4f-4587-941a-1900e43c0afe').width('8.333333%')"
       ],
       "metadata": {},
       "output_type": "display_data",
       "text": [
        "<IPython.core.display.Javascript at 0x90edc90>"
       ]
      },
      {
       "javascript": [
        "$('div#850479f7-2b4f-4587-941a-1900e43c0afe').width('10.416667%')"
       ],
       "metadata": {},
       "output_type": "display_data",
       "text": [
        "<IPython.core.display.Javascript at 0x90ed950>"
       ]
      },
      {
       "javascript": [
        "$('div#850479f7-2b4f-4587-941a-1900e43c0afe').width('12.500000%')"
       ],
       "metadata": {},
       "output_type": "display_data",
       "text": [
        "<IPython.core.display.Javascript at 0x90edf10>"
       ]
      },
      {
       "javascript": [
        "$('div#850479f7-2b4f-4587-941a-1900e43c0afe').width('14.583333%')"
       ],
       "metadata": {},
       "output_type": "display_data",
       "text": [
        "<IPython.core.display.Javascript at 0x90ed550>"
       ]
      },
      {
       "javascript": [
        "$('div#850479f7-2b4f-4587-941a-1900e43c0afe').width('16.666667%')"
       ],
       "metadata": {},
       "output_type": "display_data",
       "text": [
        "<IPython.core.display.Javascript at 0x90ed090>"
       ]
      },
      {
       "javascript": [
        "$('div#850479f7-2b4f-4587-941a-1900e43c0afe').width('18.750000%')"
       ],
       "metadata": {},
       "output_type": "display_data",
       "text": [
        "<IPython.core.display.Javascript at 0x90edb50>"
       ]
      },
      {
       "javascript": [
        "$('div#850479f7-2b4f-4587-941a-1900e43c0afe').width('20.833333%')"
       ],
       "metadata": {},
       "output_type": "display_data",
       "text": [
        "<IPython.core.display.Javascript at 0x90edfd0>"
       ]
      },
      {
       "javascript": [
        "$('div#850479f7-2b4f-4587-941a-1900e43c0afe').width('22.916667%')"
       ],
       "metadata": {},
       "output_type": "display_data",
       "text": [
        "<IPython.core.display.Javascript at 0x90f6350>"
       ]
      },
      {
       "javascript": [
        "$('div#850479f7-2b4f-4587-941a-1900e43c0afe').width('25.000000%')"
       ],
       "metadata": {},
       "output_type": "display_data",
       "text": [
        "<IPython.core.display.Javascript at 0x90f6fd0>"
       ]
      },
      {
       "javascript": [
        "$('div#850479f7-2b4f-4587-941a-1900e43c0afe').width('27.083333%')"
       ],
       "metadata": {},
       "output_type": "display_data",
       "text": [
        "<IPython.core.display.Javascript at 0x90f6e10>"
       ]
      },
      {
       "javascript": [
        "$('div#850479f7-2b4f-4587-941a-1900e43c0afe').width('29.166667%')"
       ],
       "metadata": {},
       "output_type": "display_data",
       "text": [
        "<IPython.core.display.Javascript at 0x90f60d0>"
       ]
      },
      {
       "javascript": [
        "$('div#850479f7-2b4f-4587-941a-1900e43c0afe').width('31.250000%')"
       ],
       "metadata": {},
       "output_type": "display_data",
       "text": [
        "<IPython.core.display.Javascript at 0x90f6bd0>"
       ]
      },
      {
       "javascript": [
        "$('div#850479f7-2b4f-4587-941a-1900e43c0afe').width('33.333333%')"
       ],
       "metadata": {},
       "output_type": "display_data",
       "text": [
        "<IPython.core.display.Javascript at 0x90f6a10>"
       ]
      },
      {
       "javascript": [
        "$('div#850479f7-2b4f-4587-941a-1900e43c0afe').width('35.416667%')"
       ],
       "metadata": {},
       "output_type": "display_data",
       "text": [
        "<IPython.core.display.Javascript at 0x90f6d90>"
       ]
      },
      {
       "javascript": [
        "$('div#850479f7-2b4f-4587-941a-1900e43c0afe').width('37.500000%')"
       ],
       "metadata": {},
       "output_type": "display_data",
       "text": [
        "<IPython.core.display.Javascript at 0x90f6050>"
       ]
      },
      {
       "javascript": [
        "$('div#850479f7-2b4f-4587-941a-1900e43c0afe').width('39.583333%')"
       ],
       "metadata": {},
       "output_type": "display_data",
       "text": [
        "<IPython.core.display.Javascript at 0x90f6090>"
       ]
      },
      {
       "javascript": [
        "$('div#850479f7-2b4f-4587-941a-1900e43c0afe').width('41.666667%')"
       ],
       "metadata": {},
       "output_type": "display_data",
       "text": [
        "<IPython.core.display.Javascript at 0x90f6b10>"
       ]
      },
      {
       "javascript": [
        "$('div#850479f7-2b4f-4587-941a-1900e43c0afe').width('43.750000%')"
       ],
       "metadata": {},
       "output_type": "display_data",
       "text": [
        "<IPython.core.display.Javascript at 0x90f6b50>"
       ]
      },
      {
       "javascript": [
        "$('div#850479f7-2b4f-4587-941a-1900e43c0afe').width('45.833333%')"
       ],
       "metadata": {},
       "output_type": "display_data",
       "text": [
        "<IPython.core.display.Javascript at 0x90f6f10>"
       ]
      },
      {
       "javascript": [
        "$('div#850479f7-2b4f-4587-941a-1900e43c0afe').width('47.916667%')"
       ],
       "metadata": {},
       "output_type": "display_data",
       "text": [
        "<IPython.core.display.Javascript at 0x90f6a90>"
       ]
      },
      {
       "javascript": [
        "$('div#850479f7-2b4f-4587-941a-1900e43c0afe').width('50.000000%')"
       ],
       "metadata": {},
       "output_type": "display_data",
       "text": [
        "<IPython.core.display.Javascript at 0x90f6990>"
       ]
      },
      {
       "javascript": [
        "$('div#850479f7-2b4f-4587-941a-1900e43c0afe').width('52.083333%')"
       ],
       "metadata": {},
       "output_type": "display_data",
       "text": [
        "<IPython.core.display.Javascript at 0x90f6910>"
       ]
      },
      {
       "javascript": [
        "$('div#850479f7-2b4f-4587-941a-1900e43c0afe').width('54.166667%')"
       ],
       "metadata": {},
       "output_type": "display_data",
       "text": [
        "<IPython.core.display.Javascript at 0x90f6d10>"
       ]
      },
      {
       "javascript": [
        "$('div#850479f7-2b4f-4587-941a-1900e43c0afe').width('56.250000%')"
       ],
       "metadata": {},
       "output_type": "display_data",
       "text": [
        "<IPython.core.display.Javascript at 0x90f6e50>"
       ]
      },
      {
       "javascript": [
        "$('div#850479f7-2b4f-4587-941a-1900e43c0afe').width('58.333333%')"
       ],
       "metadata": {},
       "output_type": "display_data",
       "text": [
        "<IPython.core.display.Javascript at 0x90f6710>"
       ]
      },
      {
       "javascript": [
        "$('div#850479f7-2b4f-4587-941a-1900e43c0afe').width('60.416667%')"
       ],
       "metadata": {},
       "output_type": "display_data",
       "text": [
        "<IPython.core.display.Javascript at 0x90f6d50>"
       ]
      },
      {
       "javascript": [
        "$('div#850479f7-2b4f-4587-941a-1900e43c0afe').width('62.500000%')"
       ],
       "metadata": {},
       "output_type": "display_data",
       "text": [
        "<IPython.core.display.Javascript at 0x90f6c50>"
       ]
      },
      {
       "javascript": [
        "$('div#850479f7-2b4f-4587-941a-1900e43c0afe').width('64.583333%')"
       ],
       "metadata": {},
       "output_type": "display_data",
       "text": [
        "<IPython.core.display.Javascript at 0x90f6150>"
       ]
      },
      {
       "javascript": [
        "$('div#850479f7-2b4f-4587-941a-1900e43c0afe').width('66.666667%')"
       ],
       "metadata": {},
       "output_type": "display_data",
       "text": [
        "<IPython.core.display.Javascript at 0x90f61d0>"
       ]
      },
      {
       "javascript": [
        "$('div#850479f7-2b4f-4587-941a-1900e43c0afe').width('68.750000%')"
       ],
       "metadata": {},
       "output_type": "display_data",
       "text": [
        "<IPython.core.display.Javascript at 0x90f6110>"
       ]
      },
      {
       "javascript": [
        "$('div#850479f7-2b4f-4587-941a-1900e43c0afe').width('70.833333%')"
       ],
       "metadata": {},
       "output_type": "display_data",
       "text": [
        "<IPython.core.display.Javascript at 0x90f6190>"
       ]
      },
      {
       "javascript": [
        "$('div#850479f7-2b4f-4587-941a-1900e43c0afe').width('72.916667%')"
       ],
       "metadata": {},
       "output_type": "display_data",
       "text": [
        "<IPython.core.display.Javascript at 0x90f6250>"
       ]
      },
      {
       "javascript": [
        "$('div#850479f7-2b4f-4587-941a-1900e43c0afe').width('75.000000%')"
       ],
       "metadata": {},
       "output_type": "display_data",
       "text": [
        "<IPython.core.display.Javascript at 0x90f62d0>"
       ]
      },
      {
       "javascript": [
        "$('div#850479f7-2b4f-4587-941a-1900e43c0afe').width('77.083333%')"
       ],
       "metadata": {},
       "output_type": "display_data",
       "text": [
        "<IPython.core.display.Javascript at 0x90f6210>"
       ]
      },
      {
       "javascript": [
        "$('div#850479f7-2b4f-4587-941a-1900e43c0afe').width('79.166667%')"
       ],
       "metadata": {},
       "output_type": "display_data",
       "text": [
        "<IPython.core.display.Javascript at 0x90f6290>"
       ]
      },
      {
       "javascript": [
        "$('div#850479f7-2b4f-4587-941a-1900e43c0afe').width('81.250000%')"
       ],
       "metadata": {},
       "output_type": "display_data",
       "text": [
        "<IPython.core.display.Javascript at 0x90f6390>"
       ]
      },
      {
       "javascript": [
        "$('div#850479f7-2b4f-4587-941a-1900e43c0afe').width('83.333333%')"
       ],
       "metadata": {},
       "output_type": "display_data",
       "text": [
        "<IPython.core.display.Javascript at 0x90edfd0>"
       ]
      },
      {
       "javascript": [
        "$('div#850479f7-2b4f-4587-941a-1900e43c0afe').width('85.416667%')"
       ],
       "metadata": {},
       "output_type": "display_data",
       "text": [
        "<IPython.core.display.Javascript at 0x90ed550>"
       ]
      },
      {
       "javascript": [
        "$('div#850479f7-2b4f-4587-941a-1900e43c0afe').width('87.500000%')"
       ],
       "metadata": {},
       "output_type": "display_data",
       "text": [
        "<IPython.core.display.Javascript at 0x90edb50>"
       ]
      },
      {
       "javascript": [
        "$('div#850479f7-2b4f-4587-941a-1900e43c0afe').width('89.583333%')"
       ],
       "metadata": {},
       "output_type": "display_data",
       "text": [
        "<IPython.core.display.Javascript at 0x90edf10>"
       ]
      },
      {
       "javascript": [
        "$('div#850479f7-2b4f-4587-941a-1900e43c0afe').width('91.666667%')"
       ],
       "metadata": {},
       "output_type": "display_data",
       "text": [
        "<IPython.core.display.Javascript at 0x90ed950>"
       ]
      },
      {
       "javascript": [
        "$('div#850479f7-2b4f-4587-941a-1900e43c0afe').width('93.750000%')"
       ],
       "metadata": {},
       "output_type": "display_data",
       "text": [
        "<IPython.core.display.Javascript at 0x90edc90>"
       ]
      },
      {
       "javascript": [
        "$('div#850479f7-2b4f-4587-941a-1900e43c0afe').width('95.833333%')"
       ],
       "metadata": {},
       "output_type": "display_data",
       "text": [
        "<IPython.core.display.Javascript at 0x90ed710>"
       ]
      },
      {
       "javascript": [
        "$('div#850479f7-2b4f-4587-941a-1900e43c0afe').width('97.916667%')"
       ],
       "metadata": {},
       "output_type": "display_data",
       "text": [
        "<IPython.core.display.Javascript at 0x90eddd0>"
       ]
      },
      {
       "javascript": [
        "$('div#850479f7-2b4f-4587-941a-1900e43c0afe').width('100.000000%')"
       ],
       "metadata": {},
       "output_type": "display_data",
       "text": [
        "<IPython.core.display.Javascript at 0x90ed090>"
       ]
      },
      {
       "output_type": "stream",
       "stream": "stdout",
       "text": [
        "Running mapper & aggregator on the result objects (number of results=4800, chunk size=100)\n"
       ]
      },
      {
       "html": [
        "\n",
        "                          <div style=\"border: 1px solid black; width:500px\">\n",
        "                          <div id=\"9d0ede11-7cda-4005-a106-cc8c84f628ef\" style=\"background-color:blue; width:0%\">&nbsp;</div>\n",
        "                          </div>\n",
        "                          "
       ],
       "metadata": {},
       "output_type": "display_data",
       "text": [
        "<IPython.core.display.HTML at 0x90edad0>"
       ]
      },
      {
       "javascript": [
        "$('div#9d0ede11-7cda-4005-a106-cc8c84f628ef').width('2.083333%')"
       ],
       "metadata": {},
       "output_type": "display_data",
       "text": [
        "<IPython.core.display.Javascript at 0x90f6950>"
       ]
      },
      {
       "javascript": [
        "$('div#9d0ede11-7cda-4005-a106-cc8c84f628ef').width('4.166667%')"
       ],
       "metadata": {},
       "output_type": "display_data",
       "text": [
        "<IPython.core.display.Javascript at 0x90f6310>"
       ]
      },
      {
       "javascript": [
        "$('div#9d0ede11-7cda-4005-a106-cc8c84f628ef').width('6.250000%')"
       ],
       "metadata": {},
       "output_type": "display_data",
       "text": [
        "<IPython.core.display.Javascript at 0x90f6550>"
       ]
      },
      {
       "javascript": [
        "$('div#9d0ede11-7cda-4005-a106-cc8c84f628ef').width('8.333333%')"
       ],
       "metadata": {},
       "output_type": "display_data",
       "text": [
        "<IPython.core.display.Javascript at 0x90f6f50>"
       ]
      },
      {
       "javascript": [
        "$('div#9d0ede11-7cda-4005-a106-cc8c84f628ef').width('10.416667%')"
       ],
       "metadata": {},
       "output_type": "display_data",
       "text": [
        "<IPython.core.display.Javascript at 0x90f6410>"
       ]
      },
      {
       "javascript": [
        "$('div#9d0ede11-7cda-4005-a106-cc8c84f628ef').width('12.500000%')"
       ],
       "metadata": {},
       "output_type": "display_data",
       "text": [
        "<IPython.core.display.Javascript at 0x90f64d0>"
       ]
      },
      {
       "javascript": [
        "$('div#9d0ede11-7cda-4005-a106-cc8c84f628ef').width('14.583333%')"
       ],
       "metadata": {},
       "output_type": "display_data",
       "text": [
        "<IPython.core.display.Javascript at 0x90f6290>"
       ]
      },
      {
       "javascript": [
        "$('div#9d0ede11-7cda-4005-a106-cc8c84f628ef').width('16.666667%')"
       ],
       "metadata": {},
       "output_type": "display_data",
       "text": [
        "<IPython.core.display.Javascript at 0x90f6210>"
       ]
      },
      {
       "javascript": [
        "$('div#9d0ede11-7cda-4005-a106-cc8c84f628ef').width('18.750000%')"
       ],
       "metadata": {},
       "output_type": "display_data",
       "text": [
        "<IPython.core.display.Javascript at 0x90f63d0>"
       ]
      },
      {
       "javascript": [
        "$('div#9d0ede11-7cda-4005-a106-cc8c84f628ef').width('20.833333%')"
       ],
       "metadata": {},
       "output_type": "display_data",
       "text": [
        "<IPython.core.display.Javascript at 0x90f62d0>"
       ]
      },
      {
       "javascript": [
        "$('div#9d0ede11-7cda-4005-a106-cc8c84f628ef').width('22.916667%')"
       ],
       "metadata": {},
       "output_type": "display_data",
       "text": [
        "<IPython.core.display.Javascript at 0x90f6190>"
       ]
      },
      {
       "javascript": [
        "$('div#9d0ede11-7cda-4005-a106-cc8c84f628ef').width('25.000000%')"
       ],
       "metadata": {},
       "output_type": "display_data",
       "text": [
        "<IPython.core.display.Javascript at 0x90f6110>"
       ]
      },
      {
       "javascript": [
        "$('div#9d0ede11-7cda-4005-a106-cc8c84f628ef').width('27.083333%')"
       ],
       "metadata": {},
       "output_type": "display_data",
       "text": [
        "<IPython.core.display.Javascript at 0x90f61d0>"
       ]
      },
      {
       "javascript": [
        "$('div#9d0ede11-7cda-4005-a106-cc8c84f628ef').width('29.166667%')"
       ],
       "metadata": {},
       "output_type": "display_data",
       "text": [
        "<IPython.core.display.Javascript at 0x90f6150>"
       ]
      },
      {
       "javascript": [
        "$('div#9d0ede11-7cda-4005-a106-cc8c84f628ef').width('31.250000%')"
       ],
       "metadata": {},
       "output_type": "display_data",
       "text": [
        "<IPython.core.display.Javascript at 0x90f6c50>"
       ]
      },
      {
       "javascript": [
        "$('div#9d0ede11-7cda-4005-a106-cc8c84f628ef').width('33.333333%')"
       ],
       "metadata": {},
       "output_type": "display_data",
       "text": [
        "<IPython.core.display.Javascript at 0x90f6d50>"
       ]
      },
      {
       "javascript": [
        "$('div#9d0ede11-7cda-4005-a106-cc8c84f628ef').width('35.416667%')"
       ],
       "metadata": {},
       "output_type": "display_data",
       "text": [
        "<IPython.core.display.Javascript at 0x90f6710>"
       ]
      },
      {
       "javascript": [
        "$('div#9d0ede11-7cda-4005-a106-cc8c84f628ef').width('37.500000%')"
       ],
       "metadata": {},
       "output_type": "display_data",
       "text": [
        "<IPython.core.display.Javascript at 0x90f6e50>"
       ]
      },
      {
       "javascript": [
        "$('div#9d0ede11-7cda-4005-a106-cc8c84f628ef').width('39.583333%')"
       ],
       "metadata": {},
       "output_type": "display_data",
       "text": [
        "<IPython.core.display.Javascript at 0x90f6d10>"
       ]
      },
      {
       "javascript": [
        "$('div#9d0ede11-7cda-4005-a106-cc8c84f628ef').width('41.666667%')"
       ],
       "metadata": {},
       "output_type": "display_data",
       "text": [
        "<IPython.core.display.Javascript at 0x90f6910>"
       ]
      },
      {
       "javascript": [
        "$('div#9d0ede11-7cda-4005-a106-cc8c84f628ef').width('43.750000%')"
       ],
       "metadata": {},
       "output_type": "display_data",
       "text": [
        "<IPython.core.display.Javascript at 0x90f6990>"
       ]
      },
      {
       "javascript": [
        "$('div#9d0ede11-7cda-4005-a106-cc8c84f628ef').width('45.833333%')"
       ],
       "metadata": {},
       "output_type": "display_data",
       "text": [
        "<IPython.core.display.Javascript at 0x90f6a90>"
       ]
      },
      {
       "javascript": [
        "$('div#9d0ede11-7cda-4005-a106-cc8c84f628ef').width('47.916667%')"
       ],
       "metadata": {},
       "output_type": "display_data",
       "text": [
        "<IPython.core.display.Javascript at 0x90f6f10>"
       ]
      },
      {
       "javascript": [
        "$('div#9d0ede11-7cda-4005-a106-cc8c84f628ef').width('50.000000%')"
       ],
       "metadata": {},
       "output_type": "display_data",
       "text": [
        "<IPython.core.display.Javascript at 0x90f6b50>"
       ]
      },
      {
       "javascript": [
        "$('div#9d0ede11-7cda-4005-a106-cc8c84f628ef').width('52.083333%')"
       ],
       "metadata": {},
       "output_type": "display_data",
       "text": [
        "<IPython.core.display.Javascript at 0x90f6b10>"
       ]
      },
      {
       "javascript": [
        "$('div#9d0ede11-7cda-4005-a106-cc8c84f628ef').width('54.166667%')"
       ],
       "metadata": {},
       "output_type": "display_data",
       "text": [
        "<IPython.core.display.Javascript at 0x90f6090>"
       ]
      },
      {
       "javascript": [
        "$('div#9d0ede11-7cda-4005-a106-cc8c84f628ef').width('56.250000%')"
       ],
       "metadata": {},
       "output_type": "display_data",
       "text": [
        "<IPython.core.display.Javascript at 0x90f6050>"
       ]
      },
      {
       "javascript": [
        "$('div#9d0ede11-7cda-4005-a106-cc8c84f628ef').width('58.333333%')"
       ],
       "metadata": {},
       "output_type": "display_data",
       "text": [
        "<IPython.core.display.Javascript at 0x90f6d90>"
       ]
      },
      {
       "javascript": [
        "$('div#9d0ede11-7cda-4005-a106-cc8c84f628ef').width('60.416667%')"
       ],
       "metadata": {},
       "output_type": "display_data",
       "text": [
        "<IPython.core.display.Javascript at 0x90f6a10>"
       ]
      },
      {
       "javascript": [
        "$('div#9d0ede11-7cda-4005-a106-cc8c84f628ef').width('62.500000%')"
       ],
       "metadata": {},
       "output_type": "display_data",
       "text": [
        "<IPython.core.display.Javascript at 0x90f6bd0>"
       ]
      },
      {
       "javascript": [
        "$('div#9d0ede11-7cda-4005-a106-cc8c84f628ef').width('64.583333%')"
       ],
       "metadata": {},
       "output_type": "display_data",
       "text": [
        "<IPython.core.display.Javascript at 0x90f60d0>"
       ]
      },
      {
       "javascript": [
        "$('div#9d0ede11-7cda-4005-a106-cc8c84f628ef').width('66.666667%')"
       ],
       "metadata": {},
       "output_type": "display_data",
       "text": [
        "<IPython.core.display.Javascript at 0x90f6e10>"
       ]
      },
      {
       "javascript": [
        "$('div#9d0ede11-7cda-4005-a106-cc8c84f628ef').width('68.750000%')"
       ],
       "metadata": {},
       "output_type": "display_data",
       "text": [
        "<IPython.core.display.Javascript at 0x90f6fd0>"
       ]
      },
      {
       "javascript": [
        "$('div#9d0ede11-7cda-4005-a106-cc8c84f628ef').width('70.833333%')"
       ],
       "metadata": {},
       "output_type": "display_data",
       "text": [
        "<IPython.core.display.Javascript at 0x90f6350>"
       ]
      },
      {
       "javascript": [
        "$('div#9d0ede11-7cda-4005-a106-cc8c84f628ef').width('72.916667%')"
       ],
       "metadata": {},
       "output_type": "display_data",
       "text": [
        "<IPython.core.display.Javascript at 0x90edc90>"
       ]
      },
      {
       "javascript": [
        "$('div#9d0ede11-7cda-4005-a106-cc8c84f628ef').width('75.000000%')"
       ],
       "metadata": {},
       "output_type": "display_data",
       "text": [
        "<IPython.core.display.Javascript at 0x90eddd0>"
       ]
      },
      {
       "javascript": [
        "$('div#9d0ede11-7cda-4005-a106-cc8c84f628ef').width('77.083333%')"
       ],
       "metadata": {},
       "output_type": "display_data",
       "text": [
        "<IPython.core.display.Javascript at 0x90edf10>"
       ]
      },
      {
       "javascript": [
        "$('div#9d0ede11-7cda-4005-a106-cc8c84f628ef').width('79.166667%')"
       ],
       "metadata": {},
       "output_type": "display_data",
       "text": [
        "<IPython.core.display.Javascript at 0x90ed090>"
       ]
      },
      {
       "javascript": [
        "$('div#9d0ede11-7cda-4005-a106-cc8c84f628ef').width('81.250000%')"
       ],
       "metadata": {},
       "output_type": "display_data",
       "text": [
        "<IPython.core.display.Javascript at 0x90edb50>"
       ]
      },
      {
       "javascript": [
        "$('div#9d0ede11-7cda-4005-a106-cc8c84f628ef').width('83.333333%')"
       ],
       "metadata": {},
       "output_type": "display_data",
       "text": [
        "<IPython.core.display.Javascript at 0x90ed550>"
       ]
      },
      {
       "javascript": [
        "$('div#9d0ede11-7cda-4005-a106-cc8c84f628ef').width('85.416667%')"
       ],
       "metadata": {},
       "output_type": "display_data",
       "text": [
        "<IPython.core.display.Javascript at 0x90ed950>"
       ]
      },
      {
       "javascript": [
        "$('div#9d0ede11-7cda-4005-a106-cc8c84f628ef').width('87.500000%')"
       ],
       "metadata": {},
       "output_type": "display_data",
       "text": [
        "<IPython.core.display.Javascript at 0x90edfd0>"
       ]
      },
      {
       "javascript": [
        "$('div#9d0ede11-7cda-4005-a106-cc8c84f628ef').width('89.583333%')"
       ],
       "metadata": {},
       "output_type": "display_data",
       "text": [
        "<IPython.core.display.Javascript at 0x90f6350>"
       ]
      },
      {
       "javascript": [
        "$('div#9d0ede11-7cda-4005-a106-cc8c84f628ef').width('91.666667%')"
       ],
       "metadata": {},
       "output_type": "display_data",
       "text": [
        "<IPython.core.display.Javascript at 0x90f6450>"
       ]
      },
      {
       "javascript": [
        "$('div#9d0ede11-7cda-4005-a106-cc8c84f628ef').width('93.750000%')"
       ],
       "metadata": {},
       "output_type": "display_data",
       "text": [
        "<IPython.core.display.Javascript at 0x90f6510>"
       ]
      },
      {
       "javascript": [
        "$('div#9d0ede11-7cda-4005-a106-cc8c84f628ef').width('95.833333%')"
       ],
       "metadata": {},
       "output_type": "display_data",
       "text": [
        "<IPython.core.display.Javascript at 0x90f6390>"
       ]
      },
      {
       "javascript": [
        "$('div#9d0ede11-7cda-4005-a106-cc8c84f628ef').width('97.916667%')"
       ],
       "metadata": {},
       "output_type": "display_data",
       "text": [
        "<IPython.core.display.Javascript at 0x90f6690>"
       ]
      },
      {
       "javascript": [
        "$('div#9d0ede11-7cda-4005-a106-cc8c84f628ef').width('100.000000%')"
       ],
       "metadata": {},
       "output_type": "display_data",
       "text": [
        "<IPython.core.display.Javascript at 0x90f6610>"
       ]
      },
      {
       "output_type": "stream",
       "stream": "stdout",
       "text": [
        "Running reducer on mapped and aggregated results (size=48)\n",
        "Number of engines: 48\n",
        "\tPhase1, wall_time: 186.581307\n",
        "\tPhase2, wall_time: 105.526238\n"
       ]
      }
     ],
     "prompt_number": 25
    },
    {
     "cell_type": "heading",
     "level": 3,
     "metadata": {},
     "source": [
      "SharedStorage"
     ]
    },
    {
     "cell_type": "code",
     "collapsed": false,
     "input": [
      "import time\n",
      "wall_time_weak_shared_phase1 = []\n",
      "wall_time_weak_shared_phase2 = []\n",
      "for num_engines in engines:\n",
      "    # Phase1 - generate all the realizations and write them to disk\n",
      "    ensemble = DistributedEnsemble(model_class=SimpleDiffusion, num_engines=num_engines)\n",
      "    tic = time.time()\n",
      "    res  = ensemble.add_realizations(number_of_realizations=100*num_engines)\n",
      "    wall_time_1 = time.time()-tic\n",
      "    wall_time_weak_shared_phase1.append(wall_time_1)\n",
      "    # Phase 2 - read all the realizations and compute the mean value\n",
      "    tic = time.time()\n",
      "    res = ensemble.mean(mapper=g)\n",
      "    wall_time_2 = time.time()-tic\n",
      "    wall_time_weak_shared_phase2.append(wall_time_2)\n",
      "    \n",
      "    print \"Number of engines: %i\" % num_engines\n",
      "    print \"\\tPhase1, wall_time: %f\" % wall_time_1\n",
      "    print \"\\tPhase2, wall_time: %f\" % wall_time_2"
     ],
     "language": "python",
     "metadata": {},
     "outputs": [
      {
       "output_type": "stream",
       "stream": "stdout",
       "text": [
        "Generating 100 realizations of the model (chunk size=100)\n"
       ]
      },
      {
       "html": [
        "\n",
        "                          <div style=\"border: 1px solid black; width:500px\">\n",
        "                          <div id=\"4f47087d-e7da-48e0-8cb7-cbefefe04673\" style=\"background-color:blue; width:0%\">&nbsp;</div>\n",
        "                          </div>\n",
        "                          "
       ],
       "metadata": {},
       "output_type": "display_data",
       "text": [
        "<IPython.core.display.HTML at 0x87c5950>"
       ]
      },
      {
       "javascript": [
        "$('div#4f47087d-e7da-48e0-8cb7-cbefefe04673').width('100.000000%')"
       ],
       "metadata": {},
       "output_type": "display_data",
       "text": [
        "<IPython.core.display.Javascript at 0x90f6f90>"
       ]
      },
      {
       "output_type": "stream",
       "stream": "stdout",
       "text": [
        "Running mapper & aggregator on the result objects (number of results=100, chunk size=100)\n"
       ]
      },
      {
       "html": [
        "\n",
        "                          <div style=\"border: 1px solid black; width:500px\">\n",
        "                          <div id=\"9ab8e68f-8afb-4349-a3f3-44c15d46ce37\" style=\"background-color:blue; width:0%\">&nbsp;</div>\n",
        "                          </div>\n",
        "                          "
       ],
       "metadata": {},
       "output_type": "display_data",
       "text": [
        "<IPython.core.display.HTML at 0x90ed710>"
       ]
      },
      {
       "javascript": [
        "$('div#9ab8e68f-8afb-4349-a3f3-44c15d46ce37').width('100.000000%')"
       ],
       "metadata": {},
       "output_type": "display_data",
       "text": [
        "<IPython.core.display.Javascript at 0x90f6390>"
       ]
      },
      {
       "output_type": "stream",
       "stream": "stdout",
       "text": [
        "Running reducer on mapped and aggregated results (size=1)\n",
        "Number of engines: 1\n",
        "\tPhase1, wall_time: 467.490409\n",
        "\tPhase2, wall_time: 156.227194\n",
        "Generating 300 realizations of the model (chunk size=100)\n"
       ]
      },
      {
       "html": [
        "\n",
        "                          <div style=\"border: 1px solid black; width:500px\">\n",
        "                          <div id=\"73469e67-6ee0-4259-9fe3-20c215a7a14b\" style=\"background-color:blue; width:0%\">&nbsp;</div>\n",
        "                          </div>\n",
        "                          "
       ],
       "metadata": {},
       "output_type": "display_data",
       "text": [
        "<IPython.core.display.HTML at 0x90edc90>"
       ]
      },
      {
       "javascript": [
        "$('div#73469e67-6ee0-4259-9fe3-20c215a7a14b').width('33.333333%')"
       ],
       "metadata": {},
       "output_type": "display_data",
       "text": [
        "<IPython.core.display.Javascript at 0x90f6350>"
       ]
      },
      {
       "javascript": [
        "$('div#73469e67-6ee0-4259-9fe3-20c215a7a14b').width('66.666667%')"
       ],
       "metadata": {},
       "output_type": "display_data",
       "text": [
        "<IPython.core.display.Javascript at 0x90f6750>"
       ]
      },
      {
       "javascript": [
        "$('div#73469e67-6ee0-4259-9fe3-20c215a7a14b').width('100.000000%')"
       ],
       "metadata": {},
       "output_type": "display_data",
       "text": [
        "<IPython.core.display.Javascript at 0x90f60d0>"
       ]
      },
      {
       "output_type": "stream",
       "stream": "stdout",
       "text": [
        "Running mapper & aggregator on the result objects (number of results=300, chunk size=100)\n"
       ]
      },
      {
       "html": [
        "\n",
        "                          <div style=\"border: 1px solid black; width:500px\">\n",
        "                          <div id=\"927f2568-abba-4a5d-8800-def34f4ee92a\" style=\"background-color:blue; width:0%\">&nbsp;</div>\n",
        "                          </div>\n",
        "                          "
       ],
       "metadata": {},
       "output_type": "display_data",
       "text": [
        "<IPython.core.display.HTML at 0x90f6e10>"
       ]
      },
      {
       "javascript": [
        "$('div#927f2568-abba-4a5d-8800-def34f4ee92a').width('33.333333%')"
       ],
       "metadata": {},
       "output_type": "display_data",
       "text": [
        "<IPython.core.display.Javascript at 0x90f6bd0>"
       ]
      },
      {
       "javascript": [
        "$('div#927f2568-abba-4a5d-8800-def34f4ee92a').width('66.666667%')"
       ],
       "metadata": {},
       "output_type": "display_data",
       "text": [
        "<IPython.core.display.Javascript at 0x90f6f10>"
       ]
      },
      {
       "javascript": [
        "$('div#927f2568-abba-4a5d-8800-def34f4ee92a').width('100.000000%')"
       ],
       "metadata": {},
       "output_type": "display_data",
       "text": [
        "<IPython.core.display.Javascript at 0x90f6fd0>"
       ]
      },
      {
       "output_type": "stream",
       "stream": "stdout",
       "text": [
        "Running reducer on mapped and aggregated results (size=3)\n",
        "Number of engines: 3\n",
        "\tPhase1, wall_time: 843.858171\n",
        "\tPhase2, wall_time: 176.683970\n",
        "Generating 600 realizations of the model (chunk size=100)"
       ]
      },
      {
       "output_type": "stream",
       "stream": "stdout",
       "text": [
        "\n"
       ]
      },
      {
       "html": [
        "\n",
        "                          <div style=\"border: 1px solid black; width:500px\">\n",
        "                          <div id=\"90bb2e38-217e-4861-9fa1-d0386827a2ff\" style=\"background-color:blue; width:0%\">&nbsp;</div>\n",
        "                          </div>\n",
        "                          "
       ],
       "metadata": {},
       "output_type": "display_data",
       "text": [
        "<IPython.core.display.HTML at 0x90ed710>"
       ]
      },
      {
       "javascript": [
        "$('div#90bb2e38-217e-4861-9fa1-d0386827a2ff').width('16.666667%')"
       ],
       "metadata": {},
       "output_type": "display_data",
       "text": [
        "<IPython.core.display.Javascript at 0x90f6d90>"
       ]
      },
      {
       "javascript": [
        "$('div#90bb2e38-217e-4861-9fa1-d0386827a2ff').width('33.333333%')"
       ],
       "metadata": {},
       "output_type": "display_data",
       "text": [
        "<IPython.core.display.Javascript at 0x90f6510>"
       ]
      },
      {
       "javascript": [
        "$('div#90bb2e38-217e-4861-9fa1-d0386827a2ff').width('50.000000%')"
       ],
       "metadata": {},
       "output_type": "display_data",
       "text": [
        "<IPython.core.display.Javascript at 0x90f6f90>"
       ]
      },
      {
       "javascript": [
        "$('div#90bb2e38-217e-4861-9fa1-d0386827a2ff').width('66.666667%')"
       ],
       "metadata": {},
       "output_type": "display_data",
       "text": [
        "<IPython.core.display.Javascript at 0x90f6e10>"
       ]
      },
      {
       "javascript": [
        "$('div#90bb2e38-217e-4861-9fa1-d0386827a2ff').width('83.333333%')"
       ],
       "metadata": {},
       "output_type": "display_data",
       "text": [
        "<IPython.core.display.Javascript at 0x90f6350>"
       ]
      },
      {
       "javascript": [
        "$('div#90bb2e38-217e-4861-9fa1-d0386827a2ff').width('100.000000%')"
       ],
       "metadata": {},
       "output_type": "display_data",
       "text": [
        "<IPython.core.display.Javascript at 0x90f6390>"
       ]
      },
      {
       "output_type": "stream",
       "stream": "stdout",
       "text": [
        "Running mapper & aggregator on the result objects (number of results=600, chunk size=100)\n"
       ]
      },
      {
       "html": [
        "\n",
        "                          <div style=\"border: 1px solid black; width:500px\">\n",
        "                          <div id=\"dc2bc98d-1dc6-4930-97db-4e329c0e4df8\" style=\"background-color:blue; width:0%\">&nbsp;</div>\n",
        "                          </div>\n",
        "                          "
       ],
       "metadata": {},
       "output_type": "display_data",
       "text": [
        "<IPython.core.display.HTML at 0x90f6250>"
       ]
      },
      {
       "javascript": [
        "$('div#dc2bc98d-1dc6-4930-97db-4e329c0e4df8').width('16.666667%')"
       ],
       "metadata": {},
       "output_type": "display_data",
       "text": [
        "<IPython.core.display.Javascript at 0x90f6910>"
       ]
      },
      {
       "javascript": [
        "$('div#dc2bc98d-1dc6-4930-97db-4e329c0e4df8').width('33.333333%')"
       ],
       "metadata": {},
       "output_type": "display_data",
       "text": [
        "<IPython.core.display.Javascript at 0x90f6c50>"
       ]
      },
      {
       "javascript": [
        "$('div#dc2bc98d-1dc6-4930-97db-4e329c0e4df8').width('50.000000%')"
       ],
       "metadata": {},
       "output_type": "display_data",
       "text": [
        "<IPython.core.display.Javascript at 0x90f6f10>"
       ]
      },
      {
       "javascript": [
        "$('div#dc2bc98d-1dc6-4930-97db-4e329c0e4df8').width('66.666667%')"
       ],
       "metadata": {},
       "output_type": "display_data",
       "text": [
        "<IPython.core.display.Javascript at 0x90f6e50>"
       ]
      },
      {
       "javascript": [
        "$('div#dc2bc98d-1dc6-4930-97db-4e329c0e4df8').width('83.333333%')"
       ],
       "metadata": {},
       "output_type": "display_data",
       "text": [
        "<IPython.core.display.Javascript at 0x90f6710>"
       ]
      },
      {
       "javascript": [
        "$('div#dc2bc98d-1dc6-4930-97db-4e329c0e4df8').width('100.000000%')"
       ],
       "metadata": {},
       "output_type": "display_data",
       "text": [
        "<IPython.core.display.Javascript at 0x90f6150>"
       ]
      },
      {
       "output_type": "stream",
       "stream": "stdout",
       "text": [
        "Running reducer on mapped and aggregated results (size=6)\n",
        "Number of engines: 6\n",
        "\tPhase1, wall_time: 1480.690241\n",
        "\tPhase2, wall_time: 221.874367\n",
        "Generating 1200 realizations of the model (chunk size=100)\n"
       ]
      },
      {
       "html": [
        "\n",
        "                          <div style=\"border: 1px solid black; width:500px\">\n",
        "                          <div id=\"5c8a6801-b01a-4443-8a3d-90f444363c6e\" style=\"background-color:blue; width:0%\">&nbsp;</div>\n",
        "                          </div>\n",
        "                          "
       ],
       "metadata": {},
       "output_type": "display_data",
       "text": [
        "<IPython.core.display.HTML at 0x90edc90>"
       ]
      },
      {
       "javascript": [
        "$('div#5c8a6801-b01a-4443-8a3d-90f444363c6e').width('8.333333%')"
       ],
       "metadata": {},
       "output_type": "display_data",
       "text": [
        "<IPython.core.display.Javascript at 0x90f6d10>"
       ]
      },
      {
       "javascript": [
        "$('div#5c8a6801-b01a-4443-8a3d-90f444363c6e').width('16.666667%')"
       ],
       "metadata": {},
       "output_type": "display_data",
       "text": [
        "<IPython.core.display.Javascript at 0x90f60d0>"
       ]
      },
      {
       "javascript": [
        "$('div#5c8a6801-b01a-4443-8a3d-90f444363c6e').width('25.000000%')"
       ],
       "metadata": {},
       "output_type": "display_data",
       "text": [
        "<IPython.core.display.Javascript at 0x90f6710>"
       ]
      },
      {
       "javascript": [
        "$('div#5c8a6801-b01a-4443-8a3d-90f444363c6e').width('33.333333%')"
       ],
       "metadata": {},
       "output_type": "display_data",
       "text": [
        "<IPython.core.display.Javascript at 0x90f6e50>"
       ]
      },
      {
       "javascript": [
        "$('div#5c8a6801-b01a-4443-8a3d-90f444363c6e').width('41.666667%')"
       ],
       "metadata": {},
       "output_type": "display_data",
       "text": [
        "<IPython.core.display.Javascript at 0x90f6f10>"
       ]
      },
      {
       "javascript": [
        "$('div#5c8a6801-b01a-4443-8a3d-90f444363c6e').width('50.000000%')"
       ],
       "metadata": {},
       "output_type": "display_data",
       "text": [
        "<IPython.core.display.Javascript at 0x90f6250>"
       ]
      },
      {
       "javascript": [
        "$('div#5c8a6801-b01a-4443-8a3d-90f444363c6e').width('58.333333%')"
       ],
       "metadata": {},
       "output_type": "display_data",
       "text": [
        "<IPython.core.display.Javascript at 0x90f6390>"
       ]
      },
      {
       "javascript": [
        "$('div#5c8a6801-b01a-4443-8a3d-90f444363c6e').width('66.666667%')"
       ],
       "metadata": {},
       "output_type": "display_data",
       "text": [
        "<IPython.core.display.Javascript at 0x90f6e10>"
       ]
      },
      {
       "javascript": [
        "$('div#5c8a6801-b01a-4443-8a3d-90f444363c6e').width('75.000000%')"
       ],
       "metadata": {},
       "output_type": "display_data",
       "text": [
        "<IPython.core.display.Javascript at 0x90f6f90>"
       ]
      },
      {
       "javascript": [
        "$('div#5c8a6801-b01a-4443-8a3d-90f444363c6e').width('83.333333%')"
       ],
       "metadata": {},
       "output_type": "display_data",
       "text": [
        "<IPython.core.display.Javascript at 0x90f6510>"
       ]
      },
      {
       "javascript": [
        "$('div#5c8a6801-b01a-4443-8a3d-90f444363c6e').width('91.666667%')"
       ],
       "metadata": {},
       "output_type": "display_data",
       "text": [
        "<IPython.core.display.Javascript at 0x90f6d90>"
       ]
      },
      {
       "javascript": [
        "$('div#5c8a6801-b01a-4443-8a3d-90f444363c6e').width('100.000000%')"
       ],
       "metadata": {},
       "output_type": "display_data",
       "text": [
        "<IPython.core.display.Javascript at 0x90f63d0>"
       ]
      },
      {
       "output_type": "stream",
       "stream": "stdout",
       "text": [
        "Running mapper & aggregator on the result objects (number of results=1200, chunk size=100)\n"
       ]
      },
      {
       "html": [
        "\n",
        "                          <div style=\"border: 1px solid black; width:500px\">\n",
        "                          <div id=\"9564b6bb-4745-42be-8f7a-fe59e8f0dd93\" style=\"background-color:blue; width:0%\">&nbsp;</div>\n",
        "                          </div>\n",
        "                          "
       ],
       "metadata": {},
       "output_type": "display_data",
       "text": [
        "<IPython.core.display.HTML at 0x90f6210>"
       ]
      },
      {
       "javascript": [
        "$('div#9564b6bb-4745-42be-8f7a-fe59e8f0dd93').width('8.333333%')"
       ],
       "metadata": {},
       "output_type": "display_data",
       "text": [
        "<IPython.core.display.Javascript at 0x90f6350>"
       ]
      },
      {
       "javascript": [
        "$('div#9564b6bb-4745-42be-8f7a-fe59e8f0dd93').width('16.666667%')"
       ],
       "metadata": {},
       "output_type": "display_data",
       "text": [
        "<IPython.core.display.Javascript at 0x90f6950>"
       ]
      },
      {
       "javascript": [
        "$('div#9564b6bb-4745-42be-8f7a-fe59e8f0dd93').width('25.000000%')"
       ],
       "metadata": {},
       "output_type": "display_data",
       "text": [
        "<IPython.core.display.Javascript at 0x90f6910>"
       ]
      },
      {
       "javascript": [
        "$('div#9564b6bb-4745-42be-8f7a-fe59e8f0dd93').width('33.333333%')"
       ],
       "metadata": {},
       "output_type": "display_data",
       "text": [
        "<IPython.core.display.Javascript at 0x90f6f50>"
       ]
      },
      {
       "javascript": [
        "$('div#9564b6bb-4745-42be-8f7a-fe59e8f0dd93').width('41.666667%')"
       ],
       "metadata": {},
       "output_type": "display_data",
       "text": [
        "<IPython.core.display.Javascript at 0x90f6550>"
       ]
      },
      {
       "javascript": [
        "$('div#9564b6bb-4745-42be-8f7a-fe59e8f0dd93').width('50.000000%')"
       ],
       "metadata": {},
       "output_type": "display_data",
       "text": [
        "<IPython.core.display.Javascript at 0x90f6310>"
       ]
      },
      {
       "javascript": [
        "$('div#9564b6bb-4745-42be-8f7a-fe59e8f0dd93').width('58.333333%')"
       ],
       "metadata": {},
       "output_type": "display_data",
       "text": [
        "<IPython.core.display.Javascript at 0x90f67d0>"
       ]
      },
      {
       "javascript": [
        "$('div#9564b6bb-4745-42be-8f7a-fe59e8f0dd93').width('66.666667%')"
       ],
       "metadata": {},
       "output_type": "display_data",
       "text": [
        "<IPython.core.display.Javascript at 0x90f66d0>"
       ]
      },
      {
       "javascript": [
        "$('div#9564b6bb-4745-42be-8f7a-fe59e8f0dd93').width('75.000000%')"
       ],
       "metadata": {},
       "output_type": "display_data",
       "text": [
        "<IPython.core.display.Javascript at 0x90f6850>"
       ]
      },
      {
       "javascript": [
        "$('div#9564b6bb-4745-42be-8f7a-fe59e8f0dd93').width('83.333333%')"
       ],
       "metadata": {},
       "output_type": "display_data",
       "text": [
        "<IPython.core.display.Javascript at 0x90f6410>"
       ]
      },
      {
       "javascript": [
        "$('div#9564b6bb-4745-42be-8f7a-fe59e8f0dd93').width('91.666667%')"
       ],
       "metadata": {},
       "output_type": "display_data",
       "text": [
        "<IPython.core.display.Javascript at 0x90f6290>"
       ]
      },
      {
       "javascript": [
        "$('div#9564b6bb-4745-42be-8f7a-fe59e8f0dd93').width('100.000000%')"
       ],
       "metadata": {},
       "output_type": "display_data",
       "text": [
        "<IPython.core.display.Javascript at 0x90f9fd0>"
       ]
      },
      {
       "output_type": "stream",
       "stream": "stdout",
       "text": [
        "Running reducer on mapped and aggregated results (size=12)\n",
        "Number of engines: 12\n",
        "\tPhase1, wall_time: 2531.417186\n",
        "\tPhase2, wall_time: 430.246002\n",
        "Generating 2400 realizations of the model (chunk size=100)\n"
       ]
      },
      {
       "html": [
        "\n",
        "                          <div style=\"border: 1px solid black; width:500px\">\n",
        "                          <div id=\"886f54f3-101c-4819-9ccf-f69e31f1fcfa\" style=\"background-color:blue; width:0%\">&nbsp;</div>\n",
        "                          </div>\n",
        "                          "
       ],
       "metadata": {},
       "output_type": "display_data",
       "text": [
        "<IPython.core.display.HTML at 0x90f6ed0>"
       ]
      },
      {
       "javascript": [
        "$('div#886f54f3-101c-4819-9ccf-f69e31f1fcfa').width('4.166667%')"
       ],
       "metadata": {},
       "output_type": "display_data",
       "text": [
        "<IPython.core.display.Javascript at 0x90f6550>"
       ]
      },
      {
       "javascript": [
        "$('div#886f54f3-101c-4819-9ccf-f69e31f1fcfa').width('8.333333%')"
       ],
       "metadata": {},
       "output_type": "display_data",
       "text": [
        "<IPython.core.display.Javascript at 0x90f6290>"
       ]
      },
      {
       "javascript": [
        "$('div#886f54f3-101c-4819-9ccf-f69e31f1fcfa').width('12.500000%')"
       ],
       "metadata": {},
       "output_type": "display_data",
       "text": [
        "<IPython.core.display.Javascript at 0x90f6950>"
       ]
      },
      {
       "javascript": [
        "$('div#886f54f3-101c-4819-9ccf-f69e31f1fcfa').width('16.666667%')"
       ],
       "metadata": {},
       "output_type": "display_data",
       "text": [
        "<IPython.core.display.Javascript at 0x90f6f50>"
       ]
      },
      {
       "javascript": [
        "$('div#886f54f3-101c-4819-9ccf-f69e31f1fcfa').width('20.833333%')"
       ],
       "metadata": {},
       "output_type": "display_data",
       "text": [
        "<IPython.core.display.Javascript at 0x90f6350>"
       ]
      },
      {
       "javascript": [
        "$('div#886f54f3-101c-4819-9ccf-f69e31f1fcfa').width('25.000000%')"
       ],
       "metadata": {},
       "output_type": "display_data",
       "text": [
        "<IPython.core.display.Javascript at 0x90f6210>"
       ]
      },
      {
       "javascript": [
        "$('div#886f54f3-101c-4819-9ccf-f69e31f1fcfa').width('29.166667%')"
       ],
       "metadata": {},
       "output_type": "display_data",
       "text": [
        "<IPython.core.display.Javascript at 0x90f63d0>"
       ]
      },
      {
       "javascript": [
        "$('div#886f54f3-101c-4819-9ccf-f69e31f1fcfa').width('33.333333%')"
       ],
       "metadata": {},
       "output_type": "display_data",
       "text": [
        "<IPython.core.display.Javascript at 0x90f6510>"
       ]
      },
      {
       "javascript": [
        "$('div#886f54f3-101c-4819-9ccf-f69e31f1fcfa').width('37.500000%')"
       ],
       "metadata": {},
       "output_type": "display_data",
       "text": [
        "<IPython.core.display.Javascript at 0x90f6f90>"
       ]
      },
      {
       "javascript": [
        "$('div#886f54f3-101c-4819-9ccf-f69e31f1fcfa').width('41.666667%')"
       ],
       "metadata": {},
       "output_type": "display_data",
       "text": [
        "<IPython.core.display.Javascript at 0x90f6e10>"
       ]
      },
      {
       "javascript": [
        "$('div#886f54f3-101c-4819-9ccf-f69e31f1fcfa').width('45.833333%')"
       ],
       "metadata": {},
       "output_type": "display_data",
       "text": [
        "<IPython.core.display.Javascript at 0x90f6390>"
       ]
      },
      {
       "javascript": [
        "$('div#886f54f3-101c-4819-9ccf-f69e31f1fcfa').width('50.000000%')"
       ],
       "metadata": {},
       "output_type": "display_data",
       "text": [
        "<IPython.core.display.Javascript at 0x90f6250>"
       ]
      },
      {
       "javascript": [
        "$('div#886f54f3-101c-4819-9ccf-f69e31f1fcfa').width('54.166667%')"
       ],
       "metadata": {},
       "output_type": "display_data",
       "text": [
        "<IPython.core.display.Javascript at 0x90f6f10>"
       ]
      },
      {
       "javascript": [
        "$('div#886f54f3-101c-4819-9ccf-f69e31f1fcfa').width('58.333333%')"
       ],
       "metadata": {},
       "output_type": "display_data",
       "text": [
        "<IPython.core.display.Javascript at 0x90f6e50>"
       ]
      },
      {
       "javascript": [
        "$('div#886f54f3-101c-4819-9ccf-f69e31f1fcfa').width('62.500000%')"
       ],
       "metadata": {},
       "output_type": "display_data",
       "text": [
        "<IPython.core.display.Javascript at 0x90f6710>"
       ]
      },
      {
       "javascript": [
        "$('div#886f54f3-101c-4819-9ccf-f69e31f1fcfa').width('66.666667%')"
       ],
       "metadata": {},
       "output_type": "display_data",
       "text": [
        "<IPython.core.display.Javascript at 0x90f60d0>"
       ]
      },
      {
       "javascript": [
        "$('div#886f54f3-101c-4819-9ccf-f69e31f1fcfa').width('70.833333%')"
       ],
       "metadata": {},
       "output_type": "display_data",
       "text": [
        "<IPython.core.display.Javascript at 0x90f6d90>"
       ]
      },
      {
       "javascript": [
        "$('div#886f54f3-101c-4819-9ccf-f69e31f1fcfa').width('75.000000%')"
       ],
       "metadata": {},
       "output_type": "display_data",
       "text": [
        "<IPython.core.display.Javascript at 0x90f6d10>"
       ]
      },
      {
       "javascript": [
        "$('div#886f54f3-101c-4819-9ccf-f69e31f1fcfa').width('79.166667%')"
       ],
       "metadata": {},
       "output_type": "display_data",
       "text": [
        "<IPython.core.display.Javascript at 0x90ed710>"
       ]
      },
      {
       "javascript": [
        "$('div#886f54f3-101c-4819-9ccf-f69e31f1fcfa').width('83.333333%')"
       ],
       "metadata": {},
       "output_type": "display_data",
       "text": [
        "<IPython.core.display.Javascript at 0x90edc90>"
       ]
      },
      {
       "javascript": [
        "$('div#886f54f3-101c-4819-9ccf-f69e31f1fcfa').width('87.500000%')"
       ],
       "metadata": {},
       "output_type": "display_data",
       "text": [
        "<IPython.core.display.Javascript at 0x90f93d0>"
       ]
      },
      {
       "javascript": [
        "$('div#886f54f3-101c-4819-9ccf-f69e31f1fcfa').width('91.666667%')"
       ],
       "metadata": {},
       "output_type": "display_data",
       "text": [
        "<IPython.core.display.Javascript at 0x90f9dd0>"
       ]
      },
      {
       "javascript": [
        "$('div#886f54f3-101c-4819-9ccf-f69e31f1fcfa').width('95.833333%')"
       ],
       "metadata": {},
       "output_type": "display_data",
       "text": [
        "<IPython.core.display.Javascript at 0x90f91d0>"
       ]
      },
      {
       "javascript": [
        "$('div#886f54f3-101c-4819-9ccf-f69e31f1fcfa').width('100.000000%')"
       ],
       "metadata": {},
       "output_type": "display_data",
       "text": [
        "<IPython.core.display.Javascript at 0x90f9fd0>"
       ]
      },
      {
       "output_type": "stream",
       "stream": "stdout",
       "text": [
        "Running mapper & aggregator on the result objects (number of results=2400, chunk size=100)\n"
       ]
      },
      {
       "html": [
        "\n",
        "                          <div style=\"border: 1px solid black; width:500px\">\n",
        "                          <div id=\"a7729bbe-9e54-419d-a5b4-615e798632f1\" style=\"background-color:blue; width:0%\">&nbsp;</div>\n",
        "                          </div>\n",
        "                          "
       ],
       "metadata": {},
       "output_type": "display_data",
       "text": [
        "<IPython.core.display.HTML at 0x90f66d0>"
       ]
      },
      {
       "javascript": [
        "$('div#a7729bbe-9e54-419d-a5b4-615e798632f1').width('4.166667%')"
       ],
       "metadata": {},
       "output_type": "display_data",
       "text": [
        "<IPython.core.display.Javascript at 0x90f6d10>"
       ]
      },
      {
       "javascript": [
        "$('div#a7729bbe-9e54-419d-a5b4-615e798632f1').width('8.333333%')"
       ],
       "metadata": {},
       "output_type": "display_data",
       "text": [
        "<IPython.core.display.Javascript at 0x90f6250>"
       ]
      },
      {
       "javascript": [
        "$('div#a7729bbe-9e54-419d-a5b4-615e798632f1').width('12.500000%')"
       ],
       "metadata": {},
       "output_type": "display_data",
       "text": [
        "<IPython.core.display.Javascript at 0x90f6d90>"
       ]
      },
      {
       "javascript": [
        "$('div#a7729bbe-9e54-419d-a5b4-615e798632f1').width('16.666667%')"
       ],
       "metadata": {},
       "output_type": "display_data",
       "text": [
        "<IPython.core.display.Javascript at 0x90f6910>"
       ]
      },
      {
       "javascript": [
        "$('div#a7729bbe-9e54-419d-a5b4-615e798632f1').width('20.833333%')"
       ],
       "metadata": {},
       "output_type": "display_data",
       "text": [
        "<IPython.core.display.Javascript at 0x90f6e50>"
       ]
      },
      {
       "javascript": [
        "$('div#a7729bbe-9e54-419d-a5b4-615e798632f1').width('25.000000%')"
       ],
       "metadata": {},
       "output_type": "display_data",
       "text": [
        "<IPython.core.display.Javascript at 0x90f6f10>"
       ]
      },
      {
       "javascript": [
        "$('div#a7729bbe-9e54-419d-a5b4-615e798632f1').width('29.166667%')"
       ],
       "metadata": {},
       "output_type": "display_data",
       "text": [
        "<IPython.core.display.Javascript at 0x90f6390>"
       ]
      },
      {
       "javascript": [
        "$('div#a7729bbe-9e54-419d-a5b4-615e798632f1').width('33.333333%')"
       ],
       "metadata": {},
       "output_type": "display_data",
       "text": [
        "<IPython.core.display.Javascript at 0x90f6e10>"
       ]
      },
      {
       "javascript": [
        "$('div#a7729bbe-9e54-419d-a5b4-615e798632f1').width('37.500000%')"
       ],
       "metadata": {},
       "output_type": "display_data",
       "text": [
        "<IPython.core.display.Javascript at 0x90f6f90>"
       ]
      },
      {
       "javascript": [
        "$('div#a7729bbe-9e54-419d-a5b4-615e798632f1').width('41.666667%')"
       ],
       "metadata": {},
       "output_type": "display_data",
       "text": [
        "<IPython.core.display.Javascript at 0x90f6510>"
       ]
      },
      {
       "javascript": [
        "$('div#a7729bbe-9e54-419d-a5b4-615e798632f1').width('45.833333%')"
       ],
       "metadata": {},
       "output_type": "display_data",
       "text": [
        "<IPython.core.display.Javascript at 0x90f63d0>"
       ]
      },
      {
       "javascript": [
        "$('div#a7729bbe-9e54-419d-a5b4-615e798632f1').width('50.000000%')"
       ],
       "metadata": {},
       "output_type": "display_data",
       "text": [
        "<IPython.core.display.Javascript at 0x90f6210>"
       ]
      },
      {
       "javascript": [
        "$('div#a7729bbe-9e54-419d-a5b4-615e798632f1').width('54.166667%')"
       ],
       "metadata": {},
       "output_type": "display_data",
       "text": [
        "<IPython.core.display.Javascript at 0x90f6710>"
       ]
      },
      {
       "javascript": [
        "$('div#a7729bbe-9e54-419d-a5b4-615e798632f1').width('58.333333%')"
       ],
       "metadata": {},
       "output_type": "display_data",
       "text": [
        "<IPython.core.display.Javascript at 0x90f6350>"
       ]
      },
      {
       "javascript": [
        "$('div#a7729bbe-9e54-419d-a5b4-615e798632f1').width('62.500000%')"
       ],
       "metadata": {},
       "output_type": "display_data",
       "text": [
        "<IPython.core.display.Javascript at 0x90f6950>"
       ]
      },
      {
       "javascript": [
        "$('div#a7729bbe-9e54-419d-a5b4-615e798632f1').width('66.666667%')"
       ],
       "metadata": {},
       "output_type": "display_data",
       "text": [
        "<IPython.core.display.Javascript at 0x90f6290>"
       ]
      },
      {
       "javascript": [
        "$('div#a7729bbe-9e54-419d-a5b4-615e798632f1').width('70.833333%')"
       ],
       "metadata": {},
       "output_type": "display_data",
       "text": [
        "<IPython.core.display.Javascript at 0x90f6550>"
       ]
      },
      {
       "javascript": [
        "$('div#a7729bbe-9e54-419d-a5b4-615e798632f1').width('75.000000%')"
       ],
       "metadata": {},
       "output_type": "display_data",
       "text": [
        "<IPython.core.display.Javascript at 0x90f60d0>"
       ]
      },
      {
       "javascript": [
        "$('div#a7729bbe-9e54-419d-a5b4-615e798632f1').width('79.166667%')"
       ],
       "metadata": {},
       "output_type": "display_data",
       "text": [
        "<IPython.core.display.Javascript at 0x90f6ed0>"
       ]
      },
      {
       "javascript": [
        "$('div#a7729bbe-9e54-419d-a5b4-615e798632f1').width('83.333333%')"
       ],
       "metadata": {},
       "output_type": "display_data",
       "text": [
        "<IPython.core.display.Javascript at 0x90f90d0>"
       ]
      },
      {
       "javascript": [
        "$('div#a7729bbe-9e54-419d-a5b4-615e798632f1').width('87.500000%')"
       ],
       "metadata": {},
       "output_type": "display_data",
       "text": [
        "<IPython.core.display.Javascript at 0x90f9590>"
       ]
      },
      {
       "javascript": [
        "$('div#a7729bbe-9e54-419d-a5b4-615e798632f1').width('91.666667%')"
       ],
       "metadata": {},
       "output_type": "display_data",
       "text": [
        "<IPython.core.display.Javascript at 0x90f92d0>"
       ]
      },
      {
       "javascript": [
        "$('div#a7729bbe-9e54-419d-a5b4-615e798632f1').width('95.833333%')"
       ],
       "metadata": {},
       "output_type": "display_data",
       "text": [
        "<IPython.core.display.Javascript at 0x90f9fd0>"
       ]
      },
      {
       "javascript": [
        "$('div#a7729bbe-9e54-419d-a5b4-615e798632f1').width('100.000000%')"
       ],
       "metadata": {},
       "output_type": "display_data",
       "text": [
        "<IPython.core.display.Javascript at 0x90f91d0>"
       ]
      },
      {
       "output_type": "stream",
       "stream": "stdout",
       "text": [
        "Running reducer on mapped and aggregated results (size=24)\n",
        "Number of engines: 24\n",
        "\tPhase1, wall_time: 3480.651920\n",
        "\tPhase2, wall_time: 586.586979\n",
        "Generating 4800 realizations of the model (chunk size=100)"
       ]
      },
      {
       "output_type": "stream",
       "stream": "stdout",
       "text": [
        "\n"
       ]
      },
      {
       "html": [
        "\n",
        "                          <div style=\"border: 1px solid black; width:500px\">\n",
        "                          <div id=\"2bf6af6e-f06c-4d8d-8326-7f81fff0175a\" style=\"background-color:blue; width:0%\">&nbsp;</div>\n",
        "                          </div>\n",
        "                          "
       ],
       "metadata": {},
       "output_type": "display_data",
       "text": [
        "<IPython.core.display.HTML at 0x90f6410>"
       ]
      },
      {
       "javascript": [
        "$('div#2bf6af6e-f06c-4d8d-8326-7f81fff0175a').width('2.083333%')"
       ],
       "metadata": {},
       "output_type": "display_data",
       "text": [
        "<IPython.core.display.Javascript at 0x90f6290>"
       ]
      },
      {
       "javascript": [
        "$('div#2bf6af6e-f06c-4d8d-8326-7f81fff0175a').width('4.166667%')"
       ],
       "metadata": {},
       "output_type": "display_data",
       "text": [
        "<IPython.core.display.Javascript at 0x90f6950>"
       ]
      },
      {
       "javascript": [
        "$('div#2bf6af6e-f06c-4d8d-8326-7f81fff0175a').width('6.250000%')"
       ],
       "metadata": {},
       "output_type": "display_data",
       "text": [
        "<IPython.core.display.Javascript at 0x90f6f90>"
       ]
      },
      {
       "javascript": [
        "$('div#2bf6af6e-f06c-4d8d-8326-7f81fff0175a').width('8.333333%')"
       ],
       "metadata": {},
       "output_type": "display_data",
       "text": [
        "<IPython.core.display.Javascript at 0x90f6210>"
       ]
      },
      {
       "javascript": [
        "$('div#2bf6af6e-f06c-4d8d-8326-7f81fff0175a').width('10.416667%')"
       ],
       "metadata": {},
       "output_type": "display_data",
       "text": [
        "<IPython.core.display.Javascript at 0x90f63d0>"
       ]
      },
      {
       "javascript": [
        "$('div#2bf6af6e-f06c-4d8d-8326-7f81fff0175a').width('12.500000%')"
       ],
       "metadata": {},
       "output_type": "display_data",
       "text": [
        "<IPython.core.display.Javascript at 0x90f6510>"
       ]
      },
      {
       "javascript": [
        "$('div#2bf6af6e-f06c-4d8d-8326-7f81fff0175a').width('14.583333%')"
       ],
       "metadata": {},
       "output_type": "display_data",
       "text": [
        "<IPython.core.display.Javascript at 0x90f6e10>"
       ]
      },
      {
       "javascript": [
        "$('div#2bf6af6e-f06c-4d8d-8326-7f81fff0175a').width('16.666667%')"
       ],
       "metadata": {},
       "output_type": "display_data",
       "text": [
        "<IPython.core.display.Javascript at 0x90f6390>"
       ]
      },
      {
       "javascript": [
        "$('div#2bf6af6e-f06c-4d8d-8326-7f81fff0175a').width('18.750000%')"
       ],
       "metadata": {},
       "output_type": "display_data",
       "text": [
        "<IPython.core.display.Javascript at 0x90f6f10>"
       ]
      },
      {
       "javascript": [
        "$('div#2bf6af6e-f06c-4d8d-8326-7f81fff0175a').width('20.833333%')"
       ],
       "metadata": {},
       "output_type": "display_data",
       "text": [
        "<IPython.core.display.Javascript at 0x90f6e50>"
       ]
      },
      {
       "javascript": [
        "$('div#2bf6af6e-f06c-4d8d-8326-7f81fff0175a').width('22.916667%')"
       ],
       "metadata": {},
       "output_type": "display_data",
       "text": [
        "<IPython.core.display.Javascript at 0x90f6910>"
       ]
      },
      {
       "javascript": [
        "$('div#2bf6af6e-f06c-4d8d-8326-7f81fff0175a').width('25.000000%')"
       ],
       "metadata": {},
       "output_type": "display_data",
       "text": [
        "<IPython.core.display.Javascript at 0x90f6d90>"
       ]
      },
      {
       "javascript": [
        "$('div#2bf6af6e-f06c-4d8d-8326-7f81fff0175a').width('27.083333%')"
       ],
       "metadata": {},
       "output_type": "display_data",
       "text": [
        "<IPython.core.display.Javascript at 0x90f6250>"
       ]
      },
      {
       "javascript": [
        "$('div#2bf6af6e-f06c-4d8d-8326-7f81fff0175a').width('29.166667%')"
       ],
       "metadata": {},
       "output_type": "display_data",
       "text": [
        "<IPython.core.display.Javascript at 0x90f6d10>"
       ]
      },
      {
       "javascript": [
        "$('div#2bf6af6e-f06c-4d8d-8326-7f81fff0175a').width('31.250000%')"
       ],
       "metadata": {},
       "output_type": "display_data",
       "text": [
        "<IPython.core.display.Javascript at 0x90f6710>"
       ]
      },
      {
       "javascript": [
        "$('div#2bf6af6e-f06c-4d8d-8326-7f81fff0175a').width('33.333333%')"
       ],
       "metadata": {},
       "output_type": "display_data",
       "text": [
        "<IPython.core.display.Javascript at 0x90f66d0>"
       ]
      },
      {
       "javascript": [
        "$('div#2bf6af6e-f06c-4d8d-8326-7f81fff0175a').width('35.416667%')"
       ],
       "metadata": {},
       "output_type": "display_data",
       "text": [
        "<IPython.core.display.Javascript at 0x90f9b50>"
       ]
      },
      {
       "javascript": [
        "$('div#2bf6af6e-f06c-4d8d-8326-7f81fff0175a').width('37.500000%')"
       ],
       "metadata": {},
       "output_type": "display_data",
       "text": [
        "<IPython.core.display.Javascript at 0x90f9890>"
       ]
      },
      {
       "javascript": [
        "$('div#2bf6af6e-f06c-4d8d-8326-7f81fff0175a').width('39.583333%')"
       ],
       "metadata": {},
       "output_type": "display_data",
       "text": [
        "<IPython.core.display.Javascript at 0x90f95d0>"
       ]
      },
      {
       "javascript": [
        "$('div#2bf6af6e-f06c-4d8d-8326-7f81fff0175a').width('41.666667%')"
       ],
       "metadata": {},
       "output_type": "display_data",
       "text": [
        "<IPython.core.display.Javascript at 0x90f9050>"
       ]
      },
      {
       "javascript": [
        "$('div#2bf6af6e-f06c-4d8d-8326-7f81fff0175a').width('43.750000%')"
       ],
       "metadata": {},
       "output_type": "display_data",
       "text": [
        "<IPython.core.display.Javascript at 0x90f9610>"
       ]
      },
      {
       "javascript": [
        "$('div#2bf6af6e-f06c-4d8d-8326-7f81fff0175a').width('45.833333%')"
       ],
       "metadata": {},
       "output_type": "display_data",
       "text": [
        "<IPython.core.display.Javascript at 0x90f9650>"
       ]
      },
      {
       "javascript": [
        "$('div#2bf6af6e-f06c-4d8d-8326-7f81fff0175a').width('47.916667%')"
       ],
       "metadata": {},
       "output_type": "display_data",
       "text": [
        "<IPython.core.display.Javascript at 0x90f9790>"
       ]
      },
      {
       "javascript": [
        "$('div#2bf6af6e-f06c-4d8d-8326-7f81fff0175a').width('50.000000%')"
       ],
       "metadata": {},
       "output_type": "display_data",
       "text": [
        "<IPython.core.display.Javascript at 0x90f9d10>"
       ]
      },
      {
       "javascript": [
        "$('div#2bf6af6e-f06c-4d8d-8326-7f81fff0175a').width('52.083333%')"
       ],
       "metadata": {},
       "output_type": "display_data",
       "text": [
        "<IPython.core.display.Javascript at 0x90f91d0>"
       ]
      },
      {
       "javascript": [
        "$('div#2bf6af6e-f06c-4d8d-8326-7f81fff0175a').width('54.166667%')"
       ],
       "metadata": {},
       "output_type": "display_data",
       "text": [
        "<IPython.core.display.Javascript at 0x90f9fd0>"
       ]
      },
      {
       "javascript": [
        "$('div#2bf6af6e-f06c-4d8d-8326-7f81fff0175a').width('56.250000%')"
       ],
       "metadata": {},
       "output_type": "display_data",
       "text": [
        "<IPython.core.display.Javascript at 0x90f92d0>"
       ]
      },
      {
       "javascript": [
        "$('div#2bf6af6e-f06c-4d8d-8326-7f81fff0175a').width('58.333333%')"
       ],
       "metadata": {},
       "output_type": "display_data",
       "text": [
        "<IPython.core.display.Javascript at 0x90f9590>"
       ]
      },
      {
       "javascript": [
        "$('div#2bf6af6e-f06c-4d8d-8326-7f81fff0175a').width('60.416667%')"
       ],
       "metadata": {},
       "output_type": "display_data",
       "text": [
        "<IPython.core.display.Javascript at 0x90f90d0>"
       ]
      },
      {
       "javascript": [
        "$('div#2bf6af6e-f06c-4d8d-8326-7f81fff0175a').width('62.500000%')"
       ],
       "metadata": {},
       "output_type": "display_data",
       "text": [
        "<IPython.core.display.Javascript at 0x90f9cd0>"
       ]
      },
      {
       "javascript": [
        "$('div#2bf6af6e-f06c-4d8d-8326-7f81fff0175a').width('64.583333%')"
       ],
       "metadata": {},
       "output_type": "display_data",
       "text": [
        "<IPython.core.display.Javascript at 0x90f9d50>"
       ]
      },
      {
       "javascript": [
        "$('div#2bf6af6e-f06c-4d8d-8326-7f81fff0175a').width('66.666667%')"
       ],
       "metadata": {},
       "output_type": "display_data",
       "text": [
        "<IPython.core.display.Javascript at 0x90f9c50>"
       ]
      },
      {
       "javascript": [
        "$('div#2bf6af6e-f06c-4d8d-8326-7f81fff0175a').width('68.750000%')"
       ],
       "metadata": {},
       "output_type": "display_data",
       "text": [
        "<IPython.core.display.Javascript at 0x90f9d90>"
       ]
      },
      {
       "javascript": [
        "$('div#2bf6af6e-f06c-4d8d-8326-7f81fff0175a').width('70.833333%')"
       ],
       "metadata": {},
       "output_type": "display_data",
       "text": [
        "<IPython.core.display.Javascript at 0x90f9ed0>"
       ]
      },
      {
       "javascript": [
        "$('div#2bf6af6e-f06c-4d8d-8326-7f81fff0175a').width('72.916667%')"
       ],
       "metadata": {},
       "output_type": "display_data",
       "text": [
        "<IPython.core.display.Javascript at 0x90f9f50>"
       ]
      },
      {
       "javascript": [
        "$('div#2bf6af6e-f06c-4d8d-8326-7f81fff0175a').width('75.000000%')"
       ],
       "metadata": {},
       "output_type": "display_data",
       "text": [
        "<IPython.core.display.Javascript at 0x90f9e10>"
       ]
      },
      {
       "javascript": [
        "$('div#2bf6af6e-f06c-4d8d-8326-7f81fff0175a').width('77.083333%')"
       ],
       "metadata": {},
       "output_type": "display_data",
       "text": [
        "<IPython.core.display.Javascript at 0x90f9f10>"
       ]
      },
      {
       "javascript": [
        "$('div#2bf6af6e-f06c-4d8d-8326-7f81fff0175a').width('79.166667%')"
       ],
       "metadata": {},
       "output_type": "display_data",
       "text": [
        "<IPython.core.display.Javascript at 0x90f9f90>"
       ]
      },
      {
       "javascript": [
        "$('div#2bf6af6e-f06c-4d8d-8326-7f81fff0175a').width('81.250000%')"
       ],
       "metadata": {},
       "output_type": "display_data",
       "text": [
        "<IPython.core.display.Javascript at 0x90f66d0>"
       ]
      },
      {
       "javascript": [
        "$('div#2bf6af6e-f06c-4d8d-8326-7f81fff0175a').width('83.333333%')"
       ],
       "metadata": {},
       "output_type": "display_data",
       "text": [
        "<IPython.core.display.Javascript at 0x90f6250>"
       ]
      },
      {
       "javascript": [
        "$('div#2bf6af6e-f06c-4d8d-8326-7f81fff0175a').width('85.416667%')"
       ],
       "metadata": {},
       "output_type": "display_data",
       "text": [
        "<IPython.core.display.Javascript at 0x90f6710>"
       ]
      },
      {
       "javascript": [
        "$('div#2bf6af6e-f06c-4d8d-8326-7f81fff0175a').width('87.500000%')"
       ],
       "metadata": {},
       "output_type": "display_data",
       "text": [
        "<IPython.core.display.Javascript at 0x90f6d90>"
       ]
      },
      {
       "javascript": [
        "$('div#2bf6af6e-f06c-4d8d-8326-7f81fff0175a').width('89.583333%')"
       ],
       "metadata": {},
       "output_type": "display_data",
       "text": [
        "<IPython.core.display.Javascript at 0x90f6910>"
       ]
      },
      {
       "javascript": [
        "$('div#2bf6af6e-f06c-4d8d-8326-7f81fff0175a').width('91.666667%')"
       ],
       "metadata": {},
       "output_type": "display_data",
       "text": [
        "<IPython.core.display.Javascript at 0x90f6e50>"
       ]
      },
      {
       "javascript": [
        "$('div#2bf6af6e-f06c-4d8d-8326-7f81fff0175a').width('93.750000%')"
       ],
       "metadata": {},
       "output_type": "display_data",
       "text": [
        "<IPython.core.display.Javascript at 0x90f6f10>"
       ]
      },
      {
       "javascript": [
        "$('div#2bf6af6e-f06c-4d8d-8326-7f81fff0175a').width('95.833333%')"
       ],
       "metadata": {},
       "output_type": "display_data",
       "text": [
        "<IPython.core.display.Javascript at 0x90f6390>"
       ]
      },
      {
       "javascript": [
        "$('div#2bf6af6e-f06c-4d8d-8326-7f81fff0175a').width('97.916667%')"
       ],
       "metadata": {},
       "output_type": "display_data",
       "text": [
        "<IPython.core.display.Javascript at 0x90f6e10>"
       ]
      },
      {
       "javascript": [
        "$('div#2bf6af6e-f06c-4d8d-8326-7f81fff0175a').width('100.000000%')"
       ],
       "metadata": {},
       "output_type": "display_data",
       "text": [
        "<IPython.core.display.Javascript at 0x90f6510>"
       ]
      },
      {
       "output_type": "stream",
       "stream": "stdout",
       "text": [
        "Running mapper & aggregator on the result objects (number of results=4800, chunk size=100)\n"
       ]
      },
      {
       "html": [
        "\n",
        "                          <div style=\"border: 1px solid black; width:500px\">\n",
        "                          <div id=\"7e80d185-8330-471a-b477-2d42867241fb\" style=\"background-color:blue; width:0%\">&nbsp;</div>\n",
        "                          </div>\n",
        "                          "
       ],
       "metadata": {},
       "output_type": "display_data",
       "text": [
        "<IPython.core.display.HTML at 0x90f63d0>"
       ]
      },
      {
       "javascript": [
        "$('div#7e80d185-8330-471a-b477-2d42867241fb').width('2.083333%')"
       ],
       "metadata": {},
       "output_type": "display_data",
       "text": [
        "<IPython.core.display.Javascript at 0x90f6210>"
       ]
      },
      {
       "javascript": [
        "$('div#7e80d185-8330-471a-b477-2d42867241fb').width('4.166667%')"
       ],
       "metadata": {},
       "output_type": "display_data",
       "text": [
        "<IPython.core.display.Javascript at 0x90f6f90>"
       ]
      },
      {
       "javascript": [
        "$('div#7e80d185-8330-471a-b477-2d42867241fb').width('6.250000%')"
       ],
       "metadata": {},
       "output_type": "display_data",
       "text": [
        "<IPython.core.display.Javascript at 0x90f6950>"
       ]
      },
      {
       "javascript": [
        "$('div#7e80d185-8330-471a-b477-2d42867241fb').width('8.333333%')"
       ],
       "metadata": {},
       "output_type": "display_data",
       "text": [
        "<IPython.core.display.Javascript at 0x90f6290>"
       ]
      },
      {
       "javascript": [
        "$('div#7e80d185-8330-471a-b477-2d42867241fb').width('10.416667%')"
       ],
       "metadata": {},
       "output_type": "display_data",
       "text": [
        "<IPython.core.display.Javascript at 0x90f9110>"
       ]
      },
      {
       "javascript": [
        "$('div#7e80d185-8330-471a-b477-2d42867241fb').width('12.500000%')"
       ],
       "metadata": {},
       "output_type": "display_data",
       "text": [
        "<IPython.core.display.Javascript at 0x90f9f90>"
       ]
      },
      {
       "javascript": [
        "$('div#7e80d185-8330-471a-b477-2d42867241fb').width('14.583333%')"
       ],
       "metadata": {},
       "output_type": "display_data",
       "text": [
        "<IPython.core.display.Javascript at 0x90f9190>"
       ]
      },
      {
       "javascript": [
        "$('div#7e80d185-8330-471a-b477-2d42867241fb').width('16.666667%')"
       ],
       "metadata": {},
       "output_type": "display_data",
       "text": [
        "<IPython.core.display.Javascript at 0x90f9750>"
       ]
      },
      {
       "javascript": [
        "$('div#7e80d185-8330-471a-b477-2d42867241fb').width('18.750000%')"
       ],
       "metadata": {},
       "output_type": "display_data",
       "text": [
        "<IPython.core.display.Javascript at 0x90f94d0>"
       ]
      },
      {
       "javascript": [
        "$('div#7e80d185-8330-471a-b477-2d42867241fb').width('20.833333%')"
       ],
       "metadata": {},
       "output_type": "display_data",
       "text": [
        "<IPython.core.display.Javascript at 0x90f9210>"
       ]
      },
      {
       "javascript": [
        "$('div#7e80d185-8330-471a-b477-2d42867241fb').width('22.916667%')"
       ],
       "metadata": {},
       "output_type": "display_data",
       "text": [
        "<IPython.core.display.Javascript at 0x90f9290>"
       ]
      },
      {
       "javascript": [
        "$('div#7e80d185-8330-471a-b477-2d42867241fb').width('25.000000%')"
       ],
       "metadata": {},
       "output_type": "display_data",
       "text": [
        "<IPython.core.display.Javascript at 0x90f9450>"
       ]
      },
      {
       "javascript": [
        "$('div#7e80d185-8330-471a-b477-2d42867241fb').width('27.083333%')"
       ],
       "metadata": {},
       "output_type": "display_data",
       "text": [
        "<IPython.core.display.Javascript at 0x90f9f10>"
       ]
      },
      {
       "javascript": [
        "$('div#7e80d185-8330-471a-b477-2d42867241fb').width('29.166667%')"
       ],
       "metadata": {},
       "output_type": "display_data",
       "text": [
        "<IPython.core.display.Javascript at 0x90f9e10>"
       ]
      },
      {
       "javascript": [
        "$('div#7e80d185-8330-471a-b477-2d42867241fb').width('31.250000%')"
       ],
       "metadata": {},
       "output_type": "display_data",
       "text": [
        "<IPython.core.display.Javascript at 0x90f9f50>"
       ]
      },
      {
       "javascript": [
        "$('div#7e80d185-8330-471a-b477-2d42867241fb').width('33.333333%')"
       ],
       "metadata": {},
       "output_type": "display_data",
       "text": [
        "<IPython.core.display.Javascript at 0x90f9ed0>"
       ]
      },
      {
       "javascript": [
        "$('div#7e80d185-8330-471a-b477-2d42867241fb').width('35.416667%')"
       ],
       "metadata": {},
       "output_type": "display_data",
       "text": [
        "<IPython.core.display.Javascript at 0x90f9d90>"
       ]
      },
      {
       "javascript": [
        "$('div#7e80d185-8330-471a-b477-2d42867241fb').width('37.500000%')"
       ],
       "metadata": {},
       "output_type": "display_data",
       "text": [
        "<IPython.core.display.Javascript at 0x90f9c50>"
       ]
      },
      {
       "javascript": [
        "$('div#7e80d185-8330-471a-b477-2d42867241fb').width('39.583333%')"
       ],
       "metadata": {},
       "output_type": "display_data",
       "text": [
        "<IPython.core.display.Javascript at 0x90f9d50>"
       ]
      },
      {
       "javascript": [
        "$('div#7e80d185-8330-471a-b477-2d42867241fb').width('41.666667%')"
       ],
       "metadata": {},
       "output_type": "display_data",
       "text": [
        "<IPython.core.display.Javascript at 0x90f9cd0>"
       ]
      },
      {
       "javascript": [
        "$('div#7e80d185-8330-471a-b477-2d42867241fb').width('43.750000%')"
       ],
       "metadata": {},
       "output_type": "display_data",
       "text": [
        "<IPython.core.display.Javascript at 0x90f90d0>"
       ]
      },
      {
       "javascript": [
        "$('div#7e80d185-8330-471a-b477-2d42867241fb').width('45.833333%')"
       ],
       "metadata": {},
       "output_type": "display_data",
       "text": [
        "<IPython.core.display.Javascript at 0x90f9590>"
       ]
      },
      {
       "javascript": [
        "$('div#7e80d185-8330-471a-b477-2d42867241fb').width('47.916667%')"
       ],
       "metadata": {},
       "output_type": "display_data",
       "text": [
        "<IPython.core.display.Javascript at 0x90f92d0>"
       ]
      },
      {
       "javascript": [
        "$('div#7e80d185-8330-471a-b477-2d42867241fb').width('50.000000%')"
       ],
       "metadata": {},
       "output_type": "display_data",
       "text": [
        "<IPython.core.display.Javascript at 0x90f9fd0>"
       ]
      },
      {
       "javascript": [
        "$('div#7e80d185-8330-471a-b477-2d42867241fb').width('52.083333%')"
       ],
       "metadata": {},
       "output_type": "display_data",
       "text": [
        "<IPython.core.display.Javascript at 0x90f91d0>"
       ]
      },
      {
       "javascript": [
        "$('div#7e80d185-8330-471a-b477-2d42867241fb').width('54.166667%')"
       ],
       "metadata": {},
       "output_type": "display_data",
       "text": [
        "<IPython.core.display.Javascript at 0x90f9d10>"
       ]
      },
      {
       "javascript": [
        "$('div#7e80d185-8330-471a-b477-2d42867241fb').width('56.250000%')"
       ],
       "metadata": {},
       "output_type": "display_data",
       "text": [
        "<IPython.core.display.Javascript at 0x90f9790>"
       ]
      },
      {
       "javascript": [
        "$('div#7e80d185-8330-471a-b477-2d42867241fb').width('58.333333%')"
       ],
       "metadata": {},
       "output_type": "display_data",
       "text": [
        "<IPython.core.display.Javascript at 0x90f9650>"
       ]
      },
      {
       "javascript": [
        "$('div#7e80d185-8330-471a-b477-2d42867241fb').width('60.416667%')"
       ],
       "metadata": {},
       "output_type": "display_data",
       "text": [
        "<IPython.core.display.Javascript at 0x90f9610>"
       ]
      },
      {
       "javascript": [
        "$('div#7e80d185-8330-471a-b477-2d42867241fb').width('62.500000%')"
       ],
       "metadata": {},
       "output_type": "display_data",
       "text": [
        "<IPython.core.display.Javascript at 0x90f9050>"
       ]
      },
      {
       "javascript": [
        "$('div#7e80d185-8330-471a-b477-2d42867241fb').width('64.583333%')"
       ],
       "metadata": {},
       "output_type": "display_data",
       "text": [
        "<IPython.core.display.Javascript at 0x90f6290>"
       ]
      },
      {
       "javascript": [
        "$('div#7e80d185-8330-471a-b477-2d42867241fb').width('66.666667%')"
       ],
       "metadata": {},
       "output_type": "display_data",
       "text": [
        "<IPython.core.display.Javascript at 0x90f6210>"
       ]
      },
      {
       "javascript": [
        "$('div#7e80d185-8330-471a-b477-2d42867241fb').width('68.750000%')"
       ],
       "metadata": {},
       "output_type": "display_data",
       "text": [
        "<IPython.core.display.Javascript at 0x90f6950>"
       ]
      },
      {
       "javascript": [
        "$('div#7e80d185-8330-471a-b477-2d42867241fb').width('70.833333%')"
       ],
       "metadata": {},
       "output_type": "display_data",
       "text": [
        "<IPython.core.display.Javascript at 0x90f6510>"
       ]
      },
      {
       "javascript": [
        "$('div#7e80d185-8330-471a-b477-2d42867241fb').width('72.916667%')"
       ],
       "metadata": {},
       "output_type": "display_data",
       "text": [
        "<IPython.core.display.Javascript at 0x90f6e10>"
       ]
      },
      {
       "javascript": [
        "$('div#7e80d185-8330-471a-b477-2d42867241fb').width('75.000000%')"
       ],
       "metadata": {},
       "output_type": "display_data",
       "text": [
        "<IPython.core.display.Javascript at 0x90f6390>"
       ]
      },
      {
       "javascript": [
        "$('div#7e80d185-8330-471a-b477-2d42867241fb').width('77.083333%')"
       ],
       "metadata": {},
       "output_type": "display_data",
       "text": [
        "<IPython.core.display.Javascript at 0x90f6f10>"
       ]
      },
      {
       "javascript": [
        "$('div#7e80d185-8330-471a-b477-2d42867241fb').width('79.166667%')"
       ],
       "metadata": {},
       "output_type": "display_data",
       "text": [
        "<IPython.core.display.Javascript at 0x90f6e50>"
       ]
      },
      {
       "javascript": [
        "$('div#7e80d185-8330-471a-b477-2d42867241fb').width('81.250000%')"
       ],
       "metadata": {},
       "output_type": "display_data",
       "text": [
        "<IPython.core.display.Javascript at 0x90f6910>"
       ]
      },
      {
       "javascript": [
        "$('div#7e80d185-8330-471a-b477-2d42867241fb').width('83.333333%')"
       ],
       "metadata": {},
       "output_type": "display_data",
       "text": [
        "<IPython.core.display.Javascript at 0x90f6d90>"
       ]
      },
      {
       "javascript": [
        "$('div#7e80d185-8330-471a-b477-2d42867241fb').width('85.416667%')"
       ],
       "metadata": {},
       "output_type": "display_data",
       "text": [
        "<IPython.core.display.Javascript at 0x90f6710>"
       ]
      },
      {
       "javascript": [
        "$('div#7e80d185-8330-471a-b477-2d42867241fb').width('87.500000%')"
       ],
       "metadata": {},
       "output_type": "display_data",
       "text": [
        "<IPython.core.display.Javascript at 0x90f6250>"
       ]
      },
      {
       "javascript": [
        "$('div#7e80d185-8330-471a-b477-2d42867241fb').width('89.583333%')"
       ],
       "metadata": {},
       "output_type": "display_data",
       "text": [
        "<IPython.core.display.Javascript at 0x90f6f90>"
       ]
      },
      {
       "javascript": [
        "$('div#7e80d185-8330-471a-b477-2d42867241fb').width('91.666667%')"
       ],
       "metadata": {},
       "output_type": "display_data",
       "text": [
        "<IPython.core.display.Javascript at 0x90f66d0>"
       ]
      },
      {
       "javascript": [
        "$('div#7e80d185-8330-471a-b477-2d42867241fb').width('93.750000%')"
       ],
       "metadata": {},
       "output_type": "display_data",
       "text": [
        "<IPython.core.display.Javascript at 0x90f95d0>"
       ]
      },
      {
       "javascript": [
        "$('div#7e80d185-8330-471a-b477-2d42867241fb').width('95.833333%')"
       ],
       "metadata": {},
       "output_type": "display_data",
       "text": [
        "<IPython.core.display.Javascript at 0x90f9890>"
       ]
      },
      {
       "javascript": [
        "$('div#7e80d185-8330-471a-b477-2d42867241fb').width('97.916667%')"
       ],
       "metadata": {},
       "output_type": "display_data",
       "text": [
        "<IPython.core.display.Javascript at 0x90f9150>"
       ]
      },
      {
       "javascript": [
        "$('div#7e80d185-8330-471a-b477-2d42867241fb').width('100.000000%')"
       ],
       "metadata": {},
       "output_type": "display_data",
       "text": [
        "<IPython.core.display.Javascript at 0x90f9310>"
       ]
      },
      {
       "output_type": "stream",
       "stream": "stdout",
       "text": [
        "Running reducer on mapped and aggregated results (size=48)\n",
        "Number of engines: 48\n",
        "\tPhase1, wall_time: 3179.606852\n",
        "\tPhase2, wall_time: 1073.220732\n"
       ]
      }
     ],
     "prompt_number": 26
    },
    {
     "cell_type": "heading",
     "level": 3,
     "metadata": {},
     "source": [
      "Running without storage"
     ]
    },
    {
     "cell_type": "code",
     "collapsed": false,
     "input": [
      "import time\n",
      "wall_time_weak_no_storage = []\n",
      "for num_engines in engines:\n",
      "    tic = time.time()\n",
      "    ensemble = DistributedEnsemble(model_class=SimpleDiffusion,num_engines=num_engines)\n",
      "    res  = ensemble.mean(mapper=g, number_of_realizations=100*num_engines, store_realizations=False)\n",
      "    wall_time = time.time()-tic\n",
      "    wall_time_weak_no_storage.append(wall_time)\n",
      "    print \"Number of engines: %i\" % num_engines\n",
      "    print \"\\tPhase1, wall_time: %f\" % wall_time"
     ],
     "language": "python",
     "metadata": {},
     "outputs": [
      {
       "output_type": "stream",
       "stream": "stdout",
       "text": [
        "Generating 100 realizations of the model, running mapper & aggregator (chunk size=100)\n"
       ]
      },
      {
       "html": [
        "\n",
        "                          <div style=\"border: 1px solid black; width:500px\">\n",
        "                          <div id=\"07d5beed-a21d-48e5-b1c2-eef825a136f3\" style=\"background-color:blue; width:0%\">&nbsp;</div>\n",
        "                          </div>\n",
        "                          "
       ],
       "metadata": {},
       "output_type": "display_data",
       "text": [
        "<IPython.core.display.HTML at 0x88ea1d0>"
       ]
      },
      {
       "javascript": [
        "$('div#07d5beed-a21d-48e5-b1c2-eef825a136f3').width('100.000000%')"
       ],
       "metadata": {},
       "output_type": "display_data",
       "text": [
        "<IPython.core.display.Javascript at 0x88eabd0>"
       ]
      },
      {
       "output_type": "stream",
       "stream": "stdout",
       "text": [
        "Running reducer on mapped and aggregated results (size=1)\n",
        "Number of engines: 1\n",
        "\tPhase1, wall_time: 83.823786\n",
        "Generating 300 realizations of the model, running mapper & aggregator (chunk size=100)\n"
       ]
      },
      {
       "html": [
        "\n",
        "                          <div style=\"border: 1px solid black; width:500px\">\n",
        "                          <div id=\"1e339d7c-e86b-479e-903d-853f77fd1bf1\" style=\"background-color:blue; width:0%\">&nbsp;</div>\n",
        "                          </div>\n",
        "                          "
       ],
       "metadata": {},
       "output_type": "display_data",
       "text": [
        "<IPython.core.display.HTML at 0x90eac90>"
       ]
      },
      {
       "javascript": [
        "$('div#1e339d7c-e86b-479e-903d-853f77fd1bf1').width('33.333333%')"
       ],
       "metadata": {},
       "output_type": "display_data",
       "text": [
        "<IPython.core.display.Javascript at 0x88ea490>"
       ]
      },
      {
       "javascript": [
        "$('div#1e339d7c-e86b-479e-903d-853f77fd1bf1').width('66.666667%')"
       ],
       "metadata": {},
       "output_type": "display_data",
       "text": [
        "<IPython.core.display.Javascript at 0x88eaa50>"
       ]
      },
      {
       "javascript": [
        "$('div#1e339d7c-e86b-479e-903d-853f77fd1bf1').width('100.000000%')"
       ],
       "metadata": {},
       "output_type": "display_data",
       "text": [
        "<IPython.core.display.Javascript at 0x88eac10>"
       ]
      },
      {
       "output_type": "stream",
       "stream": "stdout",
       "text": [
        "Running reducer on mapped and aggregated results (size=3)\n",
        "Number of engines: 3\n",
        "\tPhase1, wall_time: 92.160085\n",
        "Generating 600 realizations of the model, running mapper & aggregator (chunk size=100)\n"
       ]
      },
      {
       "html": [
        "\n",
        "                          <div style=\"border: 1px solid black; width:500px\">\n",
        "                          <div id=\"24eb9f48-bcc7-4dc6-a2ab-d6ef7c4dd02e\" style=\"background-color:blue; width:0%\">&nbsp;</div>\n",
        "                          </div>\n",
        "                          "
       ],
       "metadata": {},
       "output_type": "display_data",
       "text": [
        "<IPython.core.display.HTML at 0x88ea310>"
       ]
      },
      {
       "javascript": [
        "$('div#24eb9f48-bcc7-4dc6-a2ab-d6ef7c4dd02e').width('16.666667%')"
       ],
       "metadata": {},
       "output_type": "display_data",
       "text": [
        "<IPython.core.display.Javascript at 0x88ea810>"
       ]
      },
      {
       "javascript": [
        "$('div#24eb9f48-bcc7-4dc6-a2ab-d6ef7c4dd02e').width('33.333333%')"
       ],
       "metadata": {},
       "output_type": "display_data",
       "text": [
        "<IPython.core.display.Javascript at 0x88eaa50>"
       ]
      },
      {
       "javascript": [
        "$('div#24eb9f48-bcc7-4dc6-a2ab-d6ef7c4dd02e').width('50.000000%')"
       ],
       "metadata": {},
       "output_type": "display_data",
       "text": [
        "<IPython.core.display.Javascript at 0x88eac10>"
       ]
      },
      {
       "javascript": [
        "$('div#24eb9f48-bcc7-4dc6-a2ab-d6ef7c4dd02e').width('66.666667%')"
       ],
       "metadata": {},
       "output_type": "display_data",
       "text": [
        "<IPython.core.display.Javascript at 0x88ea6d0>"
       ]
      },
      {
       "javascript": [
        "$('div#24eb9f48-bcc7-4dc6-a2ab-d6ef7c4dd02e').width('83.333333%')"
       ],
       "metadata": {},
       "output_type": "display_data",
       "text": [
        "<IPython.core.display.Javascript at 0x996a590>"
       ]
      },
      {
       "javascript": [
        "$('div#24eb9f48-bcc7-4dc6-a2ab-d6ef7c4dd02e').width('100.000000%')"
       ],
       "metadata": {},
       "output_type": "display_data",
       "text": [
        "<IPython.core.display.Javascript at 0x996a5d0>"
       ]
      },
      {
       "output_type": "stream",
       "stream": "stdout",
       "text": [
        "Running reducer on mapped and aggregated results (size=6)\n",
        "Number of engines: 6\n",
        "\tPhase1, wall_time: 102.851588\n",
        "Generating 1200 realizations of the model, running mapper & aggregator (chunk size=100)\n"
       ]
      },
      {
       "html": [
        "\n",
        "                          <div style=\"border: 1px solid black; width:500px\">\n",
        "                          <div id=\"e7093eb7-adf6-4b3d-bb76-cd8f01bb7970\" style=\"background-color:blue; width:0%\">&nbsp;</div>\n",
        "                          </div>\n",
        "                          "
       ],
       "metadata": {},
       "output_type": "display_data",
       "text": [
        "<IPython.core.display.HTML at 0x90eac90>"
       ]
      },
      {
       "javascript": [
        "$('div#e7093eb7-adf6-4b3d-bb76-cd8f01bb7970').width('8.333333%')"
       ],
       "metadata": {},
       "output_type": "display_data",
       "text": [
        "<IPython.core.display.Javascript at 0x996a610>"
       ]
      },
      {
       "javascript": [
        "$('div#e7093eb7-adf6-4b3d-bb76-cd8f01bb7970').width('16.666667%')"
       ],
       "metadata": {},
       "output_type": "display_data",
       "text": [
        "<IPython.core.display.Javascript at 0x996ab50>"
       ]
      },
      {
       "javascript": [
        "$('div#e7093eb7-adf6-4b3d-bb76-cd8f01bb7970').width('25.000000%')"
       ],
       "metadata": {},
       "output_type": "display_data",
       "text": [
        "<IPython.core.display.Javascript at 0x88eaa50>"
       ]
      },
      {
       "javascript": [
        "$('div#e7093eb7-adf6-4b3d-bb76-cd8f01bb7970').width('33.333333%')"
       ],
       "metadata": {},
       "output_type": "display_data",
       "text": [
        "<IPython.core.display.Javascript at 0x88ea810>"
       ]
      },
      {
       "javascript": [
        "$('div#e7093eb7-adf6-4b3d-bb76-cd8f01bb7970').width('41.666667%')"
       ],
       "metadata": {},
       "output_type": "display_data",
       "text": [
        "<IPython.core.display.Javascript at 0x88eac10>"
       ]
      },
      {
       "javascript": [
        "$('div#e7093eb7-adf6-4b3d-bb76-cd8f01bb7970').width('50.000000%')"
       ],
       "metadata": {},
       "output_type": "display_data",
       "text": [
        "<IPython.core.display.Javascript at 0x996a0d0>"
       ]
      },
      {
       "javascript": [
        "$('div#e7093eb7-adf6-4b3d-bb76-cd8f01bb7970').width('58.333333%')"
       ],
       "metadata": {},
       "output_type": "display_data",
       "text": [
        "<IPython.core.display.Javascript at 0x996ab50>"
       ]
      },
      {
       "javascript": [
        "$('div#e7093eb7-adf6-4b3d-bb76-cd8f01bb7970').width('66.666667%')"
       ],
       "metadata": {},
       "output_type": "display_data",
       "text": [
        "<IPython.core.display.Javascript at 0x996a690>"
       ]
      },
      {
       "javascript": [
        "$('div#e7093eb7-adf6-4b3d-bb76-cd8f01bb7970').width('75.000000%')"
       ],
       "metadata": {},
       "output_type": "display_data",
       "text": [
        "<IPython.core.display.Javascript at 0x996a890>"
       ]
      },
      {
       "javascript": [
        "$('div#e7093eb7-adf6-4b3d-bb76-cd8f01bb7970').width('83.333333%')"
       ],
       "metadata": {},
       "output_type": "display_data",
       "text": [
        "<IPython.core.display.Javascript at 0x996a450>"
       ]
      },
      {
       "javascript": [
        "$('div#e7093eb7-adf6-4b3d-bb76-cd8f01bb7970').width('91.666667%')"
       ],
       "metadata": {},
       "output_type": "display_data",
       "text": [
        "<IPython.core.display.Javascript at 0x996a150>"
       ]
      },
      {
       "javascript": [
        "$('div#e7093eb7-adf6-4b3d-bb76-cd8f01bb7970').width('100.000000%')"
       ],
       "metadata": {},
       "output_type": "display_data",
       "text": [
        "<IPython.core.display.Javascript at 0x996a910>"
       ]
      },
      {
       "output_type": "stream",
       "stream": "stdout",
       "text": [
        "Running reducer on mapped and aggregated results (size=12)\n",
        "Number of engines: 12\n",
        "\tPhase1, wall_time: 117.126704\n",
        "Generating 2400 realizations of the model, running mapper & aggregator (chunk size=100)\n"
       ]
      },
      {
       "html": [
        "\n",
        "                          <div style=\"border: 1px solid black; width:500px\">\n",
        "                          <div id=\"24f4a68d-c457-4612-823e-37287e8e4908\" style=\"background-color:blue; width:0%\">&nbsp;</div>\n",
        "                          </div>\n",
        "                          "
       ],
       "metadata": {},
       "output_type": "display_data",
       "text": [
        "<IPython.core.display.HTML at 0x88ea650>"
       ]
      },
      {
       "javascript": [
        "$('div#24f4a68d-c457-4612-823e-37287e8e4908').width('4.166667%')"
       ],
       "metadata": {},
       "output_type": "display_data",
       "text": [
        "<IPython.core.display.Javascript at 0x996af10>"
       ]
      },
      {
       "javascript": [
        "$('div#24f4a68d-c457-4612-823e-37287e8e4908').width('8.333333%')"
       ],
       "metadata": {},
       "output_type": "display_data",
       "text": [
        "<IPython.core.display.Javascript at 0x996a390>"
       ]
      },
      {
       "javascript": [
        "$('div#24f4a68d-c457-4612-823e-37287e8e4908').width('12.500000%')"
       ],
       "metadata": {},
       "output_type": "display_data",
       "text": [
        "<IPython.core.display.Javascript at 0x996ae50>"
       ]
      },
      {
       "javascript": [
        "$('div#24f4a68d-c457-4612-823e-37287e8e4908').width('16.666667%')"
       ],
       "metadata": {},
       "output_type": "display_data",
       "text": [
        "<IPython.core.display.Javascript at 0x996a550>"
       ]
      },
      {
       "javascript": [
        "$('div#24f4a68d-c457-4612-823e-37287e8e4908').width('20.833333%')"
       ],
       "metadata": {},
       "output_type": "display_data",
       "text": [
        "<IPython.core.display.Javascript at 0x996aad0>"
       ]
      },
      {
       "javascript": [
        "$('div#24f4a68d-c457-4612-823e-37287e8e4908').width('25.000000%')"
       ],
       "metadata": {},
       "output_type": "display_data",
       "text": [
        "<IPython.core.display.Javascript at 0x996aed0>"
       ]
      },
      {
       "javascript": [
        "$('div#24f4a68d-c457-4612-823e-37287e8e4908').width('29.166667%')"
       ],
       "metadata": {},
       "output_type": "display_data",
       "text": [
        "<IPython.core.display.Javascript at 0x996a4d0>"
       ]
      },
      {
       "javascript": [
        "$('div#24f4a68d-c457-4612-823e-37287e8e4908').width('33.333333%')"
       ],
       "metadata": {},
       "output_type": "display_data",
       "text": [
        "<IPython.core.display.Javascript at 0x996a490>"
       ]
      },
      {
       "javascript": [
        "$('div#24f4a68d-c457-4612-823e-37287e8e4908').width('37.500000%')"
       ],
       "metadata": {},
       "output_type": "display_data",
       "text": [
        "<IPython.core.display.Javascript at 0x996a410>"
       ]
      },
      {
       "javascript": [
        "$('div#24f4a68d-c457-4612-823e-37287e8e4908').width('41.666667%')"
       ],
       "metadata": {},
       "output_type": "display_data",
       "text": [
        "<IPython.core.display.Javascript at 0x996a350>"
       ]
      },
      {
       "javascript": [
        "$('div#24f4a68d-c457-4612-823e-37287e8e4908').width('45.833333%')"
       ],
       "metadata": {},
       "output_type": "display_data",
       "text": [
        "<IPython.core.display.Javascript at 0x88eaa50>"
       ]
      },
      {
       "javascript": [
        "$('div#24f4a68d-c457-4612-823e-37287e8e4908').width('50.000000%')"
       ],
       "metadata": {},
       "output_type": "display_data",
       "text": [
        "<IPython.core.display.Javascript at 0x996af50>"
       ]
      },
      {
       "javascript": [
        "$('div#24f4a68d-c457-4612-823e-37287e8e4908').width('54.166667%')"
       ],
       "metadata": {},
       "output_type": "display_data",
       "text": [
        "<IPython.core.display.Javascript at 0x996af90>"
       ]
      },
      {
       "javascript": [
        "$('div#24f4a68d-c457-4612-823e-37287e8e4908').width('58.333333%')"
       ],
       "metadata": {},
       "output_type": "display_data",
       "text": [
        "<IPython.core.display.Javascript at 0x996a310>"
       ]
      },
      {
       "javascript": [
        "$('div#24f4a68d-c457-4612-823e-37287e8e4908').width('62.500000%')"
       ],
       "metadata": {},
       "output_type": "display_data",
       "text": [
        "<IPython.core.display.Javascript at 0x996a2d0>"
       ]
      },
      {
       "javascript": [
        "$('div#24f4a68d-c457-4612-823e-37287e8e4908').width('66.666667%')"
       ],
       "metadata": {},
       "output_type": "display_data",
       "text": [
        "<IPython.core.display.Javascript at 0x996a050>"
       ]
      },
      {
       "javascript": [
        "$('div#24f4a68d-c457-4612-823e-37287e8e4908').width('70.833333%')"
       ],
       "metadata": {},
       "output_type": "display_data",
       "text": [
        "<IPython.core.display.Javascript at 0x996a950>"
       ]
      },
      {
       "javascript": [
        "$('div#24f4a68d-c457-4612-823e-37287e8e4908').width('75.000000%')"
       ],
       "metadata": {},
       "output_type": "display_data",
       "text": [
        "<IPython.core.display.Javascript at 0x996a990>"
       ]
      },
      {
       "javascript": [
        "$('div#24f4a68d-c457-4612-823e-37287e8e4908').width('79.166667%')"
       ],
       "metadata": {},
       "output_type": "display_data",
       "text": [
        "<IPython.core.display.Javascript at 0x996a8d0>"
       ]
      },
      {
       "javascript": [
        "$('div#24f4a68d-c457-4612-823e-37287e8e4908').width('83.333333%')"
       ],
       "metadata": {},
       "output_type": "display_data",
       "text": [
        "<IPython.core.display.Javascript at 0x996a810>"
       ]
      },
      {
       "javascript": [
        "$('div#24f4a68d-c457-4612-823e-37287e8e4908').width('87.500000%')"
       ],
       "metadata": {},
       "output_type": "display_data",
       "text": [
        "<IPython.core.display.Javascript at 0x996a7d0>"
       ]
      },
      {
       "javascript": [
        "$('div#24f4a68d-c457-4612-823e-37287e8e4908').width('91.666667%')"
       ],
       "metadata": {},
       "output_type": "display_data",
       "text": [
        "<IPython.core.display.Javascript at 0x996a410>"
       ]
      },
      {
       "javascript": [
        "$('div#24f4a68d-c457-4612-823e-37287e8e4908').width('95.833333%')"
       ],
       "metadata": {},
       "output_type": "display_data",
       "text": [
        "<IPython.core.display.Javascript at 0x996a490>"
       ]
      },
      {
       "javascript": [
        "$('div#24f4a68d-c457-4612-823e-37287e8e4908').width('100.000000%')"
       ],
       "metadata": {},
       "output_type": "display_data",
       "text": [
        "<IPython.core.display.Javascript at 0x996a4d0>"
       ]
      },
      {
       "output_type": "stream",
       "stream": "stdout",
       "text": [
        "Running reducer on mapped and aggregated results (size=24)\n",
        "Number of engines: 24\n",
        "\tPhase1, wall_time: 131.171291\n",
        "Generating 4800 realizations of the model, running mapper & aggregator (chunk size=100)"
       ]
      },
      {
       "output_type": "stream",
       "stream": "stdout",
       "text": [
        "\n"
       ]
      },
      {
       "html": [
        "\n",
        "                          <div style=\"border: 1px solid black; width:500px\">\n",
        "                          <div id=\"a407f712-2a78-4e6d-9bdc-64af797ce721\" style=\"background-color:blue; width:0%\">&nbsp;</div>\n",
        "                          </div>\n",
        "                          "
       ],
       "metadata": {},
       "output_type": "display_data",
       "text": [
        "<IPython.core.display.HTML at 0x996a1d0>"
       ]
      },
      {
       "javascript": [
        "$('div#a407f712-2a78-4e6d-9bdc-64af797ce721').width('2.083333%')"
       ],
       "metadata": {},
       "output_type": "display_data",
       "text": [
        "<IPython.core.display.Javascript at 0x996a910>"
       ]
      },
      {
       "javascript": [
        "$('div#a407f712-2a78-4e6d-9bdc-64af797ce721').width('4.166667%')"
       ],
       "metadata": {},
       "output_type": "display_data",
       "text": [
        "<IPython.core.display.Javascript at 0x996aed0>"
       ]
      },
      {
       "javascript": [
        "$('div#a407f712-2a78-4e6d-9bdc-64af797ce721').width('6.250000%')"
       ],
       "metadata": {},
       "output_type": "display_data",
       "text": [
        "<IPython.core.display.Javascript at 0x996a910>"
       ]
      },
      {
       "javascript": [
        "$('div#a407f712-2a78-4e6d-9bdc-64af797ce721').width('8.333333%')"
       ],
       "metadata": {},
       "output_type": "display_data",
       "text": [
        "<IPython.core.display.Javascript at 0x996a790>"
       ]
      },
      {
       "javascript": [
        "$('div#a407f712-2a78-4e6d-9bdc-64af797ce721').width('10.416667%')"
       ],
       "metadata": {},
       "output_type": "display_data",
       "text": [
        "<IPython.core.display.Javascript at 0x996a550>"
       ]
      },
      {
       "javascript": [
        "$('div#a407f712-2a78-4e6d-9bdc-64af797ce721').width('12.500000%')"
       ],
       "metadata": {},
       "output_type": "display_data",
       "text": [
        "<IPython.core.display.Javascript at 0x996a890>"
       ]
      },
      {
       "javascript": [
        "$('div#a407f712-2a78-4e6d-9bdc-64af797ce721').width('14.583333%')"
       ],
       "metadata": {},
       "output_type": "display_data",
       "text": [
        "<IPython.core.display.Javascript at 0x996a150>"
       ]
      },
      {
       "javascript": [
        "$('div#a407f712-2a78-4e6d-9bdc-64af797ce721').width('16.666667%')"
       ],
       "metadata": {},
       "output_type": "display_data",
       "text": [
        "<IPython.core.display.Javascript at 0x996a0d0>"
       ]
      },
      {
       "javascript": [
        "$('div#a407f712-2a78-4e6d-9bdc-64af797ce721').width('18.750000%')"
       ],
       "metadata": {},
       "output_type": "display_data",
       "text": [
        "<IPython.core.display.Javascript at 0x996ab10>"
       ]
      },
      {
       "javascript": [
        "$('div#a407f712-2a78-4e6d-9bdc-64af797ce721').width('20.833333%')"
       ],
       "metadata": {},
       "output_type": "display_data",
       "text": [
        "<IPython.core.display.Javascript at 0x996ac10>"
       ]
      },
      {
       "javascript": [
        "$('div#a407f712-2a78-4e6d-9bdc-64af797ce721').width('22.916667%')"
       ],
       "metadata": {},
       "output_type": "display_data",
       "text": [
        "<IPython.core.display.Javascript at 0x996a490>"
       ]
      },
      {
       "javascript": [
        "$('div#a407f712-2a78-4e6d-9bdc-64af797ce721').width('25.000000%')"
       ],
       "metadata": {},
       "output_type": "display_data",
       "text": [
        "<IPython.core.display.Javascript at 0x996a690>"
       ]
      },
      {
       "javascript": [
        "$('div#a407f712-2a78-4e6d-9bdc-64af797ce721').width('27.083333%')"
       ],
       "metadata": {},
       "output_type": "display_data",
       "text": [
        "<IPython.core.display.Javascript at 0x996a4d0>"
       ]
      },
      {
       "javascript": [
        "$('div#a407f712-2a78-4e6d-9bdc-64af797ce721').width('29.166667%')"
       ],
       "metadata": {},
       "output_type": "display_data",
       "text": [
        "<IPython.core.display.Javascript at 0x996a7d0>"
       ]
      },
      {
       "javascript": [
        "$('div#a407f712-2a78-4e6d-9bdc-64af797ce721').width('31.250000%')"
       ],
       "metadata": {},
       "output_type": "display_data",
       "text": [
        "<IPython.core.display.Javascript at 0x996a810>"
       ]
      },
      {
       "javascript": [
        "$('div#a407f712-2a78-4e6d-9bdc-64af797ce721').width('33.333333%')"
       ],
       "metadata": {},
       "output_type": "display_data",
       "text": [
        "<IPython.core.display.Javascript at 0x996a8d0>"
       ]
      },
      {
       "javascript": [
        "$('div#a407f712-2a78-4e6d-9bdc-64af797ce721').width('35.416667%')"
       ],
       "metadata": {},
       "output_type": "display_data",
       "text": [
        "<IPython.core.display.Javascript at 0x996a990>"
       ]
      },
      {
       "javascript": [
        "$('div#a407f712-2a78-4e6d-9bdc-64af797ce721').width('37.500000%')"
       ],
       "metadata": {},
       "output_type": "display_data",
       "text": [
        "<IPython.core.display.Javascript at 0x996a950>"
       ]
      },
      {
       "javascript": [
        "$('div#a407f712-2a78-4e6d-9bdc-64af797ce721').width('39.583333%')"
       ],
       "metadata": {},
       "output_type": "display_data",
       "text": [
        "<IPython.core.display.Javascript at 0x996a050>"
       ]
      },
      {
       "javascript": [
        "$('div#a407f712-2a78-4e6d-9bdc-64af797ce721').width('41.666667%')"
       ],
       "metadata": {},
       "output_type": "display_data",
       "text": [
        "<IPython.core.display.Javascript at 0x996a2d0>"
       ]
      },
      {
       "javascript": [
        "$('div#a407f712-2a78-4e6d-9bdc-64af797ce721').width('43.750000%')"
       ],
       "metadata": {},
       "output_type": "display_data",
       "text": [
        "<IPython.core.display.Javascript at 0x996a310>"
       ]
      },
      {
       "javascript": [
        "$('div#a407f712-2a78-4e6d-9bdc-64af797ce721').width('45.833333%')"
       ],
       "metadata": {},
       "output_type": "display_data",
       "text": [
        "<IPython.core.display.Javascript at 0x996af90>"
       ]
      },
      {
       "javascript": [
        "$('div#a407f712-2a78-4e6d-9bdc-64af797ce721').width('47.916667%')"
       ],
       "metadata": {},
       "output_type": "display_data",
       "text": [
        "<IPython.core.display.Javascript at 0x996af50>"
       ]
      },
      {
       "javascript": [
        "$('div#a407f712-2a78-4e6d-9bdc-64af797ce721').width('50.000000%')"
       ],
       "metadata": {},
       "output_type": "display_data",
       "text": [
        "<IPython.core.display.Javascript at 0x996a510>"
       ]
      },
      {
       "javascript": [
        "$('div#a407f712-2a78-4e6d-9bdc-64af797ce721').width('52.083333%')"
       ],
       "metadata": {},
       "output_type": "display_data",
       "text": [
        "<IPython.core.display.Javascript at 0x996ac50>"
       ]
      },
      {
       "javascript": [
        "$('div#a407f712-2a78-4e6d-9bdc-64af797ce721').width('54.166667%')"
       ],
       "metadata": {},
       "output_type": "display_data",
       "text": [
        "<IPython.core.display.Javascript at 0x996ae90>"
       ]
      },
      {
       "javascript": [
        "$('div#a407f712-2a78-4e6d-9bdc-64af797ce721').width('56.250000%')"
       ],
       "metadata": {},
       "output_type": "display_data",
       "text": [
        "<IPython.core.display.Javascript at 0x996ac90>"
       ]
      },
      {
       "javascript": [
        "$('div#a407f712-2a78-4e6d-9bdc-64af797ce721').width('58.333333%')"
       ],
       "metadata": {},
       "output_type": "display_data",
       "text": [
        "<IPython.core.display.Javascript at 0x996ad90>"
       ]
      },
      {
       "javascript": [
        "$('div#a407f712-2a78-4e6d-9bdc-64af797ce721').width('60.416667%')"
       ],
       "metadata": {},
       "output_type": "display_data",
       "text": [
        "<IPython.core.display.Javascript at 0x996ad10>"
       ]
      },
      {
       "javascript": [
        "$('div#a407f712-2a78-4e6d-9bdc-64af797ce721').width('62.500000%')"
       ],
       "metadata": {},
       "output_type": "display_data",
       "text": [
        "<IPython.core.display.Javascript at 0x996acd0>"
       ]
      },
      {
       "javascript": [
        "$('div#a407f712-2a78-4e6d-9bdc-64af797ce721').width('64.583333%')"
       ],
       "metadata": {},
       "output_type": "display_data",
       "text": [
        "<IPython.core.display.Javascript at 0x996aa50>"
       ]
      },
      {
       "javascript": [
        "$('div#a407f712-2a78-4e6d-9bdc-64af797ce721').width('66.666667%')"
       ],
       "metadata": {},
       "output_type": "display_data",
       "text": [
        "<IPython.core.display.Javascript at 0x996afd0>"
       ]
      },
      {
       "javascript": [
        "$('div#a407f712-2a78-4e6d-9bdc-64af797ce721').width('68.750000%')"
       ],
       "metadata": {},
       "output_type": "display_data",
       "text": [
        "<IPython.core.display.Javascript at 0x996a410>"
       ]
      },
      {
       "javascript": [
        "$('div#a407f712-2a78-4e6d-9bdc-64af797ce721').width('70.833333%')"
       ],
       "metadata": {},
       "output_type": "display_data",
       "text": [
        "<IPython.core.display.Javascript at 0x996a750>"
       ]
      },
      {
       "javascript": [
        "$('div#a407f712-2a78-4e6d-9bdc-64af797ce721').width('72.916667%')"
       ],
       "metadata": {},
       "output_type": "display_data",
       "text": [
        "<IPython.core.display.Javascript at 0x996a6d0>"
       ]
      },
      {
       "javascript": [
        "$('div#a407f712-2a78-4e6d-9bdc-64af797ce721').width('75.000000%')"
       ],
       "metadata": {},
       "output_type": "display_data",
       "text": [
        "<IPython.core.display.Javascript at 0x996a290>"
       ]
      },
      {
       "javascript": [
        "$('div#a407f712-2a78-4e6d-9bdc-64af797ce721').width('77.083333%')"
       ],
       "metadata": {},
       "output_type": "display_data",
       "text": [
        "<IPython.core.display.Javascript at 0x996a210>"
       ]
      },
      {
       "javascript": [
        "$('div#a407f712-2a78-4e6d-9bdc-64af797ce721').width('79.166667%')"
       ],
       "metadata": {},
       "output_type": "display_data",
       "text": [
        "<IPython.core.display.Javascript at 0x996a710>"
       ]
      },
      {
       "javascript": [
        "$('div#a407f712-2a78-4e6d-9bdc-64af797ce721').width('81.250000%')"
       ],
       "metadata": {},
       "output_type": "display_data",
       "text": [
        "<IPython.core.display.Javascript at 0x996ae10>"
       ]
      },
      {
       "javascript": [
        "$('div#a407f712-2a78-4e6d-9bdc-64af797ce721').width('83.333333%')"
       ],
       "metadata": {},
       "output_type": "display_data",
       "text": [
        "<IPython.core.display.Javascript at 0x996a650>"
       ]
      },
      {
       "javascript": [
        "$('div#a407f712-2a78-4e6d-9bdc-64af797ce721').width('85.416667%')"
       ],
       "metadata": {},
       "output_type": "display_data",
       "text": [
        "<IPython.core.display.Javascript at 0x996a190>"
       ]
      },
      {
       "javascript": [
        "$('div#a407f712-2a78-4e6d-9bdc-64af797ce721').width('87.500000%')"
       ],
       "metadata": {},
       "output_type": "display_data",
       "text": [
        "<IPython.core.display.Javascript at 0x996a250>"
       ]
      },
      {
       "javascript": [
        "$('div#a407f712-2a78-4e6d-9bdc-64af797ce721').width('89.583333%')"
       ],
       "metadata": {},
       "output_type": "display_data",
       "text": [
        "<IPython.core.display.Javascript at 0x996ab50>"
       ]
      },
      {
       "javascript": [
        "$('div#a407f712-2a78-4e6d-9bdc-64af797ce721').width('91.666667%')"
       ],
       "metadata": {},
       "output_type": "display_data",
       "text": [
        "<IPython.core.display.Javascript at 0x6818650>"
       ]
      },
      {
       "javascript": [
        "$('div#a407f712-2a78-4e6d-9bdc-64af797ce721').width('93.750000%')"
       ],
       "metadata": {},
       "output_type": "display_data",
       "text": [
        "<IPython.core.display.Javascript at 0x6818110>"
       ]
      },
      {
       "javascript": [
        "$('div#a407f712-2a78-4e6d-9bdc-64af797ce721').width('95.833333%')"
       ],
       "metadata": {},
       "output_type": "display_data",
       "text": [
        "<IPython.core.display.Javascript at 0x5c6eb50>"
       ]
      },
      {
       "javascript": [
        "$('div#a407f712-2a78-4e6d-9bdc-64af797ce721').width('97.916667%')"
       ],
       "metadata": {},
       "output_type": "display_data",
       "text": [
        "<IPython.core.display.Javascript at 0x79a0150>"
       ]
      },
      {
       "javascript": [
        "$('div#a407f712-2a78-4e6d-9bdc-64af797ce721').width('100.000000%')"
       ],
       "metadata": {},
       "output_type": "display_data",
       "text": [
        "<IPython.core.display.Javascript at 0x68181d0>"
       ]
      },
      {
       "output_type": "stream",
       "stream": "stdout",
       "text": [
        "Running reducer on mapped and aggregated results (size=48)\n",
        "Number of engines: 48\n",
        "\tPhase1, wall_time: 131.968230\n"
       ]
      }
     ],
     "prompt_number": 29
    },
    {
     "cell_type": "code",
     "collapsed": false,
     "input": [
      "print engines\n",
      "print wall_time_weak_persistent_phase1\n",
      "print wall_time_weak_persistent_phase2\n",
      "print wall_time_weak_shared_phase1\n",
      "print wall_time_weak_shared_phase2\n",
      "print wall_time_weak_no_storage\n",
      "\n",
      "total = numpy.array(wall_time_weak_shared_phase1) + numpy.array(wall_time_weak_shared_phase2)\n",
      "plt.plot(engines, total, label=\"SharedStorage\")\n",
      "total = numpy.array(wall_time_weak_persistent_phase1) + numpy.array(wall_time_weak_persistent_phase2)\n",
      "plt.plot(engines, total, label=\"PersistentStorage\")\n",
      "plt.plot(engines, wall_time_weak_no_storage, label=\"No storage\")\n",
      "plt.legend(loc='best')\n",
      "plt.xlabel(\"Number of engines\")\n",
      "plt.ylabel(\"Execution time\")\n",
      "plt.title(\"Weak Scaling [HP-to-EC2]\")"
     ],
     "language": "python",
     "metadata": {},
     "outputs": [
      {
       "output_type": "stream",
       "stream": "stdout",
       "text": [
        "[1, 3, 6, 12, 24, 48]\n",
        "[104.08392000198364, 106.7772889137268, 111.31498122215271, 132.27860593795776, 144.49229979515076, 186.58130717277527]\n",
        "[22.58655595779419, 26.09382390975952, 41.57771682739258, 78.49910306930542, 105.52864003181458, 105.52623796463013]\n",
        "[467.4904088973999, 843.8581709861755, 1480.690241098404, 2531.417186021805, 3480.651920080185, 3179.606852054596]\n",
        "[156.22719407081604, 176.68396997451782, 221.87436699867249, 430.24600195884705, 586.5869789123535, 1073.220731973648]\n",
        "[83.82378602027893, 92.16008496284485, 102.85158777236938, 117.12670421600342, 131.17129111289978, 131.96823000907898]\n"
       ]
      },
      {
       "metadata": {},
       "output_type": "pyout",
       "prompt_number": 30,
       "text": [
        "<matplotlib.text.Text at 0x90f0450>"
       ]
      },
      {
       "metadata": {},
       "output_type": "display_data",
       "png": "[encoded data removed]",
       "text": [
        "<matplotlib.figure.Figure at 0x996a950>"
       ]
      }
     ],
     "prompt_number": 30
    },
    {
     "cell_type": "code",
     "collapsed": false,
     "input": [],
     "language": "python",
     "metadata": {},
     "outputs": []
    }
   ],
   "metadata": {}
  }
 ]
}