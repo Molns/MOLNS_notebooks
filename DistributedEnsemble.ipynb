{
 "metadata": {
  "name": "",
  "signature": "sha256:645821859a8572e7570925c0e1e54b5dd672e240720f352998aa502225e9da74"
 },
 "nbformat": 3,
 "nbformat_minor": 0,
 "worksheets": [
  {
   "cells": [
    {
     "cell_type": "markdown",
     "metadata": {},
     "source": [
      "This notebook shows how to generate ensembles of trajectories, and then in subsequent steps perform statistical analysis on the generated data.  "
     ]
    },
    {
     "cell_type": "code",
     "collapsed": false,
     "input": [
      "import IPython.parallel\n",
      "import sys\n",
      "from pyurdme import pyurdme\n",
      "import time\n",
      "import pyurdme\n",
      "import numpy\n",
      "import math\n",
      "\n",
      "# This is to disable annoying messages from FeniCS/UFL/FFC\n",
      "import logging\n",
      "logging.disable(logging.DEBUG)\n",
      "\n",
      "rc = IPython.parallel.Client()\n",
      "# We have to use dill instead of pickle to serialize dynamically defined classes\n",
      "rc[:].use_dill()\n",
      "rv = rc.load_balanced_view()\n",
      "\n",
      "# We are going to need to know the ids of the engines at the engines later on\n",
      "dv = rc[:] \n",
      "dv.scatter('engine_id', rc.ids, flatten=True)"
     ],
     "language": "python",
     "metadata": {},
     "outputs": [
      {
       "metadata": {},
       "output_type": "pyout",
       "prompt_number": 2,
       "text": [
        "<AsyncResult: finished>"
       ]
      }
     ],
     "prompt_number": 2
    },
    {
     "cell_type": "code",
     "collapsed": false,
     "input": [
      "%%px --local\n",
      "import pyurdme\n",
      "class SimpleDiffusion(pyurdme.URDMEModel):\n",
      "    \"\"\" This simple Hello World model consists of a single\n",
      "        species diffusing on a unit square. The initial \n",
      "        condition is a delta function on the voxel closest \n",
      "        to the center of the grid. \n",
      "    \"\"\"\n",
      "    \n",
      "    def __init__(self):\n",
      "        \n",
      "        pyurdme.URDMEModel.__init__(self,name=\"simple_diffusion\")\n",
      "\n",
      "        A = pyurdme.Species(name=\"A\",diffusion_constant=0.01,dimension=2)\n",
      "\n",
      "        self.add_species([A])\n",
      "\n",
      "        # A unit square\n",
      "        self.mesh = pyurdme.URDMEMesh.generate_unit_square_mesh(40,40)\n",
      "                \n",
      "        # Place the A molecules in the voxel nearest the center of the square\n",
      "        self.set_initial_condition_place_near({A:1000},point=[0.5,0.5])\n",
      "\n",
      "        self.timespan(numpy.linspace(0,1,1000))"
     ],
     "language": "python",
     "metadata": {},
     "outputs": [],
     "prompt_number": 4
    },
    {
     "cell_type": "code",
     "collapsed": false,
     "input": [
      "%%px --local\n",
      "def aggregate(results):\n",
      "    \"Reduces a\"\n",
      "    \n",
      "    import dill\n",
      "    import numpy\n",
      "    from molnsutil import PersistentStorage, LocalStorage\n",
      "    ps = PersistentStorage()\n",
      "    ls = LocalStorage()\n",
      "    \n",
      "    num_processed=0\n",
      "    res = 0\n",
      "    for i,filename in enumerate(results):\n",
      "        try:\n",
      "            try:\n",
      "                result = ls.get(filename)\n",
      "            except:\n",
      "                result = ps.get(filename)\n",
      "                ls.put(filename, result)\n",
      "            \n",
      "            if i==0:\n",
      "                res = result.get_species(\"A\",-1)[400]\n",
      "            else:\n",
      "                res = res + result.get_species(\"A\",-1)[400]\n",
      "            num_processed +=1\n",
      "        except:\n",
      "            pass\n",
      "        \n",
      "    ps.provider.connection.close()\n",
      "    return res/num_processed"
     ],
     "language": "python",
     "metadata": {},
     "outputs": [],
     "prompt_number": 31
    },
    {
     "cell_type": "code",
     "collapsed": false,
     "input": [
      "class DistributedEnsemble():\n",
      "    \"\"\" A distributed ensemble. \"\"\"\n",
      "\n",
      "    def __init__(self, name=None, model_class=None, model=None, number_of_realizations=1, persistent=False):\n",
      "        \"\"\" hjhkjhjk \"\"\"\n",
      "        self.model_class = model_class\n",
      "        self.number_of_realizations = number_of_realizations\n",
      "        self.persistent = persistent\n",
      "            \n",
      "        self.results = [] \n",
      "        # We can build an index that maps filenames to the engines where the file is and \n",
      "        # guide scheduling. \n",
      "        self.file_index = {}\n",
      "        \n",
      "        self.c = IPython.parallel.Client()\n",
      "        # We have to use dill instead of pickle to serialize dynamically defined classes\n",
      "        self.c[:].use_dill()\n",
      "        self.lv = self.c.load_balanced_view()\n",
      "     \n",
      "        \n",
      "    def add_realizations(self, number_of_realizations=1):\n",
      "        \"\"\" Add a number of realizations to the ensemble. \"\"\"\n",
      "        model = self.model_class()\n",
      "        num_chunks=number_of_realizations\n",
      "        nt = 1\n",
      "        #num_chunks = number_of_realizations\n",
      "        #num_chunks=self._determine_chunk_size()\n",
      "        #if nt < num_chunks:\n",
      "        #    num_chunks=nt\n",
      "        #else:\n",
      "        #    nt = int(number_of_realizations/num_chunks)\n",
      "        #reminder = number_of_trajectories-nt\n",
      "        \n",
      "        results  = self.lv.map_async(run_ensemble,[model]*num_chunks,[nt]*num_chunks,range(num_chunks))\n",
      "        results.wait()\n",
      "        for r in results:\n",
      "            self.results.append(r)\n",
      "        return {'wall_time':results.wall_time, 'results': results}\n",
      "    \n",
      "    \n",
      "    def _determine_chunk_size(self):\n",
      "        \n",
      "        num_chunks = len(self.c.ids())\n",
      "        return num_chunks\n",
      "\n",
      "    def mean(self, g=None, number_of_realizations=None, interactive=False):\n",
      "        \"\"\" Compute the mean of the function g(X) based on number_of_realizations realizations\n",
      "            in the ensemble. \"\"\"\n",
      "        num_chunks = len(self.c.ids)\n",
      "        # Now map the postprocessing routine using the view that matches the file locations on the engines. \n",
      "        pr = self.c[:].map_async(g,self.results)\n",
      "        num_sucessful=0\n",
      "        for i,p in pr:\n",
      "            try:\n",
      "                if i==0:\n",
      "                    meanx = p\n",
      "                else:\n",
      "                    meanx = meanx+p\n",
      "                num_sucessful+=1\n",
      "                if interactive:\n",
      "                    print meanx/num_sucessful\n",
      "            except Exception as e:\n",
      "                raise                \n",
      "        #pr.wait()\n",
      "        # This does not work, we can't just assume that the result is a numeric array. What can we assume?\n",
      "        # Can we assume that it makes sense to say pr[0]+pr[1] etc. (i.e. that the '+' operator is defined for the \n",
      "        # result types?)\n",
      "        print meanx/num_sucessful\n",
      "\n",
      "        print \"Time to postprocess:\",pr.wall_time\n",
      "        #mean_vhttps://130.238.29.138/notebooks/EnsembleMeanGlobalStore(3)(1).ipynb#alue = self.moment(function_handle, number_of_realizations=number_of_realizations)\n",
      "\n",
      "    def variance(self, g=None, number_of_realizations=None):\n",
      "        \"\"\" Compute the variance (second order central moment) of the function g(X) based on number_of_realizations realizations\n",
      "            in the ensemble. \"\"\"\n",
      "\n",
      "    def moment(self, g=None, order=1, number_of_realizations=None):\n",
      "        \"\"\" Compute the moment of order 'order' of g(X), using number_of_realizations\n",
      "            realizations in the ensemble. \"\"\"\n",
      "\n",
      "    def density(self, g=None, number_of_realizations=None):\n",
      "        \"\"\" Estimate the probability density function of g(X) based on number_of_realizations realizations\n",
      "            in the ensemble. \"\"\"\n"
     ],
     "language": "python",
     "metadata": {},
     "outputs": [],
     "prompt_number": 53
    },
    {
     "cell_type": "code",
     "collapsed": false,
     "input": [
      "ensemble = DistributedEnsemble(model_class=SimpleDiffusion, name='testensemble')\n",
      "res  = ensemble.add_realizations(number_of_realizations=100)\n",
      "ensemble.mean(aggregate)\n",
      "#for result in ensemble.results:\n",
      "#    print result"
     ],
     "language": "python",
     "metadata": {},
     "outputs": []
    },
    {
     "cell_type": "code",
     "collapsed": false,
     "input": [
      "ensemble.add_realizations(number_of_realizations=500)"
     ],
     "language": "python",
     "metadata": {},
     "outputs": [
      {
       "metadata": {},
       "output_type": "pyout",
       "prompt_number": 45,
       "text": [
        "{'results': <AsyncMapResult: finished>, 'wall_time': 80.951321}"
       ]
      }
     ],
     "prompt_number": 45
    },
    {
     "cell_type": "code",
     "collapsed": false,
     "input": [
      "ensemble.mean(aggregate)"
     ],
     "language": "python",
     "metadata": {},
     "outputs": [
      {
       "ename": "UnboundLocalError",
       "evalue": "local variable 'meanx' referenced before assignment",
       "output_type": "pyerr",
       "traceback": [
        "\u001b[1;31m---------------------------------------------------------------------------\u001b[0m\n\u001b[1;31mUnboundLocalError\u001b[0m                         Traceback (most recent call last)",
        "\u001b[1;32m<ipython-input-54-afcac029dd2c>\u001b[0m in \u001b[0;36m<module>\u001b[1;34m()\u001b[0m\n\u001b[1;32m----> 1\u001b[1;33m \u001b[0mensemble\u001b[0m\u001b[1;33m.\u001b[0m\u001b[0mmean\u001b[0m\u001b[1;33m(\u001b[0m\u001b[0maggregate\u001b[0m\u001b[1;33m)\u001b[0m\u001b[1;33m\u001b[0m\u001b[0m\n\u001b[0m",
        "\u001b[1;32m<ipython-input-49-d5ce9ff303c0>\u001b[0m in \u001b[0;36mmean\u001b[1;34m(self, g, number_of_realizations)\u001b[0m\n\u001b[0;32m     61\u001b[0m         \u001b[1;31m# Can we assume that it makes sense to say pr[0]+pr[1] etc. (i.e. that the '+' operator is defined for the\u001b[0m\u001b[1;33m\u001b[0m\u001b[1;33m\u001b[0m\u001b[0m\n\u001b[0;32m     62\u001b[0m         \u001b[1;31m# result types?)\u001b[0m\u001b[1;33m\u001b[0m\u001b[1;33m\u001b[0m\u001b[0m\n\u001b[1;32m---> 63\u001b[1;33m         \u001b[1;32mprint\u001b[0m \u001b[0mmeanx\u001b[0m\u001b[1;33m/\u001b[0m\u001b[0mnum_sucessful\u001b[0m\u001b[1;33m\u001b[0m\u001b[0m\n\u001b[0m\u001b[0;32m     64\u001b[0m \u001b[1;33m\u001b[0m\u001b[0m\n\u001b[0;32m     65\u001b[0m         \u001b[1;32mprint\u001b[0m \u001b[1;34m\"Time to postprocess:\"\u001b[0m\u001b[1;33m,\u001b[0m\u001b[0mpr\u001b[0m\u001b[1;33m.\u001b[0m\u001b[0mwall_time\u001b[0m\u001b[1;33m\u001b[0m\u001b[0m\n",
        "\u001b[1;31mUnboundLocalError\u001b[0m: local variable 'meanx' referenced before assignment"
       ]
      }
     ],
     "prompt_number": 54
    },
    {
     "cell_type": "code",
     "collapsed": false,
     "input": [
      "#@IPython.parallel.require(SimpleDiffusion,pyurdme)\n",
      "def run_ensemble(model,nt,s):\n",
      "    \"\"\" Generates an ensemble consisting of number_of_trajectories realizations. \n",
      "        Returns a list of result objects. \"\"\"    \n",
      "    \n",
      "    import pyurdme\n",
      "    from pyurdme.nsmsolver import NSMSolver\n",
      "    import sys\n",
      "    import uuid\n",
      "    from molnsutil import PersistentStorage, LocalStorage\n",
      "    \n",
      "    ps  = PersistentStorage()\n",
      "\n",
      "    # Run the solver \n",
      "    solver = NSMSolver(model)\n",
      "    \n",
      "    filenames = []\n",
      "    for i in range(nt):\n",
      "        try:\n",
      "            result = solver.run(seed=s*engine_id*nt+i)\n",
      "            filename = str(uuid.uuid1())\n",
      "            st=ps.put(filename, result)\n",
      "            filenames.append(filename)\n",
      "        except:\n",
      "            pass\n",
      "\n",
      "    ps.provider.connection.close()\n",
      "    return filenames    "
     ],
     "language": "python",
     "metadata": {},
     "outputs": [],
     "prompt_number": 10
    },
    {
     "cell_type": "code",
     "collapsed": false,
     "input": [
      "model = SimpleDiffusion()\n",
      "\n",
      "num_chunks = 500\n",
      "nt = 10\n",
      "results  = rv.map_async(run_ensemble,[model]*num_chunks,[nt]*num_chunks,range(num_chunks))\n",
      "results.wait()\n",
      "print results.wall_time"
     ],
     "language": "python",
     "metadata": {},
     "outputs": []
    },
    {
     "cell_type": "code",
     "collapsed": false,
     "input": [
      "# Store the list of lists of filesnames in the object store\n",
      "from molnsutil import PersistentStorage\n",
      "ps = PersistentStorage()\n",
      "files = []\n",
      "for r in results:\n",
      "    files.append(r)\n",
      "ensemble_data = {'files':files,'num_chunks':num_chunks, 'chunk_size':nt}\n",
      "ps.put('ensemble_data',ensemble_data)"
     ],
     "language": "python",
     "metadata": {},
     "outputs": []
    },
    {
     "cell_type": "code",
     "collapsed": false,
     "input": [],
     "language": "python",
     "metadata": {},
     "outputs": []
    },
    {
     "cell_type": "code",
     "collapsed": false,
     "input": [
      "# Now map the postprocessing routine using the view that matches the file locations on the engines. \n",
      "pr = rc[:].map_async(postprocess,results)\n",
      "pr.wait()\n",
      "print numpy.mean(pr)\n",
      "#for p in pr:\n",
      "#    #print p\n",
      "#    print numpy.mean(p), \"+-\", 1.96*numpy.std(p)/math.sqrt(nt*num_chunks)\n",
      "print \"Time to postprocess:\",pr.wall_time"
     ],
     "language": "python",
     "metadata": {},
     "outputs": []
    },
    {
     "cell_type": "code",
     "collapsed": false,
     "input": [
      "# Clean up on the engines\n",
      "def cleanup(results):\n",
      "    from molnsutil import PersistentStorage, LocalStorage\n",
      "    ps = PersistentStorage()\n",
      "    ls = LocalStorage()\n",
      "    #ps.delete(results)\n",
      "    for filename in results:\n",
      "        try: \n",
      "            ls.delete(filename)\n",
      "        except:\n",
      "            pass\n",
      "        \n",
      "        try:\n",
      "            ps.delete(filename)\n",
      "        except:\n",
      "            pass\n",
      "res = rv.map_async(cleanup, results)\n",
      "res.wait()\n",
      "print \"Time to delete all the results on the engines:\", res.wall_time"
     ],
     "language": "python",
     "metadata": {},
     "outputs": []
    },
    {
     "cell_type": "code",
     "collapsed": false,
     "input": [],
     "language": "python",
     "metadata": {},
     "outputs": []
    }
   ],
   "metadata": {}
  }
 ]
}