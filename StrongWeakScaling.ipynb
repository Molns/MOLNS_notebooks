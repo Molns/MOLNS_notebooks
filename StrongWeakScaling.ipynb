{
 "metadata": {
  "kernelspec": {
   "codemirror_mode": {
    "name": "ipython",
    "version": 2
   },
   "display_name": "IPython (Python 2)",
   "language": "python",
   "name": "python2"
  },
  "name": "",
  "signature": "sha256:c4b473948413f0c0bda9f2ab818651e4b34534d7df49e663ef8351d72bca82fb"
 },
 "nbformat": 3,
 "nbformat_minor": 0,
 "worksheets": [
  {
   "cells": [
    {
     "cell_type": "heading",
     "level": 1,
     "metadata": {},
     "source": [
      "MOLNs Benchmarks"
     ]
    },
    {
     "cell_type": "markdown",
     "metadata": {},
     "source": [
      "This notebook contains code to benchmark the DistributedEnsemble for the different storage modes. "
     ]
    },
    {
     "cell_type": "code",
     "collapsed": false,
     "input": [
      "import IPython.parallel\n",
      "from molnsutil import DistributedEnsemble\n",
      "rc = IPython.parallel.Client()\n",
      "view = rc.load_balanced_view()\n",
      "import pyurdme\n",
      "import matplotlib as mpl\n",
      "mpl.rc(\"savefig\", dpi=120)\n",
      "print \"MOLNs cluster running with number of engines: {0}\".format(len(rc.ids))"
     ],
     "language": "python",
     "metadata": {},
     "outputs": [
      {
       "output_type": "stream",
       "stream": "stdout",
       "text": [
        "MOLNs cluster running with number of engines: 6\n"
       ]
      }
     ],
     "prompt_number": 15
    },
    {
     "cell_type": "code",
     "collapsed": false,
     "input": [
      "import pyurdme\n",
      "import numpy\n",
      "class SimpleDiffusion(pyurdme.URDMEModel):\n",
      "    \"\"\" This Hello World model follows a single\n",
      "        species A diffusing on a unit square. Initially,  \n",
      "        all N molecules are placed in the voxel closest \n",
      "        to the center of the domain and we simulate how \n",
      "        A spread by diffusion. This model is useful for benchmarking, \n",
      "        since it is easy to control the ratio of compute/data-I/O\n",
      "        through the model paramters. \n",
      "    \"\"\"\n",
      "    \n",
      "    def __init__(self, N=5000,D=0.01):\n",
      "        \n",
      "        pyurdme.URDMEModel.__init__(self,name=\"simple_diffusion\")\n",
      "\n",
      "        A = pyurdme.Species(name=\"A\",diffusion_constant=D)\n",
      "        B = pyurdme.Species(name=\"B\",diffusion_constant=D)\n",
      "        C = pyurdme.Species(name=\"C\",diffusion_constant=D)\n",
      "\n",
      "        self.add_species([A,B,C])\n",
      "        \n",
      "       # R1 = pyurdme.Reaction(name=\"R1\", reactants={\"A\":1, \"B\":1}, products={\"C\":1}, rate)\n",
      "        \n",
      "        # A unit square mesh\n",
      "        self.mesh = pyurdme.URDMEMesh.generate_cube_mesh(1,10,10,10)\n",
      "        \n",
      "        # Place the A molecules in the voxel nearest the center of the square\n",
      "        self.set_initial_condition_scatter({A:N})\n",
      "        self.set_initial_condition_scatter({B:N})\n",
      "        self.set_initial_condition_scatter({C:N})\n",
      "        \n",
      "        # Set the time frame for the study to [0,1], with results reported each 1e-3 seconds. \n",
      "        self.timespan(numpy.linspace(0,10,1001))"
     ],
     "language": "python",
     "metadata": {},
     "outputs": []
    },
    {
     "cell_type": "code",
     "collapsed": false,
     "input": [
      "# We run it once so that the class will be enabled on all the engines.\n",
      "ensemble = DistributedEnsemble(model_class=SimpleDiffusion)\n",
      "res  = ensemble.add_realizations(number_of_realizations=100)\n",
      "res['wall_time']"
     ],
     "language": "python",
     "metadata": {},
     "outputs": []
    },
    {
     "cell_type": "code",
     "collapsed": false,
     "input": [
      "# Define a vector of engines \n",
      "num_engines = len(rc.ids)\n",
      "engines = []\n",
      "while num_engines > 1:\n",
      "    engines.append(num_engines)\n",
      "    num_engines=num_engines/2\n",
      "engines.append(1)\n",
      "engines.reverse()\n",
      "print engines"
     ],
     "language": "python",
     "metadata": {},
     "outputs": []
    },
    {
     "cell_type": "code",
     "collapsed": false,
     "input": [
      "#Clean up\n",
      "from molnsutil import PersistentStorage\n",
      "ps = PersistentStorage()\n",
      "ps.delete_all()"
     ],
     "language": "python",
     "metadata": {},
     "outputs": []
    },
    {
     "cell_type": "heading",
     "level": 1,
     "metadata": {},
     "source": [
      "Generating a distributed ensemble and Computing the mean value of a function"
     ]
    },
    {
     "cell_type": "code",
     "collapsed": false,
     "input": [
      "def g(result):\n",
      "    \"\"\" Extract the spatial distribution of species A at the final timepoint. \"\"\"\n",
      "    import numpy\n",
      "    A = result.get_species(\"A\",-1)\n",
      "    return A"
     ],
     "language": "python",
     "metadata": {},
     "outputs": []
    },
    {
     "cell_type": "heading",
     "level": 1,
     "metadata": {},
     "source": [
      "Strong scaling - the total work is constant and the number of engines increase (parallel efficiency)"
     ]
    },
    {
     "cell_type": "markdown",
     "metadata": {},
     "source": [
      "We conduct scaling experiments by sequnentially doubling the number of engines used. "
     ]
    },
    {
     "cell_type": "heading",
     "level": 3,
     "metadata": {},
     "source": [
      "SharedStorage"
     ]
    },
    {
     "cell_type": "code",
     "collapsed": false,
     "input": [
      "import time\n",
      "wall_time_strong_phase1 = []\n",
      "wall_time_strong_phase2 = []\n",
      "for num_engines in engines:\n",
      "    # Phase1 - generate all the realizations and write them to disk\n",
      "    ensemble = DistributedEnsemble(model_class=SimpleDiffusion,num_engines=num_engines)\n",
      "    tic = time.time()\n",
      "    res  = ensemble.add_realizations(number_of_realizations=100)\n",
      "    wall_time_1 = time.time()-tic\n",
      "    wall_time_strong_phase1.append(wall_time_1)\n",
      "    # Phase 2 - read all the realizations and compute the mean value\n",
      "    tic = time.time()\n",
      "    res = ensemble.mean(mapper=g)\n",
      "    wall_time_2 = time.time()-tic\n",
      "    wall_time_strong_phase2.append(wall_time_2)\n",
      "    \n",
      "    print \"Number of engines: %i\" % num_engines\n",
      "    print \"\\tPhase1, wall_time: %f\" % wall_time_1\n",
      "    print \"\\tPhase2, wall_time: %f\" % wall_time_2\n",
      "\n"
     ],
     "language": "python",
     "metadata": {},
     "outputs": []
    },
    {
     "cell_type": "heading",
     "level": 3,
     "metadata": {},
     "source": [
      "PersistentStorage"
     ]
    },
    {
     "cell_type": "code",
     "collapsed": false,
     "input": [
      "# This test requires a working object store (S3 or Swift)\n",
      "import time\n",
      "wall_time_strong_persistent_phase1 = []\n",
      "wall_time_strong_persistent_phase2 = []\n",
      "for num_engines in engines:\n",
      "    # Phase1 - generate all the realizations and write them to disk\n",
      "    ensemble = DistributedEnsemble(model_class=SimpleDiffusion,num_engines=num_engines)\n",
      "    tic = time.time()\n",
      "    res  = ensemble.add_realizations(number_of_realizations=100, storage_mode=\"Persistent\")\n",
      "    wall_time_1 = time.time()-tic\n",
      "    wall_time_strong_persistent_phase1.append(wall_time_1)\n",
      "    # Phase 2 - read all the realizations and compute the mean value\n",
      "    tic = time.time()\n",
      "    res = ensemble.mean(mapper=g)\n",
      "    wall_time_2 = time.time()-tic\n",
      "    wall_time_strong_persistent_phase2.append(wall_time_2)\n",
      "    \n",
      "    print \"Number of engines: %i\" % num_engines\n",
      "    print \"\\tPhase1, wall_time: %f\" % wall_time_1\n",
      "    print \"\\tPhase2, wall_time: %f\" % wall_time_2\n",
      "\n"
     ],
     "language": "python",
     "metadata": {},
     "outputs": []
    },
    {
     "cell_type": "heading",
     "level": 3,
     "metadata": {},
     "source": [
      "Running without storage"
     ]
    },
    {
     "cell_type": "code",
     "collapsed": false,
     "input": [
      "import time\n",
      "wall_time_no_storage = []\n",
      "for num_engines in engines:\n",
      "    tic = time.time()\n",
      "    ensemble = DistributedEnsemble(model_class=SimpleDiffusion,num_engines=num_engines)\n",
      "    res  = ensemble.mean(mapper=g, number_of_realizations=100,store_realizations=False)\n",
      "    wall_time = time.time()-tic\n",
      "    wall_time_no_storage.append(wall_time)\n",
      "    print \"Number of engines: %i\" % num_engines\n",
      "    print \"\\tPhase1, wall_time: %f\" % wall_time"
     ],
     "language": "python",
     "metadata": {},
     "outputs": []
    },
    {
     "cell_type": "code",
     "collapsed": false,
     "input": [
      "print engines\n",
      "print wall_time_strong_persistent_phase1\n",
      "print wall_time_strong_persistent_phase2\n",
      "print wall_time_strong_phase1\n",
      "print wall_time_strong_phase2\n",
      "print wall_time_no_storage\n",
      "#plt.plot(engines, wall_time_strong_persistent_phase1, label=\"Phase1 - run pyurdme\")\n",
      "#plt.plot(engines, wall_time_strong_persistent_phase2, label=\"Phase2 - run postprocessing\")\n",
      "total = numpy.array(wall_time_strong_persistent_phase1)+numpy.array(wall_time_strong_persistent_phase2)\n",
      "plt.plot(engines, total, \".-b\", label=\"PersistentStorage\")\n",
      "#plt.plot(engines, wall_time_strong_phase1, label=\"Phase1 - run pyurdme\")\n",
      "#plt.plot(engines, wall_time_strong_phase2, label=\"Phase2 - run postprocessing\")\n",
      "total = numpy.array(wall_time_strong_phase1)+numpy.array(wall_time_strong_phase2)\n",
      "plt.plot(engines, total, \".-g\", label=\"SharedStorage\")\n",
      "plt.plot(engines, wall_time_no_storage, \".-r\", label=\"No storage\")\n",
      "plt.legend()\n",
      "plt.xlabel(\"Number of engines\")\n",
      "plt.ylabel(\"Wall time (s)\")\n",
      "plt.title(\"Strong Scaling\")\n",
      "plt.show()"
     ],
     "language": "python",
     "metadata": {},
     "outputs": []
    },
    {
     "cell_type": "code",
     "collapsed": false,
     "input": [
      "#Clean up\n",
      "from molnsutil import PersistentStorage\n",
      "ps = PersistentStorage()\n",
      "ps.delete_all()"
     ],
     "language": "python",
     "metadata": {},
     "outputs": []
    },
    {
     "cell_type": "heading",
     "level": 1,
     "metadata": {},
     "source": [
      "Weak scaling - The work per engine stays constant as the number of engines increase"
     ]
    },
    {
     "cell_type": "heading",
     "level": 3,
     "metadata": {},
     "source": [
      "SharedStorage"
     ]
    },
    {
     "cell_type": "code",
     "collapsed": false,
     "input": [
      "import time\n",
      "wall_time_weak_shared_phase1 = []\n",
      "wall_time_weak_shared_phase2 = []\n",
      "for num_engines in engines:\n",
      "    # Phase1 - generate all the realizations and write them to disk\n",
      "    ensemble = DistributedEnsemble(model_class=SimpleDiffusion, num_engines=num_engines)\n",
      "    tic = time.time()\n",
      "    res  = ensemble.add_realizations(number_of_realizations=100*num_engines)\n",
      "    wall_time_1 = time.time()-tic\n",
      "    wall_time_weak_shared_phase1.append(wall_time_1)\n",
      "    # Phase 2 - read all the realizations and compute the mean value\n",
      "    tic = time.time()\n",
      "    res = ensemble.mean(mapper=g)\n",
      "    wall_time_2 = time.time()-tic\n",
      "    wall_time_weak_shared_phase2.append(wall_time_2)\n",
      "    \n",
      "    print \"Number of engines: %i\" % num_engines\n",
      "    print \"\\tPhase1, wall_time: %f\" % wall_time_1\n",
      "    print \"\\tPhase2, wall_time: %f\" % wall_time_2"
     ],
     "language": "python",
     "metadata": {},
     "outputs": [
      {
       "output_type": "stream",
       "stream": "stdout",
       "text": [
        "Generating 100 realizations of the model (chunk size=100)\n"
       ]
      },
      {
       "html": [
        "\n",
        "                          <div style=\"border: 1px solid black; width:500px\">\n",
        "                          <div id=\"39df62b4-dd77-485e-ad82-96dff87e54ef\" style=\"background-color:blue; width:0%\">&nbsp;</div>\n",
        "                          </div>\n",
        "                          "
       ],
       "metadata": {},
       "output_type": "display_data",
       "text": [
        "<IPython.core.display.HTML object>"
       ]
      },
      {
       "javascript": [
        "$('div#39df62b4-dd77-485e-ad82-96dff87e54ef').width('100.000000%')"
       ],
       "metadata": {},
       "output_type": "display_data",
       "text": [
        "<IPython.core.display.Javascript object>"
       ]
      },
      {
       "output_type": "stream",
       "stream": "stdout",
       "text": [
        "Running mapper & aggregator on the result objects (number of results=100, chunk size=100)\n"
       ]
      },
      {
       "html": [
        "\n",
        "                          <div style=\"border: 1px solid black; width:500px\">\n",
        "                          <div id=\"dca9f621-8c65-4e01-aefd-d31caa35914e\" style=\"background-color:blue; width:0%\">&nbsp;</div>\n",
        "                          </div>\n",
        "                          "
       ],
       "metadata": {},
       "output_type": "display_data",
       "text": [
        "<IPython.core.display.HTML object>"
       ]
      },
      {
       "javascript": [
        "$('div#dca9f621-8c65-4e01-aefd-d31caa35914e').width('100.000000%')"
       ],
       "metadata": {},
       "output_type": "display_data",
       "text": [
        "<IPython.core.display.Javascript object>"
       ]
      },
      {
       "output_type": "stream",
       "stream": "stdout",
       "text": [
        "Running reducer on mapped and aggregated results (size=1)\n",
        "Number of engines: 1\n",
        "\tPhase1, wall_time: 98.128367\n",
        "\tPhase2, wall_time: 18.365906\n",
        "Generating 300 realizations of the model (chunk size=100)\n"
       ]
      },
      {
       "html": [
        "\n",
        "                          <div style=\"border: 1px solid black; width:500px\">\n",
        "                          <div id=\"59859392-0d76-4a9d-a1a8-47db9bb12764\" style=\"background-color:blue; width:0%\">&nbsp;</div>\n",
        "                          </div>\n",
        "                          "
       ],
       "metadata": {},
       "output_type": "display_data",
       "text": [
        "<IPython.core.display.HTML object>"
       ]
      },
      {
       "javascript": [
        "$('div#59859392-0d76-4a9d-a1a8-47db9bb12764').width('33.333333%')"
       ],
       "metadata": {},
       "output_type": "display_data",
       "text": [
        "<IPython.core.display.Javascript object>"
       ]
      },
      {
       "javascript": [
        "$('div#59859392-0d76-4a9d-a1a8-47db9bb12764').width('66.666667%')"
       ],
       "metadata": {},
       "output_type": "display_data",
       "text": [
        "<IPython.core.display.Javascript object>"
       ]
      },
      {
       "javascript": [
        "$('div#59859392-0d76-4a9d-a1a8-47db9bb12764').width('100.000000%')"
       ],
       "metadata": {},
       "output_type": "display_data",
       "text": [
        "<IPython.core.display.Javascript object>"
       ]
      },
      {
       "output_type": "stream",
       "stream": "stdout",
       "text": [
        "Running mapper & aggregator on the result objects (number of results=300, chunk size=100)\n"
       ]
      },
      {
       "html": [
        "\n",
        "                          <div style=\"border: 1px solid black; width:500px\">\n",
        "                          <div id=\"63526b0a-e500-45ed-8643-3316d79f8922\" style=\"background-color:blue; width:0%\">&nbsp;</div>\n",
        "                          </div>\n",
        "                          "
       ],
       "metadata": {},
       "output_type": "display_data",
       "text": [
        "<IPython.core.display.HTML object>"
       ]
      },
      {
       "javascript": [
        "$('div#63526b0a-e500-45ed-8643-3316d79f8922').width('33.333333%')"
       ],
       "metadata": {},
       "output_type": "display_data",
       "text": [
        "<IPython.core.display.Javascript object>"
       ]
      },
      {
       "javascript": [
        "$('div#63526b0a-e500-45ed-8643-3316d79f8922').width('66.666667%')"
       ],
       "metadata": {},
       "output_type": "display_data",
       "text": [
        "<IPython.core.display.Javascript object>"
       ]
      },
      {
       "javascript": [
        "$('div#63526b0a-e500-45ed-8643-3316d79f8922').width('100.000000%')"
       ],
       "metadata": {},
       "output_type": "display_data",
       "text": [
        "<IPython.core.display.Javascript object>"
       ]
      },
      {
       "output_type": "stream",
       "stream": "stdout",
       "text": [
        "Running reducer on mapped and aggregated results (size=3)\n",
        "Number of engines: 3\n",
        "\tPhase1, wall_time: 100.082370\n",
        "\tPhase2, wall_time: 22.503620\n",
        "Generating 600 realizations of the model (chunk size=100)\n"
       ]
      },
      {
       "html": [
        "\n",
        "                          <div style=\"border: 1px solid black; width:500px\">\n",
        "                          <div id=\"471c5cee-e5dc-478a-a2da-c8d645af7a24\" style=\"background-color:blue; width:0%\">&nbsp;</div>\n",
        "                          </div>\n",
        "                          "
       ],
       "metadata": {},
       "output_type": "display_data",
       "text": [
        "<IPython.core.display.HTML object>"
       ]
      },
      {
       "javascript": [
        "$('div#471c5cee-e5dc-478a-a2da-c8d645af7a24').width('16.666667%')"
       ],
       "metadata": {},
       "output_type": "display_data",
       "text": [
        "<IPython.core.display.Javascript object>"
       ]
      },
      {
       "javascript": [
        "$('div#471c5cee-e5dc-478a-a2da-c8d645af7a24').width('33.333333%')"
       ],
       "metadata": {},
       "output_type": "display_data",
       "text": [
        "<IPython.core.display.Javascript object>"
       ]
      },
      {
       "javascript": [
        "$('div#471c5cee-e5dc-478a-a2da-c8d645af7a24').width('50.000000%')"
       ],
       "metadata": {},
       "output_type": "display_data",
       "text": [
        "<IPython.core.display.Javascript object>"
       ]
      },
      {
       "javascript": [
        "$('div#471c5cee-e5dc-478a-a2da-c8d645af7a24').width('66.666667%')"
       ],
       "metadata": {},
       "output_type": "display_data",
       "text": [
        "<IPython.core.display.Javascript object>"
       ]
      },
      {
       "javascript": [
        "$('div#471c5cee-e5dc-478a-a2da-c8d645af7a24').width('83.333333%')"
       ],
       "metadata": {},
       "output_type": "display_data",
       "text": [
        "<IPython.core.display.Javascript object>"
       ]
      },
      {
       "javascript": [
        "$('div#471c5cee-e5dc-478a-a2da-c8d645af7a24').width('100.000000%')"
       ],
       "metadata": {},
       "output_type": "display_data",
       "text": [
        "<IPython.core.display.Javascript object>"
       ]
      },
      {
       "output_type": "stream",
       "stream": "stdout",
       "text": [
        "Running mapper & aggregator on the result objects (number of results=600, chunk size=100)\n"
       ]
      },
      {
       "html": [
        "\n",
        "                          <div style=\"border: 1px solid black; width:500px\">\n",
        "                          <div id=\"3107b89d-1c27-4a7f-885f-4ca14a93671f\" style=\"background-color:blue; width:0%\">&nbsp;</div>\n",
        "                          </div>\n",
        "                          "
       ],
       "metadata": {},
       "output_type": "display_data",
       "text": [
        "<IPython.core.display.HTML object>"
       ]
      },
      {
       "javascript": [
        "$('div#3107b89d-1c27-4a7f-885f-4ca14a93671f').width('16.666667%')"
       ],
       "metadata": {},
       "output_type": "display_data",
       "text": [
        "<IPython.core.display.Javascript object>"
       ]
      },
      {
       "javascript": [
        "$('div#3107b89d-1c27-4a7f-885f-4ca14a93671f').width('33.333333%')"
       ],
       "metadata": {},
       "output_type": "display_data",
       "text": [
        "<IPython.core.display.Javascript object>"
       ]
      },
      {
       "javascript": [
        "$('div#3107b89d-1c27-4a7f-885f-4ca14a93671f').width('50.000000%')"
       ],
       "metadata": {},
       "output_type": "display_data",
       "text": [
        "<IPython.core.display.Javascript object>"
       ]
      },
      {
       "javascript": [
        "$('div#3107b89d-1c27-4a7f-885f-4ca14a93671f').width('66.666667%')"
       ],
       "metadata": {},
       "output_type": "display_data",
       "text": [
        "<IPython.core.display.Javascript object>"
       ]
      },
      {
       "javascript": [
        "$('div#3107b89d-1c27-4a7f-885f-4ca14a93671f').width('83.333333%')"
       ],
       "metadata": {},
       "output_type": "display_data",
       "text": [
        "<IPython.core.display.Javascript object>"
       ]
      },
      {
       "javascript": [
        "$('div#3107b89d-1c27-4a7f-885f-4ca14a93671f').width('100.000000%')"
       ],
       "metadata": {},
       "output_type": "display_data",
       "text": [
        "<IPython.core.display.Javascript object>"
       ]
      },
      {
       "output_type": "stream",
       "stream": "stdout",
       "text": [
        "Running reducer on mapped and aggregated results (size=6)\n",
        "Number of engines: 6\n",
        "\tPhase1, wall_time: 135.254625\n",
        "\tPhase2, wall_time: 39.037726\n"
       ]
      }
     ],
     "prompt_number": 16
    },
    {
     "cell_type": "heading",
     "level": 3,
     "metadata": {},
     "source": [
      "PersistentStorage"
     ]
    },
    {
     "cell_type": "code",
     "collapsed": false,
     "input": [
      "# This test requires a working object store (S3 or Swift)\n",
      "import time\n",
      "wall_time_weak_persistent_phase1 = []\n",
      "wall_time_weak_persistent_phase2 = []\n",
      "for num_engines in engines:\n",
      "    # Phase1 - generate all the realizations and write them to disk\n",
      "    ensemble = DistributedEnsemble(model_class=SimpleDiffusion,num_engines=num_engines)\n",
      "    tic = time.time()\n",
      "    res  = ensemble.add_realizations(number_of_realizations=100*num_engines, storage_mode=\"Persistent\")\n",
      "    wall_time_1 = time.time()-tic\n",
      "    wall_time_weak_persistent_phase1.append(wall_time_1)\n",
      "    # Phase 2 - read all the realizations and compute the mean value\n",
      "    tic = time.time()\n",
      "    res = ensemble.mean(mapper=g)\n",
      "    wall_time_2 = time.time()-tic\n",
      "    wall_time_weak_persistent_phase2.append(wall_time_2)\n",
      "    \n",
      "    print \"Number of engines: %i\" % num_engines\n",
      "    print \"\\tPhase1, wall_time: %f\" % wall_time_1\n",
      "    print \"\\tPhase2, wall_time: %f\" % wall_time_2"
     ],
     "language": "python",
     "metadata": {},
     "outputs": []
    },
    {
     "cell_type": "heading",
     "level": 3,
     "metadata": {},
     "source": [
      "Running without storage"
     ]
    },
    {
     "cell_type": "code",
     "collapsed": false,
     "input": [
      "import time\n",
      "wall_time_weak_no_storage = []\n",
      "for num_engines in engines:\n",
      "    tic = time.time()\n",
      "    ensemble = DistributedEnsemble(model_class=SimpleDiffusion,num_engines=num_engines)\n",
      "    res  = ensemble.mean(mapper=g, number_of_realizations=100*num_engines, store_realizations=False)\n",
      "    wall_time = time.time()-tic\n",
      "    wall_time_weak_no_storage.append(wall_time)\n",
      "    print \"Number of engines: %i\" % num_engines\n",
      "    print \"\\tPhase1, wall_time: %f\" % wall_time"
     ],
     "language": "python",
     "metadata": {},
     "outputs": [
      {
       "output_type": "stream",
       "stream": "stdout",
       "text": [
        "Generating 100 realizations of the model, running mapper & aggregator (chunk size=100)\n"
       ]
      },
      {
       "html": [
        "\n",
        "                          <div style=\"border: 1px solid black; width:500px\">\n",
        "                          <div id=\"d226ca50-1a90-4d2b-a025-3bfc020423a0\" style=\"background-color:blue; width:0%\">&nbsp;</div>\n",
        "                          </div>\n",
        "                          "
       ],
       "metadata": {},
       "output_type": "display_data",
       "text": [
        "<IPython.core.display.HTML object>"
       ]
      },
      {
       "javascript": [
        "$('div#d226ca50-1a90-4d2b-a025-3bfc020423a0').width('100.000000%')"
       ],
       "metadata": {},
       "output_type": "display_data",
       "text": [
        "<IPython.core.display.Javascript object>"
       ]
      },
      {
       "output_type": "stream",
       "stream": "stdout",
       "text": [
        "Running reducer on mapped and aggregated results (size=1)\n",
        "Number of engines: 1\n",
        "\tPhase1, wall_time: 99.124195\n",
        "Generating 300 realizations of the model, running mapper & aggregator (chunk size=100)\n"
       ]
      },
      {
       "html": [
        "\n",
        "                          <div style=\"border: 1px solid black; width:500px\">\n",
        "                          <div id=\"a3a7d3da-8665-4b9e-8375-8acf574ab258\" style=\"background-color:blue; width:0%\">&nbsp;</div>\n",
        "                          </div>\n",
        "                          "
       ],
       "metadata": {},
       "output_type": "display_data",
       "text": [
        "<IPython.core.display.HTML object>"
       ]
      },
      {
       "javascript": [
        "$('div#a3a7d3da-8665-4b9e-8375-8acf574ab258').width('33.333333%')"
       ],
       "metadata": {},
       "output_type": "display_data",
       "text": [
        "<IPython.core.display.Javascript object>"
       ]
      },
      {
       "javascript": [
        "$('div#a3a7d3da-8665-4b9e-8375-8acf574ab258').width('66.666667%')"
       ],
       "metadata": {},
       "output_type": "display_data",
       "text": [
        "<IPython.core.display.Javascript object>"
       ]
      },
      {
       "javascript": [
        "$('div#a3a7d3da-8665-4b9e-8375-8acf574ab258').width('100.000000%')"
       ],
       "metadata": {},
       "output_type": "display_data",
       "text": [
        "<IPython.core.display.Javascript object>"
       ]
      },
      {
       "output_type": "stream",
       "stream": "stdout",
       "text": [
        "Running reducer on mapped and aggregated results (size=3)\n",
        "Number of engines: 3\n",
        "\tPhase1, wall_time: 99.894546\n",
        "Generating 600 realizations of the model, running mapper & aggregator (chunk size=100)\n"
       ]
      },
      {
       "html": [
        "\n",
        "                          <div style=\"border: 1px solid black; width:500px\">\n",
        "                          <div id=\"79a7e8f5-8a4a-4d92-b112-e31faf8e7c8c\" style=\"background-color:blue; width:0%\">&nbsp;</div>\n",
        "                          </div>\n",
        "                          "
       ],
       "metadata": {},
       "output_type": "display_data",
       "text": [
        "<IPython.core.display.HTML object>"
       ]
      },
      {
       "javascript": [
        "$('div#79a7e8f5-8a4a-4d92-b112-e31faf8e7c8c').width('16.666667%')"
       ],
       "metadata": {},
       "output_type": "display_data",
       "text": [
        "<IPython.core.display.Javascript object>"
       ]
      },
      {
       "javascript": [
        "$('div#79a7e8f5-8a4a-4d92-b112-e31faf8e7c8c').width('33.333333%')"
       ],
       "metadata": {},
       "output_type": "display_data",
       "text": [
        "<IPython.core.display.Javascript object>"
       ]
      },
      {
       "javascript": [
        "$('div#79a7e8f5-8a4a-4d92-b112-e31faf8e7c8c').width('50.000000%')"
       ],
       "metadata": {},
       "output_type": "display_data",
       "text": [
        "<IPython.core.display.Javascript object>"
       ]
      },
      {
       "javascript": [
        "$('div#79a7e8f5-8a4a-4d92-b112-e31faf8e7c8c').width('66.666667%')"
       ],
       "metadata": {},
       "output_type": "display_data",
       "text": [
        "<IPython.core.display.Javascript object>"
       ]
      },
      {
       "javascript": [
        "$('div#79a7e8f5-8a4a-4d92-b112-e31faf8e7c8c').width('83.333333%')"
       ],
       "metadata": {},
       "output_type": "display_data",
       "text": [
        "<IPython.core.display.Javascript object>"
       ]
      },
      {
       "javascript": [
        "$('div#79a7e8f5-8a4a-4d92-b112-e31faf8e7c8c').width('100.000000%')"
       ],
       "metadata": {},
       "output_type": "display_data",
       "text": [
        "<IPython.core.display.Javascript object>"
       ]
      },
      {
       "output_type": "stream",
       "stream": "stdout",
       "text": [
        "Running reducer on mapped and aggregated results (size=6)\n",
        "Number of engines: 6\n",
        "\tPhase1, wall_time: 129.138796\n"
       ]
      }
     ],
     "prompt_number": 18
    },
    {
     "cell_type": "code",
     "collapsed": false,
     "input": [
      "print engines\n",
      "print wall_time_weak_persistent_phase1\n",
      "print wall_time_weak_persistent_phase2\n",
      "print wall_time_weak_shared_phase1\n",
      "print wall_time_weak_shared_phase2\n",
      "print wall_time_weak_no_storage\n",
      "\n",
      "total = numpy.array(wall_time_weak_shared_phase1) + numpy.array(wall_time_weak_shared_phase2)\n",
      "plt.plot(engines, total, label=\"SharedStorage\")\n",
      "total = numpy.array(wall_time_weak_persistent_phase1) + numpy.array(wall_time_weak_persistent_phase2)\n",
      "plt.plot(engines, total, label=\"PersistentStorage\")\n",
      "plt.plot(engines, wall_time_weak_no_storage, label=\"No storage\")\n",
      "plt.legend(loc='best')\n",
      "plt.xlabel(\"Number of engines\")\n",
      "plt.ylabel(\"Execution time\")\n",
      "plt.title(\"Weak Scaling\")"
     ],
     "language": "python",
     "metadata": {},
     "outputs": []
    },
    {
     "cell_type": "code",
     "collapsed": false,
     "input": [
      "#Clean up\n",
      "from molnsutil import PersistentStorage\n",
      "ps = PersistentStorage()\n",
      "ps.delete_all()"
     ],
     "language": "python",
     "metadata": {},
     "outputs": []
    }
   ],
   "metadata": {}
  }
 ]
}