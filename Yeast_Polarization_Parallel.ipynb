{
 "metadata": {
  "name": "",
  "signature": "sha256:853d4d5efafb20729cb59bda43fcc1a71611c306068900f80bd3112f1a0b0056"
 },
 "nbformat": 3,
 "nbformat_minor": 0,
 "worksheets": [
  {
   "cells": [
    {
     "cell_type": "heading",
     "level": 1,
     "metadata": {},
     "source": [
      "Yeast Polarization Parallel"
     ]
    },
    {
     "cell_type": "markdown",
     "metadata": {},
     "source": [
      "Run a parallel model with different number of molecules running for each engine"
     ]
    },
    {
     "cell_type": "code",
     "collapsed": false,
     "input": [
      "import os\n",
      "from pyurdme import pyurdme\n",
      "import dolfin\n",
      "import matplotlib.pyplot as plt\n",
      "from mpl_toolkits.mplot3d import axes3d, Axes3D\n",
      "import numpy"
     ],
     "language": "python",
     "metadata": {},
     "outputs": [],
     "prompt_number": 63
    },
    {
     "cell_type": "code",
     "collapsed": false,
     "input": [
      "import IPython.parallel\n",
      "import sys\n",
      "import time\n",
      "import math\n",
      "\n",
      "# This is to disable annoying messages from FeniCS/UFL/FFC\n",
      "import logging\n",
      "logging.disable(logging.DEBUG)\n",
      "\n",
      "rc = IPython.parallel.Client()\n",
      "# We have to use dill instead of pickle to serialize dynamically defined classes\n",
      "rc[:].use_dill()\n",
      "rv = rc.load_balanced_view()\n",
      "\n",
      "# We are going to need to know the ids of the engines at the engines later on\n",
      "dv = rc[:] \n",
      "dv.scatter('engine_id', rc.ids, flatten=True)"
     ],
     "language": "python",
     "metadata": {},
     "outputs": [
      {
       "metadata": {},
       "output_type": "pyout",
       "prompt_number": 64,
       "text": [
        "<AsyncResult: finished>"
       ]
      }
     ],
     "prompt_number": 64
    },
    {
     "cell_type": "code",
     "collapsed": false,
     "input": [
      "class Membrane(dolfin.SubDomain):\n",
      "    def inside(self, x, on_boundary):\n",
      "        return on_boundary"
     ],
     "language": "python",
     "metadata": {},
     "outputs": [],
     "prompt_number": 65
    },
    {
     "cell_type": "code",
     "collapsed": false,
     "input": [
      "class polarization(pyurdme.URDMEModel):\n",
      "    def __init__(self, Nval, model_name=\"polarization\"):\n",
      "        pyurdme.URDMEModel.__init__(self, model_name)\n",
      "\n",
      "        # System constants\n",
      "        D_membrane = 0.0053    #diffusion on the membrane from Mike/Brian PLOS paper\n",
      "        D_bulk = 11          #from Wedlich-Soldner\n",
      "        k_on = pyurdme.Parameter(name=\"k_on\", expression=.0001/60)     #clustering for small values of this?\n",
      "        k_off = pyurdme.Parameter(name=\"k_off\", expression=9.0/60)   #from Altschuler\n",
      "        k_fb = pyurdme.Parameter(name=\"k_fb\", expression=10.0/60)    #from Altschuler\n",
      "        self.add_parameter([k_on, k_off, k_fb])\n",
      "        \n",
      "        A_initial = int(0.9*Nval)\n",
      "        B_initial = int(0.1*Nval)\n",
      "\n",
      "        # Define Species\n",
      "        A = pyurdme.Species(name=\"A\", diffusion_constant=D_bulk)\n",
      "        B = pyurdme.Species(name=\"B\", diffusion_constant=D_membrane)\n",
      "        self.add_species([A, B])\n",
      "\n",
      "        #Define Geometry\n",
      "        sphere = dolfin.Sphere(dolfin.Point(0.0, 0.0, 0.0), 5.0)\n",
      "        self.mesh = pyurdme.URDMEMesh(mesh=dolfin.Mesh(sphere, 10))\n",
      "        \n",
      "        cell_function = dolfin.CellFunction(\"size_t\",self.mesh)\n",
      "        cell_function.set_all(1)\n",
      "        \n",
      "        facet_function = dolfin.FacetFunction(\"size_t\",self.mesh)\n",
      "        facet_function.set_all(0)\n",
      "        \n",
      "        membrane = Membrane()\n",
      "        membrane.mark(facet_function,2)\n",
      "        \n",
      "        self.add_subdomain(cell_function)\n",
      "        self.add_subdomain(facet_function)\n",
      "\n",
      "        # Define Reactions\n",
      "        R1 = pyurdme.Reaction(name=\"R1\", reactants={A:1}, products={B:1}, \n",
      "           massaction=True, rate=k_on, restrict_to=2)\n",
      "        R2 = pyurdme.Reaction(name=\"R2\", reactants={B:1}, products={A:1}, \n",
      "           massaction=True, rate=k_off, restrict_to=2)\n",
      "        R3 = pyurdme.Reaction(name=\"R3\", reactants={A:1, B:1}, products={B:2}, \n",
      "            massaction=True, rate=k_fb)\n",
      "        self.add_reaction([R1, R2, R3])\n",
      "        \n",
      "        #Restrict species B to the membrane\n",
      "        self.restrict(species=B,subdomains=[2])\n",
      "        \n",
      "        # Define simulation timespan\n",
      "        self.timespan(range(1000))\n",
      "        #Define initial populations\n",
      "        self.set_initial_condition_scatter({A:A_initial},[1])\n",
      "        self.set_initial_condition_scatter({B:B_initial},[2])"
     ],
     "language": "python",
     "metadata": {},
     "outputs": [],
     "prompt_number": 66
    },
    {
     "cell_type": "code",
     "collapsed": false,
     "input": [
      "@IPython.parallel.require(polarization,pyurdme)\n",
      "def run_ensemble(model):\n",
      "    \"\"\" Generates an ensemble consisting of number_of_trajectories realizations. \n",
      "        Returns a list of result objects. \"\"\"    \n",
      "    \n",
      "    import pyurdme\n",
      "    import sys\n",
      "    import uuid\n",
      "    \n",
      "    # Run the solver \n",
      "    results = []\n",
      "    results.append(model.run())\n",
      "    \n",
      "    # Write the result as a binary to disk on the engine and return a (engine_id, filename) tuple. \n",
      "    filenames = []\n",
      "    for r in results:\n",
      "        filename = str(uuid.uuid1())\n",
      "        with open(filename,'wb') as fh:\n",
      "            fh.write(dill.dumps(r))\n",
      "        filenames.append(filename)\n",
      "        \n",
      "    return engine_id, filenames "
     ],
     "language": "python",
     "metadata": {},
     "outputs": [],
     "prompt_number": 67
    },
    {
     "cell_type": "code",
     "collapsed": false,
     "input": [
      "Nval_list = [550,1000,4000]\n",
      "model_list = []\n",
      "for i in Nval_list:\n",
      "    model_list.append(polarization(i))\n",
      "\n",
      "results  = dv.map_async(run_ensemble,model_list)\n",
      "results.wait()\n",
      "print results.wall_time"
     ],
     "language": "python",
     "metadata": {},
     "outputs": [
      {
       "output_type": "stream",
       "stream": "stdout",
       "text": [
        "148.6314\n"
       ]
      }
     ],
     "prompt_number": 68
    },
    {
     "cell_type": "code",
     "collapsed": false,
     "input": [
      "# Construct a new view to the engines that match the locations of the output files, so we can map on the results.\n",
      "view = []\n",
      "for r in results:\n",
      "    view.append(r[0])"
     ],
     "language": "python",
     "metadata": {},
     "outputs": [],
     "prompt_number": 69
    },
    {
     "cell_type": "code",
     "collapsed": false,
     "input": [
      "def postprocess(results):\n",
      "    \n",
      "    import dill\n",
      "    import numpy\n",
      "    import dolfin\n",
      "    \n",
      "    rr = []\n",
      "    filenames = results[1]\n",
      "    for i,filename in enumerate(filenames):\n",
      "         with open(filename,'rb') as fh:\n",
      "            result = dill.loads(fh.read())\n",
      "         #rr.append(result.get_species('B', timepoints=999, concentration=False))\n",
      "         B_vs_time=[]\n",
      "         for n,t in enumerate(model_list[i].tspan):\n",
      "             B_vals_plot = result.get_species('B', timepoints=n, concentration=False)\n",
      "             B_vs_time.append(numpy.sum(B_vals_plot))\n",
      "         rr.append(B_vs_time)\n",
      "    return rr   "
     ],
     "language": "python",
     "metadata": {},
     "outputs": [],
     "prompt_number": 70
    },
    {
     "cell_type": "code",
     "collapsed": false,
     "input": [
      "# Now map the postprocessing routine using the view that matches the file locations on the engines. \n",
      "pr = rc[view].map_async(postprocess,results)\n",
      "pr.wait()\n",
      "#print numpy.mean(pr), \"+-\", 1.96*numpy.std(pr)/math.sqrt(nt*num_chunks)\n",
      "#print \"Time to postprocess:\",pr.wall_time"
     ],
     "language": "python",
     "metadata": {},
     "outputs": [],
     "prompt_number": 71
    },
    {
     "cell_type": "code",
     "collapsed": false,
     "input": [
      "plt.plot(pr[0])\n",
      "plt.xlabel('Time [s]')\n",
      "plt.ylabel('Sum of Membrane Species [# particles]')"
     ],
     "language": "python",
     "metadata": {},
     "outputs": [
      {
       "ename": "CompositeError",
       "evalue": "one or more exceptions from call to method: postprocess\n[0:apply]: NameError: global name 'model_list' is not defined",
       "output_type": "pyerr",
       "traceback": [
        "[0:apply]: ",
        "\u001b[1;31m---------------------------------------------------------------------------\u001b[0m",
        "\u001b[1;31mNameError\u001b[0m                                 Traceback (most recent call last)\u001b[1;32m<string>\u001b[0m in \u001b[0;36m<module>\u001b[1;34m()\u001b[0m",
        "\u001b[1;32m<ipython-input-70-f59029953e82>\u001b[0m in \u001b[0;36mpostprocess\u001b[1;34m(results)\u001b[0m",
        "\u001b[1;31mNameError\u001b[0m: global name 'model_list' is not defined",
        ""
       ]
      }
     ],
     "prompt_number": 74
    },
    {
     "cell_type": "code",
     "collapsed": false,
     "input": [
      "# Clean up on the engines\n",
      "def cleanup(results):\n",
      "    import os\n",
      "    filenames = results[1]\n",
      "    for filename in filenames:\n",
      "        os.remove(filename)\n",
      "    \n",
      "res = rc[view].map(cleanup, results)\n",
      "res.wait()\n",
      "print \"Time to delete all the results on the engines:\", res.wall_time"
     ],
     "language": "python",
     "metadata": {},
     "outputs": []
    },
    {
     "cell_type": "code",
     "collapsed": false,
     "input": [
      "model_list[1].mesh.get_num_voxels()"
     ],
     "language": "python",
     "metadata": {},
     "outputs": []
    },
    {
     "cell_type": "code",
     "collapsed": false,
     "input": [
      "model_list[1].sd_initialied"
     ],
     "language": "python",
     "metadata": {},
     "outputs": []
    },
    {
     "cell_type": "code",
     "collapsed": false,
     "input": [
      "%time result = model_list[1].run()"
     ],
     "language": "python",
     "metadata": {},
     "outputs": []
    },
    {
     "cell_type": "code",
     "collapsed": false,
     "input": [
      "B_vs_time=[]\n",
      "for n,t in enumerate(model_list[1].tspan):\n",
      "    B_vals_plot = result.get_species('B', timepoints=n, concentration=False)\n",
      "    B_vs_time.append(numpy.sum(B_vals_plot))"
     ],
     "language": "python",
     "metadata": {},
     "outputs": []
    },
    {
     "cell_type": "code",
     "collapsed": false,
     "input": [
      "plt.plot(B_vs_time)\n",
      "plt.xlabel('Time [s]')\n",
      "plt.ylabel('Sum of Membrane Species [# particles]')\n",
      "#plt.title('Sum of Membrane Species k_on = .001/60')"
     ],
     "language": "python",
     "metadata": {},
     "outputs": []
    },
    {
     "cell_type": "code",
     "collapsed": false,
     "input": [
      "def _connectivityGraph(mesh):\n",
      "    mesh.init()\n",
      "        \n",
      "    # incidence relation between vertices and edges\n",
      "    conn = mesh.topology()(0,mesh.topology().dim()-2)\n",
      "    edg2vtx = mesh.topology()(mesh.topology().dim()-2,0)\n",
      "        \n",
      "    connectivity = []\n",
      "    for vertex in range(mesh.num_vertices()):\n",
      "        temp = []\n",
      "        for edg in conn(vertex):\n",
      "            for vtx in edg2vtx(edg):\n",
      "                if vtx not in temp:\n",
      "                    temp.append(vtx)\n",
      "\n",
      "        temp.remove(vertex)\n",
      "        connectivity.append(temp)\n",
      "\n",
      "    return connectivity\n",
      "\n",
      "neighbor_list = _connectivityGraph(model_list[1].mesh)"
     ],
     "language": "python",
     "metadata": {},
     "outputs": []
    },
    {
     "cell_type": "code",
     "collapsed": false,
     "input": [
      "data = model_list[1].get_solver_datastructure()\n",
      "sd = model_list[1].get_subdomain_vector()\n",
      "\n",
      "vol = data['vol']\n",
      "membrane_voxels = []\n",
      "for voxel_index, voxel_coords in enumerate(model_list[1].mesh.coordinates()):\n",
      "    if sd[voxel_index] == 2:\n",
      "        membrane_voxels.append(voxel_index)\n",
      "        #print voxel_index, \" is on the membrane\"\n",
      "        \n",
      "len(membrane_voxels)\n",
      "print data['K'].shape\n",
      "print data['D'].shape"
     ],
     "language": "python",
     "metadata": {},
     "outputs": []
    },
    {
     "cell_type": "code",
     "collapsed": false,
     "input": [
      "B_vals_list = []\n",
      "B_vals_to_check_list = []\n",
      "min_to_check_list = []\n",
      "voxels_center_list = []\n",
      "B_vals_sort_list = []\n",
      "for n,t in enumerate(model_list[1].tspan):\n",
      "    B_val_temp = result.get_species('B', timepoints=n, concentration=False)\n",
      "    B_vals_list.append(B_val_temp)\n",
      "    B_vals_sort_list.append(sorted(B_vals_list[n]))\n",
      "\n",
      "for idx,val in enumerate(B_vals_sort_list):\n",
      "    B_vals_to_check_list.append(B_vals_sort_list[idx][int(len(B_vals_sort_list[idx]) * .98) : int(len(B_vals_sort_list[idx]) * 1.0)]) \n",
      "    min_to_check_list.append(min(B_vals_to_check_list[idx]))\n",
      "    voxels_center_list.append(map(int,[i for i, j in enumerate(B_vals_list[idx]) if j >= min_to_check_list[idx] and sd[i] == 2])) "
     ],
     "language": "python",
     "metadata": {},
     "outputs": []
    },
    {
     "cell_type": "code",
     "collapsed": false,
     "input": [
      "#This currently uses the voxels listed in voxels_center (which are the top \"X\" percent of particle counts in B_vals) and checks\n",
      "#an area around the center equivalent to roughly 10% of the membrane surface area and calculates a percentage of membrane particles\n",
      "#found for each one\n",
      "def percent_polarized_v_time(model,result):\n",
      "    percent_polarized_max_list = []\n",
      "    for n,t in enumerate(model.tspan):\n",
      "        \n",
      "        B_check = sum(B_vals_list[n])\n",
      "        particle_sum_list = []\n",
      "        percentage_around_center_list = []\n",
      "        voxel_counter_list = []\n",
      "        voxels_visited_list = []\n",
      "        if B_check==0:\n",
      "            percentage_around_center = 0\n",
      "            percentage_around_center_list.append([percentage_around_center])\n",
      "        else:\n",
      "            j = 0\n",
      "            for v in voxels_center_list[n]:\n",
      "                particle_sum = 0.0\n",
      "                percentage_around_center = 0.0\n",
      "                voxel_counter = 0.0\n",
      "                voxels_visited = []\n",
      "                x_center = model.mesh.coordinates()[v,0]\n",
      "                y_center = model.mesh.coordinates()[v,1]\n",
      "                z_center = model.mesh.coordinates()[v,2]\n",
      "                dist_center = numpy.sqrt(x_center*x_center + y_center*y_center + z_center*z_center)\n",
      "                for i in membrane_voxels: \n",
      "                    x_check = model.mesh.coordinates()[i,0]\n",
      "                    y_check = model.mesh.coordinates()[i,1]\n",
      "                    z_check = model.mesh.coordinates()[i,2]\n",
      "                    dist_check = numpy.sqrt(x_check*x_check + y_check*y_check + z_check*z_check)\n",
      "                    angle_between = numpy.arccos(numpy.dot([x_center,y_center,z_center],[x_check,y_check,z_check])/(dist_check*dist_center) - 1e-8)\n",
      "                    if angle_between <= arcsin(.6):\n",
      "                        particle_sum = particle_sum + B_vals_list[n][i]\n",
      "                        voxel_counter = voxel_counter + 1\n",
      "                        voxels_visited.append(i)\n",
      "\n",
      "                particle_sum_list.append(particle_sum)\n",
      "                voxel_counter_list.append(voxel_counter)\n",
      "                voxels_visited_list.append([voxels_visited,v])\n",
      "\n",
      "                percentage_around_center = particle_sum_list[j]/B_check*100 \n",
      "\n",
      "                percentage_around_center_list.append([percentage_around_center,v])\n",
      "                j = j + 1\n",
      "            \n",
      "        percent_polarized_max_list.append(max(percentage_around_center_list)[0])\n",
      "    \n",
      "    return percent_polarized_max_list"
     ],
     "language": "python",
     "metadata": {},
     "outputs": []
    },
    {
     "cell_type": "code",
     "collapsed": false,
     "input": [
      "%time percent_polarized_v_time_temp = percent_polarized_v_time(model_list[1],result)"
     ],
     "language": "python",
     "metadata": {},
     "outputs": []
    },
    {
     "cell_type": "code",
     "collapsed": false,
     "input": [
      "max(percent_polarized_v_time_temp)"
     ],
     "language": "python",
     "metadata": {},
     "outputs": []
    },
    {
     "cell_type": "code",
     "collapsed": false,
     "input": [
      "numpy.mean(percent_polarized_v_time_temp)"
     ],
     "language": "python",
     "metadata": {},
     "outputs": []
    },
    {
     "cell_type": "code",
     "collapsed": false,
     "input": [
      "numpy.std(percent_polarized_v_time_temp)"
     ],
     "language": "python",
     "metadata": {},
     "outputs": []
    },
    {
     "cell_type": "code",
     "collapsed": false,
     "input": [
      "fifty = []\n",
      "for i,val in enumerate(model_list[1].tspan):\n",
      "    fifty.append(50.0)\n",
      "\n",
      "plt.plot(model_list[1].tspan,percent_polarized_v_time_temp,'b',model_list[1].tspan, fifty,'r')\n",
      "plt.xlabel('Time [s]')\n",
      "plt.ylabel('Max Percent Polarization [%]')\n",
      "#plt.title('Polarization Percentage k_on = .001/60')"
     ],
     "language": "python",
     "metadata": {},
     "outputs": []
    }
   ],
   "metadata": {}
  }
 ]
}