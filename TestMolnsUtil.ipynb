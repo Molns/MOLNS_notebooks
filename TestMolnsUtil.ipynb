{
 "metadata": {
  "name": "",
  "signature": "sha256:33ce57b609ed2e76e020640e7612cbc0582404133f56069b698503c4bca2f028"
 },
 "nbformat": 3,
 "nbformat_minor": 0,
 "worksheets": [
  {
   "cells": [
    {
     "cell_type": "code",
     "collapsed": false,
     "input": [
      "import IPython.parallel\n",
      "from molnsutil import DistributedEnsemble\n",
      "rc = IPython.parallel.Client()\n",
      "import pyurdme\n",
      "import pyurdme.nsmsolver\n",
      "print \"Number of engines: {0}\".format(len(rc.ids))"
     ],
     "language": "python",
     "metadata": {},
     "outputs": [
      {
       "output_type": "stream",
       "stream": "stdout",
       "text": [
        "Number of engines: 6\n"
       ]
      }
     ],
     "prompt_number": 11
    },
    {
     "cell_type": "code",
     "collapsed": false,
     "input": [
      "class SimpleDiffusion(pyurdme.URDMEModel):\n",
      "    \"\"\" This simple Hello World model consists of a single\n",
      "        species diffusing on a unit square. The initial \n",
      "        condition is a delta function on the voxel closest \n",
      "        to the center of the grid. \n",
      "    \"\"\"\n",
      "    def __init__(self, N=1000):\n",
      "        pyurdme.URDMEModel.__init__(self,name=\"simple_diffusion\")\n",
      "        # Create species A\n",
      "        A = pyurdme.Species(name=\"A\", diffusion_constant=0.01)\n",
      "        self.add_species([A])\n",
      "        # Create a unit square mesh\n",
      "        self.mesh = pyurdme.URDMEMesh.generate_unit_square_mesh(40,40)\n",
      "        # Place the A molecules in the center of the square\n",
      "        self.set_initial_condition_place_near({A:N},point=[0.5,0.5])\n",
      "        # Simulate from time 0 to 1000 sampeling each second\n",
      "        self.timespan(numpy.linspace(0,1,1000))"
     ],
     "language": "python",
     "metadata": {},
     "outputs": [],
     "prompt_number": 3
    },
    {
     "cell_type": "code",
     "collapsed": false,
     "input": [
      "model = SimpleDiffusion()\n",
      "solver = pyurdme.nsmsolver.NSMSolver(model)\n",
      "%time result = solver.run()"
     ],
     "language": "python",
     "metadata": {},
     "outputs": [
      {
       "output_type": "stream",
       "stream": "stdout",
       "text": [
        "CPU times: user 759 ms, sys: 117 ms, total: 876 ms\n",
        "Wall time: 5.2 s\n"
       ]
      }
     ],
     "prompt_number": 4
    },
    {
     "cell_type": "code",
     "collapsed": false,
     "input": [
      "#result.display('A', 999)"
     ],
     "language": "python",
     "metadata": {},
     "outputs": [],
     "prompt_number": 5
    },
    {
     "cell_type": "markdown",
     "metadata": {},
     "source": [
      "---"
     ]
    },
    {
     "cell_type": "heading",
     "level": 1,
     "metadata": {},
     "source": [
      "Test Distributed Ensembles"
     ]
    },
    {
     "cell_type": "code",
     "collapsed": false,
     "input": [
      "def g(result):\n",
      "    \"\"\" Mapper to extract the values of A at the endpoint. \"\"\"\n",
      "    import numpy\n",
      "    A = numpy.sum(result.get_species(\"A\", -1))\n",
      "    return A"
     ],
     "language": "python",
     "metadata": {},
     "outputs": [],
     "prompt_number": 6
    },
    {
     "cell_type": "code",
     "collapsed": false,
     "input": [
      "ensemble = DistributedEnsemble(model_class=SimpleDiffusion)\n",
      "res  = ensemble.add_realizations(number_of_realizations=200, chunk_size=10)\n",
      "print \"Time to compute:\", res[\"wall_time\"]"
     ],
     "language": "python",
     "metadata": {},
     "outputs": [
      {
       "output_type": "stream",
       "stream": "stdout",
       "text": [
        "Generating 200 realizations of the model (chunk size=10)\n"
       ]
      },
      {
       "html": [
        "\n",
        "                          <div style=\"border: 1px solid black; width:500px\">\n",
        "                          <div id=\"1e47dc92-7fbd-47e7-b92c-0c2607dffeba\" style=\"background-color:blue; width:0%\">&nbsp;</div>\n",
        "                          </div>\n",
        "                          "
       ],
       "metadata": {},
       "output_type": "display_data",
       "text": [
        "<IPython.core.display.HTML at 0x7fa738fa87d0>"
       ]
      },
      {
       "javascript": [
        "$('div#1e47dc92-7fbd-47e7-b92c-0c2607dffeba').width('5.000000%')"
       ],
       "metadata": {},
       "output_type": "display_data",
       "text": [
        "<IPython.core.display.Javascript at 0x7fa738bcd290>"
       ]
      },
      {
       "javascript": [
        "$('div#1e47dc92-7fbd-47e7-b92c-0c2607dffeba').width('10.000000%')"
       ],
       "metadata": {},
       "output_type": "display_data",
       "text": [
        "<IPython.core.display.Javascript at 0x7fa738bcd3d0>"
       ]
      },
      {
       "javascript": [
        "$('div#1e47dc92-7fbd-47e7-b92c-0c2607dffeba').width('15.000000%')"
       ],
       "metadata": {},
       "output_type": "display_data",
       "text": [
        "<IPython.core.display.Javascript at 0x7fa738fd6390>"
       ]
      },
      {
       "javascript": [
        "$('div#1e47dc92-7fbd-47e7-b92c-0c2607dffeba').width('20.000000%')"
       ],
       "metadata": {},
       "output_type": "display_data",
       "text": [
        "<IPython.core.display.Javascript at 0x7fa738bcd1d0>"
       ]
      },
      {
       "javascript": [
        "$('div#1e47dc92-7fbd-47e7-b92c-0c2607dffeba').width('25.000000%')"
       ],
       "metadata": {},
       "output_type": "display_data",
       "text": [
        "<IPython.core.display.Javascript at 0x7fa738bcd0d0>"
       ]
      },
      {
       "javascript": [
        "$('div#1e47dc92-7fbd-47e7-b92c-0c2607dffeba').width('30.000000%')"
       ],
       "metadata": {},
       "output_type": "display_data",
       "text": [
        "<IPython.core.display.Javascript at 0x7fa738bcd450>"
       ]
      },
      {
       "javascript": [
        "$('div#1e47dc92-7fbd-47e7-b92c-0c2607dffeba').width('35.000000%')"
       ],
       "metadata": {},
       "output_type": "display_data",
       "text": [
        "<IPython.core.display.Javascript at 0x7fa738bcd310>"
       ]
      },
      {
       "javascript": [
        "$('div#1e47dc92-7fbd-47e7-b92c-0c2607dffeba').width('40.000000%')"
       ],
       "metadata": {},
       "output_type": "display_data",
       "text": [
        "<IPython.core.display.Javascript at 0x7fa738bcd2d0>"
       ]
      },
      {
       "javascript": [
        "$('div#1e47dc92-7fbd-47e7-b92c-0c2607dffeba').width('45.000000%')"
       ],
       "metadata": {},
       "output_type": "display_data",
       "text": [
        "<IPython.core.display.Javascript at 0x7fa738bcd410>"
       ]
      },
      {
       "javascript": [
        "$('div#1e47dc92-7fbd-47e7-b92c-0c2607dffeba').width('50.000000%')"
       ],
       "metadata": {},
       "output_type": "display_data",
       "text": [
        "<IPython.core.display.Javascript at 0x7fa738bcd350>"
       ]
      },
      {
       "javascript": [
        "$('div#1e47dc92-7fbd-47e7-b92c-0c2607dffeba').width('55.000000%')"
       ],
       "metadata": {},
       "output_type": "display_data",
       "text": [
        "<IPython.core.display.Javascript at 0x7fa738bcd490>"
       ]
      },
      {
       "javascript": [
        "$('div#1e47dc92-7fbd-47e7-b92c-0c2607dffeba').width('60.000000%')"
       ],
       "metadata": {},
       "output_type": "display_data",
       "text": [
        "<IPython.core.display.Javascript at 0x7fa738bcd4d0>"
       ]
      },
      {
       "javascript": [
        "$('div#1e47dc92-7fbd-47e7-b92c-0c2607dffeba').width('65.000000%')"
       ],
       "metadata": {},
       "output_type": "display_data",
       "text": [
        "<IPython.core.display.Javascript at 0x7fa738bcd290>"
       ]
      },
      {
       "javascript": [
        "$('div#1e47dc92-7fbd-47e7-b92c-0c2607dffeba').width('70.000000%')"
       ],
       "metadata": {},
       "output_type": "display_data",
       "text": [
        "<IPython.core.display.Javascript at 0x7fa738bcd510>"
       ]
      },
      {
       "javascript": [
        "$('div#1e47dc92-7fbd-47e7-b92c-0c2607dffeba').width('75.000000%')"
       ],
       "metadata": {},
       "output_type": "display_data",
       "text": [
        "<IPython.core.display.Javascript at 0x7fa738bcd550>"
       ]
      },
      {
       "javascript": [
        "$('div#1e47dc92-7fbd-47e7-b92c-0c2607dffeba').width('80.000000%')"
       ],
       "metadata": {},
       "output_type": "display_data",
       "text": [
        "<IPython.core.display.Javascript at 0x7fa738bcd590>"
       ]
      },
      {
       "javascript": [
        "$('div#1e47dc92-7fbd-47e7-b92c-0c2607dffeba').width('85.000000%')"
       ],
       "metadata": {},
       "output_type": "display_data",
       "text": [
        "<IPython.core.display.Javascript at 0x7fa738bcd5d0>"
       ]
      },
      {
       "javascript": [
        "$('div#1e47dc92-7fbd-47e7-b92c-0c2607dffeba').width('90.000000%')"
       ],
       "metadata": {},
       "output_type": "display_data",
       "text": [
        "<IPython.core.display.Javascript at 0x7fa738bcd610>"
       ]
      },
      {
       "javascript": [
        "$('div#1e47dc92-7fbd-47e7-b92c-0c2607dffeba').width('95.000000%')"
       ],
       "metadata": {},
       "output_type": "display_data",
       "text": [
        "<IPython.core.display.Javascript at 0x7fa738bcd650>"
       ]
      },
      {
       "javascript": [
        "$('div#1e47dc92-7fbd-47e7-b92c-0c2607dffeba').width('100.000000%')"
       ],
       "metadata": {},
       "output_type": "display_data",
       "text": [
        "<IPython.core.display.Javascript at 0x7fa738bcd690>"
       ]
      },
      {
       "output_type": "stream",
       "stream": "stdout",
       "text": [
        "Time to compute: 24.193718\n"
       ]
      }
     ],
     "prompt_number": 7
    },
    {
     "cell_type": "code",
     "collapsed": false,
     "input": [
      "%time mean_val = ensemble.mean(mapper=g)\n",
      "print \"Mean of g:\", mean_val"
     ],
     "language": "python",
     "metadata": {},
     "outputs": [
      {
       "output_type": "stream",
       "stream": "stdout",
       "text": [
        "Running mapper & aggregator on the result objects (number of results=200, chunk size=33)\n"
       ]
      },
      {
       "html": [
        "\n",
        "                          <div style=\"border: 1px solid black; width:500px\">\n",
        "                          <div id=\"39804fce-8271-4331-b58f-2fbea24ef5de\" style=\"background-color:blue; width:0%\">&nbsp;</div>\n",
        "                          </div>\n",
        "                          "
       ],
       "metadata": {},
       "output_type": "display_data",
       "text": [
        "<IPython.core.display.HTML at 0x7fa738fd6410>"
       ]
      },
      {
       "javascript": [
        "$('div#39804fce-8271-4331-b58f-2fbea24ef5de').width('14.285714%')"
       ],
       "metadata": {},
       "output_type": "display_data",
       "text": [
        "<IPython.core.display.Javascript at 0x7fa738bcd710>"
       ]
      },
      {
       "javascript": [
        "$('div#39804fce-8271-4331-b58f-2fbea24ef5de').width('28.571429%')"
       ],
       "metadata": {},
       "output_type": "display_data",
       "text": [
        "<IPython.core.display.Javascript at 0x7fa738bcd210>"
       ]
      },
      {
       "javascript": [
        "$('div#39804fce-8271-4331-b58f-2fbea24ef5de').width('42.857143%')"
       ],
       "metadata": {},
       "output_type": "display_data",
       "text": [
        "<IPython.core.display.Javascript at 0x7fa738bcd7d0>"
       ]
      },
      {
       "javascript": [
        "$('div#39804fce-8271-4331-b58f-2fbea24ef5de').width('57.142857%')"
       ],
       "metadata": {},
       "output_type": "display_data",
       "text": [
        "<IPython.core.display.Javascript at 0x7fa738bcd090>"
       ]
      },
      {
       "javascript": [
        "$('div#39804fce-8271-4331-b58f-2fbea24ef5de').width('71.428571%')"
       ],
       "metadata": {},
       "output_type": "display_data",
       "text": [
        "<IPython.core.display.Javascript at 0x7fa738bcd3d0>"
       ]
      },
      {
       "javascript": [
        "$('div#39804fce-8271-4331-b58f-2fbea24ef5de').width('85.714286%')"
       ],
       "metadata": {},
       "output_type": "display_data",
       "text": [
        "<IPython.core.display.Javascript at 0x7fa738bcd390>"
       ]
      },
      {
       "javascript": [
        "$('div#39804fce-8271-4331-b58f-2fbea24ef5de').width('100.000000%')"
       ],
       "metadata": {},
       "output_type": "display_data",
       "text": [
        "<IPython.core.display.Javascript at 0x7fa738bcd790>"
       ]
      },
      {
       "output_type": "stream",
       "stream": "stdout",
       "text": [
        "Running reducer on mapped and aggregated results (size=7)\n",
        "CPU times: user 203 ms, sys: 27.4 ms, total: 231 ms\n",
        "Wall time: 1.83 s\n",
        "Mean of g: 1000.0\n"
       ]
      }
     ],
     "prompt_number": 8
    },
    {
     "cell_type": "heading",
     "level": 3,
     "metadata": {},
     "source": [
      "Test running without storage"
     ]
    },
    {
     "cell_type": "code",
     "collapsed": false,
     "input": [
      "%time m =  ensemble.mean(mapper=g, store_realizations=False, number_of_realizations=200)\n",
      "print \"Mean of g:\", m"
     ],
     "language": "python",
     "metadata": {},
     "outputs": [
      {
       "output_type": "stream",
       "stream": "stdout",
       "text": [
        "Generating 200 realizations of the model, running mapper & aggregator (chunk size=33)\n"
       ]
      },
      {
       "html": [
        "\n",
        "                          <div style=\"border: 1px solid black; width:500px\">\n",
        "                          <div id=\"e2e79641-1e87-4a90-82e3-9f34ebb2aeab\" style=\"background-color:blue; width:0%\">&nbsp;</div>\n",
        "                          </div>\n",
        "                          "
       ],
       "metadata": {},
       "output_type": "display_data",
       "text": [
        "<IPython.core.display.HTML at 0x7fa7ae247850>"
       ]
      },
      {
       "javascript": [
        "$('div#e2e79641-1e87-4a90-82e3-9f34ebb2aeab').width('14.285714%')"
       ],
       "metadata": {},
       "output_type": "display_data",
       "text": [
        "<IPython.core.display.Javascript at 0x7fa7ae247a10>"
       ]
      },
      {
       "javascript": [
        "$('div#e2e79641-1e87-4a90-82e3-9f34ebb2aeab').width('28.571429%')"
       ],
       "metadata": {},
       "output_type": "display_data",
       "text": [
        "<IPython.core.display.Javascript at 0x7fa7ae247b10>"
       ]
      },
      {
       "javascript": [
        "$('div#e2e79641-1e87-4a90-82e3-9f34ebb2aeab').width('42.857143%')"
       ],
       "metadata": {},
       "output_type": "display_data",
       "text": [
        "<IPython.core.display.Javascript at 0x7fa7ae247c50>"
       ]
      },
      {
       "javascript": [
        "$('div#e2e79641-1e87-4a90-82e3-9f34ebb2aeab').width('57.142857%')"
       ],
       "metadata": {},
       "output_type": "display_data",
       "text": [
        "<IPython.core.display.Javascript at 0x7fa7ae247b50>"
       ]
      },
      {
       "javascript": [
        "$('div#e2e79641-1e87-4a90-82e3-9f34ebb2aeab').width('71.428571%')"
       ],
       "metadata": {},
       "output_type": "display_data",
       "text": [
        "<IPython.core.display.Javascript at 0x7fa7ae247890>"
       ]
      },
      {
       "javascript": [
        "$('div#e2e79641-1e87-4a90-82e3-9f34ebb2aeab').width('85.714286%')"
       ],
       "metadata": {},
       "output_type": "display_data",
       "text": [
        "<IPython.core.display.Javascript at 0x7fa7ae247a50>"
       ]
      },
      {
       "javascript": [
        "$('div#e2e79641-1e87-4a90-82e3-9f34ebb2aeab').width('100.000000%')"
       ],
       "metadata": {},
       "output_type": "display_data",
       "text": [
        "<IPython.core.display.Javascript at 0x7fa7ae2478d0>"
       ]
      },
      {
       "output_type": "stream",
       "stream": "stdout",
       "text": [
        "Running reducer on mapped and aggregated results (size=7)\n",
        "CPU times: user 1.45 s, sys: 179 ms, total: 1.63 s\n",
        "Wall time: 14.1 s\n",
        "Mean of g: 1000.0\n"
       ]
      }
     ],
     "prompt_number": 7
    },
    {
     "cell_type": "heading",
     "level": 3,
     "metadata": {},
     "source": [
      "Test global storage"
     ]
    },
    {
     "cell_type": "code",
     "collapsed": false,
     "input": [
      "sde = DistributedEnsemble(model_class=SimpleDiffusion)\n",
      "%time sde.add_realizations(number_of_realizations=200, storage_mode='Shared')\n",
      "%time print \"Mean of g:\",sde.mean(mapper=g)"
     ],
     "language": "python",
     "metadata": {},
     "outputs": [
      {
       "output_type": "stream",
       "stream": "stdout",
       "text": [
        "Generating 200 realizations of the model (chunk size=33)\n"
       ]
      },
      {
       "html": [
        "\n",
        "                          <div style=\"border: 1px solid black; width:500px\">\n",
        "                          <div id=\"e97793a0-f63e-4abe-8ff5-41caa35a4988\" style=\"background-color:blue; width:0%\">&nbsp;</div>\n",
        "                          </div>\n",
        "                          "
       ],
       "metadata": {},
       "output_type": "display_data",
       "text": [
        "<IPython.core.display.HTML at 0x7fa7ae247b90>"
       ]
      },
      {
       "javascript": [
        "$('div#e97793a0-f63e-4abe-8ff5-41caa35a4988').width('14.285714%')"
       ],
       "metadata": {},
       "output_type": "display_data",
       "text": [
        "<IPython.core.display.Javascript at 0x7fa7ae19a190>"
       ]
      },
      {
       "javascript": [
        "$('div#e97793a0-f63e-4abe-8ff5-41caa35a4988').width('28.571429%')"
       ],
       "metadata": {},
       "output_type": "display_data",
       "text": [
        "<IPython.core.display.Javascript at 0x7fa7ae19a250>"
       ]
      },
      {
       "javascript": [
        "$('div#e97793a0-f63e-4abe-8ff5-41caa35a4988').width('42.857143%')"
       ],
       "metadata": {},
       "output_type": "display_data",
       "text": [
        "<IPython.core.display.Javascript at 0x7fa7ae19a150>"
       ]
      },
      {
       "javascript": [
        "$('div#e97793a0-f63e-4abe-8ff5-41caa35a4988').width('57.142857%')"
       ],
       "metadata": {},
       "output_type": "display_data",
       "text": [
        "<IPython.core.display.Javascript at 0x7fa7ae19a0d0>"
       ]
      },
      {
       "javascript": [
        "$('div#e97793a0-f63e-4abe-8ff5-41caa35a4988').width('71.428571%')"
       ],
       "metadata": {},
       "output_type": "display_data",
       "text": [
        "<IPython.core.display.Javascript at 0x7fa7ae19a1d0>"
       ]
      },
      {
       "javascript": [
        "$('div#e97793a0-f63e-4abe-8ff5-41caa35a4988').width('85.714286%')"
       ],
       "metadata": {},
       "output_type": "display_data",
       "text": [
        "<IPython.core.display.Javascript at 0x7fa7ae19a210>"
       ]
      },
      {
       "javascript": [
        "$('div#e97793a0-f63e-4abe-8ff5-41caa35a4988').width('100.000000%')"
       ],
       "metadata": {},
       "output_type": "display_data",
       "text": [
        "<IPython.core.display.Javascript at 0x7fa7ae19a090>"
       ]
      },
      {
       "output_type": "stream",
       "stream": "stdout",
       "text": [
        "CPU times: user 1.66 s, sys: 179 ms, total: 1.84 s\n",
        "Wall time: 15.8 s\n",
        "Mean of g: Running mapper & aggregator on the result objects (number of results=200, chunk size=33)\n"
       ]
      },
      {
       "html": [
        "\n",
        "                          <div style=\"border: 1px solid black; width:500px\">\n",
        "                          <div id=\"246b6677-da77-4e43-b443-354921c5db59\" style=\"background-color:blue; width:0%\">&nbsp;</div>\n",
        "                          </div>\n",
        "                          "
       ],
       "metadata": {},
       "output_type": "display_data",
       "text": [
        "<IPython.core.display.HTML at 0x7fa7ae19a290>"
       ]
      },
      {
       "javascript": [
        "$('div#246b6677-da77-4e43-b443-354921c5db59').width('14.285714%')"
       ],
       "metadata": {},
       "output_type": "display_data",
       "text": [
        "<IPython.core.display.Javascript at 0x7fa7ae19a310>"
       ]
      },
      {
       "javascript": [
        "$('div#246b6677-da77-4e43-b443-354921c5db59').width('28.571429%')"
       ],
       "metadata": {},
       "output_type": "display_data",
       "text": [
        "<IPython.core.display.Javascript at 0x7fa7ae19a350>"
       ]
      },
      {
       "javascript": [
        "$('div#246b6677-da77-4e43-b443-354921c5db59').width('42.857143%')"
       ],
       "metadata": {},
       "output_type": "display_data",
       "text": [
        "<IPython.core.display.Javascript at 0x7fa7ae19a490>"
       ]
      },
      {
       "javascript": [
        "$('div#246b6677-da77-4e43-b443-354921c5db59').width('57.142857%')"
       ],
       "metadata": {},
       "output_type": "display_data",
       "text": [
        "<IPython.core.display.Javascript at 0x7fa7ae19a3d0>"
       ]
      },
      {
       "javascript": [
        "$('div#246b6677-da77-4e43-b443-354921c5db59').width('71.428571%')"
       ],
       "metadata": {},
       "output_type": "display_data",
       "text": [
        "<IPython.core.display.Javascript at 0x7fa7ae19a410>"
       ]
      },
      {
       "javascript": [
        "$('div#246b6677-da77-4e43-b443-354921c5db59').width('85.714286%')"
       ],
       "metadata": {},
       "output_type": "display_data",
       "text": [
        "<IPython.core.display.Javascript at 0x7fa7ae19a450>"
       ]
      },
      {
       "javascript": [
        "$('div#246b6677-da77-4e43-b443-354921c5db59').width('100.000000%')"
       ],
       "metadata": {},
       "output_type": "display_data",
       "text": [
        "<IPython.core.display.Javascript at 0x7fa7ae19a510>"
       ]
      },
      {
       "output_type": "stream",
       "stream": "stdout",
       "text": [
        "Running reducer on mapped and aggregated results (size=7)\n",
        "1000.0\n",
        "CPU times: user 166 ms, sys: 11.6 ms, total: 178 ms\n",
        "Wall time: 1.47 s\n"
       ]
      }
     ],
     "prompt_number": 8
    },
    {
     "cell_type": "code",
     "collapsed": false,
     "input": [
      "gde = DistributedEnsemble(model_class=SimpleDiffusion)\n",
      "%time gde.add_realizations(number_of_realizations=200, storage_mode='Persistent')\n",
      "%time print \"Mean of g:\", gde.mean(mapper=g)"
     ],
     "language": "python",
     "metadata": {},
     "outputs": [
      {
       "output_type": "stream",
       "stream": "stdout",
       "text": [
        "Generating 200 realizations of the model (chunk size=33)\n"
       ]
      },
      {
       "html": [
        "\n",
        "                          <div style=\"border: 1px solid black; width:500px\">\n",
        "                          <div id=\"b8d97dee-730a-4e84-9328-681d96acb0a4\" style=\"background-color:blue; width:0%\">&nbsp;</div>\n",
        "                          </div>\n",
        "                          "
       ],
       "metadata": {},
       "output_type": "display_data",
       "text": [
        "<IPython.core.display.HTML at 0x7fa7ae247950>"
       ]
      },
      {
       "javascript": [
        "$('div#b8d97dee-730a-4e84-9328-681d96acb0a4').width('14.285714%')"
       ],
       "metadata": {},
       "output_type": "display_data",
       "text": [
        "<IPython.core.display.Javascript at 0x7fa7ae247890>"
       ]
      },
      {
       "javascript": [
        "$('div#b8d97dee-730a-4e84-9328-681d96acb0a4').width('28.571429%')"
       ],
       "metadata": {},
       "output_type": "display_data",
       "text": [
        "<IPython.core.display.Javascript at 0x7fa7ae247b50>"
       ]
      },
      {
       "javascript": [
        "$('div#b8d97dee-730a-4e84-9328-681d96acb0a4').width('42.857143%')"
       ],
       "metadata": {},
       "output_type": "display_data",
       "text": [
        "<IPython.core.display.Javascript at 0x7fa7ae247ed0>"
       ]
      },
      {
       "javascript": [
        "$('div#b8d97dee-730a-4e84-9328-681d96acb0a4').width('57.142857%')"
       ],
       "metadata": {},
       "output_type": "display_data",
       "text": [
        "<IPython.core.display.Javascript at 0x7fa7ae247a10>"
       ]
      },
      {
       "javascript": [
        "$('div#b8d97dee-730a-4e84-9328-681d96acb0a4').width('71.428571%')"
       ],
       "metadata": {},
       "output_type": "display_data",
       "text": [
        "<IPython.core.display.Javascript at 0x7fa7ae247850>"
       ]
      },
      {
       "javascript": [
        "$('div#b8d97dee-730a-4e84-9328-681d96acb0a4').width('85.714286%')"
       ],
       "metadata": {},
       "output_type": "display_data",
       "text": [
        "<IPython.core.display.Javascript at 0x7fa7ae247b10>"
       ]
      },
      {
       "javascript": [
        "$('div#b8d97dee-730a-4e84-9328-681d96acb0a4').width('100.000000%')"
       ],
       "metadata": {},
       "output_type": "display_data",
       "text": [
        "<IPython.core.display.Javascript at 0x7fa7ae247e90>"
       ]
      },
      {
       "output_type": "stream",
       "stream": "stdout",
       "text": [
        "CPU times: user 2.02 s, sys: 172 ms, total: 2.19 s\n",
        "Wall time: 19.3 s\n",
        "Mean of g: Running mapper & aggregator on the result objects (number of results=200, chunk size=33)\n"
       ]
      },
      {
       "html": [
        "\n",
        "                          <div style=\"border: 1px solid black; width:500px\">\n",
        "                          <div id=\"58960903-ea4f-40f1-b54f-38b630b0e7ac\" style=\"background-color:blue; width:0%\">&nbsp;</div>\n",
        "                          </div>\n",
        "                          "
       ],
       "metadata": {},
       "output_type": "display_data",
       "text": [
        "<IPython.core.display.HTML at 0x7fa7ae19a650>"
       ]
      },
      {
       "javascript": [
        "$('div#58960903-ea4f-40f1-b54f-38b630b0e7ac').width('14.285714%')"
       ],
       "metadata": {},
       "output_type": "display_data",
       "text": [
        "<IPython.core.display.Javascript at 0x7fa7ae19a690>"
       ]
      },
      {
       "javascript": [
        "$('div#58960903-ea4f-40f1-b54f-38b630b0e7ac').width('28.571429%')"
       ],
       "metadata": {},
       "output_type": "display_data",
       "text": [
        "<IPython.core.display.Javascript at 0x7fa7ae19a810>"
       ]
      },
      {
       "javascript": [
        "$('div#58960903-ea4f-40f1-b54f-38b630b0e7ac').width('42.857143%')"
       ],
       "metadata": {},
       "output_type": "display_data",
       "text": [
        "<IPython.core.display.Javascript at 0x7fa7ae19a790>"
       ]
      },
      {
       "javascript": [
        "$('div#58960903-ea4f-40f1-b54f-38b630b0e7ac').width('57.142857%')"
       ],
       "metadata": {},
       "output_type": "display_data",
       "text": [
        "<IPython.core.display.Javascript at 0x7fa7ae19a750>"
       ]
      },
      {
       "javascript": [
        "$('div#58960903-ea4f-40f1-b54f-38b630b0e7ac').width('71.428571%')"
       ],
       "metadata": {},
       "output_type": "display_data",
       "text": [
        "<IPython.core.display.Javascript at 0x7fa7ae19a7d0>"
       ]
      },
      {
       "javascript": [
        "$('div#58960903-ea4f-40f1-b54f-38b630b0e7ac').width('85.714286%')"
       ],
       "metadata": {},
       "output_type": "display_data",
       "text": [
        "<IPython.core.display.Javascript at 0x7fa7ae19a610>"
       ]
      },
      {
       "javascript": [
        "$('div#58960903-ea4f-40f1-b54f-38b630b0e7ac').width('100.000000%')"
       ],
       "metadata": {},
       "output_type": "display_data",
       "text": [
        "<IPython.core.display.Javascript at 0x7fa7ae19a450>"
       ]
      },
      {
       "output_type": "stream",
       "stream": "stdout",
       "text": [
        "Running reducer on mapped and aggregated results (size=7)\n",
        "1000.0\n",
        "CPU times: user 267 ms, sys: 27.1 ms, total: 295 ms\n",
        "Wall time: 2.58 s\n"
       ]
      }
     ],
     "prompt_number": 9
    },
    {
     "cell_type": "markdown",
     "metadata": {},
     "source": [
      "---"
     ]
    },
    {
     "cell_type": "heading",
     "level": 1,
     "metadata": {},
     "source": [
      "Test Parameter Sweep"
     ]
    },
    {
     "cell_type": "code",
     "collapsed": false,
     "input": [
      "from molnsutil import ParameterSweep"
     ],
     "language": "python",
     "metadata": {},
     "outputs": [],
     "prompt_number": 9
    },
    {
     "cell_type": "code",
     "collapsed": false,
     "input": [
      "plist = [100,500,1000,5000]\n",
      "ps = ParameterSweep(model_class=SimpleDiffusion, parameters={'N':plist})\n",
      "%time psm = ps.mean(mapper=g, number_of_realizations=200)\n",
      "print psm"
     ],
     "language": "python",
     "metadata": {},
     "outputs": [
      {
       "output_type": "stream",
       "stream": "stdout",
       "text": [
        "Generating 200 realizations of the model at 4 parameter points (chunk size=134)\n"
       ]
      },
      {
       "html": [
        "\n",
        "                          <div style=\"border: 1px solid black; width:500px\">\n",
        "                          <div id=\"95b67305-a365-4edf-99df-ae3f0d6233a1\" style=\"background-color:blue; width:0%\">&nbsp;</div>\n",
        "                          </div>\n",
        "                          "
       ],
       "metadata": {},
       "output_type": "display_data",
       "text": [
        "<IPython.core.display.HTML at 0x7fa738bcdd90>"
       ]
      },
      {
       "javascript": [
        "$('div#95b67305-a365-4edf-99df-ae3f0d6233a1').width('12.500000%')"
       ],
       "metadata": {},
       "output_type": "display_data",
       "text": [
        "<IPython.core.display.Javascript at 0x7fa738bcdf90>"
       ]
      },
      {
       "javascript": [
        "$('div#95b67305-a365-4edf-99df-ae3f0d6233a1').width('25.000000%')"
       ],
       "metadata": {},
       "output_type": "display_data",
       "text": [
        "<IPython.core.display.Javascript at 0x7fa738bcdfd0>"
       ]
      },
      {
       "javascript": [
        "$('div#95b67305-a365-4edf-99df-ae3f0d6233a1').width('37.500000%')"
       ],
       "metadata": {},
       "output_type": "display_data",
       "text": [
        "<IPython.core.display.Javascript at 0x7fa738bcde90>"
       ]
      },
      {
       "javascript": [
        "$('div#95b67305-a365-4edf-99df-ae3f0d6233a1').width('50.000000%')"
       ],
       "metadata": {},
       "output_type": "display_data",
       "text": [
        "<IPython.core.display.Javascript at 0x7fa738bcd950>"
       ]
      },
      {
       "javascript": [
        "$('div#95b67305-a365-4edf-99df-ae3f0d6233a1').width('62.500000%')"
       ],
       "metadata": {},
       "output_type": "display_data",
       "text": [
        "<IPython.core.display.Javascript at 0x7fa738bcded0>"
       ]
      },
      {
       "javascript": [
        "$('div#95b67305-a365-4edf-99df-ae3f0d6233a1').width('75.000000%')"
       ],
       "metadata": {},
       "output_type": "display_data",
       "text": [
        "<IPython.core.display.Javascript at 0x7fa738bcdf50>"
       ]
      },
      {
       "javascript": [
        "$('div#95b67305-a365-4edf-99df-ae3f0d6233a1').width('87.500000%')"
       ],
       "metadata": {},
       "output_type": "display_data",
       "text": [
        "<IPython.core.display.Javascript at 0x7fa738b79050>"
       ]
      },
      {
       "javascript": [
        "$('div#95b67305-a365-4edf-99df-ae3f0d6233a1').width('100.000000%')"
       ],
       "metadata": {},
       "output_type": "display_data",
       "text": [
        "<IPython.core.display.Javascript at 0x7fa738bcdf50>"
       ]
      },
      {
       "output_type": "stream",
       "stream": "stdout",
       "text": [
        "Running mapper & aggregator on the result objects (number of results=800, chunk size=134)\n"
       ]
      },
      {
       "html": [
        "\n",
        "                          <div style=\"border: 1px solid black; width:500px\">\n",
        "                          <div id=\"9ebe8ef0-df03-409a-ad33-314f92d624a6\" style=\"background-color:blue; width:0%\">&nbsp;</div>\n",
        "                          </div>\n",
        "                          "
       ],
       "metadata": {},
       "output_type": "display_data",
       "text": [
        "<IPython.core.display.HTML at 0x7fa738bcd910>"
       ]
      },
      {
       "javascript": [
        "$('div#9ebe8ef0-df03-409a-ad33-314f92d624a6').width('12.500000%')"
       ],
       "metadata": {},
       "output_type": "display_data",
       "text": [
        "<IPython.core.display.Javascript at 0x7fa738bcdfd0>"
       ]
      },
      {
       "javascript": [
        "$('div#9ebe8ef0-df03-409a-ad33-314f92d624a6').width('25.000000%')"
       ],
       "metadata": {},
       "output_type": "display_data",
       "text": [
        "<IPython.core.display.Javascript at 0x7fa738bcdf10>"
       ]
      },
      {
       "javascript": [
        "$('div#9ebe8ef0-df03-409a-ad33-314f92d624a6').width('37.500000%')"
       ],
       "metadata": {},
       "output_type": "display_data",
       "text": [
        "<IPython.core.display.Javascript at 0x7fa738bcd950>"
       ]
      },
      {
       "javascript": [
        "$('div#9ebe8ef0-df03-409a-ad33-314f92d624a6').width('50.000000%')"
       ],
       "metadata": {},
       "output_type": "display_data",
       "text": [
        "<IPython.core.display.Javascript at 0x7fa738bcde90>"
       ]
      },
      {
       "javascript": [
        "$('div#9ebe8ef0-df03-409a-ad33-314f92d624a6').width('62.500000%')"
       ],
       "metadata": {},
       "output_type": "display_data",
       "text": [
        "<IPython.core.display.Javascript at 0x7fa738bcd790>"
       ]
      },
      {
       "javascript": [
        "$('div#9ebe8ef0-df03-409a-ad33-314f92d624a6').width('75.000000%')"
       ],
       "metadata": {},
       "output_type": "display_data",
       "text": [
        "<IPython.core.display.Javascript at 0x7fa738bcded0>"
       ]
      },
      {
       "javascript": [
        "$('div#9ebe8ef0-df03-409a-ad33-314f92d624a6').width('87.500000%')"
       ],
       "metadata": {},
       "output_type": "display_data",
       "text": [
        "<IPython.core.display.Javascript at 0x7fa738bcdf90>"
       ]
      },
      {
       "javascript": [
        "$('div#9ebe8ef0-df03-409a-ad33-314f92d624a6').width('100.000000%')"
       ],
       "metadata": {},
       "output_type": "display_data",
       "text": [
        "<IPython.core.display.Javascript at 0x7fa738bcd390>"
       ]
      },
      {
       "output_type": "stream",
       "stream": "stdout",
       "text": [
        "Running reducer on mapped and aggregated results (size=2)\n",
        "CPU times: user 7.81 s, sys: 763 ms, total: 8.57 s\n",
        "Wall time: 1min 17s\n",
        "[{'N': 100} => 100.0, {'N': 500} => 500.0, {'N': 1000} => 1000.0, {'N': 5000} => 5000.0]\n"
       ]
      }
     ],
     "prompt_number": 10
    },
    {
     "cell_type": "code",
     "collapsed": false,
     "input": [],
     "language": "python",
     "metadata": {},
     "outputs": [],
     "prompt_number": 11
    }
   ],
   "metadata": {}
  }
 ]
}