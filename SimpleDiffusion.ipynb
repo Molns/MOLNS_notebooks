{
 "metadata": {
  "kernelspec": {
   "codemirror_mode": {
    "name": "python",
    "version": 2
   },
   "display_name": "Python 2",
   "language": "python",
   "name": "python2"
  },
  "name": "",
  "signature": "sha256:b1c462e137d158b00f82f6ee728e1c541a6d2304f463ed803c864f0861b2fb2a"
 },
 "nbformat": 3,
 "nbformat_minor": 0,
 "worksheets": [
  {
   "cells": [
    {
     "cell_type": "code",
     "collapsed": false,
     "input": [
      "import pyurdme\n",
      "import dolfin\n",
      "import numpy\n",
      "\n",
      "class SimpleDiffusion(pyurdme.URDMEModel):\n",
      "    \"\"\" Initial condition is a delta function at the center voxel. \n",
      "        The solution should be close to a Gaussian in the large molecule number limit, \n",
      "        up to the point where the BC becomes important. \"\"\"\n",
      "\n",
      "    def __init__(self):\n",
      "    \n",
      "        pyurdme.URDMEModel.__init__(self,name=\"simple_diffusion\")\n",
      "\n",
      "        D = 0.01\n",
      "        A = pyurdme.Species(name=\"A\",diffusion_constant=D,dimension=2)\n",
      "        \n",
      "        self.add_species([A])\n",
      "\n",
      "        # A unit square\n",
      "        self.mesh = pyurdme.URDMEMesh.generate_unit_square_mesh(60,60)\n",
      "       # rect = mshr.Rectangle(dolfin.Point(numpy.array([0.0,0.0])),dolfin.Point(numpy.array([1.0,1.0])))\n",
      "        #self.mesh = pyurdme.URDMEMesh(mshr.generate_mesh(rect,40)) \n",
      "            \n",
      "        # Place the A molecules in the voxel nearest the center of the square\n",
      "        self.set_initial_condition_place_near({A:1000000},point=[0.5,0.5])\n",
      "\n",
      "        self.timespan(numpy.linspace(0,1,200))"
     ],
     "language": "python",
     "metadata": {},
     "outputs": []
    },
    {
     "cell_type": "code",
     "collapsed": false,
     "input": [
      "model = SimpleDiffusion()\n",
      "result = model.run()"
     ],
     "language": "python",
     "metadata": {},
     "outputs": []
    },
    {
     "cell_type": "code",
     "collapsed": false,
     "input": [
      "result.display(\"A\",50)"
     ],
     "language": "python",
     "metadata": {},
     "outputs": []
    }
   ],
   "metadata": {}
  }
 ]
}