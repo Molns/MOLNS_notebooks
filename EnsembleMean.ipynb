{
 "metadata": {
  "name": "",
  "signature": "sha256:132d0334763d887b1a29e6d94b52daf5bd6ba3e60fe7b3da152cc4e8468d7ac3"
 },
 "nbformat": 3,
 "nbformat_minor": 0,
 "worksheets": [
  {
   "cells": [
    {
     "cell_type": "markdown",
     "metadata": {},
     "source": [
      "This notebook shows how to generate ensembles of trajectories, and then in subsequent steps perform statistical analysis on the generated data, without moving data from the individual engines.  "
     ]
    },
    {
     "cell_type": "code",
     "collapsed": false,
     "input": [
      "import IPython.parallel\n",
      "import sys\n",
      "from pyurdme import pyurdme\n",
      "import time\n",
      "import pyurdme\n",
      "import numpy\n",
      "import math\n",
      "\n",
      "# This is to disable annoying messages from FeniCS/UFL/FFC\n",
      "import logging\n",
      "logging.disable(logging.DEBUG)\n",
      "\n",
      "rc = IPython.parallel.Client()\n",
      "# We have to use dill instead of pickle to serialize dynamically defined classes\n",
      "rc[:].use_dill()\n",
      "rv = rc.load_balanced_view()\n",
      "\n",
      "# We are going to need to know the ids of the engines at the engines later on\n",
      "dv = rc[:] \n",
      "dv.scatter('engine_id', rc.ids, flatten=True)"
     ],
     "language": "python",
     "metadata": {},
     "outputs": [
      {
       "metadata": {},
       "output_type": "pyout",
       "prompt_number": 79,
       "text": [
        "<AsyncResult: finished>"
       ]
      }
     ],
     "prompt_number": 79
    },
    {
     "cell_type": "code",
     "collapsed": false,
     "input": [
      "class SimpleDiffusion(pyurdme.URDMEModel):\n",
      "    \"\"\" This simple Hello World model consists of a single\n",
      "        species diffusing on a unit square. The initial \n",
      "        condition is a delta function on the voxel closest \n",
      "        to the center of the grid. \n",
      "    \"\"\"\n",
      "\n",
      "    def __init__(self):\n",
      "        \n",
      "        pyurdme.URDMEModel.__init__(self,name=\"simple_diffusion\")\n",
      "\n",
      "        A = pyurdme.Species(name=\"A\",diffusion_constant=0.01,dimension=2)\n",
      "\n",
      "        self.add_species([A])\n",
      "\n",
      "        # A unit square\n",
      "        self.mesh = pyurdme.URDMEMesh.generate_unit_square_mesh(40,40)\n",
      "                \n",
      "        # Place the A molecules in the voxel nearest the center of the square\n",
      "        self.set_initial_condition_place_near({A:10000},point=[0.5,0.5])\n",
      "\n",
      "        self.timespan(numpy.linspace(0,1,1000))"
     ],
     "language": "python",
     "metadata": {},
     "outputs": [],
     "prompt_number": 80
    },
    {
     "cell_type": "code",
     "collapsed": false,
     "input": [
      "@IPython.parallel.require(SimpleDiffusion,pyurdme)\n",
      "def run_ensemble(model,nt,s):\n",
      "    \"\"\" Generates an ensemble consisting of number_of_trajectories realizations. \n",
      "        Returns a list of result objects. \"\"\"    \n",
      "    \n",
      "    import pyurdme\n",
      "    from pyurdme.nsmsolver import NSMSolver\n",
      "    import sys\n",
      "    import uuid\n",
      "    \n",
      "    # Run the solver \n",
      "    solver = NSMSolver(model)\n",
      "    results = []\n",
      "    for i in range(nt):\n",
      "        results.append(solver.run(seed=s*engine_id*nt+i))\n",
      "    \n",
      "    # Write the result as a binary to disk on the engine and return a (engine_id, filename) tuple. \n",
      "    filenames = []\n",
      "    for r in results:\n",
      "        filename = str(uuid.uuid1())\n",
      "        with open(filename,'wb') as fh:\n",
      "            fh.write(dill.dumps(r))\n",
      "        filenames.append(filename)\n",
      "        \n",
      "    return engine_id, filenames    "
     ],
     "language": "python",
     "metadata": {},
     "outputs": [],
     "prompt_number": 90
    },
    {
     "cell_type": "code",
     "collapsed": false,
     "input": [
      "model = SimpleDiffusion()\n",
      "\n",
      "num_chunks = 100\n",
      "nt = 5\n",
      "results  = dv.map_async(run_ensemble,[model]*num_chunks,[nt]*num_chunks,range(num_chunks))\n",
      "results.wait()\n",
      "print results.wall_time"
     ],
     "language": "python",
     "metadata": {},
     "outputs": [
      {
       "output_type": "stream",
       "stream": "stdout",
       "text": [
        "38.046114\n"
       ]
      }
     ],
     "prompt_number": 91
    },
    {
     "cell_type": "code",
     "collapsed": false,
     "input": [
      "# Construct a new view to the engines that match the locations of the output files, so we can map on the results.\n",
      "view = []\n",
      "for r in results:\n",
      "    view.append(r[0])"
     ],
     "language": "python",
     "metadata": {},
     "outputs": [],
     "prompt_number": 92
    },
    {
     "cell_type": "code",
     "collapsed": false,
     "input": [
      "def postprocess(results):\n",
      "    \n",
      "    import dill\n",
      "    import numpy\n",
      "    import dolfin\n",
      "    \n",
      "    rr = []\n",
      "    filenames = results[1]\n",
      "    for filename in filenames:\n",
      "         with open(filename,'rb') as fh:\n",
      "            result = dill.loads(fh.read())\n",
      "         rr.append(result.get_species(\"A\",-1)[400]) \n",
      "    return rr   "
     ],
     "language": "python",
     "metadata": {},
     "outputs": [],
     "prompt_number": 93
    },
    {
     "cell_type": "code",
     "collapsed": false,
     "input": [
      "# Now map the postprocessing routine using the view that matches the file locations on the engines. \n",
      "pr = rc[view].map_async(postprocess,results)\n",
      "pr.wait()\n",
      "print numpy.mean(pr), \"+-\", 1.96*numpy.std(pr)/math.sqrt(nt*num_chunks)\n",
      "print \"Time to postprocess:\",pr.wall_time"
     ],
     "language": "python",
     "metadata": {},
     "outputs": [
      {
       "output_type": "stream",
       "stream": "stdout",
       "text": [
        "1.25185185185 +- 0.10917694245\n",
        "Time to postprocess: 2.220895\n"
       ]
      }
     ],
     "prompt_number": 94
    },
    {
     "cell_type": "code",
     "collapsed": false,
     "input": [
      "# Clean up on the engines\n",
      "def cleanup(results):\n",
      "    import os\n",
      "    filenames = results[1]\n",
      "    for filename in filenames:\n",
      "        os.remove(filename)\n",
      "    \n",
      "res = rc[view].map(cleanup, results)\n",
      "res.wait()\n",
      "print \"Time to delete all the results on the engines:\", res.wall_time"
     ],
     "language": "python",
     "metadata": {},
     "outputs": [
      {
       "output_type": "stream",
       "stream": "stdout",
       "text": [
        "Time to delete all the results on the engines: 0.219377\n"
       ]
      }
     ],
     "prompt_number": 95
    }
   ],
   "metadata": {}
  }
 ]
}